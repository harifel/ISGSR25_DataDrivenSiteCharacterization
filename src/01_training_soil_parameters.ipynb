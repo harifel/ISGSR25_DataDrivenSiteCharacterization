{
 "cells": [
  {
   "cell_type": "code",
   "execution_count": 227,
   "id": "a5eb73a0-65aa-4212-bdb2-e36662cd5cbe",
   "metadata": {},
   "outputs": [],
   "source": [
    "#Import packages\n",
    "import pandas as pd\n",
    "import numpy as np\n",
    "import glob\n",
    "\n",
    "from functions import plotting_raw_data, remove_outliers, error_plot, plot_cpt_data, plot_cpt_data_ML_prediction, plot_cpt_data_NW_site\n",
    "\n",
    "import matplotlib.pyplot as plt\n",
    "from sklearn.model_selection import train_test_split\n",
    "from sklearn.metrics import r2_score, mean_squared_error\n",
    "from sklearn.model_selection import cross_val_score\n",
    "from sklearn.model_selection import train_test_split\n",
    "from sklearn.model_selection import RepeatedKFold\n",
    "from sklearn.metrics import r2_score\n",
    "import xgboost as xgb\n",
    "\n",
    "import optuna\n",
    "from optuna.samplers import TPESampler\n",
    "from optuna.visualization import plot_param_importances, plot_optimization_history"
   ]
  },
  {
   "cell_type": "code",
   "execution_count": 228,
   "id": "bd41e89e-74ac-41a5-94e1-1a64f2c713e4",
   "metadata": {},
   "outputs": [],
   "source": [
    "######################## Define the text size of each plot globally ###########\n",
    "SMALL_SIZE = 10\n",
    "BIGGER_SIZE = 10\n",
    "\n",
    "plt.rc('font', size=SMALL_SIZE)          # controls default text sizes\n",
    "plt.rc('axes', titlesize=SMALL_SIZE)     # fontsize of the axes title\n",
    "plt.rc('axes', labelsize=SMALL_SIZE)    # fontsize of the x and y labels\n",
    "plt.rc('xtick', labelsize=SMALL_SIZE)    # fontsize of the tick labels\n",
    "plt.rc('ytick', labelsize=SMALL_SIZE)    # fontsize of the tick labels\n",
    "plt.rc('legend', fontsize=SMALL_SIZE)    # legend fontsize\n",
    "plt.rc('figure', titlesize=BIGGER_SIZE)  # fontsize of the figure title\n",
    "\n",
    "plt.rcParams[\"font.family\"] = \"Times New Roman\"\n",
    "cm = 1/2.54  # centimeters in inches"
   ]
  },
  {
   "cell_type": "code",
   "execution_count": 229,
   "id": "583fdc51",
   "metadata": {},
   "outputs": [
    {
     "data": {
      "text/html": [
       "<div>\n",
       "<style scoped>\n",
       "    .dataframe tbody tr th:only-of-type {\n",
       "        vertical-align: middle;\n",
       "    }\n",
       "\n",
       "    .dataframe tbody tr th {\n",
       "        vertical-align: top;\n",
       "    }\n",
       "\n",
       "    .dataframe thead th {\n",
       "        text-align: right;\n",
       "    }\n",
       "</style>\n",
       "<table border=\"1\" class=\"dataframe\">\n",
       "  <thead>\n",
       "    <tr style=\"text-align: right;\">\n",
       "      <th></th>\n",
       "      <th>Depth (m)</th>\n",
       "      <th>qc (MPa)</th>\n",
       "      <th>fs (kPa)</th>\n",
       "      <th>Rf (%)</th>\n",
       "      <th>u2 (kPa)</th>\n",
       "      <th>gamma (kN/m3)</th>\n",
       "      <th>M (MN/m2)</th>\n",
       "      <th>OCR (-)</th>\n",
       "      <th>su (kPa)</th>\n",
       "      <th>sampling_name(-)</th>\n",
       "    </tr>\n",
       "  </thead>\n",
       "  <tbody>\n",
       "    <tr>\n",
       "      <th>0</th>\n",
       "      <td>0.79</td>\n",
       "      <td>0.153000</td>\n",
       "      <td>5.333333</td>\n",
       "      <td>3.485839</td>\n",
       "      <td>14.888889</td>\n",
       "      <td>16.410000</td>\n",
       "      <td>1.554000</td>\n",
       "      <td>4.123596</td>\n",
       "      <td>NaN</td>\n",
       "      <td>Ballina_Inclo 2</td>\n",
       "    </tr>\n",
       "    <tr>\n",
       "      <th>1</th>\n",
       "      <td>1.76</td>\n",
       "      <td>0.158000</td>\n",
       "      <td>8.111111</td>\n",
       "      <td>5.133615</td>\n",
       "      <td>45.777778</td>\n",
       "      <td>16.240000</td>\n",
       "      <td>NaN</td>\n",
       "      <td>NaN</td>\n",
       "      <td>9.4</td>\n",
       "      <td>Ballina_Inclo 2</td>\n",
       "    </tr>\n",
       "    <tr>\n",
       "      <th>2</th>\n",
       "      <td>1.86</td>\n",
       "      <td>0.159222</td>\n",
       "      <td>7.444444</td>\n",
       "      <td>4.675506</td>\n",
       "      <td>56.444444</td>\n",
       "      <td>16.420000</td>\n",
       "      <td>2.843000</td>\n",
       "      <td>3.264286</td>\n",
       "      <td>NaN</td>\n",
       "      <td>Ballina_Inclo 2</td>\n",
       "    </tr>\n",
       "    <tr>\n",
       "      <th>3</th>\n",
       "      <td>1.96</td>\n",
       "      <td>0.149333</td>\n",
       "      <td>7.111111</td>\n",
       "      <td>4.761905</td>\n",
       "      <td>82.222222</td>\n",
       "      <td>16.150000</td>\n",
       "      <td>NaN</td>\n",
       "      <td>NaN</td>\n",
       "      <td>12.3</td>\n",
       "      <td>Ballina_Inclo 2</td>\n",
       "    </tr>\n",
       "    <tr>\n",
       "      <th>4</th>\n",
       "      <td>2.27</td>\n",
       "      <td>0.176000</td>\n",
       "      <td>7.000000</td>\n",
       "      <td>3.977273</td>\n",
       "      <td>101.444444</td>\n",
       "      <td>15.800000</td>\n",
       "      <td>1.303000</td>\n",
       "      <td>2.182143</td>\n",
       "      <td>NaN</td>\n",
       "      <td>Ballina_Inclo 2</td>\n",
       "    </tr>\n",
       "    <tr>\n",
       "      <th>...</th>\n",
       "      <td>...</td>\n",
       "      <td>...</td>\n",
       "      <td>...</td>\n",
       "      <td>...</td>\n",
       "      <td>...</td>\n",
       "      <td>...</td>\n",
       "      <td>...</td>\n",
       "      <td>...</td>\n",
       "      <td>...</td>\n",
       "      <td>...</td>\n",
       "    </tr>\n",
       "    <tr>\n",
       "      <th>378</th>\n",
       "      <td>12.90</td>\n",
       "      <td>0.690000</td>\n",
       "      <td>9.500000</td>\n",
       "      <td>1.376812</td>\n",
       "      <td>372.500000</td>\n",
       "      <td>17.576633</td>\n",
       "      <td>3.342717</td>\n",
       "      <td>1.013250</td>\n",
       "      <td>NaN</td>\n",
       "      <td>PITS_Rhesi_KB02</td>\n",
       "    </tr>\n",
       "    <tr>\n",
       "      <th>379</th>\n",
       "      <td>12.90</td>\n",
       "      <td>0.690000</td>\n",
       "      <td>9.500000</td>\n",
       "      <td>1.376812</td>\n",
       "      <td>372.500000</td>\n",
       "      <td>17.924784</td>\n",
       "      <td>NaN</td>\n",
       "      <td>NaN</td>\n",
       "      <td>NaN</td>\n",
       "      <td>PITS_Rhesi_KB02</td>\n",
       "    </tr>\n",
       "    <tr>\n",
       "      <th>380</th>\n",
       "      <td>12.90</td>\n",
       "      <td>0.690000</td>\n",
       "      <td>9.500000</td>\n",
       "      <td>1.376812</td>\n",
       "      <td>372.500000</td>\n",
       "      <td>17.924784</td>\n",
       "      <td>4.504654</td>\n",
       "      <td>1.208106</td>\n",
       "      <td>NaN</td>\n",
       "      <td>PITS_Rhesi_KB02</td>\n",
       "    </tr>\n",
       "    <tr>\n",
       "      <th>381</th>\n",
       "      <td>4.80</td>\n",
       "      <td>0.480000</td>\n",
       "      <td>8.800000</td>\n",
       "      <td>1.833333</td>\n",
       "      <td>310.500000</td>\n",
       "      <td>17.924784</td>\n",
       "      <td>0.902065</td>\n",
       "      <td>NaN</td>\n",
       "      <td>NaN</td>\n",
       "      <td>PITS_Seekirchen_BS01</td>\n",
       "    </tr>\n",
       "    <tr>\n",
       "      <th>382</th>\n",
       "      <td>4.80</td>\n",
       "      <td>0.480000</td>\n",
       "      <td>8.800000</td>\n",
       "      <td>1.833333</td>\n",
       "      <td>310.500000</td>\n",
       "      <td>17.800000</td>\n",
       "      <td>NaN</td>\n",
       "      <td>NaN</td>\n",
       "      <td>NaN</td>\n",
       "      <td>PITS_Seekirchen_BS01</td>\n",
       "    </tr>\n",
       "  </tbody>\n",
       "</table>\n",
       "<p>383 rows × 10 columns</p>\n",
       "</div>"
      ],
      "text/plain": [
       "     Depth (m)  qc (MPa)  fs (kPa)    Rf (%)    u2 (kPa)  gamma (kN/m3)  \\\n",
       "0         0.79  0.153000  5.333333  3.485839   14.888889      16.410000   \n",
       "1         1.76  0.158000  8.111111  5.133615   45.777778      16.240000   \n",
       "2         1.86  0.159222  7.444444  4.675506   56.444444      16.420000   \n",
       "3         1.96  0.149333  7.111111  4.761905   82.222222      16.150000   \n",
       "4         2.27  0.176000  7.000000  3.977273  101.444444      15.800000   \n",
       "..         ...       ...       ...       ...         ...            ...   \n",
       "378      12.90  0.690000  9.500000  1.376812  372.500000      17.576633   \n",
       "379      12.90  0.690000  9.500000  1.376812  372.500000      17.924784   \n",
       "380      12.90  0.690000  9.500000  1.376812  372.500000      17.924784   \n",
       "381       4.80  0.480000  8.800000  1.833333  310.500000      17.924784   \n",
       "382       4.80  0.480000  8.800000  1.833333  310.500000      17.800000   \n",
       "\n",
       "     M (MN/m2)   OCR (-)  su (kPa)      sampling_name(-)  \n",
       "0     1.554000  4.123596       NaN       Ballina_Inclo 2  \n",
       "1          NaN       NaN       9.4       Ballina_Inclo 2  \n",
       "2     2.843000  3.264286       NaN       Ballina_Inclo 2  \n",
       "3          NaN       NaN      12.3       Ballina_Inclo 2  \n",
       "4     1.303000  2.182143       NaN       Ballina_Inclo 2  \n",
       "..         ...       ...       ...                   ...  \n",
       "378   3.342717  1.013250       NaN       PITS_Rhesi_KB02  \n",
       "379        NaN       NaN       NaN       PITS_Rhesi_KB02  \n",
       "380   4.504654  1.208106       NaN       PITS_Rhesi_KB02  \n",
       "381   0.902065       NaN       NaN  PITS_Seekirchen_BS01  \n",
       "382        NaN       NaN       NaN  PITS_Seekirchen_BS01  \n",
       "\n",
       "[383 rows x 10 columns]"
      ]
     },
     "execution_count": 229,
     "metadata": {},
     "output_type": "execute_result"
    }
   ],
   "source": [
    "data_ML = pd.read_csv('..\\data\\database_preprocessed.csv')\n",
    "data_ML"
   ]
  },
  {
   "cell_type": "code",
   "execution_count": 230,
   "id": "5a040bcd",
   "metadata": {},
   "outputs": [
    {
     "name": "stdout",
     "output_type": "stream",
     "text": [
      "gamma (kN/m3) is selected to predict, $\\gamma$ (kN/m$^3$) is plotted, ..\\graphics\\\\1_gamma_prediction.png is saved, (13, 22) is the axis limit, 376 is the length of the data\n"
     ]
    }
   ],
   "source": [
    "prefix = r'..\\graphics\\\\'\n",
    "investigated_column =  ['gamma (kN/m3)', 'su (kPa)', 'M (MN/m2)', 'OCR (-)']\n",
    "investigated_column_plot =  ['$\\gamma$ (kN/m$^3$)', '$s_u$ (kPa)', 'M (MN/m$^2$)', 'OCR (-)']\n",
    "save_paths = [prefix + '1_gamma_prediction.png', prefix + '2_su_prediction.png', prefix + '3_M_prediction.png']\n",
    "axis_limit = [(13, 22), (0, 200), (0, 20), (0,20)]\n",
    "\n",
    "j = 0\n",
    "investigated_column_plot = investigated_column_plot[j]\n",
    "investigated_column = investigated_column[j]\n",
    "save_path = save_paths[j]\n",
    "\n",
    "data_ML = data_ML.dropna(subset=[investigated_column])\n",
    "print(f\"{investigated_column} is selected to predict, {investigated_column_plot} is plotted, {save_path} is saved, {axis_limit[j]} is the axis limit, {len(data_ML)} is the length of the data\")\n",
    "\n",
    "columns_x = ['Depth (m)','qc (MPa)', 'fs (kPa)','Rf (%)'] #for Machine learning features\n",
    "plot_columns_x_label = ['Depth (m)','$q_c$ (MPa)', '$f_s$ (kPa)','$R_f$ (%)'] #for plotting purpose\n",
    "\n",
    "X = data_ML.loc[:,columns_x]\n",
    "y = data_ML[investigated_column]\n",
    "\n",
    "X_train, X_test, y_train, y_test = train_test_split(X, y, test_size=0.20, random_state=42)"
   ]
  },
  {
   "cell_type": "code",
   "execution_count": 231,
   "id": "bcd50316",
   "metadata": {},
   "outputs": [
    {
     "data": {
      "text/html": [
       "<div>\n",
       "<style scoped>\n",
       "    .dataframe tbody tr th:only-of-type {\n",
       "        vertical-align: middle;\n",
       "    }\n",
       "\n",
       "    .dataframe tbody tr th {\n",
       "        vertical-align: top;\n",
       "    }\n",
       "\n",
       "    .dataframe thead th {\n",
       "        text-align: right;\n",
       "    }\n",
       "</style>\n",
       "<table border=\"1\" class=\"dataframe\">\n",
       "  <thead>\n",
       "    <tr style=\"text-align: right;\">\n",
       "      <th></th>\n",
       "      <th>Depth (m)</th>\n",
       "      <th>qc (MPa)</th>\n",
       "      <th>fs (kPa)</th>\n",
       "      <th>Rf (%)</th>\n",
       "      <th>u2 (kPa)</th>\n",
       "      <th>gamma (kN/m3)</th>\n",
       "      <th>M (MN/m2)</th>\n",
       "      <th>OCR (-)</th>\n",
       "      <th>su (kPa)</th>\n",
       "      <th>sampling_name(-)</th>\n",
       "    </tr>\n",
       "  </thead>\n",
       "  <tbody>\n",
       "    <tr>\n",
       "      <th>0</th>\n",
       "      <td>0.79</td>\n",
       "      <td>0.153000</td>\n",
       "      <td>5.333333</td>\n",
       "      <td>3.485839</td>\n",
       "      <td>14.888889</td>\n",
       "      <td>16.410000</td>\n",
       "      <td>1.554000</td>\n",
       "      <td>4.123596</td>\n",
       "      <td>NaN</td>\n",
       "      <td>Ballina_Inclo 2</td>\n",
       "    </tr>\n",
       "    <tr>\n",
       "      <th>1</th>\n",
       "      <td>1.76</td>\n",
       "      <td>0.158000</td>\n",
       "      <td>8.111111</td>\n",
       "      <td>5.133615</td>\n",
       "      <td>45.777778</td>\n",
       "      <td>16.240000</td>\n",
       "      <td>NaN</td>\n",
       "      <td>NaN</td>\n",
       "      <td>9.4</td>\n",
       "      <td>Ballina_Inclo 2</td>\n",
       "    </tr>\n",
       "    <tr>\n",
       "      <th>2</th>\n",
       "      <td>1.86</td>\n",
       "      <td>0.159222</td>\n",
       "      <td>7.444444</td>\n",
       "      <td>4.675506</td>\n",
       "      <td>56.444444</td>\n",
       "      <td>16.420000</td>\n",
       "      <td>2.843000</td>\n",
       "      <td>3.264286</td>\n",
       "      <td>NaN</td>\n",
       "      <td>Ballina_Inclo 2</td>\n",
       "    </tr>\n",
       "    <tr>\n",
       "      <th>3</th>\n",
       "      <td>1.96</td>\n",
       "      <td>0.149333</td>\n",
       "      <td>7.111111</td>\n",
       "      <td>4.761905</td>\n",
       "      <td>82.222222</td>\n",
       "      <td>16.150000</td>\n",
       "      <td>NaN</td>\n",
       "      <td>NaN</td>\n",
       "      <td>12.3</td>\n",
       "      <td>Ballina_Inclo 2</td>\n",
       "    </tr>\n",
       "    <tr>\n",
       "      <th>4</th>\n",
       "      <td>2.27</td>\n",
       "      <td>0.176000</td>\n",
       "      <td>7.000000</td>\n",
       "      <td>3.977273</td>\n",
       "      <td>101.444444</td>\n",
       "      <td>15.800000</td>\n",
       "      <td>1.303000</td>\n",
       "      <td>2.182143</td>\n",
       "      <td>NaN</td>\n",
       "      <td>Ballina_Inclo 2</td>\n",
       "    </tr>\n",
       "    <tr>\n",
       "      <th>...</th>\n",
       "      <td>...</td>\n",
       "      <td>...</td>\n",
       "      <td>...</td>\n",
       "      <td>...</td>\n",
       "      <td>...</td>\n",
       "      <td>...</td>\n",
       "      <td>...</td>\n",
       "      <td>...</td>\n",
       "      <td>...</td>\n",
       "      <td>...</td>\n",
       "    </tr>\n",
       "    <tr>\n",
       "      <th>378</th>\n",
       "      <td>12.90</td>\n",
       "      <td>0.690000</td>\n",
       "      <td>9.500000</td>\n",
       "      <td>1.376812</td>\n",
       "      <td>372.500000</td>\n",
       "      <td>17.576633</td>\n",
       "      <td>3.342717</td>\n",
       "      <td>1.013250</td>\n",
       "      <td>NaN</td>\n",
       "      <td>PITS_Rhesi_KB02</td>\n",
       "    </tr>\n",
       "    <tr>\n",
       "      <th>379</th>\n",
       "      <td>12.90</td>\n",
       "      <td>0.690000</td>\n",
       "      <td>9.500000</td>\n",
       "      <td>1.376812</td>\n",
       "      <td>372.500000</td>\n",
       "      <td>17.924784</td>\n",
       "      <td>NaN</td>\n",
       "      <td>NaN</td>\n",
       "      <td>NaN</td>\n",
       "      <td>PITS_Rhesi_KB02</td>\n",
       "    </tr>\n",
       "    <tr>\n",
       "      <th>380</th>\n",
       "      <td>12.90</td>\n",
       "      <td>0.690000</td>\n",
       "      <td>9.500000</td>\n",
       "      <td>1.376812</td>\n",
       "      <td>372.500000</td>\n",
       "      <td>17.924784</td>\n",
       "      <td>4.504654</td>\n",
       "      <td>1.208106</td>\n",
       "      <td>NaN</td>\n",
       "      <td>PITS_Rhesi_KB02</td>\n",
       "    </tr>\n",
       "    <tr>\n",
       "      <th>381</th>\n",
       "      <td>4.80</td>\n",
       "      <td>0.480000</td>\n",
       "      <td>8.800000</td>\n",
       "      <td>1.833333</td>\n",
       "      <td>310.500000</td>\n",
       "      <td>17.924784</td>\n",
       "      <td>0.902065</td>\n",
       "      <td>NaN</td>\n",
       "      <td>NaN</td>\n",
       "      <td>PITS_Seekirchen_BS01</td>\n",
       "    </tr>\n",
       "    <tr>\n",
       "      <th>382</th>\n",
       "      <td>4.80</td>\n",
       "      <td>0.480000</td>\n",
       "      <td>8.800000</td>\n",
       "      <td>1.833333</td>\n",
       "      <td>310.500000</td>\n",
       "      <td>17.800000</td>\n",
       "      <td>NaN</td>\n",
       "      <td>NaN</td>\n",
       "      <td>NaN</td>\n",
       "      <td>PITS_Seekirchen_BS01</td>\n",
       "    </tr>\n",
       "  </tbody>\n",
       "</table>\n",
       "<p>376 rows × 10 columns</p>\n",
       "</div>"
      ],
      "text/plain": [
       "     Depth (m)  qc (MPa)  fs (kPa)    Rf (%)    u2 (kPa)  gamma (kN/m3)  \\\n",
       "0         0.79  0.153000  5.333333  3.485839   14.888889      16.410000   \n",
       "1         1.76  0.158000  8.111111  5.133615   45.777778      16.240000   \n",
       "2         1.86  0.159222  7.444444  4.675506   56.444444      16.420000   \n",
       "3         1.96  0.149333  7.111111  4.761905   82.222222      16.150000   \n",
       "4         2.27  0.176000  7.000000  3.977273  101.444444      15.800000   \n",
       "..         ...       ...       ...       ...         ...            ...   \n",
       "378      12.90  0.690000  9.500000  1.376812  372.500000      17.576633   \n",
       "379      12.90  0.690000  9.500000  1.376812  372.500000      17.924784   \n",
       "380      12.90  0.690000  9.500000  1.376812  372.500000      17.924784   \n",
       "381       4.80  0.480000  8.800000  1.833333  310.500000      17.924784   \n",
       "382       4.80  0.480000  8.800000  1.833333  310.500000      17.800000   \n",
       "\n",
       "     M (MN/m2)   OCR (-)  su (kPa)      sampling_name(-)  \n",
       "0     1.554000  4.123596       NaN       Ballina_Inclo 2  \n",
       "1          NaN       NaN       9.4       Ballina_Inclo 2  \n",
       "2     2.843000  3.264286       NaN       Ballina_Inclo 2  \n",
       "3          NaN       NaN      12.3       Ballina_Inclo 2  \n",
       "4     1.303000  2.182143       NaN       Ballina_Inclo 2  \n",
       "..         ...       ...       ...                   ...  \n",
       "378   3.342717  1.013250       NaN       PITS_Rhesi_KB02  \n",
       "379        NaN       NaN       NaN       PITS_Rhesi_KB02  \n",
       "380   4.504654  1.208106       NaN       PITS_Rhesi_KB02  \n",
       "381   0.902065       NaN       NaN  PITS_Seekirchen_BS01  \n",
       "382        NaN       NaN       NaN  PITS_Seekirchen_BS01  \n",
       "\n",
       "[376 rows x 10 columns]"
      ]
     },
     "execution_count": 231,
     "metadata": {},
     "output_type": "execute_result"
    }
   ],
   "source": [
    "data_ML"
   ]
  },
  {
   "cell_type": "code",
   "execution_count": 244,
   "id": "cc344cd5",
   "metadata": {},
   "outputs": [
    {
     "data": {
      "image/png": "[encoded data removed]",
      "text/plain": [
       "<Figure size 1017.06x1574.8 with 4 Axes>"
      ]
     },
     "metadata": {},
     "output_type": "display_data"
    }
   ],
   "source": [
    "# Plotting training data \n",
    "s = 1  # Adjust the marker size as needed\n",
    "color = 'k'  # Adjust the marker color as needed\n",
    "alpha = 0.5\n",
    "\n",
    "columns_x.append(investigated_column_plot)\n",
    "\n",
    "#Plot scatter points: raw data points as\n",
    "fig, axes = plt.subplots(4, 1, figsize=(15.5/3*cm, 8*cm), dpi=500, sharex=True)\n",
    "plotting_raw_data(X,y, alpha, s, color, True, axes, columns_x, 'Raw data', False)\n",
    "\n",
    "#plotting_raw_data(X,y, alpha, s, 'r', 'Removed outliers', False, axes, plot_columns_x_label)\n",
    "# Adjust layout to prevent overlapping\n",
    "fig.text(0.01, 0.02, rf'{len(data_ML)} datapoints', ha='left', va='center', fontsize=10, color='black', alpha=0.5)\n",
    "plt.subplots_adjust(left=0.25, right=0.99, top=0.97, bottom=0.15, wspace=0.15, hspace=0.2)\n",
    "plt.savefig(f\"{prefix}{j+1}_raw_data.png\", dpi = 1000)"
   ]
  },
  {
   "cell_type": "code",
   "execution_count": 233,
   "id": "f0452315",
   "metadata": {},
   "outputs": [],
   "source": [
    "# # Plotting training data\n",
    "# s = 1  # Adjust the marker size as needed\n",
    "# color = 'k'  # Adjust the marker color as needed\n",
    "# alpha = 0.5\n",
    "\n",
    "# columns_x.append(investigated_column)\n",
    "\n",
    "# # Plot scatter points: raw data points\n",
    "# fig, axes = plt.subplots(4, 1, figsize=(20*cm, 20*cm), dpi=500, sharex=True)\n",
    "# plotting_raw_data(X, y, alpha, s, color, True, axes, columns_x, 'Raw data', False)\n",
    "\n",
    "# xlim, ylim = axis_limit[j][0], axis_limit[j][1]\n",
    "\n",
    "# # Set ticks for each subplot\n",
    "# for ax in axes:\n",
    "#     ax.set_xticks(np.arange(xlim, ylim + 0.001, (ylim - xlim) / 4))\n",
    "\n",
    "# # Set sampling_name as the index and create separate DataFrames for each unique sampling_name\n",
    "# grouped_dfs = {name: group.set_index('sampling_name(-)') for name, group in data_ML.groupby('sampling_name(-)')}\n",
    "\n",
    "# color_list = ['b', 'r', 'm', 'green', 'brown', 'orange', 'brown', 'pink', 'grey', 'cyan']\n",
    "# k = 0\n",
    "# m = 0 \n",
    "# print(len(grouped_dfs.keys()))\n",
    "\n",
    "\n",
    "# # Iterate over each DataFrame for unique sampling names\n",
    "# for sampling_name in grouped_dfs.keys():\n",
    "#     df = grouped_dfs[sampling_name]\n",
    "#     with open(f\"{prefix}{j+1}_sampling_name.txt\", \"a\") as f:\n",
    "#         f.write(f\"Sampling name: {sampling_name}, Number of data points: {len(df)}\\n\")\n",
    "#     X1 = df.loc[:, columns_x]\n",
    "#     y1 = df[investigated_column]\n",
    "#     plotting_raw_data(X1, y1, alpha, 5, color_list[k], False, axes, columns_x, sampling_name, False)\n",
    "#     m += 1  \n",
    "#     if m == 3:\n",
    "#         k = 1\n",
    "#     elif m == 24:\n",
    "#         k = 2\n",
    "#     elif m == 27:\n",
    "#         k = 3\n",
    "#     elif m == 32:\n",
    "#         k = 4\n",
    "#     elif m == 35:\n",
    "#         k = 5\n",
    "#     elif m == 42:\n",
    "#         k = 6\n",
    "\n",
    "\n",
    "# # Add legend to the top of the first subplot with high zorder\n",
    "# legend = axes[-1].legend(loc='upper center', bbox_to_anchor=(0.8, 4.5))\n",
    "\n",
    "# # Add text and adjust layout\n",
    "# fig.text(0.02, 0.02, rf'{len(data_ML)} datapoints', ha='left', va='center', fontsize=10, color='black', alpha=0.5)\n",
    "# plt.subplots_adjust(left=0.20, right=0.93, top=0.97, bottom=0.15, wspace=0.15, hspace=0.2)\n",
    "# plt.savefig(f\"{prefix}{j+1}_raw_data.png\", dpi=1000)"
   ]
  },
  {
   "cell_type": "code",
   "execution_count": 234,
   "id": "39fe2002",
   "metadata": {},
   "outputs": [],
   "source": [
    "RS = 44  # random state\n",
    "N_JOBS = -1  # number of parallel threads\n",
    "\n",
    "# repeated K-folds\n",
    "N_SPLITS = 10\n",
    "N_REPEATS = 1\n",
    "\n",
    "# Optuna\n",
    "N_TRIALS = 200\n",
    "\n",
    "# XGBoost\n",
    "EARLY_STOPPING_ROUNDS = 10"
   ]
  },
  {
   "cell_type": "code",
   "execution_count": 235,
   "id": "f4f80d3a",
   "metadata": {},
   "outputs": [
    {
     "name": "stderr",
     "output_type": "stream",
     "text": [
      "[I 2024-10-31 09:12:20,141] A new study created in memory with name: no-name-53129a1c-c81d-44a9-a5cc-7949acf600c4\n",
      "[I 2024-10-31 09:12:21,825] Trial 7 finished with value: 0.8534677964596487 and parameters: {'n_estimators': 54, 'learning_rate': 0.19612323784202285, 'max_depth': 4, 'subsample': 0.7367568676340062}. Best is trial 7 with value: 0.8534677964596487.\n",
      "[I 2024-10-31 09:12:21,985] Trial 1 finished with value: 0.8242975733760906 and parameters: {'n_estimators': 55, 'learning_rate': 0.30677683543879036, 'max_depth': 7, 'subsample': 0.11908664515768926}. Best is trial 7 with value: 0.8534677964596487.\n",
      "[I 2024-10-31 09:12:22,085] Trial 4 finished with value: 0.807124719666092 and parameters: {'n_estimators': 58, 'learning_rate': 0.07447273540462215, 'max_depth': 3, 'subsample': 0.095604075843927}. Best is trial 7 with value: 0.8534677964596487.\n",
      "[I 2024-10-31 09:12:22,218] Trial 2 finished with value: 0.840195768196056 and parameters: {'n_estimators': 58, 'learning_rate': 0.15279285031767634, 'max_depth': 6, 'subsample': 0.17284654320041662}. Best is trial 7 with value: 0.8534677964596487.\n",
      "[I 2024-10-31 09:12:22,842] Trial 5 finished with value: 0.8541110727196956 and parameters: {'n_estimators': 54, 'learning_rate': 0.06857013848239346, 'max_depth': 6, 'subsample': 0.5913396719781485}. Best is trial 5 with value: 0.8541110727196956.\n",
      "[I 2024-10-31 09:12:22,927] Trial 0 finished with value: 0.8501861410626503 and parameters: {'n_estimators': 110, 'learning_rate': 0.11901232864042106, 'max_depth': 8, 'subsample': 0.3575379927280367}. Best is trial 5 with value: 0.8541110727196956.\n",
      "[I 2024-10-31 09:12:23,415] Trial 6 finished with value: 0.8553221556113496 and parameters: {'n_estimators': 102, 'learning_rate': 0.06138426143490178, 'max_depth': 5, 'subsample': 0.3961511467332886}. Best is trial 6 with value: 0.8553221556113496.\n",
      "[I 2024-10-31 09:12:23,758] Trial 9 finished with value: 0.8326681033567883 and parameters: {'n_estimators': 100, 'learning_rate': 0.07026856760441552, 'max_depth': 3, 'subsample': 0.18914266319568546}. Best is trial 6 with value: 0.8553221556113496.\n",
      "[I 2024-10-31 09:12:24,093] Trial 11 finished with value: 0.79042071576268 and parameters: {'n_estimators': 64, 'learning_rate': 0.06284439215197757, 'max_depth': 4, 'subsample': 0.06041627048738434}. Best is trial 6 with value: 0.8553221556113496.\n",
      "[I 2024-10-31 09:12:24,159] Trial 13 finished with value: 0.8512407016887631 and parameters: {'n_estimators': 103, 'learning_rate': 0.403299722090804, 'max_depth': 7, 'subsample': 0.2644609221740656}. Best is trial 6 with value: 0.8553221556113496.\n",
      "[I 2024-10-31 09:12:24,284] Trial 3 finished with value: 0.8363844698529406 and parameters: {'n_estimators': 110, 'learning_rate': 0.06195436113964852, 'max_depth': 10, 'subsample': 0.15617266898076207}. Best is trial 6 with value: 0.8553221556113496.\n",
      "[I 2024-10-31 09:12:24,384] Trial 14 finished with value: 0.8449670494491188 and parameters: {'n_estimators': 78, 'learning_rate': 0.3837349655946515, 'max_depth': 4, 'subsample': 0.6264955837401555}. Best is trial 6 with value: 0.8553221556113496.\n",
      "[I 2024-10-31 09:12:24,524] Trial 8 finished with value: 0.8175678393779807 and parameters: {'n_estimators': 94, 'learning_rate': 0.07993160092780767, 'max_depth': 5, 'subsample': 0.08279834866813716}. Best is trial 6 with value: 0.8553221556113496.\n",
      "[I 2024-10-31 09:12:24,952] Trial 12 finished with value: 0.8501858667607718 and parameters: {'n_estimators': 55, 'learning_rate': 0.14931810723685013, 'max_depth': 8, 'subsample': 0.613227316927551}. Best is trial 6 with value: 0.8553221556113496.\n",
      "[I 2024-10-31 09:12:25,749] Trial 15 finished with value: 0.8487003154362744 and parameters: {'n_estimators': 93, 'learning_rate': 0.16718981823604986, 'max_depth': 8, 'subsample': 0.2379903873576516}. Best is trial 6 with value: 0.8553221556113496.\n",
      "[I 2024-10-31 09:12:25,980] Trial 10 finished with value: 0.8160951601966335 and parameters: {'n_estimators': 115, 'learning_rate': 0.05097520074146447, 'max_depth': 7, 'subsample': 0.08111300635618128}. Best is trial 6 with value: 0.8553221556113496.\n",
      "[I 2024-10-31 09:12:26,424] Trial 18 finished with value: 0.849754454488771 and parameters: {'n_estimators': 82, 'learning_rate': 0.10220293367675072, 'max_depth': 5, 'subsample': 0.5749723272272655}. Best is trial 6 with value: 0.8553221556113496.\n",
      "[I 2024-10-31 09:12:26,554] Trial 16 finished with value: 0.8026973183809833 and parameters: {'n_estimators': 56, 'learning_rate': 0.07937716293850836, 'max_depth': 8, 'subsample': 0.07440199916504489}. Best is trial 6 with value: 0.8553221556113496.\n",
      "[I 2024-10-31 09:12:26,885] Trial 19 finished with value: 0.8524648095331302 and parameters: {'n_estimators': 87, 'learning_rate': 0.10494758239633165, 'max_depth': 6, 'subsample': 0.44980704935446597}. Best is trial 6 with value: 0.8553221556113496.\n",
      "[I 2024-10-31 09:12:27,110] Trial 20 finished with value: 0.8578178588920848 and parameters: {'n_estimators': 120, 'learning_rate': 0.09874211330686815, 'max_depth': 6, 'subsample': 0.41744480608630086}. Best is trial 20 with value: 0.8578178588920848.\n",
      "[I 2024-10-31 09:12:27,328] Trial 17 finished with value: 0.8543576970738037 and parameters: {'n_estimators': 83, 'learning_rate': 0.11657293907529344, 'max_depth': 10, 'subsample': 0.3901712147560963}. Best is trial 20 with value: 0.8578178588920848.\n",
      "[I 2024-10-31 09:12:27,385] Trial 21 finished with value: 0.8568135796838927 and parameters: {'n_estimators': 79, 'learning_rate': 0.10201732098706734, 'max_depth': 6, 'subsample': 0.39880341235252814}. Best is trial 20 with value: 0.8578178588920848.\n",
      "[I 2024-10-31 09:12:27,861] Trial 23 finished with value: 0.8510022661010083 and parameters: {'n_estimators': 77, 'learning_rate': 0.10849267646181979, 'max_depth': 5, 'subsample': 0.3903074514040895}. Best is trial 20 with value: 0.8578178588920848.\n",
      "[I 2024-10-31 09:12:28,494] Trial 25 finished with value: 0.8548213056042095 and parameters: {'n_estimators': 70, 'learning_rate': 0.11456080369034517, 'max_depth': 6, 'subsample': 0.40161490149743695}. Best is trial 20 with value: 0.8578178588920848.\n",
      "[I 2024-10-31 09:12:28,853] Trial 24 finished with value: 0.8529854456880731 and parameters: {'n_estimators': 72, 'learning_rate': 0.09573684792389726, 'max_depth': 6, 'subsample': 0.39732818355803057}. Best is trial 20 with value: 0.8578178588920848.\n",
      "[I 2024-10-31 09:12:28,969] Trial 22 finished with value: 0.8552734657982608 and parameters: {'n_estimators': 74, 'learning_rate': 0.051233931992074606, 'max_depth': 6, 'subsample': 0.4116574249596569}. Best is trial 20 with value: 0.8578178588920848.\n",
      "[I 2024-10-31 09:12:29,544] Trial 26 finished with value: 0.8542005647257427 and parameters: {'n_estimators': 69, 'learning_rate': 0.05205566970270053, 'max_depth': 5, 'subsample': 0.8759397429367572}. Best is trial 20 with value: 0.8578178588920848.\n",
      "[I 2024-10-31 09:12:29,910] Trial 29 finished with value: 0.8432859226429082 and parameters: {'n_estimators': 72, 'learning_rate': 0.05116274373189488, 'max_depth': 5, 'subsample': 0.2907090501498224}. Best is trial 20 with value: 0.8578178588920848.\n",
      "[I 2024-10-31 09:12:30,123] Trial 33 finished with value: 0.8424550810091218 and parameters: {'n_estimators': 114, 'learning_rate': 0.22202314068475945, 'max_depth': 5, 'subsample': 0.2957395350985686}. Best is trial 20 with value: 0.8578178588920848.\n",
      "[I 2024-10-31 09:12:30,261] Trial 28 finished with value: 0.8565943679784933 and parameters: {'n_estimators': 119, 'learning_rate': 0.09745890058163846, 'max_depth': 10, 'subsample': 0.34563122893439563}. Best is trial 20 with value: 0.8578178588920848.\n",
      "[I 2024-10-31 09:12:30,537] Trial 27 finished with value: 0.8547140564351126 and parameters: {'n_estimators': 120, 'learning_rate': 0.05134094366273434, 'max_depth': 5, 'subsample': 0.3473263473037515}. Best is trial 20 with value: 0.8578178588920848.\n",
      "[I 2024-10-31 09:12:30,642] Trial 30 finished with value: 0.8542177552398766 and parameters: {'n_estimators': 71, 'learning_rate': 0.0524918480675621, 'max_depth': 5, 'subsample': 0.8965409856082414}. Best is trial 20 with value: 0.8578178588920848.\n",
      "[I 2024-10-31 09:12:31,280] Trial 31 finished with value: 0.8508648589103773 and parameters: {'n_estimators': 118, 'learning_rate': 0.0882619002480242, 'max_depth': 5, 'subsample': 0.2989796101353435}. Best is trial 20 with value: 0.8578178588920848.\n",
      "[I 2024-10-31 09:12:32,044] Trial 34 finished with value: 0.8584168121699267 and parameters: {'n_estimators': 120, 'learning_rate': 0.24611295922637783, 'max_depth': 9, 'subsample': 0.3060094672250169}. Best is trial 34 with value: 0.8584168121699267.\n",
      "[I 2024-10-31 09:12:32,385] Trial 35 finished with value: 0.8518292436088126 and parameters: {'n_estimators': 120, 'learning_rate': 0.08933950080171364, 'max_depth': 4, 'subsample': 0.499231328041543}. Best is trial 34 with value: 0.8584168121699267.\n",
      "[I 2024-10-31 09:12:32,855] Trial 32 finished with value: 0.857580326106329 and parameters: {'n_estimators': 120, 'learning_rate': 0.054682924378148194, 'max_depth': 5, 'subsample': 0.8893353450908514}. Best is trial 34 with value: 0.8584168121699267.\n",
      "[I 2024-10-31 09:12:33,113] Trial 38 finished with value: 0.8592887345742043 and parameters: {'n_estimators': 107, 'learning_rate': 0.13755113135977315, 'max_depth': 7, 'subsample': 0.5063430859067292}. Best is trial 38 with value: 0.8592887345742043.\n",
      "[I 2024-10-31 09:12:33,642] Trial 37 finished with value: 0.859480978639259 and parameters: {'n_estimators': 119, 'learning_rate': 0.13020642139956745, 'max_depth': 9, 'subsample': 0.49812176621158877}. Best is trial 37 with value: 0.859480978639259.\n",
      "[I 2024-10-31 09:12:33,919] Trial 36 finished with value: 0.8469422438379802 and parameters: {'n_estimators': 120, 'learning_rate': 0.08822248826713779, 'max_depth': 9, 'subsample': 0.32156194013767714}. Best is trial 37 with value: 0.859480978639259.\n",
      "[I 2024-10-31 09:12:34,258] Trial 40 finished with value: 0.8558039500716721 and parameters: {'n_estimators': 107, 'learning_rate': 0.13618045195004447, 'max_depth': 9, 'subsample': 0.49916483069785617}. Best is trial 37 with value: 0.859480978639259.\n",
      "[I 2024-10-31 09:12:34,677] Trial 43 finished with value: 0.831045528127362 and parameters: {'n_estimators': 108, 'learning_rate': 0.27420336340990104, 'max_depth': 9, 'subsample': 0.1356726881576436}. Best is trial 37 with value: 0.859480978639259.\n",
      "[I 2024-10-31 09:12:34,895] Trial 39 finished with value: 0.8566035054541026 and parameters: {'n_estimators': 107, 'learning_rate': 0.08822088314456183, 'max_depth': 9, 'subsample': 0.5374942769641662}. Best is trial 37 with value: 0.859480978639259.\n",
      "[I 2024-10-31 09:12:34,979] Trial 41 finished with value: 0.8573943224405361 and parameters: {'n_estimators': 110, 'learning_rate': 0.13435560740326039, 'max_depth': 9, 'subsample': 0.4893051606319468}. Best is trial 37 with value: 0.859480978639259.\n",
      "[I 2024-10-31 09:12:35,041] Trial 42 finished with value: 0.8368864440421533 and parameters: {'n_estimators': 110, 'learning_rate': 0.12937791921823497, 'max_depth': 9, 'subsample': 0.1369959059498122}. Best is trial 37 with value: 0.859480978639259.\n",
      "[I 2024-10-31 09:12:35,442] Trial 44 finished with value: 0.8371873579522635 and parameters: {'n_estimators': 108, 'learning_rate': 0.252508830886315, 'max_depth': 9, 'subsample': 0.13187299212019282}. Best is trial 37 with value: 0.859480978639259.\n",
      "[I 2024-10-31 09:12:36,694] Trial 47 finished with value: 0.8480092831427734 and parameters: {'n_estimators': 110, 'learning_rate': 0.2600640669518408, 'max_depth': 9, 'subsample': 0.19703512956593086}. Best is trial 37 with value: 0.859480978639259.\n",
      "[I 2024-10-31 09:12:36,974] Trial 45 finished with value: 0.8579276536576554 and parameters: {'n_estimators': 108, 'learning_rate': 0.13191443326922164, 'max_depth': 9, 'subsample': 0.49511596667634494}. Best is trial 37 with value: 0.859480978639259.\n",
      "[I 2024-10-31 09:12:37,103] Trial 46 finished with value: 0.8441958370549126 and parameters: {'n_estimators': 110, 'learning_rate': 0.13516114778159755, 'max_depth': 9, 'subsample': 0.145856322071698}. Best is trial 37 with value: 0.859480978639259.\n",
      "[I 2024-10-31 09:12:37,540] Trial 49 finished with value: 0.8549774427394131 and parameters: {'n_estimators': 113, 'learning_rate': 0.13365005605676342, 'max_depth': 7, 'subsample': 0.7185436157533803}. Best is trial 37 with value: 0.859480978639259.\n",
      "[I 2024-10-31 09:12:37,570] Trial 50 finished with value: 0.8552465650004348 and parameters: {'n_estimators': 114, 'learning_rate': 0.181827598992349, 'max_depth': 7, 'subsample': 0.7180965015818075}. Best is trial 37 with value: 0.859480978639259.\n",
      "[I 2024-10-31 09:12:37,616] Trial 51 finished with value: 0.8548443034984657 and parameters: {'n_estimators': 114, 'learning_rate': 0.18831164434161718, 'max_depth': 7, 'subsample': 0.7162091390863277}. Best is trial 37 with value: 0.859480978639259.\n",
      "[I 2024-10-31 09:12:37,842] Trial 52 finished with value: 0.852876581599224 and parameters: {'n_estimators': 115, 'learning_rate': 0.17143051848737842, 'max_depth': 7, 'subsample': 0.6749442442074298}. Best is trial 37 with value: 0.859480978639259.\n",
      "[I 2024-10-31 09:12:38,368] Trial 48 finished with value: 0.854265671233122 and parameters: {'n_estimators': 115, 'learning_rate': 0.13441998571287156, 'max_depth': 9, 'subsample': 0.7304247161337912}. Best is trial 37 with value: 0.859480978639259.\n",
      "[I 2024-10-31 09:12:38,624] Trial 53 finished with value: 0.8552174877195777 and parameters: {'n_estimators': 116, 'learning_rate': 0.17559228561755888, 'max_depth': 7, 'subsample': 0.7838049240771721}. Best is trial 37 with value: 0.859480978639259.\n",
      "[I 2024-10-31 09:12:39,012] Trial 57 finished with value: 0.8204777212998817 and parameters: {'n_estimators': 96, 'learning_rate': 0.49494684495666985, 'max_depth': 8, 'subsample': 0.22407844502933938}. Best is trial 37 with value: 0.859480978639259.\n",
      "[I 2024-10-31 09:12:39,369] Trial 54 finished with value: 0.8530296948416813 and parameters: {'n_estimators': 115, 'learning_rate': 0.16981339471791615, 'max_depth': 8, 'subsample': 0.7261725512544132}. Best is trial 37 with value: 0.859480978639259.\n",
      "[I 2024-10-31 09:12:39,514] Trial 55 finished with value: 0.8544815075984359 and parameters: {'n_estimators': 115, 'learning_rate': 0.1765814350457513, 'max_depth': 7, 'subsample': 0.7538507709418693}. Best is trial 37 with value: 0.859480978639259.\n",
      "[I 2024-10-31 09:12:39,624] Trial 56 finished with value: 0.8509254505109705 and parameters: {'n_estimators': 116, 'learning_rate': 0.18621985714410605, 'max_depth': 7, 'subsample': 0.6951442501275495}. Best is trial 37 with value: 0.859480978639259.\n",
      "[I 2024-10-31 09:12:39,865] Trial 58 finished with value: 0.8464833887079755 and parameters: {'n_estimators': 116, 'learning_rate': 0.15326062862665327, 'max_depth': 8, 'subsample': 0.22049003130270278}. Best is trial 37 with value: 0.859480978639259.\n",
      "[I 2024-10-31 09:12:40,560] Trial 59 finished with value: 0.8545843027882448 and parameters: {'n_estimators': 97, 'learning_rate': 0.1578959769899839, 'max_depth': 8, 'subsample': 0.4535796385070108}. Best is trial 37 with value: 0.859480978639259.\n",
      "[I 2024-10-31 09:12:41,122] Trial 60 finished with value: 0.8492445818698222 and parameters: {'n_estimators': 99, 'learning_rate': 0.153177659778784, 'max_depth': 8, 'subsample': 0.23081931361380842}. Best is trial 37 with value: 0.859480978639259.\n",
      "[I 2024-10-31 09:12:41,539] Trial 61 finished with value: 0.8517438761421869 and parameters: {'n_estimators': 103, 'learning_rate': 0.15288621128038032, 'max_depth': 8, 'subsample': 0.4607189382074867}. Best is trial 37 with value: 0.859480978639259.\n",
      "[I 2024-10-31 09:12:42,349] Trial 63 finished with value: 0.8500297470277105 and parameters: {'n_estimators': 104, 'learning_rate': 0.15137263782376287, 'max_depth': 10, 'subsample': 0.25449406233417976}. Best is trial 37 with value: 0.859480978639259.\n",
      "[I 2024-10-31 09:12:42,396] Trial 62 finished with value: 0.8535207241290945 and parameters: {'n_estimators': 104, 'learning_rate': 0.15717246307974878, 'max_depth': 10, 'subsample': 0.44884923032788854}. Best is trial 37 with value: 0.859480978639259.\n",
      "[I 2024-10-31 09:12:42,706] Trial 66 finished with value: 0.8520383547921214 and parameters: {'n_estimators': 103, 'learning_rate': 0.2249591891774732, 'max_depth': 10, 'subsample': 0.4512354273041518}. Best is trial 37 with value: 0.859480978639259.\n",
      "[I 2024-10-31 09:12:42,968] Trial 65 finished with value: 0.853492579702429 and parameters: {'n_estimators': 103, 'learning_rate': 0.15433274071102646, 'max_depth': 10, 'subsample': 0.4508957792767668}. Best is trial 37 with value: 0.859480978639259.\n",
      "[I 2024-10-31 09:12:43,294] Trial 64 finished with value: 0.8575126039474374 and parameters: {'n_estimators': 101, 'learning_rate': 0.14529520753006234, 'max_depth': 10, 'subsample': 0.5667002895778402}. Best is trial 37 with value: 0.859480978639259.\n",
      "[I 2024-10-31 09:12:43,400] Trial 67 finished with value: 0.8556833917736237 and parameters: {'n_estimators': 101, 'learning_rate': 0.2027210475437425, 'max_depth': 10, 'subsample': 0.26256615856335974}. Best is trial 37 with value: 0.859480978639259.\n",
      "[I 2024-10-31 09:12:43,804] Trial 68 finished with value: 0.8550054152165079 and parameters: {'n_estimators': 104, 'learning_rate': 0.20852677979970877, 'max_depth': 10, 'subsample': 0.456655015516898}. Best is trial 37 with value: 0.859480978639259.\n",
      "[I 2024-10-31 09:12:44,268] Trial 71 finished with value: 0.845375294491176 and parameters: {'n_estimators': 112, 'learning_rate': 0.12541412859051654, 'max_depth': 3, 'subsample': 0.6090417657019507}. Best is trial 37 with value: 0.859480978639259.\n",
      "[I 2024-10-31 09:12:44,386] Trial 72 finished with value: 0.8374969649984951 and parameters: {'n_estimators': 112, 'learning_rate': 0.1214302980518277, 'max_depth': 3, 'subsample': 0.6075776046019139}. Best is trial 37 with value: 0.859480978639259.\n",
      "[I 2024-10-31 09:12:44,696] Trial 73 finished with value: 0.8410499264753457 and parameters: {'n_estimators': 112, 'learning_rate': 0.12028442400522736, 'max_depth': 3, 'subsample': 0.5688715346855251}. Best is trial 37 with value: 0.859480978639259.\n",
      "[I 2024-10-31 09:12:44,824] Trial 69 finished with value: 0.8538399270770631 and parameters: {'n_estimators': 104, 'learning_rate': 0.11880117550423053, 'max_depth': 10, 'subsample': 0.5694324246691307}. Best is trial 37 with value: 0.859480978639259.\n",
      "[I 2024-10-31 09:12:44,909] Trial 70 finished with value: 0.8460404204975915 and parameters: {'n_estimators': 112, 'learning_rate': 0.20953863606679585, 'max_depth': 10, 'subsample': 0.5648700891084927}. Best is trial 37 with value: 0.859480978639259.\n",
      "[I 2024-10-31 09:12:45,306] Trial 75 finished with value: 0.8424280361313347 and parameters: {'n_estimators': 88, 'learning_rate': 0.12331198537454538, 'max_depth': 3, 'subsample': 0.5699424981739211}. Best is trial 37 with value: 0.859480978639259.\n",
      "[I 2024-10-31 09:12:45,621] Trial 76 finished with value: 0.8420794996965297 and parameters: {'n_estimators': 118, 'learning_rate': 0.12184944986732879, 'max_depth': 3, 'subsample': 0.5705609477717256}. Best is trial 37 with value: 0.859480978639259.\n",
      "[I 2024-10-31 09:12:45,858] Trial 74 finished with value: 0.8599001125517237 and parameters: {'n_estimators': 91, 'learning_rate': 0.11923545730888377, 'max_depth': 6, 'subsample': 0.5679985316691905}. Best is trial 74 with value: 0.8599001125517237.\n",
      "[I 2024-10-31 09:12:46,890] Trial 78 finished with value: 0.8535741409450159 and parameters: {'n_estimators': 90, 'learning_rate': 0.10916925250660851, 'max_depth': 6, 'subsample': 0.5233292181380079}. Best is trial 74 with value: 0.8599001125517237.\n",
      "[I 2024-10-31 09:12:46,996] Trial 79 finished with value: 0.8544090536708504 and parameters: {'n_estimators': 118, 'learning_rate': 0.11114720628085194, 'max_depth': 6, 'subsample': 0.5184511430497103}. Best is trial 74 with value: 0.8599001125517237.\n",
      "[I 2024-10-31 09:12:47,092] Trial 77 finished with value: 0.8501165709992539 and parameters: {'n_estimators': 90, 'learning_rate': 0.07272577856937779, 'max_depth': 4, 'subsample': 0.5432391987047874}. Best is trial 74 with value: 0.8599001125517237.\n",
      "[I 2024-10-31 09:12:47,206] Trial 80 finished with value: 0.8555398775458205 and parameters: {'n_estimators': 50, 'learning_rate': 0.10886859244809068, 'max_depth': 6, 'subsample': 0.5212884485795746}. Best is trial 74 with value: 0.8599001125517237.\n",
      "[I 2024-10-31 09:12:47,536] Trial 82 finished with value: 0.8559652765251413 and parameters: {'n_estimators': 118, 'learning_rate': 0.14258875285577474, 'max_depth': 6, 'subsample': 0.5233825150643153}. Best is trial 74 with value: 0.8599001125517237.\n",
      "[I 2024-10-31 09:12:47,897] Trial 83 finished with value: 0.8596151058859611 and parameters: {'n_estimators': 118, 'learning_rate': 0.14314375598383955, 'max_depth': 6, 'subsample': 0.5073296028316769}. Best is trial 74 with value: 0.8599001125517237.\n",
      "[I 2024-10-31 09:12:48,528] Trial 81 finished with value: 0.8570391521702256 and parameters: {'n_estimators': 90, 'learning_rate': 0.06765623840565664, 'max_depth': 6, 'subsample': 0.5212669769988676}. Best is trial 74 with value: 0.8599001125517237.\n",
      "[I 2024-10-31 09:12:49,139] Trial 84 finished with value: 0.8588409206044451 and parameters: {'n_estimators': 117, 'learning_rate': 0.06648892297649392, 'max_depth': 6, 'subsample': 0.3693782533176783}. Best is trial 74 with value: 0.8599001125517237.\n",
      "[I 2024-10-31 09:12:49,535] Trial 86 finished with value: 0.8506166447127536 and parameters: {'n_estimators': 50, 'learning_rate': 0.06391554692680289, 'max_depth': 6, 'subsample': 0.365835055386996}. Best is trial 74 with value: 0.8599001125517237.\n",
      "[I 2024-10-31 09:12:49,935] Trial 88 finished with value: 0.8549630886396322 and parameters: {'n_estimators': 106, 'learning_rate': 0.140181970874173, 'max_depth': 9, 'subsample': 0.36423871205888925}. Best is trial 74 with value: 0.8599001125517237.\n",
      "[I 2024-10-31 09:12:50,355] Trial 87 finished with value: 0.8540209080055382 and parameters: {'n_estimators': 93, 'learning_rate': 0.06319754807955567, 'max_depth': 6, 'subsample': 0.6438734058216707}. Best is trial 74 with value: 0.8599001125517237.\n",
      "[I 2024-10-31 09:12:50,616] Trial 85 finished with value: 0.8557984350012158 and parameters: {'n_estimators': 92, 'learning_rate': 0.058544361071847746, 'max_depth': 6, 'subsample': 0.8173863896044998}. Best is trial 74 with value: 0.8599001125517237.\n",
      "[I 2024-10-31 09:12:50,944] Trial 91 finished with value: 0.8547890821943525 and parameters: {'n_estimators': 120, 'learning_rate': 0.07902272416023744, 'max_depth': 5, 'subsample': 0.3705234505830034}. Best is trial 74 with value: 0.8599001125517237.\n",
      "[I 2024-10-31 09:12:51,793] Trial 90 finished with value: 0.8591737038899389 and parameters: {'n_estimators': 120, 'learning_rate': 0.06007012050525783, 'max_depth': 6, 'subsample': 0.37913658905264774}. Best is trial 74 with value: 0.8599001125517237.\n",
      "[I 2024-10-31 09:12:52,249] Trial 97 finished with value: 0.8565348991776526 and parameters: {'n_estimators': 117, 'learning_rate': 0.33286057284646503, 'max_depth': 5, 'subsample': 0.3156412978382921}. Best is trial 74 with value: 0.8599001125517237.\n",
      "[I 2024-10-31 09:12:52,495] Trial 94 finished with value: 0.852560997185558 and parameters: {'n_estimators': 119, 'learning_rate': 0.0774493159156029, 'max_depth': 5, 'subsample': 0.8088358508954308}. Best is trial 74 with value: 0.8599001125517237.\n",
      "[I 2024-10-31 09:12:52,583] Trial 89 finished with value: 0.8539100554384624 and parameters: {'n_estimators': 107, 'learning_rate': 0.056811643836896256, 'max_depth': 9, 'subsample': 0.3762391130000554}. Best is trial 74 with value: 0.8599001125517237.\n",
      "[I 2024-10-31 09:12:52,784] Trial 93 finished with value: 0.8522736364840815 and parameters: {'n_estimators': 119, 'learning_rate': 0.0547297121604462, 'max_depth': 5, 'subsample': 0.3676516315699621}. Best is trial 74 with value: 0.8599001125517237.\n",
      "[I 2024-10-31 09:12:52,921] Trial 92 finished with value: 0.8548425657580739 and parameters: {'n_estimators': 120, 'learning_rate': 0.05700909563383437, 'max_depth': 6, 'subsample': 0.36459713305885505}. Best is trial 74 with value: 0.8599001125517237.\n",
      "[I 2024-10-31 09:12:53,453] Trial 95 finished with value: 0.8495768824709442 and parameters: {'n_estimators': 120, 'learning_rate': 0.05763905493567529, 'max_depth': 5, 'subsample': 0.32421887256483145}. Best is trial 74 with value: 0.8599001125517237.\n",
      "[I 2024-10-31 09:12:53,920] Trial 96 finished with value: 0.8486184964169305 and parameters: {'n_estimators': 119, 'learning_rate': 0.05754575635562071, 'max_depth': 5, 'subsample': 0.329634057225268}. Best is trial 74 with value: 0.8599001125517237.\n",
      "[I 2024-10-31 09:12:55,174] Trial 101 finished with value: 0.8521689251937239 and parameters: {'n_estimators': 120, 'learning_rate': 0.10101870207230794, 'max_depth': 6, 'subsample': 0.3283432812377515}. Best is trial 74 with value: 0.8599001125517237.\n",
      "[I 2024-10-31 09:12:55,194] Trial 98 finished with value: 0.8566849135268735 and parameters: {'n_estimators': 117, 'learning_rate': 0.05551322507865411, 'max_depth': 5, 'subsample': 0.4180615788058557}. Best is trial 74 with value: 0.8599001125517237.\n",
      "[I 2024-10-31 09:12:55,424] Trial 103 finished with value: 0.849164622448475 and parameters: {'n_estimators': 117, 'learning_rate': 0.09822060274113756, 'max_depth': 7, 'subsample': 0.3273956722620953}. Best is trial 74 with value: 0.8599001125517237.\n",
      "[I 2024-10-31 09:12:55,483] Trial 99 finished with value: 0.849392080653112 and parameters: {'n_estimators': 119, 'learning_rate': 0.05711389924778786, 'max_depth': 5, 'subsample': 0.3359716774488588}. Best is trial 74 with value: 0.8599001125517237.\n",
      "[I 2024-10-31 09:12:56,224] Trial 102 finished with value: 0.8502159949003896 and parameters: {'n_estimators': 120, 'learning_rate': 0.06673890977548026, 'max_depth': 6, 'subsample': 0.32565794775459356}. Best is trial 74 with value: 0.8599001125517237.\n",
      "[I 2024-10-31 09:12:56,433] Trial 104 finished with value: 0.856479278885818 and parameters: {'n_estimators': 117, 'learning_rate': 0.09353967797587259, 'max_depth': 6, 'subsample': 0.41557574474297365}. Best is trial 74 with value: 0.8599001125517237.\n",
      "[I 2024-10-31 09:12:56,513] Trial 100 finished with value: 0.8565788153556125 and parameters: {'n_estimators': 117, 'learning_rate': 0.05622043283429426, 'max_depth': 6, 'subsample': 0.42628117160169066}. Best is trial 74 with value: 0.8599001125517237.\n",
      "[I 2024-10-31 09:12:56,976] Trial 105 finished with value: 0.8585847366364397 and parameters: {'n_estimators': 117, 'learning_rate': 0.09781105260183612, 'max_depth': 6, 'subsample': 0.42073462282073965}. Best is trial 74 with value: 0.8599001125517237.\n",
      "[I 2024-10-31 09:12:57,682] Trial 109 finished with value: 0.8545545236663094 and parameters: {'n_estimators': 84, 'learning_rate': 0.16545429294987277, 'max_depth': 6, 'subsample': 0.4181511943387185}. Best is trial 74 with value: 0.8599001125517237.\n",
      "[I 2024-10-31 09:12:58,112] Trial 108 finished with value: 0.8566018875923369 and parameters: {'n_estimators': 113, 'learning_rate': 0.12882697611096652, 'max_depth': 6, 'subsample': 0.41740814260855935}. Best is trial 74 with value: 0.8599001125517237.\n",
      "[I 2024-10-31 09:12:58,371] Trial 112 finished with value: 0.8515889819210691 and parameters: {'n_estimators': 109, 'learning_rate': 0.1418220419067232, 'max_depth': 4, 'subsample': 0.487549585766427}. Best is trial 74 with value: 0.8599001125517237.\n",
      "[I 2024-10-31 09:12:58,624] Trial 110 finished with value: 0.8564247745364479 and parameters: {'n_estimators': 83, 'learning_rate': 0.14301868369850296, 'max_depth': 6, 'subsample': 0.4203422939624582}. Best is trial 74 with value: 0.8599001125517237.\n",
      "[I 2024-10-31 09:12:58,739] Trial 106 finished with value: 0.8555018984770681 and parameters: {'n_estimators': 117, 'learning_rate': 0.09357866220795684, 'max_depth': 7, 'subsample': 0.42904227456660493}. Best is trial 74 with value: 0.8599001125517237.\n",
      "[I 2024-10-31 09:12:59,005] Trial 113 finished with value: 0.8510998272241493 and parameters: {'n_estimators': 83, 'learning_rate': 0.11335591191670012, 'max_depth': 4, 'subsample': 0.49218488090919826}. Best is trial 74 with value: 0.8599001125517237.\n",
      "[I 2024-10-31 09:12:59,033] Trial 111 finished with value: 0.8563277296034143 and parameters: {'n_estimators': 113, 'learning_rate': 0.14580618585958288, 'max_depth': 7, 'subsample': 0.48975932460243166}. Best is trial 74 with value: 0.8599001125517237.\n",
      "[I 2024-10-31 09:12:59,078] Trial 107 finished with value: 0.8541099207228069 and parameters: {'n_estimators': 63, 'learning_rate': 0.06878503466829647, 'max_depth': 7, 'subsample': 0.4268492919715892}. Best is trial 74 with value: 0.8599001125517237.\n",
      "[I 2024-10-31 09:13:01,834] Trial 114 finished with value: 0.8543005338366718 and parameters: {'n_estimators': 113, 'learning_rate': 0.08504526377171652, 'max_depth': 7, 'subsample': 0.4878504589382646}. Best is trial 74 with value: 0.8599001125517237.\n",
      "[I 2024-10-31 09:13:02,036] Trial 117 finished with value: 0.8557265409772742 and parameters: {'n_estimators': 114, 'learning_rate': 0.11411201198239769, 'max_depth': 7, 'subsample': 0.4843362134060519}. Best is trial 74 with value: 0.8599001125517237.\n",
      "[I 2024-10-31 09:13:02,121] Trial 116 finished with value: 0.8594363633942654 and parameters: {'n_estimators': 63, 'learning_rate': 0.11602234660326241, 'max_depth': 7, 'subsample': 0.483192842229366}. Best is trial 74 with value: 0.8599001125517237.\n",
      "[I 2024-10-31 09:13:02,338] Trial 115 finished with value: 0.8537866699929144 and parameters: {'n_estimators': 66, 'learning_rate': 0.08255678169823887, 'max_depth': 7, 'subsample': 0.47958900660840387}. Best is trial 74 with value: 0.8599001125517237.\n",
      "[I 2024-10-31 09:13:02,806] Trial 118 finished with value: 0.8578839335035595 and parameters: {'n_estimators': 114, 'learning_rate': 0.1134099426990453, 'max_depth': 9, 'subsample': 0.4809809444543935}. Best is trial 74 with value: 0.8599001125517237.\n",
      "[I 2024-10-31 09:13:03,361] Trial 121 finished with value: 0.8539321891556579 and parameters: {'n_estimators': 115, 'learning_rate': 0.12715371220319954, 'max_depth': 9, 'subsample': 0.3020662305921484}. Best is trial 74 with value: 0.8599001125517237.\n",
      "[I 2024-10-31 09:13:04,064] Trial 119 finished with value: 0.855587001620208 and parameters: {'n_estimators': 114, 'learning_rate': 0.0828330787528418, 'max_depth': 9, 'subsample': 0.652040102644041}. Best is trial 74 with value: 0.8599001125517237.\n",
      "[I 2024-10-31 09:13:04,559] Trial 122 finished with value: 0.8522756795656253 and parameters: {'n_estimators': 100, 'learning_rate': 0.1628515653570393, 'max_depth': 9, 'subsample': 0.6413631518898264}. Best is trial 74 with value: 0.8599001125517237.\n",
      "[I 2024-10-31 09:13:04,980] Trial 123 finished with value: 0.8579189768289275 and parameters: {'n_estimators': 115, 'learning_rate': 0.12866869396341407, 'max_depth': 9, 'subsample': 0.39113885833820417}. Best is trial 74 with value: 0.8599001125517237.\n",
      "[I 2024-10-31 09:13:05,156] Trial 124 finished with value: 0.8569467809605001 and parameters: {'n_estimators': 78, 'learning_rate': 0.12573248117861976, 'max_depth': 9, 'subsample': 0.6451161888450022}. Best is trial 74 with value: 0.8599001125517237.\n",
      "[I 2024-10-31 09:13:05,292] Trial 120 finished with value: 0.8551738613620886 and parameters: {'n_estimators': 97, 'learning_rate': 0.060502000641651926, 'max_depth': 9, 'subsample': 0.64842295253201}. Best is trial 74 with value: 0.8599001125517237.\n",
      "[I 2024-10-31 09:13:05,796] Trial 127 finished with value: 0.7993907385202514 and parameters: {'n_estimators': 76, 'learning_rate': 0.10720494295578271, 'max_depth': 9, 'subsample': 0.052513934274547744}. Best is trial 74 with value: 0.8599001125517237.\n",
      "[I 2024-10-31 09:13:05,840] Trial 126 finished with value: 0.8543613716944553 and parameters: {'n_estimators': 111, 'learning_rate': 0.1299203324976489, 'max_depth': 9, 'subsample': 0.6301345092803915}. Best is trial 74 with value: 0.8599001125517237.\n",
      "[I 2024-10-31 09:13:06,000] Trial 125 finished with value: 0.8487643138081169 and parameters: {'n_estimators': 115, 'learning_rate': 0.10476258667289091, 'max_depth': 9, 'subsample': 0.30871596923071887}. Best is trial 74 with value: 0.8599001125517237.\n",
      "[I 2024-10-31 09:13:07,214] Trial 129 finished with value: 0.846410001757014 and parameters: {'n_estimators': 59, 'learning_rate': 0.13176114583258483, 'max_depth': 8, 'subsample': 0.2844119941158941}. Best is trial 74 with value: 0.8599001125517237.\n",
      "[I 2024-10-31 09:13:07,526] Trial 128 finished with value: 0.8437165544892957 and parameters: {'n_estimators': 118, 'learning_rate': 0.10306396218077278, 'max_depth': 9, 'subsample': 0.2822427444578055}. Best is trial 74 with value: 0.8599001125517237.\n",
      "[I 2024-10-31 09:13:07,939] Trial 130 finished with value: 0.854565783058284 and parameters: {'n_estimators': 77, 'learning_rate': 0.10366956893129727, 'max_depth': 9, 'subsample': 0.3936317979733263}. Best is trial 74 with value: 0.8599001125517237.\n",
      "[I 2024-10-31 09:13:08,315] Trial 131 finished with value: 0.8510521799474118 and parameters: {'n_estimators': 111, 'learning_rate': 0.10695563969776391, 'max_depth': 9, 'subsample': 0.385625977227079}. Best is trial 74 with value: 0.8599001125517237.\n",
      "[I 2024-10-31 09:13:08,466] Trial 133 finished with value: 0.8502374499615433 and parameters: {'n_estimators': 111, 'learning_rate': 0.10316204731491967, 'max_depth': 8, 'subsample': 0.3859191435217549}. Best is trial 74 with value: 0.8599001125517237.\n",
      "[I 2024-10-31 09:13:08,528] Trial 134 finished with value: 0.8523259729402844 and parameters: {'n_estimators': 59, 'learning_rate': 0.11685176415417328, 'max_depth': 8, 'subsample': 0.38233442548798646}. Best is trial 74 with value: 0.8599001125517237.\n",
      "[I 2024-10-31 09:13:08,654] Trial 135 finished with value: 0.832899332669383 and parameters: {'n_estimators': 111, 'learning_rate': 0.11603016633507506, 'max_depth': 8, 'subsample': 0.09704874241152413}. Best is trial 74 with value: 0.8599001125517237.\n",
      "[I 2024-10-31 09:13:08,806] Trial 132 finished with value: 0.8576336799895192 and parameters: {'n_estimators': 116, 'learning_rate': 0.10235129893446428, 'max_depth': 8, 'subsample': 0.3940972271181227}. Best is trial 74 with value: 0.8599001125517237.\n",
      "[I 2024-10-31 09:13:09,685] Trial 136 finished with value: 0.8572725190264835 and parameters: {'n_estimators': 118, 'learning_rate': 0.10323588968715129, 'max_depth': 6, 'subsample': 0.46064046343255144}. Best is trial 74 with value: 0.8599001125517237.\n",
      "[I 2024-10-31 09:13:09,906] Trial 137 finished with value: 0.8514300903940439 and parameters: {'n_estimators': 116, 'learning_rate': 0.11806745953029965, 'max_depth': 6, 'subsample': 0.40275835421341905}. Best is trial 74 with value: 0.8599001125517237.\n",
      "[I 2024-10-31 09:13:10,704] Trial 140 finished with value: 0.8365921808387758 and parameters: {'n_estimators': 116, 'learning_rate': 0.11816334321459862, 'max_depth': 6, 'subsample': 0.16588157657347805}. Best is trial 74 with value: 0.8599001125517237.\n",
      "[I 2024-10-31 09:13:10,934] Trial 143 finished with value: 0.841309704627998 and parameters: {'n_estimators': 116, 'learning_rate': 0.137473279199608, 'max_depth': 6, 'subsample': 0.17177156281000366}. Best is trial 74 with value: 0.8599001125517237.\n",
      "[I 2024-10-31 09:13:11,088] Trial 138 finished with value: 0.8529852356599508 and parameters: {'n_estimators': 116, 'learning_rate': 0.1190608450250595, 'max_depth': 8, 'subsample': 0.3496697900071543}. Best is trial 74 with value: 0.8599001125517237.\n",
      "[I 2024-10-31 09:13:11,245] Trial 139 finished with value: 0.8485907225546713 and parameters: {'n_estimators': 116, 'learning_rate': 0.1174045973008457, 'max_depth': 8, 'subsample': 0.34932085835531523}. Best is trial 74 with value: 0.8599001125517237.\n",
      "[I 2024-10-31 09:13:11,395] Trial 142 finished with value: 0.863270924336746 and parameters: {'n_estimators': 116, 'learning_rate': 0.1374585643367982, 'max_depth': 6, 'subsample': 0.44004764170166705}. Best is trial 142 with value: 0.863270924336746.\n",
      "[I 2024-10-31 09:13:11,898] Trial 141 finished with value: 0.8276477258125445 and parameters: {'n_estimators': 116, 'learning_rate': 0.07467725757177227, 'max_depth': 6, 'subsample': 0.11197252429582844}. Best is trial 142 with value: 0.863270924336746.\n",
      "[I 2024-10-31 09:13:12,078] Trial 144 finished with value: 0.8530940252185746 and parameters: {'n_estimators': 116, 'learning_rate': 0.13762314952535756, 'max_depth': 6, 'subsample': 0.34778976681099755}. Best is trial 142 with value: 0.863270924336746.\n",
      "[I 2024-10-31 09:13:12,624] Trial 145 finished with value: 0.8318744546903482 and parameters: {'n_estimators': 116, 'learning_rate': 0.09217942494626544, 'max_depth': 6, 'subsample': 0.1690997988107775}. Best is trial 142 with value: 0.863270924336746.\n",
      "[I 2024-10-31 09:13:13,123] Trial 146 finished with value: 0.8518773741976473 and parameters: {'n_estimators': 116, 'learning_rate': 0.13580680165459624, 'max_depth': 6, 'subsample': 0.35368772803006054}. Best is trial 142 with value: 0.863270924336746.\n",
      "[I 2024-10-31 09:13:13,519] Trial 150 finished with value: 0.8584644216026422 and parameters: {'n_estimators': 118, 'learning_rate': 0.13628194197737897, 'max_depth': 6, 'subsample': 0.4473530005023988}. Best is trial 142 with value: 0.863270924336746.\n",
      "[I 2024-10-31 09:13:13,692] Trial 147 finished with value: 0.848564905070465 and parameters: {'n_estimators': 109, 'learning_rate': 0.09138836137444603, 'max_depth': 6, 'subsample': 0.35236084442628085}. Best is trial 142 with value: 0.863270924336746.\n",
      "[I 2024-10-31 09:13:14,147] Trial 149 finished with value: 0.8547123669289824 and parameters: {'n_estimators': 80, 'learning_rate': 0.09102540704956569, 'max_depth': 6, 'subsample': 0.44553394146504316}. Best is trial 142 with value: 0.863270924336746.\n",
      "[I 2024-10-31 09:13:14,351] Trial 151 finished with value: 0.8619408692749001 and parameters: {'n_estimators': 81, 'learning_rate': 0.1365209999357814, 'max_depth': 6, 'subsample': 0.4389963555759458}. Best is trial 142 with value: 0.863270924336746.\n",
      "[I 2024-10-31 09:13:14,526] Trial 154 finished with value: 0.8523403993830921 and parameters: {'n_estimators': 118, 'learning_rate': 0.30914210447633395, 'max_depth': 6, 'subsample': 0.54695679378925}. Best is trial 142 with value: 0.863270924336746.\n",
      "[I 2024-10-31 09:13:14,934] Trial 152 finished with value: 0.8591578334760533 and parameters: {'n_estimators': 119, 'learning_rate': 0.0906504081058634, 'max_depth': 6, 'subsample': 0.44304697092466255}. Best is trial 142 with value: 0.863270924336746.\n",
      "[I 2024-10-31 09:13:15,068] Trial 153 finished with value: 0.8550096077638462 and parameters: {'n_estimators': 118, 'learning_rate': 0.13258211108437493, 'max_depth': 6, 'subsample': 0.43909448099286774}. Best is trial 142 with value: 0.863270924336746.\n",
      "[I 2024-10-31 09:13:15,296] Trial 148 finished with value: 0.8582050656695194 and parameters: {'n_estimators': 118, 'learning_rate': 0.05296353538909567, 'max_depth': 6, 'subsample': 0.5400304344076823}. Best is trial 142 with value: 0.863270924336746.\n",
      "[I 2024-10-31 09:13:15,650] Trial 156 finished with value: 0.849345950516957 and parameters: {'n_estimators': 119, 'learning_rate': 0.29477066109842476, 'max_depth': 6, 'subsample': 0.5468198020682203}. Best is trial 142 with value: 0.863270924336746.\n",
      "[I 2024-10-31 09:13:17,031] Trial 155 finished with value: 0.858980088372704 and parameters: {'n_estimators': 119, 'learning_rate': 0.12790057268745605, 'max_depth': 6, 'subsample': 0.44628847721772563}. Best is trial 142 with value: 0.863270924336746.\n",
      "[I 2024-10-31 09:13:17,292] Trial 157 finished with value: 0.8551288263770803 and parameters: {'n_estimators': 118, 'learning_rate': 0.14658960576044722, 'max_depth': 6, 'subsample': 0.537324106519483}. Best is trial 142 with value: 0.863270924336746.\n",
      "[I 2024-10-31 09:13:17,571] Trial 159 finished with value: 0.855080327238513 and parameters: {'n_estimators': 86, 'learning_rate': 0.14582385491523142, 'max_depth': 6, 'subsample': 0.4675692675601841}. Best is trial 142 with value: 0.863270924336746.\n",
      "[I 2024-10-31 09:13:17,640] Trial 158 finished with value: 0.8586222248205678 and parameters: {'n_estimators': 87, 'learning_rate': 0.13280089400700662, 'max_depth': 6, 'subsample': 0.5342784100746499}. Best is trial 142 with value: 0.863270924336746.\n",
      "[I 2024-10-31 09:13:18,059] Trial 161 finished with value: 0.8529404161430973 and parameters: {'n_estimators': 73, 'learning_rate': 0.14709898880598637, 'max_depth': 6, 'subsample': 0.4656609296207856}. Best is trial 142 with value: 0.863270924336746.\n",
      "[I 2024-10-31 09:13:18,163] Trial 160 finished with value: 0.8562393540014059 and parameters: {'n_estimators': 119, 'learning_rate': 0.14666720880651432, 'max_depth': 6, 'subsample': 0.44624769765913674}. Best is trial 142 with value: 0.863270924336746.\n",
      "[I 2024-10-31 09:13:18,394] Trial 162 finished with value: 0.8530649189710628 and parameters: {'n_estimators': 120, 'learning_rate': 0.15060118388341825, 'max_depth': 6, 'subsample': 0.5156519339101957}. Best is trial 142 with value: 0.863270924336746.\n",
      "[I 2024-10-31 09:13:18,556] Trial 163 finished with value: 0.8514825987052367 and parameters: {'n_estimators': 120, 'learning_rate': 0.14747980019462303, 'max_depth': 6, 'subsample': 0.5902737227112284}. Best is trial 142 with value: 0.863270924336746.\n",
      "[I 2024-10-31 09:13:19,397] Trial 164 finished with value: 0.8533302086891693 and parameters: {'n_estimators': 68, 'learning_rate': 0.14738844125956604, 'max_depth': 6, 'subsample': 0.4596732888413836}. Best is trial 142 with value: 0.863270924336746.\n",
      "[I 2024-10-31 09:13:20,611] Trial 169 finished with value: 0.8557697984591923 and parameters: {'n_estimators': 89, 'learning_rate': 0.1247238489601449, 'max_depth': 6, 'subsample': 0.5053310215812842}. Best is trial 142 with value: 0.863270924336746.\n",
      "[I 2024-10-31 09:13:21,220] Trial 171 finished with value: 0.8579695274566586 and parameters: {'n_estimators': 88, 'learning_rate': 0.12568868366600108, 'max_depth': 6, 'subsample': 0.5008210642910076}. Best is trial 142 with value: 0.863270924336746.\n",
      "[I 2024-10-31 09:13:21,300] Trial 165 finished with value: 0.8547477986287555 and parameters: {'n_estimators': 69, 'learning_rate': 0.0502402914051406, 'max_depth': 6, 'subsample': 0.5105037993587683}. Best is trial 142 with value: 0.863270924336746.\n",
      "[I 2024-10-31 09:13:21,808] Trial 172 finished with value: 0.857511035104662 and parameters: {'n_estimators': 81, 'learning_rate': 0.12583790675373444, 'max_depth': 6, 'subsample': 0.5080873597676505}. Best is trial 142 with value: 0.863270924336746.\n",
      "[I 2024-10-31 09:13:22,243] Trial 167 finished with value: 0.8567827954417954 and parameters: {'n_estimators': 88, 'learning_rate': 0.05269802782875751, 'max_depth': 6, 'subsample': 0.5255288630270789}. Best is trial 142 with value: 0.863270924336746.\n",
      "[I 2024-10-31 09:13:22,442] Trial 166 finished with value: 0.859908948386092 and parameters: {'n_estimators': 120, 'learning_rate': 0.050536521903073485, 'max_depth': 6, 'subsample': 0.5097494107681169}. Best is trial 142 with value: 0.863270924336746.\n",
      "[I 2024-10-31 09:13:22,603] Trial 168 finished with value: 0.8574415470080704 and parameters: {'n_estimators': 120, 'learning_rate': 0.05241307029847498, 'max_depth': 6, 'subsample': 0.5227951647015927}. Best is trial 142 with value: 0.863270924336746.\n",
      "[I 2024-10-31 09:13:22,719] Trial 170 finished with value: 0.8582519335717196 and parameters: {'n_estimators': 89, 'learning_rate': 0.05306421180142065, 'max_depth': 6, 'subsample': 0.5155610848195489}. Best is trial 142 with value: 0.863270924336746.\n",
      "[I 2024-10-31 09:13:24,020] Trial 176 finished with value: 0.8591989399748085 and parameters: {'n_estimators': 87, 'learning_rate': 0.1602161687257376, 'max_depth': 7, 'subsample': 0.5845430540462212}. Best is trial 142 with value: 0.863270924336746.\n",
      "[I 2024-10-31 09:13:24,402] Trial 177 finished with value: 0.8504703079740288 and parameters: {'n_estimators': 85, 'learning_rate': 0.15811620504448515, 'max_depth': 7, 'subsample': 0.5990024015723128}. Best is trial 142 with value: 0.863270924336746.\n",
      "[I 2024-10-31 09:13:24,591] Trial 173 finished with value: 0.8553547073249902 and parameters: {'n_estimators': 95, 'learning_rate': 0.05219856617074635, 'max_depth': 6, 'subsample': 0.6001178586034072}. Best is trial 142 with value: 0.863270924336746.\n",
      "[I 2024-10-31 09:13:24,701] Trial 179 finished with value: 0.8542114902126074 and parameters: {'n_estimators': 91, 'learning_rate': 0.1598525028014818, 'max_depth': 6, 'subsample': 0.5993908020364409}. Best is trial 142 with value: 0.863270924336746.\n",
      "[I 2024-10-31 09:13:24,887] Trial 175 finished with value: 0.8558115144424608 and parameters: {'n_estimators': 88, 'learning_rate': 0.06115289968877261, 'max_depth': 6, 'subsample': 0.5908226593494692}. Best is trial 142 with value: 0.863270924336746.\n",
      "[I 2024-10-31 09:13:25,215] Trial 174 finished with value: 0.8565180287921837 and parameters: {'n_estimators': 85, 'learning_rate': 0.052849723569454804, 'max_depth': 6, 'subsample': 0.5152211586639571}. Best is trial 142 with value: 0.863270924336746.\n",
      "[I 2024-10-31 09:13:25,690] Trial 181 finished with value: 0.8479313683029902 and parameters: {'n_estimators': 85, 'learning_rate': 0.3789175579692219, 'max_depth': 7, 'subsample': 0.5915034808847122}. Best is trial 142 with value: 0.863270924336746.\n",
      "[I 2024-10-31 09:13:27,148] Trial 178 finished with value: 0.8555089901944799 and parameters: {'n_estimators': 120, 'learning_rate': 0.05282741807863403, 'max_depth': 6, 'subsample': 0.6076028506240901}. Best is trial 142 with value: 0.863270924336746.\n",
      "[I 2024-10-31 09:13:27,355] Trial 184 finished with value: 0.8568416216437804 and parameters: {'n_estimators': 94, 'learning_rate': 0.1337588285391744, 'max_depth': 7, 'subsample': 0.44453368952434147}. Best is trial 142 with value: 0.863270924336746.\n",
      "[I 2024-10-31 09:13:27,458] Trial 180 finished with value: 0.8575516123012362 and parameters: {'n_estimators': 92, 'learning_rate': 0.05390402843029296, 'max_depth': 7, 'subsample': 0.5920216123198677}. Best is trial 142 with value: 0.863270924336746.\n",
      "[I 2024-10-31 09:13:27,471] Trial 182 finished with value: 0.856061369157463 and parameters: {'n_estimators': 86, 'learning_rate': 0.1386304427054843, 'max_depth': 7, 'subsample': 0.5850360131115397}. Best is trial 142 with value: 0.863270924336746.\n",
      "[I 2024-10-31 09:13:27,671] Trial 185 finished with value: 0.8577867996208923 and parameters: {'n_estimators': 92, 'learning_rate': 0.13505981343018364, 'max_depth': 7, 'subsample': 0.46947984145092775}. Best is trial 142 with value: 0.863270924336746.\n",
      "[I 2024-10-31 09:13:27,780] Trial 186 finished with value: 0.8509012892194614 and parameters: {'n_estimators': 93, 'learning_rate': 0.24715093657452714, 'max_depth': 7, 'subsample': 0.4369652903998119}. Best is trial 142 with value: 0.863270924336746.\n",
      "[I 2024-10-31 09:13:29,165] Trial 183 finished with value: 0.8567649091691321 and parameters: {'n_estimators': 85, 'learning_rate': 0.06022240192551869, 'max_depth': 7, 'subsample': 0.42846492170324735}. Best is trial 142 with value: 0.863270924336746.\n",
      "[I 2024-10-31 09:13:29,297] Trial 188 finished with value: 0.8510760811108423 and parameters: {'n_estimators': 92, 'learning_rate': 0.23420318569801366, 'max_depth': 7, 'subsample': 0.4396128491561963}. Best is trial 142 with value: 0.863270924336746.\n",
      "[I 2024-10-31 09:13:29,326] Trial 187 finished with value: 0.854091472716274 and parameters: {'n_estimators': 62, 'learning_rate': 0.06495347334166802, 'max_depth': 7, 'subsample': 0.430806340655384}. Best is trial 142 with value: 0.863270924336746.\n",
      "[I 2024-10-31 09:13:29,838] Trial 189 finished with value: 0.8537262724949635 and parameters: {'n_estimators': 118, 'learning_rate': 0.1399313174229153, 'max_depth': 7, 'subsample': 0.5599096131262382}. Best is trial 142 with value: 0.863270924336746.\n",
      "[I 2024-10-31 09:13:30,587] Trial 196 finished with value: 0.8547886351755559 and parameters: {'n_estimators': 118, 'learning_rate': 0.4949610448660545, 'max_depth': 6, 'subsample': 0.47420505991407136}. Best is trial 142 with value: 0.863270924336746.\n",
      "[I 2024-10-31 09:13:30,816] Trial 191 finished with value: 0.8485242406522905 and parameters: {'n_estimators': 62, 'learning_rate': 0.050163927434138784, 'max_depth': 6, 'subsample': 0.5569693978210006}. Best is trial 142 with value: 0.863270924336746.\n",
      "[I 2024-10-31 09:13:31,698] Trial 190 finished with value: 0.8534166222237849 and parameters: {'n_estimators': 118, 'learning_rate': 0.050252201221251284, 'max_depth': 6, 'subsample': 0.5533757367189494}. Best is trial 142 with value: 0.863270924336746.\n",
      "[I 2024-10-31 09:13:31,830] Trial 192 finished with value: 0.8569481288365851 and parameters: {'n_estimators': 118, 'learning_rate': 0.0550955927646039, 'max_depth': 6, 'subsample': 0.5534816040496396}. Best is trial 142 with value: 0.863270924336746.\n",
      "[I 2024-10-31 09:13:31,989] Trial 193 finished with value: 0.8567950555840697 and parameters: {'n_estimators': 118, 'learning_rate': 0.060139211761495864, 'max_depth': 6, 'subsample': 0.5570683388347529}. Best is trial 142 with value: 0.863270924336746.\n",
      "[I 2024-10-31 09:13:32,069] Trial 197 finished with value: 0.8609276421491652 and parameters: {'n_estimators': 118, 'learning_rate': 0.1306296697748699, 'max_depth': 6, 'subsample': 0.5486873504986399}. Best is trial 142 with value: 0.863270924336746.\n",
      "[I 2024-10-31 09:13:32,482] Trial 198 finished with value: 0.8593186776348263 and parameters: {'n_estimators': 87, 'learning_rate': 0.12357463063783031, 'max_depth': 6, 'subsample': 0.543387622891757}. Best is trial 142 with value: 0.863270924336746.\n",
      "[I 2024-10-31 09:13:32,550] Trial 199 finished with value: 0.8403809305267689 and parameters: {'n_estimators': 87, 'learning_rate': 0.12542550520534987, 'max_depth': 6, 'subsample': 0.1915161310999292}. Best is trial 142 with value: 0.863270924336746.\n",
      "[I 2024-10-31 09:13:32,632] Trial 194 finished with value: 0.8561386990086386 and parameters: {'n_estimators': 118, 'learning_rate': 0.050216045726768514, 'max_depth': 6, 'subsample': 0.5472326856542936}. Best is trial 142 with value: 0.863270924336746.\n",
      "[I 2024-10-31 09:13:32,670] Trial 195 finished with value: 0.8580216570803725 and parameters: {'n_estimators': 117, 'learning_rate': 0.06683595936048098, 'max_depth': 6, 'subsample': 0.5561727117152555}. Best is trial 142 with value: 0.863270924336746.\n"
     ]
    }
   ],
   "source": [
    "def objective(trial,\n",
    "    X,\n",
    "    y,\n",
    "    random_state=22,\n",
    "    n_splits=3,\n",
    "    n_repeats=2,\n",
    "    n_jobs=-1,\n",
    "              ):\n",
    "    \n",
    "    param = {\n",
    "        \"objective\": \"reg:squarederror\",\n",
    "        \"tree_method\":'hist',\n",
    "        'n_estimators': trial.suggest_int('n_estimators', 50, 120),\n",
    "        \"verbosity\": 1,\n",
    "        \"learning_rate\": trial.suggest_float(\"learning_rate\", 0.05, 0.5, log=True),\n",
    "        \"max_depth\": trial.suggest_int(\"max_depth\", 3, 10),\n",
    "        \"subsample\": trial.suggest_float(\"subsample\", 0.05, 0.9,log=True),\n",
    "        \"n_jobs\": n_jobs,\n",
    "    }\n",
    "    \n",
    "    model = xgb.XGBRegressor(**param, eval_metric=\"rmse\",early_stopping_rounds = EARLY_STOPPING_ROUNDS)\n",
    "    rkf = RepeatedKFold(n_splits=n_splits, n_repeats=n_repeats, random_state=random_state)\n",
    "    X_values = X.values\n",
    "    y_values = y.values\n",
    "    y_pred = np.zeros_like(y_values)\n",
    "\n",
    "    for train_index, test_index in rkf.split(X_values):\n",
    "        X_A, X_B = X_values[train_index, :], X_values[test_index, :]\n",
    "        y_A, y_B = y_values[train_index], y_values[test_index]\n",
    "        model.fit(X_A, y_A, eval_set=[(X_B, y_B)], verbose=0,)\n",
    "        y_pred[test_index] += model.predict(X_B)\n",
    "    y_pred /= n_repeats\n",
    "    r2 = r2_score(y_true = y_train, y_pred = y_pred)\n",
    "    \n",
    "    return r2\n",
    "\n",
    "\n",
    "sampler = TPESampler(seed=10)  # Make the sampler behave in a deterministic way.\n",
    "study = optuna.create_study(sampler = sampler, direction='maximize')\n",
    "study.optimize(\n",
    "    lambda trial: objective(\n",
    "        trial,\n",
    "        X_train,\n",
    "        y_train,\n",
    "        random_state=RS,\n",
    "        n_splits=N_SPLITS,\n",
    "        n_repeats=N_REPEATS,\n",
    "        n_jobs=N_JOBS,\n",
    "    ),\n",
    "    n_trials=N_TRIALS,\n",
    "    n_jobs=N_JOBS,\n",
    ")"
   ]
  },
  {
   "cell_type": "code",
   "execution_count": 236,
   "id": "43040a6d",
   "metadata": {},
   "outputs": [
    {
     "data": {
      "application/vnd.plotly.v1+json": {
       "config": {
        "plotlyServerURL": "https://plot.ly"
       },
       "data": [
        {
         "mode": "markers",
         "name": "Objective Value",
         "type": "scatter",
         "x": [
          0,
          1,
          2,
          3,
          4,
          5,
          6,
          7,
          8,
          9,
          10,
          11,
          12,
          13,
          14,
          15,
          16,
          17,
          18,
          19,
          20,
          21,
          22,
          23,
          24,
          25,
          26,
          27,
          28,
          29,
          30,
          31,
          32,
          33,
          34,
          35,
          36,
          37,
          38,
          39,
          40,
          41,
          42,
          43,
          44,
          45,
          46,
          47,
          48,
          49,
          50,
          51,
          52,
          53,
          54,
          55,
          56,
          57,
          58,
          59,
          60,
          61,
          62,
          63,
          64,
          65,
          66,
          67,
          68,
          69,
          70,
          71,
          72,
          73,
          74,
          75,
          76,
          77,
          78,
          79,
          80,
          81,
          82,
          83,
          84,
          85,
          86,
          87,
          88,
          89,
          90,
          91,
          92,
          93,
          94,
          95,
          96,
          97,
          98,
          99,
          100,
          101,
          102,
          103,
          104,
          105,
          106,
          107,
          108,
          109,
          110,
          111,
          112,
          113,
          114,
          115,
          116,
          117,
          118,
          119,
          120,
          121,
          122,
          123,
          124,
          125,
          126,
          127,
          128,
          129,
          130,
          131,
          132,
          133,
          134,
          135,
          136,
          137,
          138,
          139,
          140,
          141,
          142,
          143,
          144,
          145,
          146,
          147,
          148,
          149,
          150,
          151,
          152,
          153,
          154,
          155,
          156,
          157,
          158,
          159,
          160,
          161,
          162,
          163,
          164,
          165,
          166,
          167,
          168,
          169,
          170,
          171,
          172,
          173,
          174,
          175,
          176,
          177,
          178,
          179,
          180,
          181,
          182,
          183,
          184,
          185,
          186,
          187,
          188,
          189,
          190,
          191,
          192,
          193,
          194,
          195,
          196,
          197,
          198,
          199
         ],
         "y": [
          0.8501861410626503,
          0.8242975733760906,
          0.840195768196056,
          0.8363844698529406,
          0.807124719666092,
          0.8541110727196956,
          0.8553221556113496,
          0.8534677964596487,
          0.8175678393779807,
          0.8326681033567883,
          0.8160951601966335,
          0.79042071576268,
          0.8501858667607718,
          0.8512407016887631,
          0.8449670494491188,
          0.8487003154362744,
          0.8026973183809833,
          0.8543576970738037,
          0.849754454488771,
          0.8524648095331302,
          0.8578178588920848,
          0.8568135796838927,
          0.8552734657982608,
          0.8510022661010083,
          0.8529854456880731,
          0.8548213056042095,
          0.8542005647257427,
          0.8547140564351126,
          0.8565943679784933,
          0.8432859226429082,
          0.8542177552398766,
          0.8508648589103773,
          0.857580326106329,
          0.8424550810091218,
          0.8584168121699267,
          0.8518292436088126,
          0.8469422438379802,
          0.859480978639259,
          0.8592887345742043,
          0.8566035054541026,
          0.8558039500716721,
          0.8573943224405361,
          0.8368864440421533,
          0.831045528127362,
          0.8371873579522635,
          0.8579276536576554,
          0.8441958370549126,
          0.8480092831427734,
          0.854265671233122,
          0.8549774427394131,
          0.8552465650004348,
          0.8548443034984657,
          0.852876581599224,
          0.8552174877195777,
          0.8530296948416813,
          0.8544815075984359,
          0.8509254505109705,
          0.8204777212998817,
          0.8464833887079755,
          0.8545843027882448,
          0.8492445818698222,
          0.8517438761421869,
          0.8535207241290945,
          0.8500297470277105,
          0.8575126039474374,
          0.853492579702429,
          0.8520383547921214,
          0.8556833917736237,
          0.8550054152165079,
          0.8538399270770631,
          0.8460404204975915,
          0.845375294491176,
          0.8374969649984951,
          0.8410499264753457,
          0.8599001125517237,
          0.8424280361313347,
          0.8420794996965297,
          0.8501165709992539,
          0.8535741409450159,
          0.8544090536708504,
          0.8555398775458205,
          0.8570391521702256,
          0.8559652765251413,
          0.8596151058859611,
          0.8588409206044451,
          0.8557984350012158,
          0.8506166447127536,
          0.8540209080055382,
          0.8549630886396322,
          0.8539100554384624,
          0.8591737038899389,
          0.8547890821943525,
          0.8548425657580739,
          0.8522736364840815,
          0.852560997185558,
          0.8495768824709442,
          0.8486184964169305,
          0.8565348991776526,
          0.8566849135268735,
          0.849392080653112,
          0.8565788153556125,
          0.8521689251937239,
          0.8502159949003896,
          0.849164622448475,
          0.856479278885818,
          0.8585847366364397,
          0.8555018984770681,
          0.8541099207228069,
          0.8566018875923369,
          0.8545545236663094,
          0.8564247745364479,
          0.8563277296034143,
          0.8515889819210691,
          0.8510998272241493,
          0.8543005338366718,
          0.8537866699929144,
          0.8594363633942654,
          0.8557265409772742,
          0.8578839335035595,
          0.855587001620208,
          0.8551738613620886,
          0.8539321891556579,
          0.8522756795656253,
          0.8579189768289275,
          0.8569467809605001,
          0.8487643138081169,
          0.8543613716944553,
          0.7993907385202514,
          0.8437165544892957,
          0.846410001757014,
          0.854565783058284,
          0.8510521799474118,
          0.8576336799895192,
          0.8502374499615433,
          0.8523259729402844,
          0.832899332669383,
          0.8572725190264835,
          0.8514300903940439,
          0.8529852356599508,
          0.8485907225546713,
          0.8365921808387758,
          0.8276477258125445,
          0.863270924336746,
          0.841309704627998,
          0.8530940252185746,
          0.8318744546903482,
          0.8518773741976473,
          0.848564905070465,
          0.8582050656695194,
          0.8547123669289824,
          0.8584644216026422,
          0.8619408692749001,
          0.8591578334760533,
          0.8550096077638462,
          0.8523403993830921,
          0.858980088372704,
          0.849345950516957,
          0.8551288263770803,
          0.8586222248205678,
          0.855080327238513,
          0.8562393540014059,
          0.8529404161430973,
          0.8530649189710628,
          0.8514825987052367,
          0.8533302086891693,
          0.8547477986287555,
          0.859908948386092,
          0.8567827954417954,
          0.8574415470080704,
          0.8557697984591923,
          0.8582519335717196,
          0.8579695274566586,
          0.857511035104662,
          0.8553547073249902,
          0.8565180287921837,
          0.8558115144424608,
          0.8591989399748085,
          0.8504703079740288,
          0.8555089901944799,
          0.8542114902126074,
          0.8575516123012362,
          0.8479313683029902,
          0.856061369157463,
          0.8567649091691321,
          0.8568416216437804,
          0.8577867996208923,
          0.8509012892194614,
          0.854091472716274,
          0.8510760811108423,
          0.8537262724949635,
          0.8534166222237849,
          0.8485242406522905,
          0.8569481288365851,
          0.8567950555840697,
          0.8561386990086386,
          0.8580216570803725,
          0.8547886351755559,
          0.8609276421491652,
          0.8593186776348263,
          0.8403809305267689
         ]
        },
        {
         "mode": "lines",
         "name": "Best Value",
         "type": "scatter",
         "x": [
          0,
          1,
          2,
          3,
          4,
          5,
          6,
          7,
          8,
          9,
          10,
          11,
          12,
          13,
          14,
          15,
          16,
          17,
          18,
          19,
          20,
          21,
          22,
          23,
          24,
          25,
          26,
          27,
          28,
          29,
          30,
          31,
          32,
          33,
          34,
          35,
          36,
          37,
          38,
          39,
          40,
          41,
          42,
          43,
          44,
          45,
          46,
          47,
          48,
          49,
          50,
          51,
          52,
          53,
          54,
          55,
          56,
          57,
          58,
          59,
          60,
          61,
          62,
          63,
          64,
          65,
          66,
          67,
          68,
          69,
          70,
          71,
          72,
          73,
          74,
          75,
          76,
          77,
          78,
          79,
          80,
          81,
          82,
          83,
          84,
          85,
          86,
          87,
          88,
          89,
          90,
          91,
          92,
          93,
          94,
          95,
          96,
          97,
          98,
          99,
          100,
          101,
          102,
          103,
          104,
          105,
          106,
          107,
          108,
          109,
          110,
          111,
          112,
          113,
          114,
          115,
          116,
          117,
          118,
          119,
          120,
          121,
          122,
          123,
          124,
          125,
          126,
          127,
          128,
          129,
          130,
          131,
          132,
          133,
          134,
          135,
          136,
          137,
          138,
          139,
          140,
          141,
          142,
          143,
          144,
          145,
          146,
          147,
          148,
          149,
          150,
          151,
          152,
          153,
          154,
          155,
          156,
          157,
          158,
          159,
          160,
          161,
          162,
          163,
          164,
          165,
          166,
          167,
          168,
          169,
          170,
          171,
          172,
          173,
          174,
          175,
          176,
          177,
          178,
          179,
          180,
          181,
          182,
          183,
          184,
          185,
          186,
          187,
          188,
          189,
          190,
          191,
          192,
          193,
          194,
          195,
          196,
          197,
          198,
          199
         ],
         "y": [
          0.8501861410626503,
          0.8501861410626503,
          0.8501861410626503,
          0.8501861410626503,
          0.8501861410626503,
          0.8541110727196956,
          0.8553221556113496,
          0.8553221556113496,
          0.8553221556113496,
          0.8553221556113496,
          0.8553221556113496,
          0.8553221556113496,
          0.8553221556113496,
          0.8553221556113496,
          0.8553221556113496,
          0.8553221556113496,
          0.8553221556113496,
          0.8553221556113496,
          0.8553221556113496,
          0.8553221556113496,
          0.8578178588920848,
          0.8578178588920848,
          0.8578178588920848,
          0.8578178588920848,
          0.8578178588920848,
          0.8578178588920848,
          0.8578178588920848,
          0.8578178588920848,
          0.8578178588920848,
          0.8578178588920848,
          0.8578178588920848,
          0.8578178588920848,
          0.8578178588920848,
          0.8578178588920848,
          0.8584168121699267,
          0.8584168121699267,
          0.8584168121699267,
          0.859480978639259,
          0.859480978639259,
          0.859480978639259,
          0.859480978639259,
          0.859480978639259,
          0.859480978639259,
          0.859480978639259,
          0.859480978639259,
          0.859480978639259,
          0.859480978639259,
          0.859480978639259,
          0.859480978639259,
          0.859480978639259,
          0.859480978639259,
          0.859480978639259,
          0.859480978639259,
          0.859480978639259,
          0.859480978639259,
          0.859480978639259,
          0.859480978639259,
          0.859480978639259,
          0.859480978639259,
          0.859480978639259,
          0.859480978639259,
          0.859480978639259,
          0.859480978639259,
          0.859480978639259,
          0.859480978639259,
          0.859480978639259,
          0.859480978639259,
          0.859480978639259,
          0.859480978639259,
          0.859480978639259,
          0.859480978639259,
          0.859480978639259,
          0.859480978639259,
          0.859480978639259,
          0.8599001125517237,
          0.8599001125517237,
          0.8599001125517237,
          0.8599001125517237,
          0.8599001125517237,
          0.8599001125517237,
          0.8599001125517237,
          0.8599001125517237,
          0.8599001125517237,
          0.8599001125517237,
          0.8599001125517237,
          0.8599001125517237,
          0.8599001125517237,
          0.8599001125517237,
          0.8599001125517237,
          0.8599001125517237,
          0.8599001125517237,
          0.8599001125517237,
          0.8599001125517237,
          0.8599001125517237,
          0.8599001125517237,
          0.8599001125517237,
          0.8599001125517237,
          0.8599001125517237,
          0.8599001125517237,
          0.8599001125517237,
          0.8599001125517237,
          0.8599001125517237,
          0.8599001125517237,
          0.8599001125517237,
          0.8599001125517237,
          0.8599001125517237,
          0.8599001125517237,
          0.8599001125517237,
          0.8599001125517237,
          0.8599001125517237,
          0.8599001125517237,
          0.8599001125517237,
          0.8599001125517237,
          0.8599001125517237,
          0.8599001125517237,
          0.8599001125517237,
          0.8599001125517237,
          0.8599001125517237,
          0.8599001125517237,
          0.8599001125517237,
          0.8599001125517237,
          0.8599001125517237,
          0.8599001125517237,
          0.8599001125517237,
          0.8599001125517237,
          0.8599001125517237,
          0.8599001125517237,
          0.8599001125517237,
          0.8599001125517237,
          0.8599001125517237,
          0.8599001125517237,
          0.8599001125517237,
          0.8599001125517237,
          0.8599001125517237,
          0.8599001125517237,
          0.8599001125517237,
          0.8599001125517237,
          0.8599001125517237,
          0.8599001125517237,
          0.8599001125517237,
          0.8599001125517237,
          0.8599001125517237,
          0.863270924336746,
          0.863270924336746,
          0.863270924336746,
          0.863270924336746,
          0.863270924336746,
          0.863270924336746,
          0.863270924336746,
          0.863270924336746,
          0.863270924336746,
          0.863270924336746,
          0.863270924336746,
          0.863270924336746,
          0.863270924336746,
          0.863270924336746,
          0.863270924336746,
          0.863270924336746,
          0.863270924336746,
          0.863270924336746,
          0.863270924336746,
          0.863270924336746,
          0.863270924336746,
          0.863270924336746,
          0.863270924336746,
          0.863270924336746,
          0.863270924336746,
          0.863270924336746,
          0.863270924336746,
          0.863270924336746,
          0.863270924336746,
          0.863270924336746,
          0.863270924336746,
          0.863270924336746,
          0.863270924336746,
          0.863270924336746,
          0.863270924336746,
          0.863270924336746,
          0.863270924336746,
          0.863270924336746,
          0.863270924336746,
          0.863270924336746,
          0.863270924336746,
          0.863270924336746,
          0.863270924336746,
          0.863270924336746,
          0.863270924336746,
          0.863270924336746,
          0.863270924336746,
          0.863270924336746,
          0.863270924336746,
          0.863270924336746,
          0.863270924336746,
          0.863270924336746,
          0.863270924336746,
          0.863270924336746,
          0.863270924336746,
          0.863270924336746,
          0.863270924336746,
          0.863270924336746
         ]
        },
        {
         "marker": {
          "color": "#cccccc"
         },
         "mode": "markers",
         "name": "Infeasible Trial",
         "showlegend": false,
         "type": "scatter",
         "x": [],
         "y": []
        }
       ],
       "layout": {
        "template": {
         "data": {
          "bar": [
           {
            "error_x": {
             "color": "#2a3f5f"
            },
            "error_y": {
             "color": "#2a3f5f"
            },
            "marker": {
             "line": {
              "color": "#E5ECF6",
              "width": 0.5
             },
             "pattern": {
              "fillmode": "overlay",
              "size": 10,
              "solidity": 0.2
             }
            },
            "type": "bar"
           }
          ],
          "barpolar": [
           {
            "marker": {
             "line": {
              "color": "#E5ECF6",
              "width": 0.5
             },
             "pattern": {
              "fillmode": "overlay",
              "size": 10,
              "solidity": 0.2
             }
            },
            "type": "barpolar"
           }
          ],
          "carpet": [
           {
            "aaxis": {
             "endlinecolor": "#2a3f5f",
             "gridcolor": "white",
             "linecolor": "white",
             "minorgridcolor": "white",
             "startlinecolor": "#2a3f5f"
            },
            "baxis": {
             "endlinecolor": "#2a3f5f",
             "gridcolor": "white",
             "linecolor": "white",
             "minorgridcolor": "white",
             "startlinecolor": "#2a3f5f"
            },
            "type": "carpet"
           }
          ],
          "choropleth": [
           {
            "colorbar": {
             "outlinewidth": 0,
             "ticks": ""
            },
            "type": "choropleth"
           }
          ],
          "contour": [
           {
            "colorbar": {
             "outlinewidth": 0,
             "ticks": ""
            },
            "colorscale": [
             [
              0,
              "#0d0887"
             ],
             [
              0.1111111111111111,
              "#46039f"
             ],
             [
              0.2222222222222222,
              "#7201a8"
             ],
             [
              0.3333333333333333,
              "#9c179e"
             ],
             [
              0.4444444444444444,
              "#bd3786"
             ],
             [
              0.5555555555555556,
              "#d8576b"
             ],
             [
              0.6666666666666666,
              "#ed7953"
             ],
             [
              0.7777777777777778,
              "#fb9f3a"
             ],
             [
              0.8888888888888888,
              "#fdca26"
             ],
             [
              1,
              "#f0f921"
             ]
            ],
            "type": "contour"
           }
          ],
          "contourcarpet": [
           {
            "colorbar": {
             "outlinewidth": 0,
             "ticks": ""
            },
            "type": "contourcarpet"
           }
          ],
          "heatmap": [
           {
            "colorbar": {
             "outlinewidth": 0,
             "ticks": ""
            },
            "colorscale": [
             [
              0,
              "#0d0887"
             ],
             [
              0.1111111111111111,
              "#46039f"
             ],
             [
              0.2222222222222222,
              "#7201a8"
             ],
             [
              0.3333333333333333,
              "#9c179e"
             ],
             [
              0.4444444444444444,
              "#bd3786"
             ],
             [
              0.5555555555555556,
              "#d8576b"
             ],
             [
              0.6666666666666666,
              "#ed7953"
             ],
             [
              0.7777777777777778,
              "#fb9f3a"
             ],
             [
              0.8888888888888888,
              "#fdca26"
             ],
             [
              1,
              "#f0f921"
             ]
            ],
            "type": "heatmap"
           }
          ],
          "heatmapgl": [
           {
            "colorbar": {
             "outlinewidth": 0,
             "ticks": ""
            },
            "colorscale": [
             [
              0,
              "#0d0887"
             ],
             [
              0.1111111111111111,
              "#46039f"
             ],
             [
              0.2222222222222222,
              "#7201a8"
             ],
             [
              0.3333333333333333,
              "#9c179e"
             ],
             [
              0.4444444444444444,
              "#bd3786"
             ],
             [
              0.5555555555555556,
              "#d8576b"
             ],
             [
              0.6666666666666666,
              "#ed7953"
             ],
             [
              0.7777777777777778,
              "#fb9f3a"
             ],
             [
              0.8888888888888888,
              "#fdca26"
             ],
             [
              1,
              "#f0f921"
             ]
            ],
            "type": "heatmapgl"
           }
          ],
          "histogram": [
           {
            "marker": {
             "pattern": {
              "fillmode": "overlay",
              "size": 10,
              "solidity": 0.2
             }
            },
            "type": "histogram"
           }
          ],
          "histogram2d": [
           {
            "colorbar": {
             "outlinewidth": 0,
             "ticks": ""
            },
            "colorscale": [
             [
              0,
              "#0d0887"
             ],
             [
              0.1111111111111111,
              "#46039f"
             ],
             [
              0.2222222222222222,
              "#7201a8"
             ],
             [
              0.3333333333333333,
              "#9c179e"
             ],
             [
              0.4444444444444444,
              "#bd3786"
             ],
             [
              0.5555555555555556,
              "#d8576b"
             ],
             [
              0.6666666666666666,
              "#ed7953"
             ],
             [
              0.7777777777777778,
              "#fb9f3a"
             ],
             [
              0.8888888888888888,
              "#fdca26"
             ],
             [
              1,
              "#f0f921"
             ]
            ],
            "type": "histogram2d"
           }
          ],
          "histogram2dcontour": [
           {
            "colorbar": {
             "outlinewidth": 0,
             "ticks": ""
            },
            "colorscale": [
             [
              0,
              "#0d0887"
             ],
             [
              0.1111111111111111,
              "#46039f"
             ],
             [
              0.2222222222222222,
              "#7201a8"
             ],
             [
              0.3333333333333333,
              "#9c179e"
             ],
             [
              0.4444444444444444,
              "#bd3786"
             ],
             [
              0.5555555555555556,
              "#d8576b"
             ],
             [
              0.6666666666666666,
              "#ed7953"
             ],
             [
              0.7777777777777778,
              "#fb9f3a"
             ],
             [
              0.8888888888888888,
              "#fdca26"
             ],
             [
              1,
              "#f0f921"
             ]
            ],
            "type": "histogram2dcontour"
           }
          ],
          "mesh3d": [
           {
            "colorbar": {
             "outlinewidth": 0,
             "ticks": ""
            },
            "type": "mesh3d"
           }
          ],
          "parcoords": [
           {
            "line": {
             "colorbar": {
              "outlinewidth": 0,
              "ticks": ""
             }
            },
            "type": "parcoords"
           }
          ],
          "pie": [
           {
            "automargin": true,
            "type": "pie"
           }
          ],
          "scatter": [
           {
            "fillpattern": {
             "fillmode": "overlay",
             "size": 10,
             "solidity": 0.2
            },
            "type": "scatter"
           }
          ],
          "scatter3d": [
           {
            "line": {
             "colorbar": {
              "outlinewidth": 0,
              "ticks": ""
             }
            },
            "marker": {
             "colorbar": {
              "outlinewidth": 0,
              "ticks": ""
             }
            },
            "type": "scatter3d"
           }
          ],
          "scattercarpet": [
           {
            "marker": {
             "colorbar": {
              "outlinewidth": 0,
              "ticks": ""
             }
            },
            "type": "scattercarpet"
           }
          ],
          "scattergeo": [
           {
            "marker": {
             "colorbar": {
              "outlinewidth": 0,
              "ticks": ""
             }
            },
            "type": "scattergeo"
           }
          ],
          "scattergl": [
           {
            "marker": {
             "colorbar": {
              "outlinewidth": 0,
              "ticks": ""
             }
            },
            "type": "scattergl"
           }
          ],
          "scattermapbox": [
           {
            "marker": {
             "colorbar": {
              "outlinewidth": 0,
              "ticks": ""
             }
            },
            "type": "scattermapbox"
           }
          ],
          "scatterpolar": [
           {
            "marker": {
             "colorbar": {
              "outlinewidth": 0,
              "ticks": ""
             }
            },
            "type": "scatterpolar"
           }
          ],
          "scatterpolargl": [
           {
            "marker": {
             "colorbar": {
              "outlinewidth": 0,
              "ticks": ""
             }
            },
            "type": "scatterpolargl"
           }
          ],
          "scatterternary": [
           {
            "marker": {
             "colorbar": {
              "outlinewidth": 0,
              "ticks": ""
             }
            },
            "type": "scatterternary"
           }
          ],
          "surface": [
           {
            "colorbar": {
             "outlinewidth": 0,
             "ticks": ""
            },
            "colorscale": [
             [
              0,
              "#0d0887"
             ],
             [
              0.1111111111111111,
              "#46039f"
             ],
             [
              0.2222222222222222,
              "#7201a8"
             ],
             [
              0.3333333333333333,
              "#9c179e"
             ],
             [
              0.4444444444444444,
              "#bd3786"
             ],
             [
              0.5555555555555556,
              "#d8576b"
             ],
             [
              0.6666666666666666,
              "#ed7953"
             ],
             [
              0.7777777777777778,
              "#fb9f3a"
             ],
             [
              0.8888888888888888,
              "#fdca26"
             ],
             [
              1,
              "#f0f921"
             ]
            ],
            "type": "surface"
           }
          ],
          "table": [
           {
            "cells": {
             "fill": {
              "color": "#EBF0F8"
             },
             "line": {
              "color": "white"
             }
            },
            "header": {
             "fill": {
              "color": "#C8D4E3"
             },
             "line": {
              "color": "white"
             }
            },
            "type": "table"
           }
          ]
         },
         "layout": {
          "annotationdefaults": {
           "arrowcolor": "#2a3f5f",
           "arrowhead": 0,
           "arrowwidth": 1
          },
          "autotypenumbers": "strict",
          "coloraxis": {
           "colorbar": {
            "outlinewidth": 0,
            "ticks": ""
           }
          },
          "colorscale": {
           "diverging": [
            [
             0,
             "#8e0152"
            ],
            [
             0.1,
             "#c51b7d"
            ],
            [
             0.2,
             "#de77ae"
            ],
            [
             0.3,
             "#f1b6da"
            ],
            [
             0.4,
             "#fde0ef"
            ],
            [
             0.5,
             "#f7f7f7"
            ],
            [
             0.6,
             "#e6f5d0"
            ],
            [
             0.7,
             "#b8e186"
            ],
            [
             0.8,
             "#7fbc41"
            ],
            [
             0.9,
             "#4d9221"
            ],
            [
             1,
             "#276419"
            ]
           ],
           "sequential": [
            [
             0,
             "#0d0887"
            ],
            [
             0.1111111111111111,
             "#46039f"
            ],
            [
             0.2222222222222222,
             "#7201a8"
            ],
            [
             0.3333333333333333,
             "#9c179e"
            ],
            [
             0.4444444444444444,
             "#bd3786"
            ],
            [
             0.5555555555555556,
             "#d8576b"
            ],
            [
             0.6666666666666666,
             "#ed7953"
            ],
            [
             0.7777777777777778,
             "#fb9f3a"
            ],
            [
             0.8888888888888888,
             "#fdca26"
            ],
            [
             1,
             "#f0f921"
            ]
           ],
           "sequentialminus": [
            [
             0,
             "#0d0887"
            ],
            [
             0.1111111111111111,
             "#46039f"
            ],
            [
             0.2222222222222222,
             "#7201a8"
            ],
            [
             0.3333333333333333,
             "#9c179e"
            ],
            [
             0.4444444444444444,
             "#bd3786"
            ],
            [
             0.5555555555555556,
             "#d8576b"
            ],
            [
             0.6666666666666666,
             "#ed7953"
            ],
            [
             0.7777777777777778,
             "#fb9f3a"
            ],
            [
             0.8888888888888888,
             "#fdca26"
            ],
            [
             1,
             "#f0f921"
            ]
           ]
          },
          "colorway": [
           "#636efa",
           "#EF553B",
           "#00cc96",
           "#ab63fa",
           "#FFA15A",
           "#19d3f3",
           "#FF6692",
           "#B6E880",
           "#FF97FF",
           "#FECB52"
          ],
          "font": {
           "color": "#2a3f5f"
          },
          "geo": {
           "bgcolor": "white",
           "lakecolor": "white",
           "landcolor": "#E5ECF6",
           "showlakes": true,
           "showland": true,
           "subunitcolor": "white"
          },
          "hoverlabel": {
           "align": "left"
          },
          "hovermode": "closest",
          "mapbox": {
           "style": "light"
          },
          "paper_bgcolor": "white",
          "plot_bgcolor": "#E5ECF6",
          "polar": {
           "angularaxis": {
            "gridcolor": "white",
            "linecolor": "white",
            "ticks": ""
           },
           "bgcolor": "#E5ECF6",
           "radialaxis": {
            "gridcolor": "white",
            "linecolor": "white",
            "ticks": ""
           }
          },
          "scene": {
           "xaxis": {
            "backgroundcolor": "#E5ECF6",
            "gridcolor": "white",
            "gridwidth": 2,
            "linecolor": "white",
            "showbackground": true,
            "ticks": "",
            "zerolinecolor": "white"
           },
           "yaxis": {
            "backgroundcolor": "#E5ECF6",
            "gridcolor": "white",
            "gridwidth": 2,
            "linecolor": "white",
            "showbackground": true,
            "ticks": "",
            "zerolinecolor": "white"
           },
           "zaxis": {
            "backgroundcolor": "#E5ECF6",
            "gridcolor": "white",
            "gridwidth": 2,
            "linecolor": "white",
            "showbackground": true,
            "ticks": "",
            "zerolinecolor": "white"
           }
          },
          "shapedefaults": {
           "line": {
            "color": "#2a3f5f"
           }
          },
          "ternary": {
           "aaxis": {
            "gridcolor": "white",
            "linecolor": "white",
            "ticks": ""
           },
           "baxis": {
            "gridcolor": "white",
            "linecolor": "white",
            "ticks": ""
           },
           "bgcolor": "#E5ECF6",
           "caxis": {
            "gridcolor": "white",
            "linecolor": "white",
            "ticks": ""
           }
          },
          "title": {
           "x": 0.05
          },
          "xaxis": {
           "automargin": true,
           "gridcolor": "white",
           "linecolor": "white",
           "ticks": "",
           "title": {
            "standoff": 15
           },
           "zerolinecolor": "white",
           "zerolinewidth": 2
          },
          "yaxis": {
           "automargin": true,
           "gridcolor": "white",
           "linecolor": "white",
           "ticks": "",
           "title": {
            "standoff": 15
           },
           "zerolinecolor": "white",
           "zerolinewidth": 2
          }
         }
        },
        "title": {
         "text": "Optimization History Plot"
        },
        "xaxis": {
         "title": {
          "text": "Trial"
         }
        },
        "yaxis": {
         "title": {
          "text": "Objective Value"
         }
        }
       }
      }
     },
     "metadata": {},
     "output_type": "display_data"
    }
   ],
   "source": [
    "# Plot optimization history\n",
    "plot_optimization_history(study)"
   ]
  },
  {
   "cell_type": "code",
   "execution_count": 237,
   "id": "07037d73",
   "metadata": {},
   "outputs": [
    {
     "data": {
      "application/vnd.plotly.v1+json": {
       "config": {
        "plotlyServerURL": "https://plot.ly"
       },
       "data": [
        {
         "cliponaxis": false,
         "hovertemplate": [
          "n_estimators (IntDistribution): 0.0028775650718302894<extra></extra>",
          "learning_rate (FloatDistribution): 0.02669559474462005<extra></extra>",
          "max_depth (IntDistribution): 0.027549888873899604<extra></extra>",
          "subsample (FloatDistribution): 0.94287695130965<extra></extra>"
         ],
         "name": "Objective Value",
         "orientation": "h",
         "text": [
          "<0.01",
          "0.03",
          "0.03",
          "0.94"
         ],
         "textposition": "outside",
         "type": "bar",
         "x": [
          0.0028775650718302894,
          0.02669559474462005,
          0.027549888873899604,
          0.94287695130965
         ],
         "y": [
          "n_estimators",
          "learning_rate",
          "max_depth",
          "subsample"
         ]
        }
       ],
       "layout": {
        "template": {
         "data": {
          "bar": [
           {
            "error_x": {
             "color": "#2a3f5f"
            },
            "error_y": {
             "color": "#2a3f5f"
            },
            "marker": {
             "line": {
              "color": "#E5ECF6",
              "width": 0.5
             },
             "pattern": {
              "fillmode": "overlay",
              "size": 10,
              "solidity": 0.2
             }
            },
            "type": "bar"
           }
          ],
          "barpolar": [
           {
            "marker": {
             "line": {
              "color": "#E5ECF6",
              "width": 0.5
             },
             "pattern": {
              "fillmode": "overlay",
              "size": 10,
              "solidity": 0.2
             }
            },
            "type": "barpolar"
           }
          ],
          "carpet": [
           {
            "aaxis": {
             "endlinecolor": "#2a3f5f",
             "gridcolor": "white",
             "linecolor": "white",
             "minorgridcolor": "white",
             "startlinecolor": "#2a3f5f"
            },
            "baxis": {
             "endlinecolor": "#2a3f5f",
             "gridcolor": "white",
             "linecolor": "white",
             "minorgridcolor": "white",
             "startlinecolor": "#2a3f5f"
            },
            "type": "carpet"
           }
          ],
          "choropleth": [
           {
            "colorbar": {
             "outlinewidth": 0,
             "ticks": ""
            },
            "type": "choropleth"
           }
          ],
          "contour": [
           {
            "colorbar": {
             "outlinewidth": 0,
             "ticks": ""
            },
            "colorscale": [
             [
              0,
              "#0d0887"
             ],
             [
              0.1111111111111111,
              "#46039f"
             ],
             [
              0.2222222222222222,
              "#7201a8"
             ],
             [
              0.3333333333333333,
              "#9c179e"
             ],
             [
              0.4444444444444444,
              "#bd3786"
             ],
             [
              0.5555555555555556,
              "#d8576b"
             ],
             [
              0.6666666666666666,
              "#ed7953"
             ],
             [
              0.7777777777777778,
              "#fb9f3a"
             ],
             [
              0.8888888888888888,
              "#fdca26"
             ],
             [
              1,
              "#f0f921"
             ]
            ],
            "type": "contour"
           }
          ],
          "contourcarpet": [
           {
            "colorbar": {
             "outlinewidth": 0,
             "ticks": ""
            },
            "type": "contourcarpet"
           }
          ],
          "heatmap": [
           {
            "colorbar": {
             "outlinewidth": 0,
             "ticks": ""
            },
            "colorscale": [
             [
              0,
              "#0d0887"
             ],
             [
              0.1111111111111111,
              "#46039f"
             ],
             [
              0.2222222222222222,
              "#7201a8"
             ],
             [
              0.3333333333333333,
              "#9c179e"
             ],
             [
              0.4444444444444444,
              "#bd3786"
             ],
             [
              0.5555555555555556,
              "#d8576b"
             ],
             [
              0.6666666666666666,
              "#ed7953"
             ],
             [
              0.7777777777777778,
              "#fb9f3a"
             ],
             [
              0.8888888888888888,
              "#fdca26"
             ],
             [
              1,
              "#f0f921"
             ]
            ],
            "type": "heatmap"
           }
          ],
          "heatmapgl": [
           {
            "colorbar": {
             "outlinewidth": 0,
             "ticks": ""
            },
            "colorscale": [
             [
              0,
              "#0d0887"
             ],
             [
              0.1111111111111111,
              "#46039f"
             ],
             [
              0.2222222222222222,
              "#7201a8"
             ],
             [
              0.3333333333333333,
              "#9c179e"
             ],
             [
              0.4444444444444444,
              "#bd3786"
             ],
             [
              0.5555555555555556,
              "#d8576b"
             ],
             [
              0.6666666666666666,
              "#ed7953"
             ],
             [
              0.7777777777777778,
              "#fb9f3a"
             ],
             [
              0.8888888888888888,
              "#fdca26"
             ],
             [
              1,
              "#f0f921"
             ]
            ],
            "type": "heatmapgl"
           }
          ],
          "histogram": [
           {
            "marker": {
             "pattern": {
              "fillmode": "overlay",
              "size": 10,
              "solidity": 0.2
             }
            },
            "type": "histogram"
           }
          ],
          "histogram2d": [
           {
            "colorbar": {
             "outlinewidth": 0,
             "ticks": ""
            },
            "colorscale": [
             [
              0,
              "#0d0887"
             ],
             [
              0.1111111111111111,
              "#46039f"
             ],
             [
              0.2222222222222222,
              "#7201a8"
             ],
             [
              0.3333333333333333,
              "#9c179e"
             ],
             [
              0.4444444444444444,
              "#bd3786"
             ],
             [
              0.5555555555555556,
              "#d8576b"
             ],
             [
              0.6666666666666666,
              "#ed7953"
             ],
             [
              0.7777777777777778,
              "#fb9f3a"
             ],
             [
              0.8888888888888888,
              "#fdca26"
             ],
             [
              1,
              "#f0f921"
             ]
            ],
            "type": "histogram2d"
           }
          ],
          "histogram2dcontour": [
           {
            "colorbar": {
             "outlinewidth": 0,
             "ticks": ""
            },
            "colorscale": [
             [
              0,
              "#0d0887"
             ],
             [
              0.1111111111111111,
              "#46039f"
             ],
             [
              0.2222222222222222,
              "#7201a8"
             ],
             [
              0.3333333333333333,
              "#9c179e"
             ],
             [
              0.4444444444444444,
              "#bd3786"
             ],
             [
              0.5555555555555556,
              "#d8576b"
             ],
             [
              0.6666666666666666,
              "#ed7953"
             ],
             [
              0.7777777777777778,
              "#fb9f3a"
             ],
             [
              0.8888888888888888,
              "#fdca26"
             ],
             [
              1,
              "#f0f921"
             ]
            ],
            "type": "histogram2dcontour"
           }
          ],
          "mesh3d": [
           {
            "colorbar": {
             "outlinewidth": 0,
             "ticks": ""
            },
            "type": "mesh3d"
           }
          ],
          "parcoords": [
           {
            "line": {
             "colorbar": {
              "outlinewidth": 0,
              "ticks": ""
             }
            },
            "type": "parcoords"
           }
          ],
          "pie": [
           {
            "automargin": true,
            "type": "pie"
           }
          ],
          "scatter": [
           {
            "fillpattern": {
             "fillmode": "overlay",
             "size": 10,
             "solidity": 0.2
            },
            "type": "scatter"
           }
          ],
          "scatter3d": [
           {
            "line": {
             "colorbar": {
              "outlinewidth": 0,
              "ticks": ""
             }
            },
            "marker": {
             "colorbar": {
              "outlinewidth": 0,
              "ticks": ""
             }
            },
            "type": "scatter3d"
           }
          ],
          "scattercarpet": [
           {
            "marker": {
             "colorbar": {
              "outlinewidth": 0,
              "ticks": ""
             }
            },
            "type": "scattercarpet"
           }
          ],
          "scattergeo": [
           {
            "marker": {
             "colorbar": {
              "outlinewidth": 0,
              "ticks": ""
             }
            },
            "type": "scattergeo"
           }
          ],
          "scattergl": [
           {
            "marker": {
             "colorbar": {
              "outlinewidth": 0,
              "ticks": ""
             }
            },
            "type": "scattergl"
           }
          ],
          "scattermapbox": [
           {
            "marker": {
             "colorbar": {
              "outlinewidth": 0,
              "ticks": ""
             }
            },
            "type": "scattermapbox"
           }
          ],
          "scatterpolar": [
           {
            "marker": {
             "colorbar": {
              "outlinewidth": 0,
              "ticks": ""
             }
            },
            "type": "scatterpolar"
           }
          ],
          "scatterpolargl": [
           {
            "marker": {
             "colorbar": {
              "outlinewidth": 0,
              "ticks": ""
             }
            },
            "type": "scatterpolargl"
           }
          ],
          "scatterternary": [
           {
            "marker": {
             "colorbar": {
              "outlinewidth": 0,
              "ticks": ""
             }
            },
            "type": "scatterternary"
           }
          ],
          "surface": [
           {
            "colorbar": {
             "outlinewidth": 0,
             "ticks": ""
            },
            "colorscale": [
             [
              0,
              "#0d0887"
             ],
             [
              0.1111111111111111,
              "#46039f"
             ],
             [
              0.2222222222222222,
              "#7201a8"
             ],
             [
              0.3333333333333333,
              "#9c179e"
             ],
             [
              0.4444444444444444,
              "#bd3786"
             ],
             [
              0.5555555555555556,
              "#d8576b"
             ],
             [
              0.6666666666666666,
              "#ed7953"
             ],
             [
              0.7777777777777778,
              "#fb9f3a"
             ],
             [
              0.8888888888888888,
              "#fdca26"
             ],
             [
              1,
              "#f0f921"
             ]
            ],
            "type": "surface"
           }
          ],
          "table": [
           {
            "cells": {
             "fill": {
              "color": "#EBF0F8"
             },
             "line": {
              "color": "white"
             }
            },
            "header": {
             "fill": {
              "color": "#C8D4E3"
             },
             "line": {
              "color": "white"
             }
            },
            "type": "table"
           }
          ]
         },
         "layout": {
          "annotationdefaults": {
           "arrowcolor": "#2a3f5f",
           "arrowhead": 0,
           "arrowwidth": 1
          },
          "autotypenumbers": "strict",
          "coloraxis": {
           "colorbar": {
            "outlinewidth": 0,
            "ticks": ""
           }
          },
          "colorscale": {
           "diverging": [
            [
             0,
             "#8e0152"
            ],
            [
             0.1,
             "#c51b7d"
            ],
            [
             0.2,
             "#de77ae"
            ],
            [
             0.3,
             "#f1b6da"
            ],
            [
             0.4,
             "#fde0ef"
            ],
            [
             0.5,
             "#f7f7f7"
            ],
            [
             0.6,
             "#e6f5d0"
            ],
            [
             0.7,
             "#b8e186"
            ],
            [
             0.8,
             "#7fbc41"
            ],
            [
             0.9,
             "#4d9221"
            ],
            [
             1,
             "#276419"
            ]
           ],
           "sequential": [
            [
             0,
             "#0d0887"
            ],
            [
             0.1111111111111111,
             "#46039f"
            ],
            [
             0.2222222222222222,
             "#7201a8"
            ],
            [
             0.3333333333333333,
             "#9c179e"
            ],
            [
             0.4444444444444444,
             "#bd3786"
            ],
            [
             0.5555555555555556,
             "#d8576b"
            ],
            [
             0.6666666666666666,
             "#ed7953"
            ],
            [
             0.7777777777777778,
             "#fb9f3a"
            ],
            [
             0.8888888888888888,
             "#fdca26"
            ],
            [
             1,
             "#f0f921"
            ]
           ],
           "sequentialminus": [
            [
             0,
             "#0d0887"
            ],
            [
             0.1111111111111111,
             "#46039f"
            ],
            [
             0.2222222222222222,
             "#7201a8"
            ],
            [
             0.3333333333333333,
             "#9c179e"
            ],
            [
             0.4444444444444444,
             "#bd3786"
            ],
            [
             0.5555555555555556,
             "#d8576b"
            ],
            [
             0.6666666666666666,
             "#ed7953"
            ],
            [
             0.7777777777777778,
             "#fb9f3a"
            ],
            [
             0.8888888888888888,
             "#fdca26"
            ],
            [
             1,
             "#f0f921"
            ]
           ]
          },
          "colorway": [
           "#636efa",
           "#EF553B",
           "#00cc96",
           "#ab63fa",
           "#FFA15A",
           "#19d3f3",
           "#FF6692",
           "#B6E880",
           "#FF97FF",
           "#FECB52"
          ],
          "font": {
           "color": "#2a3f5f"
          },
          "geo": {
           "bgcolor": "white",
           "lakecolor": "white",
           "landcolor": "#E5ECF6",
           "showlakes": true,
           "showland": true,
           "subunitcolor": "white"
          },
          "hoverlabel": {
           "align": "left"
          },
          "hovermode": "closest",
          "mapbox": {
           "style": "light"
          },
          "paper_bgcolor": "white",
          "plot_bgcolor": "#E5ECF6",
          "polar": {
           "angularaxis": {
            "gridcolor": "white",
            "linecolor": "white",
            "ticks": ""
           },
           "bgcolor": "#E5ECF6",
           "radialaxis": {
            "gridcolor": "white",
            "linecolor": "white",
            "ticks": ""
           }
          },
          "scene": {
           "xaxis": {
            "backgroundcolor": "#E5ECF6",
            "gridcolor": "white",
            "gridwidth": 2,
            "linecolor": "white",
            "showbackground": true,
            "ticks": "",
            "zerolinecolor": "white"
           },
           "yaxis": {
            "backgroundcolor": "#E5ECF6",
            "gridcolor": "white",
            "gridwidth": 2,
            "linecolor": "white",
            "showbackground": true,
            "ticks": "",
            "zerolinecolor": "white"
           },
           "zaxis": {
            "backgroundcolor": "#E5ECF6",
            "gridcolor": "white",
            "gridwidth": 2,
            "linecolor": "white",
            "showbackground": true,
            "ticks": "",
            "zerolinecolor": "white"
           }
          },
          "shapedefaults": {
           "line": {
            "color": "#2a3f5f"
           }
          },
          "ternary": {
           "aaxis": {
            "gridcolor": "white",
            "linecolor": "white",
            "ticks": ""
           },
           "baxis": {
            "gridcolor": "white",
            "linecolor": "white",
            "ticks": ""
           },
           "bgcolor": "#E5ECF6",
           "caxis": {
            "gridcolor": "white",
            "linecolor": "white",
            "ticks": ""
           }
          },
          "title": {
           "x": 0.05
          },
          "xaxis": {
           "automargin": true,
           "gridcolor": "white",
           "linecolor": "white",
           "ticks": "",
           "title": {
            "standoff": 15
           },
           "zerolinecolor": "white",
           "zerolinewidth": 2
          },
          "yaxis": {
           "automargin": true,
           "gridcolor": "white",
           "linecolor": "white",
           "ticks": "",
           "title": {
            "standoff": 15
           },
           "zerolinecolor": "white",
           "zerolinewidth": 2
          }
         }
        },
        "title": {
         "text": "Hyperparameter Importances"
        },
        "xaxis": {
         "title": {
          "text": "Hyperparameter Importance"
         }
        },
        "yaxis": {
         "title": {
          "text": "Hyperparameter"
         }
        }
       }
      }
     },
     "metadata": {},
     "output_type": "display_data"
    }
   ],
   "source": [
    "# Plot parameter importances\n",
    "plot_param_importances(study)"
   ]
  },
  {
   "cell_type": "code",
   "execution_count": 238,
   "id": "e8f4d4d6",
   "metadata": {},
   "outputs": [
    {
     "name": "stdout",
     "output_type": "stream",
     "text": [
      "        n_estimators : 116\n",
      "       learning_rate : 0.1374585643367982\n",
      "           max_depth : 6\n",
      "           subsample : 0.44004764170166705\n",
      "best objective value : 0.863270924336746\n"
     ]
    }
   ],
   "source": [
    "hp = study.best_params\n",
    "\n",
    "for key, value in hp.items():\n",
    "    print(f\"{key:>20s} : {value}\")\n",
    "print(f\"{'best objective value':>20s} : {study.best_value}\")\n",
    "\n",
    "hp[\"verbosity\"] = 0\n",
    "hp[\"objective\"] = \"reg:squarederror\"\n",
    "hp[\"tree_method\"] = \"hist\"\n",
    "hp[\"seed\"] = RS\n",
    "hp[\"n_jobs\"] = N_JOBS"
   ]
  },
  {
   "cell_type": "code",
   "execution_count": 239,
   "id": "d1c07beb",
   "metadata": {},
   "outputs": [],
   "source": [
    "model = xgb.XGBRegressor(**hp, eval_metric=\"rmse\",early_stopping_rounds = EARLY_STOPPING_ROUNDS)\n",
    "rkf = RepeatedKFold(n_splits=N_SPLITS, n_repeats=N_REPEATS, random_state=RS)\n",
    "X_values = X_train.values\n",
    "y_values = y_train.values\n",
    "y_pred = np.zeros_like(y_test.values)\n",
    "for train_index, test_index in rkf.split(X_values):\n",
    "    X_A, X_B = X_values[train_index, :], X_values[test_index, :]\n",
    "    y_A, y_B = y_values[train_index], y_values[test_index]\n",
    "    model.fit(\n",
    "        X_A,\n",
    "        y_A,\n",
    "        eval_set=[(X_B, y_B)],\n",
    "        verbose=0,\n",
    "    )\n",
    "    y_pred += model.predict(X_test.values)\n",
    "y_pred /= N_REPEATS * N_SPLITS"
   ]
  },
  {
   "cell_type": "code",
   "execution_count": 240,
   "id": "0a3b1923",
   "metadata": {},
   "outputs": [],
   "source": [
    "score, mse = r2_score(y_true=y_test, y_pred=y_pred), mean_squared_error(y_true=y_test, y_pred=y_pred)"
   ]
  },
  {
   "cell_type": "code",
   "execution_count": 241,
   "id": "233330a8",
   "metadata": {},
   "outputs": [
    {
     "data": {
      "image/png": "[encoded data removed]",
      "text/plain": [
       "<Figure size 1525.59x1525.59 with 1 Axes>"
      ]
     },
     "metadata": {},
     "output_type": "display_data"
    }
   ],
   "source": [
    "from sklearn.metrics import PredictionErrorDisplay\n",
    "\n",
    "figsize= (15.5/2*cm, 15.5/2*cm)\n",
    "\n",
    "y_true = y_test\n",
    "y_pred = pd.DataFrame(y_pred)\n",
    "\n",
    "\n",
    "# Define plot structure\n",
    "fig, axs = plt.subplots(nrows=1, ncols=1, figsize=figsize, dpi=500)\n",
    "\n",
    "ped = PredictionErrorDisplay.from_predictions(y_true=y_true,\n",
    "                                            y_pred=y_pred,\n",
    "                                            kind=\"actual_vs_predicted\",\n",
    "                                            subsample=100000,\n",
    "                                            ax=axs,\n",
    "                                            random_state=0, \n",
    "                                            line_kwargs={\"color\": \"black\", \"linewidth\": 0.75, \"linestyle\": \"--\", \"alpha\": 1},)\n",
    "\n",
    "ped.ax_.set_xlabel(\"\")  # Set x label\n",
    "ped.ax_.set_ylabel(\"\")  # Set y label\n",
    "\n",
    "xlim, ylim = axis_limit[j][0], axis_limit[j][1]\n",
    "\n",
    "ped.ax_.set_xticks(np.arange(xlim, ylim+0.001, (ylim-xlim)/4))\n",
    "ped.ax_.set_yticks(np.arange(xlim, ylim+0.001, (ylim-xlim)/4))\n",
    "\n",
    "\n",
    "ped.ax_.grid(linewidth = 0.5, linestyle = 'dotted')\n",
    "\n",
    "scatter = ped.figure_.axes[0].collections[0]\n",
    "scatter.set_color('gray')  \n",
    "scatter.set_sizes([5]) \n",
    "scatter.set_alpha([0.5]) \n",
    "\n",
    "plt.title(f'{investigated_column_plot}: $R^2$ = {score:.4f}, $MSE$ = {mse:.4f}', x = 0.5, y=1.0)  \n",
    "\n",
    "ax = ped.ax_\n",
    "ax.set_xticks(ax.get_xticks())\n",
    "ax.tick_params(axis='x', rotation=0)\n",
    "\n",
    "fig.text(0.55, 0.03, r'$\\leftarrow$     Predicted data     $\\rightarrow$', ha='center', va='center')\n",
    "fig.text(0.03, 0.5, r'$\\leftarrow$     Actual data     $\\rightarrow$', ha='center', va='center', rotation='vertical')\n",
    "\n",
    "plt.subplots_adjust(left=0.19, right=0.95, top=0.91, bottom=0.15, wspace=0.5, hspace=0.5)\n",
    "plt.savefig(save_path, dpi=1000)"
   ]
  },
  {
   "cell_type": "code",
   "execution_count": 242,
   "id": "76e33465",
   "metadata": {},
   "outputs": [
    {
     "data": {
      "text/plain": [
       "['1_gamma_prediction_xgb_model.joblib']"
      ]
     },
     "execution_count": 242,
     "metadata": {},
     "output_type": "execute_result"
    }
   ],
   "source": [
    "# Save the model using joblib or pickle\n",
    "import joblib\n",
    "\n",
    "# Fit the model on the entire dataset with the best hyperparameters\n",
    "final_model = xgb.XGBRegressor(**hp, eval_metric=\"rmse\", random_state=RS)\n",
    "\n",
    "# Fit the model on the entire dataset\n",
    "final_model.fit(X, y)\n",
    "\n",
    "name = save_path.split('\\\\')[-1].split('.')[0]\n",
    "joblib.dump(final_model, f'{name}_xgb_model.joblib')\n"
   ]
  }
 ],
 "metadata": {
  "kernelspec": {
   "display_name": "DataDriven",
   "language": "python",
   "name": "python3"
  },
  "language_info": {
   "codemirror_mode": {
    "name": "ipython",
    "version": 3
   },
   "file_extension": ".py",
   "mimetype": "text/x-python",
   "name": "python",
   "nbconvert_exporter": "python",
   "pygments_lexer": "ipython3",
   "version": "3.11.1"
  }
 },
 "nbformat": 4,
 "nbformat_minor": 5
}
