{
 "cells": [
  {
   "cell_type": "code",
   "execution_count": 1,
   "id": "a5eb73a0-65aa-4212-bdb2-e36662cd5cbe",
   "metadata": {},
   "outputs": [
    {
     "name": "stderr",
     "output_type": "stream",
     "text": [
      "c:\\Users\\haris\\Documents\\GitHub\\ISGSR25_DataDrivenSiteCharacterization\\DataDriven\\Lib\\site-packages\\tqdm\\auto.py:21: TqdmWarning: IProgress not found. Please update jupyter and ipywidgets. See https://ipywidgets.readthedocs.io/en/stable/user_install.html\n",
      "  from .autonotebook import tqdm as notebook_tqdm\n"
     ]
    }
   ],
   "source": [
    "#Import packages\n",
    "import pandas as pd\n",
    "import numpy as np\n",
    "import glob\n",
    "\n",
    "from functions import plotting_raw_data, remove_outliers, error_plot, plot_cpt_data, plot_cpt_data_ML_prediction, plot_cpt_data_NW_site\n",
    "\n",
    "import matplotlib.pyplot as plt\n",
    "from sklearn.model_selection import train_test_split\n",
    "from sklearn.metrics import r2_score, mean_squared_error\n",
    "from sklearn.model_selection import cross_val_score\n",
    "from sklearn.model_selection import train_test_split\n",
    "from sklearn.model_selection import RepeatedKFold\n",
    "from sklearn.metrics import r2_score\n",
    "import xgboost as xgb\n",
    "\n",
    "import optuna\n",
    "from optuna.samplers import TPESampler\n",
    "from optuna.visualization import plot_param_importances, plot_optimization_history"
   ]
  },
  {
   "cell_type": "code",
   "execution_count": 2,
   "id": "bd41e89e-74ac-41a5-94e1-1a64f2c713e4",
   "metadata": {},
   "outputs": [],
   "source": [
    "######################## Define the text size of each plot globally ###########\n",
    "SMALL_SIZE = 10\n",
    "BIGGER_SIZE = 10\n",
    "\n",
    "plt.rc('font', size=SMALL_SIZE)          # controls default text sizes\n",
    "plt.rc('axes', titlesize=SMALL_SIZE)     # fontsize of the axes title\n",
    "plt.rc('axes', labelsize=SMALL_SIZE)    # fontsize of the x and y labels\n",
    "plt.rc('xtick', labelsize=SMALL_SIZE)    # fontsize of the tick labels\n",
    "plt.rc('ytick', labelsize=SMALL_SIZE)    # fontsize of the tick labels\n",
    "plt.rc('legend', fontsize=SMALL_SIZE)    # legend fontsize\n",
    "plt.rc('figure', titlesize=BIGGER_SIZE)  # fontsize of the figure title\n",
    "\n",
    "plt.rcParams[\"font.family\"] = \"Times New Roman\"\n",
    "cm = 1/2.54  # centimeters in inches"
   ]
  },
  {
   "cell_type": "code",
   "execution_count": null,
   "id": "583fdc51",
   "metadata": {},
   "outputs": [
    {
     "data": {
      "text/html": [
       "<div>\n",
       "<style scoped>\n",
       "    .dataframe tbody tr th:only-of-type {\n",
       "        vertical-align: middle;\n",
       "    }\n",
       "\n",
       "    .dataframe tbody tr th {\n",
       "        vertical-align: top;\n",
       "    }\n",
       "\n",
       "    .dataframe thead th {\n",
       "        text-align: right;\n",
       "    }\n",
       "</style>\n",
       "<table border=\"1\" class=\"dataframe\">\n",
       "  <thead>\n",
       "    <tr style=\"text-align: right;\">\n",
       "      <th></th>\n",
       "      <th>Depth (m)</th>\n",
       "      <th>qc (MPa)</th>\n",
       "      <th>fs (kPa)</th>\n",
       "      <th>Rf (%)</th>\n",
       "      <th>u2 (kPa)</th>\n",
       "      <th>gamma (kN/m3)</th>\n",
       "      <th>M (MN/m2)</th>\n",
       "      <th>OCR (-)</th>\n",
       "      <th>su (kPa)</th>\n",
       "      <th>sampling_name(-)</th>\n",
       "    </tr>\n",
       "  </thead>\n",
       "  <tbody>\n",
       "    <tr>\n",
       "      <th>0</th>\n",
       "      <td>1.80</td>\n",
       "      <td>0.289</td>\n",
       "      <td>19.0</td>\n",
       "      <td>6.574394</td>\n",
       "      <td>37.0</td>\n",
       "      <td>10.370000</td>\n",
       "      <td>NaN</td>\n",
       "      <td>1.830000</td>\n",
       "      <td>NaN</td>\n",
       "      <td>Bergambacht (B06 51B)</td>\n",
       "    </tr>\n",
       "    <tr>\n",
       "      <th>1</th>\n",
       "      <td>1.86</td>\n",
       "      <td>0.289</td>\n",
       "      <td>19.0</td>\n",
       "      <td>6.574394</td>\n",
       "      <td>37.0</td>\n",
       "      <td>10.390000</td>\n",
       "      <td>NaN</td>\n",
       "      <td>NaN</td>\n",
       "      <td>NaN</td>\n",
       "      <td>Bergambacht (B06 51C)</td>\n",
       "    </tr>\n",
       "    <tr>\n",
       "      <th>2</th>\n",
       "      <td>2.71</td>\n",
       "      <td>0.257</td>\n",
       "      <td>14.0</td>\n",
       "      <td>5.447471</td>\n",
       "      <td>51.0</td>\n",
       "      <td>NaN</td>\n",
       "      <td>NaN</td>\n",
       "      <td>NaN</td>\n",
       "      <td>NaN</td>\n",
       "      <td>Bergambacht (B06 52B)</td>\n",
       "    </tr>\n",
       "    <tr>\n",
       "      <th>3</th>\n",
       "      <td>2.76</td>\n",
       "      <td>0.257</td>\n",
       "      <td>14.0</td>\n",
       "      <td>5.447471</td>\n",
       "      <td>51.0</td>\n",
       "      <td>NaN</td>\n",
       "      <td>NaN</td>\n",
       "      <td>NaN</td>\n",
       "      <td>NaN</td>\n",
       "      <td>Bergambacht (B06 52C)</td>\n",
       "    </tr>\n",
       "    <tr>\n",
       "      <th>4</th>\n",
       "      <td>1.35</td>\n",
       "      <td>0.226</td>\n",
       "      <td>11.0</td>\n",
       "      <td>4.867257</td>\n",
       "      <td>51.0</td>\n",
       "      <td>NaN</td>\n",
       "      <td>NaN</td>\n",
       "      <td>NaN</td>\n",
       "      <td>NaN</td>\n",
       "      <td>Bergambacht (B06 52D)</td>\n",
       "    </tr>\n",
       "    <tr>\n",
       "      <th>...</th>\n",
       "      <td>...</td>\n",
       "      <td>...</td>\n",
       "      <td>...</td>\n",
       "      <td>...</td>\n",
       "      <td>...</td>\n",
       "      <td>...</td>\n",
       "      <td>...</td>\n",
       "      <td>...</td>\n",
       "      <td>...</td>\n",
       "      <td>...</td>\n",
       "    </tr>\n",
       "    <tr>\n",
       "      <th>785</th>\n",
       "      <td>4.55</td>\n",
       "      <td>0.480</td>\n",
       "      <td>7.5</td>\n",
       "      <td>1.562500</td>\n",
       "      <td>304.8</td>\n",
       "      <td>17.849941</td>\n",
       "      <td>2.203390</td>\n",
       "      <td>2.058824</td>\n",
       "      <td>NaN</td>\n",
       "      <td>Austria_site5</td>\n",
       "    </tr>\n",
       "    <tr>\n",
       "      <th>786</th>\n",
       "      <td>4.55</td>\n",
       "      <td>0.480</td>\n",
       "      <td>7.5</td>\n",
       "      <td>1.562500</td>\n",
       "      <td>304.8</td>\n",
       "      <td>16.930067</td>\n",
       "      <td>1.950510</td>\n",
       "      <td>2.156863</td>\n",
       "      <td>NaN</td>\n",
       "      <td>Austria_site5</td>\n",
       "    </tr>\n",
       "    <tr>\n",
       "      <th>787</th>\n",
       "      <td>4.55</td>\n",
       "      <td>0.480</td>\n",
       "      <td>7.5</td>\n",
       "      <td>1.562500</td>\n",
       "      <td>304.8</td>\n",
       "      <td>16.900000</td>\n",
       "      <td>NaN</td>\n",
       "      <td>NaN</td>\n",
       "      <td>NaN</td>\n",
       "      <td>Austria_site5</td>\n",
       "    </tr>\n",
       "    <tr>\n",
       "      <th>788</th>\n",
       "      <td>4.65</td>\n",
       "      <td>0.490</td>\n",
       "      <td>7.7</td>\n",
       "      <td>1.571429</td>\n",
       "      <td>308.8</td>\n",
       "      <td>17.237443</td>\n",
       "      <td>2.076677</td>\n",
       "      <td>1.960784</td>\n",
       "      <td>NaN</td>\n",
       "      <td>Austria_site5</td>\n",
       "    </tr>\n",
       "    <tr>\n",
       "      <th>789</th>\n",
       "      <td>4.65</td>\n",
       "      <td>0.490</td>\n",
       "      <td>7.7</td>\n",
       "      <td>1.571429</td>\n",
       "      <td>308.8</td>\n",
       "      <td>17.119064</td>\n",
       "      <td>1.703735</td>\n",
       "      <td>2.156863</td>\n",
       "      <td>NaN</td>\n",
       "      <td>Austria_site5</td>\n",
       "    </tr>\n",
       "  </tbody>\n",
       "</table>\n",
       "<p>790 rows × 10 columns</p>\n",
       "</div>"
      ],
      "text/plain": [
       "     Depth (m)  qc (MPa)  fs (kPa)    Rf (%)  u2 (kPa)  gamma (kN/m3)  \\\n",
       "0         1.80     0.289      19.0  6.574394      37.0      10.370000   \n",
       "1         1.86     0.289      19.0  6.574394      37.0      10.390000   \n",
       "2         2.71     0.257      14.0  5.447471      51.0            NaN   \n",
       "3         2.76     0.257      14.0  5.447471      51.0            NaN   \n",
       "4         1.35     0.226      11.0  4.867257      51.0            NaN   \n",
       "..         ...       ...       ...       ...       ...            ...   \n",
       "785       4.55     0.480       7.5  1.562500     304.8      17.849941   \n",
       "786       4.55     0.480       7.5  1.562500     304.8      16.930067   \n",
       "787       4.55     0.480       7.5  1.562500     304.8      16.900000   \n",
       "788       4.65     0.490       7.7  1.571429     308.8      17.237443   \n",
       "789       4.65     0.490       7.7  1.571429     308.8      17.119064   \n",
       "\n",
       "     M (MN/m2)   OCR (-)  su (kPa)       sampling_name(-)  \n",
       "0          NaN  1.830000       NaN  Bergambacht (B06 51B)  \n",
       "1          NaN       NaN       NaN  Bergambacht (B06 51C)  \n",
       "2          NaN       NaN       NaN  Bergambacht (B06 52B)  \n",
       "3          NaN       NaN       NaN  Bergambacht (B06 52C)  \n",
       "4          NaN       NaN       NaN  Bergambacht (B06 52D)  \n",
       "..         ...       ...       ...                    ...  \n",
       "785   2.203390  2.058824       NaN          Austria_site5  \n",
       "786   1.950510  2.156863       NaN          Austria_site5  \n",
       "787        NaN       NaN       NaN          Austria_site5  \n",
       "788   2.076677  1.960784       NaN          Austria_site5  \n",
       "789   1.703735  2.156863       NaN          Austria_site5  \n",
       "\n",
       "[790 rows x 10 columns]"
      ]
     },
     "execution_count": 3,
     "metadata": {},
     "output_type": "execute_result"
    }
   ],
   "source": [
    "data_ML = pd.read_csv('..\\data\\database_preprocessed_2024_soilparameter.csv')\n",
    "data_ML"
   ]
  },
  {
   "cell_type": "code",
   "execution_count": 4,
   "id": "5a040bcd",
   "metadata": {},
   "outputs": [
    {
     "name": "stdout",
     "output_type": "stream",
     "text": [
      "gamma (kN/m3) is selected to predict, $\\gamma$ (kN/m$^3$) is plotted, ..\\graphics\\\\1_gamma_prediction.png is saved, (13, 22) is the axis limit, 760 is the length of the data\n"
     ]
    }
   ],
   "source": [
    "prefix = r'..\\graphics\\\\'\n",
    "investigated_column =  ['gamma (kN/m3)', 'su (kPa)', 'M (MN/m2)', 'OCR (-)']\n",
    "investigated_column_plot =  ['$\\gamma$ (kN/m$^3$)', '$s_u$ (kPa)', 'M (MN/m$^2$)', 'OCR (-)']\n",
    "save_paths = [prefix + '1_gamma_prediction.png', prefix + '2_su_prediction.png', prefix + '3_M_prediction.png']\n",
    "axis_limit = [(13, 22), (0, 200), (0, 20), (0,20)]\n",
    "\n",
    "j = 0\n",
    "investigated_column_plot = investigated_column_plot[j]\n",
    "investigated_column = investigated_column[j]\n",
    "save_path = save_paths[j]\n",
    "\n",
    "data_ML = data_ML.dropna(subset=[investigated_column])\n",
    "print(f\"{investigated_column} is selected to predict, {investigated_column_plot} is plotted, {save_path} is saved, {axis_limit[j]} is the axis limit, {len(data_ML)} is the length of the data\")\n",
    "\n",
    "#Remove the NGTS data from silt and clay test sites\n",
    "data_ML_filtered = data_ML[~data_ML['sampling_name(-)'].str.contains(r'NGTS_Silt_|NGTS_Clay_', na=False)]\n",
    "\n",
    "\n",
    "columns_x = ['Depth (m)','qc (MPa)', 'fs (kPa)','Rf (%)'] #for Machine learning features\n",
    "plot_columns_x_label = ['Depth (m)','$q_c$ (MPa)', '$f_s$ (kPa)','$R_f$ (%)'] #for plotting purpose\n",
    "\n",
    "X = data_ML_filtered.loc[:,columns_x]\n",
    "y = data_ML_filtered[investigated_column]\n",
    "\n",
    "X_train, X_test, y_train, y_test = train_test_split(X, y, test_size=0.20, random_state=42)"
   ]
  },
  {
   "cell_type": "code",
   "execution_count": 5,
   "id": "bcd50316",
   "metadata": {},
   "outputs": [
    {
     "data": {
      "text/html": [
       "<div>\n",
       "<style scoped>\n",
       "    .dataframe tbody tr th:only-of-type {\n",
       "        vertical-align: middle;\n",
       "    }\n",
       "\n",
       "    .dataframe tbody tr th {\n",
       "        vertical-align: top;\n",
       "    }\n",
       "\n",
       "    .dataframe thead th {\n",
       "        text-align: right;\n",
       "    }\n",
       "</style>\n",
       "<table border=\"1\" class=\"dataframe\">\n",
       "  <thead>\n",
       "    <tr style=\"text-align: right;\">\n",
       "      <th></th>\n",
       "      <th>Depth (m)</th>\n",
       "      <th>qc (MPa)</th>\n",
       "      <th>fs (kPa)</th>\n",
       "      <th>Rf (%)</th>\n",
       "      <th>u2 (kPa)</th>\n",
       "      <th>gamma (kN/m3)</th>\n",
       "      <th>M (MN/m2)</th>\n",
       "      <th>OCR (-)</th>\n",
       "      <th>su (kPa)</th>\n",
       "      <th>sampling_name(-)</th>\n",
       "    </tr>\n",
       "  </thead>\n",
       "  <tbody>\n",
       "    <tr>\n",
       "      <th>0</th>\n",
       "      <td>1.80</td>\n",
       "      <td>0.289</td>\n",
       "      <td>19.0</td>\n",
       "      <td>6.574394</td>\n",
       "      <td>37.0</td>\n",
       "      <td>10.370000</td>\n",
       "      <td>NaN</td>\n",
       "      <td>1.830000</td>\n",
       "      <td>NaN</td>\n",
       "      <td>Bergambacht (B06 51B)</td>\n",
       "    </tr>\n",
       "    <tr>\n",
       "      <th>1</th>\n",
       "      <td>1.86</td>\n",
       "      <td>0.289</td>\n",
       "      <td>19.0</td>\n",
       "      <td>6.574394</td>\n",
       "      <td>37.0</td>\n",
       "      <td>10.390000</td>\n",
       "      <td>NaN</td>\n",
       "      <td>NaN</td>\n",
       "      <td>NaN</td>\n",
       "      <td>Bergambacht (B06 51C)</td>\n",
       "    </tr>\n",
       "    <tr>\n",
       "      <th>6</th>\n",
       "      <td>7.10</td>\n",
       "      <td>0.334</td>\n",
       "      <td>31.0</td>\n",
       "      <td>9.281437</td>\n",
       "      <td>38.0</td>\n",
       "      <td>10.330000</td>\n",
       "      <td>NaN</td>\n",
       "      <td>NaN</td>\n",
       "      <td>NaN</td>\n",
       "      <td>Delft (503 21b)</td>\n",
       "    </tr>\n",
       "    <tr>\n",
       "      <th>8</th>\n",
       "      <td>6.39</td>\n",
       "      <td>0.340</td>\n",
       "      <td>19.0</td>\n",
       "      <td>5.588235</td>\n",
       "      <td>22.0</td>\n",
       "      <td>10.840000</td>\n",
       "      <td>NaN</td>\n",
       "      <td>NaN</td>\n",
       "      <td>NaN</td>\n",
       "      <td>Delft (603 12b)</td>\n",
       "    </tr>\n",
       "    <tr>\n",
       "      <th>10</th>\n",
       "      <td>4.69</td>\n",
       "      <td>0.358</td>\n",
       "      <td>29.0</td>\n",
       "      <td>8.100559</td>\n",
       "      <td>29.0</td>\n",
       "      <td>10.270000</td>\n",
       "      <td>NaN</td>\n",
       "      <td>NaN</td>\n",
       "      <td>NaN</td>\n",
       "      <td>Delft (603 12d)</td>\n",
       "    </tr>\n",
       "    <tr>\n",
       "      <th>...</th>\n",
       "      <td>...</td>\n",
       "      <td>...</td>\n",
       "      <td>...</td>\n",
       "      <td>...</td>\n",
       "      <td>...</td>\n",
       "      <td>...</td>\n",
       "      <td>...</td>\n",
       "      <td>...</td>\n",
       "      <td>...</td>\n",
       "      <td>...</td>\n",
       "    </tr>\n",
       "    <tr>\n",
       "      <th>785</th>\n",
       "      <td>4.55</td>\n",
       "      <td>0.480</td>\n",
       "      <td>7.5</td>\n",
       "      <td>1.562500</td>\n",
       "      <td>304.8</td>\n",
       "      <td>17.849941</td>\n",
       "      <td>2.203390</td>\n",
       "      <td>2.058824</td>\n",
       "      <td>NaN</td>\n",
       "      <td>Austria_site5</td>\n",
       "    </tr>\n",
       "    <tr>\n",
       "      <th>786</th>\n",
       "      <td>4.55</td>\n",
       "      <td>0.480</td>\n",
       "      <td>7.5</td>\n",
       "      <td>1.562500</td>\n",
       "      <td>304.8</td>\n",
       "      <td>16.930067</td>\n",
       "      <td>1.950510</td>\n",
       "      <td>2.156863</td>\n",
       "      <td>NaN</td>\n",
       "      <td>Austria_site5</td>\n",
       "    </tr>\n",
       "    <tr>\n",
       "      <th>787</th>\n",
       "      <td>4.55</td>\n",
       "      <td>0.480</td>\n",
       "      <td>7.5</td>\n",
       "      <td>1.562500</td>\n",
       "      <td>304.8</td>\n",
       "      <td>16.900000</td>\n",
       "      <td>NaN</td>\n",
       "      <td>NaN</td>\n",
       "      <td>NaN</td>\n",
       "      <td>Austria_site5</td>\n",
       "    </tr>\n",
       "    <tr>\n",
       "      <th>788</th>\n",
       "      <td>4.65</td>\n",
       "      <td>0.490</td>\n",
       "      <td>7.7</td>\n",
       "      <td>1.571429</td>\n",
       "      <td>308.8</td>\n",
       "      <td>17.237443</td>\n",
       "      <td>2.076677</td>\n",
       "      <td>1.960784</td>\n",
       "      <td>NaN</td>\n",
       "      <td>Austria_site5</td>\n",
       "    </tr>\n",
       "    <tr>\n",
       "      <th>789</th>\n",
       "      <td>4.65</td>\n",
       "      <td>0.490</td>\n",
       "      <td>7.7</td>\n",
       "      <td>1.571429</td>\n",
       "      <td>308.8</td>\n",
       "      <td>17.119064</td>\n",
       "      <td>1.703735</td>\n",
       "      <td>2.156863</td>\n",
       "      <td>NaN</td>\n",
       "      <td>Austria_site5</td>\n",
       "    </tr>\n",
       "  </tbody>\n",
       "</table>\n",
       "<p>760 rows × 10 columns</p>\n",
       "</div>"
      ],
      "text/plain": [
       "     Depth (m)  qc (MPa)  fs (kPa)    Rf (%)  u2 (kPa)  gamma (kN/m3)  \\\n",
       "0         1.80     0.289      19.0  6.574394      37.0      10.370000   \n",
       "1         1.86     0.289      19.0  6.574394      37.0      10.390000   \n",
       "6         7.10     0.334      31.0  9.281437      38.0      10.330000   \n",
       "8         6.39     0.340      19.0  5.588235      22.0      10.840000   \n",
       "10        4.69     0.358      29.0  8.100559      29.0      10.270000   \n",
       "..         ...       ...       ...       ...       ...            ...   \n",
       "785       4.55     0.480       7.5  1.562500     304.8      17.849941   \n",
       "786       4.55     0.480       7.5  1.562500     304.8      16.930067   \n",
       "787       4.55     0.480       7.5  1.562500     304.8      16.900000   \n",
       "788       4.65     0.490       7.7  1.571429     308.8      17.237443   \n",
       "789       4.65     0.490       7.7  1.571429     308.8      17.119064   \n",
       "\n",
       "     M (MN/m2)   OCR (-)  su (kPa)       sampling_name(-)  \n",
       "0          NaN  1.830000       NaN  Bergambacht (B06 51B)  \n",
       "1          NaN       NaN       NaN  Bergambacht (B06 51C)  \n",
       "6          NaN       NaN       NaN        Delft (503 21b)  \n",
       "8          NaN       NaN       NaN        Delft (603 12b)  \n",
       "10         NaN       NaN       NaN        Delft (603 12d)  \n",
       "..         ...       ...       ...                    ...  \n",
       "785   2.203390  2.058824       NaN          Austria_site5  \n",
       "786   1.950510  2.156863       NaN          Austria_site5  \n",
       "787        NaN       NaN       NaN          Austria_site5  \n",
       "788   2.076677  1.960784       NaN          Austria_site5  \n",
       "789   1.703735  2.156863       NaN          Austria_site5  \n",
       "\n",
       "[760 rows x 10 columns]"
      ]
     },
     "execution_count": 5,
     "metadata": {},
     "output_type": "execute_result"
    }
   ],
   "source": [
    "data_ML"
   ]
  },
  {
   "cell_type": "code",
   "execution_count": 6,
   "id": "08cdb963",
   "metadata": {},
   "outputs": [
    {
     "data": {
      "text/html": [
       "<div>\n",
       "<style scoped>\n",
       "    .dataframe tbody tr th:only-of-type {\n",
       "        vertical-align: middle;\n",
       "    }\n",
       "\n",
       "    .dataframe tbody tr th {\n",
       "        vertical-align: top;\n",
       "    }\n",
       "\n",
       "    .dataframe thead th {\n",
       "        text-align: right;\n",
       "    }\n",
       "</style>\n",
       "<table border=\"1\" class=\"dataframe\">\n",
       "  <thead>\n",
       "    <tr style=\"text-align: right;\">\n",
       "      <th></th>\n",
       "      <th>Depth (m)</th>\n",
       "      <th>qc (MPa)</th>\n",
       "      <th>fs (kPa)</th>\n",
       "      <th>Rf (%)</th>\n",
       "      <th>u2 (kPa)</th>\n",
       "      <th>gamma (kN/m3)</th>\n",
       "      <th>M (MN/m2)</th>\n",
       "      <th>OCR (-)</th>\n",
       "      <th>su (kPa)</th>\n",
       "      <th>sampling_name(-)</th>\n",
       "    </tr>\n",
       "  </thead>\n",
       "  <tbody>\n",
       "    <tr>\n",
       "      <th>0</th>\n",
       "      <td>1.80</td>\n",
       "      <td>0.289</td>\n",
       "      <td>19.0</td>\n",
       "      <td>6.574394</td>\n",
       "      <td>37.0</td>\n",
       "      <td>10.370000</td>\n",
       "      <td>NaN</td>\n",
       "      <td>1.830000</td>\n",
       "      <td>NaN</td>\n",
       "      <td>Bergambacht (B06 51B)</td>\n",
       "    </tr>\n",
       "    <tr>\n",
       "      <th>1</th>\n",
       "      <td>1.86</td>\n",
       "      <td>0.289</td>\n",
       "      <td>19.0</td>\n",
       "      <td>6.574394</td>\n",
       "      <td>37.0</td>\n",
       "      <td>10.390000</td>\n",
       "      <td>NaN</td>\n",
       "      <td>NaN</td>\n",
       "      <td>NaN</td>\n",
       "      <td>Bergambacht (B06 51C)</td>\n",
       "    </tr>\n",
       "    <tr>\n",
       "      <th>6</th>\n",
       "      <td>7.10</td>\n",
       "      <td>0.334</td>\n",
       "      <td>31.0</td>\n",
       "      <td>9.281437</td>\n",
       "      <td>38.0</td>\n",
       "      <td>10.330000</td>\n",
       "      <td>NaN</td>\n",
       "      <td>NaN</td>\n",
       "      <td>NaN</td>\n",
       "      <td>Delft (503 21b)</td>\n",
       "    </tr>\n",
       "    <tr>\n",
       "      <th>8</th>\n",
       "      <td>6.39</td>\n",
       "      <td>0.340</td>\n",
       "      <td>19.0</td>\n",
       "      <td>5.588235</td>\n",
       "      <td>22.0</td>\n",
       "      <td>10.840000</td>\n",
       "      <td>NaN</td>\n",
       "      <td>NaN</td>\n",
       "      <td>NaN</td>\n",
       "      <td>Delft (603 12b)</td>\n",
       "    </tr>\n",
       "    <tr>\n",
       "      <th>10</th>\n",
       "      <td>4.69</td>\n",
       "      <td>0.358</td>\n",
       "      <td>29.0</td>\n",
       "      <td>8.100559</td>\n",
       "      <td>29.0</td>\n",
       "      <td>10.270000</td>\n",
       "      <td>NaN</td>\n",
       "      <td>NaN</td>\n",
       "      <td>NaN</td>\n",
       "      <td>Delft (603 12d)</td>\n",
       "    </tr>\n",
       "    <tr>\n",
       "      <th>...</th>\n",
       "      <td>...</td>\n",
       "      <td>...</td>\n",
       "      <td>...</td>\n",
       "      <td>...</td>\n",
       "      <td>...</td>\n",
       "      <td>...</td>\n",
       "      <td>...</td>\n",
       "      <td>...</td>\n",
       "      <td>...</td>\n",
       "      <td>...</td>\n",
       "    </tr>\n",
       "    <tr>\n",
       "      <th>785</th>\n",
       "      <td>4.55</td>\n",
       "      <td>0.480</td>\n",
       "      <td>7.5</td>\n",
       "      <td>1.562500</td>\n",
       "      <td>304.8</td>\n",
       "      <td>17.849941</td>\n",
       "      <td>2.203390</td>\n",
       "      <td>2.058824</td>\n",
       "      <td>NaN</td>\n",
       "      <td>Austria_site5</td>\n",
       "    </tr>\n",
       "    <tr>\n",
       "      <th>786</th>\n",
       "      <td>4.55</td>\n",
       "      <td>0.480</td>\n",
       "      <td>7.5</td>\n",
       "      <td>1.562500</td>\n",
       "      <td>304.8</td>\n",
       "      <td>16.930067</td>\n",
       "      <td>1.950510</td>\n",
       "      <td>2.156863</td>\n",
       "      <td>NaN</td>\n",
       "      <td>Austria_site5</td>\n",
       "    </tr>\n",
       "    <tr>\n",
       "      <th>787</th>\n",
       "      <td>4.55</td>\n",
       "      <td>0.480</td>\n",
       "      <td>7.5</td>\n",
       "      <td>1.562500</td>\n",
       "      <td>304.8</td>\n",
       "      <td>16.900000</td>\n",
       "      <td>NaN</td>\n",
       "      <td>NaN</td>\n",
       "      <td>NaN</td>\n",
       "      <td>Austria_site5</td>\n",
       "    </tr>\n",
       "    <tr>\n",
       "      <th>788</th>\n",
       "      <td>4.65</td>\n",
       "      <td>0.490</td>\n",
       "      <td>7.7</td>\n",
       "      <td>1.571429</td>\n",
       "      <td>308.8</td>\n",
       "      <td>17.237443</td>\n",
       "      <td>2.076677</td>\n",
       "      <td>1.960784</td>\n",
       "      <td>NaN</td>\n",
       "      <td>Austria_site5</td>\n",
       "    </tr>\n",
       "    <tr>\n",
       "      <th>789</th>\n",
       "      <td>4.65</td>\n",
       "      <td>0.490</td>\n",
       "      <td>7.7</td>\n",
       "      <td>1.571429</td>\n",
       "      <td>308.8</td>\n",
       "      <td>17.119064</td>\n",
       "      <td>1.703735</td>\n",
       "      <td>2.156863</td>\n",
       "      <td>NaN</td>\n",
       "      <td>Austria_site5</td>\n",
       "    </tr>\n",
       "  </tbody>\n",
       "</table>\n",
       "<p>471 rows × 10 columns</p>\n",
       "</div>"
      ],
      "text/plain": [
       "     Depth (m)  qc (MPa)  fs (kPa)    Rf (%)  u2 (kPa)  gamma (kN/m3)  \\\n",
       "0         1.80     0.289      19.0  6.574394      37.0      10.370000   \n",
       "1         1.86     0.289      19.0  6.574394      37.0      10.390000   \n",
       "6         7.10     0.334      31.0  9.281437      38.0      10.330000   \n",
       "8         6.39     0.340      19.0  5.588235      22.0      10.840000   \n",
       "10        4.69     0.358      29.0  8.100559      29.0      10.270000   \n",
       "..         ...       ...       ...       ...       ...            ...   \n",
       "785       4.55     0.480       7.5  1.562500     304.8      17.849941   \n",
       "786       4.55     0.480       7.5  1.562500     304.8      16.930067   \n",
       "787       4.55     0.480       7.5  1.562500     304.8      16.900000   \n",
       "788       4.65     0.490       7.7  1.571429     308.8      17.237443   \n",
       "789       4.65     0.490       7.7  1.571429     308.8      17.119064   \n",
       "\n",
       "     M (MN/m2)   OCR (-)  su (kPa)       sampling_name(-)  \n",
       "0          NaN  1.830000       NaN  Bergambacht (B06 51B)  \n",
       "1          NaN       NaN       NaN  Bergambacht (B06 51C)  \n",
       "6          NaN       NaN       NaN        Delft (503 21b)  \n",
       "8          NaN       NaN       NaN        Delft (603 12b)  \n",
       "10         NaN       NaN       NaN        Delft (603 12d)  \n",
       "..         ...       ...       ...                    ...  \n",
       "785   2.203390  2.058824       NaN          Austria_site5  \n",
       "786   1.950510  2.156863       NaN          Austria_site5  \n",
       "787        NaN       NaN       NaN          Austria_site5  \n",
       "788   2.076677  1.960784       NaN          Austria_site5  \n",
       "789   1.703735  2.156863       NaN          Austria_site5  \n",
       "\n",
       "[471 rows x 10 columns]"
      ]
     },
     "execution_count": 6,
     "metadata": {},
     "output_type": "execute_result"
    }
   ],
   "source": [
    "data_ML = data_ML_filtered\n",
    "data_ML"
   ]
  },
  {
   "cell_type": "code",
   "execution_count": 18,
   "id": "cc344cd5",
   "metadata": {},
   "outputs": [
    {
     "data": {
      "image/png": "[encoded data removed]",
      "text/plain": [
       "<Figure size 1044.62x1574.8 with 4 Axes>"
      ]
     },
     "metadata": {},
     "output_type": "display_data"
    }
   ],
   "source": [
    "# Plotting training data \n",
    "s = 1  # Adjust the marker size as needed\n",
    "color = 'k'  # Adjust the marker color as needed\n",
    "alpha = 0.5\n",
    "\n",
    "columns_x.append(investigated_column_plot)\n",
    "\n",
    "#Plot scatter points: raw data points as\n",
    "fig, axes = plt.subplots(4, 1, figsize=(15.92/3*cm, 8*cm), dpi=500, sharex=True)\n",
    "plotting_raw_data(X,y, alpha, s, color, True, axes, columns_x, 'Raw data', False)\n",
    "\n",
    "#plotting_raw_data(X,y, alpha, s, 'r', 'Removed outliers', False, axes, plot_columns_x_label)\n",
    "# Adjust layout to prevent overlapping\n",
    "fig.text(0.01, 0.02, rf'{len(data_ML)} datapoints', ha='left', va='center', fontsize=10, color='black', alpha=0.5)\n",
    "plt.subplots_adjust(left=0.25, right=0.98, top=0.97, bottom=0.15, wspace=0.15, hspace=0.2)\n",
    "plt.savefig(f\"{prefix}{j+1}_raw_data.png\", dpi = 1000)"
   ]
  },
  {
   "cell_type": "code",
   "execution_count": 8,
   "id": "39fe2002",
   "metadata": {},
   "outputs": [],
   "source": [
    "RS = 44  # random state\n",
    "N_JOBS = -1  # number of parallel threads\n",
    "\n",
    "# repeated K-folds\n",
    "N_SPLITS = 10\n",
    "N_REPEATS = 1\n",
    "\n",
    "# Optuna\n",
    "N_TRIALS = 200\n",
    "\n",
    "# XGBoost\n",
    "EARLY_STOPPING_ROUNDS = 10"
   ]
  },
  {
   "cell_type": "code",
   "execution_count": 9,
   "id": "f4f80d3a",
   "metadata": {},
   "outputs": [
    {
     "name": "stderr",
     "output_type": "stream",
     "text": [
      "[I 2024-11-20 21:05:22,522] A new study created in memory with name: no-name-5f6489b7-1c87-4a38-b129-c37d29c84dcb\n",
      "[I 2024-11-20 21:05:23,125] Trial 5 finished with value: 0.7548098673353071 and parameters: {'n_estimators': 115, 'learning_rate': 0.40953932687435524, 'max_depth': 4, 'subsample': 0.11320699629142025}. Best is trial 5 with value: 0.7548098673353071.\n",
      "[I 2024-11-20 21:05:23,210] Trial 2 finished with value: 0.8036016144717776 and parameters: {'n_estimators': 96, 'learning_rate': 0.37485909853122784, 'max_depth': 4, 'subsample': 0.15940116788695766}. Best is trial 2 with value: 0.8036016144717776.\n",
      "[I 2024-11-20 21:05:23,474] Trial 3 finished with value: 0.8213199187281421 and parameters: {'n_estimators': 113, 'learning_rate': 0.269072857883036, 'max_depth': 4, 'subsample': 0.2050228190140032}. Best is trial 3 with value: 0.8213199187281421.\n",
      "[I 2024-11-20 21:05:23,693] Trial 4 finished with value: 0.7955415400631994 and parameters: {'n_estimators': 99, 'learning_rate': 0.311675070330661, 'max_depth': 10, 'subsample': 0.13059090077976065}. Best is trial 3 with value: 0.8213199187281421.\n",
      "[I 2024-11-20 21:05:24,391] Trial 6 finished with value: 0.8341928055979377 and parameters: {'n_estimators': 81, 'learning_rate': 0.19006093981650263, 'max_depth': 8, 'subsample': 0.5640423171953935}. Best is trial 6 with value: 0.8341928055979377.\n",
      "[I 2024-11-20 21:05:24,490] Trial 0 finished with value: 0.828784116655239 and parameters: {'n_estimators': 52, 'learning_rate': 0.11707456705608682, 'max_depth': 7, 'subsample': 0.5798692865516188}. Best is trial 6 with value: 0.8341928055979377.\n",
      "[I 2024-11-20 21:05:24,559] Trial 1 finished with value: 0.7757059082520797 and parameters: {'n_estimators': 75, 'learning_rate': 0.07640511246903527, 'max_depth': 6, 'subsample': 0.07445893952053717}. Best is trial 6 with value: 0.8341928055979377.\n",
      "[I 2024-11-20 21:05:24,690] Trial 9 finished with value: 0.8157679870788586 and parameters: {'n_estimators': 104, 'learning_rate': 0.4258277320417573, 'max_depth': 10, 'subsample': 0.20749952263458787}. Best is trial 6 with value: 0.8341928055979377.\n",
      "[I 2024-11-20 21:05:25,155] Trial 10 finished with value: 0.7858851913992104 and parameters: {'n_estimators': 93, 'learning_rate': 0.061014559626137915, 'max_depth': 3, 'subsample': 0.07380174734607799}. Best is trial 6 with value: 0.8341928055979377.\n",
      "[I 2024-11-20 21:05:25,315] Trial 12 finished with value: 0.807077612990066 and parameters: {'n_estimators': 61, 'learning_rate': 0.26498825931131875, 'max_depth': 4, 'subsample': 0.15608357094685854}. Best is trial 6 with value: 0.8341928055979377.\n",
      "[I 2024-11-20 21:05:25,417] Trial 14 finished with value: 0.7594849778115683 and parameters: {'n_estimators': 59, 'learning_rate': 0.38843778950551167, 'max_depth': 10, 'subsample': 0.07231287136039917}. Best is trial 6 with value: 0.8341928055979377.\n",
      "[I 2024-11-20 21:05:25,798] Trial 13 finished with value: 0.8022636316046245 and parameters: {'n_estimators': 100, 'learning_rate': 0.16227571957467957, 'max_depth': 5, 'subsample': 0.11115676266140004}. Best is trial 6 with value: 0.8341928055979377.\n",
      "[I 2024-11-20 21:05:25,967] Trial 15 finished with value: 0.7719288842133284 and parameters: {'n_estimators': 113, 'learning_rate': 0.18609250792262147, 'max_depth': 9, 'subsample': 0.0724015300170242}. Best is trial 6 with value: 0.8341928055979377.\n",
      "[I 2024-11-20 21:05:26,127] Trial 16 finished with value: 0.8086806347225179 and parameters: {'n_estimators': 54, 'learning_rate': 0.15175474986641807, 'max_depth': 3, 'subsample': 0.6816356653443069}. Best is trial 6 with value: 0.8341928055979377.\n",
      "[I 2024-11-20 21:05:26,220] Trial 11 finished with value: 0.8088571907661823 and parameters: {'n_estimators': 101, 'learning_rate': 0.05285205600840182, 'max_depth': 5, 'subsample': 0.1652637235310557}. Best is trial 6 with value: 0.8341928055979377.\n",
      "[I 2024-11-20 21:05:26,267] Trial 7 finished with value: 0.8247862853680249 and parameters: {'n_estimators': 96, 'learning_rate': 0.05412174180530716, 'max_depth': 9, 'subsample': 0.43779650414217236}. Best is trial 6 with value: 0.8341928055979377.\n",
      "[I 2024-11-20 21:05:26,469] Trial 8 finished with value: 0.8200868249051887 and parameters: {'n_estimators': 85, 'learning_rate': 0.059941596187497816, 'max_depth': 9, 'subsample': 0.20018932830463612}. Best is trial 6 with value: 0.8341928055979377.\n",
      "[I 2024-11-20 21:05:27,091] Trial 17 finished with value: 0.8257977195425444 and parameters: {'n_estimators': 77, 'learning_rate': 0.1682872482206245, 'max_depth': 8, 'subsample': 0.5758033727089665}. Best is trial 6 with value: 0.8341928055979377.\n",
      "[I 2024-11-20 21:05:27,625] Trial 18 finished with value: 0.8293523533187738 and parameters: {'n_estimators': 76, 'learning_rate': 0.13819366114092263, 'max_depth': 8, 'subsample': 0.5738808508263329}. Best is trial 6 with value: 0.8341928055979377.\n",
      "[I 2024-11-20 21:05:28,021] Trial 19 finished with value: 0.8263501589785617 and parameters: {'n_estimators': 50, 'learning_rate': 0.11953149611559585, 'max_depth': 8, 'subsample': 0.6279645335745666}. Best is trial 6 with value: 0.8341928055979377.\n",
      "[I 2024-11-20 21:05:28,252] Trial 23 finished with value: 0.8380150647278881 and parameters: {'n_estimators': 71, 'learning_rate': 0.1115276802267794, 'max_depth': 7, 'subsample': 0.37136395310421594}. Best is trial 23 with value: 0.8380150647278881.\n",
      "[I 2024-11-20 21:05:28,289] Trial 20 finished with value: 0.8250398633512737 and parameters: {'n_estimators': 50, 'learning_rate': 0.09637211597477789, 'max_depth': 8, 'subsample': 0.5678037075280953}. Best is trial 23 with value: 0.8380150647278881.\n",
      "[I 2024-11-20 21:05:28,588] Trial 24 finished with value: 0.8278292837187644 and parameters: {'n_estimators': 71, 'learning_rate': 0.10696961487542413, 'max_depth': 7, 'subsample': 0.41895844297116425}. Best is trial 23 with value: 0.8380150647278881.\n",
      "[I 2024-11-20 21:05:28,836] Trial 21 finished with value: 0.8280065766030202 and parameters: {'n_estimators': 77, 'learning_rate': 0.10633082127944514, 'max_depth': 8, 'subsample': 0.5756474072408069}. Best is trial 23 with value: 0.8380150647278881.\n",
      "[I 2024-11-20 21:05:28,982] Trial 22 finished with value: 0.8367605658808968 and parameters: {'n_estimators': 76, 'learning_rate': 0.10406568257134263, 'max_depth': 8, 'subsample': 0.6010366483745058}. Best is trial 23 with value: 0.8380150647278881.\n",
      "[I 2024-11-20 21:05:29,258] Trial 25 finished with value: 0.8231774608312279 and parameters: {'n_estimators': 66, 'learning_rate': 0.09965290106635658, 'max_depth': 7, 'subsample': 0.41924873519131767}. Best is trial 23 with value: 0.8380150647278881.\n",
      "[I 2024-11-20 21:05:29,745] Trial 29 finished with value: 0.8252180135068107 and parameters: {'n_estimators': 70, 'learning_rate': 0.2103776335835419, 'max_depth': 7, 'subsample': 0.33632894213184406}. Best is trial 23 with value: 0.8380150647278881.\n",
      "[I 2024-11-20 21:05:29,852] Trial 26 finished with value: 0.8355523174323486 and parameters: {'n_estimators': 70, 'learning_rate': 0.10348022280681955, 'max_depth': 7, 'subsample': 0.3395036955813974}. Best is trial 23 with value: 0.8380150647278881.\n",
      "[I 2024-11-20 21:05:30,449] Trial 27 finished with value: 0.8372241593168247 and parameters: {'n_estimators': 72, 'learning_rate': 0.10343411251329222, 'max_depth': 7, 'subsample': 0.3569844121876475}. Best is trial 23 with value: 0.8380150647278881.\n",
      "[I 2024-11-20 21:05:30,543] Trial 31 finished with value: 0.8305781430784737 and parameters: {'n_estimators': 67, 'learning_rate': 0.1929399834860427, 'max_depth': 6, 'subsample': 0.896222867502025}. Best is trial 23 with value: 0.8380150647278881.\n",
      "[I 2024-11-20 21:05:30,588] Trial 28 finished with value: 0.8315209379759604 and parameters: {'n_estimators': 69, 'learning_rate': 0.09921148652569672, 'max_depth': 7, 'subsample': 0.33705716100467586}. Best is trial 23 with value: 0.8380150647278881.\n",
      "[I 2024-11-20 21:05:30,693] Trial 30 finished with value: 0.8249540865888564 and parameters: {'n_estimators': 68, 'learning_rate': 0.19725426162410395, 'max_depth': 7, 'subsample': 0.8836376222266826}. Best is trial 23 with value: 0.8380150647278881.\n",
      "[I 2024-11-20 21:05:30,705] Trial 33 finished with value: 0.8278102423616275 and parameters: {'n_estimators': 85, 'learning_rate': 0.22053429399908092, 'max_depth': 6, 'subsample': 0.31084250010541364}. Best is trial 23 with value: 0.8380150647278881.\n",
      "[I 2024-11-20 21:05:31,021] Trial 32 finished with value: 0.8260680385506394 and parameters: {'n_estimators': 86, 'learning_rate': 0.08335007990799748, 'max_depth': 6, 'subsample': 0.30966174497474086}. Best is trial 23 with value: 0.8380150647278881.\n",
      "[I 2024-11-20 21:05:31,832] Trial 34 finished with value: 0.8343472799669209 and parameters: {'n_estimators': 85, 'learning_rate': 0.08370502788226787, 'max_depth': 6, 'subsample': 0.29141124141181607}. Best is trial 23 with value: 0.8380150647278881.\n",
      "[I 2024-11-20 21:05:32,185] Trial 35 finished with value: 0.8305404075016256 and parameters: {'n_estimators': 87, 'learning_rate': 0.08096094841705113, 'max_depth': 6, 'subsample': 0.8307886556247271}. Best is trial 23 with value: 0.8380150647278881.\n",
      "[I 2024-11-20 21:05:32,288] Trial 38 finished with value: 0.8449611137965267 and parameters: {'n_estimators': 86, 'learning_rate': 0.13106322564208917, 'max_depth': 6, 'subsample': 0.2714200265521292}. Best is trial 38 with value: 0.8449611137965267.\n",
      "[I 2024-11-20 21:05:32,544] Trial 37 finished with value: 0.8369161637086366 and parameters: {'n_estimators': 85, 'learning_rate': 0.08074898962122361, 'max_depth': 6, 'subsample': 0.26679274064718267}. Best is trial 38 with value: 0.8449611137965267.\n",
      "[I 2024-11-20 21:05:32,713] Trial 36 finished with value: 0.8269668109533291 and parameters: {'n_estimators': 84, 'learning_rate': 0.08042006479483095, 'max_depth': 6, 'subsample': 0.8596998575098663}. Best is trial 38 with value: 0.8449611137965267.\n",
      "[I 2024-11-20 21:05:32,750] Trial 40 finished with value: 0.8401315012294194 and parameters: {'n_estimators': 82, 'learning_rate': 0.07969357799164856, 'max_depth': 6, 'subsample': 0.26198488079552207}. Best is trial 38 with value: 0.8449611137965267.\n",
      "[I 2024-11-20 21:05:32,824] Trial 39 finished with value: 0.8270917979850831 and parameters: {'n_estimators': 87, 'learning_rate': 0.07728875875045733, 'max_depth': 6, 'subsample': 0.2813609634001213}. Best is trial 38 with value: 0.8449611137965267.\n",
      "[I 2024-11-20 21:05:32,919] Trial 41 finished with value: 0.8332069540028052 and parameters: {'n_estimators': 61, 'learning_rate': 0.07683628167102968, 'max_depth': 6, 'subsample': 0.2470080548574453}. Best is trial 38 with value: 0.8449611137965267.\n",
      "[I 2024-11-20 21:05:33,465] Trial 42 finished with value: 0.8355175108540938 and parameters: {'n_estimators': 63, 'learning_rate': 0.12231958803405535, 'max_depth': 5, 'subsample': 0.2501645540425786}. Best is trial 38 with value: 0.8449611137965267.\n",
      "[I 2024-11-20 21:05:33,867] Trial 43 finished with value: 0.8329982447097966 and parameters: {'n_estimators': 62, 'learning_rate': 0.12785371375662644, 'max_depth': 5, 'subsample': 0.2571928776030211}. Best is trial 38 with value: 0.8449611137965267.\n",
      "[I 2024-11-20 21:05:33,892] Trial 44 finished with value: 0.835339350022386 and parameters: {'n_estimators': 80, 'learning_rate': 0.13297949965531686, 'max_depth': 5, 'subsample': 0.27603724331007456}. Best is trial 38 with value: 0.8449611137965267.\n",
      "[I 2024-11-20 21:05:34,189] Trial 47 finished with value: 0.8242767049788386 and parameters: {'n_estimators': 91, 'learning_rate': 0.12812558538248436, 'max_depth': 5, 'subsample': 0.24967883773106925}. Best is trial 38 with value: 0.8449611137965267.\n",
      "[I 2024-11-20 21:05:34,205] Trial 46 finished with value: 0.8300408239665333 and parameters: {'n_estimators': 90, 'learning_rate': 0.12331357088399097, 'max_depth': 5, 'subsample': 0.23523769373877576}. Best is trial 38 with value: 0.8449611137965267.\n",
      "[I 2024-11-20 21:05:34,401] Trial 45 finished with value: 0.8307391877238426 and parameters: {'n_estimators': 91, 'learning_rate': 0.1312638409549389, 'max_depth': 5, 'subsample': 0.24971244164289677}. Best is trial 38 with value: 0.8449611137965267.\n",
      "[I 2024-11-20 21:05:34,466] Trial 49 finished with value: 0.8318564904365462 and parameters: {'n_estimators': 91, 'learning_rate': 0.12763569945575123, 'max_depth': 5, 'subsample': 0.2404226495398361}. Best is trial 38 with value: 0.8449611137965267.\n",
      "[I 2024-11-20 21:05:34,626] Trial 48 finished with value: 0.8271136974820343 and parameters: {'n_estimators': 91, 'learning_rate': 0.12571176037998102, 'max_depth': 5, 'subsample': 0.2528078157010902}. Best is trial 38 with value: 0.8449611137965267.\n",
      "[I 2024-11-20 21:05:34,998] Trial 50 finished with value: 0.8259632465377795 and parameters: {'n_estimators': 91, 'learning_rate': 0.14015570358811688, 'max_depth': 5, 'subsample': 0.4646398390490325}. Best is trial 38 with value: 0.8449611137965267.\n",
      "[I 2024-11-20 21:05:36,118] Trial 51 finished with value: 0.8150709800547606 and parameters: {'n_estimators': 81, 'learning_rate': 0.061381914098221683, 'max_depth': 5, 'subsample': 0.45685525617372547}. Best is trial 38 with value: 0.8449611137965267.\n",
      "[I 2024-11-20 21:05:36,252] Trial 57 finished with value: 0.8050892299875596 and parameters: {'n_estimators': 73, 'learning_rate': 0.06864617746228421, 'max_depth': 4, 'subsample': 0.18116448067780183}. Best is trial 38 with value: 0.8449611137965267.\n",
      "[I 2024-11-20 21:05:36,643] Trial 54 finished with value: 0.7736781382775619 and parameters: {'n_estimators': 81, 'learning_rate': 0.066389778757886, 'max_depth': 7, 'subsample': 0.051980078087573}. Best is trial 38 with value: 0.8449611137965267.\n",
      "[I 2024-11-20 21:05:37,003] Trial 52 finished with value: 0.8240719128159596 and parameters: {'n_estimators': 94, 'learning_rate': 0.06504828872761644, 'max_depth': 7, 'subsample': 0.46568962103989653}. Best is trial 38 with value: 0.8449611137965267.\n",
      "[I 2024-11-20 21:05:37,020] Trial 56 finished with value: 0.8112656395820337 and parameters: {'n_estimators': 82, 'learning_rate': 0.06444619115024285, 'max_depth': 7, 'subsample': 0.17200861844258175}. Best is trial 38 with value: 0.8449611137965267.\n",
      "[I 2024-11-20 21:05:37,152] Trial 53 finished with value: 0.8296147510517418 and parameters: {'n_estimators': 81, 'learning_rate': 0.06608233479849474, 'max_depth': 7, 'subsample': 0.4850927812994333}. Best is trial 38 with value: 0.8449611137965267.\n",
      "[I 2024-11-20 21:05:37,234] Trial 55 finished with value: 0.8289872509711966 and parameters: {'n_estimators': 80, 'learning_rate': 0.06676338749405472, 'max_depth': 7, 'subsample': 0.494221112874141}. Best is trial 38 with value: 0.8449611137965267.\n",
      "[I 2024-11-20 21:05:37,754] Trial 58 finished with value: 0.8116805322590035 and parameters: {'n_estimators': 81, 'learning_rate': 0.061063712236988074, 'max_depth': 7, 'subsample': 0.18723809158835877}. Best is trial 38 with value: 0.8449611137965267.\n",
      "[I 2024-11-20 21:05:38,190] Trial 64 finished with value: 0.8040545996415174 and parameters: {'n_estimators': 75, 'learning_rate': 0.4912320193677263, 'max_depth': 9, 'subsample': 0.38164084940955323}. Best is trial 38 with value: 0.8449611137965267.\n",
      "[I 2024-11-20 21:05:39,154] Trial 59 finished with value: 0.8188279298516344 and parameters: {'n_estimators': 72, 'learning_rate': 0.06897655717088891, 'max_depth': 9, 'subsample': 0.1764276780356776}. Best is trial 38 with value: 0.8449611137965267.\n",
      "[I 2024-11-20 21:05:39,441] Trial 60 finished with value: 0.8321517938737548 and parameters: {'n_estimators': 80, 'learning_rate': 0.09234351537337017, 'max_depth': 9, 'subsample': 0.38514048957911673}. Best is trial 38 with value: 0.8449611137965267.\n",
      "[I 2024-11-20 21:05:39,765] Trial 61 finished with value: 0.8252936001943283 and parameters: {'n_estimators': 79, 'learning_rate': 0.08950285911942907, 'max_depth': 9, 'subsample': 0.383636895468242}. Best is trial 38 with value: 0.8449611137965267.\n",
      "[I 2024-11-20 21:05:40,036] Trial 62 finished with value: 0.8268157364852234 and parameters: {'n_estimators': 73, 'learning_rate': 0.09103726632713033, 'max_depth': 9, 'subsample': 0.21338615617301412}. Best is trial 38 with value: 0.8449611137965267.\n",
      "[I 2024-11-20 21:05:40,073] Trial 63 finished with value: 0.8362274412277177 and parameters: {'n_estimators': 73, 'learning_rate': 0.11201542935251259, 'max_depth': 9, 'subsample': 0.37813626925188915}. Best is trial 38 with value: 0.8449611137965267.\n",
      "[I 2024-11-20 21:05:40,345] Trial 65 finished with value: 0.8327828715042276 and parameters: {'n_estimators': 74, 'learning_rate': 0.09013660952689767, 'max_depth': 9, 'subsample': 0.36803116770605887}. Best is trial 38 with value: 0.8449611137965267.\n",
      "[I 2024-11-20 21:05:41,197] Trial 66 finished with value: 0.8374448677764854 and parameters: {'n_estimators': 75, 'learning_rate': 0.09465401136539862, 'max_depth': 9, 'subsample': 0.3738862964355578}. Best is trial 38 with value: 0.8449611137965267.\n",
      "[I 2024-11-20 21:05:41,272] Trial 67 finished with value: 0.8277238388120396 and parameters: {'n_estimators': 73, 'learning_rate': 0.09110024088372295, 'max_depth': 8, 'subsample': 0.21686907660659557}. Best is trial 38 with value: 0.8449611137965267.\n",
      "[I 2024-11-20 21:05:42,119] Trial 69 finished with value: 0.8187447263220005 and parameters: {'n_estimators': 107, 'learning_rate': 0.1094473892936984, 'max_depth': 8, 'subsample': 0.21254141276171445}. Best is trial 38 with value: 0.8449611137965267.\n",
      "[I 2024-11-20 21:05:42,293] Trial 68 finished with value: 0.83761519005943 and parameters: {'n_estimators': 74, 'learning_rate': 0.09180255685805185, 'max_depth': 8, 'subsample': 0.4000967403957206}. Best is trial 38 with value: 0.8449611137965267.\n",
      "[I 2024-11-20 21:05:42,486] Trial 72 finished with value: 0.8093988457321313 and parameters: {'n_estimators': 65, 'learning_rate': 0.11011225811760345, 'max_depth': 8, 'subsample': 0.14517353488927734}. Best is trial 38 with value: 0.8449611137965267.\n",
      "[I 2024-11-20 21:05:42,602] Trial 70 finished with value: 0.8373743799666254 and parameters: {'n_estimators': 74, 'learning_rate': 0.11207926241168396, 'max_depth': 8, 'subsample': 0.3367527340524041}. Best is trial 38 with value: 0.8449611137965267.\n",
      "[I 2024-11-20 21:05:43,113] Trial 73 finished with value: 0.8244386210205673 and parameters: {'n_estimators': 105, 'learning_rate': 0.11317279086338798, 'max_depth': 8, 'subsample': 0.141810110791275}. Best is trial 38 with value: 0.8449611137965267.\n",
      "[I 2024-11-20 21:05:43,214] Trial 71 finished with value: 0.8318505947588868 and parameters: {'n_estimators': 108, 'learning_rate': 0.10331042250485588, 'max_depth': 8, 'subsample': 0.34531112253699503}. Best is trial 38 with value: 0.8449611137965267.\n",
      "[I 2024-11-20 21:05:43,373] Trial 75 finished with value: 0.8003354809727179 and parameters: {'n_estimators': 77, 'learning_rate': 0.14874806677075877, 'max_depth': 10, 'subsample': 0.1527471060631847}. Best is trial 38 with value: 0.8449611137965267.\n",
      "[I 2024-11-20 21:05:43,568] Trial 76 finished with value: 0.7889641656452477 and parameters: {'n_estimators': 77, 'learning_rate': 0.15150757686837446, 'max_depth': 6, 'subsample': 0.1459086707657756}. Best is trial 38 with value: 0.8449611137965267.\n",
      "[I 2024-11-20 21:05:43,584] Trial 74 finished with value: 0.8373946165210152 and parameters: {'n_estimators': 77, 'learning_rate': 0.14905841103878237, 'max_depth': 8, 'subsample': 0.720794804372433}. Best is trial 38 with value: 0.8449611137965267.\n",
      "[I 2024-11-20 21:05:44,862] Trial 77 finished with value: 0.8160429084090839 and parameters: {'n_estimators': 65, 'learning_rate': 0.11487182217738588, 'max_depth': 10, 'subsample': 0.13838345149657538}. Best is trial 38 with value: 0.8449611137965267.\n",
      "[I 2024-11-20 21:05:45,209] Trial 78 finished with value: 0.8317653381311945 and parameters: {'n_estimators': 77, 'learning_rate': 0.10095289966029757, 'max_depth': 6, 'subsample': 0.6995691978597507}. Best is trial 38 with value: 0.8449611137965267.\n",
      "[I 2024-11-20 21:05:45,398] Trial 80 finished with value: 0.8278206725637558 and parameters: {'n_estimators': 76, 'learning_rate': 0.1519828946410401, 'max_depth': 6, 'subsample': 0.3149040412572334}. Best is trial 38 with value: 0.8449611137965267.\n",
      "[I 2024-11-20 21:05:46,208] Trial 81 finished with value: 0.8279544160069838 and parameters: {'n_estimators': 78, 'learning_rate': 0.07195068693241843, 'max_depth': 6, 'subsample': 0.31029114236936595}. Best is trial 38 with value: 0.8449611137965267.\n",
      "[I 2024-11-20 21:05:46,405] Trial 79 finished with value: 0.8359171805498058 and parameters: {'n_estimators': 120, 'learning_rate': 0.146990154267516, 'max_depth': 10, 'subsample': 0.3167796749033896}. Best is trial 38 with value: 0.8449611137965267.\n",
      "[I 2024-11-20 21:05:46,516] Trial 84 finished with value: 0.8336210725471178 and parameters: {'n_estimators': 69, 'learning_rate': 0.17163207775242223, 'max_depth': 8, 'subsample': 0.714001519857118}. Best is trial 38 with value: 0.8449611137965267.\n",
      "[I 2024-11-20 21:05:46,559] Trial 82 finished with value: 0.8270022462233235 and parameters: {'n_estimators': 78, 'learning_rate': 0.07404625481978926, 'max_depth': 6, 'subsample': 0.3087514611114503}. Best is trial 38 with value: 0.8449611137965267.\n",
      "[I 2024-11-20 21:05:46,744] Trial 83 finished with value: 0.8230917255885812 and parameters: {'n_estimators': 83, 'learning_rate': 0.07254498296004722, 'max_depth': 6, 'subsample': 0.3169261752878279}. Best is trial 38 with value: 0.8449611137965267.\n",
      "[I 2024-11-20 21:05:47,726] Trial 86 finished with value: 0.8373509783470943 and parameters: {'n_estimators': 69, 'learning_rate': 0.17066173849083113, 'max_depth': 8, 'subsample': 0.2982007502840802}. Best is trial 38 with value: 0.8449611137965267.\n",
      "[I 2024-11-20 21:05:47,807] Trial 85 finished with value: 0.8254687760312743 and parameters: {'n_estimators': 69, 'learning_rate': 0.17189411545840386, 'max_depth': 8, 'subsample': 0.7581561106478093}. Best is trial 38 with value: 0.8449611137965267.\n",
      "[I 2024-11-20 21:05:47,936] Trial 87 finished with value: 0.838040499343559 and parameters: {'n_estimators': 70, 'learning_rate': 0.17436359902246545, 'max_depth': 8, 'subsample': 0.29779400154023783}. Best is trial 38 with value: 0.8449611137965267.\n",
      "[I 2024-11-20 21:05:48,456] Trial 88 finished with value: 0.8395402405960007 and parameters: {'n_estimators': 83, 'learning_rate': 0.1677162520361612, 'max_depth': 8, 'subsample': 0.5136624461443146}. Best is trial 38 with value: 0.8449611137965267.\n",
      "[I 2024-11-20 21:05:48,701] Trial 89 finished with value: 0.836677891033388 and parameters: {'n_estimators': 70, 'learning_rate': 0.16791735541501315, 'max_depth': 8, 'subsample': 0.2765125439217429}. Best is trial 38 with value: 0.8449611137965267.\n",
      "[I 2024-11-20 21:05:49,318] Trial 91 finished with value: 0.826888411222225 and parameters: {'n_estimators': 88, 'learning_rate': 0.0855375404007233, 'max_depth': 7, 'subsample': 0.27646594502234967}. Best is trial 38 with value: 0.8449611137965267.\n",
      "[I 2024-11-20 21:05:49,504] Trial 94 finished with value: 0.836350961425859 and parameters: {'n_estimators': 71, 'learning_rate': 0.24086947524809213, 'max_depth': 8, 'subsample': 0.41644861674114086}. Best is trial 38 with value: 0.8449611137965267.\n",
      "[I 2024-11-20 21:05:49,667] Trial 90 finished with value: 0.8297475086138578 and parameters: {'n_estimators': 83, 'learning_rate': 0.0743956576699007, 'max_depth': 7, 'subsample': 0.5172132583302207}. Best is trial 38 with value: 0.8449611137965267.\n",
      "[I 2024-11-20 21:05:49,731] Trial 95 finished with value: 0.8378630208183081 and parameters: {'n_estimators': 66, 'learning_rate': 0.24986935300079202, 'max_depth': 8, 'subsample': 0.41207692888152775}. Best is trial 38 with value: 0.8449611137965267.\n",
      "[I 2024-11-20 21:05:49,761] Trial 92 finished with value: 0.828292880750551 and parameters: {'n_estimators': 88, 'learning_rate': 0.08537631343922873, 'max_depth': 7, 'subsample': 0.4229826936675293}. Best is trial 38 with value: 0.8449611137965267.\n",
      "[I 2024-11-20 21:05:50,266] Trial 93 finished with value: 0.847547625877747 and parameters: {'n_estimators': 71, 'learning_rate': 0.17167397513478797, 'max_depth': 8, 'subsample': 0.4081428828330362}. Best is trial 93 with value: 0.847547625877747.\n",
      "[I 2024-11-20 21:05:50,377] Trial 96 finished with value: 0.8329117209779541 and parameters: {'n_estimators': 58, 'learning_rate': 0.22368786724445974, 'max_depth': 8, 'subsample': 0.42379561372974617}. Best is trial 93 with value: 0.847547625877747.\n",
      "[I 2024-11-20 21:05:51,053] Trial 97 finished with value: 0.8423629089869092 and parameters: {'n_estimators': 88, 'learning_rate': 0.21343222178015728, 'max_depth': 8, 'subsample': 0.42012963211821797}. Best is trial 93 with value: 0.847547625877747.\n",
      "[I 2024-11-20 21:05:51,528] Trial 101 finished with value: 0.8308163640808225 and parameters: {'n_estimators': 67, 'learning_rate': 0.2933256636216909, 'max_depth': 8, 'subsample': 0.5328555721503511}. Best is trial 93 with value: 0.847547625877747.\n",
      "[I 2024-11-20 21:05:51,838] Trial 98 finished with value: 0.8377552345258246 and parameters: {'n_estimators': 67, 'learning_rate': 0.18220176086660425, 'max_depth': 8, 'subsample': 0.5225954220977808}. Best is trial 93 with value: 0.847547625877747.\n",
      "[I 2024-11-20 21:05:52,216] Trial 99 finished with value: 0.8372167795622942 and parameters: {'n_estimators': 75, 'learning_rate': 0.1806840374502105, 'max_depth': 8, 'subsample': 0.5217389679278723}. Best is trial 93 with value: 0.847547625877747.\n",
      "[I 2024-11-20 21:05:52,286] Trial 100 finished with value: 0.8329148237469352 and parameters: {'n_estimators': 67, 'learning_rate': 0.1819708306158712, 'max_depth': 8, 'subsample': 0.5370306974489327}. Best is trial 93 with value: 0.847547625877747.\n",
      "[I 2024-11-20 21:05:52,559] Trial 103 finished with value: 0.8294888099483928 and parameters: {'n_estimators': 67, 'learning_rate': 0.2058949654538354, 'max_depth': 9, 'subsample': 0.5415616548324529}. Best is trial 93 with value: 0.847547625877747.\n",
      "[I 2024-11-20 21:05:52,824] Trial 102 finished with value: 0.8292659782861327 and parameters: {'n_estimators': 66, 'learning_rate': 0.14172251388183466, 'max_depth': 8, 'subsample': 0.6312107340597584}. Best is trial 93 with value: 0.847547625877747.\n",
      "[I 2024-11-20 21:05:53,375] Trial 104 finished with value: 0.8252943971980038 and parameters: {'n_estimators': 67, 'learning_rate': 0.1391094410784723, 'max_depth': 9, 'subsample': 0.6389252160919269}. Best is trial 93 with value: 0.847547625877747.\n",
      "[I 2024-11-20 21:05:53,757] Trial 105 finished with value: 0.8396089024779845 and parameters: {'n_estimators': 98, 'learning_rate': 0.18216684865037128, 'max_depth': 9, 'subsample': 0.5295690951138079}. Best is trial 93 with value: 0.847547625877747.\n",
      "[I 2024-11-20 21:05:53,918] Trial 106 finished with value: 0.8457097675293879 and parameters: {'n_estimators': 63, 'learning_rate': 0.20422733516551442, 'max_depth': 9, 'subsample': 0.40293254475935175}. Best is trial 93 with value: 0.847547625877747.\n",
      "[I 2024-11-20 21:05:54,488] Trial 107 finished with value: 0.8352394539528155 and parameters: {'n_estimators': 64, 'learning_rate': 0.19956836368683376, 'max_depth': 8, 'subsample': 0.5378894095940042}. Best is trial 93 with value: 0.847547625877747.\n",
      "[I 2024-11-20 21:05:55,125] Trial 108 finished with value: 0.8433193609991843 and parameters: {'n_estimators': 64, 'learning_rate': 0.2056035734378248, 'max_depth': 9, 'subsample': 0.6317888109514133}. Best is trial 93 with value: 0.847547625877747.\n",
      "[I 2024-11-20 21:05:55,162] Trial 109 finished with value: 0.8417974064927316 and parameters: {'n_estimators': 65, 'learning_rate': 0.20308095510616314, 'max_depth': 9, 'subsample': 0.6484510601943215}. Best is trial 93 with value: 0.847547625877747.\n",
      "[I 2024-11-20 21:05:55,627] Trial 112 finished with value: 0.827010497893368 and parameters: {'n_estimators': 59, 'learning_rate': 0.26792419828806635, 'max_depth': 9, 'subsample': 0.4360356261462868}. Best is trial 93 with value: 0.847547625877747.\n",
      "[I 2024-11-20 21:05:55,783] Trial 110 finished with value: 0.8466700661959011 and parameters: {'n_estimators': 97, 'learning_rate': 0.15884880501468152, 'max_depth': 9, 'subsample': 0.40433553386523646}. Best is trial 93 with value: 0.847547625877747.\n",
      "[I 2024-11-20 21:05:55,826] Trial 111 finished with value: 0.8401598228832137 and parameters: {'n_estimators': 63, 'learning_rate': 0.15955078541316783, 'max_depth': 9, 'subsample': 0.3933631800797803}. Best is trial 93 with value: 0.847547625877747.\n",
      "[I 2024-11-20 21:05:56,135] Trial 113 finished with value: 0.8352662754998527 and parameters: {'n_estimators': 99, 'learning_rate': 0.2439098349840019, 'max_depth': 8, 'subsample': 0.45377805948667865}. Best is trial 93 with value: 0.847547625877747.\n",
      "[I 2024-11-20 21:05:56,663] Trial 114 finished with value: 0.8395442764933534 and parameters: {'n_estimators': 97, 'learning_rate': 0.24677165929860895, 'max_depth': 9, 'subsample': 0.44439360653296706}. Best is trial 93 with value: 0.847547625877747.\n",
      "[I 2024-11-20 21:05:56,736] Trial 115 finished with value: 0.8360049976960952 and parameters: {'n_estimators': 98, 'learning_rate': 0.2630331310931121, 'max_depth': 9, 'subsample': 0.4415292783469382}. Best is trial 93 with value: 0.847547625877747.\n",
      "[I 2024-11-20 21:05:57,405] Trial 116 finished with value: 0.8365709549421299 and parameters: {'n_estimators': 59, 'learning_rate': 0.259337660487716, 'max_depth': 9, 'subsample': 0.4557768542207715}. Best is trial 93 with value: 0.847547625877747.\n",
      "[I 2024-11-20 21:05:58,303] Trial 118 finished with value: 0.8247090579684229 and parameters: {'n_estimators': 57, 'learning_rate': 0.24321417018128558, 'max_depth': 9, 'subsample': 0.5994542730519422}. Best is trial 93 with value: 0.847547625877747.\n",
      "[I 2024-11-20 21:05:58,441] Trial 117 finished with value: 0.831009494803438 and parameters: {'n_estimators': 58, 'learning_rate': 0.1597851665599829, 'max_depth': 9, 'subsample': 0.6079385086586305}. Best is trial 93 with value: 0.847547625877747.\n",
      "[I 2024-11-20 21:05:58,749] Trial 120 finished with value: 0.8306224242800575 and parameters: {'n_estimators': 98, 'learning_rate': 0.16003098810088448, 'max_depth': 9, 'subsample': 0.4814959948241952}. Best is trial 93 with value: 0.847547625877747.\n",
      "[I 2024-11-20 21:05:58,977] Trial 119 finished with value: 0.8304769491724203 and parameters: {'n_estimators': 95, 'learning_rate': 0.16007859527757495, 'max_depth': 9, 'subsample': 0.4923515044682807}. Best is trial 93 with value: 0.847547625877747.\n",
      "[I 2024-11-20 21:05:59,309] Trial 121 finished with value: 0.8326979582086533 and parameters: {'n_estimators': 96, 'learning_rate': 0.22122993364193727, 'max_depth': 9, 'subsample': 0.5865789876249401}. Best is trial 93 with value: 0.847547625877747.\n",
      "[I 2024-11-20 21:05:59,834] Trial 122 finished with value: 0.8343057510564458 and parameters: {'n_estimators': 97, 'learning_rate': 0.22109092000453415, 'max_depth': 9, 'subsample': 0.6056768527931192}. Best is trial 93 with value: 0.847547625877747.\n",
      "[I 2024-11-20 21:06:00,013] Trial 123 finished with value: 0.8288685246928013 and parameters: {'n_estimators': 96, 'learning_rate': 0.15833126494466904, 'max_depth': 10, 'subsample': 0.5842520990895494}. Best is trial 93 with value: 0.847547625877747.\n",
      "[I 2024-11-20 21:06:00,101] Trial 124 finished with value: 0.8321706548827468 and parameters: {'n_estimators': 102, 'learning_rate': 0.22772057243484223, 'max_depth': 10, 'subsample': 0.5855542035956366}. Best is trial 93 with value: 0.847547625877747.\n",
      "[I 2024-11-20 21:06:01,268] Trial 126 finished with value: 0.8318345444902813 and parameters: {'n_estimators': 62, 'learning_rate': 0.2232302304593223, 'max_depth': 10, 'subsample': 0.4930227016130844}. Best is trial 93 with value: 0.847547625877747.\n",
      "[I 2024-11-20 21:06:01,618] Trial 128 finished with value: 0.8474912918965805 and parameters: {'n_estimators': 61, 'learning_rate': 0.2142123310711397, 'max_depth': 10, 'subsample': 0.2309985472049929}. Best is trial 93 with value: 0.847547625877747.\n",
      "[I 2024-11-20 21:06:01,932] Trial 129 finished with value: 0.8506508079855022 and parameters: {'n_estimators': 61, 'learning_rate': 0.1908706905630921, 'max_depth': 10, 'subsample': 0.3515050842290105}. Best is trial 129 with value: 0.8506508079855022.\n",
      "[I 2024-11-20 21:06:02,221] Trial 127 finished with value: 0.8467750264209951 and parameters: {'n_estimators': 95, 'learning_rate': 0.21995644893028216, 'max_depth': 10, 'subsample': 0.6562361367929846}. Best is trial 129 with value: 0.8506508079855022.\n",
      "[I 2024-11-20 21:06:02,255] Trial 131 finished with value: 0.8429081870671495 and parameters: {'n_estimators': 101, 'learning_rate': 0.20520703973859578, 'max_depth': 9, 'subsample': 0.3589728386372668}. Best is trial 129 with value: 0.8506508079855022.\n",
      "[I 2024-11-20 21:06:02,386] Trial 130 finished with value: 0.8405739976041651 and parameters: {'n_estimators': 61, 'learning_rate': 0.1928172487133904, 'max_depth': 10, 'subsample': 0.22438968321122618}. Best is trial 129 with value: 0.8506508079855022.\n",
      "[I 2024-11-20 21:06:02,436] Trial 132 finished with value: 0.837402576569311 and parameters: {'n_estimators': 93, 'learning_rate': 0.19031910839146918, 'max_depth': 9, 'subsample': 0.22670704739491912}. Best is trial 129 with value: 0.8506508079855022.\n",
      "[I 2024-11-20 21:06:03,814] Trial 133 finished with value: 0.8428373135163326 and parameters: {'n_estimators': 93, 'learning_rate': 0.19489594973617294, 'max_depth': 9, 'subsample': 0.35394837175433674}. Best is trial 129 with value: 0.8506508079855022.\n",
      "[I 2024-11-20 21:06:04,183] Trial 134 finished with value: 0.8448554484935373 and parameters: {'n_estimators': 101, 'learning_rate': 0.19244082049113517, 'max_depth': 10, 'subsample': 0.23469438216796287}. Best is trial 129 with value: 0.8506508079855022.\n",
      "[I 2024-11-20 21:06:04,374] Trial 125 finished with value: 0.8306331697039461 and parameters: {'n_estimators': 94, 'learning_rate': 0.05001691186878273, 'max_depth': 10, 'subsample': 0.49045107283231815}. Best is trial 129 with value: 0.8506508079855022.\n",
      "[I 2024-11-20 21:06:04,659] Trial 135 finished with value: 0.8412592783496735 and parameters: {'n_estimators': 61, 'learning_rate': 0.19154048697421333, 'max_depth': 10, 'subsample': 0.3541675701665716}. Best is trial 129 with value: 0.8506508079855022.\n",
      "[I 2024-11-20 21:06:05,146] Trial 138 finished with value: 0.8353366427744882 and parameters: {'n_estimators': 61, 'learning_rate': 0.19275434504969907, 'max_depth': 10, 'subsample': 0.23417003885071988}. Best is trial 129 with value: 0.8506508079855022.\n",
      "[I 2024-11-20 21:06:05,207] Trial 137 finished with value: 0.8316785714491528 and parameters: {'n_estimators': 53, 'learning_rate': 0.2072675253568102, 'max_depth': 10, 'subsample': 0.8056268129985756}. Best is trial 129 with value: 0.8506508079855022.\n",
      "[I 2024-11-20 21:06:05,414] Trial 139 finished with value: 0.8240173315658599 and parameters: {'n_estimators': 56, 'learning_rate': 0.20412864308029352, 'max_depth': 10, 'subsample': 0.19254506365078258}. Best is trial 129 with value: 0.8506508079855022.\n",
      "[I 2024-11-20 21:06:05,558] Trial 136 finished with value: 0.8426349338951471 and parameters: {'n_estimators': 56, 'learning_rate': 0.1921152884820296, 'max_depth': 10, 'subsample': 0.6600803625670781}. Best is trial 129 with value: 0.8506508079855022.\n",
      "[I 2024-11-20 21:06:06,409] Trial 140 finished with value: 0.8294659893557412 and parameters: {'n_estimators': 62, 'learning_rate': 0.19985360302079394, 'max_depth': 10, 'subsample': 0.19879395727114463}. Best is trial 129 with value: 0.8506508079855022.\n",
      "[I 2024-11-20 21:06:06,572] Trial 142 finished with value: 0.8176706272725288 and parameters: {'n_estimators': 101, 'learning_rate': 0.20744853984862816, 'max_depth': 10, 'subsample': 0.19958776783384766}. Best is trial 129 with value: 0.8506508079855022.\n",
      "[I 2024-11-20 21:06:06,760] Trial 141 finished with value: 0.8216638100988134 and parameters: {'n_estimators': 54, 'learning_rate': 0.19846693801935114, 'max_depth': 10, 'subsample': 0.1964934517255337}. Best is trial 129 with value: 0.8506508079855022.\n",
      "[I 2024-11-20 21:06:07,257] Trial 143 finished with value: 0.8444259845370514 and parameters: {'n_estimators': 54, 'learning_rate': 0.20599725248451325, 'max_depth': 10, 'subsample': 0.3529545863181476}. Best is trial 129 with value: 0.8506508079855022.\n",
      "[I 2024-11-20 21:06:07,570] Trial 145 finished with value: 0.8271061701058001 and parameters: {'n_estimators': 104, 'learning_rate': 0.21207623950068125, 'max_depth': 10, 'subsample': 0.19573181987352298}. Best is trial 129 with value: 0.8506508079855022.\n",
      "[I 2024-11-20 21:06:07,672] Trial 144 finished with value: 0.8327362809252449 and parameters: {'n_estimators': 56, 'learning_rate': 0.21121045365425287, 'max_depth': 10, 'subsample': 0.19252525221104846}. Best is trial 129 with value: 0.8506508079855022.\n",
      "[I 2024-11-20 21:06:07,723] Trial 146 finished with value: 0.8364790060261103 and parameters: {'n_estimators': 102, 'learning_rate': 0.23225150356468807, 'max_depth': 10, 'subsample': 0.35585274022011976}. Best is trial 129 with value: 0.8506508079855022.\n",
      "[I 2024-11-20 21:06:08,094] Trial 147 finished with value: 0.8390990028850052 and parameters: {'n_estimators': 102, 'learning_rate': 0.2137521720872792, 'max_depth': 10, 'subsample': 0.3299261626499662}. Best is trial 129 with value: 0.8506508079855022.\n",
      "[I 2024-11-20 21:06:08,553] Trial 148 finished with value: 0.8354471669104152 and parameters: {'n_estimators': 101, 'learning_rate': 0.2357157456564592, 'max_depth': 10, 'subsample': 0.3374421949652174}. Best is trial 129 with value: 0.8506508079855022.\n",
      "[I 2024-11-20 21:06:09,103] Trial 150 finished with value: 0.8361815384620883 and parameters: {'n_estimators': 56, 'learning_rate': 0.22914784400280963, 'max_depth': 10, 'subsample': 0.35270183743394856}. Best is trial 129 with value: 0.8506508079855022.\n",
      "[I 2024-11-20 21:06:09,189] Trial 149 finished with value: 0.8423114455252065 and parameters: {'n_estimators': 103, 'learning_rate': 0.20988509375604938, 'max_depth': 10, 'subsample': 0.3531439828056704}. Best is trial 129 with value: 0.8506508079855022.\n",
      "[I 2024-11-20 21:06:10,134] Trial 153 finished with value: 0.8316256891253956 and parameters: {'n_estimators': 89, 'learning_rate': 0.23340809534758516, 'max_depth': 10, 'subsample': 0.6754743360199371}. Best is trial 129 with value: 0.8506508079855022.\n",
      "[I 2024-11-20 21:06:10,182] Trial 154 finished with value: 0.8297466073929276 and parameters: {'n_estimators': 51, 'learning_rate': 0.21495292617886314, 'max_depth': 10, 'subsample': 0.6628247452104603}. Best is trial 129 with value: 0.8506508079855022.\n",
      "[I 2024-11-20 21:06:10,538] Trial 151 finished with value: 0.8361732093368602 and parameters: {'n_estimators': 103, 'learning_rate': 0.23282600706020942, 'max_depth': 10, 'subsample': 0.656510556532706}. Best is trial 129 with value: 0.8506508079855022.\n",
      "[I 2024-11-20 21:06:10,748] Trial 152 finished with value: 0.8419686498183875 and parameters: {'n_estimators': 56, 'learning_rate': 0.2350523836147755, 'max_depth': 10, 'subsample': 0.6632849895089924}. Best is trial 129 with value: 0.8506508079855022.\n",
      "[I 2024-11-20 21:06:10,966] Trial 155 finished with value: 0.8306760480945101 and parameters: {'n_estimators': 50, 'learning_rate': 0.17866169597795503, 'max_depth': 10, 'subsample': 0.6613472788723055}. Best is trial 129 with value: 0.8506508079855022.\n",
      "[I 2024-11-20 21:06:11,131] Trial 156 finished with value: 0.8480119152487395 and parameters: {'n_estimators': 89, 'learning_rate': 0.28599992227557647, 'max_depth': 10, 'subsample': 0.3659884783433594}. Best is trial 129 with value: 0.8506508079855022.\n",
      "[I 2024-11-20 21:06:12,118] Trial 158 finished with value: 0.8485974737872013 and parameters: {'n_estimators': 50, 'learning_rate': 0.17747336533919436, 'max_depth': 10, 'subsample': 0.36866467566928723}. Best is trial 129 with value: 0.8506508079855022.\n",
      "[I 2024-11-20 21:06:12,233] Trial 157 finished with value: 0.8368928546788871 and parameters: {'n_estimators': 52, 'learning_rate': 0.18467417401729425, 'max_depth': 10, 'subsample': 0.744661281210723}. Best is trial 129 with value: 0.8506508079855022.\n",
      "[I 2024-11-20 21:06:12,937] Trial 159 finished with value: 0.8342695670240006 and parameters: {'n_estimators': 50, 'learning_rate': 0.18035402429008351, 'max_depth': 10, 'subsample': 0.6741825688758734}. Best is trial 129 with value: 0.8506508079855022.\n",
      "[I 2024-11-20 21:06:13,223] Trial 160 finished with value: 0.8269590203496421 and parameters: {'n_estimators': 92, 'learning_rate': 0.1844840563694965, 'max_depth': 10, 'subsample': 0.7749749678673058}. Best is trial 129 with value: 0.8506508079855022.\n",
      "[I 2024-11-20 21:06:13,362] Trial 164 finished with value: 0.8437262320422414 and parameters: {'n_estimators': 106, 'learning_rate': 0.28466323247555436, 'max_depth': 10, 'subsample': 0.40360494103524147}. Best is trial 129 with value: 0.8506508079855022.\n",
      "[I 2024-11-20 21:06:13,452] Trial 161 finished with value: 0.8318560699520137 and parameters: {'n_estimators': 105, 'learning_rate': 0.1774931131500895, 'max_depth': 9, 'subsample': 0.769329538941006}. Best is trial 129 with value: 0.8506508079855022.\n",
      "[I 2024-11-20 21:06:13,689] Trial 163 finished with value: 0.8439604036736178 and parameters: {'n_estimators': 106, 'learning_rate': 0.1867547288973638, 'max_depth': 10, 'subsample': 0.40134339478469244}. Best is trial 129 with value: 0.8506508079855022.\n",
      "[I 2024-11-20 21:06:13,994] Trial 166 finished with value: 0.828705238233126 and parameters: {'n_estimators': 93, 'learning_rate': 0.342636212834001, 'max_depth': 10, 'subsample': 0.392925902114572}. Best is trial 129 with value: 0.8506508079855022.\n",
      "[I 2024-11-20 21:06:14,066] Trial 162 finished with value: 0.8307624613644757 and parameters: {'n_estimators': 93, 'learning_rate': 0.18594867863426745, 'max_depth': 10, 'subsample': 0.7803749955892816}. Best is trial 129 with value: 0.8506508079855022.\n",
      "[I 2024-11-20 21:06:15,077] Trial 168 finished with value: 0.8468790171340956 and parameters: {'n_estimators': 106, 'learning_rate': 0.3141307810396807, 'max_depth': 10, 'subsample': 0.38948442365229186}. Best is trial 129 with value: 0.8506508079855022.\n",
      "[I 2024-11-20 21:06:15,332] Trial 165 finished with value: 0.850796347904837 and parameters: {'n_estimators': 86, 'learning_rate': 0.18620139713380493, 'max_depth': 10, 'subsample': 0.39676948237203985}. Best is trial 165 with value: 0.850796347904837.\n",
      "[I 2024-11-20 21:06:15,633] Trial 170 finished with value: 0.8507890304728601 and parameters: {'n_estimators': 54, 'learning_rate': 0.3238224225451499, 'max_depth': 10, 'subsample': 0.40259640206188985}. Best is trial 165 with value: 0.850796347904837.\n",
      "[I 2024-11-20 21:06:16,103] Trial 172 finished with value: 0.8258180837909848 and parameters: {'n_estimators': 107, 'learning_rate': 0.30388479902831267, 'max_depth': 10, 'subsample': 0.3710236465493238}. Best is trial 165 with value: 0.850796347904837.\n",
      "[I 2024-11-20 21:06:16,109] Trial 167 finished with value: 0.8463202487995091 and parameters: {'n_estimators': 86, 'learning_rate': 0.18829567142232195, 'max_depth': 10, 'subsample': 0.39623608444511266}. Best is trial 165 with value: 0.850796347904837.\n",
      "[I 2024-11-20 21:06:16,510] Trial 169 finished with value: 0.8463437945085452 and parameters: {'n_estimators': 108, 'learning_rate': 0.16785986192882962, 'max_depth': 10, 'subsample': 0.40106954266148953}. Best is trial 165 with value: 0.850796347904837.\n",
      "[I 2024-11-20 21:06:16,916] Trial 171 finished with value: 0.8387294697428586 and parameters: {'n_estimators': 112, 'learning_rate': 0.16764920756912519, 'max_depth': 10, 'subsample': 0.3978861334670892}. Best is trial 165 with value: 0.850796347904837.\n",
      "[I 2024-11-20 21:06:16,957] Trial 173 finished with value: 0.8410924925162857 and parameters: {'n_estimators': 54, 'learning_rate': 0.16870421857719894, 'max_depth': 10, 'subsample': 0.3976013073791291}. Best is trial 165 with value: 0.850796347904837.\n",
      "[I 2024-11-20 21:06:17,412] Trial 175 finished with value: 0.8376337582773332 and parameters: {'n_estimators': 106, 'learning_rate': 0.2837287555354834, 'max_depth': 10, 'subsample': 0.37355443343578343}. Best is trial 165 with value: 0.850796347904837.\n",
      "[I 2024-11-20 21:06:17,452] Trial 174 finished with value: 0.8438914662456725 and parameters: {'n_estimators': 110, 'learning_rate': 0.2916204019032559, 'max_depth': 10, 'subsample': 0.37380166492376904}. Best is trial 165 with value: 0.850796347904837.\n",
      "[I 2024-11-20 21:06:17,678] Trial 176 finished with value: 0.8295198129521153 and parameters: {'n_estimators': 112, 'learning_rate': 0.3096963322079129, 'max_depth': 10, 'subsample': 0.3787193075582252}. Best is trial 165 with value: 0.850796347904837.\n",
      "[I 2024-11-20 21:06:18,062] Trial 177 finished with value: 0.8337325422914261 and parameters: {'n_estimators': 111, 'learning_rate': 0.33938106878635077, 'max_depth': 10, 'subsample': 0.4029056657493733}. Best is trial 165 with value: 0.850796347904837.\n",
      "[I 2024-11-20 21:06:18,129] Trial 178 finished with value: 0.8361314514061343 and parameters: {'n_estimators': 110, 'learning_rate': 0.3337195007061357, 'max_depth': 10, 'subsample': 0.39636344013250885}. Best is trial 165 with value: 0.850796347904837.\n",
      "[I 2024-11-20 21:06:18,404] Trial 179 finished with value: 0.8361353546708434 and parameters: {'n_estimators': 108, 'learning_rate': 0.2836242286781914, 'max_depth': 10, 'subsample': 0.4010908425529121}. Best is trial 165 with value: 0.850796347904837.\n",
      "[I 2024-11-20 21:06:18,897] Trial 180 finished with value: 0.8411082570119663 and parameters: {'n_estimators': 109, 'learning_rate': 0.316980478815933, 'max_depth': 10, 'subsample': 0.3952610558223065}. Best is trial 165 with value: 0.850796347904837.\n",
      "[I 2024-11-20 21:06:19,032] Trial 181 finished with value: 0.8399841064675554 and parameters: {'n_estimators': 111, 'learning_rate': 0.2824783497072441, 'max_depth': 10, 'subsample': 0.41365304758021054}. Best is trial 165 with value: 0.850796347904837.\n",
      "[I 2024-11-20 21:06:19,238] Trial 182 finished with value: 0.836312983515143 and parameters: {'n_estimators': 110, 'learning_rate': 0.31772824589645743, 'max_depth': 10, 'subsample': 0.4138242965435297}. Best is trial 165 with value: 0.850796347904837.\n",
      "[I 2024-11-20 21:06:19,311] Trial 184 finished with value: 0.8249436811467487 and parameters: {'n_estimators': 111, 'learning_rate': 0.3727092910227208, 'max_depth': 10, 'subsample': 0.3303344142054159}. Best is trial 165 with value: 0.850796347904837.\n",
      "[I 2024-11-20 21:06:19,796] Trial 183 finished with value: 0.834418602103083 and parameters: {'n_estimators': 110, 'learning_rate': 0.36352412934962325, 'max_depth': 10, 'subsample': 0.32679488931200085}. Best is trial 165 with value: 0.850796347904837.\n",
      "[I 2024-11-20 21:06:20,273] Trial 187 finished with value: 0.8114051589254637 and parameters: {'n_estimators': 86, 'learning_rate': 0.38161257960016626, 'max_depth': 10, 'subsample': 0.3293348462354911}. Best is trial 165 with value: 0.850796347904837.\n",
      "[I 2024-11-20 21:06:20,313] Trial 185 finished with value: 0.827804701896283 and parameters: {'n_estimators': 110, 'learning_rate': 0.31402435536553347, 'max_depth': 10, 'subsample': 0.32852824347928905}. Best is trial 165 with value: 0.850796347904837.\n",
      "[I 2024-11-20 21:06:20,607] Trial 186 finished with value: 0.8318943603914164 and parameters: {'n_estimators': 109, 'learning_rate': 0.32074221703759825, 'max_depth': 10, 'subsample': 0.32839896126429713}. Best is trial 165 with value: 0.850796347904837.\n",
      "[I 2024-11-20 21:06:21,088] Trial 188 finished with value: 0.8202374391685133 and parameters: {'n_estimators': 87, 'learning_rate': 0.283525095828579, 'max_depth': 10, 'subsample': 0.4334960826002189}. Best is trial 165 with value: 0.850796347904837.\n",
      "[I 2024-11-20 21:06:21,137] Trial 189 finished with value: 0.8323860936572733 and parameters: {'n_estimators': 115, 'learning_rate': 0.35543018830807493, 'max_depth': 10, 'subsample': 0.4258408984231197}. Best is trial 165 with value: 0.850796347904837.\n",
      "[I 2024-11-20 21:06:21,345] Trial 191 finished with value: 0.8292212271781676 and parameters: {'n_estimators': 86, 'learning_rate': 0.3590500692841192, 'max_depth': 10, 'subsample': 0.44738972296992763}. Best is trial 165 with value: 0.850796347904837.\n",
      "[I 2024-11-20 21:06:21,633] Trial 190 finished with value: 0.8464990211289138 and parameters: {'n_estimators': 86, 'learning_rate': 0.37725576617547063, 'max_depth': 10, 'subsample': 0.43753017320842047}. Best is trial 165 with value: 0.850796347904837.\n",
      "[I 2024-11-20 21:06:22,376] Trial 193 finished with value: 0.8373935619221641 and parameters: {'n_estimators': 85, 'learning_rate': 0.2960483462761334, 'max_depth': 10, 'subsample': 0.43861288479286825}. Best is trial 165 with value: 0.850796347904837.\n",
      "[I 2024-11-20 21:06:22,454] Trial 195 finished with value: 0.8324581022503239 and parameters: {'n_estimators': 86, 'learning_rate': 0.28923359380474184, 'max_depth': 10, 'subsample': 0.44133659052905316}. Best is trial 165 with value: 0.850796347904837.\n",
      "[I 2024-11-20 21:06:22,502] Trial 192 finished with value: 0.8423444232040807 and parameters: {'n_estimators': 86, 'learning_rate': 0.1743547841827324, 'max_depth': 10, 'subsample': 0.44583802415663193}. Best is trial 165 with value: 0.850796347904837.\n",
      "[I 2024-11-20 21:06:22,514] Trial 194 finished with value: 0.8328942797605029 and parameters: {'n_estimators': 84, 'learning_rate': 0.29620305721224066, 'max_depth': 10, 'subsample': 0.43279766998211977}. Best is trial 165 with value: 0.850796347904837.\n",
      "[I 2024-11-20 21:06:22,792] Trial 197 finished with value: 0.8396925288850677 and parameters: {'n_estimators': 106, 'learning_rate': 0.29723303414186586, 'max_depth': 10, 'subsample': 0.2897718655909374}. Best is trial 165 with value: 0.850796347904837.\n",
      "[I 2024-11-20 21:06:23,076] Trial 196 finished with value: 0.8406010808180515 and parameters: {'n_estimators': 85, 'learning_rate': 0.17435193355169712, 'max_depth': 10, 'subsample': 0.4646143285602962}. Best is trial 165 with value: 0.850796347904837.\n",
      "[I 2024-11-20 21:06:23,208] Trial 198 finished with value: 0.8441217462466227 and parameters: {'n_estimators': 84, 'learning_rate': 0.16545885734791538, 'max_depth': 10, 'subsample': 0.25966045802146825}. Best is trial 165 with value: 0.850796347904837.\n",
      "[I 2024-11-20 21:06:23,232] Trial 199 finished with value: 0.841448245247314 and parameters: {'n_estimators': 84, 'learning_rate': 0.17519372283072843, 'max_depth': 10, 'subsample': 0.371920188849417}. Best is trial 165 with value: 0.850796347904837.\n"
     ]
    }
   ],
   "source": [
    "def objective(trial,\n",
    "    X,\n",
    "    y,\n",
    "    random_state=22,\n",
    "    n_splits=3,\n",
    "    n_repeats=2,\n",
    "    n_jobs=-1,\n",
    "              ):\n",
    "    \n",
    "    param = {\n",
    "        \"objective\": \"reg:squarederror\",\n",
    "        \"tree_method\":'hist',\n",
    "        'n_estimators': trial.suggest_int('n_estimators', 50, 120),\n",
    "        \"verbosity\": 1,\n",
    "        \"learning_rate\": trial.suggest_float(\"learning_rate\", 0.05, 0.5, log=True),\n",
    "        \"max_depth\": trial.suggest_int(\"max_depth\", 3, 10),\n",
    "        \"subsample\": trial.suggest_float(\"subsample\", 0.05, 0.9,log=True),\n",
    "        \"n_jobs\": n_jobs,\n",
    "    }\n",
    "    \n",
    "    model = xgb.XGBRegressor(**param, eval_metric=\"rmse\",early_stopping_rounds = EARLY_STOPPING_ROUNDS)\n",
    "    rkf = RepeatedKFold(n_splits=n_splits, n_repeats=n_repeats, random_state=random_state)\n",
    "    X_values = X.values\n",
    "    y_values = y.values\n",
    "    y_pred = np.zeros_like(y_values)\n",
    "\n",
    "    for train_index, test_index in rkf.split(X_values):\n",
    "        X_A, X_B = X_values[train_index, :], X_values[test_index, :]\n",
    "        y_A, y_B = y_values[train_index], y_values[test_index]\n",
    "        model.fit(X_A, y_A, eval_set=[(X_B, y_B)], verbose=0,)\n",
    "        y_pred[test_index] += model.predict(X_B)\n",
    "    y_pred /= n_repeats\n",
    "    r2 = r2_score(y_true = y_train, y_pred = y_pred)\n",
    "    \n",
    "    return r2\n",
    "\n",
    "\n",
    "sampler = TPESampler(seed=10)  # Make the sampler behave in a deterministic way.\n",
    "study = optuna.create_study(sampler = sampler, direction='maximize')\n",
    "study.optimize(\n",
    "    lambda trial: objective(\n",
    "        trial,\n",
    "        X_train,\n",
    "        y_train,\n",
    "        random_state=RS,\n",
    "        n_splits=N_SPLITS,\n",
    "        n_repeats=N_REPEATS,\n",
    "        n_jobs=N_JOBS,\n",
    "    ),\n",
    "    n_trials=N_TRIALS,\n",
    "    n_jobs=N_JOBS,\n",
    ")"
   ]
  },
  {
   "cell_type": "code",
   "execution_count": 10,
   "id": "43040a6d",
   "metadata": {},
   "outputs": [
    {
     "data": {
      "application/vnd.plotly.v1+json": {
       "config": {
        "plotlyServerURL": "https://plot.ly"
       },
       "data": [
        {
         "mode": "markers",
         "name": "Objective Value",
         "type": "scatter",
         "x": [
          0,
          1,
          2,
          3,
          4,
          5,
          6,
          7,
          8,
          9,
          10,
          11,
          12,
          13,
          14,
          15,
          16,
          17,
          18,
          19,
          20,
          21,
          22,
          23,
          24,
          25,
          26,
          27,
          28,
          29,
          30,
          31,
          32,
          33,
          34,
          35,
          36,
          37,
          38,
          39,
          40,
          41,
          42,
          43,
          44,
          45,
          46,
          47,
          48,
          49,
          50,
          51,
          52,
          53,
          54,
          55,
          56,
          57,
          58,
          59,
          60,
          61,
          62,
          63,
          64,
          65,
          66,
          67,
          68,
          69,
          70,
          71,
          72,
          73,
          74,
          75,
          76,
          77,
          78,
          79,
          80,
          81,
          82,
          83,
          84,
          85,
          86,
          87,
          88,
          89,
          90,
          91,
          92,
          93,
          94,
          95,
          96,
          97,
          98,
          99,
          100,
          101,
          102,
          103,
          104,
          105,
          106,
          107,
          108,
          109,
          110,
          111,
          112,
          113,
          114,
          115,
          116,
          117,
          118,
          119,
          120,
          121,
          122,
          123,
          124,
          125,
          126,
          127,
          128,
          129,
          130,
          131,
          132,
          133,
          134,
          135,
          136,
          137,
          138,
          139,
          140,
          141,
          142,
          143,
          144,
          145,
          146,
          147,
          148,
          149,
          150,
          151,
          152,
          153,
          154,
          155,
          156,
          157,
          158,
          159,
          160,
          161,
          162,
          163,
          164,
          165,
          166,
          167,
          168,
          169,
          170,
          171,
          172,
          173,
          174,
          175,
          176,
          177,
          178,
          179,
          180,
          181,
          182,
          183,
          184,
          185,
          186,
          187,
          188,
          189,
          190,
          191,
          192,
          193,
          194,
          195,
          196,
          197,
          198,
          199
         ],
         "y": [
          0.828784116655239,
          0.7757059082520797,
          0.8036016144717776,
          0.8213199187281421,
          0.7955415400631994,
          0.7548098673353071,
          0.8341928055979377,
          0.8247862853680249,
          0.8200868249051887,
          0.8157679870788586,
          0.7858851913992104,
          0.8088571907661823,
          0.807077612990066,
          0.8022636316046245,
          0.7594849778115683,
          0.7719288842133284,
          0.8086806347225179,
          0.8257977195425444,
          0.8293523533187738,
          0.8263501589785617,
          0.8250398633512737,
          0.8280065766030202,
          0.8367605658808968,
          0.8380150647278881,
          0.8278292837187644,
          0.8231774608312279,
          0.8355523174323486,
          0.8372241593168247,
          0.8315209379759604,
          0.8252180135068107,
          0.8249540865888564,
          0.8305781430784737,
          0.8260680385506394,
          0.8278102423616275,
          0.8343472799669209,
          0.8305404075016256,
          0.8269668109533291,
          0.8369161637086366,
          0.8449611137965267,
          0.8270917979850831,
          0.8401315012294194,
          0.8332069540028052,
          0.8355175108540938,
          0.8329982447097966,
          0.835339350022386,
          0.8307391877238426,
          0.8300408239665333,
          0.8242767049788386,
          0.8271136974820343,
          0.8318564904365462,
          0.8259632465377795,
          0.8150709800547606,
          0.8240719128159596,
          0.8296147510517418,
          0.7736781382775619,
          0.8289872509711966,
          0.8112656395820337,
          0.8050892299875596,
          0.8116805322590035,
          0.8188279298516344,
          0.8321517938737548,
          0.8252936001943283,
          0.8268157364852234,
          0.8362274412277177,
          0.8040545996415174,
          0.8327828715042276,
          0.8374448677764854,
          0.8277238388120396,
          0.83761519005943,
          0.8187447263220005,
          0.8373743799666254,
          0.8318505947588868,
          0.8093988457321313,
          0.8244386210205673,
          0.8373946165210152,
          0.8003354809727179,
          0.7889641656452477,
          0.8160429084090839,
          0.8317653381311945,
          0.8359171805498058,
          0.8278206725637558,
          0.8279544160069838,
          0.8270022462233235,
          0.8230917255885812,
          0.8336210725471178,
          0.8254687760312743,
          0.8373509783470943,
          0.838040499343559,
          0.8395402405960007,
          0.836677891033388,
          0.8297475086138578,
          0.826888411222225,
          0.828292880750551,
          0.847547625877747,
          0.836350961425859,
          0.8378630208183081,
          0.8329117209779541,
          0.8423629089869092,
          0.8377552345258246,
          0.8372167795622942,
          0.8329148237469352,
          0.8308163640808225,
          0.8292659782861327,
          0.8294888099483928,
          0.8252943971980038,
          0.8396089024779845,
          0.8457097675293879,
          0.8352394539528155,
          0.8433193609991843,
          0.8417974064927316,
          0.8466700661959011,
          0.8401598228832137,
          0.827010497893368,
          0.8352662754998527,
          0.8395442764933534,
          0.8360049976960952,
          0.8365709549421299,
          0.831009494803438,
          0.8247090579684229,
          0.8304769491724203,
          0.8306224242800575,
          0.8326979582086533,
          0.8343057510564458,
          0.8288685246928013,
          0.8321706548827468,
          0.8306331697039461,
          0.8318345444902813,
          0.8467750264209951,
          0.8474912918965805,
          0.8506508079855022,
          0.8405739976041651,
          0.8429081870671495,
          0.837402576569311,
          0.8428373135163326,
          0.8448554484935373,
          0.8412592783496735,
          0.8426349338951471,
          0.8316785714491528,
          0.8353366427744882,
          0.8240173315658599,
          0.8294659893557412,
          0.8216638100988134,
          0.8176706272725288,
          0.8444259845370514,
          0.8327362809252449,
          0.8271061701058001,
          0.8364790060261103,
          0.8390990028850052,
          0.8354471669104152,
          0.8423114455252065,
          0.8361815384620883,
          0.8361732093368602,
          0.8419686498183875,
          0.8316256891253956,
          0.8297466073929276,
          0.8306760480945101,
          0.8480119152487395,
          0.8368928546788871,
          0.8485974737872013,
          0.8342695670240006,
          0.8269590203496421,
          0.8318560699520137,
          0.8307624613644757,
          0.8439604036736178,
          0.8437262320422414,
          0.850796347904837,
          0.828705238233126,
          0.8463202487995091,
          0.8468790171340956,
          0.8463437945085452,
          0.8507890304728601,
          0.8387294697428586,
          0.8258180837909848,
          0.8410924925162857,
          0.8438914662456725,
          0.8376337582773332,
          0.8295198129521153,
          0.8337325422914261,
          0.8361314514061343,
          0.8361353546708434,
          0.8411082570119663,
          0.8399841064675554,
          0.836312983515143,
          0.834418602103083,
          0.8249436811467487,
          0.827804701896283,
          0.8318943603914164,
          0.8114051589254637,
          0.8202374391685133,
          0.8323860936572733,
          0.8464990211289138,
          0.8292212271781676,
          0.8423444232040807,
          0.8373935619221641,
          0.8328942797605029,
          0.8324581022503239,
          0.8406010808180515,
          0.8396925288850677,
          0.8441217462466227,
          0.841448245247314
         ]
        },
        {
         "mode": "lines",
         "name": "Best Value",
         "type": "scatter",
         "x": [
          0,
          1,
          2,
          3,
          4,
          5,
          6,
          7,
          8,
          9,
          10,
          11,
          12,
          13,
          14,
          15,
          16,
          17,
          18,
          19,
          20,
          21,
          22,
          23,
          24,
          25,
          26,
          27,
          28,
          29,
          30,
          31,
          32,
          33,
          34,
          35,
          36,
          37,
          38,
          39,
          40,
          41,
          42,
          43,
          44,
          45,
          46,
          47,
          48,
          49,
          50,
          51,
          52,
          53,
          54,
          55,
          56,
          57,
          58,
          59,
          60,
          61,
          62,
          63,
          64,
          65,
          66,
          67,
          68,
          69,
          70,
          71,
          72,
          73,
          74,
          75,
          76,
          77,
          78,
          79,
          80,
          81,
          82,
          83,
          84,
          85,
          86,
          87,
          88,
          89,
          90,
          91,
          92,
          93,
          94,
          95,
          96,
          97,
          98,
          99,
          100,
          101,
          102,
          103,
          104,
          105,
          106,
          107,
          108,
          109,
          110,
          111,
          112,
          113,
          114,
          115,
          116,
          117,
          118,
          119,
          120,
          121,
          122,
          123,
          124,
          125,
          126,
          127,
          128,
          129,
          130,
          131,
          132,
          133,
          134,
          135,
          136,
          137,
          138,
          139,
          140,
          141,
          142,
          143,
          144,
          145,
          146,
          147,
          148,
          149,
          150,
          151,
          152,
          153,
          154,
          155,
          156,
          157,
          158,
          159,
          160,
          161,
          162,
          163,
          164,
          165,
          166,
          167,
          168,
          169,
          170,
          171,
          172,
          173,
          174,
          175,
          176,
          177,
          178,
          179,
          180,
          181,
          182,
          183,
          184,
          185,
          186,
          187,
          188,
          189,
          190,
          191,
          192,
          193,
          194,
          195,
          196,
          197,
          198,
          199
         ],
         "y": [
          0.828784116655239,
          0.828784116655239,
          0.828784116655239,
          0.828784116655239,
          0.828784116655239,
          0.828784116655239,
          0.8341928055979377,
          0.8341928055979377,
          0.8341928055979377,
          0.8341928055979377,
          0.8341928055979377,
          0.8341928055979377,
          0.8341928055979377,
          0.8341928055979377,
          0.8341928055979377,
          0.8341928055979377,
          0.8341928055979377,
          0.8341928055979377,
          0.8341928055979377,
          0.8341928055979377,
          0.8341928055979377,
          0.8341928055979377,
          0.8367605658808968,
          0.8380150647278881,
          0.8380150647278881,
          0.8380150647278881,
          0.8380150647278881,
          0.8380150647278881,
          0.8380150647278881,
          0.8380150647278881,
          0.8380150647278881,
          0.8380150647278881,
          0.8380150647278881,
          0.8380150647278881,
          0.8380150647278881,
          0.8380150647278881,
          0.8380150647278881,
          0.8380150647278881,
          0.8449611137965267,
          0.8449611137965267,
          0.8449611137965267,
          0.8449611137965267,
          0.8449611137965267,
          0.8449611137965267,
          0.8449611137965267,
          0.8449611137965267,
          0.8449611137965267,
          0.8449611137965267,
          0.8449611137965267,
          0.8449611137965267,
          0.8449611137965267,
          0.8449611137965267,
          0.8449611137965267,
          0.8449611137965267,
          0.8449611137965267,
          0.8449611137965267,
          0.8449611137965267,
          0.8449611137965267,
          0.8449611137965267,
          0.8449611137965267,
          0.8449611137965267,
          0.8449611137965267,
          0.8449611137965267,
          0.8449611137965267,
          0.8449611137965267,
          0.8449611137965267,
          0.8449611137965267,
          0.8449611137965267,
          0.8449611137965267,
          0.8449611137965267,
          0.8449611137965267,
          0.8449611137965267,
          0.8449611137965267,
          0.8449611137965267,
          0.8449611137965267,
          0.8449611137965267,
          0.8449611137965267,
          0.8449611137965267,
          0.8449611137965267,
          0.8449611137965267,
          0.8449611137965267,
          0.8449611137965267,
          0.8449611137965267,
          0.8449611137965267,
          0.8449611137965267,
          0.8449611137965267,
          0.8449611137965267,
          0.8449611137965267,
          0.8449611137965267,
          0.8449611137965267,
          0.8449611137965267,
          0.8449611137965267,
          0.8449611137965267,
          0.847547625877747,
          0.847547625877747,
          0.847547625877747,
          0.847547625877747,
          0.847547625877747,
          0.847547625877747,
          0.847547625877747,
          0.847547625877747,
          0.847547625877747,
          0.847547625877747,
          0.847547625877747,
          0.847547625877747,
          0.847547625877747,
          0.847547625877747,
          0.847547625877747,
          0.847547625877747,
          0.847547625877747,
          0.847547625877747,
          0.847547625877747,
          0.847547625877747,
          0.847547625877747,
          0.847547625877747,
          0.847547625877747,
          0.847547625877747,
          0.847547625877747,
          0.847547625877747,
          0.847547625877747,
          0.847547625877747,
          0.847547625877747,
          0.847547625877747,
          0.847547625877747,
          0.847547625877747,
          0.847547625877747,
          0.847547625877747,
          0.847547625877747,
          0.847547625877747,
          0.8506508079855022,
          0.8506508079855022,
          0.8506508079855022,
          0.8506508079855022,
          0.8506508079855022,
          0.8506508079855022,
          0.8506508079855022,
          0.8506508079855022,
          0.8506508079855022,
          0.8506508079855022,
          0.8506508079855022,
          0.8506508079855022,
          0.8506508079855022,
          0.8506508079855022,
          0.8506508079855022,
          0.8506508079855022,
          0.8506508079855022,
          0.8506508079855022,
          0.8506508079855022,
          0.8506508079855022,
          0.8506508079855022,
          0.8506508079855022,
          0.8506508079855022,
          0.8506508079855022,
          0.8506508079855022,
          0.8506508079855022,
          0.8506508079855022,
          0.8506508079855022,
          0.8506508079855022,
          0.8506508079855022,
          0.8506508079855022,
          0.8506508079855022,
          0.8506508079855022,
          0.8506508079855022,
          0.8506508079855022,
          0.8506508079855022,
          0.850796347904837,
          0.850796347904837,
          0.850796347904837,
          0.850796347904837,
          0.850796347904837,
          0.850796347904837,
          0.850796347904837,
          0.850796347904837,
          0.850796347904837,
          0.850796347904837,
          0.850796347904837,
          0.850796347904837,
          0.850796347904837,
          0.850796347904837,
          0.850796347904837,
          0.850796347904837,
          0.850796347904837,
          0.850796347904837,
          0.850796347904837,
          0.850796347904837,
          0.850796347904837,
          0.850796347904837,
          0.850796347904837,
          0.850796347904837,
          0.850796347904837,
          0.850796347904837,
          0.850796347904837,
          0.850796347904837,
          0.850796347904837,
          0.850796347904837,
          0.850796347904837,
          0.850796347904837,
          0.850796347904837,
          0.850796347904837,
          0.850796347904837
         ]
        },
        {
         "marker": {
          "color": "#cccccc"
         },
         "mode": "markers",
         "name": "Infeasible Trial",
         "showlegend": false,
         "type": "scatter",
         "x": [],
         "y": []
        }
       ],
       "layout": {
        "template": {
         "data": {
          "bar": [
           {
            "error_x": {
             "color": "#2a3f5f"
            },
            "error_y": {
             "color": "#2a3f5f"
            },
            "marker": {
             "line": {
              "color": "#E5ECF6",
              "width": 0.5
             },
             "pattern": {
              "fillmode": "overlay",
              "size": 10,
              "solidity": 0.2
             }
            },
            "type": "bar"
           }
          ],
          "barpolar": [
           {
            "marker": {
             "line": {
              "color": "#E5ECF6",
              "width": 0.5
             },
             "pattern": {
              "fillmode": "overlay",
              "size": 10,
              "solidity": 0.2
             }
            },
            "type": "barpolar"
           }
          ],
          "carpet": [
           {
            "aaxis": {
             "endlinecolor": "#2a3f5f",
             "gridcolor": "white",
             "linecolor": "white",
             "minorgridcolor": "white",
             "startlinecolor": "#2a3f5f"
            },
            "baxis": {
             "endlinecolor": "#2a3f5f",
             "gridcolor": "white",
             "linecolor": "white",
             "minorgridcolor": "white",
             "startlinecolor": "#2a3f5f"
            },
            "type": "carpet"
           }
          ],
          "choropleth": [
           {
            "colorbar": {
             "outlinewidth": 0,
             "ticks": ""
            },
            "type": "choropleth"
           }
          ],
          "contour": [
           {
            "colorbar": {
             "outlinewidth": 0,
             "ticks": ""
            },
            "colorscale": [
             [
              0,
              "#0d0887"
             ],
             [
              0.1111111111111111,
              "#46039f"
             ],
             [
              0.2222222222222222,
              "#7201a8"
             ],
             [
              0.3333333333333333,
              "#9c179e"
             ],
             [
              0.4444444444444444,
              "#bd3786"
             ],
             [
              0.5555555555555556,
              "#d8576b"
             ],
             [
              0.6666666666666666,
              "#ed7953"
             ],
             [
              0.7777777777777778,
              "#fb9f3a"
             ],
             [
              0.8888888888888888,
              "#fdca26"
             ],
             [
              1,
              "#f0f921"
             ]
            ],
            "type": "contour"
           }
          ],
          "contourcarpet": [
           {
            "colorbar": {
             "outlinewidth": 0,
             "ticks": ""
            },
            "type": "contourcarpet"
           }
          ],
          "heatmap": [
           {
            "colorbar": {
             "outlinewidth": 0,
             "ticks": ""
            },
            "colorscale": [
             [
              0,
              "#0d0887"
             ],
             [
              0.1111111111111111,
              "#46039f"
             ],
             [
              0.2222222222222222,
              "#7201a8"
             ],
             [
              0.3333333333333333,
              "#9c179e"
             ],
             [
              0.4444444444444444,
              "#bd3786"
             ],
             [
              0.5555555555555556,
              "#d8576b"
             ],
             [
              0.6666666666666666,
              "#ed7953"
             ],
             [
              0.7777777777777778,
              "#fb9f3a"
             ],
             [
              0.8888888888888888,
              "#fdca26"
             ],
             [
              1,
              "#f0f921"
             ]
            ],
            "type": "heatmap"
           }
          ],
          "heatmapgl": [
           {
            "colorbar": {
             "outlinewidth": 0,
             "ticks": ""
            },
            "colorscale": [
             [
              0,
              "#0d0887"
             ],
             [
              0.1111111111111111,
              "#46039f"
             ],
             [
              0.2222222222222222,
              "#7201a8"
             ],
             [
              0.3333333333333333,
              "#9c179e"
             ],
             [
              0.4444444444444444,
              "#bd3786"
             ],
             [
              0.5555555555555556,
              "#d8576b"
             ],
             [
              0.6666666666666666,
              "#ed7953"
             ],
             [
              0.7777777777777778,
              "#fb9f3a"
             ],
             [
              0.8888888888888888,
              "#fdca26"
             ],
             [
              1,
              "#f0f921"
             ]
            ],
            "type": "heatmapgl"
           }
          ],
          "histogram": [
           {
            "marker": {
             "pattern": {
              "fillmode": "overlay",
              "size": 10,
              "solidity": 0.2
             }
            },
            "type": "histogram"
           }
          ],
          "histogram2d": [
           {
            "colorbar": {
             "outlinewidth": 0,
             "ticks": ""
            },
            "colorscale": [
             [
              0,
              "#0d0887"
             ],
             [
              0.1111111111111111,
              "#46039f"
             ],
             [
              0.2222222222222222,
              "#7201a8"
             ],
             [
              0.3333333333333333,
              "#9c179e"
             ],
             [
              0.4444444444444444,
              "#bd3786"
             ],
             [
              0.5555555555555556,
              "#d8576b"
             ],
             [
              0.6666666666666666,
              "#ed7953"
             ],
             [
              0.7777777777777778,
              "#fb9f3a"
             ],
             [
              0.8888888888888888,
              "#fdca26"
             ],
             [
              1,
              "#f0f921"
             ]
            ],
            "type": "histogram2d"
           }
          ],
          "histogram2dcontour": [
           {
            "colorbar": {
             "outlinewidth": 0,
             "ticks": ""
            },
            "colorscale": [
             [
              0,
              "#0d0887"
             ],
             [
              0.1111111111111111,
              "#46039f"
             ],
             [
              0.2222222222222222,
              "#7201a8"
             ],
             [
              0.3333333333333333,
              "#9c179e"
             ],
             [
              0.4444444444444444,
              "#bd3786"
             ],
             [
              0.5555555555555556,
              "#d8576b"
             ],
             [
              0.6666666666666666,
              "#ed7953"
             ],
             [
              0.7777777777777778,
              "#fb9f3a"
             ],
             [
              0.8888888888888888,
              "#fdca26"
             ],
             [
              1,
              "#f0f921"
             ]
            ],
            "type": "histogram2dcontour"
           }
          ],
          "mesh3d": [
           {
            "colorbar": {
             "outlinewidth": 0,
             "ticks": ""
            },
            "type": "mesh3d"
           }
          ],
          "parcoords": [
           {
            "line": {
             "colorbar": {
              "outlinewidth": 0,
              "ticks": ""
             }
            },
            "type": "parcoords"
           }
          ],
          "pie": [
           {
            "automargin": true,
            "type": "pie"
           }
          ],
          "scatter": [
           {
            "fillpattern": {
             "fillmode": "overlay",
             "size": 10,
             "solidity": 0.2
            },
            "type": "scatter"
           }
          ],
          "scatter3d": [
           {
            "line": {
             "colorbar": {
              "outlinewidth": 0,
              "ticks": ""
             }
            },
            "marker": {
             "colorbar": {
              "outlinewidth": 0,
              "ticks": ""
             }
            },
            "type": "scatter3d"
           }
          ],
          "scattercarpet": [
           {
            "marker": {
             "colorbar": {
              "outlinewidth": 0,
              "ticks": ""
             }
            },
            "type": "scattercarpet"
           }
          ],
          "scattergeo": [
           {
            "marker": {
             "colorbar": {
              "outlinewidth": 0,
              "ticks": ""
             }
            },
            "type": "scattergeo"
           }
          ],
          "scattergl": [
           {
            "marker": {
             "colorbar": {
              "outlinewidth": 0,
              "ticks": ""
             }
            },
            "type": "scattergl"
           }
          ],
          "scattermapbox": [
           {
            "marker": {
             "colorbar": {
              "outlinewidth": 0,
              "ticks": ""
             }
            },
            "type": "scattermapbox"
           }
          ],
          "scatterpolar": [
           {
            "marker": {
             "colorbar": {
              "outlinewidth": 0,
              "ticks": ""
             }
            },
            "type": "scatterpolar"
           }
          ],
          "scatterpolargl": [
           {
            "marker": {
             "colorbar": {
              "outlinewidth": 0,
              "ticks": ""
             }
            },
            "type": "scatterpolargl"
           }
          ],
          "scatterternary": [
           {
            "marker": {
             "colorbar": {
              "outlinewidth": 0,
              "ticks": ""
             }
            },
            "type": "scatterternary"
           }
          ],
          "surface": [
           {
            "colorbar": {
             "outlinewidth": 0,
             "ticks": ""
            },
            "colorscale": [
             [
              0,
              "#0d0887"
             ],
             [
              0.1111111111111111,
              "#46039f"
             ],
             [
              0.2222222222222222,
              "#7201a8"
             ],
             [
              0.3333333333333333,
              "#9c179e"
             ],
             [
              0.4444444444444444,
              "#bd3786"
             ],
             [
              0.5555555555555556,
              "#d8576b"
             ],
             [
              0.6666666666666666,
              "#ed7953"
             ],
             [
              0.7777777777777778,
              "#fb9f3a"
             ],
             [
              0.8888888888888888,
              "#fdca26"
             ],
             [
              1,
              "#f0f921"
             ]
            ],
            "type": "surface"
           }
          ],
          "table": [
           {
            "cells": {
             "fill": {
              "color": "#EBF0F8"
             },
             "line": {
              "color": "white"
             }
            },
            "header": {
             "fill": {
              "color": "#C8D4E3"
             },
             "line": {
              "color": "white"
             }
            },
            "type": "table"
           }
          ]
         },
         "layout": {
          "annotationdefaults": {
           "arrowcolor": "#2a3f5f",
           "arrowhead": 0,
           "arrowwidth": 1
          },
          "autotypenumbers": "strict",
          "coloraxis": {
           "colorbar": {
            "outlinewidth": 0,
            "ticks": ""
           }
          },
          "colorscale": {
           "diverging": [
            [
             0,
             "#8e0152"
            ],
            [
             0.1,
             "#c51b7d"
            ],
            [
             0.2,
             "#de77ae"
            ],
            [
             0.3,
             "#f1b6da"
            ],
            [
             0.4,
             "#fde0ef"
            ],
            [
             0.5,
             "#f7f7f7"
            ],
            [
             0.6,
             "#e6f5d0"
            ],
            [
             0.7,
             "#b8e186"
            ],
            [
             0.8,
             "#7fbc41"
            ],
            [
             0.9,
             "#4d9221"
            ],
            [
             1,
             "#276419"
            ]
           ],
           "sequential": [
            [
             0,
             "#0d0887"
            ],
            [
             0.1111111111111111,
             "#46039f"
            ],
            [
             0.2222222222222222,
             "#7201a8"
            ],
            [
             0.3333333333333333,
             "#9c179e"
            ],
            [
             0.4444444444444444,
             "#bd3786"
            ],
            [
             0.5555555555555556,
             "#d8576b"
            ],
            [
             0.6666666666666666,
             "#ed7953"
            ],
            [
             0.7777777777777778,
             "#fb9f3a"
            ],
            [
             0.8888888888888888,
             "#fdca26"
            ],
            [
             1,
             "#f0f921"
            ]
           ],
           "sequentialminus": [
            [
             0,
             "#0d0887"
            ],
            [
             0.1111111111111111,
             "#46039f"
            ],
            [
             0.2222222222222222,
             "#7201a8"
            ],
            [
             0.3333333333333333,
             "#9c179e"
            ],
            [
             0.4444444444444444,
             "#bd3786"
            ],
            [
             0.5555555555555556,
             "#d8576b"
            ],
            [
             0.6666666666666666,
             "#ed7953"
            ],
            [
             0.7777777777777778,
             "#fb9f3a"
            ],
            [
             0.8888888888888888,
             "#fdca26"
            ],
            [
             1,
             "#f0f921"
            ]
           ]
          },
          "colorway": [
           "#636efa",
           "#EF553B",
           "#00cc96",
           "#ab63fa",
           "#FFA15A",
           "#19d3f3",
           "#FF6692",
           "#B6E880",
           "#FF97FF",
           "#FECB52"
          ],
          "font": {
           "color": "#2a3f5f"
          },
          "geo": {
           "bgcolor": "white",
           "lakecolor": "white",
           "landcolor": "#E5ECF6",
           "showlakes": true,
           "showland": true,
           "subunitcolor": "white"
          },
          "hoverlabel": {
           "align": "left"
          },
          "hovermode": "closest",
          "mapbox": {
           "style": "light"
          },
          "paper_bgcolor": "white",
          "plot_bgcolor": "#E5ECF6",
          "polar": {
           "angularaxis": {
            "gridcolor": "white",
            "linecolor": "white",
            "ticks": ""
           },
           "bgcolor": "#E5ECF6",
           "radialaxis": {
            "gridcolor": "white",
            "linecolor": "white",
            "ticks": ""
           }
          },
          "scene": {
           "xaxis": {
            "backgroundcolor": "#E5ECF6",
            "gridcolor": "white",
            "gridwidth": 2,
            "linecolor": "white",
            "showbackground": true,
            "ticks": "",
            "zerolinecolor": "white"
           },
           "yaxis": {
            "backgroundcolor": "#E5ECF6",
            "gridcolor": "white",
            "gridwidth": 2,
            "linecolor": "white",
            "showbackground": true,
            "ticks": "",
            "zerolinecolor": "white"
           },
           "zaxis": {
            "backgroundcolor": "#E5ECF6",
            "gridcolor": "white",
            "gridwidth": 2,
            "linecolor": "white",
            "showbackground": true,
            "ticks": "",
            "zerolinecolor": "white"
           }
          },
          "shapedefaults": {
           "line": {
            "color": "#2a3f5f"
           }
          },
          "ternary": {
           "aaxis": {
            "gridcolor": "white",
            "linecolor": "white",
            "ticks": ""
           },
           "baxis": {
            "gridcolor": "white",
            "linecolor": "white",
            "ticks": ""
           },
           "bgcolor": "#E5ECF6",
           "caxis": {
            "gridcolor": "white",
            "linecolor": "white",
            "ticks": ""
           }
          },
          "title": {
           "x": 0.05
          },
          "xaxis": {
           "automargin": true,
           "gridcolor": "white",
           "linecolor": "white",
           "ticks": "",
           "title": {
            "standoff": 15
           },
           "zerolinecolor": "white",
           "zerolinewidth": 2
          },
          "yaxis": {
           "automargin": true,
           "gridcolor": "white",
           "linecolor": "white",
           "ticks": "",
           "title": {
            "standoff": 15
           },
           "zerolinecolor": "white",
           "zerolinewidth": 2
          }
         }
        },
        "title": {
         "text": "Optimization History Plot"
        },
        "xaxis": {
         "title": {
          "text": "Trial"
         }
        },
        "yaxis": {
         "title": {
          "text": "Objective Value"
         }
        }
       }
      }
     },
     "metadata": {},
     "output_type": "display_data"
    }
   ],
   "source": [
    "# Plot optimization history\n",
    "plot_optimization_history(study)"
   ]
  },
  {
   "cell_type": "code",
   "execution_count": 11,
   "id": "07037d73",
   "metadata": {},
   "outputs": [
    {
     "data": {
      "application/vnd.plotly.v1+json": {
       "config": {
        "plotlyServerURL": "https://plot.ly"
       },
       "data": [
        {
         "cliponaxis": false,
         "hovertemplate": [
          "n_estimators (IntDistribution): 0.004708711674240164<extra></extra>",
          "max_depth (IntDistribution): 0.02331181139654426<extra></extra>",
          "learning_rate (FloatDistribution): 0.1908777032509262<extra></extra>",
          "subsample (FloatDistribution): 0.7811017736782894<extra></extra>"
         ],
         "name": "Objective Value",
         "orientation": "h",
         "text": [
          "<0.01",
          "0.02",
          "0.19",
          "0.78"
         ],
         "textposition": "outside",
         "type": "bar",
         "x": [
          0.004708711674240164,
          0.02331181139654426,
          0.1908777032509262,
          0.7811017736782894
         ],
         "y": [
          "n_estimators",
          "max_depth",
          "learning_rate",
          "subsample"
         ]
        }
       ],
       "layout": {
        "template": {
         "data": {
          "bar": [
           {
            "error_x": {
             "color": "#2a3f5f"
            },
            "error_y": {
             "color": "#2a3f5f"
            },
            "marker": {
             "line": {
              "color": "#E5ECF6",
              "width": 0.5
             },
             "pattern": {
              "fillmode": "overlay",
              "size": 10,
              "solidity": 0.2
             }
            },
            "type": "bar"
           }
          ],
          "barpolar": [
           {
            "marker": {
             "line": {
              "color": "#E5ECF6",
              "width": 0.5
             },
             "pattern": {
              "fillmode": "overlay",
              "size": 10,
              "solidity": 0.2
             }
            },
            "type": "barpolar"
           }
          ],
          "carpet": [
           {
            "aaxis": {
             "endlinecolor": "#2a3f5f",
             "gridcolor": "white",
             "linecolor": "white",
             "minorgridcolor": "white",
             "startlinecolor": "#2a3f5f"
            },
            "baxis": {
             "endlinecolor": "#2a3f5f",
             "gridcolor": "white",
             "linecolor": "white",
             "minorgridcolor": "white",
             "startlinecolor": "#2a3f5f"
            },
            "type": "carpet"
           }
          ],
          "choropleth": [
           {
            "colorbar": {
             "outlinewidth": 0,
             "ticks": ""
            },
            "type": "choropleth"
           }
          ],
          "contour": [
           {
            "colorbar": {
             "outlinewidth": 0,
             "ticks": ""
            },
            "colorscale": [
             [
              0,
              "#0d0887"
             ],
             [
              0.1111111111111111,
              "#46039f"
             ],
             [
              0.2222222222222222,
              "#7201a8"
             ],
             [
              0.3333333333333333,
              "#9c179e"
             ],
             [
              0.4444444444444444,
              "#bd3786"
             ],
             [
              0.5555555555555556,
              "#d8576b"
             ],
             [
              0.6666666666666666,
              "#ed7953"
             ],
             [
              0.7777777777777778,
              "#fb9f3a"
             ],
             [
              0.8888888888888888,
              "#fdca26"
             ],
             [
              1,
              "#f0f921"
             ]
            ],
            "type": "contour"
           }
          ],
          "contourcarpet": [
           {
            "colorbar": {
             "outlinewidth": 0,
             "ticks": ""
            },
            "type": "contourcarpet"
           }
          ],
          "heatmap": [
           {
            "colorbar": {
             "outlinewidth": 0,
             "ticks": ""
            },
            "colorscale": [
             [
              0,
              "#0d0887"
             ],
             [
              0.1111111111111111,
              "#46039f"
             ],
             [
              0.2222222222222222,
              "#7201a8"
             ],
             [
              0.3333333333333333,
              "#9c179e"
             ],
             [
              0.4444444444444444,
              "#bd3786"
             ],
             [
              0.5555555555555556,
              "#d8576b"
             ],
             [
              0.6666666666666666,
              "#ed7953"
             ],
             [
              0.7777777777777778,
              "#fb9f3a"
             ],
             [
              0.8888888888888888,
              "#fdca26"
             ],
             [
              1,
              "#f0f921"
             ]
            ],
            "type": "heatmap"
           }
          ],
          "heatmapgl": [
           {
            "colorbar": {
             "outlinewidth": 0,
             "ticks": ""
            },
            "colorscale": [
             [
              0,
              "#0d0887"
             ],
             [
              0.1111111111111111,
              "#46039f"
             ],
             [
              0.2222222222222222,
              "#7201a8"
             ],
             [
              0.3333333333333333,
              "#9c179e"
             ],
             [
              0.4444444444444444,
              "#bd3786"
             ],
             [
              0.5555555555555556,
              "#d8576b"
             ],
             [
              0.6666666666666666,
              "#ed7953"
             ],
             [
              0.7777777777777778,
              "#fb9f3a"
             ],
             [
              0.8888888888888888,
              "#fdca26"
             ],
             [
              1,
              "#f0f921"
             ]
            ],
            "type": "heatmapgl"
           }
          ],
          "histogram": [
           {
            "marker": {
             "pattern": {
              "fillmode": "overlay",
              "size": 10,
              "solidity": 0.2
             }
            },
            "type": "histogram"
           }
          ],
          "histogram2d": [
           {
            "colorbar": {
             "outlinewidth": 0,
             "ticks": ""
            },
            "colorscale": [
             [
              0,
              "#0d0887"
             ],
             [
              0.1111111111111111,
              "#46039f"
             ],
             [
              0.2222222222222222,
              "#7201a8"
             ],
             [
              0.3333333333333333,
              "#9c179e"
             ],
             [
              0.4444444444444444,
              "#bd3786"
             ],
             [
              0.5555555555555556,
              "#d8576b"
             ],
             [
              0.6666666666666666,
              "#ed7953"
             ],
             [
              0.7777777777777778,
              "#fb9f3a"
             ],
             [
              0.8888888888888888,
              "#fdca26"
             ],
             [
              1,
              "#f0f921"
             ]
            ],
            "type": "histogram2d"
           }
          ],
          "histogram2dcontour": [
           {
            "colorbar": {
             "outlinewidth": 0,
             "ticks": ""
            },
            "colorscale": [
             [
              0,
              "#0d0887"
             ],
             [
              0.1111111111111111,
              "#46039f"
             ],
             [
              0.2222222222222222,
              "#7201a8"
             ],
             [
              0.3333333333333333,
              "#9c179e"
             ],
             [
              0.4444444444444444,
              "#bd3786"
             ],
             [
              0.5555555555555556,
              "#d8576b"
             ],
             [
              0.6666666666666666,
              "#ed7953"
             ],
             [
              0.7777777777777778,
              "#fb9f3a"
             ],
             [
              0.8888888888888888,
              "#fdca26"
             ],
             [
              1,
              "#f0f921"
             ]
            ],
            "type": "histogram2dcontour"
           }
          ],
          "mesh3d": [
           {
            "colorbar": {
             "outlinewidth": 0,
             "ticks": ""
            },
            "type": "mesh3d"
           }
          ],
          "parcoords": [
           {
            "line": {
             "colorbar": {
              "outlinewidth": 0,
              "ticks": ""
             }
            },
            "type": "parcoords"
           }
          ],
          "pie": [
           {
            "automargin": true,
            "type": "pie"
           }
          ],
          "scatter": [
           {
            "fillpattern": {
             "fillmode": "overlay",
             "size": 10,
             "solidity": 0.2
            },
            "type": "scatter"
           }
          ],
          "scatter3d": [
           {
            "line": {
             "colorbar": {
              "outlinewidth": 0,
              "ticks": ""
             }
            },
            "marker": {
             "colorbar": {
              "outlinewidth": 0,
              "ticks": ""
             }
            },
            "type": "scatter3d"
           }
          ],
          "scattercarpet": [
           {
            "marker": {
             "colorbar": {
              "outlinewidth": 0,
              "ticks": ""
             }
            },
            "type": "scattercarpet"
           }
          ],
          "scattergeo": [
           {
            "marker": {
             "colorbar": {
              "outlinewidth": 0,
              "ticks": ""
             }
            },
            "type": "scattergeo"
           }
          ],
          "scattergl": [
           {
            "marker": {
             "colorbar": {
              "outlinewidth": 0,
              "ticks": ""
             }
            },
            "type": "scattergl"
           }
          ],
          "scattermapbox": [
           {
            "marker": {
             "colorbar": {
              "outlinewidth": 0,
              "ticks": ""
             }
            },
            "type": "scattermapbox"
           }
          ],
          "scatterpolar": [
           {
            "marker": {
             "colorbar": {
              "outlinewidth": 0,
              "ticks": ""
             }
            },
            "type": "scatterpolar"
           }
          ],
          "scatterpolargl": [
           {
            "marker": {
             "colorbar": {
              "outlinewidth": 0,
              "ticks": ""
             }
            },
            "type": "scatterpolargl"
           }
          ],
          "scatterternary": [
           {
            "marker": {
             "colorbar": {
              "outlinewidth": 0,
              "ticks": ""
             }
            },
            "type": "scatterternary"
           }
          ],
          "surface": [
           {
            "colorbar": {
             "outlinewidth": 0,
             "ticks": ""
            },
            "colorscale": [
             [
              0,
              "#0d0887"
             ],
             [
              0.1111111111111111,
              "#46039f"
             ],
             [
              0.2222222222222222,
              "#7201a8"
             ],
             [
              0.3333333333333333,
              "#9c179e"
             ],
             [
              0.4444444444444444,
              "#bd3786"
             ],
             [
              0.5555555555555556,
              "#d8576b"
             ],
             [
              0.6666666666666666,
              "#ed7953"
             ],
             [
              0.7777777777777778,
              "#fb9f3a"
             ],
             [
              0.8888888888888888,
              "#fdca26"
             ],
             [
              1,
              "#f0f921"
             ]
            ],
            "type": "surface"
           }
          ],
          "table": [
           {
            "cells": {
             "fill": {
              "color": "#EBF0F8"
             },
             "line": {
              "color": "white"
             }
            },
            "header": {
             "fill": {
              "color": "#C8D4E3"
             },
             "line": {
              "color": "white"
             }
            },
            "type": "table"
           }
          ]
         },
         "layout": {
          "annotationdefaults": {
           "arrowcolor": "#2a3f5f",
           "arrowhead": 0,
           "arrowwidth": 1
          },
          "autotypenumbers": "strict",
          "coloraxis": {
           "colorbar": {
            "outlinewidth": 0,
            "ticks": ""
           }
          },
          "colorscale": {
           "diverging": [
            [
             0,
             "#8e0152"
            ],
            [
             0.1,
             "#c51b7d"
            ],
            [
             0.2,
             "#de77ae"
            ],
            [
             0.3,
             "#f1b6da"
            ],
            [
             0.4,
             "#fde0ef"
            ],
            [
             0.5,
             "#f7f7f7"
            ],
            [
             0.6,
             "#e6f5d0"
            ],
            [
             0.7,
             "#b8e186"
            ],
            [
             0.8,
             "#7fbc41"
            ],
            [
             0.9,
             "#4d9221"
            ],
            [
             1,
             "#276419"
            ]
           ],
           "sequential": [
            [
             0,
             "#0d0887"
            ],
            [
             0.1111111111111111,
             "#46039f"
            ],
            [
             0.2222222222222222,
             "#7201a8"
            ],
            [
             0.3333333333333333,
             "#9c179e"
            ],
            [
             0.4444444444444444,
             "#bd3786"
            ],
            [
             0.5555555555555556,
             "#d8576b"
            ],
            [
             0.6666666666666666,
             "#ed7953"
            ],
            [
             0.7777777777777778,
             "#fb9f3a"
            ],
            [
             0.8888888888888888,
             "#fdca26"
            ],
            [
             1,
             "#f0f921"
            ]
           ],
           "sequentialminus": [
            [
             0,
             "#0d0887"
            ],
            [
             0.1111111111111111,
             "#46039f"
            ],
            [
             0.2222222222222222,
             "#7201a8"
            ],
            [
             0.3333333333333333,
             "#9c179e"
            ],
            [
             0.4444444444444444,
             "#bd3786"
            ],
            [
             0.5555555555555556,
             "#d8576b"
            ],
            [
             0.6666666666666666,
             "#ed7953"
            ],
            [
             0.7777777777777778,
             "#fb9f3a"
            ],
            [
             0.8888888888888888,
             "#fdca26"
            ],
            [
             1,
             "#f0f921"
            ]
           ]
          },
          "colorway": [
           "#636efa",
           "#EF553B",
           "#00cc96",
           "#ab63fa",
           "#FFA15A",
           "#19d3f3",
           "#FF6692",
           "#B6E880",
           "#FF97FF",
           "#FECB52"
          ],
          "font": {
           "color": "#2a3f5f"
          },
          "geo": {
           "bgcolor": "white",
           "lakecolor": "white",
           "landcolor": "#E5ECF6",
           "showlakes": true,
           "showland": true,
           "subunitcolor": "white"
          },
          "hoverlabel": {
           "align": "left"
          },
          "hovermode": "closest",
          "mapbox": {
           "style": "light"
          },
          "paper_bgcolor": "white",
          "plot_bgcolor": "#E5ECF6",
          "polar": {
           "angularaxis": {
            "gridcolor": "white",
            "linecolor": "white",
            "ticks": ""
           },
           "bgcolor": "#E5ECF6",
           "radialaxis": {
            "gridcolor": "white",
            "linecolor": "white",
            "ticks": ""
           }
          },
          "scene": {
           "xaxis": {
            "backgroundcolor": "#E5ECF6",
            "gridcolor": "white",
            "gridwidth": 2,
            "linecolor": "white",
            "showbackground": true,
            "ticks": "",
            "zerolinecolor": "white"
           },
           "yaxis": {
            "backgroundcolor": "#E5ECF6",
            "gridcolor": "white",
            "gridwidth": 2,
            "linecolor": "white",
            "showbackground": true,
            "ticks": "",
            "zerolinecolor": "white"
           },
           "zaxis": {
            "backgroundcolor": "#E5ECF6",
            "gridcolor": "white",
            "gridwidth": 2,
            "linecolor": "white",
            "showbackground": true,
            "ticks": "",
            "zerolinecolor": "white"
           }
          },
          "shapedefaults": {
           "line": {
            "color": "#2a3f5f"
           }
          },
          "ternary": {
           "aaxis": {
            "gridcolor": "white",
            "linecolor": "white",
            "ticks": ""
           },
           "baxis": {
            "gridcolor": "white",
            "linecolor": "white",
            "ticks": ""
           },
           "bgcolor": "#E5ECF6",
           "caxis": {
            "gridcolor": "white",
            "linecolor": "white",
            "ticks": ""
           }
          },
          "title": {
           "x": 0.05
          },
          "xaxis": {
           "automargin": true,
           "gridcolor": "white",
           "linecolor": "white",
           "ticks": "",
           "title": {
            "standoff": 15
           },
           "zerolinecolor": "white",
           "zerolinewidth": 2
          },
          "yaxis": {
           "automargin": true,
           "gridcolor": "white",
           "linecolor": "white",
           "ticks": "",
           "title": {
            "standoff": 15
           },
           "zerolinecolor": "white",
           "zerolinewidth": 2
          }
         }
        },
        "title": {
         "text": "Hyperparameter Importances"
        },
        "xaxis": {
         "title": {
          "text": "Hyperparameter Importance"
         }
        },
        "yaxis": {
         "title": {
          "text": "Hyperparameter"
         }
        }
       }
      }
     },
     "metadata": {},
     "output_type": "display_data"
    }
   ],
   "source": [
    "# Plot parameter importances\n",
    "plot_param_importances(study)"
   ]
  },
  {
   "cell_type": "code",
   "execution_count": 12,
   "id": "e8f4d4d6",
   "metadata": {},
   "outputs": [
    {
     "name": "stdout",
     "output_type": "stream",
     "text": [
      "        n_estimators : 86\n",
      "       learning_rate : 0.18620139713380493\n",
      "           max_depth : 10\n",
      "           subsample : 0.39676948237203985\n",
      "best objective value : 0.850796347904837\n"
     ]
    }
   ],
   "source": [
    "hp = study.best_params\n",
    "\n",
    "for key, value in hp.items():\n",
    "    print(f\"{key:>20s} : {value}\")\n",
    "print(f\"{'best objective value':>20s} : {study.best_value}\")\n",
    "\n",
    "hp[\"verbosity\"] = 0\n",
    "hp[\"objective\"] = \"reg:squarederror\"\n",
    "hp[\"tree_method\"] = \"hist\"\n",
    "hp[\"seed\"] = RS\n",
    "hp[\"n_jobs\"] = N_JOBS"
   ]
  },
  {
   "cell_type": "code",
   "execution_count": 13,
   "id": "d1c07beb",
   "metadata": {},
   "outputs": [],
   "source": [
    "model = xgb.XGBRegressor(**hp, eval_metric=\"rmse\",early_stopping_rounds = EARLY_STOPPING_ROUNDS)\n",
    "rkf = RepeatedKFold(n_splits=N_SPLITS, n_repeats=N_REPEATS, random_state=RS)\n",
    "X_values = X_train.values\n",
    "y_values = y_train.values\n",
    "y_pred = np.zeros_like(y_test.values)\n",
    "for train_index, test_index in rkf.split(X_values):\n",
    "    X_A, X_B = X_values[train_index, :], X_values[test_index, :]\n",
    "    y_A, y_B = y_values[train_index], y_values[test_index]\n",
    "    model.fit(\n",
    "        X_A,\n",
    "        y_A,\n",
    "        eval_set=[(X_B, y_B)],\n",
    "        verbose=0,\n",
    "    )\n",
    "    y_pred += model.predict(X_test.values)\n",
    "y_pred /= N_REPEATS * N_SPLITS"
   ]
  },
  {
   "cell_type": "code",
   "execution_count": 14,
   "id": "0a3b1923",
   "metadata": {},
   "outputs": [],
   "source": [
    "score, mse = r2_score(y_true=y_test, y_pred=y_pred), mean_squared_error(y_true=y_test, y_pred=y_pred)"
   ]
  },
  {
   "cell_type": "code",
   "execution_count": 21,
   "id": "233330a8",
   "metadata": {},
   "outputs": [
    {
     "data": {
      "image/png": "[encoded data removed]",
      "text/plain": [
       "<Figure size 1044.62x1044.62 with 1 Axes>"
      ]
     },
     "metadata": {},
     "output_type": "display_data"
    }
   ],
   "source": [
    "from sklearn.metrics import PredictionErrorDisplay\n",
    "\n",
    "figsize= (15.5/2*cm, 15.5/2*cm)\n",
    "figsize=(15.92/3*cm, 15.92/3*cm)\n",
    "\n",
    "y_true = y_test\n",
    "y_pred = pd.DataFrame(y_pred)\n",
    "\n",
    "\n",
    "# Define plot structure\n",
    "fig, axs = plt.subplots(nrows=1, ncols=1, figsize=figsize, dpi=500)\n",
    "\n",
    "ped = PredictionErrorDisplay.from_predictions(y_true=y_true,\n",
    "                                            y_pred=y_pred,\n",
    "                                            kind=\"actual_vs_predicted\",\n",
    "                                            subsample=100000,\n",
    "                                            ax=axs,\n",
    "                                            random_state=0, \n",
    "                                            line_kwargs={\"color\": \"black\", \"linewidth\": 0.75, \"linestyle\": \"--\", \"alpha\": 1},)\n",
    "\n",
    "ped.ax_.set_xlabel(\"\")  # Set x label\n",
    "ped.ax_.set_ylabel(\"\")  # Set y label\n",
    "\n",
    "xlim, ylim = axis_limit[j][0], axis_limit[j][1]\n",
    "\n",
    "ped.ax_.set_xticks(np.arange(xlim, ylim+0.001, (ylim-xlim)/3))\n",
    "ped.ax_.set_yticks(np.arange(xlim, ylim+0.001, (ylim-xlim)/3))\n",
    "# ped.ax_.set_xlim(xlim+0.001, ylim-0.001)\n",
    "# ped.ax_.set_ylim(xlim+0.001, ylim-0.001)\n",
    "\n",
    "\n",
    "ped.ax_.grid(linewidth = 0.5, linestyle = 'dotted')\n",
    "\n",
    "scatter = ped.figure_.axes[0].collections[0]\n",
    "scatter.set_color('black')  \n",
    "scatter.set_sizes([5]) \n",
    "scatter.set_alpha([0.5]) \n",
    "\n",
    "# plt.title(f'{investigated_column_plot}: $R^2$ = {score:.2f}, $MSE$ = {mse:.2f}', x = 0.41, y=1.02)\n",
    "plt.title(f'{investigated_column_plot}: $R^2$ = {score:.2f}', x = 0.5, y=1.02)\n",
    "\n",
    "ax = ped.ax_\n",
    "ax.set_xticks(ax.get_xticks())\n",
    "ax.tick_params(axis='x', rotation=0)\n",
    "\n",
    "fig.text(0.55, 0.03, r'$\\leftarrow$     Predicted data     $\\rightarrow$', ha='center', va='center')\n",
    "fig.text(0.04, 0.5, r'$\\leftarrow$     Actual data     $\\rightarrow$', ha='center', va='center', rotation='vertical')\n",
    "\n",
    "plt.subplots_adjust(left=0.23, right=0.91, top=0.88, bottom=0.20, wspace=0.5, hspace=0.5)\n",
    "plt.savefig(save_path, dpi=1000)"
   ]
  },
  {
   "cell_type": "code",
   "execution_count": 16,
   "id": "76e33465",
   "metadata": {},
   "outputs": [
    {
     "data": {
      "text/plain": [
       "['1_gamma_prediction_xgb_model.joblib']"
      ]
     },
     "execution_count": 16,
     "metadata": {},
     "output_type": "execute_result"
    }
   ],
   "source": [
    "# Save the model using joblib or pickle\n",
    "import joblib\n",
    "\n",
    "# Fit the model on the entire dataset with the best hyperparameters\n",
    "final_model = xgb.XGBRegressor(**hp, eval_metric=\"rmse\", random_state=RS)\n",
    "\n",
    "# Fit the model on the entire dataset\n",
    "final_model.fit(X, y)\n",
    "\n",
    "name = save_path.split('\\\\')[-1].split('.')[0]\n",
    "joblib.dump(final_model, f'{name}_xgb_model.joblib')\n"
   ]
  }
 ],
 "metadata": {
  "kernelspec": {
   "display_name": "DataDriven",
   "language": "python",
   "name": "python3"
  },
  "language_info": {
   "codemirror_mode": {
    "name": "ipython",
    "version": 3
   },
   "file_extension": ".py",
   "mimetype": "text/x-python",
   "name": "python",
   "nbconvert_exporter": "python",
   "pygments_lexer": "ipython3",
   "version": "3.11.1"
  }
 },
 "nbformat": 4,
 "nbformat_minor": 5
}
