{
 "cells": [
  {
   "cell_type": "code",
   "execution_count": 1,
   "id": "a5eb73a0-65aa-4212-bdb2-e36662cd5cbe",
   "metadata": {},
   "outputs": [
    {
     "name": "stderr",
     "output_type": "stream",
     "text": [
      "c:\\Users\\haris\\Documents\\GitHub\\ISGSR25_DataDrivenSiteCharacterization\\DataDriven\\Lib\\site-packages\\tqdm\\auto.py:21: TqdmWarning: IProgress not found. Please update jupyter and ipywidgets. See https://ipywidgets.readthedocs.io/en/stable/user_install.html\n",
      "  from .autonotebook import tqdm as notebook_tqdm\n"
     ]
    }
   ],
   "source": [
    "#Import packages\n",
    "import pandas as pd\n",
    "import numpy as np\n",
    "import glob\n",
    "\n",
    "from functions import plotting_raw_data, remove_outliers, error_plot, plot_cpt_data, plot_cpt_data_ML_prediction, plot_cpt_data_NW_site\n",
    "\n",
    "import matplotlib.pyplot as plt\n",
    "from sklearn.model_selection import train_test_split\n",
    "from sklearn.metrics import r2_score, mean_squared_error\n",
    "from sklearn.model_selection import cross_val_score\n",
    "from sklearn.model_selection import train_test_split\n",
    "from sklearn.model_selection import RepeatedKFold\n",
    "from sklearn.metrics import r2_score\n",
    "import xgboost as xgb\n",
    "\n",
    "import optuna\n",
    "from optuna.samplers import TPESampler\n",
    "from optuna.visualization import plot_param_importances, plot_optimization_history"
   ]
  },
  {
   "cell_type": "code",
   "execution_count": 2,
   "id": "bd41e89e-74ac-41a5-94e1-1a64f2c713e4",
   "metadata": {},
   "outputs": [],
   "source": [
    "######################## Define the text size of each plot globally ###########\n",
    "SMALL_SIZE = 10\n",
    "BIGGER_SIZE = 10\n",
    "\n",
    "plt.rc('font', size=SMALL_SIZE)          # controls default text sizes\n",
    "plt.rc('axes', titlesize=SMALL_SIZE)     # fontsize of the axes title\n",
    "plt.rc('axes', labelsize=SMALL_SIZE)    # fontsize of the x and y labels\n",
    "plt.rc('xtick', labelsize=SMALL_SIZE)    # fontsize of the tick labels\n",
    "plt.rc('ytick', labelsize=SMALL_SIZE)    # fontsize of the tick labels\n",
    "plt.rc('legend', fontsize=SMALL_SIZE)    # legend fontsize\n",
    "plt.rc('figure', titlesize=BIGGER_SIZE)  # fontsize of the figure title\n",
    "\n",
    "plt.rcParams[\"font.family\"] = \"Times New Roman\"\n",
    "cm = 1/2.54  # centimeters in inches"
   ]
  },
  {
   "cell_type": "code",
   "execution_count": null,
   "id": "583fdc51",
   "metadata": {},
   "outputs": [
    {
     "data": {
      "text/html": [
       "<div>\n",
       "<style scoped>\n",
       "    .dataframe tbody tr th:only-of-type {\n",
       "        vertical-align: middle;\n",
       "    }\n",
       "\n",
       "    .dataframe tbody tr th {\n",
       "        vertical-align: top;\n",
       "    }\n",
       "\n",
       "    .dataframe thead th {\n",
       "        text-align: right;\n",
       "    }\n",
       "</style>\n",
       "<table border=\"1\" class=\"dataframe\">\n",
       "  <thead>\n",
       "    <tr style=\"text-align: right;\">\n",
       "      <th></th>\n",
       "      <th>Depth (m)</th>\n",
       "      <th>qc (MPa)</th>\n",
       "      <th>fs (kPa)</th>\n",
       "      <th>Rf (%)</th>\n",
       "      <th>u2 (kPa)</th>\n",
       "      <th>gamma (kN/m3)</th>\n",
       "      <th>M (MN/m2)</th>\n",
       "      <th>OCR (-)</th>\n",
       "      <th>su (kPa)</th>\n",
       "      <th>sampling_name(-)</th>\n",
       "    </tr>\n",
       "  </thead>\n",
       "  <tbody>\n",
       "    <tr>\n",
       "      <th>0</th>\n",
       "      <td>1.80</td>\n",
       "      <td>0.289</td>\n",
       "      <td>19.0</td>\n",
       "      <td>6.574394</td>\n",
       "      <td>37.0</td>\n",
       "      <td>10.370000</td>\n",
       "      <td>NaN</td>\n",
       "      <td>1.830000</td>\n",
       "      <td>NaN</td>\n",
       "      <td>Bergambacht (B06 51B)</td>\n",
       "    </tr>\n",
       "    <tr>\n",
       "      <th>1</th>\n",
       "      <td>1.86</td>\n",
       "      <td>0.289</td>\n",
       "      <td>19.0</td>\n",
       "      <td>6.574394</td>\n",
       "      <td>37.0</td>\n",
       "      <td>10.390000</td>\n",
       "      <td>NaN</td>\n",
       "      <td>NaN</td>\n",
       "      <td>NaN</td>\n",
       "      <td>Bergambacht (B06 51C)</td>\n",
       "    </tr>\n",
       "    <tr>\n",
       "      <th>2</th>\n",
       "      <td>2.71</td>\n",
       "      <td>0.257</td>\n",
       "      <td>14.0</td>\n",
       "      <td>5.447471</td>\n",
       "      <td>51.0</td>\n",
       "      <td>NaN</td>\n",
       "      <td>NaN</td>\n",
       "      <td>NaN</td>\n",
       "      <td>NaN</td>\n",
       "      <td>Bergambacht (B06 52B)</td>\n",
       "    </tr>\n",
       "    <tr>\n",
       "      <th>3</th>\n",
       "      <td>2.76</td>\n",
       "      <td>0.257</td>\n",
       "      <td>14.0</td>\n",
       "      <td>5.447471</td>\n",
       "      <td>51.0</td>\n",
       "      <td>NaN</td>\n",
       "      <td>NaN</td>\n",
       "      <td>NaN</td>\n",
       "      <td>NaN</td>\n",
       "      <td>Bergambacht (B06 52C)</td>\n",
       "    </tr>\n",
       "    <tr>\n",
       "      <th>4</th>\n",
       "      <td>1.35</td>\n",
       "      <td>0.226</td>\n",
       "      <td>11.0</td>\n",
       "      <td>4.867257</td>\n",
       "      <td>51.0</td>\n",
       "      <td>NaN</td>\n",
       "      <td>NaN</td>\n",
       "      <td>NaN</td>\n",
       "      <td>NaN</td>\n",
       "      <td>Bergambacht (B06 52D)</td>\n",
       "    </tr>\n",
       "    <tr>\n",
       "      <th>...</th>\n",
       "      <td>...</td>\n",
       "      <td>...</td>\n",
       "      <td>...</td>\n",
       "      <td>...</td>\n",
       "      <td>...</td>\n",
       "      <td>...</td>\n",
       "      <td>...</td>\n",
       "      <td>...</td>\n",
       "      <td>...</td>\n",
       "      <td>...</td>\n",
       "    </tr>\n",
       "    <tr>\n",
       "      <th>785</th>\n",
       "      <td>4.55</td>\n",
       "      <td>0.480</td>\n",
       "      <td>7.5</td>\n",
       "      <td>1.562500</td>\n",
       "      <td>304.8</td>\n",
       "      <td>17.849941</td>\n",
       "      <td>2.203390</td>\n",
       "      <td>2.058824</td>\n",
       "      <td>NaN</td>\n",
       "      <td>Austria_site5</td>\n",
       "    </tr>\n",
       "    <tr>\n",
       "      <th>786</th>\n",
       "      <td>4.55</td>\n",
       "      <td>0.480</td>\n",
       "      <td>7.5</td>\n",
       "      <td>1.562500</td>\n",
       "      <td>304.8</td>\n",
       "      <td>16.930067</td>\n",
       "      <td>1.950510</td>\n",
       "      <td>2.156863</td>\n",
       "      <td>NaN</td>\n",
       "      <td>Austria_site5</td>\n",
       "    </tr>\n",
       "    <tr>\n",
       "      <th>787</th>\n",
       "      <td>4.55</td>\n",
       "      <td>0.480</td>\n",
       "      <td>7.5</td>\n",
       "      <td>1.562500</td>\n",
       "      <td>304.8</td>\n",
       "      <td>16.900000</td>\n",
       "      <td>NaN</td>\n",
       "      <td>NaN</td>\n",
       "      <td>NaN</td>\n",
       "      <td>Austria_site5</td>\n",
       "    </tr>\n",
       "    <tr>\n",
       "      <th>788</th>\n",
       "      <td>4.65</td>\n",
       "      <td>0.490</td>\n",
       "      <td>7.7</td>\n",
       "      <td>1.571429</td>\n",
       "      <td>308.8</td>\n",
       "      <td>17.237443</td>\n",
       "      <td>2.076677</td>\n",
       "      <td>1.960784</td>\n",
       "      <td>NaN</td>\n",
       "      <td>Austria_site5</td>\n",
       "    </tr>\n",
       "    <tr>\n",
       "      <th>789</th>\n",
       "      <td>4.65</td>\n",
       "      <td>0.490</td>\n",
       "      <td>7.7</td>\n",
       "      <td>1.571429</td>\n",
       "      <td>308.8</td>\n",
       "      <td>17.119064</td>\n",
       "      <td>1.703735</td>\n",
       "      <td>2.156863</td>\n",
       "      <td>NaN</td>\n",
       "      <td>Austria_site5</td>\n",
       "    </tr>\n",
       "  </tbody>\n",
       "</table>\n",
       "<p>790 rows × 10 columns</p>\n",
       "</div>"
      ],
      "text/plain": [
       "     Depth (m)  qc (MPa)  fs (kPa)    Rf (%)  u2 (kPa)  gamma (kN/m3)  \\\n",
       "0         1.80     0.289      19.0  6.574394      37.0      10.370000   \n",
       "1         1.86     0.289      19.0  6.574394      37.0      10.390000   \n",
       "2         2.71     0.257      14.0  5.447471      51.0            NaN   \n",
       "3         2.76     0.257      14.0  5.447471      51.0            NaN   \n",
       "4         1.35     0.226      11.0  4.867257      51.0            NaN   \n",
       "..         ...       ...       ...       ...       ...            ...   \n",
       "785       4.55     0.480       7.5  1.562500     304.8      17.849941   \n",
       "786       4.55     0.480       7.5  1.562500     304.8      16.930067   \n",
       "787       4.55     0.480       7.5  1.562500     304.8      16.900000   \n",
       "788       4.65     0.490       7.7  1.571429     308.8      17.237443   \n",
       "789       4.65     0.490       7.7  1.571429     308.8      17.119064   \n",
       "\n",
       "     M (MN/m2)   OCR (-)  su (kPa)       sampling_name(-)  \n",
       "0          NaN  1.830000       NaN  Bergambacht (B06 51B)  \n",
       "1          NaN       NaN       NaN  Bergambacht (B06 51C)  \n",
       "2          NaN       NaN       NaN  Bergambacht (B06 52B)  \n",
       "3          NaN       NaN       NaN  Bergambacht (B06 52C)  \n",
       "4          NaN       NaN       NaN  Bergambacht (B06 52D)  \n",
       "..         ...       ...       ...                    ...  \n",
       "785   2.203390  2.058824       NaN          Austria_site5  \n",
       "786   1.950510  2.156863       NaN          Austria_site5  \n",
       "787        NaN       NaN       NaN          Austria_site5  \n",
       "788   2.076677  1.960784       NaN          Austria_site5  \n",
       "789   1.703735  2.156863       NaN          Austria_site5  \n",
       "\n",
       "[790 rows x 10 columns]"
      ]
     },
     "execution_count": 3,
     "metadata": {},
     "output_type": "execute_result"
    }
   ],
   "source": [
    "data_ML = pd.read_csv('..\\data\\database_preprocessed_2024_soilparameter.csv')\n",
    "data_ML"
   ]
  },
  {
   "cell_type": "code",
   "execution_count": 4,
   "id": "5a040bcd",
   "metadata": {},
   "outputs": [
    {
     "name": "stdout",
     "output_type": "stream",
     "text": [
      "su (kPa) is selected to predict, $s_u$ (kPa) is plotted, ..\\graphics\\\\2_su_prediction.png is saved, (0, 200) is the axis limit, 257 is the length of the data\n"
     ]
    }
   ],
   "source": [
    "prefix = r'..\\graphics\\\\'\n",
    "investigated_column =  ['gamma (kN/m3)', 'su (kPa)', 'M (MN/m2)', 'OCR (-)']\n",
    "investigated_column_plot =  ['$\\gamma$ (kN/m$^3$)', '$s_u$ (kPa)', 'M (MN/m$^2$)', 'OCR (-)']\n",
    "save_paths = [prefix + '1_gamma_prediction.png', prefix + '2_su_prediction.png', prefix + '3_M_prediction.png']\n",
    "axis_limit = [(13, 22), (0, 200), (0, 20), (0,20)]\n",
    "\n",
    "j = 1\n",
    "investigated_column_plot = investigated_column_plot[j]\n",
    "investigated_column = investigated_column[j]\n",
    "save_path = save_paths[j]\n",
    "\n",
    "data_ML = data_ML.dropna(subset=[investigated_column])\n",
    "print(f\"{investigated_column} is selected to predict, {investigated_column_plot} is plotted, {save_path} is saved, {axis_limit[j]} is the axis limit, {len(data_ML)} is the length of the data\")\n",
    "\n",
    "#Remove the NGTS data from silt and clay test sites\n",
    "data_ML_filtered = data_ML[~data_ML['sampling_name(-)'].str.contains(r'NGTS_Silt_|NGTS_Clay_', na=False)]\n",
    "\n",
    "columns_x = ['Depth (m)','qc (MPa)', 'fs (kPa)','Rf (%)'] #for Machine learning features\n",
    "plot_columns_x_label = ['Depth (m)','$q_c$ (MPa)', '$f_s$ (kPa)','$R_f$ (%)'] #for plotting purpose\n",
    "\n",
    "X = data_ML_filtered.loc[:,columns_x]\n",
    "y = data_ML_filtered[investigated_column]\n",
    "\n",
    "X_train, X_test, y_train, y_test = train_test_split(X, y, test_size=0.20, random_state=42)"
   ]
  },
  {
   "cell_type": "code",
   "execution_count": 5,
   "id": "bcd50316",
   "metadata": {},
   "outputs": [
    {
     "data": {
      "text/html": [
       "<div>\n",
       "<style scoped>\n",
       "    .dataframe tbody tr th:only-of-type {\n",
       "        vertical-align: middle;\n",
       "    }\n",
       "\n",
       "    .dataframe tbody tr th {\n",
       "        vertical-align: top;\n",
       "    }\n",
       "\n",
       "    .dataframe thead th {\n",
       "        text-align: right;\n",
       "    }\n",
       "</style>\n",
       "<table border=\"1\" class=\"dataframe\">\n",
       "  <thead>\n",
       "    <tr style=\"text-align: right;\">\n",
       "      <th></th>\n",
       "      <th>Depth (m)</th>\n",
       "      <th>qc (MPa)</th>\n",
       "      <th>fs (kPa)</th>\n",
       "      <th>Rf (%)</th>\n",
       "      <th>u2 (kPa)</th>\n",
       "      <th>gamma (kN/m3)</th>\n",
       "      <th>M (MN/m2)</th>\n",
       "      <th>OCR (-)</th>\n",
       "      <th>su (kPa)</th>\n",
       "      <th>sampling_name(-)</th>\n",
       "    </tr>\n",
       "  </thead>\n",
       "  <tbody>\n",
       "    <tr>\n",
       "      <th>30</th>\n",
       "      <td>15.250</td>\n",
       "      <td>0.219</td>\n",
       "      <td>8.000</td>\n",
       "      <td>3.652968</td>\n",
       "      <td>5.000</td>\n",
       "      <td>13.16</td>\n",
       "      <td>NaN</td>\n",
       "      <td>NaN</td>\n",
       "      <td>18.5</td>\n",
       "      <td>Full Scale Damwand Proef Eemdijk (B27 65)</td>\n",
       "    </tr>\n",
       "    <tr>\n",
       "      <th>36</th>\n",
       "      <td>10.050</td>\n",
       "      <td>0.409</td>\n",
       "      <td>23.000</td>\n",
       "      <td>5.623472</td>\n",
       "      <td>-9.000</td>\n",
       "      <td>13.60</td>\n",
       "      <td>NaN</td>\n",
       "      <td>NaN</td>\n",
       "      <td>52.3</td>\n",
       "      <td>Full Scale Damwand Proef Eemdijk (B31 8)</td>\n",
       "    </tr>\n",
       "    <tr>\n",
       "      <th>40</th>\n",
       "      <td>5.650</td>\n",
       "      <td>0.107</td>\n",
       "      <td>2.000</td>\n",
       "      <td>1.869159</td>\n",
       "      <td>-4.000</td>\n",
       "      <td>12.99</td>\n",
       "      <td>NaN</td>\n",
       "      <td>NaN</td>\n",
       "      <td>6.4</td>\n",
       "      <td>Full Scale Damwand Proef Eemdijk (B33 252)</td>\n",
       "    </tr>\n",
       "    <tr>\n",
       "      <th>83</th>\n",
       "      <td>4.350</td>\n",
       "      <td>0.377</td>\n",
       "      <td>18.000</td>\n",
       "      <td>4.774536</td>\n",
       "      <td>15.000</td>\n",
       "      <td>11.59</td>\n",
       "      <td>NaN</td>\n",
       "      <td>NaN</td>\n",
       "      <td>38.0</td>\n",
       "      <td>Delft (603 12a)</td>\n",
       "    </tr>\n",
       "    <tr>\n",
       "      <th>86</th>\n",
       "      <td>1.700</td>\n",
       "      <td>0.314</td>\n",
       "      <td>7.000</td>\n",
       "      <td>2.229299</td>\n",
       "      <td>147.000</td>\n",
       "      <td>12.40</td>\n",
       "      <td>NaN</td>\n",
       "      <td>NaN</td>\n",
       "      <td>46.0</td>\n",
       "      <td>Bergambacht (B07 42E)</td>\n",
       "    </tr>\n",
       "    <tr>\n",
       "      <th>...</th>\n",
       "      <td>...</td>\n",
       "      <td>...</td>\n",
       "      <td>...</td>\n",
       "      <td>...</td>\n",
       "      <td>...</td>\n",
       "      <td>...</td>\n",
       "      <td>...</td>\n",
       "      <td>...</td>\n",
       "      <td>...</td>\n",
       "      <td>...</td>\n",
       "    </tr>\n",
       "    <tr>\n",
       "      <th>700</th>\n",
       "      <td>12.495</td>\n",
       "      <td>0.899</td>\n",
       "      <td>18.160</td>\n",
       "      <td>2.020022</td>\n",
       "      <td>318.630</td>\n",
       "      <td>19.56</td>\n",
       "      <td>NaN</td>\n",
       "      <td>NaN</td>\n",
       "      <td>57.9</td>\n",
       "      <td>NGTS_Silt_HALB05</td>\n",
       "    </tr>\n",
       "    <tr>\n",
       "      <th>703</th>\n",
       "      <td>8.315</td>\n",
       "      <td>0.768</td>\n",
       "      <td>17.893</td>\n",
       "      <td>2.329818</td>\n",
       "      <td>183.133</td>\n",
       "      <td>19.65</td>\n",
       "      <td>NaN</td>\n",
       "      <td>NaN</td>\n",
       "      <td>40.3</td>\n",
       "      <td>NGTS_Silt_HALB06</td>\n",
       "    </tr>\n",
       "    <tr>\n",
       "      <th>705</th>\n",
       "      <td>8.645</td>\n",
       "      <td>0.848</td>\n",
       "      <td>19.268</td>\n",
       "      <td>2.272170</td>\n",
       "      <td>176.950</td>\n",
       "      <td>19.10</td>\n",
       "      <td>NaN</td>\n",
       "      <td>NaN</td>\n",
       "      <td>11.7</td>\n",
       "      <td>NGTS_Silt_HALB06</td>\n",
       "    </tr>\n",
       "    <tr>\n",
       "      <th>708</th>\n",
       "      <td>9.925</td>\n",
       "      <td>0.815</td>\n",
       "      <td>17.350</td>\n",
       "      <td>2.128834</td>\n",
       "      <td>227.794</td>\n",
       "      <td>19.70</td>\n",
       "      <td>NaN</td>\n",
       "      <td>NaN</td>\n",
       "      <td>44.0</td>\n",
       "      <td>NGTS_Silt_HALB06</td>\n",
       "    </tr>\n",
       "    <tr>\n",
       "      <th>710</th>\n",
       "      <td>11.395</td>\n",
       "      <td>0.889</td>\n",
       "      <td>16.628</td>\n",
       "      <td>1.870416</td>\n",
       "      <td>298.347</td>\n",
       "      <td>19.70</td>\n",
       "      <td>NaN</td>\n",
       "      <td>NaN</td>\n",
       "      <td>53.5</td>\n",
       "      <td>NGTS_Silt_HALB06</td>\n",
       "    </tr>\n",
       "  </tbody>\n",
       "</table>\n",
       "<p>257 rows × 10 columns</p>\n",
       "</div>"
      ],
      "text/plain": [
       "     Depth (m)  qc (MPa)  fs (kPa)    Rf (%)  u2 (kPa)  gamma (kN/m3)  \\\n",
       "30      15.250     0.219     8.000  3.652968     5.000          13.16   \n",
       "36      10.050     0.409    23.000  5.623472    -9.000          13.60   \n",
       "40       5.650     0.107     2.000  1.869159    -4.000          12.99   \n",
       "83       4.350     0.377    18.000  4.774536    15.000          11.59   \n",
       "86       1.700     0.314     7.000  2.229299   147.000          12.40   \n",
       "..         ...       ...       ...       ...       ...            ...   \n",
       "700     12.495     0.899    18.160  2.020022   318.630          19.56   \n",
       "703      8.315     0.768    17.893  2.329818   183.133          19.65   \n",
       "705      8.645     0.848    19.268  2.272170   176.950          19.10   \n",
       "708      9.925     0.815    17.350  2.128834   227.794          19.70   \n",
       "710     11.395     0.889    16.628  1.870416   298.347          19.70   \n",
       "\n",
       "     M (MN/m2)  OCR (-)  su (kPa)                            sampling_name(-)  \n",
       "30         NaN      NaN      18.5   Full Scale Damwand Proef Eemdijk (B27 65)  \n",
       "36         NaN      NaN      52.3    Full Scale Damwand Proef Eemdijk (B31 8)  \n",
       "40         NaN      NaN       6.4  Full Scale Damwand Proef Eemdijk (B33 252)  \n",
       "83         NaN      NaN      38.0                             Delft (603 12a)  \n",
       "86         NaN      NaN      46.0                       Bergambacht (B07 42E)  \n",
       "..         ...      ...       ...                                         ...  \n",
       "700        NaN      NaN      57.9                            NGTS_Silt_HALB05  \n",
       "703        NaN      NaN      40.3                            NGTS_Silt_HALB06  \n",
       "705        NaN      NaN      11.7                            NGTS_Silt_HALB06  \n",
       "708        NaN      NaN      44.0                            NGTS_Silt_HALB06  \n",
       "710        NaN      NaN      53.5                            NGTS_Silt_HALB06  \n",
       "\n",
       "[257 rows x 10 columns]"
      ]
     },
     "execution_count": 5,
     "metadata": {},
     "output_type": "execute_result"
    }
   ],
   "source": [
    "data_ML"
   ]
  },
  {
   "cell_type": "code",
   "execution_count": 6,
   "id": "8c552ecf",
   "metadata": {},
   "outputs": [
    {
     "data": {
      "text/html": [
       "<div>\n",
       "<style scoped>\n",
       "    .dataframe tbody tr th:only-of-type {\n",
       "        vertical-align: middle;\n",
       "    }\n",
       "\n",
       "    .dataframe tbody tr th {\n",
       "        vertical-align: top;\n",
       "    }\n",
       "\n",
       "    .dataframe thead th {\n",
       "        text-align: right;\n",
       "    }\n",
       "</style>\n",
       "<table border=\"1\" class=\"dataframe\">\n",
       "  <thead>\n",
       "    <tr style=\"text-align: right;\">\n",
       "      <th></th>\n",
       "      <th>Depth (m)</th>\n",
       "      <th>qc (MPa)</th>\n",
       "      <th>fs (kPa)</th>\n",
       "      <th>Rf (%)</th>\n",
       "      <th>u2 (kPa)</th>\n",
       "      <th>gamma (kN/m3)</th>\n",
       "      <th>M (MN/m2)</th>\n",
       "      <th>OCR (-)</th>\n",
       "      <th>su (kPa)</th>\n",
       "      <th>sampling_name(-)</th>\n",
       "    </tr>\n",
       "  </thead>\n",
       "  <tbody>\n",
       "    <tr>\n",
       "      <th>30</th>\n",
       "      <td>15.25</td>\n",
       "      <td>0.219000</td>\n",
       "      <td>8.000000</td>\n",
       "      <td>3.652968</td>\n",
       "      <td>5.000000</td>\n",
       "      <td>13.16</td>\n",
       "      <td>NaN</td>\n",
       "      <td>NaN</td>\n",
       "      <td>18.5</td>\n",
       "      <td>Full Scale Damwand Proef Eemdijk (B27 65)</td>\n",
       "    </tr>\n",
       "    <tr>\n",
       "      <th>36</th>\n",
       "      <td>10.05</td>\n",
       "      <td>0.409000</td>\n",
       "      <td>23.000000</td>\n",
       "      <td>5.623472</td>\n",
       "      <td>-9.000000</td>\n",
       "      <td>13.60</td>\n",
       "      <td>NaN</td>\n",
       "      <td>NaN</td>\n",
       "      <td>52.3</td>\n",
       "      <td>Full Scale Damwand Proef Eemdijk (B31 8)</td>\n",
       "    </tr>\n",
       "    <tr>\n",
       "      <th>40</th>\n",
       "      <td>5.65</td>\n",
       "      <td>0.107000</td>\n",
       "      <td>2.000000</td>\n",
       "      <td>1.869159</td>\n",
       "      <td>-4.000000</td>\n",
       "      <td>12.99</td>\n",
       "      <td>NaN</td>\n",
       "      <td>NaN</td>\n",
       "      <td>6.4</td>\n",
       "      <td>Full Scale Damwand Proef Eemdijk (B33 252)</td>\n",
       "    </tr>\n",
       "    <tr>\n",
       "      <th>83</th>\n",
       "      <td>4.35</td>\n",
       "      <td>0.377000</td>\n",
       "      <td>18.000000</td>\n",
       "      <td>4.774536</td>\n",
       "      <td>15.000000</td>\n",
       "      <td>11.59</td>\n",
       "      <td>NaN</td>\n",
       "      <td>NaN</td>\n",
       "      <td>38.0</td>\n",
       "      <td>Delft (603 12a)</td>\n",
       "    </tr>\n",
       "    <tr>\n",
       "      <th>86</th>\n",
       "      <td>1.70</td>\n",
       "      <td>0.314000</td>\n",
       "      <td>7.000000</td>\n",
       "      <td>2.229299</td>\n",
       "      <td>147.000000</td>\n",
       "      <td>12.40</td>\n",
       "      <td>NaN</td>\n",
       "      <td>NaN</td>\n",
       "      <td>46.0</td>\n",
       "      <td>Bergambacht (B07 42E)</td>\n",
       "    </tr>\n",
       "    <tr>\n",
       "      <th>...</th>\n",
       "      <td>...</td>\n",
       "      <td>...</td>\n",
       "      <td>...</td>\n",
       "      <td>...</td>\n",
       "      <td>...</td>\n",
       "      <td>...</td>\n",
       "      <td>...</td>\n",
       "      <td>...</td>\n",
       "      <td>...</td>\n",
       "      <td>...</td>\n",
       "    </tr>\n",
       "    <tr>\n",
       "      <th>386</th>\n",
       "      <td>6.87</td>\n",
       "      <td>0.255222</td>\n",
       "      <td>8.444444</td>\n",
       "      <td>3.308663</td>\n",
       "      <td>203.000000</td>\n",
       "      <td>14.21</td>\n",
       "      <td>NaN</td>\n",
       "      <td>NaN</td>\n",
       "      <td>20.8</td>\n",
       "      <td>Ballina_Mex 9</td>\n",
       "    </tr>\n",
       "    <tr>\n",
       "      <th>387</th>\n",
       "      <td>7.75</td>\n",
       "      <td>0.277444</td>\n",
       "      <td>8.666667</td>\n",
       "      <td>3.123748</td>\n",
       "      <td>203.222222</td>\n",
       "      <td>14.10</td>\n",
       "      <td>NaN</td>\n",
       "      <td>NaN</td>\n",
       "      <td>17.7</td>\n",
       "      <td>Ballina_Mex 9</td>\n",
       "    </tr>\n",
       "    <tr>\n",
       "      <th>388</th>\n",
       "      <td>7.93</td>\n",
       "      <td>0.280667</td>\n",
       "      <td>8.666667</td>\n",
       "      <td>3.087886</td>\n",
       "      <td>223.777778</td>\n",
       "      <td>14.31</td>\n",
       "      <td>NaN</td>\n",
       "      <td>NaN</td>\n",
       "      <td>17.0</td>\n",
       "      <td>Ballina_Mex 9</td>\n",
       "    </tr>\n",
       "    <tr>\n",
       "      <th>391</th>\n",
       "      <td>9.73</td>\n",
       "      <td>0.331222</td>\n",
       "      <td>10.222222</td>\n",
       "      <td>3.086213</td>\n",
       "      <td>249.666667</td>\n",
       "      <td>14.96</td>\n",
       "      <td>NaN</td>\n",
       "      <td>NaN</td>\n",
       "      <td>26.3</td>\n",
       "      <td>Ballina_Mex 9</td>\n",
       "    </tr>\n",
       "    <tr>\n",
       "      <th>392</th>\n",
       "      <td>9.87</td>\n",
       "      <td>0.309889</td>\n",
       "      <td>10.111111</td>\n",
       "      <td>3.262818</td>\n",
       "      <td>259.333333</td>\n",
       "      <td>14.05</td>\n",
       "      <td>NaN</td>\n",
       "      <td>NaN</td>\n",
       "      <td>17.5</td>\n",
       "      <td>Ballina_Mex 9</td>\n",
       "    </tr>\n",
       "  </tbody>\n",
       "</table>\n",
       "<p>118 rows × 10 columns</p>\n",
       "</div>"
      ],
      "text/plain": [
       "     Depth (m)  qc (MPa)   fs (kPa)    Rf (%)    u2 (kPa)  gamma (kN/m3)  \\\n",
       "30       15.25  0.219000   8.000000  3.652968    5.000000          13.16   \n",
       "36       10.05  0.409000  23.000000  5.623472   -9.000000          13.60   \n",
       "40        5.65  0.107000   2.000000  1.869159   -4.000000          12.99   \n",
       "83        4.35  0.377000  18.000000  4.774536   15.000000          11.59   \n",
       "86        1.70  0.314000   7.000000  2.229299  147.000000          12.40   \n",
       "..         ...       ...        ...       ...         ...            ...   \n",
       "386       6.87  0.255222   8.444444  3.308663  203.000000          14.21   \n",
       "387       7.75  0.277444   8.666667  3.123748  203.222222          14.10   \n",
       "388       7.93  0.280667   8.666667  3.087886  223.777778          14.31   \n",
       "391       9.73  0.331222  10.222222  3.086213  249.666667          14.96   \n",
       "392       9.87  0.309889  10.111111  3.262818  259.333333          14.05   \n",
       "\n",
       "     M (MN/m2)  OCR (-)  su (kPa)                            sampling_name(-)  \n",
       "30         NaN      NaN      18.5   Full Scale Damwand Proef Eemdijk (B27 65)  \n",
       "36         NaN      NaN      52.3    Full Scale Damwand Proef Eemdijk (B31 8)  \n",
       "40         NaN      NaN       6.4  Full Scale Damwand Proef Eemdijk (B33 252)  \n",
       "83         NaN      NaN      38.0                             Delft (603 12a)  \n",
       "86         NaN      NaN      46.0                       Bergambacht (B07 42E)  \n",
       "..         ...      ...       ...                                         ...  \n",
       "386        NaN      NaN      20.8                               Ballina_Mex 9  \n",
       "387        NaN      NaN      17.7                               Ballina_Mex 9  \n",
       "388        NaN      NaN      17.0                               Ballina_Mex 9  \n",
       "391        NaN      NaN      26.3                               Ballina_Mex 9  \n",
       "392        NaN      NaN      17.5                               Ballina_Mex 9  \n",
       "\n",
       "[118 rows x 10 columns]"
      ]
     },
     "execution_count": 6,
     "metadata": {},
     "output_type": "execute_result"
    }
   ],
   "source": [
    "data_ML = data_ML_filtered\n",
    "data_ML"
   ]
  },
  {
   "cell_type": "code",
   "execution_count": 17,
   "id": "cc344cd5",
   "metadata": {},
   "outputs": [
    {
     "data": {
      "image/png": "[encoded data removed]",
      "text/plain": [
       "<Figure size 1044.62x1574.8 with 4 Axes>"
      ]
     },
     "metadata": {},
     "output_type": "display_data"
    }
   ],
   "source": [
    "# Plotting training data \n",
    "s = 1  # Adjust the marker size as needed\n",
    "color = 'k'  # Adjust the marker color as needed\n",
    "alpha = 0.5\n",
    "\n",
    "columns_x.append(investigated_column_plot)\n",
    "\n",
    "#Plot scatter points: raw data points as\n",
    "fig, axes = plt.subplots(4, 1, figsize=(15.92/3*cm, 8*cm), dpi=500, sharex=True)\n",
    "plotting_raw_data(X,y, alpha, s, color, True, axes, columns_x, 'Raw data', False)\n",
    "\n",
    "# Adjust layout to prevent overlapping\n",
    "fig.text(0.01, 0.02, rf'{len(data_ML)} datapoints', ha='left', va='center', fontsize=10, color='black', alpha=0.5)\n",
    "plt.subplots_adjust(left=0.25, right=0.98, top=0.97, bottom=0.15, wspace=0.15, hspace=0.2)\n",
    "plt.savefig(f\"{prefix}{j+1}_raw_data.png\", dpi = 1000)"
   ]
  },
  {
   "cell_type": "code",
   "execution_count": 8,
   "id": "39fe2002",
   "metadata": {},
   "outputs": [],
   "source": [
    "RS = 44  # random state\n",
    "N_JOBS = -1  # number of parallel threads\n",
    "\n",
    "# repeated K-folds\n",
    "N_SPLITS = 10\n",
    "N_REPEATS = 1\n",
    "\n",
    "# Optuna\n",
    "N_TRIALS = 200\n",
    "\n",
    "# XGBoost\n",
    "EARLY_STOPPING_ROUNDS = 10"
   ]
  },
  {
   "cell_type": "code",
   "execution_count": 9,
   "id": "f4f80d3a",
   "metadata": {},
   "outputs": [
    {
     "name": "stderr",
     "output_type": "stream",
     "text": [
      "[I 2024-11-20 21:07:26,260] A new study created in memory with name: no-name-7c1d440c-69a9-4c4d-b7c2-fa1ce30c2a8f\n",
      "[I 2024-11-20 21:07:26,762] Trial 5 finished with value: 0.4478610015941552 and parameters: {'n_estimators': 105, 'learning_rate': 0.4156166745508077, 'max_depth': 10, 'subsample': 0.16891696514372223}. Best is trial 5 with value: 0.4478610015941552.\n",
      "[I 2024-11-20 21:07:26,787] Trial 4 finished with value: 0.44643650704941673 and parameters: {'n_estimators': 53, 'learning_rate': 0.3329681807651409, 'max_depth': 8, 'subsample': 0.4175765820008519}. Best is trial 5 with value: 0.4478610015941552.\n",
      "[I 2024-11-20 21:07:26,848] Trial 3 finished with value: 0.35633324107832254 and parameters: {'n_estimators': 59, 'learning_rate': 0.09239808875294435, 'max_depth': 4, 'subsample': 0.07655506346536953}. Best is trial 5 with value: 0.4478610015941552.\n",
      "[I 2024-11-20 21:07:26,879] Trial 0 finished with value: 0.46442507376406605 and parameters: {'n_estimators': 68, 'learning_rate': 0.1631198596280961, 'max_depth': 10, 'subsample': 0.13803811408097758}. Best is trial 0 with value: 0.46442507376406605.\n",
      "[I 2024-11-20 21:07:26,978] Trial 7 finished with value: 0.4823649543723092 and parameters: {'n_estimators': 118, 'learning_rate': 0.15608240299572443, 'max_depth': 8, 'subsample': 0.17959113278148692}. Best is trial 7 with value: 0.4823649543723092.\n",
      "[I 2024-11-20 21:07:27,095] Trial 6 finished with value: 0.3357375016453207 and parameters: {'n_estimators': 83, 'learning_rate': 0.09755763503582125, 'max_depth': 5, 'subsample': 0.8740630685741588}. Best is trial 7 with value: 0.4823649543723092.\n",
      "[I 2024-11-20 21:07:27,292] Trial 1 finished with value: 0.33344581252046657 and parameters: {'n_estimators': 106, 'learning_rate': 0.05099043750272433, 'max_depth': 8, 'subsample': 0.06724482035063215}. Best is trial 7 with value: 0.4823649543723092.\n",
      "[I 2024-11-20 21:07:27,460] Trial 2 finished with value: 0.3861599326083045 and parameters: {'n_estimators': 65, 'learning_rate': 0.06691192694140907, 'max_depth': 8, 'subsample': 0.21658699428341982}. Best is trial 7 with value: 0.4823649543723092.\n",
      "[I 2024-11-20 21:07:27,661] Trial 8 finished with value: 0.4520559809345206 and parameters: {'n_estimators': 110, 'learning_rate': 0.2636403366812964, 'max_depth': 9, 'subsample': 0.09792678940254965}. Best is trial 7 with value: 0.4823649543723092.\n",
      "[I 2024-11-20 21:07:28,123] Trial 13 finished with value: 0.39672280589129716 and parameters: {'n_estimators': 66, 'learning_rate': 0.27700913574671043, 'max_depth': 8, 'subsample': 0.28452145754482333}. Best is trial 7 with value: 0.4823649543723092.\n",
      "[I 2024-11-20 21:07:28,180] Trial 11 finished with value: 0.3363295187707446 and parameters: {'n_estimators': 55, 'learning_rate': 0.06194040804723297, 'max_depth': 4, 'subsample': 0.13173752869446437}. Best is trial 7 with value: 0.4823649543723092.\n",
      "[I 2024-11-20 21:07:28,274] Trial 9 finished with value: 0.4066991850747401 and parameters: {'n_estimators': 104, 'learning_rate': 0.08294383383455749, 'max_depth': 10, 'subsample': 0.2670289775829492}. Best is trial 7 with value: 0.4823649543723092.\n",
      "[I 2024-11-20 21:07:28,306] Trial 14 finished with value: 0.3419892820852728 and parameters: {'n_estimators': 62, 'learning_rate': 0.06800440357186495, 'max_depth': 4, 'subsample': 0.09785777041112172}. Best is trial 7 with value: 0.4823649543723092.\n",
      "[I 2024-11-20 21:07:28,400] Trial 12 finished with value: 0.38315552841437006 and parameters: {'n_estimators': 72, 'learning_rate': 0.06668750695604769, 'max_depth': 4, 'subsample': 0.4840500806030035}. Best is trial 7 with value: 0.4823649543723092.\n",
      "[I 2024-11-20 21:07:28,672] Trial 10 finished with value: 0.36122419254490157 and parameters: {'n_estimators': 93, 'learning_rate': 0.08991195992255557, 'max_depth': 9, 'subsample': 0.6753004799867915}. Best is trial 7 with value: 0.4823649543723092.\n",
      "[I 2024-11-20 21:07:28,806] Trial 15 finished with value: 0.3491252134876136 and parameters: {'n_estimators': 50, 'learning_rate': 0.09903724351288601, 'max_depth': 9, 'subsample': 0.7676649806108334}. Best is trial 7 with value: 0.4823649543723092.\n",
      "[I 2024-11-20 21:07:28,900] Trial 17 finished with value: 0.37682883053180016 and parameters: {'n_estimators': 120, 'learning_rate': 0.16626109119757446, 'max_depth': 6, 'subsample': 0.37914507525622876}. Best is trial 7 with value: 0.4823649543723092.\n",
      "[I 2024-11-20 21:07:29,007] Trial 20 finished with value: 0.3629426466353165 and parameters: {'n_estimators': 81, 'learning_rate': 0.17148640032115256, 'max_depth': 6, 'subsample': 0.44258151285127634}. Best is trial 7 with value: 0.4823649543723092.\n",
      "[I 2024-11-20 21:07:29,087] Trial 18 finished with value: 0.3754594720953276 and parameters: {'n_estimators': 84, 'learning_rate': 0.17544552426908622, 'max_depth': 10, 'subsample': 0.42523886616757}. Best is trial 7 with value: 0.4823649543723092.\n",
      "[I 2024-11-20 21:07:29,139] Trial 19 finished with value: 0.42096600071923806 and parameters: {'n_estimators': 81, 'learning_rate': 0.15249825889038085, 'max_depth': 7, 'subsample': 0.11217776134783537}. Best is trial 7 with value: 0.4823649543723092.\n",
      "[I 2024-11-20 21:07:29,145] Trial 21 finished with value: 0.4278543446576425 and parameters: {'n_estimators': 119, 'learning_rate': 0.1415144822212151, 'max_depth': 6, 'subsample': 0.14301651526520848}. Best is trial 7 with value: 0.4823649543723092.\n",
      "[I 2024-11-20 21:07:29,217] Trial 16 finished with value: 0.35736617697093165 and parameters: {'n_estimators': 109, 'learning_rate': 0.09536911382187944, 'max_depth': 9, 'subsample': 0.7235655103427912}. Best is trial 7 with value: 0.4823649543723092.\n",
      "[I 2024-11-20 21:07:29,521] Trial 22 finished with value: 0.46583041822986937 and parameters: {'n_estimators': 119, 'learning_rate': 0.16048076858395857, 'max_depth': 6, 'subsample': 0.14854637055214004}. Best is trial 7 with value: 0.4823649543723092.\n",
      "[I 2024-11-20 21:07:29,704] Trial 24 finished with value: 0.4164948356778594 and parameters: {'n_estimators': 80, 'learning_rate': 0.1607657694088258, 'max_depth': 7, 'subsample': 0.052835796115595135}. Best is trial 7 with value: 0.4823649543723092.\n",
      "[I 2024-11-20 21:07:29,753] Trial 23 finished with value: 0.51391545420639 and parameters: {'n_estimators': 77, 'learning_rate': 0.15751219604693759, 'max_depth': 6, 'subsample': 0.1528259718754242}. Best is trial 23 with value: 0.51391545420639.\n",
      "[I 2024-11-20 21:07:29,841] Trial 28 finished with value: 0.3954820287080857 and parameters: {'n_estimators': 113, 'learning_rate': 0.23491055166701102, 'max_depth': 9, 'subsample': 0.056407325252100446}. Best is trial 23 with value: 0.51391545420639.\n",
      "[I 2024-11-20 21:07:29,871] Trial 25 finished with value: 0.44117559980783316 and parameters: {'n_estimators': 94, 'learning_rate': 0.20969451214592638, 'max_depth': 7, 'subsample': 0.053198031339461535}. Best is trial 23 with value: 0.51391545420639.\n",
      "[I 2024-11-20 21:07:29,945] Trial 29 finished with value: 0.38239822444635474 and parameters: {'n_estimators': 94, 'learning_rate': 0.24239475902518903, 'max_depth': 9, 'subsample': 0.05179839017427596}. Best is trial 23 with value: 0.51391545420639.\n",
      "[I 2024-11-20 21:07:30,047] Trial 26 finished with value: 0.36967630718554956 and parameters: {'n_estimators': 94, 'learning_rate': 0.12992978150704104, 'max_depth': 7, 'subsample': 0.05301240617060165}. Best is trial 23 with value: 0.51391545420639.\n",
      "[I 2024-11-20 21:07:30,103] Trial 27 finished with value: 0.37228845448506265 and parameters: {'n_estimators': 93, 'learning_rate': 0.1260406440903045, 'max_depth': 7, 'subsample': 0.05048569159073501}. Best is trial 23 with value: 0.51391545420639.\n",
      "[I 2024-11-20 21:07:30,503] Trial 30 finished with value: 0.49907612381538613 and parameters: {'n_estimators': 95, 'learning_rate': 0.21251571361537758, 'max_depth': 7, 'subsample': 0.18093247428371442}. Best is trial 23 with value: 0.51391545420639.\n",
      "[I 2024-11-20 21:07:30,551] Trial 31 finished with value: 0.44061418707371636 and parameters: {'n_estimators': 90, 'learning_rate': 0.2178095732261035, 'max_depth': 5, 'subsample': 0.1780553924185746}. Best is trial 23 with value: 0.51391545420639.\n",
      "[I 2024-11-20 21:07:30,675] Trial 32 finished with value: 0.45585970789175834 and parameters: {'n_estimators': 97, 'learning_rate': 0.12735571378223065, 'max_depth': 5, 'subsample': 0.18623209196133758}. Best is trial 23 with value: 0.51391545420639.\n",
      "[I 2024-11-20 21:07:30,796] Trial 33 finished with value: 0.44169155837223784 and parameters: {'n_estimators': 96, 'learning_rate': 0.12186795355967288, 'max_depth': 5, 'subsample': 0.18406016441517645}. Best is trial 23 with value: 0.51391545420639.\n",
      "[I 2024-11-20 21:07:30,856] Trial 34 finished with value: 0.4492527007127126 and parameters: {'n_estimators': 98, 'learning_rate': 0.12696003315707174, 'max_depth': 5, 'subsample': 0.1919706446159782}. Best is trial 23 with value: 0.51391545420639.\n",
      "[I 2024-11-20 21:07:30,895] Trial 37 finished with value: 0.46338709025634517 and parameters: {'n_estimators': 100, 'learning_rate': 0.20886786853970124, 'max_depth': 5, 'subsample': 0.19359778721801008}. Best is trial 23 with value: 0.51391545420639.\n",
      "[I 2024-11-20 21:07:30,932] Trial 35 finished with value: 0.44392627360598136 and parameters: {'n_estimators': 74, 'learning_rate': 0.12244819448328416, 'max_depth': 5, 'subsample': 0.19456237768721263}. Best is trial 23 with value: 0.51391545420639.\n",
      "[I 2024-11-20 21:07:31,021] Trial 36 finished with value: 0.4523442622173498 and parameters: {'n_estimators': 73, 'learning_rate': 0.12153673803706865, 'max_depth': 5, 'subsample': 0.17595134666010678}. Best is trial 23 with value: 0.51391545420639.\n",
      "[I 2024-11-20 21:07:31,195] Trial 38 finished with value: 0.4268739993566969 and parameters: {'n_estimators': 73, 'learning_rate': 0.20590291947672537, 'max_depth': 5, 'subsample': 0.18908088011429064}. Best is trial 23 with value: 0.51391545420639.\n",
      "[I 2024-11-20 21:07:31,443] Trial 40 finished with value: 0.3975996228577715 and parameters: {'n_estimators': 72, 'learning_rate': 0.19664195636013443, 'max_depth': 6, 'subsample': 0.22584118593025035}. Best is trial 23 with value: 0.51391545420639.\n",
      "[I 2024-11-20 21:07:31,476] Trial 39 finished with value: 0.4208155473401818 and parameters: {'n_estimators': 101, 'learning_rate': 0.11355798409852921, 'max_depth': 5, 'subsample': 0.2181023249320346}. Best is trial 23 with value: 0.51391545420639.\n",
      "[I 2024-11-20 21:07:31,495] Trial 43 finished with value: 0.350269784183206 and parameters: {'n_estimators': 74, 'learning_rate': 0.1904980659162467, 'max_depth': 3, 'subsample': 0.2382879791950724}. Best is trial 23 with value: 0.51391545420639.\n",
      "[I 2024-11-20 21:07:31,618] Trial 44 finished with value: 0.3998986002288537 and parameters: {'n_estimators': 114, 'learning_rate': 0.18964524858047102, 'max_depth': 8, 'subsample': 0.23898326665721534}. Best is trial 23 with value: 0.51391545420639.\n",
      "[I 2024-11-20 21:07:31,622] Trial 42 finished with value: 0.38961546121043844 and parameters: {'n_estimators': 115, 'learning_rate': 0.19381922458623727, 'max_depth': 8, 'subsample': 0.24189656357217545}. Best is trial 23 with value: 0.51391545420639.\n",
      "[I 2024-11-20 21:07:31,669] Trial 41 finished with value: 0.43601170861777705 and parameters: {'n_estimators': 74, 'learning_rate': 0.1809983329191764, 'max_depth': 6, 'subsample': 0.23128236262934262}. Best is trial 23 with value: 0.51391545420639.\n",
      "[I 2024-11-20 21:07:31,772] Trial 45 finished with value: 0.39004655707407787 and parameters: {'n_estimators': 117, 'learning_rate': 0.32671148539859685, 'max_depth': 8, 'subsample': 0.25072982943063055}. Best is trial 23 with value: 0.51391545420639.\n",
      "[I 2024-11-20 21:07:31,949] Trial 46 finished with value: 0.4388698735353008 and parameters: {'n_estimators': 117, 'learning_rate': 0.3287007860443533, 'max_depth': 8, 'subsample': 0.24616794626283278}. Best is trial 23 with value: 0.51391545420639.\n",
      "[I 2024-11-20 21:07:32,172] Trial 49 finished with value: 0.4017042570877144 and parameters: {'n_estimators': 115, 'learning_rate': 0.3075469319766259, 'max_depth': 8, 'subsample': 0.14624436030655596}. Best is trial 23 with value: 0.51391545420639.\n",
      "[I 2024-11-20 21:07:32,203] Trial 47 finished with value: 0.49108100476283645 and parameters: {'n_estimators': 115, 'learning_rate': 0.36991707473564533, 'max_depth': 8, 'subsample': 0.14680512475285012}. Best is trial 23 with value: 0.51391545420639.\n",
      "[I 2024-11-20 21:07:32,245] Trial 48 finished with value: 0.43456268790466224 and parameters: {'n_estimators': 115, 'learning_rate': 0.29880614655123205, 'max_depth': 8, 'subsample': 0.14023259638486046}. Best is trial 23 with value: 0.51391545420639.\n",
      "[I 2024-11-20 21:07:32,356] Trial 50 finished with value: 0.43945331132430576 and parameters: {'n_estimators': 88, 'learning_rate': 0.31588070597369955, 'max_depth': 6, 'subsample': 0.1419816287276729}. Best is trial 23 with value: 0.51391545420639.\n",
      "[I 2024-11-20 21:07:32,389] Trial 51 finished with value: 0.4084818588468553 and parameters: {'n_estimators': 68, 'learning_rate': 0.27360443486151154, 'max_depth': 6, 'subsample': 0.1442055087261601}. Best is trial 23 with value: 0.51391545420639.\n",
      "[I 2024-11-20 21:07:32,470] Trial 52 finished with value: 0.43912506065788093 and parameters: {'n_estimators': 65, 'learning_rate': 0.31912959436597377, 'max_depth': 10, 'subsample': 0.14834612625653443}. Best is trial 23 with value: 0.51391545420639.\n",
      "[I 2024-11-20 21:07:32,703] Trial 53 finished with value: 0.4765813933027647 and parameters: {'n_estimators': 87, 'learning_rate': 0.1511256795731864, 'max_depth': 10, 'subsample': 0.14757961359757105}. Best is trial 23 with value: 0.51391545420639.\n",
      "[I 2024-11-20 21:07:32,858] Trial 54 finished with value: 0.46129088337126645 and parameters: {'n_estimators': 67, 'learning_rate': 0.15004751925509305, 'max_depth': 10, 'subsample': 0.14771785840406207}. Best is trial 23 with value: 0.51391545420639.\n",
      "[I 2024-11-20 21:07:32,874] Trial 55 finished with value: 0.47409107945832407 and parameters: {'n_estimators': 66, 'learning_rate': 0.43947666307809047, 'max_depth': 10, 'subsample': 0.0870076426803296}. Best is trial 23 with value: 0.51391545420639.\n",
      "[I 2024-11-20 21:07:32,977] Trial 58 finished with value: 0.37410832343854794 and parameters: {'n_estimators': 108, 'learning_rate': 0.4683742566226659, 'max_depth': 10, 'subsample': 0.11277798490579131}. Best is trial 23 with value: 0.51391545420639.\n",
      "[I 2024-11-20 21:07:33,006] Trial 59 finished with value: 0.40247174436164423 and parameters: {'n_estimators': 108, 'learning_rate': 0.4891950917835148, 'max_depth': 10, 'subsample': 0.11826075044918927}. Best is trial 23 with value: 0.51391545420639.\n",
      "[I 2024-11-20 21:07:33,043] Trial 57 finished with value: 0.44027192153709016 and parameters: {'n_estimators': 110, 'learning_rate': 0.415155098257508, 'max_depth': 7, 'subsample': 0.30187093912641266}. Best is trial 23 with value: 0.51391545420639.\n",
      "[I 2024-11-20 21:07:33,091] Trial 56 finished with value: 0.46213439268532663 and parameters: {'n_estimators': 108, 'learning_rate': 0.4495850939200612, 'max_depth': 7, 'subsample': 0.30801640722681156}. Best is trial 23 with value: 0.51391545420639.\n",
      "[I 2024-11-20 21:07:33,194] Trial 60 finished with value: 0.4488191007078972 and parameters: {'n_estimators': 109, 'learning_rate': 0.4248120143415592, 'max_depth': 7, 'subsample': 0.11984530533700151}. Best is trial 23 with value: 0.51391545420639.\n",
      "[I 2024-11-20 21:07:33,488] Trial 61 finished with value: 0.470258134902768 and parameters: {'n_estimators': 108, 'learning_rate': 0.3606210460825341, 'max_depth': 7, 'subsample': 0.1123935933298333}. Best is trial 23 with value: 0.51391545420639.\n",
      "[I 2024-11-20 21:07:33,590] Trial 62 finished with value: 0.40027137983767525 and parameters: {'n_estimators': 108, 'learning_rate': 0.4439914604153719, 'max_depth': 7, 'subsample': 0.10895265665192591}. Best is trial 23 with value: 0.51391545420639.\n",
      "[I 2024-11-20 21:07:33,621] Trial 63 finished with value: 0.49301440181498357 and parameters: {'n_estimators': 58, 'learning_rate': 0.4850120944163527, 'max_depth': 10, 'subsample': 0.08696849650608013}. Best is trial 23 with value: 0.51391545420639.\n",
      "[I 2024-11-20 21:07:33,773] Trial 64 finished with value: 0.4505943352800774 and parameters: {'n_estimators': 78, 'learning_rate': 0.36830909876491597, 'max_depth': 9, 'subsample': 0.08304097410627034}. Best is trial 23 with value: 0.51391545420639.\n",
      "[I 2024-11-20 21:07:33,787] Trial 65 finished with value: 0.45416707224818287 and parameters: {'n_estimators': 59, 'learning_rate': 0.37586692932250515, 'max_depth': 9, 'subsample': 0.08372161952907947}. Best is trial 23 with value: 0.51391545420639.\n",
      "[I 2024-11-20 21:07:33,812] Trial 66 finished with value: 0.46422117967113985 and parameters: {'n_estimators': 61, 'learning_rate': 0.37759994761851845, 'max_depth': 9, 'subsample': 0.08034105992572906}. Best is trial 23 with value: 0.51391545420639.\n",
      "[I 2024-11-20 21:07:33,871] Trial 67 finished with value: 0.4461510256693648 and parameters: {'n_estimators': 61, 'learning_rate': 0.3696875835454658, 'max_depth': 9, 'subsample': 0.08268784477694058}. Best is trial 23 with value: 0.51391545420639.\n",
      "[I 2024-11-20 21:07:33,999] Trial 68 finished with value: 0.43140754938358217 and parameters: {'n_estimators': 58, 'learning_rate': 0.3710481912451714, 'max_depth': 9, 'subsample': 0.08756700347483133}. Best is trial 23 with value: 0.51391545420639.\n",
      "[I 2024-11-20 21:07:34,302] Trial 69 finished with value: 0.44565511968228133 and parameters: {'n_estimators': 61, 'learning_rate': 0.3701765789036227, 'max_depth': 9, 'subsample': 0.09982262382113953}. Best is trial 23 with value: 0.51391545420639.\n",
      "[I 2024-11-20 21:07:34,398] Trial 71 finished with value: 0.451463617685693 and parameters: {'n_estimators': 58, 'learning_rate': 0.37654994492643334, 'max_depth': 9, 'subsample': 0.08523462810762014}. Best is trial 23 with value: 0.51391545420639.\n",
      "[I 2024-11-20 21:07:34,466] Trial 70 finished with value: 0.49808204520936206 and parameters: {'n_estimators': 58, 'learning_rate': 0.36992386015645345, 'max_depth': 9, 'subsample': 0.08390190094135533}. Best is trial 23 with value: 0.51391545420639.\n",
      "[I 2024-11-20 21:07:34,553] Trial 72 finished with value: 0.4251796079259751 and parameters: {'n_estimators': 57, 'learning_rate': 0.3857828944744237, 'max_depth': 9, 'subsample': 0.0728110849900444}. Best is trial 23 with value: 0.51391545420639.\n",
      "[I 2024-11-20 21:07:34,804] Trial 73 finished with value: 0.4882113400984631 and parameters: {'n_estimators': 62, 'learning_rate': 0.1430875718631131, 'max_depth': 10, 'subsample': 0.16314505188917128}. Best is trial 23 with value: 0.51391545420639.\n",
      "[I 2024-11-20 21:07:34,931] Trial 74 finished with value: 0.4170298928305488 and parameters: {'n_estimators': 87, 'learning_rate': 0.1103314494787213, 'max_depth': 10, 'subsample': 0.09727154772397056}. Best is trial 23 with value: 0.51391545420639.\n",
      "[I 2024-11-20 21:07:35,012] Trial 75 finished with value: 0.43091943490311946 and parameters: {'n_estimators': 56, 'learning_rate': 0.13765641544610313, 'max_depth': 10, 'subsample': 0.06806373963862564}. Best is trial 23 with value: 0.51391545420639.\n",
      "[I 2024-11-20 21:07:35,086] Trial 76 finished with value: 0.3677781170594603 and parameters: {'n_estimators': 52, 'learning_rate': 0.10644885566564341, 'max_depth': 10, 'subsample': 0.07217433184551296}. Best is trial 23 with value: 0.51391545420639.\n",
      "[I 2024-11-20 21:07:35,443] Trial 77 finished with value: 0.4851533365673356 and parameters: {'n_estimators': 53, 'learning_rate': 0.14720791095037386, 'max_depth': 10, 'subsample': 0.16860392841007343}. Best is trial 23 with value: 0.51391545420639.\n",
      "[I 2024-11-20 21:07:35,494] Trial 79 finished with value: 0.3946590856527502 and parameters: {'n_estimators': 87, 'learning_rate': 0.13633931972969932, 'max_depth': 10, 'subsample': 0.062260133463265324}. Best is trial 23 with value: 0.51391545420639.\n",
      "[I 2024-11-20 21:07:35,527] Trial 78 finished with value: 0.3810754069922042 and parameters: {'n_estimators': 86, 'learning_rate': 0.1402451484186195, 'max_depth': 10, 'subsample': 0.06589733086361857}. Best is trial 23 with value: 0.51391545420639.\n",
      "[I 2024-11-20 21:07:35,669] Trial 80 finished with value: 0.36577103635452124 and parameters: {'n_estimators': 86, 'learning_rate': 0.10666695484131633, 'max_depth': 10, 'subsample': 0.06351468458807027}. Best is trial 23 with value: 0.51391545420639.\n",
      "[I 2024-11-20 21:07:35,761] Trial 81 finished with value: 0.47338124215870003 and parameters: {'n_estimators': 86, 'learning_rate': 0.142168618169962, 'max_depth': 10, 'subsample': 0.165848582408222}. Best is trial 23 with value: 0.51391545420639.\n",
      "[I 2024-11-20 21:07:35,876] Trial 82 finished with value: 0.48330635837915215 and parameters: {'n_estimators': 51, 'learning_rate': 0.1402464484886476, 'max_depth': 10, 'subsample': 0.16087670631525117}. Best is trial 23 with value: 0.51391545420639.\n",
      "[I 2024-11-20 21:07:35,917] Trial 84 finished with value: 0.4888323244487298 and parameters: {'n_estimators': 53, 'learning_rate': 0.14900777012758337, 'max_depth': 10, 'subsample': 0.15992949749718302}. Best is trial 23 with value: 0.51391545420639.\n",
      "[I 2024-11-20 21:07:35,942] Trial 83 finished with value: 0.489320622653737 and parameters: {'n_estimators': 53, 'learning_rate': 0.14293462023812564, 'max_depth': 10, 'subsample': 0.16397965851448817}. Best is trial 23 with value: 0.51391545420639.\n",
      "[I 2024-11-20 21:07:36,267] Trial 86 finished with value: 0.4347675940454069 and parameters: {'n_estimators': 54, 'learning_rate': 0.24515796254906688, 'max_depth': 8, 'subsample': 0.16308561088550355}. Best is trial 23 with value: 0.51391545420639.\n",
      "[I 2024-11-20 21:07:36,368] Trial 87 finished with value: 0.42917901943619563 and parameters: {'n_estimators': 50, 'learning_rate': 0.16586300442433727, 'max_depth': 8, 'subsample': 0.12794668693940633}. Best is trial 23 with value: 0.51391545420639.\n",
      "[I 2024-11-20 21:07:36,457] Trial 85 finished with value: 0.466241259712855 and parameters: {'n_estimators': 50, 'learning_rate': 0.13660143053492518, 'max_depth': 10, 'subsample': 0.16845806152516055}. Best is trial 23 with value: 0.51391545420639.\n",
      "[I 2024-11-20 21:07:36,519] Trial 88 finished with value: 0.495987475242856 and parameters: {'n_estimators': 53, 'learning_rate': 0.15124769348453077, 'max_depth': 10, 'subsample': 0.16106607184488683}. Best is trial 23 with value: 0.51391545420639.\n",
      "[I 2024-11-20 21:07:36,653] Trial 89 finished with value: 0.49815782729082236 and parameters: {'n_estimators': 54, 'learning_rate': 0.15182963670499844, 'max_depth': 9, 'subsample': 0.15451904502291505}. Best is trial 23 with value: 0.51391545420639.\n",
      "[I 2024-11-20 21:07:36,772] Trial 91 finished with value: 0.40220349532426836 and parameters: {'n_estimators': 51, 'learning_rate': 0.17813262820803055, 'max_depth': 10, 'subsample': 0.13097153303367343}. Best is trial 23 with value: 0.51391545420639.\n",
      "[I 2024-11-20 21:07:36,812] Trial 92 finished with value: 0.42914941724280653 and parameters: {'n_estimators': 54, 'learning_rate': 0.2489262750872311, 'max_depth': 10, 'subsample': 0.12594978230475332}. Best is trial 23 with value: 0.51391545420639.\n",
      "[I 2024-11-20 21:07:36,894] Trial 90 finished with value: 0.5133495853461563 and parameters: {'n_estimators': 54, 'learning_rate': 0.16594125677140945, 'max_depth': 9, 'subsample': 0.1659116020032319}. Best is trial 23 with value: 0.51391545420639.\n",
      "[I 2024-11-20 21:07:37,290] Trial 93 finished with value: 0.44144661828446663 and parameters: {'n_estimators': 54, 'learning_rate': 0.16642657019460508, 'max_depth': 10, 'subsample': 0.20996947815959854}. Best is trial 23 with value: 0.51391545420639.\n",
      "[I 2024-11-20 21:07:37,337] Trial 94 finished with value: 0.4835470219099539 and parameters: {'n_estimators': 54, 'learning_rate': 0.17385442323638337, 'max_depth': 10, 'subsample': 0.2014319022395455}. Best is trial 23 with value: 0.51391545420639.\n",
      "[I 2024-11-20 21:07:37,459] Trial 96 finished with value: 0.46235882806409634 and parameters: {'n_estimators': 63, 'learning_rate': 0.17729530378004288, 'max_depth': 9, 'subsample': 0.20615410953805705}. Best is trial 23 with value: 0.51391545420639.\n",
      "[I 2024-11-20 21:07:37,492] Trial 95 finished with value: 0.4737680334099592 and parameters: {'n_estimators': 54, 'learning_rate': 0.1690853964847563, 'max_depth': 9, 'subsample': 0.19832132316730403}. Best is trial 23 with value: 0.51391545420639.\n",
      "[I 2024-11-20 21:07:37,655] Trial 97 finished with value: 0.45272012780211635 and parameters: {'n_estimators': 54, 'learning_rate': 0.16942125496264543, 'max_depth': 9, 'subsample': 0.21215314082452502}. Best is trial 23 with value: 0.51391545420639.\n",
      "[I 2024-11-20 21:07:37,789] Trial 98 finished with value: 0.4817178600565707 and parameters: {'n_estimators': 55, 'learning_rate': 0.16919032417950997, 'max_depth': 9, 'subsample': 0.19975878028318847}. Best is trial 23 with value: 0.51391545420639.\n",
      "[I 2024-11-20 21:07:37,808] Trial 99 finished with value: 0.44055550651856257 and parameters: {'n_estimators': 55, 'learning_rate': 0.16406998957062838, 'max_depth': 9, 'subsample': 0.20976155877678399}. Best is trial 23 with value: 0.51391545420639.\n",
      "[I 2024-11-20 21:07:37,877] Trial 100 finished with value: 0.47945249986120486 and parameters: {'n_estimators': 56, 'learning_rate': 0.15789721480025584, 'max_depth': 9, 'subsample': 0.17710530470637514}. Best is trial 23 with value: 0.51391545420639.\n",
      "[I 2024-11-20 21:07:38,274] Trial 103 finished with value: 0.481946955329993 and parameters: {'n_estimators': 56, 'learning_rate': 0.22333584876047347, 'max_depth': 9, 'subsample': 0.1539329562946162}. Best is trial 23 with value: 0.51391545420639.\n",
      "[I 2024-11-20 21:07:38,345] Trial 102 finished with value: 0.4245766975816532 and parameters: {'n_estimators': 56, 'learning_rate': 0.08340846484363784, 'max_depth': 9, 'subsample': 0.15551343240301582}. Best is trial 23 with value: 0.51391545420639.\n",
      "[I 2024-11-20 21:07:38,459] Trial 105 finished with value: 0.46077438259203307 and parameters: {'n_estimators': 56, 'learning_rate': 0.15952128180640246, 'max_depth': 8, 'subsample': 0.15333743559120736}. Best is trial 23 with value: 0.51391545420639.\n",
      "[I 2024-11-20 21:07:38,499] Trial 101 finished with value: 0.36232069751604357 and parameters: {'n_estimators': 56, 'learning_rate': 0.056539884097933174, 'max_depth': 9, 'subsample': 0.20591261818824597}. Best is trial 23 with value: 0.51391545420639.\n",
      "[I 2024-11-20 21:07:38,629] Trial 104 finished with value: 0.4375027074070573 and parameters: {'n_estimators': 56, 'learning_rate': 0.08706388754182648, 'max_depth': 9, 'subsample': 0.1777221792262821}. Best is trial 23 with value: 0.51391545420639.\n",
      "[I 2024-11-20 21:07:38,719] Trial 108 finished with value: 0.4128261935775156 and parameters: {'n_estimators': 63, 'learning_rate': 0.13047176662312832, 'max_depth': 8, 'subsample': 0.13350310236473248}. Best is trial 23 with value: 0.51391545420639.\n",
      "[I 2024-11-20 21:07:38,831] Trial 106 finished with value: 0.43239048048506545 and parameters: {'n_estimators': 59, 'learning_rate': 0.0826662927430905, 'max_depth': 8, 'subsample': 0.15482652675312472}. Best is trial 23 with value: 0.51391545420639.\n",
      "[I 2024-11-20 21:07:38,843] Trial 107 finished with value: 0.4736875102915328 and parameters: {'n_estimators': 104, 'learning_rate': 0.15707826664019806, 'max_depth': 8, 'subsample': 0.1797358342426049}. Best is trial 23 with value: 0.51391545420639.\n",
      "[I 2024-11-20 21:07:39,099] Trial 110 finished with value: 0.44427031732894795 and parameters: {'n_estimators': 63, 'learning_rate': 0.347550117804931, 'max_depth': 6, 'subsample': 0.13455392003778588}. Best is trial 23 with value: 0.51391545420639.\n",
      "[I 2024-11-20 21:07:39,230] Trial 109 finished with value: 0.41620182121747185 and parameters: {'n_estimators': 63, 'learning_rate': 0.1196222270425888, 'max_depth': 6, 'subsample': 0.13427480531884445}. Best is trial 23 with value: 0.51391545420639.\n",
      "[I 2024-11-20 21:07:39,392] Trial 113 finished with value: 0.44955553667596204 and parameters: {'n_estimators': 103, 'learning_rate': 0.4021385015863285, 'max_depth': 6, 'subsample': 0.1357818232048306}. Best is trial 23 with value: 0.51391545420639.\n",
      "[I 2024-11-20 21:07:39,405] Trial 111 finished with value: 0.4469805408060695 and parameters: {'n_estimators': 60, 'learning_rate': 0.11701497294693934, 'max_depth': 6, 'subsample': 0.13835777213377015}. Best is trial 23 with value: 0.51391545420639.\n",
      "[I 2024-11-20 21:07:39,438] Trial 112 finished with value: 0.4038240793726209 and parameters: {'n_estimators': 70, 'learning_rate': 0.13103007505131856, 'max_depth': 10, 'subsample': 0.13489931643610176}. Best is trial 23 with value: 0.51391545420639.\n",
      "[I 2024-11-20 21:07:39,467] Trial 114 finished with value: 0.39453538878753236 and parameters: {'n_estimators': 60, 'learning_rate': 0.18437204979967023, 'max_depth': 10, 'subsample': 0.10346394716392698}. Best is trial 23 with value: 0.51391545420639.\n",
      "[I 2024-11-20 21:07:39,790] Trial 116 finished with value: 0.37271705129086885 and parameters: {'n_estimators': 90, 'learning_rate': 0.33932329451627036, 'max_depth': 10, 'subsample': 0.5740443028264645}. Best is trial 23 with value: 0.51391545420639.\n",
      "[I 2024-11-20 21:07:39,792] Trial 115 finished with value: 0.4280112359861178 and parameters: {'n_estimators': 52, 'learning_rate': 0.11693659484543796, 'max_depth': 6, 'subsample': 0.13907567673345064}. Best is trial 23 with value: 0.51391545420639.\n",
      "[I 2024-11-20 21:07:40,144] Trial 118 finished with value: 0.4166495867245864 and parameters: {'n_estimators': 52, 'learning_rate': 0.14635005335532833, 'max_depth': 10, 'subsample': 0.12216027296419996}. Best is trial 23 with value: 0.51391545420639.\n",
      "[I 2024-11-20 21:07:40,216] Trial 117 finished with value: 0.3892929634536294 and parameters: {'n_estimators': 70, 'learning_rate': 0.2926950088219836, 'max_depth': 10, 'subsample': 0.58983021910981}. Best is trial 23 with value: 0.51391545420639.\n",
      "[I 2024-11-20 21:07:40,335] Trial 120 finished with value: 0.3739388691487111 and parameters: {'n_estimators': 52, 'learning_rate': 0.15084443920125157, 'max_depth': 10, 'subsample': 0.10378846563581438}. Best is trial 23 with value: 0.51391545420639.\n",
      "[I 2024-11-20 21:07:40,351] Trial 122 finished with value: 0.36700740150616784 and parameters: {'n_estimators': 53, 'learning_rate': 0.14663495504067783, 'max_depth': 10, 'subsample': 0.09312560309856974}. Best is trial 23 with value: 0.51391545420639.\n",
      "[I 2024-11-20 21:07:40,397] Trial 121 finished with value: 0.48668300054235347 and parameters: {'n_estimators': 58, 'learning_rate': 0.2871460534078243, 'max_depth': 10, 'subsample': 0.16850868470206581}. Best is trial 23 with value: 0.51391545420639.\n",
      "[I 2024-11-20 21:07:40,575] Trial 119 finished with value: 0.48745910182318597 and parameters: {'n_estimators': 52, 'learning_rate': 0.1474311421785905, 'max_depth': 10, 'subsample': 0.1687896015646601}. Best is trial 23 with value: 0.51391545420639.\n",
      "[I 2024-11-20 21:07:40,767] Trial 124 finished with value: 0.46451246620958164 and parameters: {'n_estimators': 52, 'learning_rate': 0.2918518092193014, 'max_depth': 10, 'subsample': 0.09404975500161639}. Best is trial 23 with value: 0.51391545420639.\n",
      "[I 2024-11-20 21:07:40,956] Trial 123 finished with value: 0.4648044481935806 and parameters: {'n_estimators': 52, 'learning_rate': 0.14387922718879345, 'max_depth': 10, 'subsample': 0.17243097096666768}. Best is trial 23 with value: 0.51391545420639.\n",
      "[I 2024-11-20 21:07:41,265] Trial 125 finished with value: 0.4351229580002275 and parameters: {'n_estimators': 79, 'learning_rate': 0.14673865452589432, 'max_depth': 10, 'subsample': 0.18845593547947204}. Best is trial 23 with value: 0.51391545420639.\n",
      "[I 2024-11-20 21:07:41,347] Trial 129 finished with value: 0.43686408895271167 and parameters: {'n_estimators': 58, 'learning_rate': 0.27959857243942415, 'max_depth': 10, 'subsample': 0.17009147205430952}. Best is trial 23 with value: 0.51391545420639.\n",
      "[I 2024-11-20 21:07:41,444] Trial 126 finished with value: 0.4889986206389244 and parameters: {'n_estimators': 58, 'learning_rate': 0.1480565301075737, 'max_depth': 10, 'subsample': 0.16814455041304344}. Best is trial 23 with value: 0.51391545420639.\n",
      "[I 2024-11-20 21:07:41,496] Trial 130 finished with value: 0.5070564902986605 and parameters: {'n_estimators': 58, 'learning_rate': 0.49523898137262073, 'max_depth': 10, 'subsample': 0.18544402476324848}. Best is trial 23 with value: 0.51391545420639.\n",
      "[I 2024-11-20 21:07:41,538] Trial 128 finished with value: 0.5208783110475323 and parameters: {'n_estimators': 76, 'learning_rate': 0.1983055365739522, 'max_depth': 10, 'subsample': 0.1702994966915648}. Best is trial 128 with value: 0.5208783110475323.\n",
      "[I 2024-11-20 21:07:41,696] Trial 127 finished with value: 0.4857349613310521 and parameters: {'n_estimators': 53, 'learning_rate': 0.14622850795123676, 'max_depth': 10, 'subsample': 0.16821774834999217}. Best is trial 128 with value: 0.5208783110475323.\n",
      "[I 2024-11-20 21:07:41,832] Trial 131 finished with value: 0.4537807353863511 and parameters: {'n_estimators': 79, 'learning_rate': 0.26336078093047294, 'max_depth': 10, 'subsample': 0.18800523592239302}. Best is trial 128 with value: 0.5208783110475323.\n",
      "[I 2024-11-20 21:07:42,135] Trial 132 finished with value: 0.4753478076259533 and parameters: {'n_estimators': 58, 'learning_rate': 0.20220449226053008, 'max_depth': 10, 'subsample': 0.1904397546115939}. Best is trial 128 with value: 0.5208783110475323.\n",
      "[I 2024-11-20 21:07:42,219] Trial 133 finished with value: 0.39682889946274325 and parameters: {'n_estimators': 59, 'learning_rate': 0.49154939404819675, 'max_depth': 10, 'subsample': 0.1596664645161633}. Best is trial 128 with value: 0.5208783110475323.\n",
      "[I 2024-11-20 21:07:42,407] Trial 136 finished with value: 0.3887154294326953 and parameters: {'n_estimators': 76, 'learning_rate': 0.46355672798537273, 'max_depth': 7, 'subsample': 0.18209785050130323}. Best is trial 128 with value: 0.5208783110475323.\n",
      "[I 2024-11-20 21:07:42,437] Trial 134 finished with value: 0.5159880388827338 and parameters: {'n_estimators': 82, 'learning_rate': 0.499484181970129, 'max_depth': 10, 'subsample': 0.15933016551408472}. Best is trial 128 with value: 0.5208783110475323.\n",
      "[I 2024-11-20 21:07:42,585] Trial 135 finished with value: 0.3033067904182575 and parameters: {'n_estimators': 50, 'learning_rate': 0.49643354819625046, 'max_depth': 10, 'subsample': 0.22437221057934992}. Best is trial 128 with value: 0.5208783110475323.\n",
      "[I 2024-11-20 21:07:42,650] Trial 137 finished with value: 0.4572802491680624 and parameters: {'n_estimators': 65, 'learning_rate': 0.19618397820201014, 'max_depth': 3, 'subsample': 0.18934684442206734}. Best is trial 128 with value: 0.5208783110475323.\n",
      "[I 2024-11-20 21:07:42,774] Trial 138 finished with value: 0.3555896567006467 and parameters: {'n_estimators': 77, 'learning_rate': 0.4976764129716068, 'max_depth': 10, 'subsample': 0.22674482914131183}. Best is trial 128 with value: 0.5208783110475323.\n",
      "[I 2024-11-20 21:07:42,900] Trial 139 finished with value: 0.5010370905882211 and parameters: {'n_estimators': 83, 'learning_rate': 0.4710314223582028, 'max_depth': 10, 'subsample': 0.15785381515572894}. Best is trial 128 with value: 0.5208783110475323.\n",
      "[I 2024-11-20 21:07:43,033] Trial 140 finished with value: 0.3258450270227916 and parameters: {'n_estimators': 82, 'learning_rate': 0.4948790913328459, 'max_depth': 3, 'subsample': 0.22684743231356866}. Best is trial 128 with value: 0.5208783110475323.\n",
      "[I 2024-11-20 21:07:43,172] Trial 141 finished with value: 0.4336395029417418 and parameters: {'n_estimators': 75, 'learning_rate': 0.47068439091522873, 'max_depth': 3, 'subsample': 0.14704300405621024}. Best is trial 128 with value: 0.5208783110475323.\n",
      "[I 2024-11-20 21:07:43,432] Trial 143 finished with value: 0.39315023348247446 and parameters: {'n_estimators': 82, 'learning_rate': 0.49611074716435566, 'max_depth': 9, 'subsample': 0.2636070228417069}. Best is trial 128 with value: 0.5208783110475323.\n",
      "[I 2024-11-20 21:07:43,484] Trial 145 finished with value: 0.3585076852951875 and parameters: {'n_estimators': 81, 'learning_rate': 0.4539755181525638, 'max_depth': 9, 'subsample': 0.1495360772291491}. Best is trial 128 with value: 0.5208783110475323.\n",
      "[I 2024-11-20 21:07:43,509] Trial 144 finished with value: 0.3744072342392476 and parameters: {'n_estimators': 77, 'learning_rate': 0.4642573077680701, 'max_depth': 9, 'subsample': 0.2623411150742631}. Best is trial 128 with value: 0.5208783110475323.\n",
      "[I 2024-11-20 21:07:43,700] Trial 142 finished with value: 0.40151081384585174 and parameters: {'n_estimators': 60, 'learning_rate': 0.18436329597400775, 'max_depth': 9, 'subsample': 0.22549532234931843}. Best is trial 128 with value: 0.5208783110475323.\n",
      "[I 2024-11-20 21:07:43,782] Trial 146 finished with value: 0.41871172092563647 and parameters: {'n_estimators': 83, 'learning_rate': 0.4632145692284056, 'max_depth': 9, 'subsample': 0.1446530889825929}. Best is trial 128 with value: 0.5208783110475323.\n",
      "[I 2024-11-20 21:07:43,922] Trial 147 finished with value: 0.42493725584520314 and parameters: {'n_estimators': 84, 'learning_rate': 0.4166165875391368, 'max_depth': 9, 'subsample': 0.14718118873968478}. Best is trial 128 with value: 0.5208783110475323.\n",
      "[I 2024-11-20 21:07:44,187] Trial 148 finished with value: 0.42880993471150175 and parameters: {'n_estimators': 84, 'learning_rate': 0.43883458450115953, 'max_depth': 10, 'subsample': 0.15143364309812565}. Best is trial 128 with value: 0.5208783110475323.\n",
      "[I 2024-11-20 21:07:44,395] Trial 149 finished with value: 0.4738623846170995 and parameters: {'n_estimators': 89, 'learning_rate': 0.4123385318842318, 'max_depth': 9, 'subsample': 0.15526551269608083}. Best is trial 128 with value: 0.5208783110475323.\n",
      "[I 2024-11-20 21:07:44,644] Trial 151 finished with value: 0.44397447856426253 and parameters: {'n_estimators': 83, 'learning_rate': 0.4295277596499908, 'max_depth': 10, 'subsample': 0.15650797885366247}. Best is trial 128 with value: 0.5208783110475323.\n",
      "[I 2024-11-20 21:07:44,669] Trial 150 finished with value: 0.46479322168849757 and parameters: {'n_estimators': 84, 'learning_rate': 0.4253056753602663, 'max_depth': 10, 'subsample': 0.15415847792470455}. Best is trial 128 with value: 0.5208783110475323.\n",
      "[I 2024-11-20 21:07:44,828] Trial 152 finished with value: 0.4758373670813971 and parameters: {'n_estimators': 83, 'learning_rate': 0.4094080666729403, 'max_depth': 10, 'subsample': 0.15837239839818443}. Best is trial 128 with value: 0.5208783110475323.\n",
      "[I 2024-11-20 21:07:44,849] Trial 154 finished with value: 0.46810086755399494 and parameters: {'n_estimators': 57, 'learning_rate': 0.4399400477624705, 'max_depth': 10, 'subsample': 0.15610036033872388}. Best is trial 128 with value: 0.5208783110475323.\n",
      "[I 2024-11-20 21:07:44,858] Trial 153 finished with value: 0.45665235993396514 and parameters: {'n_estimators': 89, 'learning_rate': 0.42631540963764114, 'max_depth': 10, 'subsample': 0.15412241228904006}. Best is trial 128 with value: 0.5208783110475323.\n",
      "[I 2024-11-20 21:07:45,117] Trial 155 finished with value: 0.4553517540836146 and parameters: {'n_estimators': 100, 'learning_rate': 0.4025014488835596, 'max_depth': 10, 'subsample': 0.15855706834893943}. Best is trial 128 with value: 0.5208783110475323.\n",
      "[I 2024-11-20 21:07:45,246] Trial 156 finished with value: 0.46338204762965396 and parameters: {'n_estimators': 80, 'learning_rate': 0.42530960362825454, 'max_depth': 10, 'subsample': 0.15730133508998234}. Best is trial 128 with value: 0.5208783110475323.\n",
      "[I 2024-11-20 21:07:45,446] Trial 157 finished with value: 0.4997903482596482 and parameters: {'n_estimators': 80, 'learning_rate': 0.39467206755733675, 'max_depth': 10, 'subsample': 0.16009395409441865}. Best is trial 128 with value: 0.5208783110475323.\n",
      "[I 2024-11-20 21:07:45,685] Trial 159 finished with value: 0.49986532703581343 and parameters: {'n_estimators': 57, 'learning_rate': 0.21546512366255033, 'max_depth': 10, 'subsample': 0.16393543297412416}. Best is trial 128 with value: 0.5208783110475323.\n",
      "[I 2024-11-20 21:07:45,818] Trial 158 finished with value: 0.49251928878449636 and parameters: {'n_estimators': 112, 'learning_rate': 0.15496912693749956, 'max_depth': 10, 'subsample': 0.16309250448173163}. Best is trial 128 with value: 0.5208783110475323.\n",
      "[I 2024-11-20 21:07:46,030] Trial 162 finished with value: 0.4452581716292119 and parameters: {'n_estimators': 55, 'learning_rate': 0.2173838430223387, 'max_depth': 10, 'subsample': 0.1785137950973873}. Best is trial 128 with value: 0.5208783110475323.\n",
      "[I 2024-11-20 21:07:46,060] Trial 161 finished with value: 0.39510924282460913 and parameters: {'n_estimators': 55, 'learning_rate': 0.1339361877279884, 'max_depth': 10, 'subsample': 0.07644025819623874}. Best is trial 128 with value: 0.5208783110475323.\n",
      "[I 2024-11-20 21:07:46,097] Trial 160 finished with value: 0.46863595320340545 and parameters: {'n_estimators': 112, 'learning_rate': 0.1552897974396554, 'max_depth': 10, 'subsample': 0.1828086724340752}. Best is trial 128 with value: 0.5208783110475323.\n",
      "[I 2024-11-20 21:07:46,353] Trial 163 finished with value: 0.4314022809995429 and parameters: {'n_estimators': 111, 'learning_rate': 0.15501203286476956, 'max_depth': 10, 'subsample': 0.0778691307495533}. Best is trial 128 with value: 0.5208783110475323.\n",
      "[I 2024-11-20 21:07:46,549] Trial 164 finished with value: 0.4661513822352764 and parameters: {'n_estimators': 57, 'learning_rate': 0.1544551715824886, 'max_depth': 10, 'subsample': 0.18153016148802945}. Best is trial 128 with value: 0.5208783110475323.\n",
      "[I 2024-11-20 21:07:46,911] Trial 165 finished with value: 0.4790701594801775 and parameters: {'n_estimators': 80, 'learning_rate': 0.15614827444858023, 'max_depth': 10, 'subsample': 0.17749102057719643}. Best is trial 128 with value: 0.5208783110475323.\n",
      "[I 2024-11-20 21:07:46,956] Trial 166 finished with value: 0.4294152185566892 and parameters: {'n_estimators': 96, 'learning_rate': 0.2306477603076721, 'max_depth': 7, 'subsample': 0.17733638416357395}. Best is trial 128 with value: 0.5208783110475323.\n",
      "[I 2024-11-20 21:07:47,142] Trial 167 finished with value: 0.48523725859917255 and parameters: {'n_estimators': 112, 'learning_rate': 0.23203158069795085, 'max_depth': 7, 'subsample': 0.07824572438585685}. Best is trial 128 with value: 0.5208783110475323.\n",
      "[I 2024-11-20 21:07:47,280] Trial 170 finished with value: 0.410685177139542 and parameters: {'n_estimators': 117, 'learning_rate': 0.3899178972690555, 'max_depth': 10, 'subsample': 0.17043690261093586}. Best is trial 128 with value: 0.5208783110475323.\n",
      "[I 2024-11-20 21:07:47,341] Trial 168 finished with value: 0.4476406697467519 and parameters: {'n_estimators': 111, 'learning_rate': 0.2282872941547387, 'max_depth': 10, 'subsample': 0.17557397799812668}. Best is trial 128 with value: 0.5208783110475323.\n",
      "[I 2024-11-20 21:07:47,391] Trial 169 finished with value: 0.45117844737560175 and parameters: {'n_estimators': 92, 'learning_rate': 0.23159807027234575, 'max_depth': 10, 'subsample': 0.18053212788350795}. Best is trial 128 with value: 0.5208783110475323.\n",
      "[I 2024-11-20 21:07:47,614] Trial 171 finished with value: 0.48451406852311607 and parameters: {'n_estimators': 96, 'learning_rate': 0.2282813132950905, 'max_depth': 10, 'subsample': 0.17258010111534636}. Best is trial 128 with value: 0.5208783110475323.\n",
      "[I 2024-11-20 21:07:47,680] Trial 172 finished with value: 0.4846075566833512 and parameters: {'n_estimators': 117, 'learning_rate': 0.21387764768592574, 'max_depth': 10, 'subsample': 0.1717343079420776}. Best is trial 128 with value: 0.5208783110475323.\n",
      "[I 2024-11-20 21:07:47,948] Trial 174 finished with value: 0.4597770864691939 and parameters: {'n_estimators': 118, 'learning_rate': 0.3443541685627181, 'max_depth': 10, 'subsample': 0.16664236997815407}. Best is trial 128 with value: 0.5208783110475323.\n",
      "[I 2024-11-20 21:07:48,035] Trial 173 finished with value: 0.43588350017456 and parameters: {'n_estimators': 92, 'learning_rate': 0.22307382488850613, 'max_depth': 10, 'subsample': 0.17057130810156246}. Best is trial 128 with value: 0.5208783110475323.\n",
      "[I 2024-11-20 21:07:48,285] Trial 175 finished with value: 0.5098625074577472 and parameters: {'n_estimators': 120, 'learning_rate': 0.21373336605670032, 'max_depth': 10, 'subsample': 0.1673964853405139}. Best is trial 128 with value: 0.5208783110475323.\n",
      "[I 2024-11-20 21:07:48,410] Trial 177 finished with value: 0.5423268560674351 and parameters: {'n_estimators': 114, 'learning_rate': 0.21035104143589986, 'max_depth': 10, 'subsample': 0.16559463596415397}. Best is trial 177 with value: 0.5423268560674351.\n",
      "[I 2024-11-20 21:07:48,441] Trial 176 finished with value: 0.43696826581712533 and parameters: {'n_estimators': 115, 'learning_rate': 0.20560749813336845, 'max_depth': 10, 'subsample': 0.12617808872462585}. Best is trial 177 with value: 0.5423268560674351.\n",
      "[I 2024-11-20 21:07:48,578] Trial 178 finished with value: 0.5501821521748056 and parameters: {'n_estimators': 54, 'learning_rate': 0.21656322182320809, 'max_depth': 10, 'subsample': 0.1652472013127238}. Best is trial 178 with value: 0.5501821521748056.\n",
      "[I 2024-11-20 21:07:48,741] Trial 180 finished with value: 0.45786900739359293 and parameters: {'n_estimators': 54, 'learning_rate': 0.1613904292401156, 'max_depth': 10, 'subsample': 0.14307610645814706}. Best is trial 178 with value: 0.5501821521748056.\n",
      "[I 2024-11-20 21:07:48,811] Trial 179 finished with value: 0.4334473822230779 and parameters: {'n_estimators': 79, 'learning_rate': 0.16275415090416953, 'max_depth': 10, 'subsample': 0.19604932407356174}. Best is trial 178 with value: 0.5501821521748056.\n",
      "[I 2024-11-20 21:07:49,085] Trial 182 finished with value: 0.445113387290374 and parameters: {'n_estimators': 54, 'learning_rate': 0.1637748903997603, 'max_depth': 10, 'subsample': 0.14180476561069003}. Best is trial 178 with value: 0.5501821521748056.\n",
      "[I 2024-11-20 21:07:49,089] Trial 181 finished with value: 0.39809165929133716 and parameters: {'n_estimators': 78, 'learning_rate': 0.16329209920755272, 'max_depth': 10, 'subsample': 0.33852584220567594}. Best is trial 178 with value: 0.5501821521748056.\n",
      "[I 2024-11-20 21:07:49,345] Trial 183 finished with value: 0.40844810100941586 and parameters: {'n_estimators': 78, 'learning_rate': 0.20687079989094467, 'max_depth': 10, 'subsample': 0.1427263617917475}. Best is trial 178 with value: 0.5501821521748056.\n",
      "[I 2024-11-20 21:07:49,624] Trial 186 finished with value: 0.39514551835091205 and parameters: {'n_estimators': 120, 'learning_rate': 0.19359305036858332, 'max_depth': 8, 'subsample': 0.05771793453262613}. Best is trial 178 with value: 0.5501821521748056.\n",
      "[I 2024-11-20 21:07:49,697] Trial 184 finished with value: 0.39963937772274305 and parameters: {'n_estimators': 115, 'learning_rate': 0.20907737037977442, 'max_depth': 10, 'subsample': 0.19743062869306366}. Best is trial 178 with value: 0.5501821521748056.\n",
      "[I 2024-11-20 21:07:49,855] Trial 185 finished with value: 0.46677184979371866 and parameters: {'n_estimators': 120, 'learning_rate': 0.18958432798110456, 'max_depth': 10, 'subsample': 0.1981346307258434}. Best is trial 178 with value: 0.5501821521748056.\n",
      "[I 2024-11-20 21:07:49,966] Trial 188 finished with value: 0.4772213552612443 and parameters: {'n_estimators': 119, 'learning_rate': 0.19807748136338055, 'max_depth': 8, 'subsample': 0.16164828416304636}. Best is trial 178 with value: 0.5501821521748056.\n",
      "[I 2024-11-20 21:07:50,316] Trial 187 finished with value: 0.47841438670617775 and parameters: {'n_estimators': 79, 'learning_rate': 0.19109872687821444, 'max_depth': 8, 'subsample': 0.19497231403691698}. Best is trial 178 with value: 0.5501821521748056.\n",
      "[I 2024-11-20 21:07:50,469] Trial 189 finished with value: 0.4213850864542482 and parameters: {'n_estimators': 113, 'learning_rate': 0.2510462881787852, 'max_depth': 10, 'subsample': 0.05705139220483105}. Best is trial 178 with value: 0.5501821521748056.\n",
      "[I 2024-11-20 21:07:50,784] Trial 191 finished with value: 0.4774157813973875 and parameters: {'n_estimators': 114, 'learning_rate': 0.19572980486564157, 'max_depth': 10, 'subsample': 0.16161342431796}. Best is trial 178 with value: 0.5501821521748056.\n",
      "[I 2024-11-20 21:07:50,799] Trial 190 finished with value: 0.4605166560090299 and parameters: {'n_estimators': 106, 'learning_rate': 0.19054705697275356, 'max_depth': 10, 'subsample': 0.194926825399696}. Best is trial 178 with value: 0.5501821521748056.\n",
      "[I 2024-11-20 21:07:51,072] Trial 193 finished with value: 0.43835675479880465 and parameters: {'n_estimators': 113, 'learning_rate': 0.2463254915016684, 'max_depth': 10, 'subsample': 0.16417102259801056}. Best is trial 178 with value: 0.5501821521748056.\n",
      "[I 2024-11-20 21:07:51,094] Trial 194 finished with value: 0.5063506221836785 and parameters: {'n_estimators': 51, 'learning_rate': 0.2605269952939436, 'max_depth': 10, 'subsample': 0.16268568135537845}. Best is trial 178 with value: 0.5501821521748056.\n",
      "[I 2024-11-20 21:07:51,104] Trial 192 finished with value: 0.42442626284138174 and parameters: {'n_estimators': 113, 'learning_rate': 0.24550516940792447, 'max_depth': 10, 'subsample': 0.19919613526685995}. Best is trial 178 with value: 0.5501821521748056.\n",
      "[I 2024-11-20 21:07:51,188] Trial 195 finished with value: 0.49331095122563384 and parameters: {'n_estimators': 113, 'learning_rate': 0.25720500119465056, 'max_depth': 10, 'subsample': 0.16365994037949513}. Best is trial 178 with value: 0.5501821521748056.\n",
      "[I 2024-11-20 21:07:51,232] Trial 196 finished with value: 0.49622190898587115 and parameters: {'n_estimators': 116, 'learning_rate': 0.25202126870331937, 'max_depth': 10, 'subsample': 0.1631317524670121}. Best is trial 178 with value: 0.5501821521748056.\n",
      "[I 2024-11-20 21:07:51,272] Trial 197 finished with value: 0.4077769822901919 and parameters: {'n_estimators': 116, 'learning_rate': 0.47689206781918786, 'max_depth': 10, 'subsample': 0.16398852068810768}. Best is trial 178 with value: 0.5501821521748056.\n",
      "[I 2024-11-20 21:07:51,351] Trial 198 finished with value: 0.41346628768637517 and parameters: {'n_estimators': 57, 'learning_rate': 0.47886242955811914, 'max_depth': 10, 'subsample': 0.16414560305858417}. Best is trial 178 with value: 0.5501821521748056.\n",
      "[I 2024-11-20 21:07:51,361] Trial 199 finished with value: 0.47640170012877325 and parameters: {'n_estimators': 59, 'learning_rate': 0.4786634177751292, 'max_depth': 10, 'subsample': 0.16640923452217565}. Best is trial 178 with value: 0.5501821521748056.\n"
     ]
    }
   ],
   "source": [
    "def objective(trial,\n",
    "    X,\n",
    "    y,\n",
    "    random_state=22,\n",
    "    n_splits=3,\n",
    "    n_repeats=2,\n",
    "    n_jobs=-1,\n",
    "              ):\n",
    "    \n",
    "    param = {\n",
    "        \"objective\": \"reg:squarederror\",\n",
    "        \"tree_method\":'hist',\n",
    "        'n_estimators': trial.suggest_int('n_estimators', 50, 120),\n",
    "        \"verbosity\": 1,\n",
    "        \"learning_rate\": trial.suggest_float(\"learning_rate\", 0.05, 0.5, log=True),\n",
    "        \"max_depth\": trial.suggest_int(\"max_depth\", 3, 10),\n",
    "        \"subsample\": trial.suggest_float(\"subsample\", 0.05, 0.9,log=True),\n",
    "        \"n_jobs\": n_jobs,\n",
    "    }\n",
    "    \n",
    "    model = xgb.XGBRegressor(**param, eval_metric=\"rmse\",early_stopping_rounds = EARLY_STOPPING_ROUNDS)\n",
    "    rkf = RepeatedKFold(n_splits=n_splits, n_repeats=n_repeats, random_state=random_state)\n",
    "    X_values = X.values\n",
    "    y_values = y.values\n",
    "    y_pred = np.zeros_like(y_values)\n",
    "\n",
    "    for train_index, test_index in rkf.split(X_values):\n",
    "        X_A, X_B = X_values[train_index, :], X_values[test_index, :]\n",
    "        y_A, y_B = y_values[train_index], y_values[test_index]\n",
    "        model.fit(X_A, y_A, eval_set=[(X_B, y_B)], verbose=0,)\n",
    "        y_pred[test_index] += model.predict(X_B)\n",
    "    y_pred /= n_repeats\n",
    "    r2 = r2_score(y_true = y_train, y_pred = y_pred)\n",
    "    \n",
    "    return r2\n",
    "\n",
    "\n",
    "sampler = TPESampler(seed=10)  # Make the sampler behave in a deterministic way.\n",
    "study = optuna.create_study(sampler = sampler, direction='maximize')\n",
    "study.optimize(\n",
    "    lambda trial: objective(\n",
    "        trial,\n",
    "        X_train,\n",
    "        y_train,\n",
    "        random_state=RS,\n",
    "        n_splits=N_SPLITS,\n",
    "        n_repeats=N_REPEATS,\n",
    "        n_jobs=N_JOBS,\n",
    "    ),\n",
    "    n_trials=N_TRIALS,\n",
    "    n_jobs=N_JOBS,\n",
    ")"
   ]
  },
  {
   "cell_type": "code",
   "execution_count": 10,
   "id": "43040a6d",
   "metadata": {},
   "outputs": [
    {
     "data": {
      "application/vnd.plotly.v1+json": {
       "config": {
        "plotlyServerURL": "https://plot.ly"
       },
       "data": [
        {
         "mode": "markers",
         "name": "Objective Value",
         "type": "scatter",
         "x": [
          0,
          1,
          2,
          3,
          4,
          5,
          6,
          7,
          8,
          9,
          10,
          11,
          12,
          13,
          14,
          15,
          16,
          17,
          18,
          19,
          20,
          21,
          22,
          23,
          24,
          25,
          26,
          27,
          28,
          29,
          30,
          31,
          32,
          33,
          34,
          35,
          36,
          37,
          38,
          39,
          40,
          41,
          42,
          43,
          44,
          45,
          46,
          47,
          48,
          49,
          50,
          51,
          52,
          53,
          54,
          55,
          56,
          57,
          58,
          59,
          60,
          61,
          62,
          63,
          64,
          65,
          66,
          67,
          68,
          69,
          70,
          71,
          72,
          73,
          74,
          75,
          76,
          77,
          78,
          79,
          80,
          81,
          82,
          83,
          84,
          85,
          86,
          87,
          88,
          89,
          90,
          91,
          92,
          93,
          94,
          95,
          96,
          97,
          98,
          99,
          100,
          101,
          102,
          103,
          104,
          105,
          106,
          107,
          108,
          109,
          110,
          111,
          112,
          113,
          114,
          115,
          116,
          117,
          118,
          119,
          120,
          121,
          122,
          123,
          124,
          125,
          126,
          127,
          128,
          129,
          130,
          131,
          132,
          133,
          134,
          135,
          136,
          137,
          138,
          139,
          140,
          141,
          142,
          143,
          144,
          145,
          146,
          147,
          148,
          149,
          150,
          151,
          152,
          153,
          154,
          155,
          156,
          157,
          158,
          159,
          160,
          161,
          162,
          163,
          164,
          165,
          166,
          167,
          168,
          169,
          170,
          171,
          172,
          173,
          174,
          175,
          176,
          177,
          178,
          179,
          180,
          181,
          182,
          183,
          184,
          185,
          186,
          187,
          188,
          189,
          190,
          191,
          192,
          193,
          194,
          195,
          196,
          197,
          198,
          199
         ],
         "y": [
          0.46442507376406605,
          0.33344581252046657,
          0.3861599326083045,
          0.35633324107832254,
          0.44643650704941673,
          0.4478610015941552,
          0.3357375016453207,
          0.4823649543723092,
          0.4520559809345206,
          0.4066991850747401,
          0.36122419254490157,
          0.3363295187707446,
          0.38315552841437006,
          0.39672280589129716,
          0.3419892820852728,
          0.3491252134876136,
          0.35736617697093165,
          0.37682883053180016,
          0.3754594720953276,
          0.42096600071923806,
          0.3629426466353165,
          0.4278543446576425,
          0.46583041822986937,
          0.51391545420639,
          0.4164948356778594,
          0.44117559980783316,
          0.36967630718554956,
          0.37228845448506265,
          0.3954820287080857,
          0.38239822444635474,
          0.49907612381538613,
          0.44061418707371636,
          0.45585970789175834,
          0.44169155837223784,
          0.4492527007127126,
          0.44392627360598136,
          0.4523442622173498,
          0.46338709025634517,
          0.4268739993566969,
          0.4208155473401818,
          0.3975996228577715,
          0.43601170861777705,
          0.38961546121043844,
          0.350269784183206,
          0.3998986002288537,
          0.39004655707407787,
          0.4388698735353008,
          0.49108100476283645,
          0.43456268790466224,
          0.4017042570877144,
          0.43945331132430576,
          0.4084818588468553,
          0.43912506065788093,
          0.4765813933027647,
          0.46129088337126645,
          0.47409107945832407,
          0.46213439268532663,
          0.44027192153709016,
          0.37410832343854794,
          0.40247174436164423,
          0.4488191007078972,
          0.470258134902768,
          0.40027137983767525,
          0.49301440181498357,
          0.4505943352800774,
          0.45416707224818287,
          0.46422117967113985,
          0.4461510256693648,
          0.43140754938358217,
          0.44565511968228133,
          0.49808204520936206,
          0.451463617685693,
          0.4251796079259751,
          0.4882113400984631,
          0.4170298928305488,
          0.43091943490311946,
          0.3677781170594603,
          0.4851533365673356,
          0.3810754069922042,
          0.3946590856527502,
          0.36577103635452124,
          0.47338124215870003,
          0.48330635837915215,
          0.489320622653737,
          0.4888323244487298,
          0.466241259712855,
          0.4347675940454069,
          0.42917901943619563,
          0.495987475242856,
          0.49815782729082236,
          0.5133495853461563,
          0.40220349532426836,
          0.42914941724280653,
          0.44144661828446663,
          0.4835470219099539,
          0.4737680334099592,
          0.46235882806409634,
          0.45272012780211635,
          0.4817178600565707,
          0.44055550651856257,
          0.47945249986120486,
          0.36232069751604357,
          0.4245766975816532,
          0.481946955329993,
          0.4375027074070573,
          0.46077438259203307,
          0.43239048048506545,
          0.4736875102915328,
          0.4128261935775156,
          0.41620182121747185,
          0.44427031732894795,
          0.4469805408060695,
          0.4038240793726209,
          0.44955553667596204,
          0.39453538878753236,
          0.4280112359861178,
          0.37271705129086885,
          0.3892929634536294,
          0.4166495867245864,
          0.48745910182318597,
          0.3739388691487111,
          0.48668300054235347,
          0.36700740150616784,
          0.4648044481935806,
          0.46451246620958164,
          0.4351229580002275,
          0.4889986206389244,
          0.4857349613310521,
          0.5208783110475323,
          0.43686408895271167,
          0.5070564902986605,
          0.4537807353863511,
          0.4753478076259533,
          0.39682889946274325,
          0.5159880388827338,
          0.3033067904182575,
          0.3887154294326953,
          0.4572802491680624,
          0.3555896567006467,
          0.5010370905882211,
          0.3258450270227916,
          0.4336395029417418,
          0.40151081384585174,
          0.39315023348247446,
          0.3744072342392476,
          0.3585076852951875,
          0.41871172092563647,
          0.42493725584520314,
          0.42880993471150175,
          0.4738623846170995,
          0.46479322168849757,
          0.44397447856426253,
          0.4758373670813971,
          0.45665235993396514,
          0.46810086755399494,
          0.4553517540836146,
          0.46338204762965396,
          0.4997903482596482,
          0.49251928878449636,
          0.49986532703581343,
          0.46863595320340545,
          0.39510924282460913,
          0.4452581716292119,
          0.4314022809995429,
          0.4661513822352764,
          0.4790701594801775,
          0.4294152185566892,
          0.48523725859917255,
          0.4476406697467519,
          0.45117844737560175,
          0.410685177139542,
          0.48451406852311607,
          0.4846075566833512,
          0.43588350017456,
          0.4597770864691939,
          0.5098625074577472,
          0.43696826581712533,
          0.5423268560674351,
          0.5501821521748056,
          0.4334473822230779,
          0.45786900739359293,
          0.39809165929133716,
          0.445113387290374,
          0.40844810100941586,
          0.39963937772274305,
          0.46677184979371866,
          0.39514551835091205,
          0.47841438670617775,
          0.4772213552612443,
          0.4213850864542482,
          0.4605166560090299,
          0.4774157813973875,
          0.42442626284138174,
          0.43835675479880465,
          0.5063506221836785,
          0.49331095122563384,
          0.49622190898587115,
          0.4077769822901919,
          0.41346628768637517,
          0.47640170012877325
         ]
        },
        {
         "mode": "lines",
         "name": "Best Value",
         "type": "scatter",
         "x": [
          0,
          1,
          2,
          3,
          4,
          5,
          6,
          7,
          8,
          9,
          10,
          11,
          12,
          13,
          14,
          15,
          16,
          17,
          18,
          19,
          20,
          21,
          22,
          23,
          24,
          25,
          26,
          27,
          28,
          29,
          30,
          31,
          32,
          33,
          34,
          35,
          36,
          37,
          38,
          39,
          40,
          41,
          42,
          43,
          44,
          45,
          46,
          47,
          48,
          49,
          50,
          51,
          52,
          53,
          54,
          55,
          56,
          57,
          58,
          59,
          60,
          61,
          62,
          63,
          64,
          65,
          66,
          67,
          68,
          69,
          70,
          71,
          72,
          73,
          74,
          75,
          76,
          77,
          78,
          79,
          80,
          81,
          82,
          83,
          84,
          85,
          86,
          87,
          88,
          89,
          90,
          91,
          92,
          93,
          94,
          95,
          96,
          97,
          98,
          99,
          100,
          101,
          102,
          103,
          104,
          105,
          106,
          107,
          108,
          109,
          110,
          111,
          112,
          113,
          114,
          115,
          116,
          117,
          118,
          119,
          120,
          121,
          122,
          123,
          124,
          125,
          126,
          127,
          128,
          129,
          130,
          131,
          132,
          133,
          134,
          135,
          136,
          137,
          138,
          139,
          140,
          141,
          142,
          143,
          144,
          145,
          146,
          147,
          148,
          149,
          150,
          151,
          152,
          153,
          154,
          155,
          156,
          157,
          158,
          159,
          160,
          161,
          162,
          163,
          164,
          165,
          166,
          167,
          168,
          169,
          170,
          171,
          172,
          173,
          174,
          175,
          176,
          177,
          178,
          179,
          180,
          181,
          182,
          183,
          184,
          185,
          186,
          187,
          188,
          189,
          190,
          191,
          192,
          193,
          194,
          195,
          196,
          197,
          198,
          199
         ],
         "y": [
          0.46442507376406605,
          0.46442507376406605,
          0.46442507376406605,
          0.46442507376406605,
          0.46442507376406605,
          0.46442507376406605,
          0.46442507376406605,
          0.4823649543723092,
          0.4823649543723092,
          0.4823649543723092,
          0.4823649543723092,
          0.4823649543723092,
          0.4823649543723092,
          0.4823649543723092,
          0.4823649543723092,
          0.4823649543723092,
          0.4823649543723092,
          0.4823649543723092,
          0.4823649543723092,
          0.4823649543723092,
          0.4823649543723092,
          0.4823649543723092,
          0.4823649543723092,
          0.51391545420639,
          0.51391545420639,
          0.51391545420639,
          0.51391545420639,
          0.51391545420639,
          0.51391545420639,
          0.51391545420639,
          0.51391545420639,
          0.51391545420639,
          0.51391545420639,
          0.51391545420639,
          0.51391545420639,
          0.51391545420639,
          0.51391545420639,
          0.51391545420639,
          0.51391545420639,
          0.51391545420639,
          0.51391545420639,
          0.51391545420639,
          0.51391545420639,
          0.51391545420639,
          0.51391545420639,
          0.51391545420639,
          0.51391545420639,
          0.51391545420639,
          0.51391545420639,
          0.51391545420639,
          0.51391545420639,
          0.51391545420639,
          0.51391545420639,
          0.51391545420639,
          0.51391545420639,
          0.51391545420639,
          0.51391545420639,
          0.51391545420639,
          0.51391545420639,
          0.51391545420639,
          0.51391545420639,
          0.51391545420639,
          0.51391545420639,
          0.51391545420639,
          0.51391545420639,
          0.51391545420639,
          0.51391545420639,
          0.51391545420639,
          0.51391545420639,
          0.51391545420639,
          0.51391545420639,
          0.51391545420639,
          0.51391545420639,
          0.51391545420639,
          0.51391545420639,
          0.51391545420639,
          0.51391545420639,
          0.51391545420639,
          0.51391545420639,
          0.51391545420639,
          0.51391545420639,
          0.51391545420639,
          0.51391545420639,
          0.51391545420639,
          0.51391545420639,
          0.51391545420639,
          0.51391545420639,
          0.51391545420639,
          0.51391545420639,
          0.51391545420639,
          0.51391545420639,
          0.51391545420639,
          0.51391545420639,
          0.51391545420639,
          0.51391545420639,
          0.51391545420639,
          0.51391545420639,
          0.51391545420639,
          0.51391545420639,
          0.51391545420639,
          0.51391545420639,
          0.51391545420639,
          0.51391545420639,
          0.51391545420639,
          0.51391545420639,
          0.51391545420639,
          0.51391545420639,
          0.51391545420639,
          0.51391545420639,
          0.51391545420639,
          0.51391545420639,
          0.51391545420639,
          0.51391545420639,
          0.51391545420639,
          0.51391545420639,
          0.51391545420639,
          0.51391545420639,
          0.51391545420639,
          0.51391545420639,
          0.51391545420639,
          0.51391545420639,
          0.51391545420639,
          0.51391545420639,
          0.51391545420639,
          0.51391545420639,
          0.51391545420639,
          0.51391545420639,
          0.51391545420639,
          0.5208783110475323,
          0.5208783110475323,
          0.5208783110475323,
          0.5208783110475323,
          0.5208783110475323,
          0.5208783110475323,
          0.5208783110475323,
          0.5208783110475323,
          0.5208783110475323,
          0.5208783110475323,
          0.5208783110475323,
          0.5208783110475323,
          0.5208783110475323,
          0.5208783110475323,
          0.5208783110475323,
          0.5208783110475323,
          0.5208783110475323,
          0.5208783110475323,
          0.5208783110475323,
          0.5208783110475323,
          0.5208783110475323,
          0.5208783110475323,
          0.5208783110475323,
          0.5208783110475323,
          0.5208783110475323,
          0.5208783110475323,
          0.5208783110475323,
          0.5208783110475323,
          0.5208783110475323,
          0.5208783110475323,
          0.5208783110475323,
          0.5208783110475323,
          0.5208783110475323,
          0.5208783110475323,
          0.5208783110475323,
          0.5208783110475323,
          0.5208783110475323,
          0.5208783110475323,
          0.5208783110475323,
          0.5208783110475323,
          0.5208783110475323,
          0.5208783110475323,
          0.5208783110475323,
          0.5208783110475323,
          0.5208783110475323,
          0.5208783110475323,
          0.5208783110475323,
          0.5208783110475323,
          0.5208783110475323,
          0.5423268560674351,
          0.5501821521748056,
          0.5501821521748056,
          0.5501821521748056,
          0.5501821521748056,
          0.5501821521748056,
          0.5501821521748056,
          0.5501821521748056,
          0.5501821521748056,
          0.5501821521748056,
          0.5501821521748056,
          0.5501821521748056,
          0.5501821521748056,
          0.5501821521748056,
          0.5501821521748056,
          0.5501821521748056,
          0.5501821521748056,
          0.5501821521748056,
          0.5501821521748056,
          0.5501821521748056,
          0.5501821521748056,
          0.5501821521748056,
          0.5501821521748056
         ]
        },
        {
         "marker": {
          "color": "#cccccc"
         },
         "mode": "markers",
         "name": "Infeasible Trial",
         "showlegend": false,
         "type": "scatter",
         "x": [],
         "y": []
        }
       ],
       "layout": {
        "template": {
         "data": {
          "bar": [
           {
            "error_x": {
             "color": "#2a3f5f"
            },
            "error_y": {
             "color": "#2a3f5f"
            },
            "marker": {
             "line": {
              "color": "#E5ECF6",
              "width": 0.5
             },
             "pattern": {
              "fillmode": "overlay",
              "size": 10,
              "solidity": 0.2
             }
            },
            "type": "bar"
           }
          ],
          "barpolar": [
           {
            "marker": {
             "line": {
              "color": "#E5ECF6",
              "width": 0.5
             },
             "pattern": {
              "fillmode": "overlay",
              "size": 10,
              "solidity": 0.2
             }
            },
            "type": "barpolar"
           }
          ],
          "carpet": [
           {
            "aaxis": {
             "endlinecolor": "#2a3f5f",
             "gridcolor": "white",
             "linecolor": "white",
             "minorgridcolor": "white",
             "startlinecolor": "#2a3f5f"
            },
            "baxis": {
             "endlinecolor": "#2a3f5f",
             "gridcolor": "white",
             "linecolor": "white",
             "minorgridcolor": "white",
             "startlinecolor": "#2a3f5f"
            },
            "type": "carpet"
           }
          ],
          "choropleth": [
           {
            "colorbar": {
             "outlinewidth": 0,
             "ticks": ""
            },
            "type": "choropleth"
           }
          ],
          "contour": [
           {
            "colorbar": {
             "outlinewidth": 0,
             "ticks": ""
            },
            "colorscale": [
             [
              0,
              "#0d0887"
             ],
             [
              0.1111111111111111,
              "#46039f"
             ],
             [
              0.2222222222222222,
              "#7201a8"
             ],
             [
              0.3333333333333333,
              "#9c179e"
             ],
             [
              0.4444444444444444,
              "#bd3786"
             ],
             [
              0.5555555555555556,
              "#d8576b"
             ],
             [
              0.6666666666666666,
              "#ed7953"
             ],
             [
              0.7777777777777778,
              "#fb9f3a"
             ],
             [
              0.8888888888888888,
              "#fdca26"
             ],
             [
              1,
              "#f0f921"
             ]
            ],
            "type": "contour"
           }
          ],
          "contourcarpet": [
           {
            "colorbar": {
             "outlinewidth": 0,
             "ticks": ""
            },
            "type": "contourcarpet"
           }
          ],
          "heatmap": [
           {
            "colorbar": {
             "outlinewidth": 0,
             "ticks": ""
            },
            "colorscale": [
             [
              0,
              "#0d0887"
             ],
             [
              0.1111111111111111,
              "#46039f"
             ],
             [
              0.2222222222222222,
              "#7201a8"
             ],
             [
              0.3333333333333333,
              "#9c179e"
             ],
             [
              0.4444444444444444,
              "#bd3786"
             ],
             [
              0.5555555555555556,
              "#d8576b"
             ],
             [
              0.6666666666666666,
              "#ed7953"
             ],
             [
              0.7777777777777778,
              "#fb9f3a"
             ],
             [
              0.8888888888888888,
              "#fdca26"
             ],
             [
              1,
              "#f0f921"
             ]
            ],
            "type": "heatmap"
           }
          ],
          "heatmapgl": [
           {
            "colorbar": {
             "outlinewidth": 0,
             "ticks": ""
            },
            "colorscale": [
             [
              0,
              "#0d0887"
             ],
             [
              0.1111111111111111,
              "#46039f"
             ],
             [
              0.2222222222222222,
              "#7201a8"
             ],
             [
              0.3333333333333333,
              "#9c179e"
             ],
             [
              0.4444444444444444,
              "#bd3786"
             ],
             [
              0.5555555555555556,
              "#d8576b"
             ],
             [
              0.6666666666666666,
              "#ed7953"
             ],
             [
              0.7777777777777778,
              "#fb9f3a"
             ],
             [
              0.8888888888888888,
              "#fdca26"
             ],
             [
              1,
              "#f0f921"
             ]
            ],
            "type": "heatmapgl"
           }
          ],
          "histogram": [
           {
            "marker": {
             "pattern": {
              "fillmode": "overlay",
              "size": 10,
              "solidity": 0.2
             }
            },
            "type": "histogram"
           }
          ],
          "histogram2d": [
           {
            "colorbar": {
             "outlinewidth": 0,
             "ticks": ""
            },
            "colorscale": [
             [
              0,
              "#0d0887"
             ],
             [
              0.1111111111111111,
              "#46039f"
             ],
             [
              0.2222222222222222,
              "#7201a8"
             ],
             [
              0.3333333333333333,
              "#9c179e"
             ],
             [
              0.4444444444444444,
              "#bd3786"
             ],
             [
              0.5555555555555556,
              "#d8576b"
             ],
             [
              0.6666666666666666,
              "#ed7953"
             ],
             [
              0.7777777777777778,
              "#fb9f3a"
             ],
             [
              0.8888888888888888,
              "#fdca26"
             ],
             [
              1,
              "#f0f921"
             ]
            ],
            "type": "histogram2d"
           }
          ],
          "histogram2dcontour": [
           {
            "colorbar": {
             "outlinewidth": 0,
             "ticks": ""
            },
            "colorscale": [
             [
              0,
              "#0d0887"
             ],
             [
              0.1111111111111111,
              "#46039f"
             ],
             [
              0.2222222222222222,
              "#7201a8"
             ],
             [
              0.3333333333333333,
              "#9c179e"
             ],
             [
              0.4444444444444444,
              "#bd3786"
             ],
             [
              0.5555555555555556,
              "#d8576b"
             ],
             [
              0.6666666666666666,
              "#ed7953"
             ],
             [
              0.7777777777777778,
              "#fb9f3a"
             ],
             [
              0.8888888888888888,
              "#fdca26"
             ],
             [
              1,
              "#f0f921"
             ]
            ],
            "type": "histogram2dcontour"
           }
          ],
          "mesh3d": [
           {
            "colorbar": {
             "outlinewidth": 0,
             "ticks": ""
            },
            "type": "mesh3d"
           }
          ],
          "parcoords": [
           {
            "line": {
             "colorbar": {
              "outlinewidth": 0,
              "ticks": ""
             }
            },
            "type": "parcoords"
           }
          ],
          "pie": [
           {
            "automargin": true,
            "type": "pie"
           }
          ],
          "scatter": [
           {
            "fillpattern": {
             "fillmode": "overlay",
             "size": 10,
             "solidity": 0.2
            },
            "type": "scatter"
           }
          ],
          "scatter3d": [
           {
            "line": {
             "colorbar": {
              "outlinewidth": 0,
              "ticks": ""
             }
            },
            "marker": {
             "colorbar": {
              "outlinewidth": 0,
              "ticks": ""
             }
            },
            "type": "scatter3d"
           }
          ],
          "scattercarpet": [
           {
            "marker": {
             "colorbar": {
              "outlinewidth": 0,
              "ticks": ""
             }
            },
            "type": "scattercarpet"
           }
          ],
          "scattergeo": [
           {
            "marker": {
             "colorbar": {
              "outlinewidth": 0,
              "ticks": ""
             }
            },
            "type": "scattergeo"
           }
          ],
          "scattergl": [
           {
            "marker": {
             "colorbar": {
              "outlinewidth": 0,
              "ticks": ""
             }
            },
            "type": "scattergl"
           }
          ],
          "scattermapbox": [
           {
            "marker": {
             "colorbar": {
              "outlinewidth": 0,
              "ticks": ""
             }
            },
            "type": "scattermapbox"
           }
          ],
          "scatterpolar": [
           {
            "marker": {
             "colorbar": {
              "outlinewidth": 0,
              "ticks": ""
             }
            },
            "type": "scatterpolar"
           }
          ],
          "scatterpolargl": [
           {
            "marker": {
             "colorbar": {
              "outlinewidth": 0,
              "ticks": ""
             }
            },
            "type": "scatterpolargl"
           }
          ],
          "scatterternary": [
           {
            "marker": {
             "colorbar": {
              "outlinewidth": 0,
              "ticks": ""
             }
            },
            "type": "scatterternary"
           }
          ],
          "surface": [
           {
            "colorbar": {
             "outlinewidth": 0,
             "ticks": ""
            },
            "colorscale": [
             [
              0,
              "#0d0887"
             ],
             [
              0.1111111111111111,
              "#46039f"
             ],
             [
              0.2222222222222222,
              "#7201a8"
             ],
             [
              0.3333333333333333,
              "#9c179e"
             ],
             [
              0.4444444444444444,
              "#bd3786"
             ],
             [
              0.5555555555555556,
              "#d8576b"
             ],
             [
              0.6666666666666666,
              "#ed7953"
             ],
             [
              0.7777777777777778,
              "#fb9f3a"
             ],
             [
              0.8888888888888888,
              "#fdca26"
             ],
             [
              1,
              "#f0f921"
             ]
            ],
            "type": "surface"
           }
          ],
          "table": [
           {
            "cells": {
             "fill": {
              "color": "#EBF0F8"
             },
             "line": {
              "color": "white"
             }
            },
            "header": {
             "fill": {
              "color": "#C8D4E3"
             },
             "line": {
              "color": "white"
             }
            },
            "type": "table"
           }
          ]
         },
         "layout": {
          "annotationdefaults": {
           "arrowcolor": "#2a3f5f",
           "arrowhead": 0,
           "arrowwidth": 1
          },
          "autotypenumbers": "strict",
          "coloraxis": {
           "colorbar": {
            "outlinewidth": 0,
            "ticks": ""
           }
          },
          "colorscale": {
           "diverging": [
            [
             0,
             "#8e0152"
            ],
            [
             0.1,
             "#c51b7d"
            ],
            [
             0.2,
             "#de77ae"
            ],
            [
             0.3,
             "#f1b6da"
            ],
            [
             0.4,
             "#fde0ef"
            ],
            [
             0.5,
             "#f7f7f7"
            ],
            [
             0.6,
             "#e6f5d0"
            ],
            [
             0.7,
             "#b8e186"
            ],
            [
             0.8,
             "#7fbc41"
            ],
            [
             0.9,
             "#4d9221"
            ],
            [
             1,
             "#276419"
            ]
           ],
           "sequential": [
            [
             0,
             "#0d0887"
            ],
            [
             0.1111111111111111,
             "#46039f"
            ],
            [
             0.2222222222222222,
             "#7201a8"
            ],
            [
             0.3333333333333333,
             "#9c179e"
            ],
            [
             0.4444444444444444,
             "#bd3786"
            ],
            [
             0.5555555555555556,
             "#d8576b"
            ],
            [
             0.6666666666666666,
             "#ed7953"
            ],
            [
             0.7777777777777778,
             "#fb9f3a"
            ],
            [
             0.8888888888888888,
             "#fdca26"
            ],
            [
             1,
             "#f0f921"
            ]
           ],
           "sequentialminus": [
            [
             0,
             "#0d0887"
            ],
            [
             0.1111111111111111,
             "#46039f"
            ],
            [
             0.2222222222222222,
             "#7201a8"
            ],
            [
             0.3333333333333333,
             "#9c179e"
            ],
            [
             0.4444444444444444,
             "#bd3786"
            ],
            [
             0.5555555555555556,
             "#d8576b"
            ],
            [
             0.6666666666666666,
             "#ed7953"
            ],
            [
             0.7777777777777778,
             "#fb9f3a"
            ],
            [
             0.8888888888888888,
             "#fdca26"
            ],
            [
             1,
             "#f0f921"
            ]
           ]
          },
          "colorway": [
           "#636efa",
           "#EF553B",
           "#00cc96",
           "#ab63fa",
           "#FFA15A",
           "#19d3f3",
           "#FF6692",
           "#B6E880",
           "#FF97FF",
           "#FECB52"
          ],
          "font": {
           "color": "#2a3f5f"
          },
          "geo": {
           "bgcolor": "white",
           "lakecolor": "white",
           "landcolor": "#E5ECF6",
           "showlakes": true,
           "showland": true,
           "subunitcolor": "white"
          },
          "hoverlabel": {
           "align": "left"
          },
          "hovermode": "closest",
          "mapbox": {
           "style": "light"
          },
          "paper_bgcolor": "white",
          "plot_bgcolor": "#E5ECF6",
          "polar": {
           "angularaxis": {
            "gridcolor": "white",
            "linecolor": "white",
            "ticks": ""
           },
           "bgcolor": "#E5ECF6",
           "radialaxis": {
            "gridcolor": "white",
            "linecolor": "white",
            "ticks": ""
           }
          },
          "scene": {
           "xaxis": {
            "backgroundcolor": "#E5ECF6",
            "gridcolor": "white",
            "gridwidth": 2,
            "linecolor": "white",
            "showbackground": true,
            "ticks": "",
            "zerolinecolor": "white"
           },
           "yaxis": {
            "backgroundcolor": "#E5ECF6",
            "gridcolor": "white",
            "gridwidth": 2,
            "linecolor": "white",
            "showbackground": true,
            "ticks": "",
            "zerolinecolor": "white"
           },
           "zaxis": {
            "backgroundcolor": "#E5ECF6",
            "gridcolor": "white",
            "gridwidth": 2,
            "linecolor": "white",
            "showbackground": true,
            "ticks": "",
            "zerolinecolor": "white"
           }
          },
          "shapedefaults": {
           "line": {
            "color": "#2a3f5f"
           }
          },
          "ternary": {
           "aaxis": {
            "gridcolor": "white",
            "linecolor": "white",
            "ticks": ""
           },
           "baxis": {
            "gridcolor": "white",
            "linecolor": "white",
            "ticks": ""
           },
           "bgcolor": "#E5ECF6",
           "caxis": {
            "gridcolor": "white",
            "linecolor": "white",
            "ticks": ""
           }
          },
          "title": {
           "x": 0.05
          },
          "xaxis": {
           "automargin": true,
           "gridcolor": "white",
           "linecolor": "white",
           "ticks": "",
           "title": {
            "standoff": 15
           },
           "zerolinecolor": "white",
           "zerolinewidth": 2
          },
          "yaxis": {
           "automargin": true,
           "gridcolor": "white",
           "linecolor": "white",
           "ticks": "",
           "title": {
            "standoff": 15
           },
           "zerolinecolor": "white",
           "zerolinewidth": 2
          }
         }
        },
        "title": {
         "text": "Optimization History Plot"
        },
        "xaxis": {
         "title": {
          "text": "Trial"
         }
        },
        "yaxis": {
         "title": {
          "text": "Objective Value"
         }
        }
       }
      }
     },
     "metadata": {},
     "output_type": "display_data"
    }
   ],
   "source": [
    "# Plot optimization history\n",
    "plot_optimization_history(study)"
   ]
  },
  {
   "cell_type": "code",
   "execution_count": 11,
   "id": "07037d73",
   "metadata": {},
   "outputs": [
    {
     "data": {
      "application/vnd.plotly.v1+json": {
       "config": {
        "plotlyServerURL": "https://plot.ly"
       },
       "data": [
        {
         "cliponaxis": false,
         "hovertemplate": [
          "max_depth (IntDistribution): 0.08231226126447469<extra></extra>",
          "n_estimators (IntDistribution): 0.09898147875892842<extra></extra>",
          "learning_rate (FloatDistribution): 0.14236757354940663<extra></extra>",
          "subsample (FloatDistribution): 0.6763386864271902<extra></extra>"
         ],
         "name": "Objective Value",
         "orientation": "h",
         "text": [
          "0.08",
          "0.10",
          "0.14",
          "0.68"
         ],
         "textposition": "outside",
         "type": "bar",
         "x": [
          0.08231226126447469,
          0.09898147875892842,
          0.14236757354940663,
          0.6763386864271902
         ],
         "y": [
          "max_depth",
          "n_estimators",
          "learning_rate",
          "subsample"
         ]
        }
       ],
       "layout": {
        "template": {
         "data": {
          "bar": [
           {
            "error_x": {
             "color": "#2a3f5f"
            },
            "error_y": {
             "color": "#2a3f5f"
            },
            "marker": {
             "line": {
              "color": "#E5ECF6",
              "width": 0.5
             },
             "pattern": {
              "fillmode": "overlay",
              "size": 10,
              "solidity": 0.2
             }
            },
            "type": "bar"
           }
          ],
          "barpolar": [
           {
            "marker": {
             "line": {
              "color": "#E5ECF6",
              "width": 0.5
             },
             "pattern": {
              "fillmode": "overlay",
              "size": 10,
              "solidity": 0.2
             }
            },
            "type": "barpolar"
           }
          ],
          "carpet": [
           {
            "aaxis": {
             "endlinecolor": "#2a3f5f",
             "gridcolor": "white",
             "linecolor": "white",
             "minorgridcolor": "white",
             "startlinecolor": "#2a3f5f"
            },
            "baxis": {
             "endlinecolor": "#2a3f5f",
             "gridcolor": "white",
             "linecolor": "white",
             "minorgridcolor": "white",
             "startlinecolor": "#2a3f5f"
            },
            "type": "carpet"
           }
          ],
          "choropleth": [
           {
            "colorbar": {
             "outlinewidth": 0,
             "ticks": ""
            },
            "type": "choropleth"
           }
          ],
          "contour": [
           {
            "colorbar": {
             "outlinewidth": 0,
             "ticks": ""
            },
            "colorscale": [
             [
              0,
              "#0d0887"
             ],
             [
              0.1111111111111111,
              "#46039f"
             ],
             [
              0.2222222222222222,
              "#7201a8"
             ],
             [
              0.3333333333333333,
              "#9c179e"
             ],
             [
              0.4444444444444444,
              "#bd3786"
             ],
             [
              0.5555555555555556,
              "#d8576b"
             ],
             [
              0.6666666666666666,
              "#ed7953"
             ],
             [
              0.7777777777777778,
              "#fb9f3a"
             ],
             [
              0.8888888888888888,
              "#fdca26"
             ],
             [
              1,
              "#f0f921"
             ]
            ],
            "type": "contour"
           }
          ],
          "contourcarpet": [
           {
            "colorbar": {
             "outlinewidth": 0,
             "ticks": ""
            },
            "type": "contourcarpet"
           }
          ],
          "heatmap": [
           {
            "colorbar": {
             "outlinewidth": 0,
             "ticks": ""
            },
            "colorscale": [
             [
              0,
              "#0d0887"
             ],
             [
              0.1111111111111111,
              "#46039f"
             ],
             [
              0.2222222222222222,
              "#7201a8"
             ],
             [
              0.3333333333333333,
              "#9c179e"
             ],
             [
              0.4444444444444444,
              "#bd3786"
             ],
             [
              0.5555555555555556,
              "#d8576b"
             ],
             [
              0.6666666666666666,
              "#ed7953"
             ],
             [
              0.7777777777777778,
              "#fb9f3a"
             ],
             [
              0.8888888888888888,
              "#fdca26"
             ],
             [
              1,
              "#f0f921"
             ]
            ],
            "type": "heatmap"
           }
          ],
          "heatmapgl": [
           {
            "colorbar": {
             "outlinewidth": 0,
             "ticks": ""
            },
            "colorscale": [
             [
              0,
              "#0d0887"
             ],
             [
              0.1111111111111111,
              "#46039f"
             ],
             [
              0.2222222222222222,
              "#7201a8"
             ],
             [
              0.3333333333333333,
              "#9c179e"
             ],
             [
              0.4444444444444444,
              "#bd3786"
             ],
             [
              0.5555555555555556,
              "#d8576b"
             ],
             [
              0.6666666666666666,
              "#ed7953"
             ],
             [
              0.7777777777777778,
              "#fb9f3a"
             ],
             [
              0.8888888888888888,
              "#fdca26"
             ],
             [
              1,
              "#f0f921"
             ]
            ],
            "type": "heatmapgl"
           }
          ],
          "histogram": [
           {
            "marker": {
             "pattern": {
              "fillmode": "overlay",
              "size": 10,
              "solidity": 0.2
             }
            },
            "type": "histogram"
           }
          ],
          "histogram2d": [
           {
            "colorbar": {
             "outlinewidth": 0,
             "ticks": ""
            },
            "colorscale": [
             [
              0,
              "#0d0887"
             ],
             [
              0.1111111111111111,
              "#46039f"
             ],
             [
              0.2222222222222222,
              "#7201a8"
             ],
             [
              0.3333333333333333,
              "#9c179e"
             ],
             [
              0.4444444444444444,
              "#bd3786"
             ],
             [
              0.5555555555555556,
              "#d8576b"
             ],
             [
              0.6666666666666666,
              "#ed7953"
             ],
             [
              0.7777777777777778,
              "#fb9f3a"
             ],
             [
              0.8888888888888888,
              "#fdca26"
             ],
             [
              1,
              "#f0f921"
             ]
            ],
            "type": "histogram2d"
           }
          ],
          "histogram2dcontour": [
           {
            "colorbar": {
             "outlinewidth": 0,
             "ticks": ""
            },
            "colorscale": [
             [
              0,
              "#0d0887"
             ],
             [
              0.1111111111111111,
              "#46039f"
             ],
             [
              0.2222222222222222,
              "#7201a8"
             ],
             [
              0.3333333333333333,
              "#9c179e"
             ],
             [
              0.4444444444444444,
              "#bd3786"
             ],
             [
              0.5555555555555556,
              "#d8576b"
             ],
             [
              0.6666666666666666,
              "#ed7953"
             ],
             [
              0.7777777777777778,
              "#fb9f3a"
             ],
             [
              0.8888888888888888,
              "#fdca26"
             ],
             [
              1,
              "#f0f921"
             ]
            ],
            "type": "histogram2dcontour"
           }
          ],
          "mesh3d": [
           {
            "colorbar": {
             "outlinewidth": 0,
             "ticks": ""
            },
            "type": "mesh3d"
           }
          ],
          "parcoords": [
           {
            "line": {
             "colorbar": {
              "outlinewidth": 0,
              "ticks": ""
             }
            },
            "type": "parcoords"
           }
          ],
          "pie": [
           {
            "automargin": true,
            "type": "pie"
           }
          ],
          "scatter": [
           {
            "fillpattern": {
             "fillmode": "overlay",
             "size": 10,
             "solidity": 0.2
            },
            "type": "scatter"
           }
          ],
          "scatter3d": [
           {
            "line": {
             "colorbar": {
              "outlinewidth": 0,
              "ticks": ""
             }
            },
            "marker": {
             "colorbar": {
              "outlinewidth": 0,
              "ticks": ""
             }
            },
            "type": "scatter3d"
           }
          ],
          "scattercarpet": [
           {
            "marker": {
             "colorbar": {
              "outlinewidth": 0,
              "ticks": ""
             }
            },
            "type": "scattercarpet"
           }
          ],
          "scattergeo": [
           {
            "marker": {
             "colorbar": {
              "outlinewidth": 0,
              "ticks": ""
             }
            },
            "type": "scattergeo"
           }
          ],
          "scattergl": [
           {
            "marker": {
             "colorbar": {
              "outlinewidth": 0,
              "ticks": ""
             }
            },
            "type": "scattergl"
           }
          ],
          "scattermapbox": [
           {
            "marker": {
             "colorbar": {
              "outlinewidth": 0,
              "ticks": ""
             }
            },
            "type": "scattermapbox"
           }
          ],
          "scatterpolar": [
           {
            "marker": {
             "colorbar": {
              "outlinewidth": 0,
              "ticks": ""
             }
            },
            "type": "scatterpolar"
           }
          ],
          "scatterpolargl": [
           {
            "marker": {
             "colorbar": {
              "outlinewidth": 0,
              "ticks": ""
             }
            },
            "type": "scatterpolargl"
           }
          ],
          "scatterternary": [
           {
            "marker": {
             "colorbar": {
              "outlinewidth": 0,
              "ticks": ""
             }
            },
            "type": "scatterternary"
           }
          ],
          "surface": [
           {
            "colorbar": {
             "outlinewidth": 0,
             "ticks": ""
            },
            "colorscale": [
             [
              0,
              "#0d0887"
             ],
             [
              0.1111111111111111,
              "#46039f"
             ],
             [
              0.2222222222222222,
              "#7201a8"
             ],
             [
              0.3333333333333333,
              "#9c179e"
             ],
             [
              0.4444444444444444,
              "#bd3786"
             ],
             [
              0.5555555555555556,
              "#d8576b"
             ],
             [
              0.6666666666666666,
              "#ed7953"
             ],
             [
              0.7777777777777778,
              "#fb9f3a"
             ],
             [
              0.8888888888888888,
              "#fdca26"
             ],
             [
              1,
              "#f0f921"
             ]
            ],
            "type": "surface"
           }
          ],
          "table": [
           {
            "cells": {
             "fill": {
              "color": "#EBF0F8"
             },
             "line": {
              "color": "white"
             }
            },
            "header": {
             "fill": {
              "color": "#C8D4E3"
             },
             "line": {
              "color": "white"
             }
            },
            "type": "table"
           }
          ]
         },
         "layout": {
          "annotationdefaults": {
           "arrowcolor": "#2a3f5f",
           "arrowhead": 0,
           "arrowwidth": 1
          },
          "autotypenumbers": "strict",
          "coloraxis": {
           "colorbar": {
            "outlinewidth": 0,
            "ticks": ""
           }
          },
          "colorscale": {
           "diverging": [
            [
             0,
             "#8e0152"
            ],
            [
             0.1,
             "#c51b7d"
            ],
            [
             0.2,
             "#de77ae"
            ],
            [
             0.3,
             "#f1b6da"
            ],
            [
             0.4,
             "#fde0ef"
            ],
            [
             0.5,
             "#f7f7f7"
            ],
            [
             0.6,
             "#e6f5d0"
            ],
            [
             0.7,
             "#b8e186"
            ],
            [
             0.8,
             "#7fbc41"
            ],
            [
             0.9,
             "#4d9221"
            ],
            [
             1,
             "#276419"
            ]
           ],
           "sequential": [
            [
             0,
             "#0d0887"
            ],
            [
             0.1111111111111111,
             "#46039f"
            ],
            [
             0.2222222222222222,
             "#7201a8"
            ],
            [
             0.3333333333333333,
             "#9c179e"
            ],
            [
             0.4444444444444444,
             "#bd3786"
            ],
            [
             0.5555555555555556,
             "#d8576b"
            ],
            [
             0.6666666666666666,
             "#ed7953"
            ],
            [
             0.7777777777777778,
             "#fb9f3a"
            ],
            [
             0.8888888888888888,
             "#fdca26"
            ],
            [
             1,
             "#f0f921"
            ]
           ],
           "sequentialminus": [
            [
             0,
             "#0d0887"
            ],
            [
             0.1111111111111111,
             "#46039f"
            ],
            [
             0.2222222222222222,
             "#7201a8"
            ],
            [
             0.3333333333333333,
             "#9c179e"
            ],
            [
             0.4444444444444444,
             "#bd3786"
            ],
            [
             0.5555555555555556,
             "#d8576b"
            ],
            [
             0.6666666666666666,
             "#ed7953"
            ],
            [
             0.7777777777777778,
             "#fb9f3a"
            ],
            [
             0.8888888888888888,
             "#fdca26"
            ],
            [
             1,
             "#f0f921"
            ]
           ]
          },
          "colorway": [
           "#636efa",
           "#EF553B",
           "#00cc96",
           "#ab63fa",
           "#FFA15A",
           "#19d3f3",
           "#FF6692",
           "#B6E880",
           "#FF97FF",
           "#FECB52"
          ],
          "font": {
           "color": "#2a3f5f"
          },
          "geo": {
           "bgcolor": "white",
           "lakecolor": "white",
           "landcolor": "#E5ECF6",
           "showlakes": true,
           "showland": true,
           "subunitcolor": "white"
          },
          "hoverlabel": {
           "align": "left"
          },
          "hovermode": "closest",
          "mapbox": {
           "style": "light"
          },
          "paper_bgcolor": "white",
          "plot_bgcolor": "#E5ECF6",
          "polar": {
           "angularaxis": {
            "gridcolor": "white",
            "linecolor": "white",
            "ticks": ""
           },
           "bgcolor": "#E5ECF6",
           "radialaxis": {
            "gridcolor": "white",
            "linecolor": "white",
            "ticks": ""
           }
          },
          "scene": {
           "xaxis": {
            "backgroundcolor": "#E5ECF6",
            "gridcolor": "white",
            "gridwidth": 2,
            "linecolor": "white",
            "showbackground": true,
            "ticks": "",
            "zerolinecolor": "white"
           },
           "yaxis": {
            "backgroundcolor": "#E5ECF6",
            "gridcolor": "white",
            "gridwidth": 2,
            "linecolor": "white",
            "showbackground": true,
            "ticks": "",
            "zerolinecolor": "white"
           },
           "zaxis": {
            "backgroundcolor": "#E5ECF6",
            "gridcolor": "white",
            "gridwidth": 2,
            "linecolor": "white",
            "showbackground": true,
            "ticks": "",
            "zerolinecolor": "white"
           }
          },
          "shapedefaults": {
           "line": {
            "color": "#2a3f5f"
           }
          },
          "ternary": {
           "aaxis": {
            "gridcolor": "white",
            "linecolor": "white",
            "ticks": ""
           },
           "baxis": {
            "gridcolor": "white",
            "linecolor": "white",
            "ticks": ""
           },
           "bgcolor": "#E5ECF6",
           "caxis": {
            "gridcolor": "white",
            "linecolor": "white",
            "ticks": ""
           }
          },
          "title": {
           "x": 0.05
          },
          "xaxis": {
           "automargin": true,
           "gridcolor": "white",
           "linecolor": "white",
           "ticks": "",
           "title": {
            "standoff": 15
           },
           "zerolinecolor": "white",
           "zerolinewidth": 2
          },
          "yaxis": {
           "automargin": true,
           "gridcolor": "white",
           "linecolor": "white",
           "ticks": "",
           "title": {
            "standoff": 15
           },
           "zerolinecolor": "white",
           "zerolinewidth": 2
          }
         }
        },
        "title": {
         "text": "Hyperparameter Importances"
        },
        "xaxis": {
         "title": {
          "text": "Hyperparameter Importance"
         }
        },
        "yaxis": {
         "title": {
          "text": "Hyperparameter"
         }
        }
       }
      }
     },
     "metadata": {},
     "output_type": "display_data"
    }
   ],
   "source": [
    "# Plot parameter importances\n",
    "plot_param_importances(study)"
   ]
  },
  {
   "cell_type": "code",
   "execution_count": 12,
   "id": "e8f4d4d6",
   "metadata": {},
   "outputs": [
    {
     "name": "stdout",
     "output_type": "stream",
     "text": [
      "        n_estimators : 54\n",
      "       learning_rate : 0.21656322182320809\n",
      "           max_depth : 10\n",
      "           subsample : 0.1652472013127238\n",
      "best objective value : 0.5501821521748056\n"
     ]
    }
   ],
   "source": [
    "hp = study.best_params\n",
    "\n",
    "for key, value in hp.items():\n",
    "    print(f\"{key:>20s} : {value}\")\n",
    "print(f\"{'best objective value':>20s} : {study.best_value}\")\n",
    "\n",
    "hp[\"verbosity\"] = 0\n",
    "hp[\"objective\"] = \"reg:squarederror\"\n",
    "hp[\"tree_method\"] = \"hist\"\n",
    "hp[\"seed\"] = RS\n",
    "hp[\"n_jobs\"] = N_JOBS"
   ]
  },
  {
   "cell_type": "code",
   "execution_count": 13,
   "id": "d1c07beb",
   "metadata": {},
   "outputs": [],
   "source": [
    "model = xgb.XGBRegressor(**hp, eval_metric=\"rmse\",early_stopping_rounds = EARLY_STOPPING_ROUNDS)\n",
    "rkf = RepeatedKFold(n_splits=N_SPLITS, n_repeats=N_REPEATS, random_state=RS)\n",
    "X_values = X_train.values\n",
    "y_values = y_train.values\n",
    "y_pred = np.zeros_like(y_test.values)\n",
    "for train_index, test_index in rkf.split(X_values):\n",
    "    X_A, X_B = X_values[train_index, :], X_values[test_index, :]\n",
    "    y_A, y_B = y_values[train_index], y_values[test_index]\n",
    "    model.fit(\n",
    "        X_A,\n",
    "        y_A,\n",
    "        eval_set=[(X_B, y_B)],\n",
    "        verbose=0,\n",
    "    )\n",
    "    y_pred += model.predict(X_test.values)\n",
    "y_pred /= N_REPEATS * N_SPLITS"
   ]
  },
  {
   "cell_type": "code",
   "execution_count": 14,
   "id": "0a3b1923",
   "metadata": {},
   "outputs": [],
   "source": [
    "score, mse = r2_score(y_true=y_test, y_pred=y_pred), mean_squared_error(y_true=y_test, y_pred=y_pred)"
   ]
  },
  {
   "cell_type": "code",
   "execution_count": 20,
   "id": "233330a8",
   "metadata": {},
   "outputs": [
    {
     "data": {
      "image/png": "[encoded data removed]",
      "text/plain": [
       "<Figure size 1044.62x1044.62 with 1 Axes>"
      ]
     },
     "metadata": {},
     "output_type": "display_data"
    }
   ],
   "source": [
    "from sklearn.metrics import PredictionErrorDisplay\n",
    "\n",
    "figsize= (15.5/2*cm, 15.5/2*cm)\n",
    "figsize=(15.92/3*cm, 15.92/3*cm)\n",
    "\n",
    "y_true = y_test\n",
    "y_pred = pd.DataFrame(y_pred)\n",
    "\n",
    "\n",
    "# Define plot structure\n",
    "fig, axs = plt.subplots(nrows=1, ncols=1, figsize=figsize, dpi=500)\n",
    "\n",
    "ped = PredictionErrorDisplay.from_predictions(y_true=y_true,\n",
    "                                            y_pred=y_pred,\n",
    "                                            kind=\"actual_vs_predicted\",\n",
    "                                            subsample=100000,\n",
    "                                            ax=axs,\n",
    "                                            random_state=0, \n",
    "                                            line_kwargs={\"color\": \"black\", \"linewidth\": 0.75, \"linestyle\": \"--\", \"alpha\": 1},)\n",
    "\n",
    "ped.ax_.set_xlabel(\"\")  # Set x label\n",
    "ped.ax_.set_ylabel(\"\")  # Set y label\n",
    "\n",
    "xlim, ylim = axis_limit[j][0], axis_limit[j][1]/2+40\n",
    "\n",
    "ped.ax_.set_xticks(np.arange(xlim, ylim+0.001, (ylim-xlim)/4))\n",
    "ped.ax_.set_yticks(np.arange(xlim, ylim+0.001, (ylim-xlim)/4))\n",
    "# ped.ax_.set_xlim(xlim+0.001, ylim-0.001)\n",
    "# ped.ax_.set_ylim(xlim+0.001, ylim-0.001)\n",
    "\n",
    "\n",
    "ped.ax_.grid(linewidth = 0.5, linestyle = 'dotted')\n",
    "\n",
    "scatter = ped.figure_.axes[0].collections[0]\n",
    "scatter.set_color('black')  \n",
    "scatter.set_sizes([5]) \n",
    "scatter.set_alpha([0.5]) \n",
    "\n",
    "# plt.title(f'{investigated_column_plot}: $R^2$ = {score:.2f}, $MSE$ = {mse:.2f}', x = 0.41, y=1.02)\n",
    "plt.title(f'{investigated_column_plot}: $R^2$ = {score:.2f}', x = 0.5, y=1.02)\n",
    "\n",
    "ax = ped.ax_\n",
    "ax.set_xticks(ax.get_xticks())\n",
    "ax.tick_params(axis='x', rotation=0)\n",
    "\n",
    "fig.text(0.55, 0.03, r'$\\leftarrow$     Predicted data     $\\rightarrow$', ha='center', va='center')\n",
    "fig.text(0.04, 0.5, r'$\\leftarrow$     Actual data     $\\rightarrow$', ha='center', va='center', rotation='vertical')\n",
    "\n",
    "plt.subplots_adjust(left=0.23, right=0.91, top=0.88, bottom=0.20, wspace=0.5, hspace=0.5)\n",
    "plt.savefig(save_path, dpi=1000)"
   ]
  },
  {
   "cell_type": "code",
   "execution_count": 16,
   "id": "76e33465",
   "metadata": {},
   "outputs": [
    {
     "data": {
      "text/plain": [
       "['2_su_prediction_xgb_model.joblib']"
      ]
     },
     "execution_count": 16,
     "metadata": {},
     "output_type": "execute_result"
    }
   ],
   "source": [
    "# Save the model using joblib or pickle\n",
    "import joblib\n",
    "\n",
    "# Fit the model on the entire dataset with the best hyperparameters\n",
    "final_model = xgb.XGBRegressor(**hp, eval_metric=\"rmse\", random_state=RS)\n",
    "\n",
    "# Fit the model on the entire dataset\n",
    "final_model.fit(X, y)\n",
    "\n",
    "name = save_path.split('\\\\')[-1].split('.')[0]\n",
    "joblib.dump(final_model, f'{name}_xgb_model.joblib')\n"
   ]
  }
 ],
 "metadata": {
  "kernelspec": {
   "display_name": "DataDriven",
   "language": "python",
   "name": "python3"
  },
  "language_info": {
   "codemirror_mode": {
    "name": "ipython",
    "version": 3
   },
   "file_extension": ".py",
   "mimetype": "text/x-python",
   "name": "python",
   "nbconvert_exporter": "python",
   "pygments_lexer": "ipython3",
   "version": "3.11.1"
  }
 },
 "nbformat": 4,
 "nbformat_minor": 5
}
