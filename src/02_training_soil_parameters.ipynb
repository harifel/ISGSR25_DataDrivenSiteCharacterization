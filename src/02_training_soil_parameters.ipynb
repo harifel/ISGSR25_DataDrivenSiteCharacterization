{
 "cells": [
  {
   "cell_type": "code",
   "execution_count": 1,
   "id": "a5eb73a0-65aa-4212-bdb2-e36662cd5cbe",
   "metadata": {},
   "outputs": [
    {
     "name": "stderr",
     "output_type": "stream",
     "text": [
      "c:\\Users\\haris\\Documents\\GitHub\\ISGSR25_DataDrivenSiteCharacterization\\DataDriven\\Lib\\site-packages\\tqdm\\auto.py:21: TqdmWarning: IProgress not found. Please update jupyter and ipywidgets. See https://ipywidgets.readthedocs.io/en/stable/user_install.html\n",
      "  from .autonotebook import tqdm as notebook_tqdm\n"
     ]
    }
   ],
   "source": [
    "#Import packages\n",
    "import pandas as pd\n",
    "import numpy as np\n",
    "import glob\n",
    "\n",
    "from functions import plotting_raw_data, remove_outliers, error_plot, plot_cpt_data, plot_cpt_data_ML_prediction, plot_cpt_data_NW_site\n",
    "\n",
    "import matplotlib.pyplot as plt\n",
    "from sklearn.model_selection import train_test_split\n",
    "from sklearn.metrics import r2_score, mean_squared_error\n",
    "from sklearn.model_selection import cross_val_score\n",
    "from sklearn.model_selection import train_test_split\n",
    "from sklearn.model_selection import RepeatedKFold\n",
    "from sklearn.metrics import r2_score\n",
    "import xgboost as xgb\n",
    "\n",
    "import optuna\n",
    "from optuna.samplers import TPESampler\n",
    "from optuna.visualization import plot_param_importances, plot_optimization_history"
   ]
  },
  {
   "cell_type": "code",
   "execution_count": 2,
   "id": "bd41e89e-74ac-41a5-94e1-1a64f2c713e4",
   "metadata": {},
   "outputs": [],
   "source": [
    "######################## Define the text size of each plot globally ###########\n",
    "SMALL_SIZE = 10\n",
    "BIGGER_SIZE = 10\n",
    "\n",
    "plt.rc('font', size=SMALL_SIZE)          # controls default text sizes\n",
    "plt.rc('axes', titlesize=SMALL_SIZE)     # fontsize of the axes title\n",
    "plt.rc('axes', labelsize=SMALL_SIZE)    # fontsize of the x and y labels\n",
    "plt.rc('xtick', labelsize=SMALL_SIZE)    # fontsize of the tick labels\n",
    "plt.rc('ytick', labelsize=SMALL_SIZE)    # fontsize of the tick labels\n",
    "plt.rc('legend', fontsize=SMALL_SIZE)    # legend fontsize\n",
    "plt.rc('figure', titlesize=BIGGER_SIZE)  # fontsize of the figure title\n",
    "\n",
    "plt.rcParams[\"font.family\"] = \"Times New Roman\"\n",
    "cm = 1/2.54  # centimeters in inches"
   ]
  },
  {
   "cell_type": "code",
   "execution_count": 3,
   "id": "583fdc51",
   "metadata": {},
   "outputs": [
    {
     "data": {
      "text/html": [
       "<div>\n",
       "<style scoped>\n",
       "    .dataframe tbody tr th:only-of-type {\n",
       "        vertical-align: middle;\n",
       "    }\n",
       "\n",
       "    .dataframe tbody tr th {\n",
       "        vertical-align: top;\n",
       "    }\n",
       "\n",
       "    .dataframe thead th {\n",
       "        text-align: right;\n",
       "    }\n",
       "</style>\n",
       "<table border=\"1\" class=\"dataframe\">\n",
       "  <thead>\n",
       "    <tr style=\"text-align: right;\">\n",
       "      <th></th>\n",
       "      <th>Depth (m)</th>\n",
       "      <th>qc (MPa)</th>\n",
       "      <th>fs (kPa)</th>\n",
       "      <th>Rf (%)</th>\n",
       "      <th>u2 (kPa)</th>\n",
       "      <th>gamma (kN/m3)</th>\n",
       "      <th>M (MN/m2)</th>\n",
       "      <th>OCR (-)</th>\n",
       "      <th>su (kPa)</th>\n",
       "      <th>sampling_name(-)</th>\n",
       "    </tr>\n",
       "  </thead>\n",
       "  <tbody>\n",
       "    <tr>\n",
       "      <th>0</th>\n",
       "      <td>0.79</td>\n",
       "      <td>0.153000</td>\n",
       "      <td>5.333333</td>\n",
       "      <td>3.485839</td>\n",
       "      <td>14.888889</td>\n",
       "      <td>16.41</td>\n",
       "      <td>1.554</td>\n",
       "      <td>4.123596</td>\n",
       "      <td>NaN</td>\n",
       "      <td>Ballina_Inclo 2</td>\n",
       "    </tr>\n",
       "    <tr>\n",
       "      <th>1</th>\n",
       "      <td>1.76</td>\n",
       "      <td>0.158000</td>\n",
       "      <td>8.111111</td>\n",
       "      <td>5.133615</td>\n",
       "      <td>45.777778</td>\n",
       "      <td>16.24</td>\n",
       "      <td>NaN</td>\n",
       "      <td>NaN</td>\n",
       "      <td>9.4</td>\n",
       "      <td>Ballina_Inclo 2</td>\n",
       "    </tr>\n",
       "    <tr>\n",
       "      <th>2</th>\n",
       "      <td>1.86</td>\n",
       "      <td>0.159222</td>\n",
       "      <td>7.444444</td>\n",
       "      <td>4.675506</td>\n",
       "      <td>56.444444</td>\n",
       "      <td>16.42</td>\n",
       "      <td>2.843</td>\n",
       "      <td>3.264286</td>\n",
       "      <td>NaN</td>\n",
       "      <td>Ballina_Inclo 2</td>\n",
       "    </tr>\n",
       "    <tr>\n",
       "      <th>3</th>\n",
       "      <td>1.96</td>\n",
       "      <td>0.149333</td>\n",
       "      <td>7.111111</td>\n",
       "      <td>4.761905</td>\n",
       "      <td>82.222222</td>\n",
       "      <td>16.15</td>\n",
       "      <td>NaN</td>\n",
       "      <td>NaN</td>\n",
       "      <td>12.3</td>\n",
       "      <td>Ballina_Inclo 2</td>\n",
       "    </tr>\n",
       "    <tr>\n",
       "      <th>4</th>\n",
       "      <td>2.27</td>\n",
       "      <td>0.176000</td>\n",
       "      <td>7.000000</td>\n",
       "      <td>3.977273</td>\n",
       "      <td>101.444444</td>\n",
       "      <td>15.80</td>\n",
       "      <td>1.303</td>\n",
       "      <td>2.182143</td>\n",
       "      <td>NaN</td>\n",
       "      <td>Ballina_Inclo 2</td>\n",
       "    </tr>\n",
       "    <tr>\n",
       "      <th>...</th>\n",
       "      <td>...</td>\n",
       "      <td>...</td>\n",
       "      <td>...</td>\n",
       "      <td>...</td>\n",
       "      <td>...</td>\n",
       "      <td>...</td>\n",
       "      <td>...</td>\n",
       "      <td>...</td>\n",
       "      <td>...</td>\n",
       "      <td>...</td>\n",
       "    </tr>\n",
       "    <tr>\n",
       "      <th>647</th>\n",
       "      <td>9.45</td>\n",
       "      <td>1.141000</td>\n",
       "      <td>15.000000</td>\n",
       "      <td>1.314636</td>\n",
       "      <td>251.000000</td>\n",
       "      <td>20.96</td>\n",
       "      <td>NaN</td>\n",
       "      <td>NaN</td>\n",
       "      <td>NaN</td>\n",
       "      <td>Koehool (70733_B3578 M018-a)</td>\n",
       "    </tr>\n",
       "    <tr>\n",
       "      <th>648</th>\n",
       "      <td>16.88</td>\n",
       "      <td>1.017000</td>\n",
       "      <td>21.000000</td>\n",
       "      <td>2.064897</td>\n",
       "      <td>55.000000</td>\n",
       "      <td>21.89</td>\n",
       "      <td>NaN</td>\n",
       "      <td>NaN</td>\n",
       "      <td>NaN</td>\n",
       "      <td>Koehool (70733_B3634 M026-a)</td>\n",
       "    </tr>\n",
       "    <tr>\n",
       "      <th>649</th>\n",
       "      <td>16.99</td>\n",
       "      <td>1.017000</td>\n",
       "      <td>21.000000</td>\n",
       "      <td>2.064897</td>\n",
       "      <td>55.000000</td>\n",
       "      <td>21.89</td>\n",
       "      <td>NaN</td>\n",
       "      <td>NaN</td>\n",
       "      <td>NaN</td>\n",
       "      <td>Koehool (70733_B3634 M026-a)</td>\n",
       "    </tr>\n",
       "    <tr>\n",
       "      <th>650</th>\n",
       "      <td>11.09</td>\n",
       "      <td>1.094000</td>\n",
       "      <td>16.000000</td>\n",
       "      <td>1.462523</td>\n",
       "      <td>451.000000</td>\n",
       "      <td>21.71</td>\n",
       "      <td>NaN</td>\n",
       "      <td>NaN</td>\n",
       "      <td>NaN</td>\n",
       "      <td>Koehool (70733_B3637 M025-a)</td>\n",
       "    </tr>\n",
       "    <tr>\n",
       "      <th>651</th>\n",
       "      <td>11.19</td>\n",
       "      <td>1.094000</td>\n",
       "      <td>16.000000</td>\n",
       "      <td>1.462523</td>\n",
       "      <td>451.000000</td>\n",
       "      <td>21.71</td>\n",
       "      <td>NaN</td>\n",
       "      <td>NaN</td>\n",
       "      <td>NaN</td>\n",
       "      <td>Koehool (70733_B3637 M025-a)</td>\n",
       "    </tr>\n",
       "  </tbody>\n",
       "</table>\n",
       "<p>652 rows × 10 columns</p>\n",
       "</div>"
      ],
      "text/plain": [
       "     Depth (m)  qc (MPa)   fs (kPa)    Rf (%)    u2 (kPa)  gamma (kN/m3)  \\\n",
       "0         0.79  0.153000   5.333333  3.485839   14.888889          16.41   \n",
       "1         1.76  0.158000   8.111111  5.133615   45.777778          16.24   \n",
       "2         1.86  0.159222   7.444444  4.675506   56.444444          16.42   \n",
       "3         1.96  0.149333   7.111111  4.761905   82.222222          16.15   \n",
       "4         2.27  0.176000   7.000000  3.977273  101.444444          15.80   \n",
       "..         ...       ...        ...       ...         ...            ...   \n",
       "647       9.45  1.141000  15.000000  1.314636  251.000000          20.96   \n",
       "648      16.88  1.017000  21.000000  2.064897   55.000000          21.89   \n",
       "649      16.99  1.017000  21.000000  2.064897   55.000000          21.89   \n",
       "650      11.09  1.094000  16.000000  1.462523  451.000000          21.71   \n",
       "651      11.19  1.094000  16.000000  1.462523  451.000000          21.71   \n",
       "\n",
       "     M (MN/m2)   OCR (-)  su (kPa)              sampling_name(-)  \n",
       "0        1.554  4.123596       NaN               Ballina_Inclo 2  \n",
       "1          NaN       NaN       9.4               Ballina_Inclo 2  \n",
       "2        2.843  3.264286       NaN               Ballina_Inclo 2  \n",
       "3          NaN       NaN      12.3               Ballina_Inclo 2  \n",
       "4        1.303  2.182143       NaN               Ballina_Inclo 2  \n",
       "..         ...       ...       ...                           ...  \n",
       "647        NaN       NaN       NaN  Koehool (70733_B3578 M018-a)  \n",
       "648        NaN       NaN       NaN  Koehool (70733_B3634 M026-a)  \n",
       "649        NaN       NaN       NaN  Koehool (70733_B3634 M026-a)  \n",
       "650        NaN       NaN       NaN  Koehool (70733_B3637 M025-a)  \n",
       "651        NaN       NaN       NaN  Koehool (70733_B3637 M025-a)  \n",
       "\n",
       "[652 rows x 10 columns]"
      ]
     },
     "execution_count": 3,
     "metadata": {},
     "output_type": "execute_result"
    }
   ],
   "source": [
    "data_ML = pd.read_csv('..\\data\\database_preprocessed.csv')\n",
    "data_ML"
   ]
  },
  {
   "cell_type": "code",
   "execution_count": 4,
   "id": "5a040bcd",
   "metadata": {},
   "outputs": [
    {
     "name": "stdout",
     "output_type": "stream",
     "text": [
      "su (kPa) is selected to predict, $s_u$ (kPa) is plotted, ..\\graphics\\\\2_su_prediction.png is saved, (0, 200) is the axis limit, 233 is the length of the data\n"
     ]
    }
   ],
   "source": [
    "prefix = r'..\\graphics\\\\'\n",
    "investigated_column =  ['gamma (kN/m3)', 'su (kPa)', 'M (MN/m2)', 'OCR (-)']\n",
    "investigated_column_plot =  ['$\\gamma$ (kN/m$^3$)', '$s_u$ (kPa)', 'M (MN/m$^2$)', 'OCR (-)']\n",
    "save_paths = [prefix + '1_gamma_prediction.png', prefix + '2_su_prediction.png', prefix + '3_M_prediction.png']\n",
    "axis_limit = [(13, 22), (0, 200), (0, 20), (0,20)]\n",
    "\n",
    "j = 1\n",
    "investigated_column_plot = investigated_column_plot[j]\n",
    "investigated_column = investigated_column[j]\n",
    "save_path = save_paths[j]\n",
    "\n",
    "data_ML = data_ML.dropna(subset=[investigated_column])\n",
    "print(f\"{investigated_column} is selected to predict, {investigated_column_plot} is plotted, {save_path} is saved, {axis_limit[j]} is the axis limit, {len(data_ML)} is the length of the data\")\n",
    "\n",
    "columns_x = ['Depth (m)','qc (MPa)', 'fs (kPa)','Rf (%)'] #for Machine learning features\n",
    "plot_columns_x_label = ['Depth (m)','$q_c$ (MPa)', '$f_s$ (kPa)','$R_f$ (%)'] #for plotting purpose\n",
    "\n",
    "X = data_ML.loc[:,columns_x]\n",
    "y = data_ML[investigated_column]\n",
    "\n",
    "X_train, X_test, y_train, y_test = train_test_split(X, y, test_size=0.20, random_state=42)"
   ]
  },
  {
   "cell_type": "code",
   "execution_count": 5,
   "id": "bcd50316",
   "metadata": {},
   "outputs": [
    {
     "data": {
      "text/html": [
       "<div>\n",
       "<style scoped>\n",
       "    .dataframe tbody tr th:only-of-type {\n",
       "        vertical-align: middle;\n",
       "    }\n",
       "\n",
       "    .dataframe tbody tr th {\n",
       "        vertical-align: top;\n",
       "    }\n",
       "\n",
       "    .dataframe thead th {\n",
       "        text-align: right;\n",
       "    }\n",
       "</style>\n",
       "<table border=\"1\" class=\"dataframe\">\n",
       "  <thead>\n",
       "    <tr style=\"text-align: right;\">\n",
       "      <th></th>\n",
       "      <th>Depth (m)</th>\n",
       "      <th>qc (MPa)</th>\n",
       "      <th>fs (kPa)</th>\n",
       "      <th>Rf (%)</th>\n",
       "      <th>u2 (kPa)</th>\n",
       "      <th>gamma (kN/m3)</th>\n",
       "      <th>M (MN/m2)</th>\n",
       "      <th>OCR (-)</th>\n",
       "      <th>su (kPa)</th>\n",
       "      <th>sampling_name(-)</th>\n",
       "    </tr>\n",
       "  </thead>\n",
       "  <tbody>\n",
       "    <tr>\n",
       "      <th>1</th>\n",
       "      <td>1.76</td>\n",
       "      <td>0.158000</td>\n",
       "      <td>8.111111</td>\n",
       "      <td>5.133615</td>\n",
       "      <td>45.777778</td>\n",
       "      <td>16.24</td>\n",
       "      <td>NaN</td>\n",
       "      <td>NaN</td>\n",
       "      <td>9.40</td>\n",
       "      <td>Ballina_Inclo 2</td>\n",
       "    </tr>\n",
       "    <tr>\n",
       "      <th>3</th>\n",
       "      <td>1.96</td>\n",
       "      <td>0.149333</td>\n",
       "      <td>7.111111</td>\n",
       "      <td>4.761905</td>\n",
       "      <td>82.222222</td>\n",
       "      <td>16.15</td>\n",
       "      <td>NaN</td>\n",
       "      <td>NaN</td>\n",
       "      <td>12.30</td>\n",
       "      <td>Ballina_Inclo 2</td>\n",
       "    </tr>\n",
       "    <tr>\n",
       "      <th>5</th>\n",
       "      <td>2.37</td>\n",
       "      <td>0.170222</td>\n",
       "      <td>7.000000</td>\n",
       "      <td>4.112272</td>\n",
       "      <td>104.333333</td>\n",
       "      <td>15.40</td>\n",
       "      <td>NaN</td>\n",
       "      <td>NaN</td>\n",
       "      <td>17.20</td>\n",
       "      <td>Ballina_Inclo 2</td>\n",
       "    </tr>\n",
       "    <tr>\n",
       "      <th>7</th>\n",
       "      <td>2.57</td>\n",
       "      <td>0.198111</td>\n",
       "      <td>9.888889</td>\n",
       "      <td>4.991587</td>\n",
       "      <td>62.444444</td>\n",
       "      <td>15.40</td>\n",
       "      <td>NaN</td>\n",
       "      <td>NaN</td>\n",
       "      <td>13.30</td>\n",
       "      <td>Ballina_Inclo 2</td>\n",
       "    </tr>\n",
       "    <tr>\n",
       "      <th>8</th>\n",
       "      <td>2.91</td>\n",
       "      <td>0.158444</td>\n",
       "      <td>7.555556</td>\n",
       "      <td>4.768583</td>\n",
       "      <td>102.444444</td>\n",
       "      <td>15.05</td>\n",
       "      <td>NaN</td>\n",
       "      <td>NaN</td>\n",
       "      <td>13.70</td>\n",
       "      <td>Ballina_Inclo 2</td>\n",
       "    </tr>\n",
       "    <tr>\n",
       "      <th>...</th>\n",
       "      <td>...</td>\n",
       "      <td>...</td>\n",
       "      <td>...</td>\n",
       "      <td>...</td>\n",
       "      <td>...</td>\n",
       "      <td>...</td>\n",
       "      <td>...</td>\n",
       "      <td>...</td>\n",
       "      <td>...</td>\n",
       "      <td>...</td>\n",
       "    </tr>\n",
       "    <tr>\n",
       "      <th>639</th>\n",
       "      <td>13.60</td>\n",
       "      <td>0.965000</td>\n",
       "      <td>22.000000</td>\n",
       "      <td>2.279793</td>\n",
       "      <td>489.000000</td>\n",
       "      <td>16.60</td>\n",
       "      <td>60.63</td>\n",
       "      <td>NaN</td>\n",
       "      <td>60.63</td>\n",
       "      <td>Waardenburg (B-04 B-04_mo-23)</td>\n",
       "    </tr>\n",
       "    <tr>\n",
       "      <th>640</th>\n",
       "      <td>9.20</td>\n",
       "      <td>0.656000</td>\n",
       "      <td>14.000000</td>\n",
       "      <td>2.134146</td>\n",
       "      <td>113.000000</td>\n",
       "      <td>18.04</td>\n",
       "      <td>54.13</td>\n",
       "      <td>NaN</td>\n",
       "      <td>54.13</td>\n",
       "      <td>Schalkwijk (B-08 B-08_mo-19)</td>\n",
       "    </tr>\n",
       "    <tr>\n",
       "      <th>641</th>\n",
       "      <td>2.70</td>\n",
       "      <td>0.359000</td>\n",
       "      <td>10.000000</td>\n",
       "      <td>2.785515</td>\n",
       "      <td>14.000000</td>\n",
       "      <td>17.64</td>\n",
       "      <td>18.40</td>\n",
       "      <td>NaN</td>\n",
       "      <td>18.40</td>\n",
       "      <td>Schalkwijk (B-10 B-10_mo-06)</td>\n",
       "    </tr>\n",
       "    <tr>\n",
       "      <th>642</th>\n",
       "      <td>9.20</td>\n",
       "      <td>1.054000</td>\n",
       "      <td>25.000000</td>\n",
       "      <td>2.371917</td>\n",
       "      <td>182.000000</td>\n",
       "      <td>20.00</td>\n",
       "      <td>90.00</td>\n",
       "      <td>1.82</td>\n",
       "      <td>90.00</td>\n",
       "      <td>Streefkerk (B02 32B)</td>\n",
       "    </tr>\n",
       "    <tr>\n",
       "      <th>643</th>\n",
       "      <td>7.50</td>\n",
       "      <td>0.557000</td>\n",
       "      <td>24.000000</td>\n",
       "      <td>4.308797</td>\n",
       "      <td>188.000000</td>\n",
       "      <td>17.60</td>\n",
       "      <td>30.53</td>\n",
       "      <td>NaN</td>\n",
       "      <td>30.53</td>\n",
       "      <td>Waardenburg (B-09 B-09_mo-11)</td>\n",
       "    </tr>\n",
       "  </tbody>\n",
       "</table>\n",
       "<p>233 rows × 10 columns</p>\n",
       "</div>"
      ],
      "text/plain": [
       "     Depth (m)  qc (MPa)   fs (kPa)    Rf (%)    u2 (kPa)  gamma (kN/m3)  \\\n",
       "1         1.76  0.158000   8.111111  5.133615   45.777778          16.24   \n",
       "3         1.96  0.149333   7.111111  4.761905   82.222222          16.15   \n",
       "5         2.37  0.170222   7.000000  4.112272  104.333333          15.40   \n",
       "7         2.57  0.198111   9.888889  4.991587   62.444444          15.40   \n",
       "8         2.91  0.158444   7.555556  4.768583  102.444444          15.05   \n",
       "..         ...       ...        ...       ...         ...            ...   \n",
       "639      13.60  0.965000  22.000000  2.279793  489.000000          16.60   \n",
       "640       9.20  0.656000  14.000000  2.134146  113.000000          18.04   \n",
       "641       2.70  0.359000  10.000000  2.785515   14.000000          17.64   \n",
       "642       9.20  1.054000  25.000000  2.371917  182.000000          20.00   \n",
       "643       7.50  0.557000  24.000000  4.308797  188.000000          17.60   \n",
       "\n",
       "     M (MN/m2)  OCR (-)  su (kPa)               sampling_name(-)  \n",
       "1          NaN      NaN      9.40                Ballina_Inclo 2  \n",
       "3          NaN      NaN     12.30                Ballina_Inclo 2  \n",
       "5          NaN      NaN     17.20                Ballina_Inclo 2  \n",
       "7          NaN      NaN     13.30                Ballina_Inclo 2  \n",
       "8          NaN      NaN     13.70                Ballina_Inclo 2  \n",
       "..         ...      ...       ...                            ...  \n",
       "639      60.63      NaN     60.63  Waardenburg (B-04 B-04_mo-23)  \n",
       "640      54.13      NaN     54.13   Schalkwijk (B-08 B-08_mo-19)  \n",
       "641      18.40      NaN     18.40   Schalkwijk (B-10 B-10_mo-06)  \n",
       "642      90.00     1.82     90.00           Streefkerk (B02 32B)  \n",
       "643      30.53      NaN     30.53  Waardenburg (B-09 B-09_mo-11)  \n",
       "\n",
       "[233 rows x 10 columns]"
      ]
     },
     "execution_count": 5,
     "metadata": {},
     "output_type": "execute_result"
    }
   ],
   "source": [
    "data_ML"
   ]
  },
  {
   "cell_type": "code",
   "execution_count": 6,
   "id": "cc344cd5",
   "metadata": {},
   "outputs": [
    {
     "data": {
      "image/png": "[encoded data removed]",
      "text/plain": [
       "<Figure size 1044.62x1574.8 with 4 Axes>"
      ]
     },
     "metadata": {},
     "output_type": "display_data"
    }
   ],
   "source": [
    "# Plotting training data \n",
    "s = 1  # Adjust the marker size as needed\n",
    "color = 'k'  # Adjust the marker color as needed\n",
    "alpha = 0.5\n",
    "\n",
    "columns_x.append(investigated_column_plot)\n",
    "\n",
    "#Plot scatter points: raw data points as\n",
    "fig, axes = plt.subplots(4, 1, figsize=(15.92/3*cm, 8*cm), dpi=500, sharex=True)\n",
    "plotting_raw_data(X,y, alpha, s, color, True, axes, columns_x, 'Raw data', False)\n",
    "\n",
    "# Adjust layout to prevent overlapping\n",
    "fig.text(0.01, 0.02, rf'{len(data_ML)} datapoints', ha='left', va='center', fontsize=10, color='black', alpha=0.5)\n",
    "plt.subplots_adjust(left=0.25, right=0.99, top=0.97, bottom=0.15, wspace=0.15, hspace=0.2)\n",
    "plt.savefig(f\"{prefix}{j+1}_raw_data.png\", dpi = 1000)"
   ]
  },
  {
   "cell_type": "code",
   "execution_count": null,
   "id": "39fe2002",
   "metadata": {},
   "outputs": [],
   "source": [
    "RS = 44  # random state\n",
    "N_JOBS = -1  # number of parallel threads\n",
    "\n",
    "# repeated K-folds\n",
    "N_SPLITS = 10\n",
    "N_REPEATS = 1\n",
    "\n",
    "# Optuna\n",
    "N_TRIALS = 200\n",
    "\n",
    "# XGBoost\n",
    "EARLY_STOPPING_ROUNDS = 20"
   ]
  },
  {
   "cell_type": "code",
   "execution_count": 36,
   "id": "f4f80d3a",
   "metadata": {},
   "outputs": [
    {
     "name": "stderr",
     "output_type": "stream",
     "text": [
      "[I 2024-11-05 17:53:26,479] A new study created in memory with name: no-name-21af3aa7-fb22-4f6a-a7d0-e0baa3f4ad09\n",
      "[I 2024-11-05 17:53:26,925] Trial 4 finished with value: 0.3096448891404302 and parameters: {'n_estimators': 52, 'learning_rate': 0.17662225211805493, 'max_depth': 3, 'subsample': 0.11017577463858211}. Best is trial 4 with value: 0.3096448891404302.\n",
      "[I 2024-11-05 17:53:26,968] Trial 6 finished with value: 0.23635133401577013 and parameters: {'n_estimators': 92, 'learning_rate': 0.1530386875067493, 'max_depth': 5, 'subsample': 0.7786288416482594}. Best is trial 4 with value: 0.3096448891404302.\n",
      "[I 2024-11-05 17:53:27,000] Trial 3 finished with value: 0.32345637816212336 and parameters: {'n_estimators': 82, 'learning_rate': 0.13882887658792695, 'max_depth': 3, 'subsample': 0.13897871507372703}. Best is trial 3 with value: 0.32345637816212336.\n",
      "[I 2024-11-05 17:53:27,019] Trial 5 finished with value: 0.3380545570816337 and parameters: {'n_estimators': 59, 'learning_rate': 0.2972102385801524, 'max_depth': 9, 'subsample': 0.14130990314044062}. Best is trial 5 with value: 0.3380545570816337.\n",
      "[I 2024-11-05 17:53:27,073] Trial 7 finished with value: 0.33950961816485115 and parameters: {'n_estimators': 117, 'learning_rate': 0.10785535435444144, 'max_depth': 3, 'subsample': 0.3323664561186214}. Best is trial 7 with value: 0.33950961816485115.\n",
      "[I 2024-11-05 17:53:27,116] Trial 2 finished with value: 0.3906491374083969 and parameters: {'n_estimators': 70, 'learning_rate': 0.37867415600077137, 'max_depth': 7, 'subsample': 0.2995148429612026}. Best is trial 2 with value: 0.3906491374083969.\n",
      "[I 2024-11-05 17:53:27,174] Trial 1 finished with value: 0.2935079242095866 and parameters: {'n_estimators': 83, 'learning_rate': 0.08301999590104958, 'max_depth': 4, 'subsample': 0.06475002782012623}. Best is trial 2 with value: 0.3906491374083969.\n",
      "[I 2024-11-05 17:53:27,265] Trial 0 finished with value: 0.3651050480719574 and parameters: {'n_estimators': 112, 'learning_rate': 0.15832555156559863, 'max_depth': 9, 'subsample': 0.0953206019012263}. Best is trial 2 with value: 0.3906491374083969.\n",
      "[I 2024-11-05 17:53:27,392] Trial 8 finished with value: 0.29781018939212867 and parameters: {'n_estimators': 85, 'learning_rate': 0.22057570625881415, 'max_depth': 4, 'subsample': 0.7559913426951149}. Best is trial 2 with value: 0.3906491374083969.\n",
      "[I 2024-11-05 17:53:27,517] Trial 11 finished with value: 0.32251817855901965 and parameters: {'n_estimators': 76, 'learning_rate': 0.14358708665732733, 'max_depth': 3, 'subsample': 0.6067207778657281}. Best is trial 2 with value: 0.3906491374083969.\n",
      "[I 2024-11-05 17:53:27,589] Trial 9 finished with value: 0.29398584115265225 and parameters: {'n_estimators': 73, 'learning_rate': 0.1883192148315942, 'max_depth': 5, 'subsample': 0.5451654044302189}. Best is trial 2 with value: 0.3906491374083969.\n",
      "[I 2024-11-05 17:53:27,628] Trial 12 finished with value: 0.33195802272230246 and parameters: {'n_estimators': 86, 'learning_rate': 0.16698365474514068, 'max_depth': 3, 'subsample': 0.497240564468263}. Best is trial 2 with value: 0.3906491374083969.\n",
      "[I 2024-11-05 17:53:27,852] Trial 15 finished with value: 0.31872045492466106 and parameters: {'n_estimators': 86, 'learning_rate': 0.2578207690084828, 'max_depth': 7, 'subsample': 0.056447916207238234}. Best is trial 2 with value: 0.3906491374083969.\n",
      "[I 2024-11-05 17:53:27,880] Trial 13 finished with value: 0.36190728603998146 and parameters: {'n_estimators': 110, 'learning_rate': 0.18782590472604843, 'max_depth': 8, 'subsample': 0.07818924818744973}. Best is trial 2 with value: 0.3906491374083969.\n",
      "[I 2024-11-05 17:53:27,950] Trial 10 finished with value: 0.3342657207487829 and parameters: {'n_estimators': 63, 'learning_rate': 0.08391909415012301, 'max_depth': 5, 'subsample': 0.161403239091159}. Best is trial 2 with value: 0.3906491374083969.\n",
      "[I 2024-11-05 17:53:28,064] Trial 16 finished with value: 0.21583024488403657 and parameters: {'n_estimators': 89, 'learning_rate': 0.26129092681017557, 'max_depth': 9, 'subsample': 0.8199454157020494}. Best is trial 2 with value: 0.3906491374083969.\n",
      "[I 2024-11-05 17:53:28,143] Trial 14 finished with value: 0.3591329794296251 and parameters: {'n_estimators': 115, 'learning_rate': 0.10959724544578463, 'max_depth': 8, 'subsample': 0.15191075577557975}. Best is trial 2 with value: 0.3906491374083969.\n",
      "[I 2024-11-05 17:53:28,183] Trial 17 finished with value: 0.38905535979876593 and parameters: {'n_estimators': 67, 'learning_rate': 0.48162152575035005, 'max_depth': 7, 'subsample': 0.30631330447727817}. Best is trial 2 with value: 0.3906491374083969.\n",
      "[I 2024-11-05 17:53:28,270] Trial 19 finished with value: 0.34226031055064743 and parameters: {'n_estimators': 115, 'learning_rate': 0.47186978345576513, 'max_depth': 9, 'subsample': 0.2271814758648247}. Best is trial 2 with value: 0.3906491374083969.\n",
      "[I 2024-11-05 17:53:28,322] Trial 18 finished with value: 0.3935573621849464 and parameters: {'n_estimators': 120, 'learning_rate': 0.4371974418724863, 'max_depth': 9, 'subsample': 0.26937451044602934}. Best is trial 18 with value: 0.3935573621849464.\n",
      "[I 2024-11-05 17:53:28,589] Trial 21 finished with value: 0.36776369280244303 and parameters: {'n_estimators': 109, 'learning_rate': 0.47332682665751113, 'max_depth': 10, 'subsample': 0.23536728631404663}. Best is trial 18 with value: 0.3935573621849464.\n",
      "[I 2024-11-05 17:53:28,602] Trial 20 finished with value: 0.31829282990427965 and parameters: {'n_estimators': 120, 'learning_rate': 0.4646946641562953, 'max_depth': 10, 'subsample': 0.25962568329657226}. Best is trial 18 with value: 0.3935573621849464.\n",
      "[I 2024-11-05 17:53:28,695] Trial 25 finished with value: 0.36175932936221433 and parameters: {'n_estimators': 64, 'learning_rate': 0.4617421637190056, 'max_depth': 7, 'subsample': 0.2788651041023974}. Best is trial 18 with value: 0.3935573621849464.\n",
      "[I 2024-11-05 17:53:28,727] Trial 24 finished with value: 0.3512858247647538 and parameters: {'n_estimators': 103, 'learning_rate': 0.49394245672012366, 'max_depth': 10, 'subsample': 0.2719326900198258}. Best is trial 18 with value: 0.3935573621849464.\n",
      "[I 2024-11-05 17:53:28,757] Trial 23 finished with value: 0.3130461162112069 and parameters: {'n_estimators': 100, 'learning_rate': 0.3789566290838914, 'max_depth': 10, 'subsample': 0.2644642463641316}. Best is trial 18 with value: 0.3935573621849464.\n",
      "[I 2024-11-05 17:53:28,789] Trial 22 finished with value: 0.35029750656734526 and parameters: {'n_estimators': 101, 'learning_rate': 0.4732312975105711, 'max_depth': 10, 'subsample': 0.2645277377067717}. Best is trial 18 with value: 0.3935573621849464.\n",
      "[I 2024-11-05 17:53:28,922] Trial 26 finished with value: 0.35880786723175817 and parameters: {'n_estimators': 68, 'learning_rate': 0.4806440177249262, 'max_depth': 7, 'subsample': 0.2972845795554797}. Best is trial 18 with value: 0.3935573621849464.\n",
      "[I 2024-11-05 17:53:29,099] Trial 27 finished with value: 0.3720698559171781 and parameters: {'n_estimators': 101, 'learning_rate': 0.3429739617750426, 'max_depth': 10, 'subsample': 0.3530877375712709}. Best is trial 18 with value: 0.3935573621849464.\n",
      "[I 2024-11-05 17:53:29,288] Trial 29 finished with value: 0.3598261702343777 and parameters: {'n_estimators': 100, 'learning_rate': 0.36009800550425003, 'max_depth': 6, 'subsample': 0.34270369582630084}. Best is trial 18 with value: 0.3935573621849464.\n",
      "[I 2024-11-05 17:53:29,376] Trial 28 finished with value: 0.3718744474007917 and parameters: {'n_estimators': 98, 'learning_rate': 0.3614976925948496, 'max_depth': 7, 'subsample': 0.3492788809987975}. Best is trial 18 with value: 0.3935573621849464.\n",
      "[I 2024-11-05 17:53:29,404] Trial 30 finished with value: 0.33382700399702914 and parameters: {'n_estimators': 99, 'learning_rate': 0.3531335360337308, 'max_depth': 6, 'subsample': 0.37961489993058356}. Best is trial 18 with value: 0.3935573621849464.\n",
      "[I 2024-11-05 17:53:29,437] Trial 32 finished with value: 0.33917223927883944 and parameters: {'n_estimators': 72, 'learning_rate': 0.350568409842736, 'max_depth': 6, 'subsample': 0.38548574370827227}. Best is trial 18 with value: 0.3935573621849464.\n",
      "[I 2024-11-05 17:53:29,502] Trial 33 finished with value: 0.3487543315766648 and parameters: {'n_estimators': 72, 'learning_rate': 0.3573134555611191, 'max_depth': 6, 'subsample': 0.3925402654803463}. Best is trial 18 with value: 0.3935573621849464.\n",
      "[I 2024-11-05 17:53:29,514] Trial 31 finished with value: 0.36026620247344154 and parameters: {'n_estimators': 72, 'learning_rate': 0.3494569362017909, 'max_depth': 6, 'subsample': 0.41080144886674036}. Best is trial 18 with value: 0.3935573621849464.\n",
      "[I 2024-11-05 17:53:29,594] Trial 34 finished with value: 0.3328467223942442 and parameters: {'n_estimators': 53, 'learning_rate': 0.34916188202062076, 'max_depth': 6, 'subsample': 0.39187915553298514}. Best is trial 18 with value: 0.3935573621849464.\n",
      "[I 2024-11-05 17:53:29,744] Trial 35 finished with value: 0.33830349898131606 and parameters: {'n_estimators': 54, 'learning_rate': 0.37996045852606297, 'max_depth': 6, 'subsample': 0.42446518980431186}. Best is trial 18 with value: 0.3935573621849464.\n",
      "[I 2024-11-05 17:53:29,924] Trial 36 finished with value: 0.31086866816243863 and parameters: {'n_estimators': 50, 'learning_rate': 0.3859145958023724, 'max_depth': 8, 'subsample': 0.4181306159103967}. Best is trial 18 with value: 0.3935573621849464.\n",
      "[I 2024-11-05 17:53:30,091] Trial 38 finished with value: 0.3147351844825321 and parameters: {'n_estimators': 78, 'learning_rate': 0.30565411935882386, 'max_depth': 8, 'subsample': 0.44906224138716255}. Best is trial 18 with value: 0.3935573621849464.\n",
      "[I 2024-11-05 17:53:30,141] Trial 39 finished with value: 0.3406550391604565 and parameters: {'n_estimators': 54, 'learning_rate': 0.2918274939156548, 'max_depth': 8, 'subsample': 0.18689415445370003}. Best is trial 18 with value: 0.3935573621849464.\n",
      "[I 2024-11-05 17:53:30,156] Trial 41 finished with value: 0.3416281793382224 and parameters: {'n_estimators': 79, 'learning_rate': 0.276124803840344, 'max_depth': 8, 'subsample': 0.18398625092307377}. Best is trial 18 with value: 0.3935573621849464.\n",
      "[I 2024-11-05 17:53:30,206] Trial 42 finished with value: 0.3366461089942723 and parameters: {'n_estimators': 78, 'learning_rate': 0.28887873116111096, 'max_depth': 8, 'subsample': 0.18339547658845573}. Best is trial 18 with value: 0.3935573621849464.\n",
      "[I 2024-11-05 17:53:30,260] Trial 40 finished with value: 0.3393857025411927 and parameters: {'n_estimators': 79, 'learning_rate': 0.3001553378328039, 'max_depth': 8, 'subsample': 0.1791182838408074}. Best is trial 18 with value: 0.3935573621849464.\n",
      "[I 2024-11-05 17:53:30,451] Trial 43 finished with value: 0.3492415084717816 and parameters: {'n_estimators': 80, 'learning_rate': 0.28782524295133705, 'max_depth': 8, 'subsample': 0.18079525583193057}. Best is trial 18 with value: 0.3935573621849464.\n",
      "[I 2024-11-05 17:53:30,592] Trial 44 finished with value: 0.34196053257721193 and parameters: {'n_estimators': 80, 'learning_rate': 0.2900282876355978, 'max_depth': 8, 'subsample': 0.18676583329879834}. Best is trial 18 with value: 0.3935573621849464.\n",
      "[I 2024-11-05 17:53:30,700] Trial 45 finished with value: 0.33529470629307 and parameters: {'n_estimators': 92, 'learning_rate': 0.2895735853294732, 'max_depth': 9, 'subsample': 0.20294315749824646}. Best is trial 18 with value: 0.3935573621849464.\n",
      "[I 2024-11-05 17:53:30,791] Trial 48 finished with value: 0.4101805762343711 and parameters: {'n_estimators': 106, 'learning_rate': 0.40602753565482963, 'max_depth': 7, 'subsample': 0.3251545387872516}. Best is trial 48 with value: 0.4101805762343711.\n",
      "[I 2024-11-05 17:53:30,815] Trial 37 finished with value: 0.31497384487138314 and parameters: {'n_estimators': 76, 'learning_rate': 0.05760224068305754, 'max_depth': 8, 'subsample': 0.42630405837597357}. Best is trial 48 with value: 0.4101805762343711.\n",
      "[I 2024-11-05 17:53:30,835] Trial 49 finished with value: 0.40265485970192205 and parameters: {'n_estimators': 92, 'learning_rate': 0.40840863488466594, 'max_depth': 7, 'subsample': 0.32656482919314517}. Best is trial 48 with value: 0.4101805762343711.\n",
      "[I 2024-11-05 17:53:31,021] Trial 50 finished with value: 0.3873743453016232 and parameters: {'n_estimators': 94, 'learning_rate': 0.4181423526207662, 'max_depth': 7, 'subsample': 0.32034941345416307}. Best is trial 48 with value: 0.4101805762343711.\n",
      "[I 2024-11-05 17:53:31,027] Trial 47 finished with value: 0.2420198944447879 and parameters: {'n_estimators': 105, 'learning_rate': 0.22660545759060968, 'max_depth': 9, 'subsample': 0.6391143023254724}. Best is trial 48 with value: 0.4101805762343711.\n",
      "[I 2024-11-05 17:53:31,270] Trial 52 finished with value: 0.36206123124648115 and parameters: {'n_estimators': 96, 'learning_rate': 0.4151214339380595, 'max_depth': 7, 'subsample': 0.31859726649372855}. Best is trial 48 with value: 0.4101805762343711.\n",
      "[I 2024-11-05 17:53:31,342] Trial 54 finished with value: 0.28558425175062296 and parameters: {'n_estimators': 106, 'learning_rate': 0.2114675270638807, 'max_depth': 4, 'subsample': 0.581097493017327}. Best is trial 48 with value: 0.4101805762343711.\n",
      "[I 2024-11-05 17:53:31,390] Trial 53 finished with value: 0.31192585839903364 and parameters: {'n_estimators': 105, 'learning_rate': 0.41305533838824154, 'max_depth': 7, 'subsample': 0.6241140105637898}. Best is trial 48 with value: 0.4101805762343711.\n",
      "[I 2024-11-05 17:53:31,441] Trial 55 finished with value: 0.3776642646909062 and parameters: {'n_estimators': 106, 'learning_rate': 0.4193274891181332, 'max_depth': 7, 'subsample': 0.1276416415970283}. Best is trial 48 with value: 0.4101805762343711.\n",
      "[I 2024-11-05 17:53:31,529] Trial 56 finished with value: 0.29122067927837014 and parameters: {'n_estimators': 107, 'learning_rate': 0.4172884371344913, 'max_depth': 4, 'subsample': 0.6413874403654285}. Best is trial 48 with value: 0.4101805762343711.\n",
      "[I 2024-11-05 17:53:31,608] Trial 46 finished with value: 0.3358833450843577 and parameters: {'n_estimators': 94, 'learning_rate': 0.05005851289824417, 'max_depth': 9, 'subsample': 0.1859595235278161}. Best is trial 48 with value: 0.4101805762343711.\n",
      "[I 2024-11-05 17:53:31,623] Trial 57 finished with value: 0.381163611991457 and parameters: {'n_estimators': 59, 'learning_rate': 0.4186138735898588, 'max_depth': 5, 'subsample': 0.12985833865144358}. Best is trial 48 with value: 0.4101805762343711.\n",
      "[I 2024-11-05 17:53:31,856] Trial 51 finished with value: 0.3212583489786003 and parameters: {'n_estimators': 92, 'learning_rate': 0.05573912224911197, 'max_depth': 7, 'subsample': 0.3289834876814318}. Best is trial 48 with value: 0.4101805762343711.\n",
      "[I 2024-11-05 17:53:31,874] Trial 58 finished with value: 0.28520039281156284 and parameters: {'n_estimators': 93, 'learning_rate': 0.41819520551054257, 'max_depth': 7, 'subsample': 0.5101106773999649}. Best is trial 48 with value: 0.4101805762343711.\n",
      "[I 2024-11-05 17:53:32,027] Trial 59 finished with value: 0.3680931125260807 and parameters: {'n_estimators': 93, 'learning_rate': 0.4246452821230128, 'max_depth': 7, 'subsample': 0.22419995150687339}. Best is trial 48 with value: 0.4101805762343711.\n",
      "[I 2024-11-05 17:53:32,077] Trial 61 finished with value: 0.3977502394520266 and parameters: {'n_estimators': 94, 'learning_rate': 0.42202733347957505, 'max_depth': 5, 'subsample': 0.2325958785789161}. Best is trial 48 with value: 0.4101805762343711.\n",
      "[I 2024-11-05 17:53:32,126] Trial 60 finished with value: 0.3962587159810985 and parameters: {'n_estimators': 93, 'learning_rate': 0.42318952773163987, 'max_depth': 7, 'subsample': 0.23302685615846144}. Best is trial 48 with value: 0.4101805762343711.\n",
      "[I 2024-11-05 17:53:32,190] Trial 62 finished with value: 0.3634973683759811 and parameters: {'n_estimators': 93, 'learning_rate': 0.32217085183225247, 'max_depth': 5, 'subsample': 0.23844629129108635}. Best is trial 48 with value: 0.4101805762343711.\n",
      "[I 2024-11-05 17:53:32,243] Trial 64 finished with value: 0.3367408516900826 and parameters: {'n_estimators': 112, 'learning_rate': 0.4427067262913751, 'max_depth': 7, 'subsample': 0.23090355754740194}. Best is trial 48 with value: 0.4101805762343711.\n",
      "[I 2024-11-05 17:53:32,295] Trial 63 finished with value: 0.380302568268557 and parameters: {'n_estimators': 113, 'learning_rate': 0.319625650382992, 'max_depth': 5, 'subsample': 0.23642425629620317}. Best is trial 48 with value: 0.4101805762343711.\n",
      "[I 2024-11-05 17:53:32,610] Trial 66 finished with value: 0.360134563546724 and parameters: {'n_estimators': 89, 'learning_rate': 0.3213947877492771, 'max_depth': 7, 'subsample': 0.2362273920367134}. Best is trial 48 with value: 0.4101805762343711.\n",
      "[I 2024-11-05 17:53:32,676] Trial 68 finished with value: 0.37716546838285303 and parameters: {'n_estimators': 88, 'learning_rate': 0.33027560587135285, 'max_depth': 5, 'subsample': 0.24370821887724828}. Best is trial 48 with value: 0.4101805762343711.\n",
      "[I 2024-11-05 17:53:32,694] Trial 69 finished with value: 0.37747290552464297 and parameters: {'n_estimators': 83, 'learning_rate': 0.3266931599825591, 'max_depth': 5, 'subsample': 0.24521517129149265}. Best is trial 48 with value: 0.4101805762343711.\n",
      "[I 2024-11-05 17:53:32,722] Trial 71 finished with value: 0.3573176714693064 and parameters: {'n_estimators': 84, 'learning_rate': 0.4998554973528945, 'max_depth': 5, 'subsample': 0.30307647640901775}. Best is trial 48 with value: 0.4101805762343711.\n",
      "[I 2024-11-05 17:53:32,747] Trial 70 finished with value: 0.3845795321267653 and parameters: {'n_estimators': 89, 'learning_rate': 0.4487709852388686, 'max_depth': 5, 'subsample': 0.29281923377667385}. Best is trial 48 with value: 0.4101805762343711.\n",
      "[I 2024-11-05 17:53:32,928] Trial 72 finished with value: 0.38112942512275916 and parameters: {'n_estimators': 89, 'learning_rate': 0.49193234370466205, 'max_depth': 6, 'subsample': 0.2881126253679957}. Best is trial 48 with value: 0.4101805762343711.\n",
      "[I 2024-11-05 17:53:32,991] Trial 65 finished with value: 0.4006380770563286 and parameters: {'n_estimators': 120, 'learning_rate': 0.1282903788014668, 'max_depth': 7, 'subsample': 0.23719477007214204}. Best is trial 48 with value: 0.4101805762343711.\n",
      "[I 2024-11-05 17:53:33,007] Trial 67 finished with value: 0.3524679923921109 and parameters: {'n_estimators': 88, 'learning_rate': 0.12117259649409592, 'max_depth': 5, 'subsample': 0.29692129291420694}. Best is trial 48 with value: 0.4101805762343711.\n",
      "[I 2024-11-05 17:53:33,203] Trial 73 finished with value: 0.353955060032315 and parameters: {'n_estimators': 83, 'learning_rate': 0.49280139579354865, 'max_depth': 6, 'subsample': 0.2939209277130095}. Best is trial 48 with value: 0.4101805762343711.\n",
      "[I 2024-11-05 17:53:33,363] Trial 77 finished with value: 0.37843761738566506 and parameters: {'n_estimators': 67, 'learning_rate': 0.38000998715876105, 'max_depth': 6, 'subsample': 0.27338620647495093}. Best is trial 48 with value: 0.4101805762343711.\n",
      "[I 2024-11-05 17:53:33,391] Trial 74 finished with value: 0.38689427154995304 and parameters: {'n_estimators': 66, 'learning_rate': 0.49990669973094676, 'max_depth': 6, 'subsample': 0.2799816188607525}. Best is trial 48 with value: 0.4101805762343711.\n",
      "[I 2024-11-05 17:53:33,513] Trial 78 finished with value: 0.3311522322667444 and parameters: {'n_estimators': 67, 'learning_rate': 0.39000174819094335, 'max_depth': 7, 'subsample': 0.20522204700879337}. Best is trial 48 with value: 0.4101805762343711.\n",
      "[I 2024-11-05 17:53:33,585] Trial 75 finished with value: 0.32879876038001044 and parameters: {'n_estimators': 67, 'learning_rate': 0.11764271673837316, 'max_depth': 6, 'subsample': 0.2854561388127154}. Best is trial 48 with value: 0.4101805762343711.\n",
      "[I 2024-11-05 17:53:33,640] Trial 76 finished with value: 0.3457228361454898 and parameters: {'n_estimators': 120, 'learning_rate': 0.13097179843287027, 'max_depth': 6, 'subsample': 0.28810551691113334}. Best is trial 48 with value: 0.4101805762343711.\n",
      "[I 2024-11-05 17:53:33,828] Trial 80 finished with value: 0.3758754526285043 and parameters: {'n_estimators': 118, 'learning_rate': 0.13673363466612948, 'max_depth': 6, 'subsample': 0.20840851056207102}. Best is trial 48 with value: 0.4101805762343711.\n",
      "[I 2024-11-05 17:53:33,932] Trial 81 finished with value: 0.37523501245107216 and parameters: {'n_estimators': 119, 'learning_rate': 0.1382204252363564, 'max_depth': 4, 'subsample': 0.15622785485222282}. Best is trial 48 with value: 0.4101805762343711.\n",
      "[I 2024-11-05 17:53:34,092] Trial 79 finished with value: 0.36221623634482236 and parameters: {'n_estimators': 120, 'learning_rate': 0.08510663412413971, 'max_depth': 6, 'subsample': 0.2100518612764579}. Best is trial 48 with value: 0.4101805762343711.\n",
      "[I 2024-11-05 17:53:34,232] Trial 82 finished with value: 0.3953560193266771 and parameters: {'n_estimators': 119, 'learning_rate': 0.13390376191434528, 'max_depth': 7, 'subsample': 0.21385419723694818}. Best is trial 48 with value: 0.4101805762343711.\n",
      "[I 2024-11-05 17:53:34,270] Trial 83 finished with value: 0.36638482212555723 and parameters: {'n_estimators': 120, 'learning_rate': 0.13825445986923515, 'max_depth': 7, 'subsample': 0.20773752083314634}. Best is trial 48 with value: 0.4101805762343711.\n",
      "[I 2024-11-05 17:53:34,420] Trial 84 finished with value: 0.3681535942391394 and parameters: {'n_estimators': 119, 'learning_rate': 0.13368738426862786, 'max_depth': 7, 'subsample': 0.20769757301083283}. Best is trial 48 with value: 0.4101805762343711.\n",
      "[I 2024-11-05 17:53:34,505] Trial 85 finished with value: 0.3758037292537012 and parameters: {'n_estimators': 117, 'learning_rate': 0.14211863883552936, 'max_depth': 7, 'subsample': 0.36406945508815836}. Best is trial 48 with value: 0.4101805762343711.\n",
      "[I 2024-11-05 17:53:34,552] Trial 88 finished with value: 0.37505486467854865 and parameters: {'n_estimators': 96, 'learning_rate': 0.4496184312247799, 'max_depth': 7, 'subsample': 0.32825985636547705}. Best is trial 48 with value: 0.4101805762343711.\n",
      "[I 2024-11-05 17:53:34,638] Trial 86 finished with value: 0.3162176819253676 and parameters: {'n_estimators': 115, 'learning_rate': 0.09374837668737468, 'max_depth': 7, 'subsample': 0.3721212926725522}. Best is trial 48 with value: 0.4101805762343711.\n",
      "[I 2024-11-05 17:53:34,863] Trial 89 finished with value: 0.3406623796367957 and parameters: {'n_estimators': 114, 'learning_rate': 0.15998349559000632, 'max_depth': 7, 'subsample': 0.34896455208096216}. Best is trial 48 with value: 0.4101805762343711.\n",
      "[I 2024-11-05 17:53:34,875] Trial 87 finished with value: 0.35168606251046486 and parameters: {'n_estimators': 117, 'learning_rate': 0.10448161829553897, 'max_depth': 7, 'subsample': 0.3603301469208758}. Best is trial 48 with value: 0.4101805762343711.\n",
      "[I 2024-11-05 17:53:35,038] Trial 90 finished with value: 0.35430712582041457 and parameters: {'n_estimators': 115, 'learning_rate': 0.16308828869530442, 'max_depth': 7, 'subsample': 0.2605989998294981}. Best is trial 48 with value: 0.4101805762343711.\n",
      "[I 2024-11-05 17:53:35,041] Trial 91 finished with value: 0.35947150003645456 and parameters: {'n_estimators': 116, 'learning_rate': 0.15219446599134465, 'max_depth': 7, 'subsample': 0.3531549873263647}. Best is trial 48 with value: 0.4101805762343711.\n",
      "[I 2024-11-05 17:53:35,259] Trial 93 finished with value: 0.3482258603623922 and parameters: {'n_estimators': 115, 'learning_rate': 0.16886488258091914, 'max_depth': 8, 'subsample': 0.25666955120889495}. Best is trial 48 with value: 0.4101805762343711.\n",
      "[I 2024-11-05 17:53:35,272] Trial 92 finished with value: 0.35725841228543587 and parameters: {'n_estimators': 116, 'learning_rate': 0.1577322216344714, 'max_depth': 7, 'subsample': 0.36044440948369405}. Best is trial 48 with value: 0.4101805762343711.\n",
      "[I 2024-11-05 17:53:35,404] Trial 94 finished with value: 0.3740632476831066 and parameters: {'n_estimators': 60, 'learning_rate': 0.15387973285389123, 'max_depth': 8, 'subsample': 0.254372424642024}. Best is trial 48 with value: 0.4101805762343711.\n",
      "[I 2024-11-05 17:53:35,462] Trial 95 finished with value: 0.3611189668226059 and parameters: {'n_estimators': 115, 'learning_rate': 0.1716342623308321, 'max_depth': 8, 'subsample': 0.2565419494776686}. Best is trial 48 with value: 0.4101805762343711.\n",
      "[I 2024-11-05 17:53:35,474] Trial 96 finished with value: 0.30335765957671035 and parameters: {'n_estimators': 110, 'learning_rate': 0.4624118402176874, 'max_depth': 8, 'subsample': 0.16822805556382556}. Best is trial 48 with value: 0.4101805762343711.\n",
      "[I 2024-11-05 17:53:35,553] Trial 97 finished with value: 0.30289134696741615 and parameters: {'n_estimators': 109, 'learning_rate': 0.3935142712828254, 'max_depth': 8, 'subsample': 0.2578189367783179}. Best is trial 48 with value: 0.4101805762343711.\n",
      "[I 2024-11-05 17:53:35,693] Trial 98 finished with value: 0.3044606802277158 and parameters: {'n_estimators': 109, 'learning_rate': 0.3954453793856992, 'max_depth': 8, 'subsample': 0.4516771888169054}. Best is trial 48 with value: 0.4101805762343711.\n",
      "[I 2024-11-05 17:53:35,813] Trial 99 finished with value: 0.36356077366564743 and parameters: {'n_estimators': 110, 'learning_rate': 0.39410735348037074, 'max_depth': 8, 'subsample': 0.25674073318648377}. Best is trial 48 with value: 0.4101805762343711.\n",
      "[I 2024-11-05 17:53:35,893] Trial 102 finished with value: 0.34875161354677897 and parameters: {'n_estimators': 109, 'learning_rate': 0.39329672461047144, 'max_depth': 3, 'subsample': 0.3163439094845247}. Best is trial 48 with value: 0.4101805762343711.\n",
      "[I 2024-11-05 17:53:35,969] Trial 104 finished with value: 0.36437461407608385 and parameters: {'n_estimators': 96, 'learning_rate': 0.3974691863516623, 'max_depth': 3, 'subsample': 0.2200410708798785}. Best is trial 48 with value: 0.4101805762343711.\n",
      "[I 2024-11-05 17:53:35,975] Trial 101 finished with value: 0.29454712893506807 and parameters: {'n_estimators': 103, 'learning_rate': 0.394773997792217, 'max_depth': 8, 'subsample': 0.464855348171982}. Best is trial 48 with value: 0.4101805762343711.\n",
      "[I 2024-11-05 17:53:36,061] Trial 100 finished with value: 0.39522720861260274 and parameters: {'n_estimators': 109, 'learning_rate': 0.3893149093158348, 'max_depth': 8, 'subsample': 0.31705807889609083}. Best is trial 48 with value: 0.4101805762343711.\n",
      "[I 2024-11-05 17:53:36,171] Trial 103 finished with value: 0.3032557334132807 and parameters: {'n_estimators': 109, 'learning_rate': 0.4610174827911034, 'max_depth': 8, 'subsample': 0.16611620712111183}. Best is trial 48 with value: 0.4101805762343711.\n",
      "[I 2024-11-05 17:53:36,262] Trial 105 finished with value: 0.3794305870873297 and parameters: {'n_estimators': 97, 'learning_rate': 0.36969229260575137, 'max_depth': 7, 'subsample': 0.31404048020196984}. Best is trial 48 with value: 0.4101805762343711.\n",
      "[I 2024-11-05 17:53:36,386] Trial 106 finished with value: 0.36001199762768155 and parameters: {'n_estimators': 70, 'learning_rate': 0.36822558717801207, 'max_depth': 7, 'subsample': 0.3174234312155492}. Best is trial 48 with value: 0.4101805762343711.\n",
      "[I 2024-11-05 17:53:36,490] Trial 107 finished with value: 0.3853014985483618 and parameters: {'n_estimators': 96, 'learning_rate': 0.43274800928282253, 'max_depth': 7, 'subsample': 0.3119249489254401}. Best is trial 48 with value: 0.4101805762343711.\n",
      "[I 2024-11-05 17:53:36,554] Trial 108 finished with value: 0.37766419256509454 and parameters: {'n_estimators': 96, 'learning_rate': 0.4438807111767021, 'max_depth': 7, 'subsample': 0.31359324359866647}. Best is trial 48 with value: 0.4101805762343711.\n",
      "[I 2024-11-05 17:53:36,646] Trial 110 finished with value: 0.3863946783819736 and parameters: {'n_estimators': 98, 'learning_rate': 0.43762158293230824, 'max_depth': 7, 'subsample': 0.3126931759678831}. Best is trial 48 with value: 0.4101805762343711.\n",
      "[I 2024-11-05 17:53:36,662] Trial 109 finished with value: 0.3746636379537065 and parameters: {'n_estimators': 64, 'learning_rate': 0.4376569951511902, 'max_depth': 7, 'subsample': 0.3300546921202679}. Best is trial 48 with value: 0.4101805762343711.\n",
      "[I 2024-11-05 17:53:36,754] Trial 111 finished with value: 0.3899752258516642 and parameters: {'n_estimators': 98, 'learning_rate': 0.37438425216248933, 'max_depth': 7, 'subsample': 0.3225038140285204}. Best is trial 48 with value: 0.4101805762343711.\n",
      "[I 2024-11-05 17:53:36,867] Trial 112 finished with value: 0.36175186169657036 and parameters: {'n_estimators': 102, 'learning_rate': 0.43661732234036504, 'max_depth': 9, 'subsample': 0.3131886860990216}. Best is trial 48 with value: 0.4101805762343711.\n",
      "[I 2024-11-05 17:53:36,938] Trial 113 finished with value: 0.2979389442866044 and parameters: {'n_estimators': 70, 'learning_rate': 0.43689947384263966, 'max_depth': 9, 'subsample': 0.19466583274653843}. Best is trial 48 with value: 0.4101805762343711.\n",
      "[I 2024-11-05 17:53:37,096] Trial 114 finished with value: 0.3357598053160513 and parameters: {'n_estimators': 91, 'learning_rate': 0.4318027600384795, 'max_depth': 9, 'subsample': 0.3953668382549376}. Best is trial 48 with value: 0.4101805762343711.\n",
      "[I 2024-11-05 17:53:37,116] Trial 115 finished with value: 0.2833850437443819 and parameters: {'n_estimators': 91, 'learning_rate': 0.4370327730827496, 'max_depth': 9, 'subsample': 0.08945893383933785}. Best is trial 48 with value: 0.4101805762343711.\n",
      "[I 2024-11-05 17:53:37,315] Trial 118 finished with value: 0.25178765842470163 and parameters: {'n_estimators': 75, 'learning_rate': 0.4752501951933371, 'max_depth': 9, 'subsample': 0.08313155851202886}. Best is trial 48 with value: 0.4101805762343711.\n",
      "[I 2024-11-05 17:53:37,347] Trial 117 finished with value: 0.3179809940801738 and parameters: {'n_estimators': 103, 'learning_rate': 0.34644627286021573, 'max_depth': 9, 'subsample': 0.39308678831845545}. Best is trial 48 with value: 0.4101805762343711.\n",
      "[I 2024-11-05 17:53:37,415] Trial 116 finished with value: 0.3545130387977947 and parameters: {'n_estimators': 91, 'learning_rate': 0.12387583016788015, 'max_depth': 9, 'subsample': 0.07582057193296221}. Best is trial 48 with value: 0.4101805762343711.\n",
      "[I 2024-11-05 17:53:37,629] Trial 119 finished with value: 0.32296425891181646 and parameters: {'n_estimators': 103, 'learning_rate': 0.18511114044746685, 'max_depth': 9, 'subsample': 0.40258285351020273}. Best is trial 48 with value: 0.4101805762343711.\n",
      "[I 2024-11-05 17:53:37,667] Trial 120 finished with value: 0.3496354710923537 and parameters: {'n_estimators': 94, 'learning_rate': 0.34113931174872236, 'max_depth': 10, 'subsample': 0.4030642875844977}. Best is trial 48 with value: 0.4101805762343711.\n",
      "[I 2024-11-05 17:53:37,732] Trial 121 finished with value: 0.4048930260695539 and parameters: {'n_estimators': 86, 'learning_rate': 0.3447202740624852, 'max_depth': 10, 'subsample': 0.22285918049920964}. Best is trial 48 with value: 0.4101805762343711.\n",
      "[I 2024-11-05 17:53:37,954] Trial 124 finished with value: 0.34838055951620894 and parameters: {'n_estimators': 94, 'learning_rate': 0.3331121996181195, 'max_depth': 7, 'subsample': 0.2734914411734266}. Best is trial 48 with value: 0.4101805762343711.\n",
      "[I 2024-11-05 17:53:38,011] Trial 122 finished with value: 0.34487172673657607 and parameters: {'n_estimators': 91, 'learning_rate': 0.12102836392166269, 'max_depth': 7, 'subsample': 0.3368548328957979}. Best is trial 48 with value: 0.4101805762343711.\n",
      "[I 2024-11-05 17:53:38,090] Trial 123 finished with value: 0.3814552819430157 and parameters: {'n_estimators': 94, 'learning_rate': 0.12435606152043319, 'max_depth': 7, 'subsample': 0.2735538054479141}. Best is trial 48 with value: 0.4101805762343711.\n",
      "[I 2024-11-05 17:53:38,201] Trial 128 finished with value: 0.3583402294738287 and parameters: {'n_estimators': 64, 'learning_rate': 0.47598020853061035, 'max_depth': 6, 'subsample': 0.22180763297736142}. Best is trial 48 with value: 0.4101805762343711.\n",
      "[I 2024-11-05 17:53:38,203] Trial 125 finished with value: 0.33011880454386444 and parameters: {'n_estimators': 86, 'learning_rate': 0.12032652897572947, 'max_depth': 7, 'subsample': 0.2766626930787965}. Best is trial 48 with value: 0.4101805762343711.\n",
      "[I 2024-11-05 17:53:38,305] Trial 126 finished with value: 0.39247168967289026 and parameters: {'n_estimators': 86, 'learning_rate': 0.1823865220050724, 'max_depth': 10, 'subsample': 0.27445467360545167}. Best is trial 48 with value: 0.4101805762343711.\n",
      "[I 2024-11-05 17:53:38,516] Trial 129 finished with value: 0.39050134909472356 and parameters: {'n_estimators': 87, 'learning_rate': 0.407195547279294, 'max_depth': 10, 'subsample': 0.22346225452604077}. Best is trial 48 with value: 0.4101805762343711.\n",
      "[I 2024-11-05 17:53:38,669] Trial 130 finished with value: 0.38072978280712244 and parameters: {'n_estimators': 87, 'learning_rate': 0.36711618335993873, 'max_depth': 10, 'subsample': 0.22278877481473733}. Best is trial 48 with value: 0.4101805762343711.\n",
      "[I 2024-11-05 17:53:38,699] Trial 127 finished with value: 0.38258193629790616 and parameters: {'n_estimators': 94, 'learning_rate': 0.11257486410050545, 'max_depth': 7, 'subsample': 0.2737556094341065}. Best is trial 48 with value: 0.4101805762343711.\n",
      "[I 2024-11-05 17:53:38,772] Trial 131 finished with value: 0.3909413150230806 and parameters: {'n_estimators': 100, 'learning_rate': 0.36449393805617836, 'max_depth': 10, 'subsample': 0.22458251443385985}. Best is trial 48 with value: 0.4101805762343711.\n",
      "[I 2024-11-05 17:53:38,848] Trial 134 finished with value: 0.3456995395278257 and parameters: {'n_estimators': 86, 'learning_rate': 0.36048514625029315, 'max_depth': 7, 'subsample': 0.24156802612931821}. Best is trial 48 with value: 0.4101805762343711.\n",
      "[I 2024-11-05 17:53:38,895] Trial 132 finished with value: 0.33784631056925196 and parameters: {'n_estimators': 86, 'learning_rate': 0.3683422016622928, 'max_depth': 10, 'subsample': 0.23070830822645633}. Best is trial 48 with value: 0.4101805762343711.\n",
      "[I 2024-11-05 17:53:38,990] Trial 133 finished with value: 0.3399691572889002 and parameters: {'n_estimators': 87, 'learning_rate': 0.3641255863286803, 'max_depth': 10, 'subsample': 0.2306192740518545}. Best is trial 48 with value: 0.4101805762343711.\n",
      "[I 2024-11-05 17:53:39,320] Trial 136 finished with value: 0.3746750185870351 and parameters: {'n_estimators': 86, 'learning_rate': 0.2655382847971924, 'max_depth': 10, 'subsample': 0.22629191448775485}. Best is trial 48 with value: 0.4101805762343711.\n",
      "[I 2024-11-05 17:53:39,473] Trial 140 finished with value: 0.3196634994839054 and parameters: {'n_estimators': 81, 'learning_rate': 0.41031770541356843, 'max_depth': 10, 'subsample': 0.19847317555310912}. Best is trial 48 with value: 0.4101805762343711.\n",
      "[I 2024-11-05 17:53:39,528] Trial 138 finished with value: 0.3744798908671628 and parameters: {'n_estimators': 85, 'learning_rate': 0.3082637137028862, 'max_depth': 10, 'subsample': 0.24192236900973188}. Best is trial 48 with value: 0.4101805762343711.\n",
      "[I 2024-11-05 17:53:39,566] Trial 139 finished with value: 0.39445136738756137 and parameters: {'n_estimators': 85, 'learning_rate': 0.3114746753854293, 'max_depth': 10, 'subsample': 0.23890053537923803}. Best is trial 48 with value: 0.4101805762343711.\n",
      "[I 2024-11-05 17:53:39,633] Trial 141 finished with value: 0.328313004095969 and parameters: {'n_estimators': 100, 'learning_rate': 0.26489770884242064, 'max_depth': 10, 'subsample': 0.19330686424028923}. Best is trial 48 with value: 0.4101805762343711.\n",
      "[I 2024-11-05 17:53:39,639] Trial 135 finished with value: 0.34433214239131804 and parameters: {'n_estimators': 87, 'learning_rate': 0.06688071858883039, 'max_depth': 10, 'subsample': 0.24111320851588156}. Best is trial 48 with value: 0.4101805762343711.\n",
      "[I 2024-11-05 17:53:39,772] Trial 142 finished with value: 0.3507025545593788 and parameters: {'n_estimators': 81, 'learning_rate': 0.3083634869085, 'max_depth': 10, 'subsample': 0.19565252860650426}. Best is trial 48 with value: 0.4101805762343711.\n",
      "[I 2024-11-05 17:53:39,988] Trial 137 finished with value: 0.3803437820240446 and parameters: {'n_estimators': 85, 'learning_rate': 0.11203123714187194, 'max_depth': 10, 'subsample': 0.24415756112485507}. Best is trial 48 with value: 0.4101805762343711.\n",
      "[I 2024-11-05 17:53:40,250] Trial 143 finished with value: 0.36809500502239656 and parameters: {'n_estimators': 81, 'learning_rate': 0.2074453313054472, 'max_depth': 10, 'subsample': 0.19456305496067372}. Best is trial 48 with value: 0.4101805762343711.\n",
      "[I 2024-11-05 17:53:40,441] Trial 149 finished with value: 0.3157731720331677 and parameters: {'n_estimators': 98, 'learning_rate': 0.40563007558354014, 'max_depth': 10, 'subsample': 0.21021282161394325}. Best is trial 48 with value: 0.4101805762343711.\n",
      "[I 2024-11-05 17:53:40,444] Trial 146 finished with value: 0.40649958446607504 and parameters: {'n_estimators': 82, 'learning_rate': 0.2361985115203824, 'max_depth': 10, 'subsample': 0.21745419116404693}. Best is trial 48 with value: 0.4101805762343711.\n",
      "[I 2024-11-05 17:53:40,470] Trial 148 finished with value: 0.3899691928601272 and parameters: {'n_estimators': 84, 'learning_rate': 0.23513646543793895, 'max_depth': 10, 'subsample': 0.21046674594876147}. Best is trial 48 with value: 0.4101805762343711.\n",
      "[I 2024-11-05 17:53:40,588] Trial 145 finished with value: 0.38669340857822865 and parameters: {'n_estimators': 99, 'learning_rate': 0.1475126948303675, 'max_depth': 10, 'subsample': 0.21675031004504308}. Best is trial 48 with value: 0.4101805762343711.\n",
      "[I 2024-11-05 17:53:40,712] Trial 147 finished with value: 0.38601275328267604 and parameters: {'n_estimators': 113, 'learning_rate': 0.21627285608641234, 'max_depth': 10, 'subsample': 0.24753968921423303}. Best is trial 48 with value: 0.4101805762343711.\n",
      "[I 2024-11-05 17:53:40,890] Trial 144 finished with value: 0.3565186722947523 and parameters: {'n_estimators': 99, 'learning_rate': 0.0694751758741425, 'max_depth': 10, 'subsample': 0.24886000175531553}. Best is trial 48 with value: 0.4101805762343711.\n",
      "[I 2024-11-05 17:53:40,908] Trial 151 finished with value: 0.351061063905836 and parameters: {'n_estimators': 99, 'learning_rate': 0.4097581138251905, 'max_depth': 10, 'subsample': 0.21440954813849838}. Best is trial 48 with value: 0.4101805762343711.\n",
      "[I 2024-11-05 17:53:40,981] Trial 150 finished with value: 0.4041165309329905 and parameters: {'n_estimators': 112, 'learning_rate': 0.1483213478237961, 'max_depth': 10, 'subsample': 0.2161930008209384}. Best is trial 48 with value: 0.4101805762343711.\n",
      "[I 2024-11-05 17:53:41,172] Trial 155 finished with value: 0.29873540244972985 and parameters: {'n_estimators': 112, 'learning_rate': 0.3804809664103773, 'max_depth': 10, 'subsample': 0.1751306004649684}. Best is trial 48 with value: 0.4101805762343711.\n",
      "[I 2024-11-05 17:53:41,188] Trial 154 finished with value: 0.3004948081621486 and parameters: {'n_estimators': 112, 'learning_rate': 0.24485889752148693, 'max_depth': 10, 'subsample': 0.17319013485105833}. Best is trial 48 with value: 0.4101805762343711.\n",
      "[I 2024-11-05 17:53:41,208] Trial 153 finished with value: 0.31055206730767215 and parameters: {'n_estimators': 83, 'learning_rate': 0.22945347038986472, 'max_depth': 10, 'subsample': 0.17889275155314638}. Best is trial 48 with value: 0.4101805762343711.\n",
      "[I 2024-11-05 17:53:41,336] Trial 152 finished with value: 0.3811823785906787 and parameters: {'n_estimators': 118, 'learning_rate': 0.22342799027896357, 'max_depth': 10, 'subsample': 0.21524451305355793}. Best is trial 48 with value: 0.4101805762343711.\n",
      "[I 2024-11-05 17:53:41,411] Trial 156 finished with value: 0.3201581454434699 and parameters: {'n_estimators': 90, 'learning_rate': 0.33457394603204754, 'max_depth': 10, 'subsample': 0.17612816796724887}. Best is trial 48 with value: 0.4101805762343711.\n",
      "[I 2024-11-05 17:53:41,736] Trial 158 finished with value: 0.38717563924316467 and parameters: {'n_estimators': 90, 'learning_rate': 0.38064278725098155, 'max_depth': 10, 'subsample': 0.28840470276118046}. Best is trial 48 with value: 0.4101805762343711.\n",
      "[I 2024-11-05 17:53:41,814] Trial 157 finished with value: 0.3649986069721053 and parameters: {'n_estimators': 89, 'learning_rate': 0.23778276124061476, 'max_depth': 10, 'subsample': 0.2898100994335279}. Best is trial 48 with value: 0.4101805762343711.\n",
      "[I 2024-11-05 17:53:41,874] Trial 161 finished with value: 0.34289722726226124 and parameters: {'n_estimators': 107, 'learning_rate': 0.3417095678100371, 'max_depth': 10, 'subsample': 0.266794808083443}. Best is trial 48 with value: 0.4101805762343711.\n",
      "[I 2024-11-05 17:53:41,892] Trial 159 finished with value: 0.33689023040843347 and parameters: {'n_estimators': 89, 'learning_rate': 0.131814480792429, 'max_depth': 10, 'subsample': 0.17532497067957123}. Best is trial 48 with value: 0.4101805762343711.\n",
      "[I 2024-11-05 17:53:41,994] Trial 162 finished with value: 0.37172398830680997 and parameters: {'n_estimators': 107, 'learning_rate': 0.3395593506992215, 'max_depth': 10, 'subsample': 0.29192002144645374}. Best is trial 48 with value: 0.4101805762343711.\n",
      "[I 2024-11-05 17:53:42,014] Trial 160 finished with value: 0.35847063123844436 and parameters: {'n_estimators': 118, 'learning_rate': 0.24383542692180066, 'max_depth': 10, 'subsample': 0.2869481565180909}. Best is trial 48 with value: 0.4101805762343711.\n",
      "[I 2024-11-05 17:53:42,251] Trial 163 finished with value: 0.37874524329851333 and parameters: {'n_estimators': 89, 'learning_rate': 0.20116223013733286, 'max_depth': 10, 'subsample': 0.26930675429589135}. Best is trial 48 with value: 0.4101805762343711.\n",
      "[I 2024-11-05 17:53:42,383] Trial 164 finished with value: 0.33289461006445686 and parameters: {'n_estimators': 107, 'learning_rate': 0.12939789904941817, 'max_depth': 10, 'subsample': 0.2924593812112544}. Best is trial 48 with value: 0.4101805762343711.\n",
      "[I 2024-11-05 17:53:42,703] Trial 165 finished with value: 0.3520190034133266 and parameters: {'n_estimators': 105, 'learning_rate': 0.2037120837216059, 'max_depth': 10, 'subsample': 0.26229358306192796}. Best is trial 48 with value: 0.4101805762343711.\n",
      "[I 2024-11-05 17:53:42,720] Trial 170 finished with value: 0.3221845553938364 and parameters: {'n_estimators': 105, 'learning_rate': 0.1447002189841766, 'max_depth': 7, 'subsample': 0.2609210303998717}. Best is trial 48 with value: 0.4101805762343711.\n",
      "[I 2024-11-05 17:53:42,766] Trial 168 finished with value: 0.39660883244897105 and parameters: {'n_estimators': 119, 'learning_rate': 0.14571196234581665, 'max_depth': 9, 'subsample': 0.22702998786927478}. Best is trial 48 with value: 0.4101805762343711.\n",
      "[I 2024-11-05 17:53:42,852] Trial 166 finished with value: 0.36486785003790645 and parameters: {'n_estimators': 105, 'learning_rate': 0.12935616121615043, 'max_depth': 10, 'subsample': 0.2593018125854986}. Best is trial 48 with value: 0.4101805762343711.\n",
      "[I 2024-11-05 17:53:42,864] Trial 169 finished with value: 0.35003344651193524 and parameters: {'n_estimators': 105, 'learning_rate': 0.20001775508580272, 'max_depth': 9, 'subsample': 0.3406106910116818}. Best is trial 48 with value: 0.4101805762343711.\n",
      "[I 2024-11-05 17:53:42,871] Trial 167 finished with value: 0.38891941095202254 and parameters: {'n_estimators': 118, 'learning_rate': 0.13017387826180063, 'max_depth': 9, 'subsample': 0.23418293841241722}. Best is trial 48 with value: 0.4101805762343711.\n",
      "[I 2024-11-05 17:53:43,018] Trial 171 finished with value: 0.3831931709674281 and parameters: {'n_estimators': 120, 'learning_rate': 0.1779555669019156, 'max_depth': 7, 'subsample': 0.23109250703835274}. Best is trial 48 with value: 0.4101805762343711.\n",
      "[I 2024-11-05 17:53:43,309] Trial 172 finished with value: 0.3864190737042782 and parameters: {'n_estimators': 120, 'learning_rate': 0.14288267839231233, 'max_depth': 7, 'subsample': 0.22866085054550106}. Best is trial 48 with value: 0.4101805762343711.\n",
      "[I 2024-11-05 17:53:43,467] Trial 175 finished with value: 0.3851211092737764 and parameters: {'n_estimators': 120, 'learning_rate': 0.41888076252676365, 'max_depth': 9, 'subsample': 0.21968611761071485}. Best is trial 48 with value: 0.4101805762343711.\n",
      "[I 2024-11-05 17:53:43,529] Trial 179 finished with value: 0.3684048905861339 and parameters: {'n_estimators': 116, 'learning_rate': 0.4074698045294938, 'max_depth': 7, 'subsample': 0.22141714429935339}. Best is trial 48 with value: 0.4101805762343711.\n",
      "[I 2024-11-05 17:53:43,601] Trial 176 finished with value: 0.36192087191041467 and parameters: {'n_estimators': 120, 'learning_rate': 0.41787198827075317, 'max_depth': 9, 'subsample': 0.22976516819425152}. Best is trial 48 with value: 0.4101805762343711.\n",
      "[I 2024-11-05 17:53:43,693] Trial 178 finished with value: 0.3658864813493826 and parameters: {'n_estimators': 117, 'learning_rate': 0.14593532180101335, 'max_depth': 7, 'subsample': 0.233749896940366}. Best is trial 48 with value: 0.4101805762343711.\n",
      "[I 2024-11-05 17:53:43,705] Trial 173 finished with value: 0.39319168043149966 and parameters: {'n_estimators': 101, 'learning_rate': 0.14477252754439826, 'max_depth': 7, 'subsample': 0.22608576687856693}. Best is trial 48 with value: 0.4101805762343711.\n",
      "[I 2024-11-05 17:53:43,708] Trial 174 finished with value: 0.3806829647326464 and parameters: {'n_estimators': 120, 'learning_rate': 0.18116376565575248, 'max_depth': 9, 'subsample': 0.2291303130834808}. Best is trial 48 with value: 0.4101805762343711.\n",
      "[I 2024-11-05 17:53:43,867] Trial 177 finished with value: 0.3738845891262641 and parameters: {'n_estimators': 120, 'learning_rate': 0.1439717447264013, 'max_depth': 9, 'subsample': 0.22955751585999024}. Best is trial 48 with value: 0.4101805762343711.\n",
      "[I 2024-11-05 17:53:44,174] Trial 181 finished with value: 0.3383007188374084 and parameters: {'n_estimators': 117, 'learning_rate': 0.3828964296588812, 'max_depth': 7, 'subsample': 0.20507332252352903}. Best is trial 48 with value: 0.4101805762343711.\n",
      "[I 2024-11-05 17:53:44,267] Trial 180 finished with value: 0.35438379313306023 and parameters: {'n_estimators': 117, 'learning_rate': 0.15367693358804643, 'max_depth': 7, 'subsample': 0.2025487596408202}. Best is trial 48 with value: 0.4101805762343711.\n",
      "[I 2024-11-05 17:53:44,454] Trial 184 finished with value: 0.36548396549905826 and parameters: {'n_estimators': 77, 'learning_rate': 0.35629392952198197, 'max_depth': 8, 'subsample': 0.20513292849841058}. Best is trial 48 with value: 0.4101805762343711.\n",
      "[I 2024-11-05 17:53:44,474] Trial 187 finished with value: 0.3655545114689396 and parameters: {'n_estimators': 57, 'learning_rate': 0.15610782587335836, 'max_depth': 4, 'subsample': 0.1985016532092485}. Best is trial 48 with value: 0.4101805762343711.\n",
      "[I 2024-11-05 17:53:44,528] Trial 182 finished with value: 0.3806097713690777 and parameters: {'n_estimators': 92, 'learning_rate': 0.15192844545923595, 'max_depth': 7, 'subsample': 0.2036216471109102}. Best is trial 48 with value: 0.4101805762343711.\n",
      "[I 2024-11-05 17:53:44,645] Trial 183 finished with value: 0.36962813957635043 and parameters: {'n_estimators': 84, 'learning_rate': 0.14960803988369967, 'max_depth': 8, 'subsample': 0.20147010822455724}. Best is trial 48 with value: 0.4101805762343711.\n",
      "[I 2024-11-05 17:53:44,696] Trial 186 finished with value: 0.34796994849013274 and parameters: {'n_estimators': 92, 'learning_rate': 0.154904496406319, 'max_depth': 8, 'subsample': 0.2019316138388902}. Best is trial 48 with value: 0.4101805762343711.\n",
      "[I 2024-11-05 17:53:44,802] Trial 185 finished with value: 0.3649543499519632 and parameters: {'n_estimators': 101, 'learning_rate': 0.15344096856024933, 'max_depth': 8, 'subsample': 0.20218471494202625}. Best is trial 48 with value: 0.4101805762343711.\n",
      "[I 2024-11-05 17:53:44,887] Trial 189 finished with value: 0.2953463518501206 and parameters: {'n_estimators': 101, 'learning_rate': 0.45910261707414896, 'max_depth': 7, 'subsample': 0.18877399256033287}. Best is trial 48 with value: 0.4101805762343711.\n",
      "[I 2024-11-05 17:53:45,054] Trial 188 finished with value: 0.3668474908847872 and parameters: {'n_estimators': 102, 'learning_rate': 0.15397657546794483, 'max_depth': 7, 'subsample': 0.250740574549399}. Best is trial 48 with value: 0.4101805762343711.\n",
      "[I 2024-11-05 17:53:45,179] Trial 192 finished with value: 0.34369483084543406 and parameters: {'n_estimators': 101, 'learning_rate': 0.37521381106150353, 'max_depth': 7, 'subsample': 0.24323621136280765}. Best is trial 48 with value: 0.4101805762343711.\n",
      "[I 2024-11-05 17:53:45,314] Trial 191 finished with value: 0.3806732418712161 and parameters: {'n_estimators': 102, 'learning_rate': 0.16240993382438235, 'max_depth': 7, 'subsample': 0.24240721593949527}. Best is trial 48 with value: 0.4101805762343711.\n",
      "[I 2024-11-05 17:53:45,394] Trial 193 finished with value: 0.3422520851709 and parameters: {'n_estimators': 111, 'learning_rate': 0.16703814438041562, 'max_depth': 7, 'subsample': 0.24994366245712155}. Best is trial 48 with value: 0.4101805762343711.\n",
      "[I 2024-11-05 17:53:45,450] Trial 190 finished with value: 0.3451631767235671 and parameters: {'n_estimators': 97, 'learning_rate': 0.13731015032505892, 'max_depth': 7, 'subsample': 0.33094842794957247}. Best is trial 48 with value: 0.4101805762343711.\n",
      "[I 2024-11-05 17:53:45,470] Trial 195 finished with value: 0.3681844656206391 and parameters: {'n_estimators': 101, 'learning_rate': 0.45561670094769324, 'max_depth': 7, 'subsample': 0.24793092713521564}. Best is trial 48 with value: 0.4101805762343711.\n",
      "[I 2024-11-05 17:53:45,502] Trial 194 finished with value: 0.3660968870676272 and parameters: {'n_estimators': 97, 'learning_rate': 0.16564615019301518, 'max_depth': 7, 'subsample': 0.2505460859459034}. Best is trial 48 with value: 0.4101805762343711.\n",
      "[I 2024-11-05 17:53:45,541] Trial 197 finished with value: 0.36731122983777464 and parameters: {'n_estimators': 111, 'learning_rate': 0.3747800477444943, 'max_depth': 6, 'subsample': 0.3043423860399914}. Best is trial 48 with value: 0.4101805762343711.\n",
      "[I 2024-11-05 17:53:45,562] Trial 196 finished with value: 0.36107826269045673 and parameters: {'n_estimators': 111, 'learning_rate': 0.1670234137056806, 'max_depth': 7, 'subsample': 0.24711373779760926}. Best is trial 48 with value: 0.4101805762343711.\n",
      "[I 2024-11-05 17:53:45,708] Trial 198 finished with value: 0.36275516108862016 and parameters: {'n_estimators': 83, 'learning_rate': 0.13918264688063384, 'max_depth': 10, 'subsample': 0.3357287817065594}. Best is trial 48 with value: 0.4101805762343711.\n",
      "[I 2024-11-05 17:53:45,729] Trial 199 finished with value: 0.2516714841977593 and parameters: {'n_estimators': 83, 'learning_rate': 0.38796535836478435, 'max_depth': 10, 'subsample': 0.8863890750806268}. Best is trial 48 with value: 0.4101805762343711.\n"
     ]
    }
   ],
   "source": [
    "def objective(trial,\n",
    "    X,\n",
    "    y,\n",
    "    random_state=22,\n",
    "    n_splits=3,\n",
    "    n_repeats=2,\n",
    "    n_jobs=-1,\n",
    "              ):\n",
    "    \n",
    "    param = {\n",
    "        \"objective\": \"reg:squarederror\",\n",
    "        \"tree_method\":'hist',\n",
    "        'n_estimators': trial.suggest_int('n_estimators', 50, 120),\n",
    "        \"verbosity\": 1,\n",
    "        \"learning_rate\": trial.suggest_float(\"learning_rate\", 0.05, 0.5, log=True),\n",
    "        \"max_depth\": trial.suggest_int(\"max_depth\", 3, 10),\n",
    "        \"subsample\": trial.suggest_float(\"subsample\", 0.05, 0.9,log=True),\n",
    "        \"n_jobs\": n_jobs,\n",
    "    }\n",
    "    \n",
    "    model = xgb.XGBRegressor(**param, eval_metric=\"rmse\",early_stopping_rounds = EARLY_STOPPING_ROUNDS)\n",
    "    rkf = RepeatedKFold(n_splits=n_splits, n_repeats=n_repeats, random_state=random_state)\n",
    "    X_values = X.values\n",
    "    y_values = y.values\n",
    "    y_pred = np.zeros_like(y_values)\n",
    "\n",
    "    for train_index, test_index in rkf.split(X_values):\n",
    "        X_A, X_B = X_values[train_index, :], X_values[test_index, :]\n",
    "        y_A, y_B = y_values[train_index], y_values[test_index]\n",
    "        model.fit(X_A, y_A, eval_set=[(X_B, y_B)], verbose=0,)\n",
    "        y_pred[test_index] += model.predict(X_B)\n",
    "    y_pred /= n_repeats\n",
    "    r2 = r2_score(y_true = y_train, y_pred = y_pred)\n",
    "    \n",
    "    return r2\n",
    "\n",
    "\n",
    "sampler = TPESampler(seed=10)  # Make the sampler behave in a deterministic way.\n",
    "study = optuna.create_study(sampler = sampler, direction='maximize')\n",
    "study.optimize(\n",
    "    lambda trial: objective(\n",
    "        trial,\n",
    "        X_train,\n",
    "        y_train,\n",
    "        random_state=RS,\n",
    "        n_splits=N_SPLITS,\n",
    "        n_repeats=N_REPEATS,\n",
    "        n_jobs=N_JOBS,\n",
    "    ),\n",
    "    n_trials=N_TRIALS,\n",
    "    n_jobs=N_JOBS,\n",
    ")"
   ]
  },
  {
   "cell_type": "code",
   "execution_count": 37,
   "id": "43040a6d",
   "metadata": {},
   "outputs": [
    {
     "data": {
      "application/vnd.plotly.v1+json": {
       "config": {
        "plotlyServerURL": "https://plot.ly"
       },
       "data": [
        {
         "mode": "markers",
         "name": "Objective Value",
         "type": "scatter",
         "x": [
          0,
          1,
          2,
          3,
          4,
          5,
          6,
          7,
          8,
          9,
          10,
          11,
          12,
          13,
          14,
          15,
          16,
          17,
          18,
          19,
          20,
          21,
          22,
          23,
          24,
          25,
          26,
          27,
          28,
          29,
          30,
          31,
          32,
          33,
          34,
          35,
          36,
          37,
          38,
          39,
          40,
          41,
          42,
          43,
          44,
          45,
          46,
          47,
          48,
          49,
          50,
          51,
          52,
          53,
          54,
          55,
          56,
          57,
          58,
          59,
          60,
          61,
          62,
          63,
          64,
          65,
          66,
          67,
          68,
          69,
          70,
          71,
          72,
          73,
          74,
          75,
          76,
          77,
          78,
          79,
          80,
          81,
          82,
          83,
          84,
          85,
          86,
          87,
          88,
          89,
          90,
          91,
          92,
          93,
          94,
          95,
          96,
          97,
          98,
          99,
          100,
          101,
          102,
          103,
          104,
          105,
          106,
          107,
          108,
          109,
          110,
          111,
          112,
          113,
          114,
          115,
          116,
          117,
          118,
          119,
          120,
          121,
          122,
          123,
          124,
          125,
          126,
          127,
          128,
          129,
          130,
          131,
          132,
          133,
          134,
          135,
          136,
          137,
          138,
          139,
          140,
          141,
          142,
          143,
          144,
          145,
          146,
          147,
          148,
          149,
          150,
          151,
          152,
          153,
          154,
          155,
          156,
          157,
          158,
          159,
          160,
          161,
          162,
          163,
          164,
          165,
          166,
          167,
          168,
          169,
          170,
          171,
          172,
          173,
          174,
          175,
          176,
          177,
          178,
          179,
          180,
          181,
          182,
          183,
          184,
          185,
          186,
          187,
          188,
          189,
          190,
          191,
          192,
          193,
          194,
          195,
          196,
          197,
          198,
          199
         ],
         "y": [
          0.3651050480719574,
          0.2935079242095866,
          0.3906491374083969,
          0.32345637816212336,
          0.3096448891404302,
          0.3380545570816337,
          0.23635133401577013,
          0.33950961816485115,
          0.29781018939212867,
          0.29398584115265225,
          0.3342657207487829,
          0.32251817855901965,
          0.33195802272230246,
          0.36190728603998146,
          0.3591329794296251,
          0.31872045492466106,
          0.21583024488403657,
          0.38905535979876593,
          0.3935573621849464,
          0.34226031055064743,
          0.31829282990427965,
          0.36776369280244303,
          0.35029750656734526,
          0.3130461162112069,
          0.3512858247647538,
          0.36175932936221433,
          0.35880786723175817,
          0.3720698559171781,
          0.3718744474007917,
          0.3598261702343777,
          0.33382700399702914,
          0.36026620247344154,
          0.33917223927883944,
          0.3487543315766648,
          0.3328467223942442,
          0.33830349898131606,
          0.31086866816243863,
          0.31497384487138314,
          0.3147351844825321,
          0.3406550391604565,
          0.3393857025411927,
          0.3416281793382224,
          0.3366461089942723,
          0.3492415084717816,
          0.34196053257721193,
          0.33529470629307,
          0.3358833450843577,
          0.2420198944447879,
          0.4101805762343711,
          0.40265485970192205,
          0.3873743453016232,
          0.3212583489786003,
          0.36206123124648115,
          0.31192585839903364,
          0.28558425175062296,
          0.3776642646909062,
          0.29122067927837014,
          0.381163611991457,
          0.28520039281156284,
          0.3680931125260807,
          0.3962587159810985,
          0.3977502394520266,
          0.3634973683759811,
          0.380302568268557,
          0.3367408516900826,
          0.4006380770563286,
          0.360134563546724,
          0.3524679923921109,
          0.37716546838285303,
          0.37747290552464297,
          0.3845795321267653,
          0.3573176714693064,
          0.38112942512275916,
          0.353955060032315,
          0.38689427154995304,
          0.32879876038001044,
          0.3457228361454898,
          0.37843761738566506,
          0.3311522322667444,
          0.36221623634482236,
          0.3758754526285043,
          0.37523501245107216,
          0.3953560193266771,
          0.36638482212555723,
          0.3681535942391394,
          0.3758037292537012,
          0.3162176819253676,
          0.35168606251046486,
          0.37505486467854865,
          0.3406623796367957,
          0.35430712582041457,
          0.35947150003645456,
          0.35725841228543587,
          0.3482258603623922,
          0.3740632476831066,
          0.3611189668226059,
          0.30335765957671035,
          0.30289134696741615,
          0.3044606802277158,
          0.36356077366564743,
          0.39522720861260274,
          0.29454712893506807,
          0.34875161354677897,
          0.3032557334132807,
          0.36437461407608385,
          0.3794305870873297,
          0.36001199762768155,
          0.3853014985483618,
          0.37766419256509454,
          0.3746636379537065,
          0.3863946783819736,
          0.3899752258516642,
          0.36175186169657036,
          0.2979389442866044,
          0.3357598053160513,
          0.2833850437443819,
          0.3545130387977947,
          0.3179809940801738,
          0.25178765842470163,
          0.32296425891181646,
          0.3496354710923537,
          0.4048930260695539,
          0.34487172673657607,
          0.3814552819430157,
          0.34838055951620894,
          0.33011880454386444,
          0.39247168967289026,
          0.38258193629790616,
          0.3583402294738287,
          0.39050134909472356,
          0.38072978280712244,
          0.3909413150230806,
          0.33784631056925196,
          0.3399691572889002,
          0.3456995395278257,
          0.34433214239131804,
          0.3746750185870351,
          0.3803437820240446,
          0.3744798908671628,
          0.39445136738756137,
          0.3196634994839054,
          0.328313004095969,
          0.3507025545593788,
          0.36809500502239656,
          0.3565186722947523,
          0.38669340857822865,
          0.40649958446607504,
          0.38601275328267604,
          0.3899691928601272,
          0.3157731720331677,
          0.4041165309329905,
          0.351061063905836,
          0.3811823785906787,
          0.31055206730767215,
          0.3004948081621486,
          0.29873540244972985,
          0.3201581454434699,
          0.3649986069721053,
          0.38717563924316467,
          0.33689023040843347,
          0.35847063123844436,
          0.34289722726226124,
          0.37172398830680997,
          0.37874524329851333,
          0.33289461006445686,
          0.3520190034133266,
          0.36486785003790645,
          0.38891941095202254,
          0.39660883244897105,
          0.35003344651193524,
          0.3221845553938364,
          0.3831931709674281,
          0.3864190737042782,
          0.39319168043149966,
          0.3806829647326464,
          0.3851211092737764,
          0.36192087191041467,
          0.3738845891262641,
          0.3658864813493826,
          0.3684048905861339,
          0.35438379313306023,
          0.3383007188374084,
          0.3806097713690777,
          0.36962813957635043,
          0.36548396549905826,
          0.3649543499519632,
          0.34796994849013274,
          0.3655545114689396,
          0.3668474908847872,
          0.2953463518501206,
          0.3451631767235671,
          0.3806732418712161,
          0.34369483084543406,
          0.3422520851709,
          0.3660968870676272,
          0.3681844656206391,
          0.36107826269045673,
          0.36731122983777464,
          0.36275516108862016,
          0.2516714841977593
         ]
        },
        {
         "mode": "lines",
         "name": "Best Value",
         "type": "scatter",
         "x": [
          0,
          1,
          2,
          3,
          4,
          5,
          6,
          7,
          8,
          9,
          10,
          11,
          12,
          13,
          14,
          15,
          16,
          17,
          18,
          19,
          20,
          21,
          22,
          23,
          24,
          25,
          26,
          27,
          28,
          29,
          30,
          31,
          32,
          33,
          34,
          35,
          36,
          37,
          38,
          39,
          40,
          41,
          42,
          43,
          44,
          45,
          46,
          47,
          48,
          49,
          50,
          51,
          52,
          53,
          54,
          55,
          56,
          57,
          58,
          59,
          60,
          61,
          62,
          63,
          64,
          65,
          66,
          67,
          68,
          69,
          70,
          71,
          72,
          73,
          74,
          75,
          76,
          77,
          78,
          79,
          80,
          81,
          82,
          83,
          84,
          85,
          86,
          87,
          88,
          89,
          90,
          91,
          92,
          93,
          94,
          95,
          96,
          97,
          98,
          99,
          100,
          101,
          102,
          103,
          104,
          105,
          106,
          107,
          108,
          109,
          110,
          111,
          112,
          113,
          114,
          115,
          116,
          117,
          118,
          119,
          120,
          121,
          122,
          123,
          124,
          125,
          126,
          127,
          128,
          129,
          130,
          131,
          132,
          133,
          134,
          135,
          136,
          137,
          138,
          139,
          140,
          141,
          142,
          143,
          144,
          145,
          146,
          147,
          148,
          149,
          150,
          151,
          152,
          153,
          154,
          155,
          156,
          157,
          158,
          159,
          160,
          161,
          162,
          163,
          164,
          165,
          166,
          167,
          168,
          169,
          170,
          171,
          172,
          173,
          174,
          175,
          176,
          177,
          178,
          179,
          180,
          181,
          182,
          183,
          184,
          185,
          186,
          187,
          188,
          189,
          190,
          191,
          192,
          193,
          194,
          195,
          196,
          197,
          198,
          199
         ],
         "y": [
          0.3651050480719574,
          0.3651050480719574,
          0.3906491374083969,
          0.3906491374083969,
          0.3906491374083969,
          0.3906491374083969,
          0.3906491374083969,
          0.3906491374083969,
          0.3906491374083969,
          0.3906491374083969,
          0.3906491374083969,
          0.3906491374083969,
          0.3906491374083969,
          0.3906491374083969,
          0.3906491374083969,
          0.3906491374083969,
          0.3906491374083969,
          0.3906491374083969,
          0.3935573621849464,
          0.3935573621849464,
          0.3935573621849464,
          0.3935573621849464,
          0.3935573621849464,
          0.3935573621849464,
          0.3935573621849464,
          0.3935573621849464,
          0.3935573621849464,
          0.3935573621849464,
          0.3935573621849464,
          0.3935573621849464,
          0.3935573621849464,
          0.3935573621849464,
          0.3935573621849464,
          0.3935573621849464,
          0.3935573621849464,
          0.3935573621849464,
          0.3935573621849464,
          0.3935573621849464,
          0.3935573621849464,
          0.3935573621849464,
          0.3935573621849464,
          0.3935573621849464,
          0.3935573621849464,
          0.3935573621849464,
          0.3935573621849464,
          0.3935573621849464,
          0.3935573621849464,
          0.3935573621849464,
          0.4101805762343711,
          0.4101805762343711,
          0.4101805762343711,
          0.4101805762343711,
          0.4101805762343711,
          0.4101805762343711,
          0.4101805762343711,
          0.4101805762343711,
          0.4101805762343711,
          0.4101805762343711,
          0.4101805762343711,
          0.4101805762343711,
          0.4101805762343711,
          0.4101805762343711,
          0.4101805762343711,
          0.4101805762343711,
          0.4101805762343711,
          0.4101805762343711,
          0.4101805762343711,
          0.4101805762343711,
          0.4101805762343711,
          0.4101805762343711,
          0.4101805762343711,
          0.4101805762343711,
          0.4101805762343711,
          0.4101805762343711,
          0.4101805762343711,
          0.4101805762343711,
          0.4101805762343711,
          0.4101805762343711,
          0.4101805762343711,
          0.4101805762343711,
          0.4101805762343711,
          0.4101805762343711,
          0.4101805762343711,
          0.4101805762343711,
          0.4101805762343711,
          0.4101805762343711,
          0.4101805762343711,
          0.4101805762343711,
          0.4101805762343711,
          0.4101805762343711,
          0.4101805762343711,
          0.4101805762343711,
          0.4101805762343711,
          0.4101805762343711,
          0.4101805762343711,
          0.4101805762343711,
          0.4101805762343711,
          0.4101805762343711,
          0.4101805762343711,
          0.4101805762343711,
          0.4101805762343711,
          0.4101805762343711,
          0.4101805762343711,
          0.4101805762343711,
          0.4101805762343711,
          0.4101805762343711,
          0.4101805762343711,
          0.4101805762343711,
          0.4101805762343711,
          0.4101805762343711,
          0.4101805762343711,
          0.4101805762343711,
          0.4101805762343711,
          0.4101805762343711,
          0.4101805762343711,
          0.4101805762343711,
          0.4101805762343711,
          0.4101805762343711,
          0.4101805762343711,
          0.4101805762343711,
          0.4101805762343711,
          0.4101805762343711,
          0.4101805762343711,
          0.4101805762343711,
          0.4101805762343711,
          0.4101805762343711,
          0.4101805762343711,
          0.4101805762343711,
          0.4101805762343711,
          0.4101805762343711,
          0.4101805762343711,
          0.4101805762343711,
          0.4101805762343711,
          0.4101805762343711,
          0.4101805762343711,
          0.4101805762343711,
          0.4101805762343711,
          0.4101805762343711,
          0.4101805762343711,
          0.4101805762343711,
          0.4101805762343711,
          0.4101805762343711,
          0.4101805762343711,
          0.4101805762343711,
          0.4101805762343711,
          0.4101805762343711,
          0.4101805762343711,
          0.4101805762343711,
          0.4101805762343711,
          0.4101805762343711,
          0.4101805762343711,
          0.4101805762343711,
          0.4101805762343711,
          0.4101805762343711,
          0.4101805762343711,
          0.4101805762343711,
          0.4101805762343711,
          0.4101805762343711,
          0.4101805762343711,
          0.4101805762343711,
          0.4101805762343711,
          0.4101805762343711,
          0.4101805762343711,
          0.4101805762343711,
          0.4101805762343711,
          0.4101805762343711,
          0.4101805762343711,
          0.4101805762343711,
          0.4101805762343711,
          0.4101805762343711,
          0.4101805762343711,
          0.4101805762343711,
          0.4101805762343711,
          0.4101805762343711,
          0.4101805762343711,
          0.4101805762343711,
          0.4101805762343711,
          0.4101805762343711,
          0.4101805762343711,
          0.4101805762343711,
          0.4101805762343711,
          0.4101805762343711,
          0.4101805762343711,
          0.4101805762343711,
          0.4101805762343711,
          0.4101805762343711,
          0.4101805762343711,
          0.4101805762343711,
          0.4101805762343711,
          0.4101805762343711,
          0.4101805762343711,
          0.4101805762343711,
          0.4101805762343711,
          0.4101805762343711,
          0.4101805762343711,
          0.4101805762343711,
          0.4101805762343711,
          0.4101805762343711,
          0.4101805762343711,
          0.4101805762343711
         ]
        },
        {
         "marker": {
          "color": "#cccccc"
         },
         "mode": "markers",
         "name": "Infeasible Trial",
         "showlegend": false,
         "type": "scatter",
         "x": [],
         "y": []
        }
       ],
       "layout": {
        "template": {
         "data": {
          "bar": [
           {
            "error_x": {
             "color": "#2a3f5f"
            },
            "error_y": {
             "color": "#2a3f5f"
            },
            "marker": {
             "line": {
              "color": "#E5ECF6",
              "width": 0.5
             },
             "pattern": {
              "fillmode": "overlay",
              "size": 10,
              "solidity": 0.2
             }
            },
            "type": "bar"
           }
          ],
          "barpolar": [
           {
            "marker": {
             "line": {
              "color": "#E5ECF6",
              "width": 0.5
             },
             "pattern": {
              "fillmode": "overlay",
              "size": 10,
              "solidity": 0.2
             }
            },
            "type": "barpolar"
           }
          ],
          "carpet": [
           {
            "aaxis": {
             "endlinecolor": "#2a3f5f",
             "gridcolor": "white",
             "linecolor": "white",
             "minorgridcolor": "white",
             "startlinecolor": "#2a3f5f"
            },
            "baxis": {
             "endlinecolor": "#2a3f5f",
             "gridcolor": "white",
             "linecolor": "white",
             "minorgridcolor": "white",
             "startlinecolor": "#2a3f5f"
            },
            "type": "carpet"
           }
          ],
          "choropleth": [
           {
            "colorbar": {
             "outlinewidth": 0,
             "ticks": ""
            },
            "type": "choropleth"
           }
          ],
          "contour": [
           {
            "colorbar": {
             "outlinewidth": 0,
             "ticks": ""
            },
            "colorscale": [
             [
              0,
              "#0d0887"
             ],
             [
              0.1111111111111111,
              "#46039f"
             ],
             [
              0.2222222222222222,
              "#7201a8"
             ],
             [
              0.3333333333333333,
              "#9c179e"
             ],
             [
              0.4444444444444444,
              "#bd3786"
             ],
             [
              0.5555555555555556,
              "#d8576b"
             ],
             [
              0.6666666666666666,
              "#ed7953"
             ],
             [
              0.7777777777777778,
              "#fb9f3a"
             ],
             [
              0.8888888888888888,
              "#fdca26"
             ],
             [
              1,
              "#f0f921"
             ]
            ],
            "type": "contour"
           }
          ],
          "contourcarpet": [
           {
            "colorbar": {
             "outlinewidth": 0,
             "ticks": ""
            },
            "type": "contourcarpet"
           }
          ],
          "heatmap": [
           {
            "colorbar": {
             "outlinewidth": 0,
             "ticks": ""
            },
            "colorscale": [
             [
              0,
              "#0d0887"
             ],
             [
              0.1111111111111111,
              "#46039f"
             ],
             [
              0.2222222222222222,
              "#7201a8"
             ],
             [
              0.3333333333333333,
              "#9c179e"
             ],
             [
              0.4444444444444444,
              "#bd3786"
             ],
             [
              0.5555555555555556,
              "#d8576b"
             ],
             [
              0.6666666666666666,
              "#ed7953"
             ],
             [
              0.7777777777777778,
              "#fb9f3a"
             ],
             [
              0.8888888888888888,
              "#fdca26"
             ],
             [
              1,
              "#f0f921"
             ]
            ],
            "type": "heatmap"
           }
          ],
          "heatmapgl": [
           {
            "colorbar": {
             "outlinewidth": 0,
             "ticks": ""
            },
            "colorscale": [
             [
              0,
              "#0d0887"
             ],
             [
              0.1111111111111111,
              "#46039f"
             ],
             [
              0.2222222222222222,
              "#7201a8"
             ],
             [
              0.3333333333333333,
              "#9c179e"
             ],
             [
              0.4444444444444444,
              "#bd3786"
             ],
             [
              0.5555555555555556,
              "#d8576b"
             ],
             [
              0.6666666666666666,
              "#ed7953"
             ],
             [
              0.7777777777777778,
              "#fb9f3a"
             ],
             [
              0.8888888888888888,
              "#fdca26"
             ],
             [
              1,
              "#f0f921"
             ]
            ],
            "type": "heatmapgl"
           }
          ],
          "histogram": [
           {
            "marker": {
             "pattern": {
              "fillmode": "overlay",
              "size": 10,
              "solidity": 0.2
             }
            },
            "type": "histogram"
           }
          ],
          "histogram2d": [
           {
            "colorbar": {
             "outlinewidth": 0,
             "ticks": ""
            },
            "colorscale": [
             [
              0,
              "#0d0887"
             ],
             [
              0.1111111111111111,
              "#46039f"
             ],
             [
              0.2222222222222222,
              "#7201a8"
             ],
             [
              0.3333333333333333,
              "#9c179e"
             ],
             [
              0.4444444444444444,
              "#bd3786"
             ],
             [
              0.5555555555555556,
              "#d8576b"
             ],
             [
              0.6666666666666666,
              "#ed7953"
             ],
             [
              0.7777777777777778,
              "#fb9f3a"
             ],
             [
              0.8888888888888888,
              "#fdca26"
             ],
             [
              1,
              "#f0f921"
             ]
            ],
            "type": "histogram2d"
           }
          ],
          "histogram2dcontour": [
           {
            "colorbar": {
             "outlinewidth": 0,
             "ticks": ""
            },
            "colorscale": [
             [
              0,
              "#0d0887"
             ],
             [
              0.1111111111111111,
              "#46039f"
             ],
             [
              0.2222222222222222,
              "#7201a8"
             ],
             [
              0.3333333333333333,
              "#9c179e"
             ],
             [
              0.4444444444444444,
              "#bd3786"
             ],
             [
              0.5555555555555556,
              "#d8576b"
             ],
             [
              0.6666666666666666,
              "#ed7953"
             ],
             [
              0.7777777777777778,
              "#fb9f3a"
             ],
             [
              0.8888888888888888,
              "#fdca26"
             ],
             [
              1,
              "#f0f921"
             ]
            ],
            "type": "histogram2dcontour"
           }
          ],
          "mesh3d": [
           {
            "colorbar": {
             "outlinewidth": 0,
             "ticks": ""
            },
            "type": "mesh3d"
           }
          ],
          "parcoords": [
           {
            "line": {
             "colorbar": {
              "outlinewidth": 0,
              "ticks": ""
             }
            },
            "type": "parcoords"
           }
          ],
          "pie": [
           {
            "automargin": true,
            "type": "pie"
           }
          ],
          "scatter": [
           {
            "fillpattern": {
             "fillmode": "overlay",
             "size": 10,
             "solidity": 0.2
            },
            "type": "scatter"
           }
          ],
          "scatter3d": [
           {
            "line": {
             "colorbar": {
              "outlinewidth": 0,
              "ticks": ""
             }
            },
            "marker": {
             "colorbar": {
              "outlinewidth": 0,
              "ticks": ""
             }
            },
            "type": "scatter3d"
           }
          ],
          "scattercarpet": [
           {
            "marker": {
             "colorbar": {
              "outlinewidth": 0,
              "ticks": ""
             }
            },
            "type": "scattercarpet"
           }
          ],
          "scattergeo": [
           {
            "marker": {
             "colorbar": {
              "outlinewidth": 0,
              "ticks": ""
             }
            },
            "type": "scattergeo"
           }
          ],
          "scattergl": [
           {
            "marker": {
             "colorbar": {
              "outlinewidth": 0,
              "ticks": ""
             }
            },
            "type": "scattergl"
           }
          ],
          "scattermapbox": [
           {
            "marker": {
             "colorbar": {
              "outlinewidth": 0,
              "ticks": ""
             }
            },
            "type": "scattermapbox"
           }
          ],
          "scatterpolar": [
           {
            "marker": {
             "colorbar": {
              "outlinewidth": 0,
              "ticks": ""
             }
            },
            "type": "scatterpolar"
           }
          ],
          "scatterpolargl": [
           {
            "marker": {
             "colorbar": {
              "outlinewidth": 0,
              "ticks": ""
             }
            },
            "type": "scatterpolargl"
           }
          ],
          "scatterternary": [
           {
            "marker": {
             "colorbar": {
              "outlinewidth": 0,
              "ticks": ""
             }
            },
            "type": "scatterternary"
           }
          ],
          "surface": [
           {
            "colorbar": {
             "outlinewidth": 0,
             "ticks": ""
            },
            "colorscale": [
             [
              0,
              "#0d0887"
             ],
             [
              0.1111111111111111,
              "#46039f"
             ],
             [
              0.2222222222222222,
              "#7201a8"
             ],
             [
              0.3333333333333333,
              "#9c179e"
             ],
             [
              0.4444444444444444,
              "#bd3786"
             ],
             [
              0.5555555555555556,
              "#d8576b"
             ],
             [
              0.6666666666666666,
              "#ed7953"
             ],
             [
              0.7777777777777778,
              "#fb9f3a"
             ],
             [
              0.8888888888888888,
              "#fdca26"
             ],
             [
              1,
              "#f0f921"
             ]
            ],
            "type": "surface"
           }
          ],
          "table": [
           {
            "cells": {
             "fill": {
              "color": "#EBF0F8"
             },
             "line": {
              "color": "white"
             }
            },
            "header": {
             "fill": {
              "color": "#C8D4E3"
             },
             "line": {
              "color": "white"
             }
            },
            "type": "table"
           }
          ]
         },
         "layout": {
          "annotationdefaults": {
           "arrowcolor": "#2a3f5f",
           "arrowhead": 0,
           "arrowwidth": 1
          },
          "autotypenumbers": "strict",
          "coloraxis": {
           "colorbar": {
            "outlinewidth": 0,
            "ticks": ""
           }
          },
          "colorscale": {
           "diverging": [
            [
             0,
             "#8e0152"
            ],
            [
             0.1,
             "#c51b7d"
            ],
            [
             0.2,
             "#de77ae"
            ],
            [
             0.3,
             "#f1b6da"
            ],
            [
             0.4,
             "#fde0ef"
            ],
            [
             0.5,
             "#f7f7f7"
            ],
            [
             0.6,
             "#e6f5d0"
            ],
            [
             0.7,
             "#b8e186"
            ],
            [
             0.8,
             "#7fbc41"
            ],
            [
             0.9,
             "#4d9221"
            ],
            [
             1,
             "#276419"
            ]
           ],
           "sequential": [
            [
             0,
             "#0d0887"
            ],
            [
             0.1111111111111111,
             "#46039f"
            ],
            [
             0.2222222222222222,
             "#7201a8"
            ],
            [
             0.3333333333333333,
             "#9c179e"
            ],
            [
             0.4444444444444444,
             "#bd3786"
            ],
            [
             0.5555555555555556,
             "#d8576b"
            ],
            [
             0.6666666666666666,
             "#ed7953"
            ],
            [
             0.7777777777777778,
             "#fb9f3a"
            ],
            [
             0.8888888888888888,
             "#fdca26"
            ],
            [
             1,
             "#f0f921"
            ]
           ],
           "sequentialminus": [
            [
             0,
             "#0d0887"
            ],
            [
             0.1111111111111111,
             "#46039f"
            ],
            [
             0.2222222222222222,
             "#7201a8"
            ],
            [
             0.3333333333333333,
             "#9c179e"
            ],
            [
             0.4444444444444444,
             "#bd3786"
            ],
            [
             0.5555555555555556,
             "#d8576b"
            ],
            [
             0.6666666666666666,
             "#ed7953"
            ],
            [
             0.7777777777777778,
             "#fb9f3a"
            ],
            [
             0.8888888888888888,
             "#fdca26"
            ],
            [
             1,
             "#f0f921"
            ]
           ]
          },
          "colorway": [
           "#636efa",
           "#EF553B",
           "#00cc96",
           "#ab63fa",
           "#FFA15A",
           "#19d3f3",
           "#FF6692",
           "#B6E880",
           "#FF97FF",
           "#FECB52"
          ],
          "font": {
           "color": "#2a3f5f"
          },
          "geo": {
           "bgcolor": "white",
           "lakecolor": "white",
           "landcolor": "#E5ECF6",
           "showlakes": true,
           "showland": true,
           "subunitcolor": "white"
          },
          "hoverlabel": {
           "align": "left"
          },
          "hovermode": "closest",
          "mapbox": {
           "style": "light"
          },
          "paper_bgcolor": "white",
          "plot_bgcolor": "#E5ECF6",
          "polar": {
           "angularaxis": {
            "gridcolor": "white",
            "linecolor": "white",
            "ticks": ""
           },
           "bgcolor": "#E5ECF6",
           "radialaxis": {
            "gridcolor": "white",
            "linecolor": "white",
            "ticks": ""
           }
          },
          "scene": {
           "xaxis": {
            "backgroundcolor": "#E5ECF6",
            "gridcolor": "white",
            "gridwidth": 2,
            "linecolor": "white",
            "showbackground": true,
            "ticks": "",
            "zerolinecolor": "white"
           },
           "yaxis": {
            "backgroundcolor": "#E5ECF6",
            "gridcolor": "white",
            "gridwidth": 2,
            "linecolor": "white",
            "showbackground": true,
            "ticks": "",
            "zerolinecolor": "white"
           },
           "zaxis": {
            "backgroundcolor": "#E5ECF6",
            "gridcolor": "white",
            "gridwidth": 2,
            "linecolor": "white",
            "showbackground": true,
            "ticks": "",
            "zerolinecolor": "white"
           }
          },
          "shapedefaults": {
           "line": {
            "color": "#2a3f5f"
           }
          },
          "ternary": {
           "aaxis": {
            "gridcolor": "white",
            "linecolor": "white",
            "ticks": ""
           },
           "baxis": {
            "gridcolor": "white",
            "linecolor": "white",
            "ticks": ""
           },
           "bgcolor": "#E5ECF6",
           "caxis": {
            "gridcolor": "white",
            "linecolor": "white",
            "ticks": ""
           }
          },
          "title": {
           "x": 0.05
          },
          "xaxis": {
           "automargin": true,
           "gridcolor": "white",
           "linecolor": "white",
           "ticks": "",
           "title": {
            "standoff": 15
           },
           "zerolinecolor": "white",
           "zerolinewidth": 2
          },
          "yaxis": {
           "automargin": true,
           "gridcolor": "white",
           "linecolor": "white",
           "ticks": "",
           "title": {
            "standoff": 15
           },
           "zerolinecolor": "white",
           "zerolinewidth": 2
          }
         }
        },
        "title": {
         "text": "Optimization History Plot"
        },
        "xaxis": {
         "title": {
          "text": "Trial"
         }
        },
        "yaxis": {
         "title": {
          "text": "Objective Value"
         }
        }
       }
      }
     },
     "metadata": {},
     "output_type": "display_data"
    }
   ],
   "source": [
    "# Plot optimization history\n",
    "plot_optimization_history(study)"
   ]
  },
  {
   "cell_type": "code",
   "execution_count": 38,
   "id": "07037d73",
   "metadata": {},
   "outputs": [
    {
     "data": {
      "application/vnd.plotly.v1+json": {
       "config": {
        "plotlyServerURL": "https://plot.ly"
       },
       "data": [
        {
         "cliponaxis": false,
         "hovertemplate": [
          "n_estimators (IntDistribution): 0.011389105010391162<extra></extra>",
          "learning_rate (FloatDistribution): 0.015519948831903633<extra></extra>",
          "max_depth (IntDistribution): 0.054998062700094115<extra></extra>",
          "subsample (FloatDistribution): 0.9180928834576112<extra></extra>"
         ],
         "name": "Objective Value",
         "orientation": "h",
         "text": [
          "0.01",
          "0.02",
          "0.05",
          "0.92"
         ],
         "textposition": "outside",
         "type": "bar",
         "x": [
          0.011389105010391162,
          0.015519948831903633,
          0.054998062700094115,
          0.9180928834576112
         ],
         "y": [
          "n_estimators",
          "learning_rate",
          "max_depth",
          "subsample"
         ]
        }
       ],
       "layout": {
        "template": {
         "data": {
          "bar": [
           {
            "error_x": {
             "color": "#2a3f5f"
            },
            "error_y": {
             "color": "#2a3f5f"
            },
            "marker": {
             "line": {
              "color": "#E5ECF6",
              "width": 0.5
             },
             "pattern": {
              "fillmode": "overlay",
              "size": 10,
              "solidity": 0.2
             }
            },
            "type": "bar"
           }
          ],
          "barpolar": [
           {
            "marker": {
             "line": {
              "color": "#E5ECF6",
              "width": 0.5
             },
             "pattern": {
              "fillmode": "overlay",
              "size": 10,
              "solidity": 0.2
             }
            },
            "type": "barpolar"
           }
          ],
          "carpet": [
           {
            "aaxis": {
             "endlinecolor": "#2a3f5f",
             "gridcolor": "white",
             "linecolor": "white",
             "minorgridcolor": "white",
             "startlinecolor": "#2a3f5f"
            },
            "baxis": {
             "endlinecolor": "#2a3f5f",
             "gridcolor": "white",
             "linecolor": "white",
             "minorgridcolor": "white",
             "startlinecolor": "#2a3f5f"
            },
            "type": "carpet"
           }
          ],
          "choropleth": [
           {
            "colorbar": {
             "outlinewidth": 0,
             "ticks": ""
            },
            "type": "choropleth"
           }
          ],
          "contour": [
           {
            "colorbar": {
             "outlinewidth": 0,
             "ticks": ""
            },
            "colorscale": [
             [
              0,
              "#0d0887"
             ],
             [
              0.1111111111111111,
              "#46039f"
             ],
             [
              0.2222222222222222,
              "#7201a8"
             ],
             [
              0.3333333333333333,
              "#9c179e"
             ],
             [
              0.4444444444444444,
              "#bd3786"
             ],
             [
              0.5555555555555556,
              "#d8576b"
             ],
             [
              0.6666666666666666,
              "#ed7953"
             ],
             [
              0.7777777777777778,
              "#fb9f3a"
             ],
             [
              0.8888888888888888,
              "#fdca26"
             ],
             [
              1,
              "#f0f921"
             ]
            ],
            "type": "contour"
           }
          ],
          "contourcarpet": [
           {
            "colorbar": {
             "outlinewidth": 0,
             "ticks": ""
            },
            "type": "contourcarpet"
           }
          ],
          "heatmap": [
           {
            "colorbar": {
             "outlinewidth": 0,
             "ticks": ""
            },
            "colorscale": [
             [
              0,
              "#0d0887"
             ],
             [
              0.1111111111111111,
              "#46039f"
             ],
             [
              0.2222222222222222,
              "#7201a8"
             ],
             [
              0.3333333333333333,
              "#9c179e"
             ],
             [
              0.4444444444444444,
              "#bd3786"
             ],
             [
              0.5555555555555556,
              "#d8576b"
             ],
             [
              0.6666666666666666,
              "#ed7953"
             ],
             [
              0.7777777777777778,
              "#fb9f3a"
             ],
             [
              0.8888888888888888,
              "#fdca26"
             ],
             [
              1,
              "#f0f921"
             ]
            ],
            "type": "heatmap"
           }
          ],
          "heatmapgl": [
           {
            "colorbar": {
             "outlinewidth": 0,
             "ticks": ""
            },
            "colorscale": [
             [
              0,
              "#0d0887"
             ],
             [
              0.1111111111111111,
              "#46039f"
             ],
             [
              0.2222222222222222,
              "#7201a8"
             ],
             [
              0.3333333333333333,
              "#9c179e"
             ],
             [
              0.4444444444444444,
              "#bd3786"
             ],
             [
              0.5555555555555556,
              "#d8576b"
             ],
             [
              0.6666666666666666,
              "#ed7953"
             ],
             [
              0.7777777777777778,
              "#fb9f3a"
             ],
             [
              0.8888888888888888,
              "#fdca26"
             ],
             [
              1,
              "#f0f921"
             ]
            ],
            "type": "heatmapgl"
           }
          ],
          "histogram": [
           {
            "marker": {
             "pattern": {
              "fillmode": "overlay",
              "size": 10,
              "solidity": 0.2
             }
            },
            "type": "histogram"
           }
          ],
          "histogram2d": [
           {
            "colorbar": {
             "outlinewidth": 0,
             "ticks": ""
            },
            "colorscale": [
             [
              0,
              "#0d0887"
             ],
             [
              0.1111111111111111,
              "#46039f"
             ],
             [
              0.2222222222222222,
              "#7201a8"
             ],
             [
              0.3333333333333333,
              "#9c179e"
             ],
             [
              0.4444444444444444,
              "#bd3786"
             ],
             [
              0.5555555555555556,
              "#d8576b"
             ],
             [
              0.6666666666666666,
              "#ed7953"
             ],
             [
              0.7777777777777778,
              "#fb9f3a"
             ],
             [
              0.8888888888888888,
              "#fdca26"
             ],
             [
              1,
              "#f0f921"
             ]
            ],
            "type": "histogram2d"
           }
          ],
          "histogram2dcontour": [
           {
            "colorbar": {
             "outlinewidth": 0,
             "ticks": ""
            },
            "colorscale": [
             [
              0,
              "#0d0887"
             ],
             [
              0.1111111111111111,
              "#46039f"
             ],
             [
              0.2222222222222222,
              "#7201a8"
             ],
             [
              0.3333333333333333,
              "#9c179e"
             ],
             [
              0.4444444444444444,
              "#bd3786"
             ],
             [
              0.5555555555555556,
              "#d8576b"
             ],
             [
              0.6666666666666666,
              "#ed7953"
             ],
             [
              0.7777777777777778,
              "#fb9f3a"
             ],
             [
              0.8888888888888888,
              "#fdca26"
             ],
             [
              1,
              "#f0f921"
             ]
            ],
            "type": "histogram2dcontour"
           }
          ],
          "mesh3d": [
           {
            "colorbar": {
             "outlinewidth": 0,
             "ticks": ""
            },
            "type": "mesh3d"
           }
          ],
          "parcoords": [
           {
            "line": {
             "colorbar": {
              "outlinewidth": 0,
              "ticks": ""
             }
            },
            "type": "parcoords"
           }
          ],
          "pie": [
           {
            "automargin": true,
            "type": "pie"
           }
          ],
          "scatter": [
           {
            "fillpattern": {
             "fillmode": "overlay",
             "size": 10,
             "solidity": 0.2
            },
            "type": "scatter"
           }
          ],
          "scatter3d": [
           {
            "line": {
             "colorbar": {
              "outlinewidth": 0,
              "ticks": ""
             }
            },
            "marker": {
             "colorbar": {
              "outlinewidth": 0,
              "ticks": ""
             }
            },
            "type": "scatter3d"
           }
          ],
          "scattercarpet": [
           {
            "marker": {
             "colorbar": {
              "outlinewidth": 0,
              "ticks": ""
             }
            },
            "type": "scattercarpet"
           }
          ],
          "scattergeo": [
           {
            "marker": {
             "colorbar": {
              "outlinewidth": 0,
              "ticks": ""
             }
            },
            "type": "scattergeo"
           }
          ],
          "scattergl": [
           {
            "marker": {
             "colorbar": {
              "outlinewidth": 0,
              "ticks": ""
             }
            },
            "type": "scattergl"
           }
          ],
          "scattermapbox": [
           {
            "marker": {
             "colorbar": {
              "outlinewidth": 0,
              "ticks": ""
             }
            },
            "type": "scattermapbox"
           }
          ],
          "scatterpolar": [
           {
            "marker": {
             "colorbar": {
              "outlinewidth": 0,
              "ticks": ""
             }
            },
            "type": "scatterpolar"
           }
          ],
          "scatterpolargl": [
           {
            "marker": {
             "colorbar": {
              "outlinewidth": 0,
              "ticks": ""
             }
            },
            "type": "scatterpolargl"
           }
          ],
          "scatterternary": [
           {
            "marker": {
             "colorbar": {
              "outlinewidth": 0,
              "ticks": ""
             }
            },
            "type": "scatterternary"
           }
          ],
          "surface": [
           {
            "colorbar": {
             "outlinewidth": 0,
             "ticks": ""
            },
            "colorscale": [
             [
              0,
              "#0d0887"
             ],
             [
              0.1111111111111111,
              "#46039f"
             ],
             [
              0.2222222222222222,
              "#7201a8"
             ],
             [
              0.3333333333333333,
              "#9c179e"
             ],
             [
              0.4444444444444444,
              "#bd3786"
             ],
             [
              0.5555555555555556,
              "#d8576b"
             ],
             [
              0.6666666666666666,
              "#ed7953"
             ],
             [
              0.7777777777777778,
              "#fb9f3a"
             ],
             [
              0.8888888888888888,
              "#fdca26"
             ],
             [
              1,
              "#f0f921"
             ]
            ],
            "type": "surface"
           }
          ],
          "table": [
           {
            "cells": {
             "fill": {
              "color": "#EBF0F8"
             },
             "line": {
              "color": "white"
             }
            },
            "header": {
             "fill": {
              "color": "#C8D4E3"
             },
             "line": {
              "color": "white"
             }
            },
            "type": "table"
           }
          ]
         },
         "layout": {
          "annotationdefaults": {
           "arrowcolor": "#2a3f5f",
           "arrowhead": 0,
           "arrowwidth": 1
          },
          "autotypenumbers": "strict",
          "coloraxis": {
           "colorbar": {
            "outlinewidth": 0,
            "ticks": ""
           }
          },
          "colorscale": {
           "diverging": [
            [
             0,
             "#8e0152"
            ],
            [
             0.1,
             "#c51b7d"
            ],
            [
             0.2,
             "#de77ae"
            ],
            [
             0.3,
             "#f1b6da"
            ],
            [
             0.4,
             "#fde0ef"
            ],
            [
             0.5,
             "#f7f7f7"
            ],
            [
             0.6,
             "#e6f5d0"
            ],
            [
             0.7,
             "#b8e186"
            ],
            [
             0.8,
             "#7fbc41"
            ],
            [
             0.9,
             "#4d9221"
            ],
            [
             1,
             "#276419"
            ]
           ],
           "sequential": [
            [
             0,
             "#0d0887"
            ],
            [
             0.1111111111111111,
             "#46039f"
            ],
            [
             0.2222222222222222,
             "#7201a8"
            ],
            [
             0.3333333333333333,
             "#9c179e"
            ],
            [
             0.4444444444444444,
             "#bd3786"
            ],
            [
             0.5555555555555556,
             "#d8576b"
            ],
            [
             0.6666666666666666,
             "#ed7953"
            ],
            [
             0.7777777777777778,
             "#fb9f3a"
            ],
            [
             0.8888888888888888,
             "#fdca26"
            ],
            [
             1,
             "#f0f921"
            ]
           ],
           "sequentialminus": [
            [
             0,
             "#0d0887"
            ],
            [
             0.1111111111111111,
             "#46039f"
            ],
            [
             0.2222222222222222,
             "#7201a8"
            ],
            [
             0.3333333333333333,
             "#9c179e"
            ],
            [
             0.4444444444444444,
             "#bd3786"
            ],
            [
             0.5555555555555556,
             "#d8576b"
            ],
            [
             0.6666666666666666,
             "#ed7953"
            ],
            [
             0.7777777777777778,
             "#fb9f3a"
            ],
            [
             0.8888888888888888,
             "#fdca26"
            ],
            [
             1,
             "#f0f921"
            ]
           ]
          },
          "colorway": [
           "#636efa",
           "#EF553B",
           "#00cc96",
           "#ab63fa",
           "#FFA15A",
           "#19d3f3",
           "#FF6692",
           "#B6E880",
           "#FF97FF",
           "#FECB52"
          ],
          "font": {
           "color": "#2a3f5f"
          },
          "geo": {
           "bgcolor": "white",
           "lakecolor": "white",
           "landcolor": "#E5ECF6",
           "showlakes": true,
           "showland": true,
           "subunitcolor": "white"
          },
          "hoverlabel": {
           "align": "left"
          },
          "hovermode": "closest",
          "mapbox": {
           "style": "light"
          },
          "paper_bgcolor": "white",
          "plot_bgcolor": "#E5ECF6",
          "polar": {
           "angularaxis": {
            "gridcolor": "white",
            "linecolor": "white",
            "ticks": ""
           },
           "bgcolor": "#E5ECF6",
           "radialaxis": {
            "gridcolor": "white",
            "linecolor": "white",
            "ticks": ""
           }
          },
          "scene": {
           "xaxis": {
            "backgroundcolor": "#E5ECF6",
            "gridcolor": "white",
            "gridwidth": 2,
            "linecolor": "white",
            "showbackground": true,
            "ticks": "",
            "zerolinecolor": "white"
           },
           "yaxis": {
            "backgroundcolor": "#E5ECF6",
            "gridcolor": "white",
            "gridwidth": 2,
            "linecolor": "white",
            "showbackground": true,
            "ticks": "",
            "zerolinecolor": "white"
           },
           "zaxis": {
            "backgroundcolor": "#E5ECF6",
            "gridcolor": "white",
            "gridwidth": 2,
            "linecolor": "white",
            "showbackground": true,
            "ticks": "",
            "zerolinecolor": "white"
           }
          },
          "shapedefaults": {
           "line": {
            "color": "#2a3f5f"
           }
          },
          "ternary": {
           "aaxis": {
            "gridcolor": "white",
            "linecolor": "white",
            "ticks": ""
           },
           "baxis": {
            "gridcolor": "white",
            "linecolor": "white",
            "ticks": ""
           },
           "bgcolor": "#E5ECF6",
           "caxis": {
            "gridcolor": "white",
            "linecolor": "white",
            "ticks": ""
           }
          },
          "title": {
           "x": 0.05
          },
          "xaxis": {
           "automargin": true,
           "gridcolor": "white",
           "linecolor": "white",
           "ticks": "",
           "title": {
            "standoff": 15
           },
           "zerolinecolor": "white",
           "zerolinewidth": 2
          },
          "yaxis": {
           "automargin": true,
           "gridcolor": "white",
           "linecolor": "white",
           "ticks": "",
           "title": {
            "standoff": 15
           },
           "zerolinecolor": "white",
           "zerolinewidth": 2
          }
         }
        },
        "title": {
         "text": "Hyperparameter Importances"
        },
        "xaxis": {
         "title": {
          "text": "Hyperparameter Importance"
         }
        },
        "yaxis": {
         "title": {
          "text": "Hyperparameter"
         }
        }
       }
      }
     },
     "metadata": {},
     "output_type": "display_data"
    }
   ],
   "source": [
    "# Plot parameter importances\n",
    "plot_param_importances(study)"
   ]
  },
  {
   "cell_type": "code",
   "execution_count": 39,
   "id": "e8f4d4d6",
   "metadata": {},
   "outputs": [
    {
     "name": "stdout",
     "output_type": "stream",
     "text": [
      "        n_estimators : 106\n",
      "       learning_rate : 0.40602753565482963\n",
      "           max_depth : 7\n",
      "           subsample : 0.3251545387872516\n",
      "best objective value : 0.4101805762343711\n"
     ]
    }
   ],
   "source": [
    "hp = study.best_params\n",
    "\n",
    "for key, value in hp.items():\n",
    "    print(f\"{key:>20s} : {value}\")\n",
    "print(f\"{'best objective value':>20s} : {study.best_value}\")\n",
    "\n",
    "hp[\"verbosity\"] = 0\n",
    "hp[\"objective\"] = \"reg:squarederror\"\n",
    "hp[\"tree_method\"] = \"hist\"\n",
    "hp[\"seed\"] = RS\n",
    "hp[\"n_jobs\"] = N_JOBS"
   ]
  },
  {
   "cell_type": "code",
   "execution_count": 40,
   "id": "d1c07beb",
   "metadata": {},
   "outputs": [],
   "source": [
    "model = xgb.XGBRegressor(**hp, eval_metric=\"rmse\",early_stopping_rounds = EARLY_STOPPING_ROUNDS)\n",
    "rkf = RepeatedKFold(n_splits=N_SPLITS, n_repeats=N_REPEATS, random_state=RS)\n",
    "X_values = X_train.values\n",
    "y_values = y_train.values\n",
    "y_pred = np.zeros_like(y_test.values)\n",
    "for train_index, test_index in rkf.split(X_values):\n",
    "    X_A, X_B = X_values[train_index, :], X_values[test_index, :]\n",
    "    y_A, y_B = y_values[train_index], y_values[test_index]\n",
    "    model.fit(\n",
    "        X_A,\n",
    "        y_A,\n",
    "        eval_set=[(X_B, y_B)],\n",
    "        verbose=0,\n",
    "    )\n",
    "    y_pred += model.predict(X_test.values)\n",
    "y_pred /= N_REPEATS * N_SPLITS"
   ]
  },
  {
   "cell_type": "code",
   "execution_count": 41,
   "id": "0a3b1923",
   "metadata": {},
   "outputs": [],
   "source": [
    "score, mse = r2_score(y_true=y_test, y_pred=y_pred), mean_squared_error(y_true=y_test, y_pred=y_pred)"
   ]
  },
  {
   "cell_type": "code",
   "execution_count": 42,
   "id": "233330a8",
   "metadata": {},
   "outputs": [
    {
     "data": {
      "image/png": "[encoded data removed]",
      "text/plain": [
       "<Figure size 1044.62x1044.62 with 1 Axes>"
      ]
     },
     "metadata": {},
     "output_type": "display_data"
    }
   ],
   "source": [
    "from sklearn.metrics import PredictionErrorDisplay\n",
    "\n",
    "figsize= (15.5/2*cm, 15.5/2*cm)\n",
    "figsize=(15.92/3*cm, 15.92/3*cm)\n",
    "\n",
    "y_true = y_test\n",
    "y_pred = pd.DataFrame(y_pred)\n",
    "\n",
    "\n",
    "# Define plot structure\n",
    "fig, axs = plt.subplots(nrows=1, ncols=1, figsize=figsize, dpi=500)\n",
    "\n",
    "ped = PredictionErrorDisplay.from_predictions(y_true=y_true,\n",
    "                                            y_pred=y_pred,\n",
    "                                            kind=\"actual_vs_predicted\",\n",
    "                                            subsample=100000,\n",
    "                                            ax=axs,\n",
    "                                            random_state=0, \n",
    "                                            line_kwargs={\"color\": \"black\", \"linewidth\": 0.75, \"linestyle\": \"--\", \"alpha\": 1},)\n",
    "\n",
    "ped.ax_.set_xlabel(\"\")  # Set x label\n",
    "ped.ax_.set_ylabel(\"\")  # Set y label\n",
    "\n",
    "xlim, ylim = axis_limit[j][0], axis_limit[j][1]/2\n",
    "\n",
    "ped.ax_.set_xticks(np.arange(xlim, ylim+0.001, (ylim-xlim)/4))\n",
    "ped.ax_.set_yticks(np.arange(xlim, ylim+0.001, (ylim-xlim)/4))\n",
    "# ped.ax_.set_xlim(xlim+0.001, ylim-0.001)\n",
    "# ped.ax_.set_ylim(xlim+0.001, ylim-0.001)\n",
    "\n",
    "\n",
    "ped.ax_.grid(linewidth = 0.5, linestyle = 'dotted')\n",
    "\n",
    "scatter = ped.figure_.axes[0].collections[0]\n",
    "scatter.set_color('gray')  \n",
    "scatter.set_sizes([5]) \n",
    "scatter.set_alpha([0.5]) \n",
    "\n",
    "# plt.title(f'{investigated_column_plot}: $R^2$ = {score:.2f}, $MSE$ = {mse:.2f}', x = 0.41, y=1.02)\n",
    "plt.title(f'{investigated_column_plot}: $R^2$ = {score:.2f}', x = 0.5, y=1.02)\n",
    "\n",
    "ax = ped.ax_\n",
    "ax.set_xticks(ax.get_xticks())\n",
    "ax.tick_params(axis='x', rotation=0)\n",
    "\n",
    "fig.text(0.55, 0.03, r'$\\leftarrow$     Predicted data     $\\rightarrow$', ha='center', va='center')\n",
    "fig.text(0.04, 0.5, r'$\\leftarrow$     Actual data     $\\rightarrow$', ha='center', va='center', rotation='vertical')\n",
    "\n",
    "plt.subplots_adjust(left=0.23, right=0.91, top=0.88, bottom=0.20, wspace=0.5, hspace=0.5)\n",
    "plt.savefig(save_path, dpi=1000)"
   ]
  },
  {
   "cell_type": "code",
   "execution_count": 43,
   "id": "76e33465",
   "metadata": {},
   "outputs": [
    {
     "data": {
      "text/plain": [
       "['2_su_prediction_xgb_model.joblib']"
      ]
     },
     "execution_count": 43,
     "metadata": {},
     "output_type": "execute_result"
    }
   ],
   "source": [
    "# Save the model using joblib or pickle\n",
    "import joblib\n",
    "\n",
    "# Fit the model on the entire dataset with the best hyperparameters\n",
    "final_model = xgb.XGBRegressor(**hp, eval_metric=\"rmse\", random_state=RS)\n",
    "\n",
    "# Fit the model on the entire dataset\n",
    "final_model.fit(X, y)\n",
    "\n",
    "name = save_path.split('\\\\')[-1].split('.')[0]\n",
    "joblib.dump(final_model, f'{name}_xgb_model.joblib')\n"
   ]
  }
 ],
 "metadata": {
  "kernelspec": {
   "display_name": "DataDriven",
   "language": "python",
   "name": "python3"
  },
  "language_info": {
   "codemirror_mode": {
    "name": "ipython",
    "version": 3
   },
   "file_extension": ".py",
   "mimetype": "text/x-python",
   "name": "python",
   "nbconvert_exporter": "python",
   "pygments_lexer": "ipython3",
   "version": "3.11.1"
  }
 },
 "nbformat": 4,
 "nbformat_minor": 5
}
