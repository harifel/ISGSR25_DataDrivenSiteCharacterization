{
 "cells": [
  {
   "cell_type": "code",
   "execution_count": 1,
   "id": "a5eb73a0-65aa-4212-bdb2-e36662cd5cbe",
   "metadata": {},
   "outputs": [
    {
     "name": "stderr",
     "output_type": "stream",
     "text": [
      "c:\\Users\\haris\\Documents\\GitHub\\ISGSR25_DataDrivenSiteCharacterization\\DataDriven\\Lib\\site-packages\\tqdm\\auto.py:21: TqdmWarning: IProgress not found. Please update jupyter and ipywidgets. See https://ipywidgets.readthedocs.io/en/stable/user_install.html\n",
      "  from .autonotebook import tqdm as notebook_tqdm\n"
     ]
    }
   ],
   "source": [
    "#Import packages\n",
    "import pandas as pd\n",
    "import numpy as np\n",
    "import glob\n",
    "\n",
    "from functions import plotting_raw_data, remove_outliers, error_plot, plot_cpt_data, plot_cpt_data_ML_prediction, plot_cpt_data_NW_site\n",
    "\n",
    "import matplotlib.pyplot as plt\n",
    "from sklearn.model_selection import train_test_split\n",
    "from sklearn.metrics import r2_score, mean_squared_error\n",
    "from sklearn.model_selection import cross_val_score\n",
    "from sklearn.model_selection import train_test_split\n",
    "from sklearn.model_selection import RepeatedKFold\n",
    "from sklearn.metrics import r2_score\n",
    "import xgboost as xgb\n",
    "\n",
    "import optuna\n",
    "from optuna.samplers import TPESampler\n",
    "from optuna.visualization import plot_param_importances, plot_optimization_history"
   ]
  },
  {
   "cell_type": "code",
   "execution_count": 2,
   "id": "bd41e89e-74ac-41a5-94e1-1a64f2c713e4",
   "metadata": {},
   "outputs": [],
   "source": [
    "######################## Define the text size of each plot globally ###########\n",
    "SMALL_SIZE = 10\n",
    "BIGGER_SIZE = 10\n",
    "\n",
    "plt.rc('font', size=SMALL_SIZE)          # controls default text sizes\n",
    "plt.rc('axes', titlesize=SMALL_SIZE)     # fontsize of the axes title\n",
    "plt.rc('axes', labelsize=SMALL_SIZE)    # fontsize of the x and y labels\n",
    "plt.rc('xtick', labelsize=SMALL_SIZE)    # fontsize of the tick labels\n",
    "plt.rc('ytick', labelsize=SMALL_SIZE)    # fontsize of the tick labels\n",
    "plt.rc('legend', fontsize=SMALL_SIZE)    # legend fontsize\n",
    "plt.rc('figure', titlesize=BIGGER_SIZE)  # fontsize of the figure title\n",
    "\n",
    "plt.rcParams[\"font.family\"] = \"Times New Roman\"\n",
    "cm = 1/2.54  # centimeters in inches"
   ]
  },
  {
   "cell_type": "code",
   "execution_count": 3,
   "id": "583fdc51",
   "metadata": {},
   "outputs": [
    {
     "data": {
      "text/html": [
       "<div>\n",
       "<style scoped>\n",
       "    .dataframe tbody tr th:only-of-type {\n",
       "        vertical-align: middle;\n",
       "    }\n",
       "\n",
       "    .dataframe tbody tr th {\n",
       "        vertical-align: top;\n",
       "    }\n",
       "\n",
       "    .dataframe thead th {\n",
       "        text-align: right;\n",
       "    }\n",
       "</style>\n",
       "<table border=\"1\" class=\"dataframe\">\n",
       "  <thead>\n",
       "    <tr style=\"text-align: right;\">\n",
       "      <th></th>\n",
       "      <th>Depth (m)</th>\n",
       "      <th>qc (MPa)</th>\n",
       "      <th>fs (kPa)</th>\n",
       "      <th>Rf (%)</th>\n",
       "      <th>u2 (kPa)</th>\n",
       "      <th>gamma (kN/m3)</th>\n",
       "      <th>M (MN/m2)</th>\n",
       "      <th>OCR (-)</th>\n",
       "      <th>su (kPa)</th>\n",
       "      <th>sampling_name(-)</th>\n",
       "    </tr>\n",
       "  </thead>\n",
       "  <tbody>\n",
       "    <tr>\n",
       "      <th>0</th>\n",
       "      <td>0.79</td>\n",
       "      <td>0.153000</td>\n",
       "      <td>5.333333</td>\n",
       "      <td>3.485839</td>\n",
       "      <td>14.888889</td>\n",
       "      <td>16.410000</td>\n",
       "      <td>1.554000</td>\n",
       "      <td>4.123596</td>\n",
       "      <td>NaN</td>\n",
       "      <td>Ballina_Inclo 2</td>\n",
       "    </tr>\n",
       "    <tr>\n",
       "      <th>1</th>\n",
       "      <td>1.76</td>\n",
       "      <td>0.158000</td>\n",
       "      <td>8.111111</td>\n",
       "      <td>5.133615</td>\n",
       "      <td>45.777778</td>\n",
       "      <td>16.240000</td>\n",
       "      <td>NaN</td>\n",
       "      <td>NaN</td>\n",
       "      <td>9.4</td>\n",
       "      <td>Ballina_Inclo 2</td>\n",
       "    </tr>\n",
       "    <tr>\n",
       "      <th>2</th>\n",
       "      <td>1.86</td>\n",
       "      <td>0.159222</td>\n",
       "      <td>7.444444</td>\n",
       "      <td>4.675506</td>\n",
       "      <td>56.444444</td>\n",
       "      <td>16.420000</td>\n",
       "      <td>2.843000</td>\n",
       "      <td>3.264286</td>\n",
       "      <td>NaN</td>\n",
       "      <td>Ballina_Inclo 2</td>\n",
       "    </tr>\n",
       "    <tr>\n",
       "      <th>3</th>\n",
       "      <td>1.96</td>\n",
       "      <td>0.149333</td>\n",
       "      <td>7.111111</td>\n",
       "      <td>4.761905</td>\n",
       "      <td>82.222222</td>\n",
       "      <td>16.150000</td>\n",
       "      <td>NaN</td>\n",
       "      <td>NaN</td>\n",
       "      <td>12.3</td>\n",
       "      <td>Ballina_Inclo 2</td>\n",
       "    </tr>\n",
       "    <tr>\n",
       "      <th>4</th>\n",
       "      <td>2.27</td>\n",
       "      <td>0.176000</td>\n",
       "      <td>7.000000</td>\n",
       "      <td>3.977273</td>\n",
       "      <td>101.444444</td>\n",
       "      <td>15.800000</td>\n",
       "      <td>1.303000</td>\n",
       "      <td>2.182143</td>\n",
       "      <td>NaN</td>\n",
       "      <td>Ballina_Inclo 2</td>\n",
       "    </tr>\n",
       "    <tr>\n",
       "      <th>...</th>\n",
       "      <td>...</td>\n",
       "      <td>...</td>\n",
       "      <td>...</td>\n",
       "      <td>...</td>\n",
       "      <td>...</td>\n",
       "      <td>...</td>\n",
       "      <td>...</td>\n",
       "      <td>...</td>\n",
       "      <td>...</td>\n",
       "      <td>...</td>\n",
       "    </tr>\n",
       "    <tr>\n",
       "      <th>378</th>\n",
       "      <td>12.90</td>\n",
       "      <td>0.690000</td>\n",
       "      <td>9.500000</td>\n",
       "      <td>1.376812</td>\n",
       "      <td>372.500000</td>\n",
       "      <td>17.576633</td>\n",
       "      <td>3.342717</td>\n",
       "      <td>1.013250</td>\n",
       "      <td>NaN</td>\n",
       "      <td>PITS_Rhesi_KB02</td>\n",
       "    </tr>\n",
       "    <tr>\n",
       "      <th>379</th>\n",
       "      <td>12.90</td>\n",
       "      <td>0.690000</td>\n",
       "      <td>9.500000</td>\n",
       "      <td>1.376812</td>\n",
       "      <td>372.500000</td>\n",
       "      <td>17.924784</td>\n",
       "      <td>NaN</td>\n",
       "      <td>NaN</td>\n",
       "      <td>NaN</td>\n",
       "      <td>PITS_Rhesi_KB02</td>\n",
       "    </tr>\n",
       "    <tr>\n",
       "      <th>380</th>\n",
       "      <td>12.90</td>\n",
       "      <td>0.690000</td>\n",
       "      <td>9.500000</td>\n",
       "      <td>1.376812</td>\n",
       "      <td>372.500000</td>\n",
       "      <td>17.924784</td>\n",
       "      <td>4.504654</td>\n",
       "      <td>1.208106</td>\n",
       "      <td>NaN</td>\n",
       "      <td>PITS_Rhesi_KB02</td>\n",
       "    </tr>\n",
       "    <tr>\n",
       "      <th>381</th>\n",
       "      <td>4.80</td>\n",
       "      <td>0.480000</td>\n",
       "      <td>8.800000</td>\n",
       "      <td>1.833333</td>\n",
       "      <td>310.500000</td>\n",
       "      <td>17.924784</td>\n",
       "      <td>0.902065</td>\n",
       "      <td>NaN</td>\n",
       "      <td>NaN</td>\n",
       "      <td>PITS_Seekirchen_BS01</td>\n",
       "    </tr>\n",
       "    <tr>\n",
       "      <th>382</th>\n",
       "      <td>4.80</td>\n",
       "      <td>0.480000</td>\n",
       "      <td>8.800000</td>\n",
       "      <td>1.833333</td>\n",
       "      <td>310.500000</td>\n",
       "      <td>17.800000</td>\n",
       "      <td>NaN</td>\n",
       "      <td>NaN</td>\n",
       "      <td>NaN</td>\n",
       "      <td>PITS_Seekirchen_BS01</td>\n",
       "    </tr>\n",
       "  </tbody>\n",
       "</table>\n",
       "<p>383 rows × 10 columns</p>\n",
       "</div>"
      ],
      "text/plain": [
       "     Depth (m)  qc (MPa)  fs (kPa)    Rf (%)    u2 (kPa)  gamma (kN/m3)  \\\n",
       "0         0.79  0.153000  5.333333  3.485839   14.888889      16.410000   \n",
       "1         1.76  0.158000  8.111111  5.133615   45.777778      16.240000   \n",
       "2         1.86  0.159222  7.444444  4.675506   56.444444      16.420000   \n",
       "3         1.96  0.149333  7.111111  4.761905   82.222222      16.150000   \n",
       "4         2.27  0.176000  7.000000  3.977273  101.444444      15.800000   \n",
       "..         ...       ...       ...       ...         ...            ...   \n",
       "378      12.90  0.690000  9.500000  1.376812  372.500000      17.576633   \n",
       "379      12.90  0.690000  9.500000  1.376812  372.500000      17.924784   \n",
       "380      12.90  0.690000  9.500000  1.376812  372.500000      17.924784   \n",
       "381       4.80  0.480000  8.800000  1.833333  310.500000      17.924784   \n",
       "382       4.80  0.480000  8.800000  1.833333  310.500000      17.800000   \n",
       "\n",
       "     M (MN/m2)   OCR (-)  su (kPa)      sampling_name(-)  \n",
       "0     1.554000  4.123596       NaN       Ballina_Inclo 2  \n",
       "1          NaN       NaN       9.4       Ballina_Inclo 2  \n",
       "2     2.843000  3.264286       NaN       Ballina_Inclo 2  \n",
       "3          NaN       NaN      12.3       Ballina_Inclo 2  \n",
       "4     1.303000  2.182143       NaN       Ballina_Inclo 2  \n",
       "..         ...       ...       ...                   ...  \n",
       "378   3.342717  1.013250       NaN       PITS_Rhesi_KB02  \n",
       "379        NaN       NaN       NaN       PITS_Rhesi_KB02  \n",
       "380   4.504654  1.208106       NaN       PITS_Rhesi_KB02  \n",
       "381   0.902065       NaN       NaN  PITS_Seekirchen_BS01  \n",
       "382        NaN       NaN       NaN  PITS_Seekirchen_BS01  \n",
       "\n",
       "[383 rows x 10 columns]"
      ]
     },
     "execution_count": 3,
     "metadata": {},
     "output_type": "execute_result"
    }
   ],
   "source": [
    "data_ML = pd.read_csv('..\\data\\database_preprocessed.csv')\n",
    "data_ML"
   ]
  },
  {
   "cell_type": "code",
   "execution_count": 4,
   "id": "5a040bcd",
   "metadata": {},
   "outputs": [
    {
     "name": "stdout",
     "output_type": "stream",
     "text": [
      "su (kPa) is selected to predict, $s_u$ (kPa) is plotted, ..\\graphics\\\\2_su_prediction.png is saved, (0, 200) is the axis limit, 168 is the length of the data\n"
     ]
    }
   ],
   "source": [
    "prefix = r'..\\graphics\\\\'\n",
    "investigated_column =  ['gamma (kN/m3)', 'su (kPa)', 'M (MN/m2)', 'OCR (-)']\n",
    "investigated_column_plot =  ['$\\gamma$ (kN/m$^3$)', '$s_u$ (kPa)', 'M (MN/m$^2$)', 'OCR (-)']\n",
    "save_paths = [prefix + '1_gamma_prediction.png', prefix + '2_su_prediction.png', prefix + '3_M_prediction.png']\n",
    "axis_limit = [(13, 22), (0, 200), (0, 20), (0,20)]\n",
    "\n",
    "j = 1\n",
    "investigated_column_plot = investigated_column_plot[j]\n",
    "investigated_column = investigated_column[j]\n",
    "save_path = save_paths[j]\n",
    "\n",
    "data_ML = data_ML.dropna(subset=[investigated_column])\n",
    "print(f\"{investigated_column} is selected to predict, {investigated_column_plot} is plotted, {save_path} is saved, {axis_limit[j]} is the axis limit, {len(data_ML)} is the length of the data\")\n",
    "\n",
    "columns_x = ['Depth (m)','qc (MPa)', 'fs (kPa)','Rf (%)'] #for Machine learning features\n",
    "plot_columns_x_label = ['Depth (m)','$q_c$ (MPa)', '$f_s$ (kPa)','$R_f$ (%)'] #for plotting purpose\n",
    "\n",
    "X = data_ML.loc[:,columns_x]\n",
    "y = data_ML[investigated_column]\n",
    "\n",
    "X_train, X_test, y_train, y_test = train_test_split(X, y, test_size=0.20, random_state=42)"
   ]
  },
  {
   "cell_type": "code",
   "execution_count": 5,
   "id": "bcd50316",
   "metadata": {},
   "outputs": [
    {
     "data": {
      "text/html": [
       "<div>\n",
       "<style scoped>\n",
       "    .dataframe tbody tr th:only-of-type {\n",
       "        vertical-align: middle;\n",
       "    }\n",
       "\n",
       "    .dataframe tbody tr th {\n",
       "        vertical-align: top;\n",
       "    }\n",
       "\n",
       "    .dataframe thead th {\n",
       "        text-align: right;\n",
       "    }\n",
       "</style>\n",
       "<table border=\"1\" class=\"dataframe\">\n",
       "  <thead>\n",
       "    <tr style=\"text-align: right;\">\n",
       "      <th></th>\n",
       "      <th>Depth (m)</th>\n",
       "      <th>qc (MPa)</th>\n",
       "      <th>fs (kPa)</th>\n",
       "      <th>Rf (%)</th>\n",
       "      <th>u2 (kPa)</th>\n",
       "      <th>gamma (kN/m3)</th>\n",
       "      <th>M (MN/m2)</th>\n",
       "      <th>OCR (-)</th>\n",
       "      <th>su (kPa)</th>\n",
       "      <th>sampling_name(-)</th>\n",
       "    </tr>\n",
       "  </thead>\n",
       "  <tbody>\n",
       "    <tr>\n",
       "      <th>1</th>\n",
       "      <td>1.760</td>\n",
       "      <td>0.158000</td>\n",
       "      <td>8.111111</td>\n",
       "      <td>5.133615</td>\n",
       "      <td>45.777778</td>\n",
       "      <td>16.24</td>\n",
       "      <td>NaN</td>\n",
       "      <td>NaN</td>\n",
       "      <td>9.4</td>\n",
       "      <td>Ballina_Inclo 2</td>\n",
       "    </tr>\n",
       "    <tr>\n",
       "      <th>3</th>\n",
       "      <td>1.960</td>\n",
       "      <td>0.149333</td>\n",
       "      <td>7.111111</td>\n",
       "      <td>4.761905</td>\n",
       "      <td>82.222222</td>\n",
       "      <td>16.15</td>\n",
       "      <td>NaN</td>\n",
       "      <td>NaN</td>\n",
       "      <td>12.3</td>\n",
       "      <td>Ballina_Inclo 2</td>\n",
       "    </tr>\n",
       "    <tr>\n",
       "      <th>5</th>\n",
       "      <td>2.370</td>\n",
       "      <td>0.170222</td>\n",
       "      <td>7.000000</td>\n",
       "      <td>4.112272</td>\n",
       "      <td>104.333333</td>\n",
       "      <td>15.40</td>\n",
       "      <td>NaN</td>\n",
       "      <td>NaN</td>\n",
       "      <td>17.2</td>\n",
       "      <td>Ballina_Inclo 2</td>\n",
       "    </tr>\n",
       "    <tr>\n",
       "      <th>7</th>\n",
       "      <td>2.570</td>\n",
       "      <td>0.198111</td>\n",
       "      <td>9.888889</td>\n",
       "      <td>4.991587</td>\n",
       "      <td>62.444444</td>\n",
       "      <td>15.40</td>\n",
       "      <td>NaN</td>\n",
       "      <td>NaN</td>\n",
       "      <td>13.3</td>\n",
       "      <td>Ballina_Inclo 2</td>\n",
       "    </tr>\n",
       "    <tr>\n",
       "      <th>8</th>\n",
       "      <td>2.910</td>\n",
       "      <td>0.158444</td>\n",
       "      <td>7.555556</td>\n",
       "      <td>4.768583</td>\n",
       "      <td>102.444444</td>\n",
       "      <td>15.05</td>\n",
       "      <td>NaN</td>\n",
       "      <td>NaN</td>\n",
       "      <td>13.7</td>\n",
       "      <td>Ballina_Inclo 2</td>\n",
       "    </tr>\n",
       "    <tr>\n",
       "      <th>...</th>\n",
       "      <td>...</td>\n",
       "      <td>...</td>\n",
       "      <td>...</td>\n",
       "      <td>...</td>\n",
       "      <td>...</td>\n",
       "      <td>...</td>\n",
       "      <td>...</td>\n",
       "      <td>...</td>\n",
       "      <td>...</td>\n",
       "      <td>...</td>\n",
       "    </tr>\n",
       "    <tr>\n",
       "      <th>364</th>\n",
       "      <td>12.495</td>\n",
       "      <td>0.899000</td>\n",
       "      <td>18.160000</td>\n",
       "      <td>2.020022</td>\n",
       "      <td>318.630000</td>\n",
       "      <td>19.56</td>\n",
       "      <td>NaN</td>\n",
       "      <td>NaN</td>\n",
       "      <td>57.9</td>\n",
       "      <td>NGTS_Silt_HALB05</td>\n",
       "    </tr>\n",
       "    <tr>\n",
       "      <th>367</th>\n",
       "      <td>8.315</td>\n",
       "      <td>0.768000</td>\n",
       "      <td>17.893000</td>\n",
       "      <td>2.329818</td>\n",
       "      <td>183.133000</td>\n",
       "      <td>19.65</td>\n",
       "      <td>NaN</td>\n",
       "      <td>NaN</td>\n",
       "      <td>40.3</td>\n",
       "      <td>NGTS_Silt_HALB06</td>\n",
       "    </tr>\n",
       "    <tr>\n",
       "      <th>369</th>\n",
       "      <td>8.645</td>\n",
       "      <td>0.848000</td>\n",
       "      <td>19.268000</td>\n",
       "      <td>2.272170</td>\n",
       "      <td>176.950000</td>\n",
       "      <td>19.10</td>\n",
       "      <td>NaN</td>\n",
       "      <td>NaN</td>\n",
       "      <td>11.7</td>\n",
       "      <td>NGTS_Silt_HALB06</td>\n",
       "    </tr>\n",
       "    <tr>\n",
       "      <th>372</th>\n",
       "      <td>9.925</td>\n",
       "      <td>0.815000</td>\n",
       "      <td>17.350000</td>\n",
       "      <td>2.128834</td>\n",
       "      <td>227.794000</td>\n",
       "      <td>19.70</td>\n",
       "      <td>NaN</td>\n",
       "      <td>NaN</td>\n",
       "      <td>44.0</td>\n",
       "      <td>NGTS_Silt_HALB06</td>\n",
       "    </tr>\n",
       "    <tr>\n",
       "      <th>374</th>\n",
       "      <td>11.395</td>\n",
       "      <td>0.889000</td>\n",
       "      <td>16.628000</td>\n",
       "      <td>1.870416</td>\n",
       "      <td>298.347000</td>\n",
       "      <td>19.70</td>\n",
       "      <td>NaN</td>\n",
       "      <td>NaN</td>\n",
       "      <td>53.5</td>\n",
       "      <td>NGTS_Silt_HALB06</td>\n",
       "    </tr>\n",
       "  </tbody>\n",
       "</table>\n",
       "<p>168 rows × 10 columns</p>\n",
       "</div>"
      ],
      "text/plain": [
       "     Depth (m)  qc (MPa)   fs (kPa)    Rf (%)    u2 (kPa)  gamma (kN/m3)  \\\n",
       "1        1.760  0.158000   8.111111  5.133615   45.777778          16.24   \n",
       "3        1.960  0.149333   7.111111  4.761905   82.222222          16.15   \n",
       "5        2.370  0.170222   7.000000  4.112272  104.333333          15.40   \n",
       "7        2.570  0.198111   9.888889  4.991587   62.444444          15.40   \n",
       "8        2.910  0.158444   7.555556  4.768583  102.444444          15.05   \n",
       "..         ...       ...        ...       ...         ...            ...   \n",
       "364     12.495  0.899000  18.160000  2.020022  318.630000          19.56   \n",
       "367      8.315  0.768000  17.893000  2.329818  183.133000          19.65   \n",
       "369      8.645  0.848000  19.268000  2.272170  176.950000          19.10   \n",
       "372      9.925  0.815000  17.350000  2.128834  227.794000          19.70   \n",
       "374     11.395  0.889000  16.628000  1.870416  298.347000          19.70   \n",
       "\n",
       "     M (MN/m2)  OCR (-)  su (kPa)  sampling_name(-)  \n",
       "1          NaN      NaN       9.4   Ballina_Inclo 2  \n",
       "3          NaN      NaN      12.3   Ballina_Inclo 2  \n",
       "5          NaN      NaN      17.2   Ballina_Inclo 2  \n",
       "7          NaN      NaN      13.3   Ballina_Inclo 2  \n",
       "8          NaN      NaN      13.7   Ballina_Inclo 2  \n",
       "..         ...      ...       ...               ...  \n",
       "364        NaN      NaN      57.9  NGTS_Silt_HALB05  \n",
       "367        NaN      NaN      40.3  NGTS_Silt_HALB06  \n",
       "369        NaN      NaN      11.7  NGTS_Silt_HALB06  \n",
       "372        NaN      NaN      44.0  NGTS_Silt_HALB06  \n",
       "374        NaN      NaN      53.5  NGTS_Silt_HALB06  \n",
       "\n",
       "[168 rows x 10 columns]"
      ]
     },
     "execution_count": 5,
     "metadata": {},
     "output_type": "execute_result"
    }
   ],
   "source": [
    "data_ML"
   ]
  },
  {
   "cell_type": "code",
   "execution_count": 21,
   "id": "cc344cd5",
   "metadata": {},
   "outputs": [
    {
     "data": {
      "image/png": "[encoded data removed]",
      "text/plain": [
       "<Figure size 1017.06x1574.8 with 4 Axes>"
      ]
     },
     "metadata": {},
     "output_type": "display_data"
    }
   ],
   "source": [
    "# Plotting training data \n",
    "s = 1  # Adjust the marker size as needed\n",
    "color = 'k'  # Adjust the marker color as needed\n",
    "alpha = 0.5\n",
    "\n",
    "columns_x.append(investigated_column_plot)\n",
    "\n",
    "#Plot scatter points: raw data points as\n",
    "fig, axes = plt.subplots(4, 1, figsize=(15.92/3*cm, 8*cm), dpi=500, sharex=True)\n",
    "plotting_raw_data(X,y, alpha, s, color, True, axes, columns_x, 'Raw data', False)\n",
    "\n",
    "#plotting_raw_data(X,y, alpha, s, 'r', 'Removed outliers', False, axes, plot_columns_x_label)\n",
    "# Adjust layout to prevent overlapping\n",
    "fig.text(0.01, 0.02, rf'{len(data_ML)} datapoints', ha='left', va='center', fontsize=10, color='black', alpha=0.5)\n",
    "plt.subplots_adjust(left=0.25, right=0.99, top=0.97, bottom=0.15, wspace=0.15, hspace=0.2)\n",
    "plt.savefig(f\"{prefix}{j+1}_raw_data.png\", dpi = 1000)"
   ]
  },
  {
   "cell_type": "code",
   "execution_count": 7,
   "id": "f0452315",
   "metadata": {},
   "outputs": [],
   "source": [
    "# # Plotting training data\n",
    "# s = 1  # Adjust the marker size as needed\n",
    "# color = 'k'  # Adjust the marker color as needed\n",
    "# alpha = 0.5\n",
    "\n",
    "# columns_x.append(investigated_column)\n",
    "\n",
    "# # Plot scatter points: raw data points\n",
    "# fig, axes = plt.subplots(4, 1, figsize=(20*cm, 20*cm), dpi=500, sharex=True)\n",
    "# plotting_raw_data(X, y, alpha, s, color, True, axes, columns_x, 'Raw data', False)\n",
    "\n",
    "# xlim, ylim = axis_limit[j][0], axis_limit[j][1]\n",
    "\n",
    "# # Set ticks for each subplot\n",
    "# for ax in axes:\n",
    "#     ax.set_xticks(np.arange(xlim, ylim + 0.001, (ylim - xlim) / 4))\n",
    "\n",
    "# # Set sampling_name as the index and create separate DataFrames for each unique sampling_name\n",
    "# grouped_dfs = {name: group.set_index('sampling_name(-)') for name, group in data_ML.groupby('sampling_name(-)')}\n",
    "\n",
    "# color_list = ['b', 'r', 'm', 'green', 'brown', 'orange', 'brown', 'pink', 'grey', 'cyan']\n",
    "# k = 0\n",
    "# m = 0 \n",
    "# print(len(grouped_dfs.keys()))\n",
    "\n",
    "\n",
    "# # Iterate over each DataFrame for unique sampling names\n",
    "# for sampling_name in grouped_dfs.keys():\n",
    "#     df = grouped_dfs[sampling_name]\n",
    "#     with open(f\"{prefix}{j+1}_sampling_name.txt\", \"a\") as f:\n",
    "#         f.write(f\"Sampling name: {sampling_name}, Number of data points: {len(df)}\\n\")\n",
    "#     X1 = df.loc[:, columns_x]\n",
    "#     y1 = df[investigated_column]\n",
    "#     plotting_raw_data(X1, y1, alpha, 5, color_list[k], False, axes, columns_x, sampling_name, False)\n",
    "#     m += 1  \n",
    "#     if m == 3:\n",
    "#         k = 1\n",
    "#     elif m == 24:\n",
    "#         k = 2\n",
    "#     elif m == 27:\n",
    "#         k = 3\n",
    "#     elif m == 32:\n",
    "#         k = 4\n",
    "#     elif m == 35:\n",
    "#         k = 5\n",
    "#     elif m == 42:\n",
    "#         k = 6\n",
    "\n",
    "\n",
    "# # Add legend to the top of the first subplot with high zorder\n",
    "# legend = axes[-1].legend(loc='upper center', bbox_to_anchor=(0.8, 4.5))\n",
    "\n",
    "# # Add text and adjust layout\n",
    "# fig.text(0.02, 0.02, rf'{len(data_ML)} datapoints', ha='left', va='center', fontsize=10, color='black', alpha=0.5)\n",
    "# plt.subplots_adjust(left=0.20, right=0.93, top=0.97, bottom=0.15, wspace=0.15, hspace=0.2)\n",
    "# plt.savefig(f\"{prefix}{j+1}_raw_data.png\", dpi=1000)"
   ]
  },
  {
   "cell_type": "code",
   "execution_count": 8,
   "id": "39fe2002",
   "metadata": {},
   "outputs": [],
   "source": [
    "RS = 44  # random state\n",
    "N_JOBS = -1  # number of parallel threads\n",
    "\n",
    "# repeated K-folds\n",
    "N_SPLITS = 10\n",
    "N_REPEATS = 1\n",
    "\n",
    "# Optuna\n",
    "N_TRIALS = 200\n",
    "\n",
    "# XGBoost\n",
    "EARLY_STOPPING_ROUNDS = 10"
   ]
  },
  {
   "cell_type": "code",
   "execution_count": 9,
   "id": "f4f80d3a",
   "metadata": {},
   "outputs": [
    {
     "name": "stderr",
     "output_type": "stream",
     "text": [
      "[I 2024-10-31 09:23:14,340] A new study created in memory with name: no-name-84f3b3fb-fc31-42a3-8825-0d0c6a798407\n",
      "[I 2024-10-31 09:23:15,389] Trial 1 finished with value: 0.7501708568198245 and parameters: {'n_estimators': 70, 'learning_rate': 0.3061237184326807, 'max_depth': 5, 'subsample': 0.06846562846367502}. Best is trial 1 with value: 0.7501708568198245.\n",
      "[I 2024-10-31 09:23:15,583] Trial 7 finished with value: 0.6302128812682217 and parameters: {'n_estimators': 112, 'learning_rate': 0.09490245654787273, 'max_depth': 3, 'subsample': 0.061324371551220676}. Best is trial 1 with value: 0.7501708568198245.\n",
      "[I 2024-10-31 09:23:15,827] Trial 6 finished with value: 0.7073592820539361 and parameters: {'n_estimators': 94, 'learning_rate': 0.09798841006266959, 'max_depth': 5, 'subsample': 0.2030964182747552}. Best is trial 1 with value: 0.7501708568198245.\n",
      "[I 2024-10-31 09:23:16,063] Trial 5 finished with value: 0.6907955834624957 and parameters: {'n_estimators': 55, 'learning_rate': 0.06595440972578834, 'max_depth': 4, 'subsample': 0.1673426698744604}. Best is trial 1 with value: 0.7501708568198245.\n",
      "[I 2024-10-31 09:23:16,577] Trial 2 finished with value: 0.7146717633128271 and parameters: {'n_estimators': 120, 'learning_rate': 0.06647932002794357, 'max_depth': 3, 'subsample': 0.09432393522679436}. Best is trial 1 with value: 0.7501708568198245.\n",
      "[I 2024-10-31 09:23:16,792] Trial 0 finished with value: 0.6709713846209311 and parameters: {'n_estimators': 103, 'learning_rate': 0.09756416854054485, 'max_depth': 9, 'subsample': 0.5367010357327455}. Best is trial 1 with value: 0.7501708568198245.\n",
      "[I 2024-10-31 09:23:16,826] Trial 4 finished with value: 0.712300357119424 and parameters: {'n_estimators': 99, 'learning_rate': 0.07865159918502945, 'max_depth': 10, 'subsample': 0.1957173054421696}. Best is trial 1 with value: 0.7501708568198245.\n",
      "[I 2024-10-31 09:23:17,043] Trial 10 finished with value: 0.739623940894593 and parameters: {'n_estimators': 110, 'learning_rate': 0.4053917927370855, 'max_depth': 7, 'subsample': 0.2056705097153437}. Best is trial 1 with value: 0.7501708568198245.\n",
      "[I 2024-10-31 09:23:17,253] Trial 3 finished with value: 0.6871230695882343 and parameters: {'n_estimators': 67, 'learning_rate': 0.053494220264286026, 'max_depth': 8, 'subsample': 0.3559574002083755}. Best is trial 1 with value: 0.7501708568198245.\n",
      "[I 2024-10-31 09:23:17,385] Trial 11 finished with value: 0.6901852225361569 and parameters: {'n_estimators': 77, 'learning_rate': 0.18622600358859975, 'max_depth': 10, 'subsample': 0.05034172448494109}. Best is trial 1 with value: 0.7501708568198245.\n",
      "[I 2024-10-31 09:23:17,436] Trial 8 finished with value: 0.7257226170362279 and parameters: {'n_estimators': 62, 'learning_rate': 0.11986382410644925, 'max_depth': 10, 'subsample': 0.1569169434530751}. Best is trial 1 with value: 0.7501708568198245.\n",
      "[I 2024-10-31 09:23:17,936] Trial 9 finished with value: 0.6801177972235661 and parameters: {'n_estimators': 107, 'learning_rate': 0.05311063261659685, 'max_depth': 4, 'subsample': 0.06720801642926233}. Best is trial 1 with value: 0.7501708568198245.\n",
      "[I 2024-10-31 09:23:18,387] Trial 16 finished with value: 0.7498494075533271 and parameters: {'n_estimators': 82, 'learning_rate': 0.3333210123744263, 'max_depth': 4, 'subsample': 0.06528166085498888}. Best is trial 1 with value: 0.7501708568198245.\n",
      "[I 2024-10-31 09:23:18,468] Trial 13 finished with value: 0.7162415259125754 and parameters: {'n_estimators': 50, 'learning_rate': 0.23755800549047468, 'max_depth': 7, 'subsample': 0.11554850254055371}. Best is trial 1 with value: 0.7501708568198245.\n",
      "[I 2024-10-31 09:23:18,595] Trial 18 finished with value: 0.6810687291163497 and parameters: {'n_estimators': 83, 'learning_rate': 0.4123852102227909, 'max_depth': 6, 'subsample': 0.7631554405123894}. Best is trial 1 with value: 0.7501708568198245.\n",
      "[I 2024-10-31 09:23:18,750] Trial 17 finished with value: 0.7039761342797639 and parameters: {'n_estimators': 52, 'learning_rate': 0.41522159857276625, 'max_depth': 6, 'subsample': 0.10137745060470445}. Best is trial 1 with value: 0.7501708568198245.\n",
      "[I 2024-10-31 09:23:18,818] Trial 15 finished with value: 0.7101897342470103 and parameters: {'n_estimators': 67, 'learning_rate': 0.07556365741010457, 'max_depth': 3, 'subsample': 0.2456663441850343}. Best is trial 1 with value: 0.7501708568198245.\n",
      "[I 2024-10-31 09:23:19,222] Trial 14 finished with value: 0.7238428055394935 and parameters: {'n_estimators': 95, 'learning_rate': 0.1038597288046153, 'max_depth': 7, 'subsample': 0.1454611821525656}. Best is trial 1 with value: 0.7501708568198245.\n",
      "[I 2024-10-31 09:23:19,323] Trial 19 finished with value: 0.6704805966955707 and parameters: {'n_estimators': 79, 'learning_rate': 0.38631837759568577, 'max_depth': 7, 'subsample': 0.8059333939441412}. Best is trial 1 with value: 0.7501708568198245.\n",
      "[I 2024-10-31 09:23:19,589] Trial 21 finished with value: 0.7478539541454121 and parameters: {'n_estimators': 82, 'learning_rate': 0.4547642530501811, 'max_depth': 5, 'subsample': 0.09029732850844764}. Best is trial 1 with value: 0.7501708568198245.\n",
      "[I 2024-10-31 09:23:19,677] Trial 20 finished with value: 0.793866701114885 and parameters: {'n_estimators': 82, 'learning_rate': 0.35136797936178155, 'max_depth': 6, 'subsample': 0.08593608760020141}. Best is trial 20 with value: 0.793866701114885.\n",
      "[I 2024-10-31 09:23:19,750] Trial 12 finished with value: 0.6910667900767555 and parameters: {'n_estimators': 104, 'learning_rate': 0.05124440781812119, 'max_depth': 8, 'subsample': 0.15727072319888363}. Best is trial 20 with value: 0.793866701114885.\n",
      "[I 2024-10-31 09:23:19,864] Trial 22 finished with value: 0.7255161296771506 and parameters: {'n_estimators': 74, 'learning_rate': 0.2830016316109406, 'max_depth': 5, 'subsample': 0.09351508314205569}. Best is trial 20 with value: 0.793866701114885.\n",
      "[I 2024-10-31 09:23:19,967] Trial 24 finished with value: 0.7233520816848393 and parameters: {'n_estimators': 78, 'learning_rate': 0.2748372612418798, 'max_depth': 5, 'subsample': 0.07529392712602072}. Best is trial 20 with value: 0.793866701114885.\n",
      "[I 2024-10-31 09:23:20,075] Trial 23 finished with value: 0.7325500661209252 and parameters: {'n_estimators': 73, 'learning_rate': 0.26066918648575327, 'max_depth': 5, 'subsample': 0.07488808863276254}. Best is trial 20 with value: 0.793866701114885.\n",
      "[I 2024-10-31 09:23:20,484] Trial 25 finished with value: 0.7559333502615783 and parameters: {'n_estimators': 77, 'learning_rate': 0.27581601966889185, 'max_depth': 5, 'subsample': 0.07897136867236747}. Best is trial 20 with value: 0.793866701114885.\n",
      "[I 2024-10-31 09:23:20,567] Trial 26 finished with value: 0.7382959281994129 and parameters: {'n_estimators': 89, 'learning_rate': 0.2860757665296378, 'max_depth': 5, 'subsample': 0.07804012725596603}. Best is trial 20 with value: 0.793866701114885.\n",
      "[I 2024-10-31 09:23:20,733] Trial 27 finished with value: 0.739000668811092 and parameters: {'n_estimators': 73, 'learning_rate': 0.29430709314424824, 'max_depth': 5, 'subsample': 0.06992232883458768}. Best is trial 20 with value: 0.793866701114885.\n",
      "[I 2024-10-31 09:23:20,791] Trial 28 finished with value: 0.7150848847476352 and parameters: {'n_estimators': 74, 'learning_rate': 0.2855182424854885, 'max_depth': 5, 'subsample': 0.07341198667004267}. Best is trial 20 with value: 0.793866701114885.\n",
      "[I 2024-10-31 09:23:21,028] Trial 29 finished with value: 0.7367138798350547 and parameters: {'n_estimators': 89, 'learning_rate': 0.2931864301043606, 'max_depth': 5, 'subsample': 0.07254045066511695}. Best is trial 20 with value: 0.793866701114885.\n",
      "[I 2024-10-31 09:23:21,108] Trial 30 finished with value: 0.7355385454694109 and parameters: {'n_estimators': 88, 'learning_rate': 0.302183369336819, 'max_depth': 4, 'subsample': 0.07115932137826902}. Best is trial 20 with value: 0.793866701114885.\n",
      "[I 2024-10-31 09:23:21,260] Trial 31 finished with value: 0.6820617604815685 and parameters: {'n_estimators': 89, 'learning_rate': 0.3198239220598407, 'max_depth': 4, 'subsample': 0.05044642547493504}. Best is trial 20 with value: 0.793866701114885.\n",
      "[I 2024-10-31 09:23:21,339] Trial 32 finished with value: 0.7117520644753466 and parameters: {'n_estimators': 89, 'learning_rate': 0.32868596644624654, 'max_depth': 4, 'subsample': 0.05152855612728882}. Best is trial 20 with value: 0.793866701114885.\n",
      "[I 2024-10-31 09:23:22,080] Trial 34 finished with value: 0.6852585090657098 and parameters: {'n_estimators': 89, 'learning_rate': 0.20856541585286534, 'max_depth': 6, 'subsample': 0.05061324602588728}. Best is trial 20 with value: 0.793866701114885.\n",
      "[I 2024-10-31 09:23:22,188] Trial 33 finished with value: 0.7079775289885228 and parameters: {'n_estimators': 88, 'learning_rate': 0.18811742768542353, 'max_depth': 6, 'subsample': 0.12414200288043846}. Best is trial 20 with value: 0.793866701114885.\n",
      "[I 2024-10-31 09:23:22,396] Trial 35 finished with value: 0.7021885663952567 and parameters: {'n_estimators': 88, 'learning_rate': 0.19819520276651478, 'max_depth': 6, 'subsample': 0.05259779655378591}. Best is trial 20 with value: 0.793866701114885.\n",
      "[I 2024-10-31 09:23:22,574] Trial 38 finished with value: 0.6968594298385864 and parameters: {'n_estimators': 64, 'learning_rate': 0.20757804827828374, 'max_depth': 6, 'subsample': 0.052660751864658496}. Best is trial 20 with value: 0.793866701114885.\n",
      "[I 2024-10-31 09:23:22,632] Trial 36 finished with value: 0.7402504635070976 and parameters: {'n_estimators': 66, 'learning_rate': 0.20517050216804725, 'max_depth': 6, 'subsample': 0.12411101625470845}. Best is trial 20 with value: 0.793866701114885.\n",
      "[I 2024-10-31 09:23:22,683] Trial 37 finished with value: 0.7036985579950925 and parameters: {'n_estimators': 60, 'learning_rate': 0.20910308624376045, 'max_depth': 6, 'subsample': 0.11930218196278167}. Best is trial 20 with value: 0.793866701114885.\n",
      "[I 2024-10-31 09:23:23,062] Trial 42 finished with value: 0.7012343836046901 and parameters: {'n_estimators': 67, 'learning_rate': 0.49714733546044865, 'max_depth': 3, 'subsample': 0.3097123807274559}. Best is trial 20 with value: 0.793866701114885.\n",
      "[I 2024-10-31 09:23:23,166] Trial 40 finished with value: 0.739237944773335 and parameters: {'n_estimators': 68, 'learning_rate': 0.2113065054623733, 'max_depth': 6, 'subsample': 0.12493932759007023}. Best is trial 20 with value: 0.793866701114885.\n",
      "[I 2024-10-31 09:23:23,235] Trial 39 finished with value: 0.7502643375699397 and parameters: {'n_estimators': 64, 'learning_rate': 0.2034138087103121, 'max_depth': 6, 'subsample': 0.1262777321878146}. Best is trial 20 with value: 0.793866701114885.\n",
      "[I 2024-10-31 09:23:23,451] Trial 44 finished with value: 0.7084547341238818 and parameters: {'n_estimators': 59, 'learning_rate': 0.49674680690335293, 'max_depth': 3, 'subsample': 0.31302414975090964}. Best is trial 20 with value: 0.793866701114885.\n",
      "[I 2024-10-31 09:23:23,565] Trial 43 finished with value: 0.7118123951025257 and parameters: {'n_estimators': 67, 'learning_rate': 0.35504647114889687, 'max_depth': 3, 'subsample': 0.11433970945864379}. Best is trial 20 with value: 0.793866701114885.\n",
      "[I 2024-10-31 09:23:23,779] Trial 46 finished with value: 0.7192734618468213 and parameters: {'n_estimators': 68, 'learning_rate': 0.3540738861689182, 'max_depth': 3, 'subsample': 0.06121071349349061}. Best is trial 20 with value: 0.793866701114885.\n",
      "[I 2024-10-31 09:23:23,872] Trial 41 finished with value: 0.7345624539427262 and parameters: {'n_estimators': 67, 'learning_rate': 0.16670932949936423, 'max_depth': 6, 'subsample': 0.1320935920935537}. Best is trial 20 with value: 0.793866701114885.\n",
      "[I 2024-10-31 09:23:24,065] Trial 45 finished with value: 0.7140493838269828 and parameters: {'n_estimators': 60, 'learning_rate': 0.15210579448001157, 'max_depth': 3, 'subsample': 0.30296591762548036}. Best is trial 20 with value: 0.793866701114885.\n",
      "[I 2024-10-31 09:23:24,490] Trial 48 finished with value: 0.718072003020906 and parameters: {'n_estimators': 83, 'learning_rate': 0.35971619983983893, 'max_depth': 4, 'subsample': 0.09208245492021604}. Best is trial 20 with value: 0.793866701114885.\n",
      "[I 2024-10-31 09:23:24,655] Trial 47 finished with value: 0.6885360106221665 and parameters: {'n_estimators': 70, 'learning_rate': 0.15092730387568748, 'max_depth': 4, 'subsample': 0.06139824479005448}. Best is trial 20 with value: 0.793866701114885.\n",
      "[I 2024-10-31 09:23:24,714] Trial 50 finished with value: 0.7281347287675817 and parameters: {'n_estimators': 70, 'learning_rate': 0.350020216407269, 'max_depth': 4, 'subsample': 0.06192755378101945}. Best is trial 20 with value: 0.793866701114885.\n",
      "[I 2024-10-31 09:23:24,858] Trial 49 finished with value: 0.6969711266821511 and parameters: {'n_estimators': 58, 'learning_rate': 0.15440855516411675, 'max_depth': 4, 'subsample': 0.061559618524288096}. Best is trial 20 with value: 0.793866701114885.\n",
      "[I 2024-10-31 09:23:25,070] Trial 51 finished with value: 0.6816554158000008 and parameters: {'n_estimators': 82, 'learning_rate': 0.15619213465763834, 'max_depth': 4, 'subsample': 0.06103070280877406}. Best is trial 20 with value: 0.793866701114885.\n",
      "[I 2024-10-31 09:23:25,326] Trial 53 finished with value: 0.7466859048758698 and parameters: {'n_estimators': 82, 'learning_rate': 0.24583204557875307, 'max_depth': 8, 'subsample': 0.08566059868257085}. Best is trial 20 with value: 0.793866701114885.\n",
      "[I 2024-10-31 09:23:25,415] Trial 54 finished with value: 0.7248623656453534 and parameters: {'n_estimators': 83, 'learning_rate': 0.24008480621533057, 'max_depth': 8, 'subsample': 0.08518467295549043}. Best is trial 20 with value: 0.793866701114885.\n",
      "[I 2024-10-31 09:23:25,620] Trial 52 finished with value: 0.7243884471614719 and parameters: {'n_estimators': 71, 'learning_rate': 0.15361851219450018, 'max_depth': 8, 'subsample': 0.0859071701138715}. Best is trial 20 with value: 0.793866701114885.\n",
      "[I 2024-10-31 09:23:25,876] Trial 55 finished with value: 0.7006230188527316 and parameters: {'n_estimators': 71, 'learning_rate': 0.24179283607045948, 'max_depth': 7, 'subsample': 0.06069091170678935}. Best is trial 20 with value: 0.793866701114885.\n",
      "[I 2024-10-31 09:23:26,233] Trial 57 finished with value: 0.7515725619290334 and parameters: {'n_estimators': 98, 'learning_rate': 0.2429432399716943, 'max_depth': 8, 'subsample': 0.08305873380025293}. Best is trial 20 with value: 0.793866701114885.\n",
      "[I 2024-10-31 09:23:26,293] Trial 56 finished with value: 0.7638105858426131 and parameters: {'n_estimators': 56, 'learning_rate': 0.24111909157409878, 'max_depth': 7, 'subsample': 0.0854731126700803}. Best is trial 20 with value: 0.793866701114885.\n",
      "[I 2024-10-31 09:23:26,403] Trial 58 finished with value: 0.7516391295189844 and parameters: {'n_estimators': 81, 'learning_rate': 0.24262116304851908, 'max_depth': 8, 'subsample': 0.08625679099524727}. Best is trial 20 with value: 0.793866701114885.\n",
      "[I 2024-10-31 09:23:26,505] Trial 60 finished with value: 0.6687198057058283 and parameters: {'n_estimators': 93, 'learning_rate': 0.4524636217310284, 'max_depth': 5, 'subsample': 0.10611247910888891}. Best is trial 20 with value: 0.793866701114885.\n",
      "[I 2024-10-31 09:23:26,647] Trial 59 finished with value: 0.7421761750438187 and parameters: {'n_estimators': 80, 'learning_rate': 0.23635602026535382, 'max_depth': 8, 'subsample': 0.08294620891498972}. Best is trial 20 with value: 0.793866701114885.\n",
      "[I 2024-10-31 09:23:26,772] Trial 61 finished with value: 0.6413970478609586 and parameters: {'n_estimators': 77, 'learning_rate': 0.43178472051962774, 'max_depth': 5, 'subsample': 0.09560869534945203}. Best is trial 20 with value: 0.793866701114885.\n",
      "[I 2024-10-31 09:23:26,860] Trial 62 finished with value: 0.6563298427014266 and parameters: {'n_estimators': 95, 'learning_rate': 0.43691458163042457, 'max_depth': 5, 'subsample': 0.10501757085974922}. Best is trial 20 with value: 0.793866701114885.\n",
      "[I 2024-10-31 09:23:27,133] Trial 63 finished with value: 0.7086186882249845 and parameters: {'n_estimators': 77, 'learning_rate': 0.44650544701886785, 'max_depth': 5, 'subsample': 0.17247579668322688}. Best is trial 20 with value: 0.793866701114885.\n",
      "[I 2024-10-31 09:23:27,681] Trial 64 finished with value: 0.7261878612701491 and parameters: {'n_estimators': 98, 'learning_rate': 0.26424610863294085, 'max_depth': 9, 'subsample': 0.1064623864954346}. Best is trial 20 with value: 0.793866701114885.\n",
      "[I 2024-10-31 09:23:27,770] Trial 69 finished with value: 0.6981611400346468 and parameters: {'n_estimators': 55, 'learning_rate': 0.25955672619182096, 'max_depth': 7, 'subsample': 0.1879502561214637}. Best is trial 20 with value: 0.793866701114885.\n",
      "[I 2024-10-31 09:23:27,953] Trial 70 finished with value: 0.7057992392547865 and parameters: {'n_estimators': 119, 'learning_rate': 0.2560842181903447, 'max_depth': 9, 'subsample': 0.10087154800084024}. Best is trial 20 with value: 0.793866701114885.\n",
      "[I 2024-10-31 09:23:27,993] Trial 66 finished with value: 0.7373505183311047 and parameters: {'n_estimators': 120, 'learning_rate': 0.2214557137030661, 'max_depth': 9, 'subsample': 0.1099149540943803}. Best is trial 20 with value: 0.793866701114885.\n",
      "[I 2024-10-31 09:23:28,050] Trial 68 finished with value: 0.7193869758425795 and parameters: {'n_estimators': 115, 'learning_rate': 0.2654242238951039, 'max_depth': 9, 'subsample': 0.102543018061441}. Best is trial 20 with value: 0.793866701114885.\n",
      "[I 2024-10-31 09:23:28,110] Trial 65 finished with value: 0.7081257221922254 and parameters: {'n_estimators': 98, 'learning_rate': 0.13504600128059194, 'max_depth': 7, 'subsample': 0.1033195762419061}. Best is trial 20 with value: 0.793866701114885.\n",
      "[I 2024-10-31 09:23:28,230] Trial 67 finished with value: 0.6842993286994212 and parameters: {'n_estimators': 119, 'learning_rate': 0.1761385470112633, 'max_depth': 9, 'subsample': 0.19012958675170838}. Best is trial 20 with value: 0.793866701114885.\n",
      "[I 2024-10-31 09:23:28,553] Trial 71 finished with value: 0.7248473055234816 and parameters: {'n_estimators': 116, 'learning_rate': 0.271022520029588, 'max_depth': 9, 'subsample': 0.14264622885339345}. Best is trial 20 with value: 0.793866701114885.\n",
      "[I 2024-10-31 09:23:29,158] Trial 78 finished with value: 0.7387794033361283 and parameters: {'n_estimators': 85, 'learning_rate': 0.3114110772602415, 'max_depth': 7, 'subsample': 0.06683007418605189}. Best is trial 20 with value: 0.793866701114885.\n",
      "[I 2024-10-31 09:23:29,331] Trial 72 finished with value: 0.7089182528696389 and parameters: {'n_estimators': 54, 'learning_rate': 0.17416432259355208, 'max_depth': 9, 'subsample': 0.14911409198503636}. Best is trial 20 with value: 0.793866701114885.\n",
      "[I 2024-10-31 09:23:29,378] Trial 74 finished with value: 0.6551493591482225 and parameters: {'n_estimators': 63, 'learning_rate': 0.22726790019016546, 'max_depth': 7, 'subsample': 0.5492884701855164}. Best is trial 20 with value: 0.793866701114885.\n",
      "[I 2024-10-31 09:23:29,522] Trial 75 finished with value: 0.730319045742543 and parameters: {'n_estimators': 54, 'learning_rate': 0.16993671548798864, 'max_depth': 7, 'subsample': 0.15110722064673454}. Best is trial 20 with value: 0.793866701114885.\n",
      "[I 2024-10-31 09:23:29,600] Trial 73 finished with value: 0.6810977958438813 and parameters: {'n_estimators': 63, 'learning_rate': 0.1717314418149261, 'max_depth': 9, 'subsample': 0.4705425887214585}. Best is trial 20 with value: 0.793866701114885.\n",
      "[I 2024-10-31 09:23:29,602] Trial 76 finished with value: 0.721634618035591 and parameters: {'n_estimators': 63, 'learning_rate': 0.17731829728893628, 'max_depth': 7, 'subsample': 0.0783076866320121}. Best is trial 20 with value: 0.793866701114885.\n",
      "[I 2024-10-31 09:23:29,640] Trial 77 finished with value: 0.7157396893245591 and parameters: {'n_estimators': 63, 'learning_rate': 0.18273648334098833, 'max_depth': 7, 'subsample': 0.1431877909949083}. Best is trial 20 with value: 0.793866701114885.\n",
      "[I 2024-10-31 09:23:29,646] Trial 79 finished with value: 0.7417368129609188 and parameters: {'n_estimators': 86, 'learning_rate': 0.38773145150056415, 'max_depth': 7, 'subsample': 0.07895208690229807}. Best is trial 20 with value: 0.793866701114885.\n",
      "[I 2024-10-31 09:23:30,444] Trial 80 finished with value: 0.7745173485947379 and parameters: {'n_estimators': 75, 'learning_rate': 0.32621533554638926, 'max_depth': 8, 'subsample': 0.06748616889742753}. Best is trial 20 with value: 0.793866701114885.\n",
      "[I 2024-10-31 09:23:30,686] Trial 82 finished with value: 0.7731718275183774 and parameters: {'n_estimators': 105, 'learning_rate': 0.3216101502193235, 'max_depth': 6, 'subsample': 0.07757388864487942}. Best is trial 20 with value: 0.793866701114885.\n",
      "[I 2024-10-31 09:23:30,706] Trial 84 finished with value: 0.7349716378588673 and parameters: {'n_estimators': 75, 'learning_rate': 0.389231155970405, 'max_depth': 8, 'subsample': 0.05651093676602488}. Best is trial 20 with value: 0.793866701114885.\n",
      "[I 2024-10-31 09:23:30,748] Trial 87 finished with value: 0.6806422797106444 and parameters: {'n_estimators': 75, 'learning_rate': 0.33149028470657743, 'max_depth': 8, 'subsample': 0.05651183010441091}. Best is trial 20 with value: 0.793866701114885.\n",
      "[I 2024-10-31 09:23:30,751] Trial 86 finished with value: 0.720931694367815 and parameters: {'n_estimators': 75, 'learning_rate': 0.30686988117201286, 'max_depth': 8, 'subsample': 0.06730790104228276}. Best is trial 20 with value: 0.793866701114885.\n",
      "[I 2024-10-31 09:23:30,928] Trial 85 finished with value: 0.695294666006419 and parameters: {'n_estimators': 75, 'learning_rate': 0.33769405911623057, 'max_depth': 8, 'subsample': 0.05593683507240769}. Best is trial 20 with value: 0.793866701114885.\n",
      "[I 2024-10-31 09:23:31,030] Trial 81 finished with value: 0.6456472597320713 and parameters: {'n_estimators': 75, 'learning_rate': 0.22383958448307906, 'max_depth': 8, 'subsample': 0.5211614085261708}. Best is trial 20 with value: 0.793866701114885.\n",
      "[I 2024-10-31 09:23:31,061] Trial 83 finished with value: 0.7556091008504551 and parameters: {'n_estimators': 75, 'learning_rate': 0.332550379955668, 'max_depth': 8, 'subsample': 0.07718995114895201}. Best is trial 20 with value: 0.793866701114885.\n",
      "[I 2024-10-31 09:23:31,888] Trial 88 finished with value: 0.7522162213451487 and parameters: {'n_estimators': 80, 'learning_rate': 0.3300216874906922, 'max_depth': 8, 'subsample': 0.06737641828390914}. Best is trial 20 with value: 0.793866701114885.\n",
      "[I 2024-10-31 09:23:32,306] Trial 89 finished with value: 0.6807323817205103 and parameters: {'n_estimators': 106, 'learning_rate': 0.33187427902612787, 'max_depth': 8, 'subsample': 0.056474836899322874}. Best is trial 20 with value: 0.793866701114885.\n",
      "[I 2024-10-31 09:23:32,425] Trial 90 finished with value: 0.7716151349865961 and parameters: {'n_estimators': 109, 'learning_rate': 0.3339291000697569, 'max_depth': 6, 'subsample': 0.07043644137648469}. Best is trial 20 with value: 0.793866701114885.\n",
      "[I 2024-10-31 09:23:32,538] Trial 91 finished with value: 0.7326136398924645 and parameters: {'n_estimators': 105, 'learning_rate': 0.2920188516519046, 'max_depth': 6, 'subsample': 0.07439641482970054}. Best is trial 20 with value: 0.793866701114885.\n",
      "[I 2024-10-31 09:23:32,784] Trial 94 finished with value: 0.7104232031557542 and parameters: {'n_estimators': 102, 'learning_rate': 0.28586141238306445, 'max_depth': 6, 'subsample': 0.2250239016374556}. Best is trial 20 with value: 0.793866701114885.\n",
      "[I 2024-10-31 09:23:32,811] Trial 92 finished with value: 0.7041251343141133 and parameters: {'n_estimators': 104, 'learning_rate': 0.2919358469739177, 'max_depth': 6, 'subsample': 0.0949806049646134}. Best is trial 20 with value: 0.793866701114885.\n",
      "[I 2024-10-31 09:23:33,024] Trial 95 finished with value: 0.7126283186766995 and parameters: {'n_estimators': 105, 'learning_rate': 0.2943403975946589, 'max_depth': 6, 'subsample': 0.09536743968921564}. Best is trial 20 with value: 0.793866701114885.\n",
      "[I 2024-10-31 09:23:33,095] Trial 93 finished with value: 0.73846699700355 and parameters: {'n_estimators': 108, 'learning_rate': 0.19469008255390516, 'max_depth': 6, 'subsample': 0.0730009370042707}. Best is trial 20 with value: 0.793866701114885.\n",
      "[I 2024-10-31 09:23:33,358] Trial 96 finished with value: 0.7371452846441466 and parameters: {'n_estimators': 79, 'learning_rate': 0.37318705494508714, 'max_depth': 8, 'subsample': 0.07324005715876454}. Best is trial 20 with value: 0.793866701114885.\n",
      "[I 2024-10-31 09:23:33,666] Trial 98 finished with value: 0.7494390975721924 and parameters: {'n_estimators': 109, 'learning_rate': 0.37102306474093355, 'max_depth': 6, 'subsample': 0.07215101562948395}. Best is trial 20 with value: 0.793866701114885.\n",
      "[I 2024-10-31 09:23:33,771] Trial 99 finished with value: 0.736594913604123 and parameters: {'n_estimators': 103, 'learning_rate': 0.3801215268768922, 'max_depth': 8, 'subsample': 0.08105184004751834}. Best is trial 20 with value: 0.793866701114885.\n",
      "[I 2024-10-31 09:23:33,838] Trial 97 finished with value: 0.7351899730368675 and parameters: {'n_estimators': 80, 'learning_rate': 0.2947692252214146, 'max_depth': 8, 'subsample': 0.07191638394898721}. Best is trial 20 with value: 0.793866701114885.\n",
      "[I 2024-10-31 09:23:34,071] Trial 101 finished with value: 0.7445914362758679 and parameters: {'n_estimators': 109, 'learning_rate': 0.3755357816751265, 'max_depth': 8, 'subsample': 0.0799099954018461}. Best is trial 20 with value: 0.793866701114885.\n",
      "[I 2024-10-31 09:23:34,091] Trial 100 finished with value: 0.7612683174296304 and parameters: {'n_estimators': 102, 'learning_rate': 0.3689261260050031, 'max_depth': 8, 'subsample': 0.08959263084032527}. Best is trial 20 with value: 0.793866701114885.\n",
      "[I 2024-10-31 09:23:34,298] Trial 103 finished with value: 0.751353654980465 and parameters: {'n_estimators': 79, 'learning_rate': 0.4065578347680724, 'max_depth': 8, 'subsample': 0.08087780029985674}. Best is trial 20 with value: 0.793866701114885.\n",
      "[I 2024-10-31 09:23:34,432] Trial 102 finished with value: 0.753327669174385 and parameters: {'n_estimators': 109, 'learning_rate': 0.32073393886964263, 'max_depth': 8, 'subsample': 0.08086523566425419}. Best is trial 20 with value: 0.793866701114885.\n",
      "[I 2024-10-31 09:23:34,892] Trial 106 finished with value: 0.7316962762117698 and parameters: {'n_estimators': 111, 'learning_rate': 0.41408071607945157, 'max_depth': 8, 'subsample': 0.0897950743473552}. Best is trial 20 with value: 0.793866701114885.\n",
      "[I 2024-10-31 09:23:35,163] Trial 107 finished with value: 0.7482858074250703 and parameters: {'n_estimators': 92, 'learning_rate': 0.31761227889452925, 'max_depth': 10, 'subsample': 0.08859560117752517}. Best is trial 20 with value: 0.793866701114885.\n",
      "[I 2024-10-31 09:23:35,237] Trial 105 finished with value: 0.7739022515043231 and parameters: {'n_estimators': 111, 'learning_rate': 0.31115433744968146, 'max_depth': 8, 'subsample': 0.08133708007104826}. Best is trial 20 with value: 0.793866701114885.\n",
      "[I 2024-10-31 09:23:35,395] Trial 109 finished with value: 0.7539627337120544 and parameters: {'n_estimators': 86, 'learning_rate': 0.34877102656464715, 'max_depth': 8, 'subsample': 0.08671570383965266}. Best is trial 20 with value: 0.793866701114885.\n",
      "[I 2024-10-31 09:23:35,452] Trial 108 finished with value: 0.7236212395767643 and parameters: {'n_estimators': 91, 'learning_rate': 0.318195958845403, 'max_depth': 10, 'subsample': 0.0643350794870295}. Best is trial 20 with value: 0.793866701114885.\n",
      "[I 2024-10-31 09:23:35,500] Trial 110 finished with value: 0.6983268931909986 and parameters: {'n_estimators': 91, 'learning_rate': 0.3214236432385804, 'max_depth': 8, 'subsample': 0.0644936944468193}. Best is trial 20 with value: 0.793866701114885.\n",
      "[I 2024-10-31 09:23:35,779] Trial 111 finished with value: 0.7404813744181331 and parameters: {'n_estimators': 111, 'learning_rate': 0.3109874749908636, 'max_depth': 8, 'subsample': 0.08896597737673022}. Best is trial 20 with value: 0.793866701114885.\n",
      "[I 2024-10-31 09:23:36,090] Trial 104 finished with value: 0.6954404836889303 and parameters: {'n_estimators': 109, 'learning_rate': 0.057603137474874666, 'max_depth': 8, 'subsample': 0.08078582680543284}. Best is trial 20 with value: 0.793866701114885.\n",
      "[I 2024-10-31 09:23:36,314] Trial 112 finished with value: 0.7393615760532457 and parameters: {'n_estimators': 113, 'learning_rate': 0.31675910957053066, 'max_depth': 7, 'subsample': 0.08882282893400817}. Best is trial 20 with value: 0.793866701114885.\n",
      "[I 2024-10-31 09:23:36,463] Trial 114 finished with value: 0.7173747354133055 and parameters: {'n_estimators': 113, 'learning_rate': 0.349322995324927, 'max_depth': 7, 'subsample': 0.06556129692389433}. Best is trial 20 with value: 0.793866701114885.\n",
      "[I 2024-10-31 09:23:36,641] Trial 113 finished with value: 0.7187582603945788 and parameters: {'n_estimators': 81, 'learning_rate': 0.34356611374896084, 'max_depth': 7, 'subsample': 0.06361690647198615}. Best is trial 20 with value: 0.793866701114885.\n",
      "[I 2024-10-31 09:23:36,861] Trial 117 finished with value: 0.7400372505266292 and parameters: {'n_estimators': 113, 'learning_rate': 0.35380632438802556, 'max_depth': 7, 'subsample': 0.07674280023176179}. Best is trial 20 with value: 0.793866701114885.\n",
      "[I 2024-10-31 09:23:36,909] Trial 115 finished with value: 0.7186919193774746 and parameters: {'n_estimators': 112, 'learning_rate': 0.31796257301466396, 'max_depth': 7, 'subsample': 0.06331798059122633}. Best is trial 20 with value: 0.793866701114885.\n",
      "[I 2024-10-31 09:23:37,190] Trial 116 finished with value: 0.7209065995004702 and parameters: {'n_estimators': 111, 'learning_rate': 0.3481345274006029, 'max_depth': 7, 'subsample': 0.11283022319815851}. Best is trial 20 with value: 0.793866701114885.\n",
      "[I 2024-10-31 09:23:37,191] Trial 118 finished with value: 0.7547507090710437 and parameters: {'n_estimators': 77, 'learning_rate': 0.3417329217432867, 'max_depth': 7, 'subsample': 0.07596281831457619}. Best is trial 20 with value: 0.793866701114885.\n",
      "[I 2024-10-31 09:23:37,537] Trial 119 finished with value: 0.7490029856151647 and parameters: {'n_estimators': 114, 'learning_rate': 0.34606807853313337, 'max_depth': 7, 'subsample': 0.0684574459290771}. Best is trial 20 with value: 0.793866701114885.\n",
      "[I 2024-10-31 09:23:37,641] Trial 120 finished with value: 0.7271162100436792 and parameters: {'n_estimators': 100, 'learning_rate': 0.34900571865554475, 'max_depth': 7, 'subsample': 0.06840681235698512}. Best is trial 20 with value: 0.793866701114885.\n",
      "[I 2024-10-31 09:23:37,867] Trial 121 finished with value: 0.7430922596649595 and parameters: {'n_estimators': 102, 'learning_rate': 0.3479921467300069, 'max_depth': 8, 'subsample': 0.07570994638527936}. Best is trial 20 with value: 0.793866701114885.\n",
      "[I 2024-10-31 09:23:38,119] Trial 124 finished with value: 0.7694323024178106 and parameters: {'n_estimators': 85, 'learning_rate': 0.47468069073994923, 'max_depth': 8, 'subsample': 0.06873570374036676}. Best is trial 20 with value: 0.793866701114885.\n",
      "[I 2024-10-31 09:23:38,257] Trial 122 finished with value: 0.7304551271499544 and parameters: {'n_estimators': 101, 'learning_rate': 0.2740593968177616, 'max_depth': 8, 'subsample': 0.07606914100367036}. Best is trial 20 with value: 0.793866701114885.\n",
      "[I 2024-10-31 09:23:38,385] Trial 123 finished with value: 0.7361649033042708 and parameters: {'n_estimators': 101, 'learning_rate': 0.27662420568633955, 'max_depth': 8, 'subsample': 0.069381299272005}. Best is trial 20 with value: 0.793866701114885.\n",
      "[I 2024-10-31 09:23:38,560] Trial 125 finished with value: 0.6887960217958036 and parameters: {'n_estimators': 72, 'learning_rate': 0.39452198668348015, 'max_depth': 6, 'subsample': 0.09827476770469262}. Best is trial 20 with value: 0.793866701114885.\n",
      "[I 2024-10-31 09:23:38,842] Trial 126 finished with value: 0.7360641370183549 and parameters: {'n_estimators': 72, 'learning_rate': 0.2821534356097876, 'max_depth': 6, 'subsample': 0.09665601172508598}. Best is trial 20 with value: 0.793866701114885.\n",
      "[I 2024-10-31 09:23:38,948] Trial 127 finished with value: 0.6702312887631798 and parameters: {'n_estimators': 101, 'learning_rate': 0.39654217441903467, 'max_depth': 6, 'subsample': 0.09595514083458924}. Best is trial 20 with value: 0.793866701114885.\n",
      "[I 2024-10-31 09:23:39,045] Trial 128 finished with value: 0.6866503437316389 and parameters: {'n_estimators': 85, 'learning_rate': 0.27832206779737495, 'max_depth': 8, 'subsample': 0.09844024624586262}. Best is trial 20 with value: 0.793866701114885.\n",
      "[I 2024-10-31 09:23:39,302] Trial 129 finished with value: 0.6998335109932479 and parameters: {'n_estimators': 72, 'learning_rate': 0.2744423966682465, 'max_depth': 8, 'subsample': 0.09874525464509555}. Best is trial 20 with value: 0.793866701114885.\n",
      "[I 2024-10-31 09:23:39,387] Trial 130 finished with value: 0.6923744657388949 and parameters: {'n_estimators': 86, 'learning_rate': 0.48147166367951283, 'max_depth': 6, 'subsample': 0.09842505541767385}. Best is trial 20 with value: 0.793866701114885.\n",
      "[I 2024-10-31 09:23:39,517] Trial 131 finished with value: 0.6792380590182177 and parameters: {'n_estimators': 77, 'learning_rate': 0.39200865363091975, 'max_depth': 6, 'subsample': 0.0999619370334764}. Best is trial 20 with value: 0.793866701114885.\n",
      "[I 2024-10-31 09:23:39,715] Trial 132 finished with value: 0.6719360418707515 and parameters: {'n_estimators': 84, 'learning_rate': 0.4248431133112994, 'max_depth': 6, 'subsample': 0.09876700482455025}. Best is trial 20 with value: 0.793866701114885.\n",
      "[I 2024-10-31 09:23:39,786] Trial 133 finished with value: 0.7705339374648276 and parameters: {'n_estimators': 85, 'learning_rate': 0.4771794243973393, 'max_depth': 6, 'subsample': 0.08651908943822359}. Best is trial 20 with value: 0.793866701114885.\n",
      "[I 2024-10-31 09:23:40,120] Trial 135 finished with value: 0.7148069645629747 and parameters: {'n_estimators': 84, 'learning_rate': 0.4760301772237785, 'max_depth': 9, 'subsample': 0.08439106376387435}. Best is trial 20 with value: 0.793866701114885.\n",
      "[I 2024-10-31 09:23:40,293] Trial 134 finished with value: 0.715124392967535 and parameters: {'n_estimators': 85, 'learning_rate': 0.42808614443947013, 'max_depth': 9, 'subsample': 0.0920060930588686}. Best is trial 20 with value: 0.793866701114885.\n",
      "[I 2024-10-31 09:23:40,352] Trial 136 finished with value: 0.7498757719320861 and parameters: {'n_estimators': 77, 'learning_rate': 0.4243025162246796, 'max_depth': 9, 'subsample': 0.08627970120005525}. Best is trial 20 with value: 0.793866701114885.\n",
      "[I 2024-10-31 09:23:40,506] Trial 137 finished with value: 0.7039811264915523 and parameters: {'n_estimators': 107, 'learning_rate': 0.479796518536477, 'max_depth': 9, 'subsample': 0.058601787333000206}. Best is trial 20 with value: 0.793866701114885.\n",
      "[I 2024-10-31 09:23:40,789] Trial 138 finished with value: 0.7394604274443926 and parameters: {'n_estimators': 107, 'learning_rate': 0.46951022783153584, 'max_depth': 8, 'subsample': 0.08425398643603949}. Best is trial 20 with value: 0.793866701114885.\n",
      "[I 2024-10-31 09:23:40,948] Trial 139 finished with value: 0.7555000486734951 and parameters: {'n_estimators': 107, 'learning_rate': 0.30364628246189246, 'max_depth': 9, 'subsample': 0.08475627594187381}. Best is trial 20 with value: 0.793866701114885.\n",
      "[I 2024-10-31 09:23:40,992] Trial 141 finished with value: 0.7610917517625759 and parameters: {'n_estimators': 107, 'learning_rate': 0.4778476886353814, 'max_depth': 5, 'subsample': 0.08323067804644851}. Best is trial 20 with value: 0.793866701114885.\n",
      "[I 2024-10-31 09:23:41,031] Trial 140 finished with value: 0.7169735999281415 and parameters: {'n_estimators': 78, 'learning_rate': 0.3627480813632428, 'max_depth': 9, 'subsample': 0.08357897578177326}. Best is trial 20 with value: 0.793866701114885.\n",
      "[I 2024-10-31 09:23:41,559] Trial 144 finished with value: 0.6981156784593878 and parameters: {'n_estimators': 87, 'learning_rate': 0.4685043477315626, 'max_depth': 5, 'subsample': 0.05877097645199672}. Best is trial 20 with value: 0.793866701114885.\n",
      "[I 2024-10-31 09:23:41,682] Trial 142 finished with value: 0.7520146839493069 and parameters: {'n_estimators': 106, 'learning_rate': 0.36517151104703927, 'max_depth': 5, 'subsample': 0.08341166585871042}. Best is trial 20 with value: 0.793866701114885.\n",
      "[I 2024-10-31 09:23:41,858] Trial 143 finished with value: 0.7500011711674737 and parameters: {'n_estimators': 106, 'learning_rate': 0.3678872964129675, 'max_depth': 5, 'subsample': 0.07664565081225318}. Best is trial 20 with value: 0.793866701114885.\n",
      "[I 2024-10-31 09:23:42,071] Trial 145 finished with value: 0.7470790065570345 and parameters: {'n_estimators': 87, 'learning_rate': 0.3021087515333993, 'max_depth': 5, 'subsample': 0.08309251506850472}. Best is trial 20 with value: 0.793866701114885.\n",
      "[I 2024-10-31 09:23:42,310] Trial 147 finished with value: 0.7264036393464868 and parameters: {'n_estimators': 106, 'learning_rate': 0.36576725996336495, 'max_depth': 5, 'subsample': 0.07122750449852168}. Best is trial 20 with value: 0.793866701114885.\n",
      "[I 2024-10-31 09:23:42,318] Trial 146 finished with value: 0.7595834751627939 and parameters: {'n_estimators': 78, 'learning_rate': 0.37058004060051136, 'max_depth': 5, 'subsample': 0.07791102381645257}. Best is trial 20 with value: 0.793866701114885.\n",
      "[I 2024-10-31 09:23:42,500] Trial 148 finished with value: 0.7507284730093098 and parameters: {'n_estimators': 105, 'learning_rate': 0.3695479547867749, 'max_depth': 6, 'subsample': 0.0778197166749118}. Best is trial 20 with value: 0.793866701114885.\n",
      "[I 2024-10-31 09:23:42,519] Trial 149 finished with value: 0.7124766446169873 and parameters: {'n_estimators': 117, 'learning_rate': 0.30108842345521025, 'max_depth': 5, 'subsample': 0.07701696887964785}. Best is trial 20 with value: 0.793866701114885.\n",
      "[I 2024-10-31 09:23:42,934] Trial 151 finished with value: 0.737304492946854 and parameters: {'n_estimators': 105, 'learning_rate': 0.44494814283125717, 'max_depth': 5, 'subsample': 0.07671298265017075}. Best is trial 20 with value: 0.793866701114885.\n",
      "[I 2024-10-31 09:23:43,111] Trial 150 finished with value: 0.7318705551437465 and parameters: {'n_estimators': 106, 'learning_rate': 0.30218328434920894, 'max_depth': 5, 'subsample': 0.07202965724126115}. Best is trial 20 with value: 0.793866701114885.\n",
      "[I 2024-10-31 09:23:43,253] Trial 152 finished with value: 0.7392913957140768 and parameters: {'n_estimators': 50, 'learning_rate': 0.2996025898890673, 'max_depth': 5, 'subsample': 0.07050568775923857}. Best is trial 20 with value: 0.793866701114885.\n",
      "[I 2024-10-31 09:23:43,598] Trial 154 finished with value: 0.6891271854467935 and parameters: {'n_estimators': 117, 'learning_rate': 0.4495525872637841, 'max_depth': 6, 'subsample': 0.09104137228691571}. Best is trial 20 with value: 0.793866701114885.\n",
      "[I 2024-10-31 09:23:43,647] Trial 157 finished with value: 0.7474316558609786 and parameters: {'n_estimators': 81, 'learning_rate': 0.4556156048308351, 'max_depth': 5, 'subsample': 0.0702301604808442}. Best is trial 20 with value: 0.793866701114885.\n",
      "[I 2024-10-31 09:23:43,829] Trial 156 finished with value: 0.7126782881447545 and parameters: {'n_estimators': 82, 'learning_rate': 0.2530103349123162, 'max_depth': 5, 'subsample': 0.07059328376854611}. Best is trial 20 with value: 0.793866701114885.\n",
      "[I 2024-10-31 09:23:44,199] Trial 153 finished with value: 0.6709768035953744 and parameters: {'n_estimators': 83, 'learning_rate': 0.08392549749893077, 'max_depth': 6, 'subsample': 0.0712731124753742}. Best is trial 20 with value: 0.793866701114885.\n",
      "[I 2024-10-31 09:23:44,332] Trial 155 finished with value: 0.669515615496185 and parameters: {'n_estimators': 50, 'learning_rate': 0.08281880536591624, 'max_depth': 5, 'subsample': 0.07697880250432722}. Best is trial 20 with value: 0.793866701114885.\n",
      "[I 2024-10-31 09:23:44,456] Trial 159 finished with value: 0.7204079262904985 and parameters: {'n_estimators': 82, 'learning_rate': 0.3319338536333024, 'max_depth': 6, 'subsample': 0.09218825437846632}. Best is trial 20 with value: 0.793866701114885.\n",
      "[I 2024-10-31 09:23:44,491] Trial 160 finished with value: 0.6872609197632369 and parameters: {'n_estimators': 82, 'learning_rate': 0.40327189846644823, 'max_depth': 6, 'subsample': 0.0904885041151096}. Best is trial 20 with value: 0.793866701114885.\n",
      "[I 2024-10-31 09:23:45,161] Trial 162 finished with value: 0.7415276533274806 and parameters: {'n_estimators': 74, 'learning_rate': 0.32979789700216605, 'max_depth': 10, 'subsample': 0.088683066352276}. Best is trial 20 with value: 0.793866701114885.\n",
      "[I 2024-10-31 09:23:45,249] Trial 161 finished with value: 0.7022059553769968 and parameters: {'n_estimators': 81, 'learning_rate': 0.32881491731748896, 'max_depth': 10, 'subsample': 0.09253572686990007}. Best is trial 20 with value: 0.793866701114885.\n",
      "[I 2024-10-31 09:23:45,492] Trial 158 finished with value: 0.6672193919340449 and parameters: {'n_estimators': 81, 'learning_rate': 0.07811910554479715, 'max_depth': 5, 'subsample': 0.09089758436275257}. Best is trial 20 with value: 0.793866701114885.\n",
      "[I 2024-10-31 09:23:45,569] Trial 164 finished with value: 0.7294623993382692 and parameters: {'n_estimators': 74, 'learning_rate': 0.4983220654760995, 'max_depth': 10, 'subsample': 0.08886426960424952}. Best is trial 20 with value: 0.793866701114885.\n",
      "[I 2024-10-31 09:23:45,943] Trial 166 finished with value: 0.7408080706733808 and parameters: {'n_estimators': 74, 'learning_rate': 0.32569265952190957, 'max_depth': 7, 'subsample': 0.08867871913318773}. Best is trial 20 with value: 0.793866701114885.\n",
      "[I 2024-10-31 09:23:46,013] Trial 167 finished with value: 0.7322000654314578 and parameters: {'n_estimators': 76, 'learning_rate': 0.3325177199383457, 'max_depth': 7, 'subsample': 0.0864234271723491}. Best is trial 20 with value: 0.793866701114885.\n",
      "[I 2024-10-31 09:23:46,273] Trial 163 finished with value: 0.6820593858277808 and parameters: {'n_estimators': 76, 'learning_rate': 0.08656890511646842, 'max_depth': 6, 'subsample': 0.09024740704588281}. Best is trial 20 with value: 0.793866701114885.\n",
      "[I 2024-10-31 09:23:46,727] Trial 168 finished with value: 0.7753493162904577 and parameters: {'n_estimators': 110, 'learning_rate': 0.3303219918719585, 'max_depth': 8, 'subsample': 0.08041423310576143}. Best is trial 20 with value: 0.793866701114885.\n",
      "[I 2024-10-31 09:23:46,755] Trial 169 finished with value: 0.7657973434182868 and parameters: {'n_estimators': 110, 'learning_rate': 0.31073332041160606, 'max_depth': 8, 'subsample': 0.08026678083231456}. Best is trial 20 with value: 0.793866701114885.\n",
      "[I 2024-10-31 09:23:46,957] Trial 165 finished with value: 0.7136419179971467 and parameters: {'n_estimators': 74, 'learning_rate': 0.11158447730701593, 'max_depth': 10, 'subsample': 0.09039418755549318}. Best is trial 20 with value: 0.793866701114885.\n",
      "[I 2024-10-31 09:23:46,984] Trial 170 finished with value: 0.7457787334221929 and parameters: {'n_estimators': 110, 'learning_rate': 0.3401723391317784, 'max_depth': 8, 'subsample': 0.08014293812623338}. Best is trial 20 with value: 0.793866701114885.\n",
      "[I 2024-10-31 09:23:47,602] Trial 173 finished with value: 0.7612793085893911 and parameters: {'n_estimators': 110, 'learning_rate': 0.38462966303968726, 'max_depth': 8, 'subsample': 0.08132550853200021}. Best is trial 20 with value: 0.793866701114885.\n",
      "[I 2024-10-31 09:23:47,707] Trial 171 finished with value: 0.6944340126671121 and parameters: {'n_estimators': 108, 'learning_rate': 0.12393698812368056, 'max_depth': 8, 'subsample': 0.07968785731883865}. Best is trial 20 with value: 0.793866701114885.\n",
      "[I 2024-10-31 09:23:48,073] Trial 174 finished with value: 0.7918423328863501 and parameters: {'n_estimators': 79, 'learning_rate': 0.30779727641921817, 'max_depth': 8, 'subsample': 0.08029256126513314}. Best is trial 20 with value: 0.793866701114885.\n",
      "[I 2024-10-31 09:23:48,431] Trial 175 finished with value: 0.7648958709048426 and parameters: {'n_estimators': 110, 'learning_rate': 0.3126898736535132, 'max_depth': 8, 'subsample': 0.08009346262174928}. Best is trial 20 with value: 0.793866701114885.\n",
      "[I 2024-10-31 09:23:48,472] Trial 176 finished with value: 0.7648897308682738 and parameters: {'n_estimators': 110, 'learning_rate': 0.31259079446923926, 'max_depth': 8, 'subsample': 0.07997335697689696}. Best is trial 20 with value: 0.793866701114885.\n",
      "[I 2024-10-31 09:23:48,577] Trial 172 finished with value: 0.7069841992650128 and parameters: {'n_estimators': 77, 'learning_rate': 0.10665840585897673, 'max_depth': 8, 'subsample': 0.0803475497410045}. Best is trial 20 with value: 0.793866701114885.\n",
      "[I 2024-10-31 09:23:48,893] Trial 177 finished with value: 0.7799535270684042 and parameters: {'n_estimators': 108, 'learning_rate': 0.3095568172456401, 'max_depth': 8, 'subsample': 0.08068349735138904}. Best is trial 20 with value: 0.793866701114885.\n",
      "[I 2024-10-31 09:23:48,926] Trial 178 finished with value: 0.7831432310665911 and parameters: {'n_estimators': 108, 'learning_rate': 0.3091121385708374, 'max_depth': 8, 'subsample': 0.0809346400209106}. Best is trial 20 with value: 0.793866701114885.\n",
      "[I 2024-10-31 09:23:50,640] Trial 179 finished with value: 0.7272942017181703 and parameters: {'n_estimators': 110, 'learning_rate': 0.3107327886795008, 'max_depth': 8, 'subsample': 0.06605313555324974}. Best is trial 20 with value: 0.793866701114885.\n",
      "[I 2024-10-31 09:23:50,751] Trial 180 finished with value: 0.7105715933776688 and parameters: {'n_estimators': 111, 'learning_rate': 0.3104973936595294, 'max_depth': 8, 'subsample': 0.07474944606736324}. Best is trial 20 with value: 0.793866701114885.\n",
      "[I 2024-10-31 09:23:51,424] Trial 181 finished with value: 0.7231696619796297 and parameters: {'n_estimators': 111, 'learning_rate': 0.3073373179859008, 'max_depth': 8, 'subsample': 0.06643202598819799}. Best is trial 20 with value: 0.793866701114885.\n",
      "[I 2024-10-31 09:23:51,969] Trial 183 finished with value: 0.6863309056656752 and parameters: {'n_estimators': 110, 'learning_rate': 0.28606771252523855, 'max_depth': 8, 'subsample': 0.06654774254524172}. Best is trial 20 with value: 0.793866701114885.\n",
      "[I 2024-10-31 09:23:52,064] Trial 184 finished with value: 0.7267239863646892 and parameters: {'n_estimators': 111, 'learning_rate': 0.30986014592529987, 'max_depth': 8, 'subsample': 0.0662552055880233}. Best is trial 20 with value: 0.793866701114885.\n",
      "[I 2024-10-31 09:23:52,337] Trial 182 finished with value: 0.7515411557404628 and parameters: {'n_estimators': 110, 'learning_rate': 0.3159299546140781, 'max_depth': 8, 'subsample': 0.07321766550479288}. Best is trial 20 with value: 0.793866701114885.\n",
      "[I 2024-10-31 09:23:52,557] Trial 188 finished with value: 0.7386036848505366 and parameters: {'n_estimators': 108, 'learning_rate': 0.381086569046533, 'max_depth': 8, 'subsample': 0.07396972669153484}. Best is trial 20 with value: 0.793866701114885.\n",
      "[I 2024-10-31 09:23:52,643] Trial 186 finished with value: 0.6910718911395717 and parameters: {'n_estimators': 110, 'learning_rate': 0.3116876246246215, 'max_depth': 8, 'subsample': 0.2684243949602183}. Best is trial 20 with value: 0.793866701114885.\n",
      "[I 2024-10-31 09:23:52,836] Trial 187 finished with value: 0.7142951165077543 and parameters: {'n_estimators': 112, 'learning_rate': 0.28480515046277805, 'max_depth': 8, 'subsample': 0.10705088767006854}. Best is trial 20 with value: 0.793866701114885.\n",
      "[I 2024-10-31 09:23:52,882] Trial 185 finished with value: 0.6581144107532666 and parameters: {'n_estimators': 109, 'learning_rate': 0.3122124422572166, 'max_depth': 8, 'subsample': 0.8950587394918863}. Best is trial 20 with value: 0.793866701114885.\n",
      "[I 2024-10-31 09:23:53,031] Trial 189 finished with value: 0.7236264616408887 and parameters: {'n_estimators': 109, 'learning_rate': 0.3874118539317151, 'max_depth': 8, 'subsample': 0.08252400251296232}. Best is trial 20 with value: 0.793866701114885.\n",
      "[I 2024-10-31 09:23:53,537] Trial 190 finished with value: 0.7753411480297576 and parameters: {'n_estimators': 108, 'learning_rate': 0.3823463410958323, 'max_depth': 8, 'subsample': 0.08202891651941402}. Best is trial 20 with value: 0.793866701114885.\n",
      "[I 2024-10-31 09:23:53,627] Trial 191 finished with value: 0.7722603991601621 and parameters: {'n_estimators': 108, 'learning_rate': 0.3765020085867465, 'max_depth': 8, 'subsample': 0.08222517133658566}. Best is trial 20 with value: 0.793866701114885.\n",
      "[I 2024-10-31 09:23:53,854] Trial 194 finished with value: 0.722896409416442 and parameters: {'n_estimators': 113, 'learning_rate': 0.41642165782465945, 'max_depth': 8, 'subsample': 0.08156872192977917}. Best is trial 20 with value: 0.793866701114885.\n",
      "[I 2024-10-31 09:23:53,877] Trial 192 finished with value: 0.7574005077619033 and parameters: {'n_estimators': 114, 'learning_rate': 0.3873220272642815, 'max_depth': 8, 'subsample': 0.08069369897597231}. Best is trial 20 with value: 0.793866701114885.\n",
      "[I 2024-10-31 09:23:53,956] Trial 193 finished with value: 0.7317157628020389 and parameters: {'n_estimators': 115, 'learning_rate': 0.41108503045984496, 'max_depth': 8, 'subsample': 0.08211102819659942}. Best is trial 20 with value: 0.793866701114885.\n",
      "[I 2024-10-31 09:23:53,962] Trial 196 finished with value: 0.7231019468425717 and parameters: {'n_estimators': 114, 'learning_rate': 0.41439724357671515, 'max_depth': 8, 'subsample': 0.08183783385686744}. Best is trial 20 with value: 0.793866701114885.\n",
      "[I 2024-10-31 09:23:54,026] Trial 197 finished with value: 0.7255764450876258 and parameters: {'n_estimators': 113, 'learning_rate': 0.41838593139986985, 'max_depth': 8, 'subsample': 0.08069109097975649}. Best is trial 20 with value: 0.793866701114885.\n",
      "[I 2024-10-31 09:23:54,035] Trial 195 finished with value: 0.7514333481787667 and parameters: {'n_estimators': 108, 'learning_rate': 0.40700474432573397, 'max_depth': 8, 'subsample': 0.08161354776859077}. Best is trial 20 with value: 0.793866701114885.\n",
      "[I 2024-10-31 09:23:54,241] Trial 199 finished with value: 0.7321223086508422 and parameters: {'n_estimators': 115, 'learning_rate': 0.35754713057721144, 'max_depth': 8, 'subsample': 0.08040525891935772}. Best is trial 20 with value: 0.793866701114885.\n",
      "[I 2024-10-31 09:23:54,276] Trial 198 finished with value: 0.751689643322124 and parameters: {'n_estimators': 108, 'learning_rate': 0.353319304175484, 'max_depth': 8, 'subsample': 0.08283064780512654}. Best is trial 20 with value: 0.793866701114885.\n"
     ]
    }
   ],
   "source": [
    "def objective(trial,\n",
    "    X,\n",
    "    y,\n",
    "    random_state=22,\n",
    "    n_splits=3,\n",
    "    n_repeats=2,\n",
    "    n_jobs=-1,\n",
    "              ):\n",
    "    \n",
    "    param = {\n",
    "        \"objective\": \"reg:squarederror\",\n",
    "        \"tree_method\":'hist',\n",
    "        'n_estimators': trial.suggest_int('n_estimators', 50, 120),\n",
    "        \"verbosity\": 1,\n",
    "        \"learning_rate\": trial.suggest_float(\"learning_rate\", 0.05, 0.5, log=True),\n",
    "        \"max_depth\": trial.suggest_int(\"max_depth\", 3, 10),\n",
    "        \"subsample\": trial.suggest_float(\"subsample\", 0.05, 0.9,log=True),\n",
    "        \"n_jobs\": n_jobs,\n",
    "    }\n",
    "    \n",
    "    model = xgb.XGBRegressor(**param, eval_metric=\"rmse\",early_stopping_rounds = EARLY_STOPPING_ROUNDS)\n",
    "    rkf = RepeatedKFold(n_splits=n_splits, n_repeats=n_repeats, random_state=random_state)\n",
    "    X_values = X.values\n",
    "    y_values = y.values\n",
    "    y_pred = np.zeros_like(y_values)\n",
    "\n",
    "    for train_index, test_index in rkf.split(X_values):\n",
    "        X_A, X_B = X_values[train_index, :], X_values[test_index, :]\n",
    "        y_A, y_B = y_values[train_index], y_values[test_index]\n",
    "        model.fit(X_A, y_A, eval_set=[(X_B, y_B)], verbose=0,)\n",
    "        y_pred[test_index] += model.predict(X_B)\n",
    "    y_pred /= n_repeats\n",
    "    r2 = r2_score(y_true = y_train, y_pred = y_pred)\n",
    "    \n",
    "    return r2\n",
    "\n",
    "\n",
    "sampler = TPESampler(seed=10)  # Make the sampler behave in a deterministic way.\n",
    "study = optuna.create_study(sampler = sampler, direction='maximize')\n",
    "study.optimize(\n",
    "    lambda trial: objective(\n",
    "        trial,\n",
    "        X_train,\n",
    "        y_train,\n",
    "        random_state=RS,\n",
    "        n_splits=N_SPLITS,\n",
    "        n_repeats=N_REPEATS,\n",
    "        n_jobs=N_JOBS,\n",
    "    ),\n",
    "    n_trials=N_TRIALS,\n",
    "    n_jobs=N_JOBS,\n",
    ")"
   ]
  },
  {
   "cell_type": "code",
   "execution_count": 10,
   "id": "43040a6d",
   "metadata": {},
   "outputs": [
    {
     "data": {
      "application/vnd.plotly.v1+json": {
       "config": {
        "plotlyServerURL": "https://plot.ly"
       },
       "data": [
        {
         "mode": "markers",
         "name": "Objective Value",
         "type": "scatter",
         "x": [
          0,
          1,
          2,
          3,
          4,
          5,
          6,
          7,
          8,
          9,
          10,
          11,
          12,
          13,
          14,
          15,
          16,
          17,
          18,
          19,
          20,
          21,
          22,
          23,
          24,
          25,
          26,
          27,
          28,
          29,
          30,
          31,
          32,
          33,
          34,
          35,
          36,
          37,
          38,
          39,
          40,
          41,
          42,
          43,
          44,
          45,
          46,
          47,
          48,
          49,
          50,
          51,
          52,
          53,
          54,
          55,
          56,
          57,
          58,
          59,
          60,
          61,
          62,
          63,
          64,
          65,
          66,
          67,
          68,
          69,
          70,
          71,
          72,
          73,
          74,
          75,
          76,
          77,
          78,
          79,
          80,
          81,
          82,
          83,
          84,
          85,
          86,
          87,
          88,
          89,
          90,
          91,
          92,
          93,
          94,
          95,
          96,
          97,
          98,
          99,
          100,
          101,
          102,
          103,
          104,
          105,
          106,
          107,
          108,
          109,
          110,
          111,
          112,
          113,
          114,
          115,
          116,
          117,
          118,
          119,
          120,
          121,
          122,
          123,
          124,
          125,
          126,
          127,
          128,
          129,
          130,
          131,
          132,
          133,
          134,
          135,
          136,
          137,
          138,
          139,
          140,
          141,
          142,
          143,
          144,
          145,
          146,
          147,
          148,
          149,
          150,
          151,
          152,
          153,
          154,
          155,
          156,
          157,
          158,
          159,
          160,
          161,
          162,
          163,
          164,
          165,
          166,
          167,
          168,
          169,
          170,
          171,
          172,
          173,
          174,
          175,
          176,
          177,
          178,
          179,
          180,
          181,
          182,
          183,
          184,
          185,
          186,
          187,
          188,
          189,
          190,
          191,
          192,
          193,
          194,
          195,
          196,
          197,
          198,
          199
         ],
         "y": [
          0.6709713846209311,
          0.7501708568198245,
          0.7146717633128271,
          0.6871230695882343,
          0.712300357119424,
          0.6907955834624957,
          0.7073592820539361,
          0.6302128812682217,
          0.7257226170362279,
          0.6801177972235661,
          0.739623940894593,
          0.6901852225361569,
          0.6910667900767555,
          0.7162415259125754,
          0.7238428055394935,
          0.7101897342470103,
          0.7498494075533271,
          0.7039761342797639,
          0.6810687291163497,
          0.6704805966955707,
          0.793866701114885,
          0.7478539541454121,
          0.7255161296771506,
          0.7325500661209252,
          0.7233520816848393,
          0.7559333502615783,
          0.7382959281994129,
          0.739000668811092,
          0.7150848847476352,
          0.7367138798350547,
          0.7355385454694109,
          0.6820617604815685,
          0.7117520644753466,
          0.7079775289885228,
          0.6852585090657098,
          0.7021885663952567,
          0.7402504635070976,
          0.7036985579950925,
          0.6968594298385864,
          0.7502643375699397,
          0.739237944773335,
          0.7345624539427262,
          0.7012343836046901,
          0.7118123951025257,
          0.7084547341238818,
          0.7140493838269828,
          0.7192734618468213,
          0.6885360106221665,
          0.718072003020906,
          0.6969711266821511,
          0.7281347287675817,
          0.6816554158000008,
          0.7243884471614719,
          0.7466859048758698,
          0.7248623656453534,
          0.7006230188527316,
          0.7638105858426131,
          0.7515725619290334,
          0.7516391295189844,
          0.7421761750438187,
          0.6687198057058283,
          0.6413970478609586,
          0.6563298427014266,
          0.7086186882249845,
          0.7261878612701491,
          0.7081257221922254,
          0.7373505183311047,
          0.6842993286994212,
          0.7193869758425795,
          0.6981611400346468,
          0.7057992392547865,
          0.7248473055234816,
          0.7089182528696389,
          0.6810977958438813,
          0.6551493591482225,
          0.730319045742543,
          0.721634618035591,
          0.7157396893245591,
          0.7387794033361283,
          0.7417368129609188,
          0.7745173485947379,
          0.6456472597320713,
          0.7731718275183774,
          0.7556091008504551,
          0.7349716378588673,
          0.695294666006419,
          0.720931694367815,
          0.6806422797106444,
          0.7522162213451487,
          0.6807323817205103,
          0.7716151349865961,
          0.7326136398924645,
          0.7041251343141133,
          0.73846699700355,
          0.7104232031557542,
          0.7126283186766995,
          0.7371452846441466,
          0.7351899730368675,
          0.7494390975721924,
          0.736594913604123,
          0.7612683174296304,
          0.7445914362758679,
          0.753327669174385,
          0.751353654980465,
          0.6954404836889303,
          0.7739022515043231,
          0.7316962762117698,
          0.7482858074250703,
          0.7236212395767643,
          0.7539627337120544,
          0.6983268931909986,
          0.7404813744181331,
          0.7393615760532457,
          0.7187582603945788,
          0.7173747354133055,
          0.7186919193774746,
          0.7209065995004702,
          0.7400372505266292,
          0.7547507090710437,
          0.7490029856151647,
          0.7271162100436792,
          0.7430922596649595,
          0.7304551271499544,
          0.7361649033042708,
          0.7694323024178106,
          0.6887960217958036,
          0.7360641370183549,
          0.6702312887631798,
          0.6866503437316389,
          0.6998335109932479,
          0.6923744657388949,
          0.6792380590182177,
          0.6719360418707515,
          0.7705339374648276,
          0.715124392967535,
          0.7148069645629747,
          0.7498757719320861,
          0.7039811264915523,
          0.7394604274443926,
          0.7555000486734951,
          0.7169735999281415,
          0.7610917517625759,
          0.7520146839493069,
          0.7500011711674737,
          0.6981156784593878,
          0.7470790065570345,
          0.7595834751627939,
          0.7264036393464868,
          0.7507284730093098,
          0.7124766446169873,
          0.7318705551437465,
          0.737304492946854,
          0.7392913957140768,
          0.6709768035953744,
          0.6891271854467935,
          0.669515615496185,
          0.7126782881447545,
          0.7474316558609786,
          0.6672193919340449,
          0.7204079262904985,
          0.6872609197632369,
          0.7022059553769968,
          0.7415276533274806,
          0.6820593858277808,
          0.7294623993382692,
          0.7136419179971467,
          0.7408080706733808,
          0.7322000654314578,
          0.7753493162904577,
          0.7657973434182868,
          0.7457787334221929,
          0.6944340126671121,
          0.7069841992650128,
          0.7612793085893911,
          0.7918423328863501,
          0.7648958709048426,
          0.7648897308682738,
          0.7799535270684042,
          0.7831432310665911,
          0.7272942017181703,
          0.7105715933776688,
          0.7231696619796297,
          0.7515411557404628,
          0.6863309056656752,
          0.7267239863646892,
          0.6581144107532666,
          0.6910718911395717,
          0.7142951165077543,
          0.7386036848505366,
          0.7236264616408887,
          0.7753411480297576,
          0.7722603991601621,
          0.7574005077619033,
          0.7317157628020389,
          0.722896409416442,
          0.7514333481787667,
          0.7231019468425717,
          0.7255764450876258,
          0.751689643322124,
          0.7321223086508422
         ]
        },
        {
         "mode": "lines",
         "name": "Best Value",
         "type": "scatter",
         "x": [
          0,
          1,
          2,
          3,
          4,
          5,
          6,
          7,
          8,
          9,
          10,
          11,
          12,
          13,
          14,
          15,
          16,
          17,
          18,
          19,
          20,
          21,
          22,
          23,
          24,
          25,
          26,
          27,
          28,
          29,
          30,
          31,
          32,
          33,
          34,
          35,
          36,
          37,
          38,
          39,
          40,
          41,
          42,
          43,
          44,
          45,
          46,
          47,
          48,
          49,
          50,
          51,
          52,
          53,
          54,
          55,
          56,
          57,
          58,
          59,
          60,
          61,
          62,
          63,
          64,
          65,
          66,
          67,
          68,
          69,
          70,
          71,
          72,
          73,
          74,
          75,
          76,
          77,
          78,
          79,
          80,
          81,
          82,
          83,
          84,
          85,
          86,
          87,
          88,
          89,
          90,
          91,
          92,
          93,
          94,
          95,
          96,
          97,
          98,
          99,
          100,
          101,
          102,
          103,
          104,
          105,
          106,
          107,
          108,
          109,
          110,
          111,
          112,
          113,
          114,
          115,
          116,
          117,
          118,
          119,
          120,
          121,
          122,
          123,
          124,
          125,
          126,
          127,
          128,
          129,
          130,
          131,
          132,
          133,
          134,
          135,
          136,
          137,
          138,
          139,
          140,
          141,
          142,
          143,
          144,
          145,
          146,
          147,
          148,
          149,
          150,
          151,
          152,
          153,
          154,
          155,
          156,
          157,
          158,
          159,
          160,
          161,
          162,
          163,
          164,
          165,
          166,
          167,
          168,
          169,
          170,
          171,
          172,
          173,
          174,
          175,
          176,
          177,
          178,
          179,
          180,
          181,
          182,
          183,
          184,
          185,
          186,
          187,
          188,
          189,
          190,
          191,
          192,
          193,
          194,
          195,
          196,
          197,
          198,
          199
         ],
         "y": [
          0.6709713846209311,
          0.7501708568198245,
          0.7501708568198245,
          0.7501708568198245,
          0.7501708568198245,
          0.7501708568198245,
          0.7501708568198245,
          0.7501708568198245,
          0.7501708568198245,
          0.7501708568198245,
          0.7501708568198245,
          0.7501708568198245,
          0.7501708568198245,
          0.7501708568198245,
          0.7501708568198245,
          0.7501708568198245,
          0.7501708568198245,
          0.7501708568198245,
          0.7501708568198245,
          0.7501708568198245,
          0.793866701114885,
          0.793866701114885,
          0.793866701114885,
          0.793866701114885,
          0.793866701114885,
          0.793866701114885,
          0.793866701114885,
          0.793866701114885,
          0.793866701114885,
          0.793866701114885,
          0.793866701114885,
          0.793866701114885,
          0.793866701114885,
          0.793866701114885,
          0.793866701114885,
          0.793866701114885,
          0.793866701114885,
          0.793866701114885,
          0.793866701114885,
          0.793866701114885,
          0.793866701114885,
          0.793866701114885,
          0.793866701114885,
          0.793866701114885,
          0.793866701114885,
          0.793866701114885,
          0.793866701114885,
          0.793866701114885,
          0.793866701114885,
          0.793866701114885,
          0.793866701114885,
          0.793866701114885,
          0.793866701114885,
          0.793866701114885,
          0.793866701114885,
          0.793866701114885,
          0.793866701114885,
          0.793866701114885,
          0.793866701114885,
          0.793866701114885,
          0.793866701114885,
          0.793866701114885,
          0.793866701114885,
          0.793866701114885,
          0.793866701114885,
          0.793866701114885,
          0.793866701114885,
          0.793866701114885,
          0.793866701114885,
          0.793866701114885,
          0.793866701114885,
          0.793866701114885,
          0.793866701114885,
          0.793866701114885,
          0.793866701114885,
          0.793866701114885,
          0.793866701114885,
          0.793866701114885,
          0.793866701114885,
          0.793866701114885,
          0.793866701114885,
          0.793866701114885,
          0.793866701114885,
          0.793866701114885,
          0.793866701114885,
          0.793866701114885,
          0.793866701114885,
          0.793866701114885,
          0.793866701114885,
          0.793866701114885,
          0.793866701114885,
          0.793866701114885,
          0.793866701114885,
          0.793866701114885,
          0.793866701114885,
          0.793866701114885,
          0.793866701114885,
          0.793866701114885,
          0.793866701114885,
          0.793866701114885,
          0.793866701114885,
          0.793866701114885,
          0.793866701114885,
          0.793866701114885,
          0.793866701114885,
          0.793866701114885,
          0.793866701114885,
          0.793866701114885,
          0.793866701114885,
          0.793866701114885,
          0.793866701114885,
          0.793866701114885,
          0.793866701114885,
          0.793866701114885,
          0.793866701114885,
          0.793866701114885,
          0.793866701114885,
          0.793866701114885,
          0.793866701114885,
          0.793866701114885,
          0.793866701114885,
          0.793866701114885,
          0.793866701114885,
          0.793866701114885,
          0.793866701114885,
          0.793866701114885,
          0.793866701114885,
          0.793866701114885,
          0.793866701114885,
          0.793866701114885,
          0.793866701114885,
          0.793866701114885,
          0.793866701114885,
          0.793866701114885,
          0.793866701114885,
          0.793866701114885,
          0.793866701114885,
          0.793866701114885,
          0.793866701114885,
          0.793866701114885,
          0.793866701114885,
          0.793866701114885,
          0.793866701114885,
          0.793866701114885,
          0.793866701114885,
          0.793866701114885,
          0.793866701114885,
          0.793866701114885,
          0.793866701114885,
          0.793866701114885,
          0.793866701114885,
          0.793866701114885,
          0.793866701114885,
          0.793866701114885,
          0.793866701114885,
          0.793866701114885,
          0.793866701114885,
          0.793866701114885,
          0.793866701114885,
          0.793866701114885,
          0.793866701114885,
          0.793866701114885,
          0.793866701114885,
          0.793866701114885,
          0.793866701114885,
          0.793866701114885,
          0.793866701114885,
          0.793866701114885,
          0.793866701114885,
          0.793866701114885,
          0.793866701114885,
          0.793866701114885,
          0.793866701114885,
          0.793866701114885,
          0.793866701114885,
          0.793866701114885,
          0.793866701114885,
          0.793866701114885,
          0.793866701114885,
          0.793866701114885,
          0.793866701114885,
          0.793866701114885,
          0.793866701114885,
          0.793866701114885,
          0.793866701114885,
          0.793866701114885,
          0.793866701114885,
          0.793866701114885,
          0.793866701114885,
          0.793866701114885,
          0.793866701114885,
          0.793866701114885,
          0.793866701114885,
          0.793866701114885,
          0.793866701114885,
          0.793866701114885,
          0.793866701114885,
          0.793866701114885,
          0.793866701114885,
          0.793866701114885
         ]
        },
        {
         "marker": {
          "color": "#cccccc"
         },
         "mode": "markers",
         "name": "Infeasible Trial",
         "showlegend": false,
         "type": "scatter",
         "x": [],
         "y": []
        }
       ],
       "layout": {
        "template": {
         "data": {
          "bar": [
           {
            "error_x": {
             "color": "#2a3f5f"
            },
            "error_y": {
             "color": "#2a3f5f"
            },
            "marker": {
             "line": {
              "color": "#E5ECF6",
              "width": 0.5
             },
             "pattern": {
              "fillmode": "overlay",
              "size": 10,
              "solidity": 0.2
             }
            },
            "type": "bar"
           }
          ],
          "barpolar": [
           {
            "marker": {
             "line": {
              "color": "#E5ECF6",
              "width": 0.5
             },
             "pattern": {
              "fillmode": "overlay",
              "size": 10,
              "solidity": 0.2
             }
            },
            "type": "barpolar"
           }
          ],
          "carpet": [
           {
            "aaxis": {
             "endlinecolor": "#2a3f5f",
             "gridcolor": "white",
             "linecolor": "white",
             "minorgridcolor": "white",
             "startlinecolor": "#2a3f5f"
            },
            "baxis": {
             "endlinecolor": "#2a3f5f",
             "gridcolor": "white",
             "linecolor": "white",
             "minorgridcolor": "white",
             "startlinecolor": "#2a3f5f"
            },
            "type": "carpet"
           }
          ],
          "choropleth": [
           {
            "colorbar": {
             "outlinewidth": 0,
             "ticks": ""
            },
            "type": "choropleth"
           }
          ],
          "contour": [
           {
            "colorbar": {
             "outlinewidth": 0,
             "ticks": ""
            },
            "colorscale": [
             [
              0,
              "#0d0887"
             ],
             [
              0.1111111111111111,
              "#46039f"
             ],
             [
              0.2222222222222222,
              "#7201a8"
             ],
             [
              0.3333333333333333,
              "#9c179e"
             ],
             [
              0.4444444444444444,
              "#bd3786"
             ],
             [
              0.5555555555555556,
              "#d8576b"
             ],
             [
              0.6666666666666666,
              "#ed7953"
             ],
             [
              0.7777777777777778,
              "#fb9f3a"
             ],
             [
              0.8888888888888888,
              "#fdca26"
             ],
             [
              1,
              "#f0f921"
             ]
            ],
            "type": "contour"
           }
          ],
          "contourcarpet": [
           {
            "colorbar": {
             "outlinewidth": 0,
             "ticks": ""
            },
            "type": "contourcarpet"
           }
          ],
          "heatmap": [
           {
            "colorbar": {
             "outlinewidth": 0,
             "ticks": ""
            },
            "colorscale": [
             [
              0,
              "#0d0887"
             ],
             [
              0.1111111111111111,
              "#46039f"
             ],
             [
              0.2222222222222222,
              "#7201a8"
             ],
             [
              0.3333333333333333,
              "#9c179e"
             ],
             [
              0.4444444444444444,
              "#bd3786"
             ],
             [
              0.5555555555555556,
              "#d8576b"
             ],
             [
              0.6666666666666666,
              "#ed7953"
             ],
             [
              0.7777777777777778,
              "#fb9f3a"
             ],
             [
              0.8888888888888888,
              "#fdca26"
             ],
             [
              1,
              "#f0f921"
             ]
            ],
            "type": "heatmap"
           }
          ],
          "heatmapgl": [
           {
            "colorbar": {
             "outlinewidth": 0,
             "ticks": ""
            },
            "colorscale": [
             [
              0,
              "#0d0887"
             ],
             [
              0.1111111111111111,
              "#46039f"
             ],
             [
              0.2222222222222222,
              "#7201a8"
             ],
             [
              0.3333333333333333,
              "#9c179e"
             ],
             [
              0.4444444444444444,
              "#bd3786"
             ],
             [
              0.5555555555555556,
              "#d8576b"
             ],
             [
              0.6666666666666666,
              "#ed7953"
             ],
             [
              0.7777777777777778,
              "#fb9f3a"
             ],
             [
              0.8888888888888888,
              "#fdca26"
             ],
             [
              1,
              "#f0f921"
             ]
            ],
            "type": "heatmapgl"
           }
          ],
          "histogram": [
           {
            "marker": {
             "pattern": {
              "fillmode": "overlay",
              "size": 10,
              "solidity": 0.2
             }
            },
            "type": "histogram"
           }
          ],
          "histogram2d": [
           {
            "colorbar": {
             "outlinewidth": 0,
             "ticks": ""
            },
            "colorscale": [
             [
              0,
              "#0d0887"
             ],
             [
              0.1111111111111111,
              "#46039f"
             ],
             [
              0.2222222222222222,
              "#7201a8"
             ],
             [
              0.3333333333333333,
              "#9c179e"
             ],
             [
              0.4444444444444444,
              "#bd3786"
             ],
             [
              0.5555555555555556,
              "#d8576b"
             ],
             [
              0.6666666666666666,
              "#ed7953"
             ],
             [
              0.7777777777777778,
              "#fb9f3a"
             ],
             [
              0.8888888888888888,
              "#fdca26"
             ],
             [
              1,
              "#f0f921"
             ]
            ],
            "type": "histogram2d"
           }
          ],
          "histogram2dcontour": [
           {
            "colorbar": {
             "outlinewidth": 0,
             "ticks": ""
            },
            "colorscale": [
             [
              0,
              "#0d0887"
             ],
             [
              0.1111111111111111,
              "#46039f"
             ],
             [
              0.2222222222222222,
              "#7201a8"
             ],
             [
              0.3333333333333333,
              "#9c179e"
             ],
             [
              0.4444444444444444,
              "#bd3786"
             ],
             [
              0.5555555555555556,
              "#d8576b"
             ],
             [
              0.6666666666666666,
              "#ed7953"
             ],
             [
              0.7777777777777778,
              "#fb9f3a"
             ],
             [
              0.8888888888888888,
              "#fdca26"
             ],
             [
              1,
              "#f0f921"
             ]
            ],
            "type": "histogram2dcontour"
           }
          ],
          "mesh3d": [
           {
            "colorbar": {
             "outlinewidth": 0,
             "ticks": ""
            },
            "type": "mesh3d"
           }
          ],
          "parcoords": [
           {
            "line": {
             "colorbar": {
              "outlinewidth": 0,
              "ticks": ""
             }
            },
            "type": "parcoords"
           }
          ],
          "pie": [
           {
            "automargin": true,
            "type": "pie"
           }
          ],
          "scatter": [
           {
            "fillpattern": {
             "fillmode": "overlay",
             "size": 10,
             "solidity": 0.2
            },
            "type": "scatter"
           }
          ],
          "scatter3d": [
           {
            "line": {
             "colorbar": {
              "outlinewidth": 0,
              "ticks": ""
             }
            },
            "marker": {
             "colorbar": {
              "outlinewidth": 0,
              "ticks": ""
             }
            },
            "type": "scatter3d"
           }
          ],
          "scattercarpet": [
           {
            "marker": {
             "colorbar": {
              "outlinewidth": 0,
              "ticks": ""
             }
            },
            "type": "scattercarpet"
           }
          ],
          "scattergeo": [
           {
            "marker": {
             "colorbar": {
              "outlinewidth": 0,
              "ticks": ""
             }
            },
            "type": "scattergeo"
           }
          ],
          "scattergl": [
           {
            "marker": {
             "colorbar": {
              "outlinewidth": 0,
              "ticks": ""
             }
            },
            "type": "scattergl"
           }
          ],
          "scattermapbox": [
           {
            "marker": {
             "colorbar": {
              "outlinewidth": 0,
              "ticks": ""
             }
            },
            "type": "scattermapbox"
           }
          ],
          "scatterpolar": [
           {
            "marker": {
             "colorbar": {
              "outlinewidth": 0,
              "ticks": ""
             }
            },
            "type": "scatterpolar"
           }
          ],
          "scatterpolargl": [
           {
            "marker": {
             "colorbar": {
              "outlinewidth": 0,
              "ticks": ""
             }
            },
            "type": "scatterpolargl"
           }
          ],
          "scatterternary": [
           {
            "marker": {
             "colorbar": {
              "outlinewidth": 0,
              "ticks": ""
             }
            },
            "type": "scatterternary"
           }
          ],
          "surface": [
           {
            "colorbar": {
             "outlinewidth": 0,
             "ticks": ""
            },
            "colorscale": [
             [
              0,
              "#0d0887"
             ],
             [
              0.1111111111111111,
              "#46039f"
             ],
             [
              0.2222222222222222,
              "#7201a8"
             ],
             [
              0.3333333333333333,
              "#9c179e"
             ],
             [
              0.4444444444444444,
              "#bd3786"
             ],
             [
              0.5555555555555556,
              "#d8576b"
             ],
             [
              0.6666666666666666,
              "#ed7953"
             ],
             [
              0.7777777777777778,
              "#fb9f3a"
             ],
             [
              0.8888888888888888,
              "#fdca26"
             ],
             [
              1,
              "#f0f921"
             ]
            ],
            "type": "surface"
           }
          ],
          "table": [
           {
            "cells": {
             "fill": {
              "color": "#EBF0F8"
             },
             "line": {
              "color": "white"
             }
            },
            "header": {
             "fill": {
              "color": "#C8D4E3"
             },
             "line": {
              "color": "white"
             }
            },
            "type": "table"
           }
          ]
         },
         "layout": {
          "annotationdefaults": {
           "arrowcolor": "#2a3f5f",
           "arrowhead": 0,
           "arrowwidth": 1
          },
          "autotypenumbers": "strict",
          "coloraxis": {
           "colorbar": {
            "outlinewidth": 0,
            "ticks": ""
           }
          },
          "colorscale": {
           "diverging": [
            [
             0,
             "#8e0152"
            ],
            [
             0.1,
             "#c51b7d"
            ],
            [
             0.2,
             "#de77ae"
            ],
            [
             0.3,
             "#f1b6da"
            ],
            [
             0.4,
             "#fde0ef"
            ],
            [
             0.5,
             "#f7f7f7"
            ],
            [
             0.6,
             "#e6f5d0"
            ],
            [
             0.7,
             "#b8e186"
            ],
            [
             0.8,
             "#7fbc41"
            ],
            [
             0.9,
             "#4d9221"
            ],
            [
             1,
             "#276419"
            ]
           ],
           "sequential": [
            [
             0,
             "#0d0887"
            ],
            [
             0.1111111111111111,
             "#46039f"
            ],
            [
             0.2222222222222222,
             "#7201a8"
            ],
            [
             0.3333333333333333,
             "#9c179e"
            ],
            [
             0.4444444444444444,
             "#bd3786"
            ],
            [
             0.5555555555555556,
             "#d8576b"
            ],
            [
             0.6666666666666666,
             "#ed7953"
            ],
            [
             0.7777777777777778,
             "#fb9f3a"
            ],
            [
             0.8888888888888888,
             "#fdca26"
            ],
            [
             1,
             "#f0f921"
            ]
           ],
           "sequentialminus": [
            [
             0,
             "#0d0887"
            ],
            [
             0.1111111111111111,
             "#46039f"
            ],
            [
             0.2222222222222222,
             "#7201a8"
            ],
            [
             0.3333333333333333,
             "#9c179e"
            ],
            [
             0.4444444444444444,
             "#bd3786"
            ],
            [
             0.5555555555555556,
             "#d8576b"
            ],
            [
             0.6666666666666666,
             "#ed7953"
            ],
            [
             0.7777777777777778,
             "#fb9f3a"
            ],
            [
             0.8888888888888888,
             "#fdca26"
            ],
            [
             1,
             "#f0f921"
            ]
           ]
          },
          "colorway": [
           "#636efa",
           "#EF553B",
           "#00cc96",
           "#ab63fa",
           "#FFA15A",
           "#19d3f3",
           "#FF6692",
           "#B6E880",
           "#FF97FF",
           "#FECB52"
          ],
          "font": {
           "color": "#2a3f5f"
          },
          "geo": {
           "bgcolor": "white",
           "lakecolor": "white",
           "landcolor": "#E5ECF6",
           "showlakes": true,
           "showland": true,
           "subunitcolor": "white"
          },
          "hoverlabel": {
           "align": "left"
          },
          "hovermode": "closest",
          "mapbox": {
           "style": "light"
          },
          "paper_bgcolor": "white",
          "plot_bgcolor": "#E5ECF6",
          "polar": {
           "angularaxis": {
            "gridcolor": "white",
            "linecolor": "white",
            "ticks": ""
           },
           "bgcolor": "#E5ECF6",
           "radialaxis": {
            "gridcolor": "white",
            "linecolor": "white",
            "ticks": ""
           }
          },
          "scene": {
           "xaxis": {
            "backgroundcolor": "#E5ECF6",
            "gridcolor": "white",
            "gridwidth": 2,
            "linecolor": "white",
            "showbackground": true,
            "ticks": "",
            "zerolinecolor": "white"
           },
           "yaxis": {
            "backgroundcolor": "#E5ECF6",
            "gridcolor": "white",
            "gridwidth": 2,
            "linecolor": "white",
            "showbackground": true,
            "ticks": "",
            "zerolinecolor": "white"
           },
           "zaxis": {
            "backgroundcolor": "#E5ECF6",
            "gridcolor": "white",
            "gridwidth": 2,
            "linecolor": "white",
            "showbackground": true,
            "ticks": "",
            "zerolinecolor": "white"
           }
          },
          "shapedefaults": {
           "line": {
            "color": "#2a3f5f"
           }
          },
          "ternary": {
           "aaxis": {
            "gridcolor": "white",
            "linecolor": "white",
            "ticks": ""
           },
           "baxis": {
            "gridcolor": "white",
            "linecolor": "white",
            "ticks": ""
           },
           "bgcolor": "#E5ECF6",
           "caxis": {
            "gridcolor": "white",
            "linecolor": "white",
            "ticks": ""
           }
          },
          "title": {
           "x": 0.05
          },
          "xaxis": {
           "automargin": true,
           "gridcolor": "white",
           "linecolor": "white",
           "ticks": "",
           "title": {
            "standoff": 15
           },
           "zerolinecolor": "white",
           "zerolinewidth": 2
          },
          "yaxis": {
           "automargin": true,
           "gridcolor": "white",
           "linecolor": "white",
           "ticks": "",
           "title": {
            "standoff": 15
           },
           "zerolinecolor": "white",
           "zerolinewidth": 2
          }
         }
        },
        "title": {
         "text": "Optimization History Plot"
        },
        "xaxis": {
         "title": {
          "text": "Trial"
         }
        },
        "yaxis": {
         "title": {
          "text": "Objective Value"
         }
        }
       }
      }
     },
     "metadata": {},
     "output_type": "display_data"
    }
   ],
   "source": [
    "# Plot optimization history\n",
    "plot_optimization_history(study)"
   ]
  },
  {
   "cell_type": "code",
   "execution_count": 11,
   "id": "07037d73",
   "metadata": {},
   "outputs": [
    {
     "data": {
      "application/vnd.plotly.v1+json": {
       "config": {
        "plotlyServerURL": "https://plot.ly"
       },
       "data": [
        {
         "cliponaxis": false,
         "hovertemplate": [
          "max_depth (IntDistribution): 0.046070312211210426<extra></extra>",
          "n_estimators (IntDistribution): 0.05134618832573566<extra></extra>",
          "learning_rate (FloatDistribution): 0.13971007031354937<extra></extra>",
          "subsample (FloatDistribution): 0.7628734291495046<extra></extra>"
         ],
         "name": "Objective Value",
         "orientation": "h",
         "text": [
          "0.05",
          "0.05",
          "0.14",
          "0.76"
         ],
         "textposition": "outside",
         "type": "bar",
         "x": [
          0.046070312211210426,
          0.05134618832573566,
          0.13971007031354937,
          0.7628734291495046
         ],
         "y": [
          "max_depth",
          "n_estimators",
          "learning_rate",
          "subsample"
         ]
        }
       ],
       "layout": {
        "template": {
         "data": {
          "bar": [
           {
            "error_x": {
             "color": "#2a3f5f"
            },
            "error_y": {
             "color": "#2a3f5f"
            },
            "marker": {
             "line": {
              "color": "#E5ECF6",
              "width": 0.5
             },
             "pattern": {
              "fillmode": "overlay",
              "size": 10,
              "solidity": 0.2
             }
            },
            "type": "bar"
           }
          ],
          "barpolar": [
           {
            "marker": {
             "line": {
              "color": "#E5ECF6",
              "width": 0.5
             },
             "pattern": {
              "fillmode": "overlay",
              "size": 10,
              "solidity": 0.2
             }
            },
            "type": "barpolar"
           }
          ],
          "carpet": [
           {
            "aaxis": {
             "endlinecolor": "#2a3f5f",
             "gridcolor": "white",
             "linecolor": "white",
             "minorgridcolor": "white",
             "startlinecolor": "#2a3f5f"
            },
            "baxis": {
             "endlinecolor": "#2a3f5f",
             "gridcolor": "white",
             "linecolor": "white",
             "minorgridcolor": "white",
             "startlinecolor": "#2a3f5f"
            },
            "type": "carpet"
           }
          ],
          "choropleth": [
           {
            "colorbar": {
             "outlinewidth": 0,
             "ticks": ""
            },
            "type": "choropleth"
           }
          ],
          "contour": [
           {
            "colorbar": {
             "outlinewidth": 0,
             "ticks": ""
            },
            "colorscale": [
             [
              0,
              "#0d0887"
             ],
             [
              0.1111111111111111,
              "#46039f"
             ],
             [
              0.2222222222222222,
              "#7201a8"
             ],
             [
              0.3333333333333333,
              "#9c179e"
             ],
             [
              0.4444444444444444,
              "#bd3786"
             ],
             [
              0.5555555555555556,
              "#d8576b"
             ],
             [
              0.6666666666666666,
              "#ed7953"
             ],
             [
              0.7777777777777778,
              "#fb9f3a"
             ],
             [
              0.8888888888888888,
              "#fdca26"
             ],
             [
              1,
              "#f0f921"
             ]
            ],
            "type": "contour"
           }
          ],
          "contourcarpet": [
           {
            "colorbar": {
             "outlinewidth": 0,
             "ticks": ""
            },
            "type": "contourcarpet"
           }
          ],
          "heatmap": [
           {
            "colorbar": {
             "outlinewidth": 0,
             "ticks": ""
            },
            "colorscale": [
             [
              0,
              "#0d0887"
             ],
             [
              0.1111111111111111,
              "#46039f"
             ],
             [
              0.2222222222222222,
              "#7201a8"
             ],
             [
              0.3333333333333333,
              "#9c179e"
             ],
             [
              0.4444444444444444,
              "#bd3786"
             ],
             [
              0.5555555555555556,
              "#d8576b"
             ],
             [
              0.6666666666666666,
              "#ed7953"
             ],
             [
              0.7777777777777778,
              "#fb9f3a"
             ],
             [
              0.8888888888888888,
              "#fdca26"
             ],
             [
              1,
              "#f0f921"
             ]
            ],
            "type": "heatmap"
           }
          ],
          "heatmapgl": [
           {
            "colorbar": {
             "outlinewidth": 0,
             "ticks": ""
            },
            "colorscale": [
             [
              0,
              "#0d0887"
             ],
             [
              0.1111111111111111,
              "#46039f"
             ],
             [
              0.2222222222222222,
              "#7201a8"
             ],
             [
              0.3333333333333333,
              "#9c179e"
             ],
             [
              0.4444444444444444,
              "#bd3786"
             ],
             [
              0.5555555555555556,
              "#d8576b"
             ],
             [
              0.6666666666666666,
              "#ed7953"
             ],
             [
              0.7777777777777778,
              "#fb9f3a"
             ],
             [
              0.8888888888888888,
              "#fdca26"
             ],
             [
              1,
              "#f0f921"
             ]
            ],
            "type": "heatmapgl"
           }
          ],
          "histogram": [
           {
            "marker": {
             "pattern": {
              "fillmode": "overlay",
              "size": 10,
              "solidity": 0.2
             }
            },
            "type": "histogram"
           }
          ],
          "histogram2d": [
           {
            "colorbar": {
             "outlinewidth": 0,
             "ticks": ""
            },
            "colorscale": [
             [
              0,
              "#0d0887"
             ],
             [
              0.1111111111111111,
              "#46039f"
             ],
             [
              0.2222222222222222,
              "#7201a8"
             ],
             [
              0.3333333333333333,
              "#9c179e"
             ],
             [
              0.4444444444444444,
              "#bd3786"
             ],
             [
              0.5555555555555556,
              "#d8576b"
             ],
             [
              0.6666666666666666,
              "#ed7953"
             ],
             [
              0.7777777777777778,
              "#fb9f3a"
             ],
             [
              0.8888888888888888,
              "#fdca26"
             ],
             [
              1,
              "#f0f921"
             ]
            ],
            "type": "histogram2d"
           }
          ],
          "histogram2dcontour": [
           {
            "colorbar": {
             "outlinewidth": 0,
             "ticks": ""
            },
            "colorscale": [
             [
              0,
              "#0d0887"
             ],
             [
              0.1111111111111111,
              "#46039f"
             ],
             [
              0.2222222222222222,
              "#7201a8"
             ],
             [
              0.3333333333333333,
              "#9c179e"
             ],
             [
              0.4444444444444444,
              "#bd3786"
             ],
             [
              0.5555555555555556,
              "#d8576b"
             ],
             [
              0.6666666666666666,
              "#ed7953"
             ],
             [
              0.7777777777777778,
              "#fb9f3a"
             ],
             [
              0.8888888888888888,
              "#fdca26"
             ],
             [
              1,
              "#f0f921"
             ]
            ],
            "type": "histogram2dcontour"
           }
          ],
          "mesh3d": [
           {
            "colorbar": {
             "outlinewidth": 0,
             "ticks": ""
            },
            "type": "mesh3d"
           }
          ],
          "parcoords": [
           {
            "line": {
             "colorbar": {
              "outlinewidth": 0,
              "ticks": ""
             }
            },
            "type": "parcoords"
           }
          ],
          "pie": [
           {
            "automargin": true,
            "type": "pie"
           }
          ],
          "scatter": [
           {
            "fillpattern": {
             "fillmode": "overlay",
             "size": 10,
             "solidity": 0.2
            },
            "type": "scatter"
           }
          ],
          "scatter3d": [
           {
            "line": {
             "colorbar": {
              "outlinewidth": 0,
              "ticks": ""
             }
            },
            "marker": {
             "colorbar": {
              "outlinewidth": 0,
              "ticks": ""
             }
            },
            "type": "scatter3d"
           }
          ],
          "scattercarpet": [
           {
            "marker": {
             "colorbar": {
              "outlinewidth": 0,
              "ticks": ""
             }
            },
            "type": "scattercarpet"
           }
          ],
          "scattergeo": [
           {
            "marker": {
             "colorbar": {
              "outlinewidth": 0,
              "ticks": ""
             }
            },
            "type": "scattergeo"
           }
          ],
          "scattergl": [
           {
            "marker": {
             "colorbar": {
              "outlinewidth": 0,
              "ticks": ""
             }
            },
            "type": "scattergl"
           }
          ],
          "scattermapbox": [
           {
            "marker": {
             "colorbar": {
              "outlinewidth": 0,
              "ticks": ""
             }
            },
            "type": "scattermapbox"
           }
          ],
          "scatterpolar": [
           {
            "marker": {
             "colorbar": {
              "outlinewidth": 0,
              "ticks": ""
             }
            },
            "type": "scatterpolar"
           }
          ],
          "scatterpolargl": [
           {
            "marker": {
             "colorbar": {
              "outlinewidth": 0,
              "ticks": ""
             }
            },
            "type": "scatterpolargl"
           }
          ],
          "scatterternary": [
           {
            "marker": {
             "colorbar": {
              "outlinewidth": 0,
              "ticks": ""
             }
            },
            "type": "scatterternary"
           }
          ],
          "surface": [
           {
            "colorbar": {
             "outlinewidth": 0,
             "ticks": ""
            },
            "colorscale": [
             [
              0,
              "#0d0887"
             ],
             [
              0.1111111111111111,
              "#46039f"
             ],
             [
              0.2222222222222222,
              "#7201a8"
             ],
             [
              0.3333333333333333,
              "#9c179e"
             ],
             [
              0.4444444444444444,
              "#bd3786"
             ],
             [
              0.5555555555555556,
              "#d8576b"
             ],
             [
              0.6666666666666666,
              "#ed7953"
             ],
             [
              0.7777777777777778,
              "#fb9f3a"
             ],
             [
              0.8888888888888888,
              "#fdca26"
             ],
             [
              1,
              "#f0f921"
             ]
            ],
            "type": "surface"
           }
          ],
          "table": [
           {
            "cells": {
             "fill": {
              "color": "#EBF0F8"
             },
             "line": {
              "color": "white"
             }
            },
            "header": {
             "fill": {
              "color": "#C8D4E3"
             },
             "line": {
              "color": "white"
             }
            },
            "type": "table"
           }
          ]
         },
         "layout": {
          "annotationdefaults": {
           "arrowcolor": "#2a3f5f",
           "arrowhead": 0,
           "arrowwidth": 1
          },
          "autotypenumbers": "strict",
          "coloraxis": {
           "colorbar": {
            "outlinewidth": 0,
            "ticks": ""
           }
          },
          "colorscale": {
           "diverging": [
            [
             0,
             "#8e0152"
            ],
            [
             0.1,
             "#c51b7d"
            ],
            [
             0.2,
             "#de77ae"
            ],
            [
             0.3,
             "#f1b6da"
            ],
            [
             0.4,
             "#fde0ef"
            ],
            [
             0.5,
             "#f7f7f7"
            ],
            [
             0.6,
             "#e6f5d0"
            ],
            [
             0.7,
             "#b8e186"
            ],
            [
             0.8,
             "#7fbc41"
            ],
            [
             0.9,
             "#4d9221"
            ],
            [
             1,
             "#276419"
            ]
           ],
           "sequential": [
            [
             0,
             "#0d0887"
            ],
            [
             0.1111111111111111,
             "#46039f"
            ],
            [
             0.2222222222222222,
             "#7201a8"
            ],
            [
             0.3333333333333333,
             "#9c179e"
            ],
            [
             0.4444444444444444,
             "#bd3786"
            ],
            [
             0.5555555555555556,
             "#d8576b"
            ],
            [
             0.6666666666666666,
             "#ed7953"
            ],
            [
             0.7777777777777778,
             "#fb9f3a"
            ],
            [
             0.8888888888888888,
             "#fdca26"
            ],
            [
             1,
             "#f0f921"
            ]
           ],
           "sequentialminus": [
            [
             0,
             "#0d0887"
            ],
            [
             0.1111111111111111,
             "#46039f"
            ],
            [
             0.2222222222222222,
             "#7201a8"
            ],
            [
             0.3333333333333333,
             "#9c179e"
            ],
            [
             0.4444444444444444,
             "#bd3786"
            ],
            [
             0.5555555555555556,
             "#d8576b"
            ],
            [
             0.6666666666666666,
             "#ed7953"
            ],
            [
             0.7777777777777778,
             "#fb9f3a"
            ],
            [
             0.8888888888888888,
             "#fdca26"
            ],
            [
             1,
             "#f0f921"
            ]
           ]
          },
          "colorway": [
           "#636efa",
           "#EF553B",
           "#00cc96",
           "#ab63fa",
           "#FFA15A",
           "#19d3f3",
           "#FF6692",
           "#B6E880",
           "#FF97FF",
           "#FECB52"
          ],
          "font": {
           "color": "#2a3f5f"
          },
          "geo": {
           "bgcolor": "white",
           "lakecolor": "white",
           "landcolor": "#E5ECF6",
           "showlakes": true,
           "showland": true,
           "subunitcolor": "white"
          },
          "hoverlabel": {
           "align": "left"
          },
          "hovermode": "closest",
          "mapbox": {
           "style": "light"
          },
          "paper_bgcolor": "white",
          "plot_bgcolor": "#E5ECF6",
          "polar": {
           "angularaxis": {
            "gridcolor": "white",
            "linecolor": "white",
            "ticks": ""
           },
           "bgcolor": "#E5ECF6",
           "radialaxis": {
            "gridcolor": "white",
            "linecolor": "white",
            "ticks": ""
           }
          },
          "scene": {
           "xaxis": {
            "backgroundcolor": "#E5ECF6",
            "gridcolor": "white",
            "gridwidth": 2,
            "linecolor": "white",
            "showbackground": true,
            "ticks": "",
            "zerolinecolor": "white"
           },
           "yaxis": {
            "backgroundcolor": "#E5ECF6",
            "gridcolor": "white",
            "gridwidth": 2,
            "linecolor": "white",
            "showbackground": true,
            "ticks": "",
            "zerolinecolor": "white"
           },
           "zaxis": {
            "backgroundcolor": "#E5ECF6",
            "gridcolor": "white",
            "gridwidth": 2,
            "linecolor": "white",
            "showbackground": true,
            "ticks": "",
            "zerolinecolor": "white"
           }
          },
          "shapedefaults": {
           "line": {
            "color": "#2a3f5f"
           }
          },
          "ternary": {
           "aaxis": {
            "gridcolor": "white",
            "linecolor": "white",
            "ticks": ""
           },
           "baxis": {
            "gridcolor": "white",
            "linecolor": "white",
            "ticks": ""
           },
           "bgcolor": "#E5ECF6",
           "caxis": {
            "gridcolor": "white",
            "linecolor": "white",
            "ticks": ""
           }
          },
          "title": {
           "x": 0.05
          },
          "xaxis": {
           "automargin": true,
           "gridcolor": "white",
           "linecolor": "white",
           "ticks": "",
           "title": {
            "standoff": 15
           },
           "zerolinecolor": "white",
           "zerolinewidth": 2
          },
          "yaxis": {
           "automargin": true,
           "gridcolor": "white",
           "linecolor": "white",
           "ticks": "",
           "title": {
            "standoff": 15
           },
           "zerolinecolor": "white",
           "zerolinewidth": 2
          }
         }
        },
        "title": {
         "text": "Hyperparameter Importances"
        },
        "xaxis": {
         "title": {
          "text": "Hyperparameter Importance"
         }
        },
        "yaxis": {
         "title": {
          "text": "Hyperparameter"
         }
        }
       }
      }
     },
     "metadata": {},
     "output_type": "display_data"
    }
   ],
   "source": [
    "# Plot parameter importances\n",
    "plot_param_importances(study)"
   ]
  },
  {
   "cell_type": "code",
   "execution_count": 12,
   "id": "e8f4d4d6",
   "metadata": {},
   "outputs": [
    {
     "name": "stdout",
     "output_type": "stream",
     "text": [
      "        n_estimators : 82\n",
      "       learning_rate : 0.35136797936178155\n",
      "           max_depth : 6\n",
      "           subsample : 0.08593608760020141\n",
      "best objective value : 0.793866701114885\n"
     ]
    }
   ],
   "source": [
    "hp = study.best_params\n",
    "\n",
    "for key, value in hp.items():\n",
    "    print(f\"{key:>20s} : {value}\")\n",
    "print(f\"{'best objective value':>20s} : {study.best_value}\")\n",
    "\n",
    "hp[\"verbosity\"] = 0\n",
    "hp[\"objective\"] = \"reg:squarederror\"\n",
    "hp[\"tree_method\"] = \"hist\"\n",
    "hp[\"seed\"] = RS\n",
    "hp[\"n_jobs\"] = N_JOBS"
   ]
  },
  {
   "cell_type": "code",
   "execution_count": 13,
   "id": "d1c07beb",
   "metadata": {},
   "outputs": [],
   "source": [
    "model = xgb.XGBRegressor(**hp, eval_metric=\"rmse\",early_stopping_rounds = EARLY_STOPPING_ROUNDS)\n",
    "rkf = RepeatedKFold(n_splits=N_SPLITS, n_repeats=N_REPEATS, random_state=RS)\n",
    "X_values = X_train.values\n",
    "y_values = y_train.values\n",
    "y_pred = np.zeros_like(y_test.values)\n",
    "for train_index, test_index in rkf.split(X_values):\n",
    "    X_A, X_B = X_values[train_index, :], X_values[test_index, :]\n",
    "    y_A, y_B = y_values[train_index], y_values[test_index]\n",
    "    model.fit(\n",
    "        X_A,\n",
    "        y_A,\n",
    "        eval_set=[(X_B, y_B)],\n",
    "        verbose=0,\n",
    "    )\n",
    "    y_pred += model.predict(X_test.values)\n",
    "y_pred /= N_REPEATS * N_SPLITS"
   ]
  },
  {
   "cell_type": "code",
   "execution_count": 14,
   "id": "0a3b1923",
   "metadata": {},
   "outputs": [],
   "source": [
    "score, mse = r2_score(y_true=y_test, y_pred=y_pred), mean_squared_error(y_true=y_test, y_pred=y_pred)"
   ]
  },
  {
   "cell_type": "code",
   "execution_count": 15,
   "id": "233330a8",
   "metadata": {},
   "outputs": [
    {
     "data": {
      "image/png": "[encoded data removed]",
      "text/plain": [
       "<Figure size 1525.59x1525.59 with 1 Axes>"
      ]
     },
     "metadata": {},
     "output_type": "display_data"
    }
   ],
   "source": [
    "from sklearn.metrics import PredictionErrorDisplay\n",
    "\n",
    "figsize= (15.5/2*cm, 15.5/2*cm)\n",
    "\n",
    "y_true = y_test\n",
    "y_pred = pd.DataFrame(y_pred)\n",
    "\n",
    "\n",
    "# Define plot structure\n",
    "fig, axs = plt.subplots(nrows=1, ncols=1, figsize=figsize, dpi=500)\n",
    "\n",
    "ped = PredictionErrorDisplay.from_predictions(y_true=y_true,\n",
    "                                            y_pred=y_pred,\n",
    "                                            kind=\"actual_vs_predicted\",\n",
    "                                            subsample=100000,\n",
    "                                            ax=axs,\n",
    "                                            random_state=0, \n",
    "                                            line_kwargs={\"color\": \"black\", \"linewidth\": 0.75, \"linestyle\": \"--\", \"alpha\": 1},)\n",
    "\n",
    "ped.ax_.set_xlabel(\"\")  # Set x label\n",
    "ped.ax_.set_ylabel(\"\")  # Set y label\n",
    "\n",
    "xlim, ylim = axis_limit[j][0], axis_limit[j][1]\n",
    "\n",
    "ped.ax_.set_xticks(np.arange(xlim, ylim+0.001, (ylim-xlim)/4))\n",
    "ped.ax_.set_yticks(np.arange(xlim, ylim+0.001, (ylim-xlim)/4))\n",
    "\n",
    "\n",
    "ped.ax_.grid(linewidth = 0.5, linestyle = 'dotted')\n",
    "\n",
    "scatter = ped.figure_.axes[0].collections[0]\n",
    "scatter.set_color('gray')  \n",
    "scatter.set_sizes([5]) \n",
    "scatter.set_alpha([0.5]) \n",
    "\n",
    "plt.title(f'{investigated_column_plot}: $R^2$ = {score:.4f}, $MSE$ = {mse:.4f}', x = 0.5, y=1.0)  \n",
    "\n",
    "ax = ped.ax_\n",
    "ax.set_xticks(ax.get_xticks())\n",
    "ax.tick_params(axis='x', rotation=0)\n",
    "\n",
    "fig.text(0.55, 0.03, r'$\\leftarrow$     Predicted data     $\\rightarrow$', ha='center', va='center')\n",
    "fig.text(0.03, 0.5, r'$\\leftarrow$     Actual data     $\\rightarrow$', ha='center', va='center', rotation='vertical')\n",
    "\n",
    "plt.subplots_adjust(left=0.19, right=0.95, top=0.91, bottom=0.15, wspace=0.5, hspace=0.5)\n",
    "plt.savefig(save_path, dpi=1000)"
   ]
  },
  {
   "cell_type": "code",
   "execution_count": 16,
   "id": "76e33465",
   "metadata": {},
   "outputs": [
    {
     "data": {
      "text/plain": [
       "['2_su_prediction_xgb_model.joblib']"
      ]
     },
     "execution_count": 16,
     "metadata": {},
     "output_type": "execute_result"
    }
   ],
   "source": [
    "# Save the model using joblib or pickle\n",
    "import joblib\n",
    "\n",
    "# Fit the model on the entire dataset with the best hyperparameters\n",
    "final_model = xgb.XGBRegressor(**hp, eval_metric=\"rmse\", random_state=RS)\n",
    "\n",
    "# Fit the model on the entire dataset\n",
    "final_model.fit(X, y)\n",
    "\n",
    "name = save_path.split('\\\\')[-1].split('.')[0]\n",
    "joblib.dump(final_model, f'{name}_xgb_model.joblib')\n"
   ]
  }
 ],
 "metadata": {
  "kernelspec": {
   "display_name": "DataDriven",
   "language": "python",
   "name": "python3"
  },
  "language_info": {
   "codemirror_mode": {
    "name": "ipython",
    "version": 3
   },
   "file_extension": ".py",
   "mimetype": "text/x-python",
   "name": "python",
   "nbconvert_exporter": "python",
   "pygments_lexer": "ipython3",
   "version": "3.11.1"
  }
 },
 "nbformat": 4,
 "nbformat_minor": 5
}
