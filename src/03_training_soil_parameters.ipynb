{
 "cells": [
  {
   "cell_type": "code",
   "execution_count": 33,
   "id": "a5eb73a0-65aa-4212-bdb2-e36662cd5cbe",
   "metadata": {},
   "outputs": [],
   "source": [
    "#Import packages\n",
    "import pandas as pd\n",
    "import numpy as np\n",
    "import glob\n",
    "\n",
    "from functions import plotting_raw_data, remove_outliers, error_plot, plot_cpt_data, plot_cpt_data_ML_prediction, plot_cpt_data_NW_site\n",
    "\n",
    "import matplotlib.pyplot as plt\n",
    "from sklearn.model_selection import train_test_split\n",
    "from sklearn.metrics import r2_score, mean_squared_error\n",
    "from sklearn.model_selection import cross_val_score\n",
    "from sklearn.model_selection import train_test_split\n",
    "from sklearn.model_selection import RepeatedKFold\n",
    "from sklearn.metrics import r2_score\n",
    "import xgboost as xgb\n",
    "\n",
    "import optuna\n",
    "from optuna.samplers import TPESampler\n",
    "from optuna.visualization import plot_param_importances, plot_optimization_history"
   ]
  },
  {
   "cell_type": "code",
   "execution_count": 34,
   "id": "bd41e89e-74ac-41a5-94e1-1a64f2c713e4",
   "metadata": {},
   "outputs": [],
   "source": [
    "######################## Define the text size of each plot globally ###########\n",
    "SMALL_SIZE = 10\n",
    "BIGGER_SIZE = 10\n",
    "\n",
    "plt.rc('font', size=SMALL_SIZE)          # controls default text sizes\n",
    "plt.rc('axes', titlesize=SMALL_SIZE)     # fontsize of the axes title\n",
    "plt.rc('axes', labelsize=SMALL_SIZE)    # fontsize of the x and y labels\n",
    "plt.rc('xtick', labelsize=SMALL_SIZE)    # fontsize of the tick labels\n",
    "plt.rc('ytick', labelsize=SMALL_SIZE)    # fontsize of the tick labels\n",
    "plt.rc('legend', fontsize=SMALL_SIZE)    # legend fontsize\n",
    "plt.rc('figure', titlesize=BIGGER_SIZE)  # fontsize of the figure title\n",
    "\n",
    "plt.rcParams[\"font.family\"] = \"Times New Roman\"\n",
    "cm = 1/2.54  # centimeters in inches"
   ]
  },
  {
   "cell_type": "code",
   "execution_count": null,
   "id": "583fdc51",
   "metadata": {},
   "outputs": [
    {
     "data": {
      "text/html": [
       "<div>\n",
       "<style scoped>\n",
       "    .dataframe tbody tr th:only-of-type {\n",
       "        vertical-align: middle;\n",
       "    }\n",
       "\n",
       "    .dataframe tbody tr th {\n",
       "        vertical-align: top;\n",
       "    }\n",
       "\n",
       "    .dataframe thead th {\n",
       "        text-align: right;\n",
       "    }\n",
       "</style>\n",
       "<table border=\"1\" class=\"dataframe\">\n",
       "  <thead>\n",
       "    <tr style=\"text-align: right;\">\n",
       "      <th></th>\n",
       "      <th>Depth (m)</th>\n",
       "      <th>qc (MPa)</th>\n",
       "      <th>fs (kPa)</th>\n",
       "      <th>Rf (%)</th>\n",
       "      <th>u2 (kPa)</th>\n",
       "      <th>gamma (kN/m3)</th>\n",
       "      <th>M (MN/m2)</th>\n",
       "      <th>OCR (-)</th>\n",
       "      <th>su (kPa)</th>\n",
       "      <th>sampling_name(-)</th>\n",
       "    </tr>\n",
       "  </thead>\n",
       "  <tbody>\n",
       "    <tr>\n",
       "      <th>0</th>\n",
       "      <td>1.80</td>\n",
       "      <td>0.289</td>\n",
       "      <td>19.0</td>\n",
       "      <td>6.574394</td>\n",
       "      <td>37.0</td>\n",
       "      <td>10.370000</td>\n",
       "      <td>NaN</td>\n",
       "      <td>1.830000</td>\n",
       "      <td>NaN</td>\n",
       "      <td>Bergambacht (B06 51B)</td>\n",
       "    </tr>\n",
       "    <tr>\n",
       "      <th>1</th>\n",
       "      <td>1.86</td>\n",
       "      <td>0.289</td>\n",
       "      <td>19.0</td>\n",
       "      <td>6.574394</td>\n",
       "      <td>37.0</td>\n",
       "      <td>10.390000</td>\n",
       "      <td>NaN</td>\n",
       "      <td>NaN</td>\n",
       "      <td>NaN</td>\n",
       "      <td>Bergambacht (B06 51C)</td>\n",
       "    </tr>\n",
       "    <tr>\n",
       "      <th>2</th>\n",
       "      <td>2.71</td>\n",
       "      <td>0.257</td>\n",
       "      <td>14.0</td>\n",
       "      <td>5.447471</td>\n",
       "      <td>51.0</td>\n",
       "      <td>NaN</td>\n",
       "      <td>NaN</td>\n",
       "      <td>NaN</td>\n",
       "      <td>NaN</td>\n",
       "      <td>Bergambacht (B06 52B)</td>\n",
       "    </tr>\n",
       "    <tr>\n",
       "      <th>3</th>\n",
       "      <td>2.76</td>\n",
       "      <td>0.257</td>\n",
       "      <td>14.0</td>\n",
       "      <td>5.447471</td>\n",
       "      <td>51.0</td>\n",
       "      <td>NaN</td>\n",
       "      <td>NaN</td>\n",
       "      <td>NaN</td>\n",
       "      <td>NaN</td>\n",
       "      <td>Bergambacht (B06 52C)</td>\n",
       "    </tr>\n",
       "    <tr>\n",
       "      <th>4</th>\n",
       "      <td>1.35</td>\n",
       "      <td>0.226</td>\n",
       "      <td>11.0</td>\n",
       "      <td>4.867257</td>\n",
       "      <td>51.0</td>\n",
       "      <td>NaN</td>\n",
       "      <td>NaN</td>\n",
       "      <td>NaN</td>\n",
       "      <td>NaN</td>\n",
       "      <td>Bergambacht (B06 52D)</td>\n",
       "    </tr>\n",
       "    <tr>\n",
       "      <th>...</th>\n",
       "      <td>...</td>\n",
       "      <td>...</td>\n",
       "      <td>...</td>\n",
       "      <td>...</td>\n",
       "      <td>...</td>\n",
       "      <td>...</td>\n",
       "      <td>...</td>\n",
       "      <td>...</td>\n",
       "      <td>...</td>\n",
       "      <td>...</td>\n",
       "    </tr>\n",
       "    <tr>\n",
       "      <th>785</th>\n",
       "      <td>4.55</td>\n",
       "      <td>0.480</td>\n",
       "      <td>7.5</td>\n",
       "      <td>1.562500</td>\n",
       "      <td>304.8</td>\n",
       "      <td>17.849941</td>\n",
       "      <td>2.203390</td>\n",
       "      <td>2.058824</td>\n",
       "      <td>NaN</td>\n",
       "      <td>Austria_site5</td>\n",
       "    </tr>\n",
       "    <tr>\n",
       "      <th>786</th>\n",
       "      <td>4.55</td>\n",
       "      <td>0.480</td>\n",
       "      <td>7.5</td>\n",
       "      <td>1.562500</td>\n",
       "      <td>304.8</td>\n",
       "      <td>16.930067</td>\n",
       "      <td>1.950510</td>\n",
       "      <td>2.156863</td>\n",
       "      <td>NaN</td>\n",
       "      <td>Austria_site5</td>\n",
       "    </tr>\n",
       "    <tr>\n",
       "      <th>787</th>\n",
       "      <td>4.55</td>\n",
       "      <td>0.480</td>\n",
       "      <td>7.5</td>\n",
       "      <td>1.562500</td>\n",
       "      <td>304.8</td>\n",
       "      <td>16.900000</td>\n",
       "      <td>NaN</td>\n",
       "      <td>NaN</td>\n",
       "      <td>NaN</td>\n",
       "      <td>Austria_site5</td>\n",
       "    </tr>\n",
       "    <tr>\n",
       "      <th>788</th>\n",
       "      <td>4.65</td>\n",
       "      <td>0.490</td>\n",
       "      <td>7.7</td>\n",
       "      <td>1.571429</td>\n",
       "      <td>308.8</td>\n",
       "      <td>17.237443</td>\n",
       "      <td>2.076677</td>\n",
       "      <td>1.960784</td>\n",
       "      <td>NaN</td>\n",
       "      <td>Austria_site5</td>\n",
       "    </tr>\n",
       "    <tr>\n",
       "      <th>789</th>\n",
       "      <td>4.65</td>\n",
       "      <td>0.490</td>\n",
       "      <td>7.7</td>\n",
       "      <td>1.571429</td>\n",
       "      <td>308.8</td>\n",
       "      <td>17.119064</td>\n",
       "      <td>1.703735</td>\n",
       "      <td>2.156863</td>\n",
       "      <td>NaN</td>\n",
       "      <td>Austria_site5</td>\n",
       "    </tr>\n",
       "  </tbody>\n",
       "</table>\n",
       "<p>790 rows × 10 columns</p>\n",
       "</div>"
      ],
      "text/plain": [
       "     Depth (m)  qc (MPa)  fs (kPa)    Rf (%)  u2 (kPa)  gamma (kN/m3)  \\\n",
       "0         1.80     0.289      19.0  6.574394      37.0      10.370000   \n",
       "1         1.86     0.289      19.0  6.574394      37.0      10.390000   \n",
       "2         2.71     0.257      14.0  5.447471      51.0            NaN   \n",
       "3         2.76     0.257      14.0  5.447471      51.0            NaN   \n",
       "4         1.35     0.226      11.0  4.867257      51.0            NaN   \n",
       "..         ...       ...       ...       ...       ...            ...   \n",
       "785       4.55     0.480       7.5  1.562500     304.8      17.849941   \n",
       "786       4.55     0.480       7.5  1.562500     304.8      16.930067   \n",
       "787       4.55     0.480       7.5  1.562500     304.8      16.900000   \n",
       "788       4.65     0.490       7.7  1.571429     308.8      17.237443   \n",
       "789       4.65     0.490       7.7  1.571429     308.8      17.119064   \n",
       "\n",
       "     M (MN/m2)   OCR (-)  su (kPa)       sampling_name(-)  \n",
       "0          NaN  1.830000       NaN  Bergambacht (B06 51B)  \n",
       "1          NaN       NaN       NaN  Bergambacht (B06 51C)  \n",
       "2          NaN       NaN       NaN  Bergambacht (B06 52B)  \n",
       "3          NaN       NaN       NaN  Bergambacht (B06 52C)  \n",
       "4          NaN       NaN       NaN  Bergambacht (B06 52D)  \n",
       "..         ...       ...       ...                    ...  \n",
       "785   2.203390  2.058824       NaN          Austria_site5  \n",
       "786   1.950510  2.156863       NaN          Austria_site5  \n",
       "787        NaN       NaN       NaN          Austria_site5  \n",
       "788   2.076677  1.960784       NaN          Austria_site5  \n",
       "789   1.703735  2.156863       NaN          Austria_site5  \n",
       "\n",
       "[790 rows x 10 columns]"
      ]
     },
     "execution_count": 35,
     "metadata": {},
     "output_type": "execute_result"
    }
   ],
   "source": [
    "data_ML = pd.read_csv('..\\data\\database_preprocessed_2024_soilparameter.csv')\n",
    "data_ML"
   ]
  },
  {
   "cell_type": "code",
   "execution_count": 36,
   "id": "5a040bcd",
   "metadata": {},
   "outputs": [
    {
     "name": "stdout",
     "output_type": "stream",
     "text": [
      "M (MN/m2) is selected to predict, M (MN/m$^2$) is plotted, ..\\graphics\\\\3_M_prediction.png is saved, (0, 20) is the axis limit, 195 is the length of the data\n"
     ]
    }
   ],
   "source": [
    "prefix = r'..\\graphics\\\\'\n",
    "investigated_column =  ['gamma (kN/m3)', 'su (kPa)', 'M (MN/m2)', 'OCR (-)']\n",
    "investigated_column_plot =  ['$\\gamma$ (kN/m$^3$)', '$s_u$ (kPa)', 'M (MN/m$^2$)', 'OCR (-)']\n",
    "save_paths = [prefix + '1_gamma_prediction.png', prefix + '2_su_prediction.png', prefix + '3_M_prediction.png']\n",
    "axis_limit = [(13, 22), (0, 200), (0, 20), (0,20)]\n",
    "\n",
    "j = 2\n",
    "investigated_column_plot = investigated_column_plot[j]\n",
    "investigated_column = investigated_column[j]\n",
    "save_path = save_paths[j]\n",
    "\n",
    "data_ML = data_ML.dropna(subset=[investigated_column])\n",
    "print(f\"{investigated_column} is selected to predict, {investigated_column_plot} is plotted, {save_path} is saved, {axis_limit[j]} is the axis limit, {len(data_ML)} is the length of the data\")\n",
    "\n",
    "#Remove the NGTS data from silt and clay test sites\n",
    "data_ML_filtered = data_ML[~data_ML['sampling_name(-)'].str.contains(r'NGTS_Silt_|NGTS_Clay_', na=False)]\n",
    "\n",
    "columns_x = ['Depth (m)','qc (MPa)', 'fs (kPa)','Rf (%)'] #for Machine learning features\n",
    "plot_columns_x_label = ['Depth (m)','$q_c$ (MPa)', '$f_s$ (kPa)','$R_f$ (%)'] #for plotting purpose\n",
    "\n",
    "X = data_ML_filtered.loc[:,columns_x]\n",
    "y = data_ML_filtered[investigated_column]\n",
    "\n",
    "X_train, X_test, y_train, y_test = train_test_split(X, y, test_size=0.20, random_state=42)"
   ]
  },
  {
   "cell_type": "code",
   "execution_count": 37,
   "id": "887d0e6b",
   "metadata": {},
   "outputs": [
    {
     "data": {
      "text/plain": [
       "Index(['Depth (m)', 'qc (MPa)', 'fs (kPa)', 'Rf (%)'], dtype='object')"
      ]
     },
     "execution_count": 37,
     "metadata": {},
     "output_type": "execute_result"
    }
   ],
   "source": [
    "X.columns"
   ]
  },
  {
   "cell_type": "code",
   "execution_count": 38,
   "id": "bcd50316",
   "metadata": {},
   "outputs": [
    {
     "data": {
      "text/html": [
       "<div>\n",
       "<style scoped>\n",
       "    .dataframe tbody tr th:only-of-type {\n",
       "        vertical-align: middle;\n",
       "    }\n",
       "\n",
       "    .dataframe tbody tr th {\n",
       "        vertical-align: top;\n",
       "    }\n",
       "\n",
       "    .dataframe thead th {\n",
       "        text-align: right;\n",
       "    }\n",
       "</style>\n",
       "<table border=\"1\" class=\"dataframe\">\n",
       "  <thead>\n",
       "    <tr style=\"text-align: right;\">\n",
       "      <th></th>\n",
       "      <th>Depth (m)</th>\n",
       "      <th>qc (MPa)</th>\n",
       "      <th>fs (kPa)</th>\n",
       "      <th>Rf (%)</th>\n",
       "      <th>u2 (kPa)</th>\n",
       "      <th>gamma (kN/m3)</th>\n",
       "      <th>M (MN/m2)</th>\n",
       "      <th>OCR (-)</th>\n",
       "      <th>su (kPa)</th>\n",
       "      <th>sampling_name(-)</th>\n",
       "    </tr>\n",
       "  </thead>\n",
       "  <tbody>\n",
       "    <tr>\n",
       "      <th>271</th>\n",
       "      <td>10.37</td>\n",
       "      <td>0.611467</td>\n",
       "      <td>4.633333</td>\n",
       "      <td>0.757741</td>\n",
       "      <td>521.233333</td>\n",
       "      <td>19.330000</td>\n",
       "      <td>5.500000</td>\n",
       "      <td>1.390000</td>\n",
       "      <td>NaN</td>\n",
       "      <td>Norway_site</td>\n",
       "    </tr>\n",
       "    <tr>\n",
       "      <th>272</th>\n",
       "      <td>13.53</td>\n",
       "      <td>0.786000</td>\n",
       "      <td>7.366667</td>\n",
       "      <td>0.937235</td>\n",
       "      <td>556.183333</td>\n",
       "      <td>19.610000</td>\n",
       "      <td>6.500000</td>\n",
       "      <td>1.300000</td>\n",
       "      <td>NaN</td>\n",
       "      <td>Norway_site</td>\n",
       "    </tr>\n",
       "    <tr>\n",
       "      <th>273</th>\n",
       "      <td>16.56</td>\n",
       "      <td>0.853220</td>\n",
       "      <td>7.240000</td>\n",
       "      <td>0.848550</td>\n",
       "      <td>634.520000</td>\n",
       "      <td>19.460000</td>\n",
       "      <td>9.500000</td>\n",
       "      <td>1.560000</td>\n",
       "      <td>NaN</td>\n",
       "      <td>Norway_site</td>\n",
       "    </tr>\n",
       "    <tr>\n",
       "      <th>274</th>\n",
       "      <td>19.50</td>\n",
       "      <td>0.830100</td>\n",
       "      <td>11.000000</td>\n",
       "      <td>1.325142</td>\n",
       "      <td>896.840000</td>\n",
       "      <td>19.910000</td>\n",
       "      <td>10.300000</td>\n",
       "      <td>1.370000</td>\n",
       "      <td>NaN</td>\n",
       "      <td>Norway_site</td>\n",
       "    </tr>\n",
       "    <tr>\n",
       "      <th>281</th>\n",
       "      <td>6.31</td>\n",
       "      <td>0.440600</td>\n",
       "      <td>14.583333</td>\n",
       "      <td>3.309880</td>\n",
       "      <td>385.800000</td>\n",
       "      <td>18.340000</td>\n",
       "      <td>3.200000</td>\n",
       "      <td>1.930000</td>\n",
       "      <td>NaN</td>\n",
       "      <td>Norway_site</td>\n",
       "    </tr>\n",
       "    <tr>\n",
       "      <th>...</th>\n",
       "      <td>...</td>\n",
       "      <td>...</td>\n",
       "      <td>...</td>\n",
       "      <td>...</td>\n",
       "      <td>...</td>\n",
       "      <td>...</td>\n",
       "      <td>...</td>\n",
       "      <td>...</td>\n",
       "      <td>...</td>\n",
       "      <td>...</td>\n",
       "    </tr>\n",
       "    <tr>\n",
       "      <th>782</th>\n",
       "      <td>5.10</td>\n",
       "      <td>0.480000</td>\n",
       "      <td>8.800000</td>\n",
       "      <td>1.833333</td>\n",
       "      <td>321.500000</td>\n",
       "      <td>17.500040</td>\n",
       "      <td>0.663152</td>\n",
       "      <td>NaN</td>\n",
       "      <td>NaN</td>\n",
       "      <td>Austria_site3</td>\n",
       "    </tr>\n",
       "    <tr>\n",
       "      <th>785</th>\n",
       "      <td>4.55</td>\n",
       "      <td>0.480000</td>\n",
       "      <td>7.500000</td>\n",
       "      <td>1.562500</td>\n",
       "      <td>304.800000</td>\n",
       "      <td>17.849941</td>\n",
       "      <td>2.203390</td>\n",
       "      <td>2.058824</td>\n",
       "      <td>NaN</td>\n",
       "      <td>Austria_site5</td>\n",
       "    </tr>\n",
       "    <tr>\n",
       "      <th>786</th>\n",
       "      <td>4.55</td>\n",
       "      <td>0.480000</td>\n",
       "      <td>7.500000</td>\n",
       "      <td>1.562500</td>\n",
       "      <td>304.800000</td>\n",
       "      <td>16.930067</td>\n",
       "      <td>1.950510</td>\n",
       "      <td>2.156863</td>\n",
       "      <td>NaN</td>\n",
       "      <td>Austria_site5</td>\n",
       "    </tr>\n",
       "    <tr>\n",
       "      <th>788</th>\n",
       "      <td>4.65</td>\n",
       "      <td>0.490000</td>\n",
       "      <td>7.700000</td>\n",
       "      <td>1.571429</td>\n",
       "      <td>308.800000</td>\n",
       "      <td>17.237443</td>\n",
       "      <td>2.076677</td>\n",
       "      <td>1.960784</td>\n",
       "      <td>NaN</td>\n",
       "      <td>Austria_site5</td>\n",
       "    </tr>\n",
       "    <tr>\n",
       "      <th>789</th>\n",
       "      <td>4.65</td>\n",
       "      <td>0.490000</td>\n",
       "      <td>7.700000</td>\n",
       "      <td>1.571429</td>\n",
       "      <td>308.800000</td>\n",
       "      <td>17.119064</td>\n",
       "      <td>1.703735</td>\n",
       "      <td>2.156863</td>\n",
       "      <td>NaN</td>\n",
       "      <td>Austria_site5</td>\n",
       "    </tr>\n",
       "  </tbody>\n",
       "</table>\n",
       "<p>195 rows × 10 columns</p>\n",
       "</div>"
      ],
      "text/plain": [
       "     Depth (m)  qc (MPa)   fs (kPa)    Rf (%)    u2 (kPa)  gamma (kN/m3)  \\\n",
       "271      10.37  0.611467   4.633333  0.757741  521.233333      19.330000   \n",
       "272      13.53  0.786000   7.366667  0.937235  556.183333      19.610000   \n",
       "273      16.56  0.853220   7.240000  0.848550  634.520000      19.460000   \n",
       "274      19.50  0.830100  11.000000  1.325142  896.840000      19.910000   \n",
       "281       6.31  0.440600  14.583333  3.309880  385.800000      18.340000   \n",
       "..         ...       ...        ...       ...         ...            ...   \n",
       "782       5.10  0.480000   8.800000  1.833333  321.500000      17.500040   \n",
       "785       4.55  0.480000   7.500000  1.562500  304.800000      17.849941   \n",
       "786       4.55  0.480000   7.500000  1.562500  304.800000      16.930067   \n",
       "788       4.65  0.490000   7.700000  1.571429  308.800000      17.237443   \n",
       "789       4.65  0.490000   7.700000  1.571429  308.800000      17.119064   \n",
       "\n",
       "     M (MN/m2)   OCR (-)  su (kPa) sampling_name(-)  \n",
       "271   5.500000  1.390000       NaN      Norway_site  \n",
       "272   6.500000  1.300000       NaN      Norway_site  \n",
       "273   9.500000  1.560000       NaN      Norway_site  \n",
       "274  10.300000  1.370000       NaN      Norway_site  \n",
       "281   3.200000  1.930000       NaN      Norway_site  \n",
       "..         ...       ...       ...              ...  \n",
       "782   0.663152       NaN       NaN    Austria_site3  \n",
       "785   2.203390  2.058824       NaN    Austria_site5  \n",
       "786   1.950510  2.156863       NaN    Austria_site5  \n",
       "788   2.076677  1.960784       NaN    Austria_site5  \n",
       "789   1.703735  2.156863       NaN    Austria_site5  \n",
       "\n",
       "[195 rows x 10 columns]"
      ]
     },
     "execution_count": 38,
     "metadata": {},
     "output_type": "execute_result"
    }
   ],
   "source": [
    "data_ML"
   ]
  },
  {
   "cell_type": "code",
   "execution_count": 39,
   "id": "954b3370",
   "metadata": {},
   "outputs": [
    {
     "data": {
      "text/html": [
       "<div>\n",
       "<style scoped>\n",
       "    .dataframe tbody tr th:only-of-type {\n",
       "        vertical-align: middle;\n",
       "    }\n",
       "\n",
       "    .dataframe tbody tr th {\n",
       "        vertical-align: top;\n",
       "    }\n",
       "\n",
       "    .dataframe thead th {\n",
       "        text-align: right;\n",
       "    }\n",
       "</style>\n",
       "<table border=\"1\" class=\"dataframe\">\n",
       "  <thead>\n",
       "    <tr style=\"text-align: right;\">\n",
       "      <th></th>\n",
       "      <th>Depth (m)</th>\n",
       "      <th>qc (MPa)</th>\n",
       "      <th>fs (kPa)</th>\n",
       "      <th>Rf (%)</th>\n",
       "      <th>u2 (kPa)</th>\n",
       "      <th>gamma (kN/m3)</th>\n",
       "      <th>M (MN/m2)</th>\n",
       "      <th>OCR (-)</th>\n",
       "      <th>su (kPa)</th>\n",
       "      <th>sampling_name(-)</th>\n",
       "    </tr>\n",
       "  </thead>\n",
       "  <tbody>\n",
       "    <tr>\n",
       "      <th>271</th>\n",
       "      <td>10.37</td>\n",
       "      <td>0.611467</td>\n",
       "      <td>4.633333</td>\n",
       "      <td>0.757741</td>\n",
       "      <td>521.233333</td>\n",
       "      <td>19.330000</td>\n",
       "      <td>5.500000</td>\n",
       "      <td>1.390000</td>\n",
       "      <td>NaN</td>\n",
       "      <td>Norway_site</td>\n",
       "    </tr>\n",
       "    <tr>\n",
       "      <th>272</th>\n",
       "      <td>13.53</td>\n",
       "      <td>0.786000</td>\n",
       "      <td>7.366667</td>\n",
       "      <td>0.937235</td>\n",
       "      <td>556.183333</td>\n",
       "      <td>19.610000</td>\n",
       "      <td>6.500000</td>\n",
       "      <td>1.300000</td>\n",
       "      <td>NaN</td>\n",
       "      <td>Norway_site</td>\n",
       "    </tr>\n",
       "    <tr>\n",
       "      <th>273</th>\n",
       "      <td>16.56</td>\n",
       "      <td>0.853220</td>\n",
       "      <td>7.240000</td>\n",
       "      <td>0.848550</td>\n",
       "      <td>634.520000</td>\n",
       "      <td>19.460000</td>\n",
       "      <td>9.500000</td>\n",
       "      <td>1.560000</td>\n",
       "      <td>NaN</td>\n",
       "      <td>Norway_site</td>\n",
       "    </tr>\n",
       "    <tr>\n",
       "      <th>274</th>\n",
       "      <td>19.50</td>\n",
       "      <td>0.830100</td>\n",
       "      <td>11.000000</td>\n",
       "      <td>1.325142</td>\n",
       "      <td>896.840000</td>\n",
       "      <td>19.910000</td>\n",
       "      <td>10.300000</td>\n",
       "      <td>1.370000</td>\n",
       "      <td>NaN</td>\n",
       "      <td>Norway_site</td>\n",
       "    </tr>\n",
       "    <tr>\n",
       "      <th>281</th>\n",
       "      <td>6.31</td>\n",
       "      <td>0.440600</td>\n",
       "      <td>14.583333</td>\n",
       "      <td>3.309880</td>\n",
       "      <td>385.800000</td>\n",
       "      <td>18.340000</td>\n",
       "      <td>3.200000</td>\n",
       "      <td>1.930000</td>\n",
       "      <td>NaN</td>\n",
       "      <td>Norway_site</td>\n",
       "    </tr>\n",
       "    <tr>\n",
       "      <th>...</th>\n",
       "      <td>...</td>\n",
       "      <td>...</td>\n",
       "      <td>...</td>\n",
       "      <td>...</td>\n",
       "      <td>...</td>\n",
       "      <td>...</td>\n",
       "      <td>...</td>\n",
       "      <td>...</td>\n",
       "      <td>...</td>\n",
       "      <td>...</td>\n",
       "    </tr>\n",
       "    <tr>\n",
       "      <th>782</th>\n",
       "      <td>5.10</td>\n",
       "      <td>0.480000</td>\n",
       "      <td>8.800000</td>\n",
       "      <td>1.833333</td>\n",
       "      <td>321.500000</td>\n",
       "      <td>17.500040</td>\n",
       "      <td>0.663152</td>\n",
       "      <td>NaN</td>\n",
       "      <td>NaN</td>\n",
       "      <td>Austria_site3</td>\n",
       "    </tr>\n",
       "    <tr>\n",
       "      <th>785</th>\n",
       "      <td>4.55</td>\n",
       "      <td>0.480000</td>\n",
       "      <td>7.500000</td>\n",
       "      <td>1.562500</td>\n",
       "      <td>304.800000</td>\n",
       "      <td>17.849941</td>\n",
       "      <td>2.203390</td>\n",
       "      <td>2.058824</td>\n",
       "      <td>NaN</td>\n",
       "      <td>Austria_site5</td>\n",
       "    </tr>\n",
       "    <tr>\n",
       "      <th>786</th>\n",
       "      <td>4.55</td>\n",
       "      <td>0.480000</td>\n",
       "      <td>7.500000</td>\n",
       "      <td>1.562500</td>\n",
       "      <td>304.800000</td>\n",
       "      <td>16.930067</td>\n",
       "      <td>1.950510</td>\n",
       "      <td>2.156863</td>\n",
       "      <td>NaN</td>\n",
       "      <td>Austria_site5</td>\n",
       "    </tr>\n",
       "    <tr>\n",
       "      <th>788</th>\n",
       "      <td>4.65</td>\n",
       "      <td>0.490000</td>\n",
       "      <td>7.700000</td>\n",
       "      <td>1.571429</td>\n",
       "      <td>308.800000</td>\n",
       "      <td>17.237443</td>\n",
       "      <td>2.076677</td>\n",
       "      <td>1.960784</td>\n",
       "      <td>NaN</td>\n",
       "      <td>Austria_site5</td>\n",
       "    </tr>\n",
       "    <tr>\n",
       "      <th>789</th>\n",
       "      <td>4.65</td>\n",
       "      <td>0.490000</td>\n",
       "      <td>7.700000</td>\n",
       "      <td>1.571429</td>\n",
       "      <td>308.800000</td>\n",
       "      <td>17.119064</td>\n",
       "      <td>1.703735</td>\n",
       "      <td>2.156863</td>\n",
       "      <td>NaN</td>\n",
       "      <td>Austria_site5</td>\n",
       "    </tr>\n",
       "  </tbody>\n",
       "</table>\n",
       "<p>109 rows × 10 columns</p>\n",
       "</div>"
      ],
      "text/plain": [
       "     Depth (m)  qc (MPa)   fs (kPa)    Rf (%)    u2 (kPa)  gamma (kN/m3)  \\\n",
       "271      10.37  0.611467   4.633333  0.757741  521.233333      19.330000   \n",
       "272      13.53  0.786000   7.366667  0.937235  556.183333      19.610000   \n",
       "273      16.56  0.853220   7.240000  0.848550  634.520000      19.460000   \n",
       "274      19.50  0.830100  11.000000  1.325142  896.840000      19.910000   \n",
       "281       6.31  0.440600  14.583333  3.309880  385.800000      18.340000   \n",
       "..         ...       ...        ...       ...         ...            ...   \n",
       "782       5.10  0.480000   8.800000  1.833333  321.500000      17.500040   \n",
       "785       4.55  0.480000   7.500000  1.562500  304.800000      17.849941   \n",
       "786       4.55  0.480000   7.500000  1.562500  304.800000      16.930067   \n",
       "788       4.65  0.490000   7.700000  1.571429  308.800000      17.237443   \n",
       "789       4.65  0.490000   7.700000  1.571429  308.800000      17.119064   \n",
       "\n",
       "     M (MN/m2)   OCR (-)  su (kPa) sampling_name(-)  \n",
       "271   5.500000  1.390000       NaN      Norway_site  \n",
       "272   6.500000  1.300000       NaN      Norway_site  \n",
       "273   9.500000  1.560000       NaN      Norway_site  \n",
       "274  10.300000  1.370000       NaN      Norway_site  \n",
       "281   3.200000  1.930000       NaN      Norway_site  \n",
       "..         ...       ...       ...              ...  \n",
       "782   0.663152       NaN       NaN    Austria_site3  \n",
       "785   2.203390  2.058824       NaN    Austria_site5  \n",
       "786   1.950510  2.156863       NaN    Austria_site5  \n",
       "788   2.076677  1.960784       NaN    Austria_site5  \n",
       "789   1.703735  2.156863       NaN    Austria_site5  \n",
       "\n",
       "[109 rows x 10 columns]"
      ]
     },
     "execution_count": 39,
     "metadata": {},
     "output_type": "execute_result"
    }
   ],
   "source": [
    "data_ML = data_ML_filtered\n",
    "data_ML"
   ]
  },
  {
   "cell_type": "code",
   "execution_count": 40,
   "id": "cc344cd5",
   "metadata": {},
   "outputs": [
    {
     "data": {
      "image/png": "[encoded data removed]",
      "text/plain": [
       "<Figure size 1044.62x1574.8 with 4 Axes>"
      ]
     },
     "metadata": {},
     "output_type": "display_data"
    }
   ],
   "source": [
    "# Plotting training data \n",
    "s = 1  # Adjust the marker size as needed\n",
    "color = 'k'  # Adjust the marker color as needed\n",
    "alpha = 0.5\n",
    "\n",
    "columns_x.append(investigated_column_plot)\n",
    "\n",
    "#Plot scatter points: raw data points as\n",
    "fig, axes = plt.subplots(4, 1, figsize=(15.92/3*cm, 8*cm), dpi=500, sharex=True)\n",
    "plotting_raw_data(X,y, alpha, s, color, True, axes, columns_x, 'Raw data', False)\n",
    "\n",
    "# Adjust layout to prevent overlapping\n",
    "fig.text(0.01, 0.02, rf'{len(data_ML)} datapoints', ha='left', va='center', fontsize=10, color='black', alpha=0.5)\n",
    "plt.subplots_adjust(left=0.25, right=0.98, top=0.97, bottom=0.15, wspace=0.15, hspace=0.2)\n",
    "plt.savefig(f\"{prefix}{j+1}_raw_data.png\", dpi = 1000)"
   ]
  },
  {
   "cell_type": "code",
   "execution_count": 41,
   "id": "39fe2002",
   "metadata": {},
   "outputs": [],
   "source": [
    "RS = 44  # random state\n",
    "N_JOBS = -1  # number of parallel threads\n",
    "\n",
    "# repeated K-folds\n",
    "N_SPLITS = 10\n",
    "N_REPEATS = 1\n",
    "\n",
    "# Optuna\n",
    "N_TRIALS = 200\n",
    "\n",
    "# XGBoost\n",
    "EARLY_STOPPING_ROUNDS = 10"
   ]
  },
  {
   "cell_type": "code",
   "execution_count": 42,
   "id": "f4f80d3a",
   "metadata": {},
   "outputs": [
    {
     "name": "stderr",
     "output_type": "stream",
     "text": [
      "[I 2024-11-20 21:16:45,208] A new study created in memory with name: no-name-9a334423-5d85-4894-a959-03731e196c78\n",
      "[I 2024-11-20 21:16:45,785] Trial 5 finished with value: 0.639112750935496 and parameters: {'n_estimators': 64, 'learning_rate': 0.2970057383360024, 'max_depth': 3, 'subsample': 0.8578218238022448}. Best is trial 5 with value: 0.639112750935496.\n",
      "[I 2024-11-20 21:16:45,837] Trial 6 finished with value: 0.5773932492342833 and parameters: {'n_estimators': 91, 'learning_rate': 0.40179569399682397, 'max_depth': 8, 'subsample': 0.07174805424337402}. Best is trial 5 with value: 0.639112750935496.\n",
      "[I 2024-11-20 21:16:45,857] Trial 0 finished with value: 0.5356715988218547 and parameters: {'n_estimators': 71, 'learning_rate': 0.3597730442628744, 'max_depth': 6, 'subsample': 0.12248925483600298}. Best is trial 5 with value: 0.639112750935496.\n",
      "[I 2024-11-20 21:16:45,942] Trial 4 finished with value: 0.6521029322481366 and parameters: {'n_estimators': 102, 'learning_rate': 0.4694903056413187, 'max_depth': 10, 'subsample': 0.24017069245826173}. Best is trial 4 with value: 0.6521029322481366.\n",
      "[I 2024-11-20 21:16:46,004] Trial 3 finished with value: 0.5852428059121305 and parameters: {'n_estimators': 64, 'learning_rate': 0.25007383012301954, 'max_depth': 10, 'subsample': 0.13954041953981658}. Best is trial 4 with value: 0.6521029322481366.\n",
      "[I 2024-11-20 21:16:46,400] Trial 2 finished with value: 0.5128344991310227 and parameters: {'n_estimators': 105, 'learning_rate': 0.10789530731363224, 'max_depth': 3, 'subsample': 0.054626371760815695}. Best is trial 4 with value: 0.6521029322481366.\n",
      "[I 2024-11-20 21:16:46,641] Trial 7 finished with value: 0.6356952018173445 and parameters: {'n_estimators': 67, 'learning_rate': 0.09868308214311874, 'max_depth': 4, 'subsample': 0.3626278292197544}. Best is trial 4 with value: 0.6521029322481366.\n",
      "[I 2024-11-20 21:16:46,765] Trial 1 finished with value: 0.6379190342987574 and parameters: {'n_estimators': 102, 'learning_rate': 0.11588741146258696, 'max_depth': 5, 'subsample': 0.5262089464398934}. Best is trial 4 with value: 0.6521029322481366.\n",
      "[I 2024-11-20 21:16:46,976] Trial 9 finished with value: 0.5582802631781101 and parameters: {'n_estimators': 92, 'learning_rate': 0.30778432601760713, 'max_depth': 7, 'subsample': 0.07575417657733353}. Best is trial 4 with value: 0.6521029322481366.\n",
      "[I 2024-11-20 21:16:47,388] Trial 10 finished with value: 0.5779172808664599 and parameters: {'n_estimators': 96, 'learning_rate': 0.2396862896046366, 'max_depth': 9, 'subsample': 0.8336012934733635}. Best is trial 4 with value: 0.6521029322481366.\n",
      "[I 2024-11-20 21:16:47,448] Trial 13 finished with value: 0.5400159212142801 and parameters: {'n_estimators': 100, 'learning_rate': 0.16692002742586962, 'max_depth': 6, 'subsample': 0.09742934462289606}. Best is trial 4 with value: 0.6521029322481366.\n",
      "[I 2024-11-20 21:16:47,740] Trial 15 finished with value: 0.6011143762659172 and parameters: {'n_estimators': 82, 'learning_rate': 0.2509491727805277, 'max_depth': 8, 'subsample': 0.1617489555297293}. Best is trial 4 with value: 0.6521029322481366.\n",
      "[I 2024-11-20 21:16:47,797] Trial 16 finished with value: 0.5981939218859471 and parameters: {'n_estimators': 50, 'learning_rate': 0.3278094303746084, 'max_depth': 7, 'subsample': 0.05155315464024456}. Best is trial 4 with value: 0.6521029322481366.\n",
      "[I 2024-11-20 21:16:47,970] Trial 11 finished with value: 0.6079668966723222 and parameters: {'n_estimators': 74, 'learning_rate': 0.06530512323591561, 'max_depth': 5, 'subsample': 0.7467051211131422}. Best is trial 4 with value: 0.6521029322481366.\n",
      "[I 2024-11-20 21:16:48,135] Trial 12 finished with value: 0.6322240085183972 and parameters: {'n_estimators': 51, 'learning_rate': 0.10226489383025435, 'max_depth': 9, 'subsample': 0.5132172016671708}. Best is trial 4 with value: 0.6521029322481366.\n",
      "[I 2024-11-20 21:16:48,189] Trial 8 finished with value: 0.5976044151040047 and parameters: {'n_estimators': 100, 'learning_rate': 0.0583248969067446, 'max_depth': 5, 'subsample': 0.24923236419160896}. Best is trial 4 with value: 0.6521029322481366.\n",
      "[I 2024-11-20 21:16:48,270] Trial 14 finished with value: 0.6389812482089336 and parameters: {'n_estimators': 117, 'learning_rate': 0.11700125296081175, 'max_depth': 6, 'subsample': 0.3711326715363871}. Best is trial 4 with value: 0.6521029322481366.\n",
      "[I 2024-11-20 21:16:48,453] Trial 18 finished with value: 0.6655315286714316 and parameters: {'n_estimators': 120, 'learning_rate': 0.4510644702230096, 'max_depth': 10, 'subsample': 0.23984422231076022}. Best is trial 18 with value: 0.6655315286714316.\n",
      "[I 2024-11-20 21:16:48,577] Trial 20 finished with value: 0.6660180789097614 and parameters: {'n_estimators': 119, 'learning_rate': 0.4956739809220578, 'max_depth': 3, 'subsample': 0.276035417857483}. Best is trial 20 with value: 0.6660180789097614.\n",
      "[I 2024-11-20 21:16:48,679] Trial 19 finished with value: 0.7300546382458467 and parameters: {'n_estimators': 118, 'learning_rate': 0.4844716464995629, 'max_depth': 3, 'subsample': 0.28936081663569}. Best is trial 19 with value: 0.7300546382458467.\n",
      "[I 2024-11-20 21:16:49,010] Trial 22 finished with value: 0.700171781288302 and parameters: {'n_estimators': 115, 'learning_rate': 0.4313278703489981, 'max_depth': 3, 'subsample': 0.31136378042760116}. Best is trial 19 with value: 0.7300546382458467.\n",
      "[I 2024-11-20 21:16:49,014] Trial 23 finished with value: 0.7026253900726829 and parameters: {'n_estimators': 110, 'learning_rate': 0.47027423493223386, 'max_depth': 3, 'subsample': 0.24491849741828198}. Best is trial 19 with value: 0.7300546382458467.\n",
      "[I 2024-11-20 21:16:49,047] Trial 21 finished with value: 0.6597670412155984 and parameters: {'n_estimators': 120, 'learning_rate': 0.4851134262063831, 'max_depth': 10, 'subsample': 0.25205980692662977}. Best is trial 19 with value: 0.7300546382458467.\n",
      "[I 2024-11-20 21:16:49,195] Trial 24 finished with value: 0.6969140410360093 and parameters: {'n_estimators': 114, 'learning_rate': 0.49399683791784144, 'max_depth': 3, 'subsample': 0.21981012915948916}. Best is trial 19 with value: 0.7300546382458467.\n",
      "[I 2024-11-20 21:16:49,425] Trial 26 finished with value: 0.6013991154702005 and parameters: {'n_estimators': 118, 'learning_rate': 0.4630320410681354, 'max_depth': 4, 'subsample': 0.18589219980903474}. Best is trial 19 with value: 0.7300546382458467.\n",
      "[I 2024-11-20 21:16:49,470] Trial 25 finished with value: 0.6426608656043069 and parameters: {'n_estimators': 117, 'learning_rate': 0.4823955381562784, 'max_depth': 10, 'subsample': 0.21975124981617716}. Best is trial 19 with value: 0.7300546382458467.\n",
      "[I 2024-11-20 21:16:49,765] Trial 17 finished with value: 0.5989270918327498 and parameters: {'n_estimators': 120, 'learning_rate': 0.0577830958992687, 'max_depth': 10, 'subsample': 0.23798725508119323}. Best is trial 19 with value: 0.7300546382458467.\n",
      "[I 2024-11-20 21:16:49,810] Trial 27 finished with value: 0.6602200602695403 and parameters: {'n_estimators': 112, 'learning_rate': 0.1802470252725141, 'max_depth': 4, 'subsample': 0.3225728903555523}. Best is trial 19 with value: 0.7300546382458467.\n",
      "[I 2024-11-20 21:16:50,006] Trial 28 finished with value: 0.6662766611336446 and parameters: {'n_estimators': 112, 'learning_rate': 0.38118542794796656, 'max_depth': 4, 'subsample': 0.34346314788943977}. Best is trial 19 with value: 0.7300546382458467.\n",
      "[I 2024-11-20 21:16:50,247] Trial 29 finished with value: 0.5958836284677076 and parameters: {'n_estimators': 111, 'learning_rate': 0.1961139656099272, 'max_depth': 4, 'subsample': 0.1781672003757455}. Best is trial 19 with value: 0.7300546382458467.\n",
      "[I 2024-11-20 21:16:50,397] Trial 31 finished with value: 0.6715953431755528 and parameters: {'n_estimators': 110, 'learning_rate': 0.18382230114184717, 'max_depth': 4, 'subsample': 0.35222611372924506}. Best is trial 19 with value: 0.7300546382458467.\n",
      "[I 2024-11-20 21:16:50,445] Trial 30 finished with value: 0.6232476346721381 and parameters: {'n_estimators': 109, 'learning_rate': 0.17523310885884996, 'max_depth': 4, 'subsample': 0.17267045656392102}. Best is trial 19 with value: 0.7300546382458467.\n",
      "[I 2024-11-20 21:16:50,614] Trial 32 finished with value: 0.6386872295112183 and parameters: {'n_estimators': 110, 'learning_rate': 0.20619011377682353, 'max_depth': 4, 'subsample': 0.358652503329679}. Best is trial 19 with value: 0.7300546382458467.\n",
      "[I 2024-11-20 21:16:50,757] Trial 33 finished with value: 0.6394600140737492 and parameters: {'n_estimators': 109, 'learning_rate': 0.19112053982908161, 'max_depth': 4, 'subsample': 0.3413810322435673}. Best is trial 19 with value: 0.7300546382458467.\n",
      "[I 2024-11-20 21:16:51,080] Trial 35 finished with value: 0.6187346841030077 and parameters: {'n_estimators': 108, 'learning_rate': 0.3868155006540508, 'max_depth': 4, 'subsample': 0.4774574915521955}. Best is trial 19 with value: 0.7300546382458467.\n",
      "[I 2024-11-20 21:16:51,266] Trial 36 finished with value: 0.6680072394406676 and parameters: {'n_estimators': 108, 'learning_rate': 0.3652758517083641, 'max_depth': 3, 'subsample': 0.4293858170617829}. Best is trial 19 with value: 0.7300546382458467.\n",
      "[I 2024-11-20 21:16:51,548] Trial 34 finished with value: 0.6695955790732477 and parameters: {'n_estimators': 110, 'learning_rate': 0.18612114892963325, 'max_depth': 4, 'subsample': 0.3474732263991247}. Best is trial 19 with value: 0.7300546382458467.\n",
      "[I 2024-11-20 21:16:51,640] Trial 40 finished with value: 0.5595909226004231 and parameters: {'n_estimators': 105, 'learning_rate': 0.37295978538508784, 'max_depth': 3, 'subsample': 0.1216913442995194}. Best is trial 19 with value: 0.7300546382458467.\n",
      "[I 2024-11-20 21:16:51,715] Trial 37 finished with value: 0.6564918255356993 and parameters: {'n_estimators': 107, 'learning_rate': 0.3515435652026593, 'max_depth': 3, 'subsample': 0.44008095696472227}. Best is trial 19 with value: 0.7300546382458467.\n",
      "[I 2024-11-20 21:16:51,813] Trial 38 finished with value: 0.6548422687920235 and parameters: {'n_estimators': 106, 'learning_rate': 0.36029179244646165, 'max_depth': 3, 'subsample': 0.44966635769685226}. Best is trial 19 with value: 0.7300546382458467.\n",
      "[I 2024-11-20 21:16:51,831] Trial 41 finished with value: 0.581421349807361 and parameters: {'n_estimators': 105, 'learning_rate': 0.39426046553014543, 'max_depth': 3, 'subsample': 0.13690540766801412}. Best is trial 19 with value: 0.7300546382458467.\n",
      "[I 2024-11-20 21:16:51,868] Trial 39 finished with value: 0.6547055665085761 and parameters: {'n_estimators': 106, 'learning_rate': 0.381622402298255, 'max_depth': 3, 'subsample': 0.466542689904729}. Best is trial 19 with value: 0.7300546382458467.\n",
      "[I 2024-11-20 21:16:52,112] Trial 42 finished with value: 0.5950238733725803 and parameters: {'n_estimators': 105, 'learning_rate': 0.3390106787354682, 'max_depth': 3, 'subsample': 0.131150364821091}. Best is trial 19 with value: 0.7300546382458467.\n",
      "[I 2024-11-20 21:16:52,352] Trial 44 finished with value: 0.5649753917062466 and parameters: {'n_estimators': 103, 'learning_rate': 0.4217632325903084, 'max_depth': 3, 'subsample': 0.14670540057379103}. Best is trial 19 with value: 0.7300546382458467.\n",
      "[I 2024-11-20 21:16:52,405] Trial 43 finished with value: 0.6539068749186687 and parameters: {'n_estimators': 115, 'learning_rate': 0.41830815241293506, 'max_depth': 3, 'subsample': 0.6209507751048847}. Best is trial 19 with value: 0.7300546382458467.\n",
      "[I 2024-11-20 21:16:52,718] Trial 45 finished with value: 0.6430626330300935 and parameters: {'n_estimators': 114, 'learning_rate': 0.42830915366681493, 'max_depth': 3, 'subsample': 0.594870961890875}. Best is trial 19 with value: 0.7300546382458467.\n",
      "[I 2024-11-20 21:16:52,859] Trial 47 finished with value: 0.6651885024740205 and parameters: {'n_estimators': 115, 'learning_rate': 0.4300920789149057, 'max_depth': 5, 'subsample': 0.2816838687291532}. Best is trial 19 with value: 0.7300546382458467.\n",
      "[I 2024-11-20 21:16:53,045] Trial 46 finished with value: 0.6846521002736288 and parameters: {'n_estimators': 114, 'learning_rate': 0.27037500558906047, 'max_depth': 5, 'subsample': 0.293334549088199}. Best is trial 19 with value: 0.7300546382458467.\n",
      "[I 2024-11-20 21:16:53,116] Trial 49 finished with value: 0.6491079694615876 and parameters: {'n_estimators': 115, 'learning_rate': 0.26699468589066155, 'max_depth': 5, 'subsample': 0.6222987668070232}. Best is trial 19 with value: 0.7300546382458467.\n",
      "[I 2024-11-20 21:16:53,134] Trial 48 finished with value: 0.6908246132585958 and parameters: {'n_estimators': 115, 'learning_rate': 0.2697978113243469, 'max_depth': 5, 'subsample': 0.2875696467700836}. Best is trial 19 with value: 0.7300546382458467.\n",
      "[I 2024-11-20 21:16:53,331] Trial 50 finished with value: 0.6672067595905784 and parameters: {'n_estimators': 114, 'learning_rate': 0.2790912424177482, 'max_depth': 5, 'subsample': 0.28924035919233604}. Best is trial 19 with value: 0.7300546382458467.\n",
      "[I 2024-11-20 21:16:53,599] Trial 51 finished with value: 0.6812533299618289 and parameters: {'n_estimators': 114, 'learning_rate': 0.2756948679756856, 'max_depth': 5, 'subsample': 0.2857352028211707}. Best is trial 19 with value: 0.7300546382458467.\n",
      "[I 2024-11-20 21:16:53,821] Trial 52 finished with value: 0.6483382067671446 and parameters: {'n_estimators': 114, 'learning_rate': 0.13694993524570656, 'max_depth': 5, 'subsample': 0.2823180806831726}. Best is trial 19 with value: 0.7300546382458467.\n",
      "[I 2024-11-20 21:16:53,947] Trial 55 finished with value: 0.6048413612819707 and parameters: {'n_estimators': 97, 'learning_rate': 0.2707052508437088, 'max_depth': 5, 'subsample': 0.20917586417153217}. Best is trial 19 with value: 0.7300546382458467.\n",
      "[I 2024-11-20 21:16:53,985] Trial 54 finished with value: 0.5934015374372656 and parameters: {'n_estimators': 96, 'learning_rate': 0.1351521254814345, 'max_depth': 5, 'subsample': 0.2080839600073588}. Best is trial 19 with value: 0.7300546382458467.\n",
      "[I 2024-11-20 21:16:53,992] Trial 56 finished with value: 0.5881749776672356 and parameters: {'n_estimators': 97, 'learning_rate': 0.2806962208145021, 'max_depth': 5, 'subsample': 0.2063955779581769}. Best is trial 19 with value: 0.7300546382458467.\n",
      "[I 2024-11-20 21:16:54,175] Trial 57 finished with value: 0.6016781923936644 and parameters: {'n_estimators': 98, 'learning_rate': 0.29955718564426576, 'max_depth': 7, 'subsample': 0.2078333523251359}. Best is trial 19 with value: 0.7300546382458467.\n",
      "[I 2024-11-20 21:16:54,182] Trial 53 finished with value: 0.6608978536211998 and parameters: {'n_estimators': 98, 'learning_rate': 0.14318119448708397, 'max_depth': 5, 'subsample': 0.2890023569762737}. Best is trial 19 with value: 0.7300546382458467.\n",
      "[I 2024-11-20 21:16:54,542] Trial 59 finished with value: 0.592262347156818 and parameters: {'n_estimators': 81, 'learning_rate': 0.30626798933934773, 'max_depth': 6, 'subsample': 0.2078052209383823}. Best is trial 19 with value: 0.7300546382458467.\n",
      "[I 2024-11-20 21:16:54,653] Trial 58 finished with value: 0.6189736572848943 and parameters: {'n_estimators': 97, 'learning_rate': 0.1409983004623422, 'max_depth': 6, 'subsample': 0.2023591839352467}. Best is trial 19 with value: 0.7300546382458467.\n",
      "[I 2024-11-20 21:16:54,890] Trial 60 finished with value: 0.597152432337579 and parameters: {'n_estimators': 99, 'learning_rate': 0.22080578856743982, 'max_depth': 6, 'subsample': 0.20219244184667912}. Best is trial 19 with value: 0.7300546382458467.\n",
      "[I 2024-11-20 21:16:55,044] Trial 61 finished with value: 0.5973769580291117 and parameters: {'n_estimators': 81, 'learning_rate': 0.21694600827563162, 'max_depth': 6, 'subsample': 0.19547645887608725}. Best is trial 19 with value: 0.7300546382458467.\n",
      "[I 2024-11-20 21:16:55,200] Trial 62 finished with value: 0.6436927671758794 and parameters: {'n_estimators': 83, 'learning_rate': 0.3037446123605936, 'max_depth': 6, 'subsample': 0.4089126554396591}. Best is trial 19 with value: 0.7300546382458467.\n",
      "[I 2024-11-20 21:16:55,228] Trial 63 finished with value: 0.6656816856181424 and parameters: {'n_estimators': 83, 'learning_rate': 0.3129888717142811, 'max_depth': 6, 'subsample': 0.39368430948284877}. Best is trial 19 with value: 0.7300546382458467.\n",
      "[I 2024-11-20 21:16:55,262] Trial 65 finished with value: 0.6676341544244813 and parameters: {'n_estimators': 86, 'learning_rate': 0.3197895522116153, 'max_depth': 6, 'subsample': 0.39435173554587966}. Best is trial 19 with value: 0.7300546382458467.\n",
      "[I 2024-11-20 21:16:55,522] Trial 64 finished with value: 0.6656842325042697 and parameters: {'n_estimators': 118, 'learning_rate': 0.3371479928193313, 'max_depth': 6, 'subsample': 0.3963388715631237}. Best is trial 19 with value: 0.7300546382458467.\n",
      "[I 2024-11-20 21:16:55,943] Trial 66 finished with value: 0.6415411968431567 and parameters: {'n_estimators': 117, 'learning_rate': 0.21256476257671494, 'max_depth': 6, 'subsample': 0.24874728479279845}. Best is trial 19 with value: 0.7300546382458467.\n",
      "[I 2024-11-20 21:16:56,182] Trial 72 finished with value: 0.6800726137460547 and parameters: {'n_estimators': 117, 'learning_rate': 0.4579440363906892, 'max_depth': 3, 'subsample': 0.25227372942049553}. Best is trial 19 with value: 0.7300546382458467.\n",
      "[I 2024-11-20 21:16:56,225] Trial 69 finished with value: 0.6493073209232336 and parameters: {'n_estimators': 118, 'learning_rate': 0.497205327987033, 'max_depth': 8, 'subsample': 0.3969550411984762}. Best is trial 19 with value: 0.7300546382458467.\n",
      "[I 2024-11-20 21:16:56,256] Trial 71 finished with value: 0.7284455788344055 and parameters: {'n_estimators': 117, 'learning_rate': 0.49701006882403076, 'max_depth': 4, 'subsample': 0.31209346545107586}. Best is trial 19 with value: 0.7300546382458467.\n",
      "[I 2024-11-20 21:16:56,382] Trial 67 finished with value: 0.6395300887777187 and parameters: {'n_estimators': 54, 'learning_rate': 0.22080467794142228, 'max_depth': 8, 'subsample': 0.3995996103299999}. Best is trial 19 with value: 0.7300546382458467.\n",
      "[I 2024-11-20 21:16:56,432] Trial 70 finished with value: 0.6563793447297506 and parameters: {'n_estimators': 118, 'learning_rate': 0.24217901712380635, 'max_depth': 4, 'subsample': 0.2541877859297061}. Best is trial 19 with value: 0.7300546382458467.\n",
      "[I 2024-11-20 21:16:56,885] Trial 74 finished with value: 0.6642342523554832 and parameters: {'n_estimators': 112, 'learning_rate': 0.2376549551454517, 'max_depth': 4, 'subsample': 0.30307770480528806}. Best is trial 19 with value: 0.7300546382458467.\n",
      "[I 2024-11-20 21:16:56,986] Trial 68 finished with value: 0.6039718750208187 and parameters: {'n_estimators': 117, 'learning_rate': 0.07571984366463998, 'max_depth': 6, 'subsample': 0.40351774711748295}. Best is trial 19 with value: 0.7300546382458467.\n",
      "[I 2024-11-20 21:16:57,043] Trial 77 finished with value: 0.6595889285736554 and parameters: {'n_estimators': 120, 'learning_rate': 0.4447498000737424, 'max_depth': 4, 'subsample': 0.323687495355424}. Best is trial 19 with value: 0.7300546382458467.\n",
      "[I 2024-11-20 21:16:57,216] Trial 73 finished with value: 0.6218615187496772 and parameters: {'n_estimators': 117, 'learning_rate': 0.08458592446973731, 'max_depth': 4, 'subsample': 0.3173122750482624}. Best is trial 19 with value: 0.7300546382458467.\n",
      "[I 2024-11-20 21:16:57,279] Trial 78 finished with value: 0.6811208999077978 and parameters: {'n_estimators': 112, 'learning_rate': 0.4513674748310328, 'max_depth': 4, 'subsample': 0.3100411607291447}. Best is trial 19 with value: 0.7300546382458467.\n",
      "[I 2024-11-20 21:16:57,307] Trial 76 finished with value: 0.6491113829620422 and parameters: {'n_estimators': 112, 'learning_rate': 0.2376334510379622, 'max_depth': 4, 'subsample': 0.32053205380201016}. Best is trial 19 with value: 0.7300546382458467.\n",
      "[I 2024-11-20 21:16:57,650] Trial 75 finished with value: 0.6568988424284365 and parameters: {'n_estimators': 112, 'learning_rate': 0.24286063920816786, 'max_depth': 8, 'subsample': 0.3180422557870087}. Best is trial 19 with value: 0.7300546382458467.\n",
      "[I 2024-11-20 21:16:57,728] Trial 80 finished with value: 0.6868276819234593 and parameters: {'n_estimators': 112, 'learning_rate': 0.45001321656824894, 'max_depth': 3, 'subsample': 0.3181008002614511}. Best is trial 19 with value: 0.7300546382458467.\n",
      "[I 2024-11-20 21:16:57,876] Trial 81 finished with value: 0.6894013369052738 and parameters: {'n_estimators': 120, 'learning_rate': 0.4485582432172236, 'max_depth': 3, 'subsample': 0.3177285230942498}. Best is trial 19 with value: 0.7300546382458467.\n",
      "[I 2024-11-20 21:16:57,975] Trial 82 finished with value: 0.6860617703982386 and parameters: {'n_estimators': 112, 'learning_rate': 0.46920971634096403, 'max_depth': 3, 'subsample': 0.2289552970081135}. Best is trial 19 with value: 0.7300546382458467.\n",
      "[I 2024-11-20 21:16:58,079] Trial 79 finished with value: 0.6251813921960427 and parameters: {'n_estimators': 102, 'learning_rate': 0.08632172068250436, 'max_depth': 4, 'subsample': 0.31710219563668257}. Best is trial 19 with value: 0.7300546382458467.\n",
      "[I 2024-11-20 21:16:58,205] Trial 83 finished with value: 0.6910238674629379 and parameters: {'n_estimators': 102, 'learning_rate': 0.4693140309934387, 'max_depth': 3, 'subsample': 0.22969569966693867}. Best is trial 19 with value: 0.7300546382458467.\n",
      "[I 2024-11-20 21:16:58,230] Trial 85 finished with value: 0.6704635281839889 and parameters: {'n_estimators': 102, 'learning_rate': 0.499713142727467, 'max_depth': 3, 'subsample': 0.2326413080131926}. Best is trial 19 with value: 0.7300546382458467.\n",
      "[I 2024-11-20 21:16:58,358] Trial 84 finished with value: 0.6658645106635406 and parameters: {'n_estimators': 113, 'learning_rate': 0.40355001965033444, 'max_depth': 3, 'subsample': 0.2251208969292514}. Best is trial 19 with value: 0.7300546382458467.\n",
      "[I 2024-11-20 21:16:58,684] Trial 86 finished with value: 0.6438205187271623 and parameters: {'n_estimators': 114, 'learning_rate': 0.4110209277979306, 'max_depth': 3, 'subsample': 0.22869961778072664}. Best is trial 19 with value: 0.7300546382458467.\n",
      "[I 2024-11-20 21:16:58,759] Trial 87 finished with value: 0.6988083125981532 and parameters: {'n_estimators': 101, 'learning_rate': 0.40632789855293505, 'max_depth': 3, 'subsample': 0.23744045482358275}. Best is trial 19 with value: 0.7300546382458467.\n",
      "[I 2024-11-20 21:16:58,869] Trial 88 finished with value: 0.6552037274663113 and parameters: {'n_estimators': 120, 'learning_rate': 0.4120803678667086, 'max_depth': 3, 'subsample': 0.22307188069848982}. Best is trial 19 with value: 0.7300546382458467.\n",
      "[I 2024-11-20 21:16:59,019] Trial 89 finished with value: 0.7127499481525386 and parameters: {'n_estimators': 120, 'learning_rate': 0.40248217905011574, 'max_depth': 3, 'subsample': 0.23672057065208676}. Best is trial 19 with value: 0.7300546382458467.\n",
      "[I 2024-11-20 21:16:59,074] Trial 90 finished with value: 0.6663481622251082 and parameters: {'n_estimators': 110, 'learning_rate': 0.40114075091381834, 'max_depth': 3, 'subsample': 0.22828818356847494}. Best is trial 19 with value: 0.7300546382458467.\n",
      "[I 2024-11-20 21:16:59,248] Trial 91 finished with value: 0.6719743399235605 and parameters: {'n_estimators': 120, 'learning_rate': 0.40206481001169037, 'max_depth': 3, 'subsample': 0.26626127195227045}. Best is trial 19 with value: 0.7300546382458467.\n",
      "[I 2024-11-20 21:16:59,359] Trial 92 finished with value: 0.7067984760611215 and parameters: {'n_estimators': 120, 'learning_rate': 0.40370660673018194, 'max_depth': 3, 'subsample': 0.2630227709045435}. Best is trial 19 with value: 0.7300546382458467.\n",
      "[I 2024-11-20 21:16:59,458] Trial 93 finished with value: 0.6824841538235848 and parameters: {'n_estimators': 120, 'learning_rate': 0.4071034350022183, 'max_depth': 3, 'subsample': 0.2674197291023982}. Best is trial 19 with value: 0.7300546382458467.\n",
      "[I 2024-11-20 21:16:59,724] Trial 94 finished with value: 0.6941610782280001 and parameters: {'n_estimators': 120, 'learning_rate': 0.44697390864404846, 'max_depth': 3, 'subsample': 0.25842740775783957}. Best is trial 19 with value: 0.7300546382458467.\n",
      "[I 2024-11-20 21:16:59,822] Trial 95 finished with value: 0.6708289820621248 and parameters: {'n_estimators': 94, 'learning_rate': 0.4773318519363196, 'max_depth': 3, 'subsample': 0.26466037242920815}. Best is trial 19 with value: 0.7300546382458467.\n",
      "[I 2024-11-20 21:16:59,913] Trial 96 finished with value: 0.6728044792416841 and parameters: {'n_estimators': 93, 'learning_rate': 0.47402879597110503, 'max_depth': 3, 'subsample': 0.2605489639938898}. Best is trial 19 with value: 0.7300546382458467.\n",
      "[I 2024-11-20 21:17:00,059] Trial 98 finished with value: 0.6474168847252386 and parameters: {'n_estimators': 116, 'learning_rate': 0.47369275804799443, 'max_depth': 3, 'subsample': 0.2643043480544193}. Best is trial 19 with value: 0.7300546382458467.\n",
      "[I 2024-11-20 21:17:00,068] Trial 97 finished with value: 0.6721452219815034 and parameters: {'n_estimators': 108, 'learning_rate': 0.38042409308902575, 'max_depth': 3, 'subsample': 0.26503592573583185}. Best is trial 19 with value: 0.7300546382458467.\n",
      "[I 2024-11-20 21:17:00,299] Trial 99 finished with value: 0.6947653775375925 and parameters: {'n_estimators': 91, 'learning_rate': 0.4714369005423888, 'max_depth': 3, 'subsample': 0.2667035400310187}. Best is trial 19 with value: 0.7300546382458467.\n",
      "[I 2024-11-20 21:17:00,345] Trial 100 finished with value: 0.6022512579418238 and parameters: {'n_estimators': 93, 'learning_rate': 0.3548528533402032, 'max_depth': 3, 'subsample': 0.18811434793787649}. Best is trial 19 with value: 0.7300546382458467.\n",
      "[I 2024-11-20 21:17:00,545] Trial 101 finished with value: 0.5921972156612691 and parameters: {'n_estimators': 116, 'learning_rate': 0.35899906629289136, 'max_depth': 3, 'subsample': 0.16192006161806874}. Best is trial 19 with value: 0.7300546382458467.\n",
      "[I 2024-11-20 21:17:00,729] Trial 102 finished with value: 0.5902024428572394 and parameters: {'n_estimators': 92, 'learning_rate': 0.4772200763176816, 'max_depth': 3, 'subsample': 0.1698672591603963}. Best is trial 19 with value: 0.7300546382458467.\n",
      "[I 2024-11-20 21:17:00,873] Trial 103 finished with value: 0.5931547500979213 and parameters: {'n_estimators': 108, 'learning_rate': 0.349598678914198, 'max_depth': 3, 'subsample': 0.1729478199980876}. Best is trial 19 with value: 0.7300546382458467.\n",
      "[I 2024-11-20 21:17:00,966] Trial 104 finished with value: 0.6265078439291771 and parameters: {'n_estimators': 90, 'learning_rate': 0.43441707319026107, 'max_depth': 3, 'subsample': 0.18032383338775937}. Best is trial 19 with value: 0.7300546382458467.\n",
      "[I 2024-11-20 21:17:01,037] Trial 106 finished with value: 0.5683789916386282 and parameters: {'n_estimators': 116, 'learning_rate': 0.3565220967271062, 'max_depth': 3, 'subsample': 0.16807836016367092}. Best is trial 19 with value: 0.7300546382458467.\n",
      "[I 2024-11-20 21:17:01,183] Trial 105 finished with value: 0.6725310469634589 and parameters: {'n_estimators': 109, 'learning_rate': 0.35535865953742857, 'max_depth': 3, 'subsample': 0.24188853118206752}. Best is trial 19 with value: 0.7300546382458467.\n",
      "[I 2024-11-20 21:17:01,211] Trial 107 finished with value: 0.5718766378181188 and parameters: {'n_estimators': 76, 'learning_rate': 0.4321930139029913, 'max_depth': 3, 'subsample': 0.1687337838274195}. Best is trial 19 with value: 0.7300546382458467.\n",
      "[I 2024-11-20 21:17:01,302] Trial 108 finished with value: 0.5746055987924559 and parameters: {'n_estimators': 116, 'learning_rate': 0.43255296697452106, 'max_depth': 3, 'subsample': 0.18172034805144233}. Best is trial 19 with value: 0.7300546382458467.\n",
      "[I 2024-11-20 21:17:01,554] Trial 109 finished with value: 0.6843011303433182 and parameters: {'n_estimators': 119, 'learning_rate': 0.4327580147083284, 'max_depth': 3, 'subsample': 0.24122632900956603}. Best is trial 19 with value: 0.7300546382458467.\n",
      "[I 2024-11-20 21:17:01,794] Trial 110 finished with value: 0.6829642011804186 and parameters: {'n_estimators': 90, 'learning_rate': 0.4280684660421534, 'max_depth': 3, 'subsample': 0.24273159949507}. Best is trial 19 with value: 0.7300546382458467.\n",
      "[I 2024-11-20 21:17:01,949] Trial 112 finished with value: 0.7245057500713756 and parameters: {'n_estimators': 90, 'learning_rate': 0.4318658007884581, 'max_depth': 3, 'subsample': 0.23993134425394885}. Best is trial 19 with value: 0.7300546382458467.\n",
      "[I 2024-11-20 21:17:02,049] Trial 113 finished with value: 0.7239953604367284 and parameters: {'n_estimators': 89, 'learning_rate': 0.4305526451404525, 'max_depth': 3, 'subsample': 0.2457520281024665}. Best is trial 19 with value: 0.7300546382458467.\n",
      "[I 2024-11-20 21:17:02,248] Trial 114 finished with value: 0.6504383529776219 and parameters: {'n_estimators': 87, 'learning_rate': 0.4306200337929981, 'max_depth': 4, 'subsample': 0.3661257426537303}. Best is trial 19 with value: 0.7300546382458467.\n",
      "[I 2024-11-20 21:17:02,270] Trial 115 finished with value: 0.6616603826276098 and parameters: {'n_estimators': 118, 'learning_rate': 0.38732751990878633, 'max_depth': 4, 'subsample': 0.37290228121086105}. Best is trial 19 with value: 0.7300546382458467.\n",
      "[I 2024-11-20 21:17:02,459] Trial 116 finished with value: 0.5815728982988242 and parameters: {'n_estimators': 100, 'learning_rate': 0.3726067019390415, 'max_depth': 4, 'subsample': 0.07592629973944247}. Best is trial 19 with value: 0.7300546382458467.\n",
      "[I 2024-11-20 21:17:02,830] Trial 111 finished with value: 0.5796227482787288 and parameters: {'n_estimators': 87, 'learning_rate': 0.050444845003140414, 'max_depth': 3, 'subsample': 0.3640475025453013}. Best is trial 19 with value: 0.7300546382458467.\n",
      "[I 2024-11-20 21:17:02,900] Trial 118 finished with value: 0.6684546080488853 and parameters: {'n_estimators': 104, 'learning_rate': 0.3780540025985881, 'max_depth': 4, 'subsample': 0.3707471612880176}. Best is trial 19 with value: 0.7300546382458467.\n",
      "[I 2024-11-20 21:17:03,029] Trial 120 finished with value: 0.6466959889207877 and parameters: {'n_estimators': 87, 'learning_rate': 0.3937749538520291, 'max_depth': 4, 'subsample': 0.19401124943190892}. Best is trial 19 with value: 0.7300546382458467.\n",
      "[I 2024-11-20 21:17:03,080] Trial 119 finished with value: 0.6503645583021361 and parameters: {'n_estimators': 86, 'learning_rate': 0.38035193218105434, 'max_depth': 4, 'subsample': 0.3428623667191501}. Best is trial 19 with value: 0.7300546382458467.\n",
      "[I 2024-11-20 21:17:03,242] Trial 122 finished with value: 0.6853230193176498 and parameters: {'n_estimators': 88, 'learning_rate': 0.49651970241332166, 'max_depth': 3, 'subsample': 0.2989456247621716}. Best is trial 19 with value: 0.7300546382458467.\n",
      "[I 2024-11-20 21:17:03,345] Trial 121 finished with value: 0.5825923418511398 and parameters: {'n_estimators': 118, 'learning_rate': 0.38587477017986493, 'max_depth': 4, 'subsample': 0.06516640954755969}. Best is trial 19 with value: 0.7300546382458467.\n",
      "[I 2024-11-20 21:17:03,722] Trial 117 finished with value: 0.5983164765294313 and parameters: {'n_estimators': 89, 'learning_rate': 0.053014020701262425, 'max_depth': 4, 'subsample': 0.35260181130627055}. Best is trial 19 with value: 0.7300546382458467.\n",
      "[I 2024-11-20 21:17:03,811] Trial 125 finished with value: 0.6913014654882479 and parameters: {'n_estimators': 85, 'learning_rate': 0.49928092025793924, 'max_depth': 3, 'subsample': 0.2812434037958283}. Best is trial 19 with value: 0.7300546382458467.\n",
      "[I 2024-11-20 21:17:03,946] Trial 126 finished with value: 0.6848328284234221 and parameters: {'n_estimators': 95, 'learning_rate': 0.49842486596592855, 'max_depth': 3, 'subsample': 0.2985645095509051}. Best is trial 19 with value: 0.7300546382458467.\n",
      "[I 2024-11-20 21:17:04,167] Trial 128 finished with value: 0.6616523038463242 and parameters: {'n_estimators': 95, 'learning_rate': 0.45999122050368496, 'max_depth': 3, 'subsample': 0.21823050941751643}. Best is trial 19 with value: 0.7300546382458467.\n",
      "[I 2024-11-20 21:17:04,309] Trial 127 finished with value: 0.6279203481302478 and parameters: {'n_estimators': 90, 'learning_rate': 0.497088976825992, 'max_depth': 9, 'subsample': 0.2171982000387605}. Best is trial 19 with value: 0.7300546382458467.\n",
      "[I 2024-11-20 21:17:04,365] Trial 124 finished with value: 0.7211593974423867 and parameters: {'n_estimators': 84, 'learning_rate': 0.4874543276107061, 'max_depth': 9, 'subsample': 0.29587163235098535}. Best is trial 19 with value: 0.7300546382458467.\n",
      "[I 2024-11-20 21:17:04,478] Trial 129 finished with value: 0.6741013617158842 and parameters: {'n_estimators': 94, 'learning_rate': 0.4576910800591624, 'max_depth': 3, 'subsample': 0.2169778919069687}. Best is trial 19 with value: 0.7300546382458467.\n",
      "[I 2024-11-20 21:17:04,598] Trial 123 finished with value: 0.5978834655906418 and parameters: {'n_estimators': 87, 'learning_rate': 0.053972856324843194, 'max_depth': 3, 'subsample': 0.2975599786766164}. Best is trial 19 with value: 0.7300546382458467.\n",
      "[I 2024-11-20 21:17:04,858] Trial 131 finished with value: 0.6734831214979979 and parameters: {'n_estimators': 85, 'learning_rate': 0.49999403246189356, 'max_depth': 3, 'subsample': 0.2769047325932539}. Best is trial 19 with value: 0.7300546382458467.\n",
      "[I 2024-11-20 21:17:04,959] Trial 130 finished with value: 0.6728266117170658 and parameters: {'n_estimators': 94, 'learning_rate': 0.45715076644508446, 'max_depth': 3, 'subsample': 0.2778165348288438}. Best is trial 19 with value: 0.7300546382458467.\n",
      "[I 2024-11-20 21:17:05,068] Trial 132 finished with value: 0.6741979146410678 and parameters: {'n_estimators': 79, 'learning_rate': 0.4581889938543382, 'max_depth': 3, 'subsample': 0.27826728361763153}. Best is trial 19 with value: 0.7300546382458467.\n",
      "[I 2024-11-20 21:17:05,615] Trial 134 finished with value: 0.6997633748989314 and parameters: {'n_estimators': 83, 'learning_rate': 0.4505186535729954, 'max_depth': 3, 'subsample': 0.24560640652324134}. Best is trial 19 with value: 0.7300546382458467.\n",
      "[I 2024-11-20 21:17:05,692] Trial 133 finished with value: 0.6846625472988949 and parameters: {'n_estimators': 83, 'learning_rate': 0.45084341845119363, 'max_depth': 3, 'subsample': 0.2830132424740745}. Best is trial 19 with value: 0.7300546382458467.\n",
      "[I 2024-11-20 21:17:05,979] Trial 137 finished with value: 0.7078051299908736 and parameters: {'n_estimators': 78, 'learning_rate': 0.4154456120119023, 'max_depth': 3, 'subsample': 0.24497898678652805}. Best is trial 19 with value: 0.7300546382458467.\n",
      "[I 2024-11-20 21:17:06,085] Trial 135 finished with value: 0.6782982603594 and parameters: {'n_estimators': 80, 'learning_rate': 0.45623091001395144, 'max_depth': 10, 'subsample': 0.27663826253492607}. Best is trial 19 with value: 0.7300546382458467.\n",
      "[I 2024-11-20 21:17:06,205] Trial 136 finished with value: 0.6432414397623127 and parameters: {'n_estimators': 84, 'learning_rate': 0.33193885643427484, 'max_depth': 7, 'subsample': 0.27674425308809136}. Best is trial 19 with value: 0.7300546382458467.\n",
      "[I 2024-11-20 21:17:06,326] Trial 138 finished with value: 0.6670125917608047 and parameters: {'n_estimators': 80, 'learning_rate': 0.44956735046996177, 'max_depth': 3, 'subsample': 0.2754434823741833}. Best is trial 19 with value: 0.7300546382458467.\n",
      "[I 2024-11-20 21:17:06,904] Trial 139 finished with value: 0.6501865899530754 and parameters: {'n_estimators': 79, 'learning_rate': 0.4151842986393768, 'max_depth': 9, 'subsample': 0.24691901226294846}. Best is trial 19 with value: 0.7300546382458467.\n",
      "[I 2024-11-20 21:17:06,991] Trial 140 finished with value: 0.6771328316945588 and parameters: {'n_estimators': 81, 'learning_rate': 0.42291470181333934, 'max_depth': 10, 'subsample': 0.24653402239966332}. Best is trial 19 with value: 0.7300546382458467.\n",
      "[I 2024-11-20 21:17:07,054] Trial 144 finished with value: 0.6509671312210272 and parameters: {'n_estimators': 77, 'learning_rate': 0.4089764935723375, 'max_depth': 3, 'subsample': 0.24689909413321096}. Best is trial 19 with value: 0.7300546382458467.\n",
      "[I 2024-11-20 21:17:07,155] Trial 142 finished with value: 0.6471588370917776 and parameters: {'n_estimators': 79, 'learning_rate': 0.4145765199312539, 'max_depth': 7, 'subsample': 0.2503021457038236}. Best is trial 19 with value: 0.7300546382458467.\n",
      "[I 2024-11-20 21:17:07,164] Trial 141 finished with value: 0.6465632729273113 and parameters: {'n_estimators': 78, 'learning_rate': 0.41471161540226587, 'max_depth': 10, 'subsample': 0.24857164171529195}. Best is trial 19 with value: 0.7300546382458467.\n",
      "[I 2024-11-20 21:17:07,260] Trial 145 finished with value: 0.6812283221281674 and parameters: {'n_estimators': 67, 'learning_rate': 0.41282215414652496, 'max_depth': 3, 'subsample': 0.24563140852734547}. Best is trial 19 with value: 0.7300546382458467.\n",
      "[I 2024-11-20 21:17:07,366] Trial 146 finished with value: 0.6986167821925133 and parameters: {'n_estimators': 79, 'learning_rate': 0.41798307601291135, 'max_depth': 3, 'subsample': 0.2463460208728024}. Best is trial 19 with value: 0.7300546382458467.\n",
      "[I 2024-11-20 21:17:07,398] Trial 143 finished with value: 0.6651477455387528 and parameters: {'n_estimators': 66, 'learning_rate': 0.4101950838089722, 'max_depth': 7, 'subsample': 0.25486320286854913}. Best is trial 19 with value: 0.7300546382458467.\n",
      "[I 2024-11-20 21:17:08,082] Trial 148 finished with value: 0.6595497765585743 and parameters: {'n_estimators': 70, 'learning_rate': 0.4768273612373338, 'max_depth': 3, 'subsample': 0.2523516088672814}. Best is trial 19 with value: 0.7300546382458467.\n",
      "[I 2024-11-20 21:17:08,126] Trial 149 finished with value: 0.6713277691347341 and parameters: {'n_estimators': 68, 'learning_rate': 0.475566127693108, 'max_depth': 3, 'subsample': 0.25271036217707754}. Best is trial 19 with value: 0.7300546382458467.\n",
      "[I 2024-11-20 21:17:08,188] Trial 147 finished with value: 0.6679352857239734 and parameters: {'n_estimators': 82, 'learning_rate': 0.4118652993088933, 'max_depth': 3, 'subsample': 0.2526976389304679}. Best is trial 19 with value: 0.7300546382458467.\n",
      "[I 2024-11-20 21:17:08,296] Trial 150 finished with value: 0.6625789515520326 and parameters: {'n_estimators': 119, 'learning_rate': 0.4778935498201271, 'max_depth': 3, 'subsample': 0.23121181087263837}. Best is trial 19 with value: 0.7300546382458467.\n",
      "[I 2024-11-20 21:17:08,336] Trial 151 finished with value: 0.6726794584367837 and parameters: {'n_estimators': 72, 'learning_rate': 0.4352890763639013, 'max_depth': 3, 'subsample': 0.3339059857149333}. Best is trial 19 with value: 0.7300546382458467.\n",
      "[I 2024-11-20 21:17:08,352] Trial 153 finished with value: 0.6089972835092857 and parameters: {'n_estimators': 75, 'learning_rate': 0.47042053971413145, 'max_depth': 3, 'subsample': 0.19747473442543145}. Best is trial 19 with value: 0.7300546382458467.\n",
      "[I 2024-11-20 21:17:08,462] Trial 152 finished with value: 0.6549009763188729 and parameters: {'n_estimators': 75, 'learning_rate': 0.47464041264892826, 'max_depth': 3, 'subsample': 0.3300062965357892}. Best is trial 19 with value: 0.7300546382458467.\n",
      "[I 2024-11-20 21:17:08,523] Trial 154 finished with value: 0.6472893681200326 and parameters: {'n_estimators': 73, 'learning_rate': 0.47535939897706964, 'max_depth': 3, 'subsample': 0.3347871126456433}. Best is trial 19 with value: 0.7300546382458467.\n",
      "[I 2024-11-20 21:17:09,431] Trial 155 finished with value: 0.6606354669289273 and parameters: {'n_estimators': 75, 'learning_rate': 0.441582984675651, 'max_depth': 3, 'subsample': 0.33724282151276036}. Best is trial 19 with value: 0.7300546382458467.\n",
      "[I 2024-11-20 21:17:09,484] Trial 156 finished with value: 0.6726875656473859 and parameters: {'n_estimators': 73, 'learning_rate': 0.43566275666887, 'max_depth': 3, 'subsample': 0.33430178367325175}. Best is trial 19 with value: 0.7300546382458467.\n",
      "[I 2024-11-20 21:17:09,558] Trial 157 finished with value: 0.6479792716053624 and parameters: {'n_estimators': 74, 'learning_rate': 0.4397945867060155, 'max_depth': 3, 'subsample': 0.3320994492818852}. Best is trial 19 with value: 0.7300546382458467.\n",
      "[I 2024-11-20 21:17:09,686] Trial 158 finished with value: 0.6181368834299397 and parameters: {'n_estimators': 75, 'learning_rate': 0.438462166978678, 'max_depth': 3, 'subsample': 0.2112716843405563}. Best is trial 19 with value: 0.7300546382458467.\n",
      "[I 2024-11-20 21:17:09,798] Trial 160 finished with value: 0.6537732594506913 and parameters: {'n_estimators': 115, 'learning_rate': 0.442733024644499, 'max_depth': 3, 'subsample': 0.2138689965933214}. Best is trial 19 with value: 0.7300546382458467.\n",
      "[I 2024-11-20 21:17:09,887] Trial 161 finished with value: 0.6814959485251764 and parameters: {'n_estimators': 115, 'learning_rate': 0.39010110237837653, 'max_depth': 3, 'subsample': 0.2339635320643871}. Best is trial 19 with value: 0.7300546382458467.\n",
      "[I 2024-11-20 21:17:09,909] Trial 159 finished with value: 0.6375475917704456 and parameters: {'n_estimators': 115, 'learning_rate': 0.392933113198902, 'max_depth': 3, 'subsample': 0.20956850991403897}. Best is trial 19 with value: 0.7300546382458467.\n",
      "[I 2024-11-20 21:17:10,016] Trial 162 finished with value: 0.6518322906563709 and parameters: {'n_estimators': 116, 'learning_rate': 0.4399662978529726, 'max_depth': 3, 'subsample': 0.21337846577219693}. Best is trial 19 with value: 0.7300546382458467.\n",
      "[I 2024-11-20 21:17:10,610] Trial 164 finished with value: 0.6134550801011949 and parameters: {'n_estimators': 115, 'learning_rate': 0.38997757593271976, 'max_depth': 3, 'subsample': 0.20905389732522253}. Best is trial 19 with value: 0.7300546382458467.\n",
      "[I 2024-11-20 21:17:10,677] Trial 165 finished with value: 0.690901979109317 and parameters: {'n_estimators': 115, 'learning_rate': 0.3962336945623257, 'max_depth': 3, 'subsample': 0.23331332056531714}. Best is trial 19 with value: 0.7300546382458467.\n",
      "[I 2024-11-20 21:17:10,781] Trial 163 finished with value: 0.677648596466479 and parameters: {'n_estimators': 115, 'learning_rate': 0.39533592118685285, 'max_depth': 3, 'subsample': 0.2132756404575789}. Best is trial 19 with value: 0.7300546382458467.\n",
      "[I 2024-11-20 21:17:10,803] Trial 167 finished with value: 0.6828760685143481 and parameters: {'n_estimators': 118, 'learning_rate': 0.3654170010352541, 'max_depth': 3, 'subsample': 0.2311689141271458}. Best is trial 19 with value: 0.7300546382458467.\n",
      "[I 2024-11-20 21:17:10,837] Trial 168 finished with value: 0.6891505667176026 and parameters: {'n_estimators': 85, 'learning_rate': 0.4977956538895157, 'max_depth': 3, 'subsample': 0.30267130436550166}. Best is trial 19 with value: 0.7300546382458467.\n",
      "[I 2024-11-20 21:17:10,945] Trial 170 finished with value: 0.6647364926680748 and parameters: {'n_estimators': 118, 'learning_rate': 0.49082481464379024, 'max_depth': 3, 'subsample': 0.3049848781127977}. Best is trial 19 with value: 0.7300546382458467.\n",
      "[I 2024-11-20 21:17:11,234] Trial 166 finished with value: 0.6621797259247977 and parameters: {'n_estimators': 115, 'learning_rate': 0.3979124796004071, 'max_depth': 9, 'subsample': 0.23047676015603494}. Best is trial 19 with value: 0.7300546382458467.\n",
      "[I 2024-11-20 21:17:11,641] Trial 169 finished with value: 0.6297611759870129 and parameters: {'n_estimators': 85, 'learning_rate': 0.11460021545895362, 'max_depth': 3, 'subsample': 0.30370803249501166}. Best is trial 19 with value: 0.7300546382458467.\n",
      "[I 2024-11-20 21:17:11,812] Trial 172 finished with value: 0.6857256077122271 and parameters: {'n_estimators': 85, 'learning_rate': 0.49981711271842827, 'max_depth': 3, 'subsample': 0.293176616303217}. Best is trial 19 with value: 0.7300546382458467.\n",
      "[I 2024-11-20 21:17:11,900] Trial 173 finished with value: 0.6851375394172302 and parameters: {'n_estimators': 85, 'learning_rate': 0.49845034406953737, 'max_depth': 3, 'subsample': 0.2997350276943762}. Best is trial 19 with value: 0.7300546382458467.\n",
      "[I 2024-11-20 21:17:11,930] Trial 174 finished with value: 0.6910924869823635 and parameters: {'n_estimators': 85, 'learning_rate': 0.49511573745500825, 'max_depth': 3, 'subsample': 0.2901979849384575}. Best is trial 19 with value: 0.7300546382458467.\n",
      "[I 2024-11-20 21:17:12,017] Trial 175 finished with value: 0.6847443797990036 and parameters: {'n_estimators': 119, 'learning_rate': 0.4825610947206713, 'max_depth': 3, 'subsample': 0.2646464316244916}. Best is trial 19 with value: 0.7300546382458467.\n",
      "[I 2024-11-20 21:17:12,172] Trial 176 finished with value: 0.6809567567444927 and parameters: {'n_estimators': 91, 'learning_rate': 0.45843243808426154, 'max_depth': 3, 'subsample': 0.26652410522146286}. Best is trial 19 with value: 0.7300546382458467.\n",
      "[I 2024-11-20 21:17:12,242] Trial 171 finished with value: 0.6781243616211876 and parameters: {'n_estimators': 91, 'learning_rate': 0.48812637819930693, 'max_depth': 8, 'subsample': 0.2976620921562503}. Best is trial 19 with value: 0.7300546382458467.\n",
      "[I 2024-11-20 21:17:12,501] Trial 177 finished with value: 0.6904738089303729 and parameters: {'n_estimators': 84, 'learning_rate': 0.46539011277870407, 'max_depth': 3, 'subsample': 0.26896773598081664}. Best is trial 19 with value: 0.7300546382458467.\n",
      "[I 2024-11-20 21:17:12,837] Trial 178 finished with value: 0.6907719190786925 and parameters: {'n_estimators': 91, 'learning_rate': 0.46525268192385627, 'max_depth': 3, 'subsample': 0.270291864539118}. Best is trial 19 with value: 0.7300546382458467.\n",
      "[I 2024-11-20 21:17:12,970] Trial 179 finished with value: 0.6456608668714003 and parameters: {'n_estimators': 92, 'learning_rate': 0.4650997297485359, 'max_depth': 3, 'subsample': 0.26558259293383185}. Best is trial 19 with value: 0.7300546382458467.\n",
      "[I 2024-11-20 21:17:13,046] Trial 180 finished with value: 0.6558237687549858 and parameters: {'n_estimators': 91, 'learning_rate': 0.46375205692796306, 'max_depth': 3, 'subsample': 0.26523747802102504}. Best is trial 19 with value: 0.7300546382458467.\n",
      "[I 2024-11-20 21:17:13,149] Trial 181 finished with value: 0.6690808214542272 and parameters: {'n_estimators': 83, 'learning_rate': 0.4595179009222283, 'max_depth': 3, 'subsample': 0.269620929555064}. Best is trial 19 with value: 0.7300546382458467.\n",
      "[I 2024-11-20 21:17:13,270] Trial 182 finished with value: 0.6856432726571319 and parameters: {'n_estimators': 91, 'learning_rate': 0.46033946723650787, 'max_depth': 3, 'subsample': 0.2635356221303501}. Best is trial 19 with value: 0.7300546382458467.\n",
      "[I 2024-11-20 21:17:13,348] Trial 183 finished with value: 0.6590312206817219 and parameters: {'n_estimators': 81, 'learning_rate': 0.4639656790627885, 'max_depth': 3, 'subsample': 0.2645202565244635}. Best is trial 19 with value: 0.7300546382458467.\n",
      "[I 2024-11-20 21:17:13,424] Trial 184 finished with value: 0.6733100210246077 and parameters: {'n_estimators': 82, 'learning_rate': 0.4541375305165533, 'max_depth': 3, 'subsample': 0.2643036388068932}. Best is trial 19 with value: 0.7300546382458467.\n",
      "[I 2024-11-20 21:17:13,680] Trial 185 finished with value: 0.6561107469635166 and parameters: {'n_estimators': 89, 'learning_rate': 0.42389361212156207, 'max_depth': 3, 'subsample': 0.28412686016746835}. Best is trial 19 with value: 0.7300546382458467.\n",
      "[I 2024-11-20 21:17:14,123] Trial 186 finished with value: 0.7090417201066697 and parameters: {'n_estimators': 89, 'learning_rate': 0.42431701641112135, 'max_depth': 3, 'subsample': 0.26466017743009485}. Best is trial 19 with value: 0.7300546382458467.\n",
      "[I 2024-11-20 21:17:14,278] Trial 187 finished with value: 0.667479215169345 and parameters: {'n_estimators': 82, 'learning_rate': 0.42374115738767276, 'max_depth': 3, 'subsample': 0.2810120605144218}. Best is trial 19 with value: 0.7300546382458467.\n",
      "[I 2024-11-20 21:17:14,395] Trial 189 finished with value: 0.6661346452567667 and parameters: {'n_estimators': 88, 'learning_rate': 0.4217071966797558, 'max_depth': 3, 'subsample': 0.22606611683456646}. Best is trial 19 with value: 0.7300546382458467.\n",
      "[I 2024-11-20 21:17:14,485] Trial 188 finished with value: 0.5968869748385861 and parameters: {'n_estimators': 89, 'learning_rate': 0.15620962300113342, 'max_depth': 3, 'subsample': 0.23862196392193044}. Best is trial 19 with value: 0.7300546382458467.\n",
      "[I 2024-11-20 21:17:14,851] Trial 191 finished with value: 0.7133910502337868 and parameters: {'n_estimators': 89, 'learning_rate': 0.4258778530009758, 'max_depth': 3, 'subsample': 0.23701419136756996}. Best is trial 19 with value: 0.7300546382458467.\n",
      "[I 2024-11-20 21:17:14,859] Trial 190 finished with value: 0.7139629347958594 and parameters: {'n_estimators': 88, 'learning_rate': 0.42370152369368597, 'max_depth': 3, 'subsample': 0.23869044447854276}. Best is trial 19 with value: 0.7300546382458467.\n",
      "[I 2024-11-20 21:17:14,860] Trial 192 finished with value: 0.6633275473876692 and parameters: {'n_estimators': 120, 'learning_rate': 0.42144584447843736, 'max_depth': 3, 'subsample': 0.2238311363938858}. Best is trial 19 with value: 0.7300546382458467.\n",
      "[I 2024-11-20 21:17:15,162] Trial 193 finished with value: 0.6747090765228305 and parameters: {'n_estimators': 120, 'learning_rate': 0.42305855754208316, 'max_depth': 3, 'subsample': 0.22520666818514795}. Best is trial 19 with value: 0.7300546382458467.\n",
      "[I 2024-11-20 21:17:15,499] Trial 194 finished with value: 0.7245460298732386 and parameters: {'n_estimators': 89, 'learning_rate': 0.4268980120128607, 'max_depth': 3, 'subsample': 0.23715365724876303}. Best is trial 19 with value: 0.7300546382458467.\n",
      "[I 2024-11-20 21:17:15,581] Trial 195 finished with value: 0.7295493705713253 and parameters: {'n_estimators': 88, 'learning_rate': 0.43272042825248197, 'max_depth': 3, 'subsample': 0.23941315094325102}. Best is trial 19 with value: 0.7300546382458467.\n",
      "[I 2024-11-20 21:17:15,613] Trial 196 finished with value: 0.6673833332334984 and parameters: {'n_estimators': 120, 'learning_rate': 0.36870363701369574, 'max_depth': 3, 'subsample': 0.24444116658634152}. Best is trial 19 with value: 0.7300546382458467.\n",
      "[I 2024-11-20 21:17:15,664] Trial 197 finished with value: 0.6362347586934327 and parameters: {'n_estimators': 120, 'learning_rate': 0.37222477875611576, 'max_depth': 4, 'subsample': 0.24010896813339436}. Best is trial 19 with value: 0.7300546382458467.\n",
      "[I 2024-11-20 21:17:15,669] Trial 198 finished with value: 0.6870611326575689 and parameters: {'n_estimators': 86, 'learning_rate': 0.4397411488285283, 'max_depth': 3, 'subsample': 0.24100843035670172}. Best is trial 19 with value: 0.7300546382458467.\n",
      "[I 2024-11-20 21:17:15,689] Trial 199 finished with value: 0.6830931382168594 and parameters: {'n_estimators': 88, 'learning_rate': 0.3727461242381726, 'max_depth': 3, 'subsample': 0.2466605775400815}. Best is trial 19 with value: 0.7300546382458467.\n"
     ]
    }
   ],
   "source": [
    "def objective(trial,\n",
    "    X,\n",
    "    y,\n",
    "    random_state=22,\n",
    "    n_splits=3,\n",
    "    n_repeats=2,\n",
    "    n_jobs=-1,\n",
    "              ):\n",
    "    \n",
    "    param = {\n",
    "        \"objective\": \"reg:squarederror\",\n",
    "        \"tree_method\":'hist',\n",
    "        'n_estimators': trial.suggest_int('n_estimators', 50, 120),\n",
    "        \"verbosity\": 1,\n",
    "        \"learning_rate\": trial.suggest_float(\"learning_rate\", 0.05, 0.5, log=True),\n",
    "        \"max_depth\": trial.suggest_int(\"max_depth\", 3, 10),\n",
    "        \"subsample\": trial.suggest_float(\"subsample\", 0.05, 0.9,log=True),\n",
    "        \"n_jobs\": n_jobs,\n",
    "    }\n",
    "    \n",
    "    model = xgb.XGBRegressor(**param, eval_metric=\"rmse\",early_stopping_rounds = EARLY_STOPPING_ROUNDS)\n",
    "    rkf = RepeatedKFold(n_splits=n_splits, n_repeats=n_repeats, random_state=random_state)\n",
    "    X_values = X.values\n",
    "    y_values = y.values\n",
    "    y_pred = np.zeros_like(y_values)\n",
    "\n",
    "    for train_index, test_index in rkf.split(X_values):\n",
    "        X_A, X_B = X_values[train_index, :], X_values[test_index, :]\n",
    "        y_A, y_B = y_values[train_index], y_values[test_index]\n",
    "        model.fit(X_A, y_A, eval_set=[(X_B, y_B)], verbose=0,)\n",
    "        y_pred[test_index] += model.predict(X_B)\n",
    "    y_pred /= n_repeats\n",
    "    r2 = r2_score(y_true = y_train, y_pred = y_pred)\n",
    "    \n",
    "    return r2\n",
    "\n",
    "\n",
    "sampler = TPESampler(seed=10)  # Make the sampler behave in a deterministic way.\n",
    "study = optuna.create_study(sampler = sampler, direction='maximize')\n",
    "study.optimize(\n",
    "    lambda trial: objective(\n",
    "        trial,\n",
    "        X_train,\n",
    "        y_train,\n",
    "        random_state=RS,\n",
    "        n_splits=N_SPLITS,\n",
    "        n_repeats=N_REPEATS,\n",
    "        n_jobs=N_JOBS,\n",
    "    ),\n",
    "    n_trials=N_TRIALS,\n",
    "    n_jobs=N_JOBS,\n",
    ")"
   ]
  },
  {
   "cell_type": "code",
   "execution_count": 43,
   "id": "43040a6d",
   "metadata": {},
   "outputs": [
    {
     "data": {
      "application/vnd.plotly.v1+json": {
       "config": {
        "plotlyServerURL": "https://plot.ly"
       },
       "data": [
        {
         "mode": "markers",
         "name": "Objective Value",
         "type": "scatter",
         "x": [
          0,
          1,
          2,
          3,
          4,
          5,
          6,
          7,
          8,
          9,
          10,
          11,
          12,
          13,
          14,
          15,
          16,
          17,
          18,
          19,
          20,
          21,
          22,
          23,
          24,
          25,
          26,
          27,
          28,
          29,
          30,
          31,
          32,
          33,
          34,
          35,
          36,
          37,
          38,
          39,
          40,
          41,
          42,
          43,
          44,
          45,
          46,
          47,
          48,
          49,
          50,
          51,
          52,
          53,
          54,
          55,
          56,
          57,
          58,
          59,
          60,
          61,
          62,
          63,
          64,
          65,
          66,
          67,
          68,
          69,
          70,
          71,
          72,
          73,
          74,
          75,
          76,
          77,
          78,
          79,
          80,
          81,
          82,
          83,
          84,
          85,
          86,
          87,
          88,
          89,
          90,
          91,
          92,
          93,
          94,
          95,
          96,
          97,
          98,
          99,
          100,
          101,
          102,
          103,
          104,
          105,
          106,
          107,
          108,
          109,
          110,
          111,
          112,
          113,
          114,
          115,
          116,
          117,
          118,
          119,
          120,
          121,
          122,
          123,
          124,
          125,
          126,
          127,
          128,
          129,
          130,
          131,
          132,
          133,
          134,
          135,
          136,
          137,
          138,
          139,
          140,
          141,
          142,
          143,
          144,
          145,
          146,
          147,
          148,
          149,
          150,
          151,
          152,
          153,
          154,
          155,
          156,
          157,
          158,
          159,
          160,
          161,
          162,
          163,
          164,
          165,
          166,
          167,
          168,
          169,
          170,
          171,
          172,
          173,
          174,
          175,
          176,
          177,
          178,
          179,
          180,
          181,
          182,
          183,
          184,
          185,
          186,
          187,
          188,
          189,
          190,
          191,
          192,
          193,
          194,
          195,
          196,
          197,
          198,
          199
         ],
         "y": [
          0.5356715988218547,
          0.6379190342987574,
          0.5128344991310227,
          0.5852428059121305,
          0.6521029322481366,
          0.639112750935496,
          0.5773932492342833,
          0.6356952018173445,
          0.5976044151040047,
          0.5582802631781101,
          0.5779172808664599,
          0.6079668966723222,
          0.6322240085183972,
          0.5400159212142801,
          0.6389812482089336,
          0.6011143762659172,
          0.5981939218859471,
          0.5989270918327498,
          0.6655315286714316,
          0.7300546382458467,
          0.6660180789097614,
          0.6597670412155984,
          0.700171781288302,
          0.7026253900726829,
          0.6969140410360093,
          0.6426608656043069,
          0.6013991154702005,
          0.6602200602695403,
          0.6662766611336446,
          0.5958836284677076,
          0.6232476346721381,
          0.6715953431755528,
          0.6386872295112183,
          0.6394600140737492,
          0.6695955790732477,
          0.6187346841030077,
          0.6680072394406676,
          0.6564918255356993,
          0.6548422687920235,
          0.6547055665085761,
          0.5595909226004231,
          0.581421349807361,
          0.5950238733725803,
          0.6539068749186687,
          0.5649753917062466,
          0.6430626330300935,
          0.6846521002736288,
          0.6651885024740205,
          0.6908246132585958,
          0.6491079694615876,
          0.6672067595905784,
          0.6812533299618289,
          0.6483382067671446,
          0.6608978536211998,
          0.5934015374372656,
          0.6048413612819707,
          0.5881749776672356,
          0.6016781923936644,
          0.6189736572848943,
          0.592262347156818,
          0.597152432337579,
          0.5973769580291117,
          0.6436927671758794,
          0.6656816856181424,
          0.6656842325042697,
          0.6676341544244813,
          0.6415411968431567,
          0.6395300887777187,
          0.6039718750208187,
          0.6493073209232336,
          0.6563793447297506,
          0.7284455788344055,
          0.6800726137460547,
          0.6218615187496772,
          0.6642342523554832,
          0.6568988424284365,
          0.6491113829620422,
          0.6595889285736554,
          0.6811208999077978,
          0.6251813921960427,
          0.6868276819234593,
          0.6894013369052738,
          0.6860617703982386,
          0.6910238674629379,
          0.6658645106635406,
          0.6704635281839889,
          0.6438205187271623,
          0.6988083125981532,
          0.6552037274663113,
          0.7127499481525386,
          0.6663481622251082,
          0.6719743399235605,
          0.7067984760611215,
          0.6824841538235848,
          0.6941610782280001,
          0.6708289820621248,
          0.6728044792416841,
          0.6721452219815034,
          0.6474168847252386,
          0.6947653775375925,
          0.6022512579418238,
          0.5921972156612691,
          0.5902024428572394,
          0.5931547500979213,
          0.6265078439291771,
          0.6725310469634589,
          0.5683789916386282,
          0.5718766378181188,
          0.5746055987924559,
          0.6843011303433182,
          0.6829642011804186,
          0.5796227482787288,
          0.7245057500713756,
          0.7239953604367284,
          0.6504383529776219,
          0.6616603826276098,
          0.5815728982988242,
          0.5983164765294313,
          0.6684546080488853,
          0.6503645583021361,
          0.6466959889207877,
          0.5825923418511398,
          0.6853230193176498,
          0.5978834655906418,
          0.7211593974423867,
          0.6913014654882479,
          0.6848328284234221,
          0.6279203481302478,
          0.6616523038463242,
          0.6741013617158842,
          0.6728266117170658,
          0.6734831214979979,
          0.6741979146410678,
          0.6846625472988949,
          0.6997633748989314,
          0.6782982603594,
          0.6432414397623127,
          0.7078051299908736,
          0.6670125917608047,
          0.6501865899530754,
          0.6771328316945588,
          0.6465632729273113,
          0.6471588370917776,
          0.6651477455387528,
          0.6509671312210272,
          0.6812283221281674,
          0.6986167821925133,
          0.6679352857239734,
          0.6595497765585743,
          0.6713277691347341,
          0.6625789515520326,
          0.6726794584367837,
          0.6549009763188729,
          0.6089972835092857,
          0.6472893681200326,
          0.6606354669289273,
          0.6726875656473859,
          0.6479792716053624,
          0.6181368834299397,
          0.6375475917704456,
          0.6537732594506913,
          0.6814959485251764,
          0.6518322906563709,
          0.677648596466479,
          0.6134550801011949,
          0.690901979109317,
          0.6621797259247977,
          0.6828760685143481,
          0.6891505667176026,
          0.6297611759870129,
          0.6647364926680748,
          0.6781243616211876,
          0.6857256077122271,
          0.6851375394172302,
          0.6910924869823635,
          0.6847443797990036,
          0.6809567567444927,
          0.6904738089303729,
          0.6907719190786925,
          0.6456608668714003,
          0.6558237687549858,
          0.6690808214542272,
          0.6856432726571319,
          0.6590312206817219,
          0.6733100210246077,
          0.6561107469635166,
          0.7090417201066697,
          0.667479215169345,
          0.5968869748385861,
          0.6661346452567667,
          0.7139629347958594,
          0.7133910502337868,
          0.6633275473876692,
          0.6747090765228305,
          0.7245460298732386,
          0.7295493705713253,
          0.6673833332334984,
          0.6362347586934327,
          0.6870611326575689,
          0.6830931382168594
         ]
        },
        {
         "mode": "lines",
         "name": "Best Value",
         "type": "scatter",
         "x": [
          0,
          1,
          2,
          3,
          4,
          5,
          6,
          7,
          8,
          9,
          10,
          11,
          12,
          13,
          14,
          15,
          16,
          17,
          18,
          19,
          20,
          21,
          22,
          23,
          24,
          25,
          26,
          27,
          28,
          29,
          30,
          31,
          32,
          33,
          34,
          35,
          36,
          37,
          38,
          39,
          40,
          41,
          42,
          43,
          44,
          45,
          46,
          47,
          48,
          49,
          50,
          51,
          52,
          53,
          54,
          55,
          56,
          57,
          58,
          59,
          60,
          61,
          62,
          63,
          64,
          65,
          66,
          67,
          68,
          69,
          70,
          71,
          72,
          73,
          74,
          75,
          76,
          77,
          78,
          79,
          80,
          81,
          82,
          83,
          84,
          85,
          86,
          87,
          88,
          89,
          90,
          91,
          92,
          93,
          94,
          95,
          96,
          97,
          98,
          99,
          100,
          101,
          102,
          103,
          104,
          105,
          106,
          107,
          108,
          109,
          110,
          111,
          112,
          113,
          114,
          115,
          116,
          117,
          118,
          119,
          120,
          121,
          122,
          123,
          124,
          125,
          126,
          127,
          128,
          129,
          130,
          131,
          132,
          133,
          134,
          135,
          136,
          137,
          138,
          139,
          140,
          141,
          142,
          143,
          144,
          145,
          146,
          147,
          148,
          149,
          150,
          151,
          152,
          153,
          154,
          155,
          156,
          157,
          158,
          159,
          160,
          161,
          162,
          163,
          164,
          165,
          166,
          167,
          168,
          169,
          170,
          171,
          172,
          173,
          174,
          175,
          176,
          177,
          178,
          179,
          180,
          181,
          182,
          183,
          184,
          185,
          186,
          187,
          188,
          189,
          190,
          191,
          192,
          193,
          194,
          195,
          196,
          197,
          198,
          199
         ],
         "y": [
          0.5356715988218547,
          0.6379190342987574,
          0.6379190342987574,
          0.6379190342987574,
          0.6521029322481366,
          0.6521029322481366,
          0.6521029322481366,
          0.6521029322481366,
          0.6521029322481366,
          0.6521029322481366,
          0.6521029322481366,
          0.6521029322481366,
          0.6521029322481366,
          0.6521029322481366,
          0.6521029322481366,
          0.6521029322481366,
          0.6521029322481366,
          0.6521029322481366,
          0.6655315286714316,
          0.7300546382458467,
          0.7300546382458467,
          0.7300546382458467,
          0.7300546382458467,
          0.7300546382458467,
          0.7300546382458467,
          0.7300546382458467,
          0.7300546382458467,
          0.7300546382458467,
          0.7300546382458467,
          0.7300546382458467,
          0.7300546382458467,
          0.7300546382458467,
          0.7300546382458467,
          0.7300546382458467,
          0.7300546382458467,
          0.7300546382458467,
          0.7300546382458467,
          0.7300546382458467,
          0.7300546382458467,
          0.7300546382458467,
          0.7300546382458467,
          0.7300546382458467,
          0.7300546382458467,
          0.7300546382458467,
          0.7300546382458467,
          0.7300546382458467,
          0.7300546382458467,
          0.7300546382458467,
          0.7300546382458467,
          0.7300546382458467,
          0.7300546382458467,
          0.7300546382458467,
          0.7300546382458467,
          0.7300546382458467,
          0.7300546382458467,
          0.7300546382458467,
          0.7300546382458467,
          0.7300546382458467,
          0.7300546382458467,
          0.7300546382458467,
          0.7300546382458467,
          0.7300546382458467,
          0.7300546382458467,
          0.7300546382458467,
          0.7300546382458467,
          0.7300546382458467,
          0.7300546382458467,
          0.7300546382458467,
          0.7300546382458467,
          0.7300546382458467,
          0.7300546382458467,
          0.7300546382458467,
          0.7300546382458467,
          0.7300546382458467,
          0.7300546382458467,
          0.7300546382458467,
          0.7300546382458467,
          0.7300546382458467,
          0.7300546382458467,
          0.7300546382458467,
          0.7300546382458467,
          0.7300546382458467,
          0.7300546382458467,
          0.7300546382458467,
          0.7300546382458467,
          0.7300546382458467,
          0.7300546382458467,
          0.7300546382458467,
          0.7300546382458467,
          0.7300546382458467,
          0.7300546382458467,
          0.7300546382458467,
          0.7300546382458467,
          0.7300546382458467,
          0.7300546382458467,
          0.7300546382458467,
          0.7300546382458467,
          0.7300546382458467,
          0.7300546382458467,
          0.7300546382458467,
          0.7300546382458467,
          0.7300546382458467,
          0.7300546382458467,
          0.7300546382458467,
          0.7300546382458467,
          0.7300546382458467,
          0.7300546382458467,
          0.7300546382458467,
          0.7300546382458467,
          0.7300546382458467,
          0.7300546382458467,
          0.7300546382458467,
          0.7300546382458467,
          0.7300546382458467,
          0.7300546382458467,
          0.7300546382458467,
          0.7300546382458467,
          0.7300546382458467,
          0.7300546382458467,
          0.7300546382458467,
          0.7300546382458467,
          0.7300546382458467,
          0.7300546382458467,
          0.7300546382458467,
          0.7300546382458467,
          0.7300546382458467,
          0.7300546382458467,
          0.7300546382458467,
          0.7300546382458467,
          0.7300546382458467,
          0.7300546382458467,
          0.7300546382458467,
          0.7300546382458467,
          0.7300546382458467,
          0.7300546382458467,
          0.7300546382458467,
          0.7300546382458467,
          0.7300546382458467,
          0.7300546382458467,
          0.7300546382458467,
          0.7300546382458467,
          0.7300546382458467,
          0.7300546382458467,
          0.7300546382458467,
          0.7300546382458467,
          0.7300546382458467,
          0.7300546382458467,
          0.7300546382458467,
          0.7300546382458467,
          0.7300546382458467,
          0.7300546382458467,
          0.7300546382458467,
          0.7300546382458467,
          0.7300546382458467,
          0.7300546382458467,
          0.7300546382458467,
          0.7300546382458467,
          0.7300546382458467,
          0.7300546382458467,
          0.7300546382458467,
          0.7300546382458467,
          0.7300546382458467,
          0.7300546382458467,
          0.7300546382458467,
          0.7300546382458467,
          0.7300546382458467,
          0.7300546382458467,
          0.7300546382458467,
          0.7300546382458467,
          0.7300546382458467,
          0.7300546382458467,
          0.7300546382458467,
          0.7300546382458467,
          0.7300546382458467,
          0.7300546382458467,
          0.7300546382458467,
          0.7300546382458467,
          0.7300546382458467,
          0.7300546382458467,
          0.7300546382458467,
          0.7300546382458467,
          0.7300546382458467,
          0.7300546382458467,
          0.7300546382458467,
          0.7300546382458467,
          0.7300546382458467,
          0.7300546382458467,
          0.7300546382458467,
          0.7300546382458467,
          0.7300546382458467,
          0.7300546382458467,
          0.7300546382458467,
          0.7300546382458467,
          0.7300546382458467,
          0.7300546382458467,
          0.7300546382458467,
          0.7300546382458467,
          0.7300546382458467,
          0.7300546382458467,
          0.7300546382458467
         ]
        },
        {
         "marker": {
          "color": "#cccccc"
         },
         "mode": "markers",
         "name": "Infeasible Trial",
         "showlegend": false,
         "type": "scatter",
         "x": [],
         "y": []
        }
       ],
       "layout": {
        "template": {
         "data": {
          "bar": [
           {
            "error_x": {
             "color": "#2a3f5f"
            },
            "error_y": {
             "color": "#2a3f5f"
            },
            "marker": {
             "line": {
              "color": "#E5ECF6",
              "width": 0.5
             },
             "pattern": {
              "fillmode": "overlay",
              "size": 10,
              "solidity": 0.2
             }
            },
            "type": "bar"
           }
          ],
          "barpolar": [
           {
            "marker": {
             "line": {
              "color": "#E5ECF6",
              "width": 0.5
             },
             "pattern": {
              "fillmode": "overlay",
              "size": 10,
              "solidity": 0.2
             }
            },
            "type": "barpolar"
           }
          ],
          "carpet": [
           {
            "aaxis": {
             "endlinecolor": "#2a3f5f",
             "gridcolor": "white",
             "linecolor": "white",
             "minorgridcolor": "white",
             "startlinecolor": "#2a3f5f"
            },
            "baxis": {
             "endlinecolor": "#2a3f5f",
             "gridcolor": "white",
             "linecolor": "white",
             "minorgridcolor": "white",
             "startlinecolor": "#2a3f5f"
            },
            "type": "carpet"
           }
          ],
          "choropleth": [
           {
            "colorbar": {
             "outlinewidth": 0,
             "ticks": ""
            },
            "type": "choropleth"
           }
          ],
          "contour": [
           {
            "colorbar": {
             "outlinewidth": 0,
             "ticks": ""
            },
            "colorscale": [
             [
              0,
              "#0d0887"
             ],
             [
              0.1111111111111111,
              "#46039f"
             ],
             [
              0.2222222222222222,
              "#7201a8"
             ],
             [
              0.3333333333333333,
              "#9c179e"
             ],
             [
              0.4444444444444444,
              "#bd3786"
             ],
             [
              0.5555555555555556,
              "#d8576b"
             ],
             [
              0.6666666666666666,
              "#ed7953"
             ],
             [
              0.7777777777777778,
              "#fb9f3a"
             ],
             [
              0.8888888888888888,
              "#fdca26"
             ],
             [
              1,
              "#f0f921"
             ]
            ],
            "type": "contour"
           }
          ],
          "contourcarpet": [
           {
            "colorbar": {
             "outlinewidth": 0,
             "ticks": ""
            },
            "type": "contourcarpet"
           }
          ],
          "heatmap": [
           {
            "colorbar": {
             "outlinewidth": 0,
             "ticks": ""
            },
            "colorscale": [
             [
              0,
              "#0d0887"
             ],
             [
              0.1111111111111111,
              "#46039f"
             ],
             [
              0.2222222222222222,
              "#7201a8"
             ],
             [
              0.3333333333333333,
              "#9c179e"
             ],
             [
              0.4444444444444444,
              "#bd3786"
             ],
             [
              0.5555555555555556,
              "#d8576b"
             ],
             [
              0.6666666666666666,
              "#ed7953"
             ],
             [
              0.7777777777777778,
              "#fb9f3a"
             ],
             [
              0.8888888888888888,
              "#fdca26"
             ],
             [
              1,
              "#f0f921"
             ]
            ],
            "type": "heatmap"
           }
          ],
          "heatmapgl": [
           {
            "colorbar": {
             "outlinewidth": 0,
             "ticks": ""
            },
            "colorscale": [
             [
              0,
              "#0d0887"
             ],
             [
              0.1111111111111111,
              "#46039f"
             ],
             [
              0.2222222222222222,
              "#7201a8"
             ],
             [
              0.3333333333333333,
              "#9c179e"
             ],
             [
              0.4444444444444444,
              "#bd3786"
             ],
             [
              0.5555555555555556,
              "#d8576b"
             ],
             [
              0.6666666666666666,
              "#ed7953"
             ],
             [
              0.7777777777777778,
              "#fb9f3a"
             ],
             [
              0.8888888888888888,
              "#fdca26"
             ],
             [
              1,
              "#f0f921"
             ]
            ],
            "type": "heatmapgl"
           }
          ],
          "histogram": [
           {
            "marker": {
             "pattern": {
              "fillmode": "overlay",
              "size": 10,
              "solidity": 0.2
             }
            },
            "type": "histogram"
           }
          ],
          "histogram2d": [
           {
            "colorbar": {
             "outlinewidth": 0,
             "ticks": ""
            },
            "colorscale": [
             [
              0,
              "#0d0887"
             ],
             [
              0.1111111111111111,
              "#46039f"
             ],
             [
              0.2222222222222222,
              "#7201a8"
             ],
             [
              0.3333333333333333,
              "#9c179e"
             ],
             [
              0.4444444444444444,
              "#bd3786"
             ],
             [
              0.5555555555555556,
              "#d8576b"
             ],
             [
              0.6666666666666666,
              "#ed7953"
             ],
             [
              0.7777777777777778,
              "#fb9f3a"
             ],
             [
              0.8888888888888888,
              "#fdca26"
             ],
             [
              1,
              "#f0f921"
             ]
            ],
            "type": "histogram2d"
           }
          ],
          "histogram2dcontour": [
           {
            "colorbar": {
             "outlinewidth": 0,
             "ticks": ""
            },
            "colorscale": [
             [
              0,
              "#0d0887"
             ],
             [
              0.1111111111111111,
              "#46039f"
             ],
             [
              0.2222222222222222,
              "#7201a8"
             ],
             [
              0.3333333333333333,
              "#9c179e"
             ],
             [
              0.4444444444444444,
              "#bd3786"
             ],
             [
              0.5555555555555556,
              "#d8576b"
             ],
             [
              0.6666666666666666,
              "#ed7953"
             ],
             [
              0.7777777777777778,
              "#fb9f3a"
             ],
             [
              0.8888888888888888,
              "#fdca26"
             ],
             [
              1,
              "#f0f921"
             ]
            ],
            "type": "histogram2dcontour"
           }
          ],
          "mesh3d": [
           {
            "colorbar": {
             "outlinewidth": 0,
             "ticks": ""
            },
            "type": "mesh3d"
           }
          ],
          "parcoords": [
           {
            "line": {
             "colorbar": {
              "outlinewidth": 0,
              "ticks": ""
             }
            },
            "type": "parcoords"
           }
          ],
          "pie": [
           {
            "automargin": true,
            "type": "pie"
           }
          ],
          "scatter": [
           {
            "fillpattern": {
             "fillmode": "overlay",
             "size": 10,
             "solidity": 0.2
            },
            "type": "scatter"
           }
          ],
          "scatter3d": [
           {
            "line": {
             "colorbar": {
              "outlinewidth": 0,
              "ticks": ""
             }
            },
            "marker": {
             "colorbar": {
              "outlinewidth": 0,
              "ticks": ""
             }
            },
            "type": "scatter3d"
           }
          ],
          "scattercarpet": [
           {
            "marker": {
             "colorbar": {
              "outlinewidth": 0,
              "ticks": ""
             }
            },
            "type": "scattercarpet"
           }
          ],
          "scattergeo": [
           {
            "marker": {
             "colorbar": {
              "outlinewidth": 0,
              "ticks": ""
             }
            },
            "type": "scattergeo"
           }
          ],
          "scattergl": [
           {
            "marker": {
             "colorbar": {
              "outlinewidth": 0,
              "ticks": ""
             }
            },
            "type": "scattergl"
           }
          ],
          "scattermapbox": [
           {
            "marker": {
             "colorbar": {
              "outlinewidth": 0,
              "ticks": ""
             }
            },
            "type": "scattermapbox"
           }
          ],
          "scatterpolar": [
           {
            "marker": {
             "colorbar": {
              "outlinewidth": 0,
              "ticks": ""
             }
            },
            "type": "scatterpolar"
           }
          ],
          "scatterpolargl": [
           {
            "marker": {
             "colorbar": {
              "outlinewidth": 0,
              "ticks": ""
             }
            },
            "type": "scatterpolargl"
           }
          ],
          "scatterternary": [
           {
            "marker": {
             "colorbar": {
              "outlinewidth": 0,
              "ticks": ""
             }
            },
            "type": "scatterternary"
           }
          ],
          "surface": [
           {
            "colorbar": {
             "outlinewidth": 0,
             "ticks": ""
            },
            "colorscale": [
             [
              0,
              "#0d0887"
             ],
             [
              0.1111111111111111,
              "#46039f"
             ],
             [
              0.2222222222222222,
              "#7201a8"
             ],
             [
              0.3333333333333333,
              "#9c179e"
             ],
             [
              0.4444444444444444,
              "#bd3786"
             ],
             [
              0.5555555555555556,
              "#d8576b"
             ],
             [
              0.6666666666666666,
              "#ed7953"
             ],
             [
              0.7777777777777778,
              "#fb9f3a"
             ],
             [
              0.8888888888888888,
              "#fdca26"
             ],
             [
              1,
              "#f0f921"
             ]
            ],
            "type": "surface"
           }
          ],
          "table": [
           {
            "cells": {
             "fill": {
              "color": "#EBF0F8"
             },
             "line": {
              "color": "white"
             }
            },
            "header": {
             "fill": {
              "color": "#C8D4E3"
             },
             "line": {
              "color": "white"
             }
            },
            "type": "table"
           }
          ]
         },
         "layout": {
          "annotationdefaults": {
           "arrowcolor": "#2a3f5f",
           "arrowhead": 0,
           "arrowwidth": 1
          },
          "autotypenumbers": "strict",
          "coloraxis": {
           "colorbar": {
            "outlinewidth": 0,
            "ticks": ""
           }
          },
          "colorscale": {
           "diverging": [
            [
             0,
             "#8e0152"
            ],
            [
             0.1,
             "#c51b7d"
            ],
            [
             0.2,
             "#de77ae"
            ],
            [
             0.3,
             "#f1b6da"
            ],
            [
             0.4,
             "#fde0ef"
            ],
            [
             0.5,
             "#f7f7f7"
            ],
            [
             0.6,
             "#e6f5d0"
            ],
            [
             0.7,
             "#b8e186"
            ],
            [
             0.8,
             "#7fbc41"
            ],
            [
             0.9,
             "#4d9221"
            ],
            [
             1,
             "#276419"
            ]
           ],
           "sequential": [
            [
             0,
             "#0d0887"
            ],
            [
             0.1111111111111111,
             "#46039f"
            ],
            [
             0.2222222222222222,
             "#7201a8"
            ],
            [
             0.3333333333333333,
             "#9c179e"
            ],
            [
             0.4444444444444444,
             "#bd3786"
            ],
            [
             0.5555555555555556,
             "#d8576b"
            ],
            [
             0.6666666666666666,
             "#ed7953"
            ],
            [
             0.7777777777777778,
             "#fb9f3a"
            ],
            [
             0.8888888888888888,
             "#fdca26"
            ],
            [
             1,
             "#f0f921"
            ]
           ],
           "sequentialminus": [
            [
             0,
             "#0d0887"
            ],
            [
             0.1111111111111111,
             "#46039f"
            ],
            [
             0.2222222222222222,
             "#7201a8"
            ],
            [
             0.3333333333333333,
             "#9c179e"
            ],
            [
             0.4444444444444444,
             "#bd3786"
            ],
            [
             0.5555555555555556,
             "#d8576b"
            ],
            [
             0.6666666666666666,
             "#ed7953"
            ],
            [
             0.7777777777777778,
             "#fb9f3a"
            ],
            [
             0.8888888888888888,
             "#fdca26"
            ],
            [
             1,
             "#f0f921"
            ]
           ]
          },
          "colorway": [
           "#636efa",
           "#EF553B",
           "#00cc96",
           "#ab63fa",
           "#FFA15A",
           "#19d3f3",
           "#FF6692",
           "#B6E880",
           "#FF97FF",
           "#FECB52"
          ],
          "font": {
           "color": "#2a3f5f"
          },
          "geo": {
           "bgcolor": "white",
           "lakecolor": "white",
           "landcolor": "#E5ECF6",
           "showlakes": true,
           "showland": true,
           "subunitcolor": "white"
          },
          "hoverlabel": {
           "align": "left"
          },
          "hovermode": "closest",
          "mapbox": {
           "style": "light"
          },
          "paper_bgcolor": "white",
          "plot_bgcolor": "#E5ECF6",
          "polar": {
           "angularaxis": {
            "gridcolor": "white",
            "linecolor": "white",
            "ticks": ""
           },
           "bgcolor": "#E5ECF6",
           "radialaxis": {
            "gridcolor": "white",
            "linecolor": "white",
            "ticks": ""
           }
          },
          "scene": {
           "xaxis": {
            "backgroundcolor": "#E5ECF6",
            "gridcolor": "white",
            "gridwidth": 2,
            "linecolor": "white",
            "showbackground": true,
            "ticks": "",
            "zerolinecolor": "white"
           },
           "yaxis": {
            "backgroundcolor": "#E5ECF6",
            "gridcolor": "white",
            "gridwidth": 2,
            "linecolor": "white",
            "showbackground": true,
            "ticks": "",
            "zerolinecolor": "white"
           },
           "zaxis": {
            "backgroundcolor": "#E5ECF6",
            "gridcolor": "white",
            "gridwidth": 2,
            "linecolor": "white",
            "showbackground": true,
            "ticks": "",
            "zerolinecolor": "white"
           }
          },
          "shapedefaults": {
           "line": {
            "color": "#2a3f5f"
           }
          },
          "ternary": {
           "aaxis": {
            "gridcolor": "white",
            "linecolor": "white",
            "ticks": ""
           },
           "baxis": {
            "gridcolor": "white",
            "linecolor": "white",
            "ticks": ""
           },
           "bgcolor": "#E5ECF6",
           "caxis": {
            "gridcolor": "white",
            "linecolor": "white",
            "ticks": ""
           }
          },
          "title": {
           "x": 0.05
          },
          "xaxis": {
           "automargin": true,
           "gridcolor": "white",
           "linecolor": "white",
           "ticks": "",
           "title": {
            "standoff": 15
           },
           "zerolinecolor": "white",
           "zerolinewidth": 2
          },
          "yaxis": {
           "automargin": true,
           "gridcolor": "white",
           "linecolor": "white",
           "ticks": "",
           "title": {
            "standoff": 15
           },
           "zerolinecolor": "white",
           "zerolinewidth": 2
          }
         }
        },
        "title": {
         "text": "Optimization History Plot"
        },
        "xaxis": {
         "title": {
          "text": "Trial"
         }
        },
        "yaxis": {
         "title": {
          "text": "Objective Value"
         }
        }
       }
      }
     },
     "metadata": {},
     "output_type": "display_data"
    }
   ],
   "source": [
    "# Plot optimization history\n",
    "plot_optimization_history(study)"
   ]
  },
  {
   "cell_type": "code",
   "execution_count": 44,
   "id": "07037d73",
   "metadata": {},
   "outputs": [
    {
     "data": {
      "application/vnd.plotly.v1+json": {
       "config": {
        "plotlyServerURL": "https://plot.ly"
       },
       "data": [
        {
         "cliponaxis": false,
         "hovertemplate": [
          "max_depth (IntDistribution): 0.015605238325077035<extra></extra>",
          "n_estimators (IntDistribution): 0.018987506629115063<extra></extra>",
          "learning_rate (FloatDistribution): 0.16421881498591565<extra></extra>",
          "subsample (FloatDistribution): 0.8011884400598923<extra></extra>"
         ],
         "name": "Objective Value",
         "orientation": "h",
         "text": [
          "0.02",
          "0.02",
          "0.16",
          "0.80"
         ],
         "textposition": "outside",
         "type": "bar",
         "x": [
          0.015605238325077035,
          0.018987506629115063,
          0.16421881498591565,
          0.8011884400598923
         ],
         "y": [
          "max_depth",
          "n_estimators",
          "learning_rate",
          "subsample"
         ]
        }
       ],
       "layout": {
        "template": {
         "data": {
          "bar": [
           {
            "error_x": {
             "color": "#2a3f5f"
            },
            "error_y": {
             "color": "#2a3f5f"
            },
            "marker": {
             "line": {
              "color": "#E5ECF6",
              "width": 0.5
             },
             "pattern": {
              "fillmode": "overlay",
              "size": 10,
              "solidity": 0.2
             }
            },
            "type": "bar"
           }
          ],
          "barpolar": [
           {
            "marker": {
             "line": {
              "color": "#E5ECF6",
              "width": 0.5
             },
             "pattern": {
              "fillmode": "overlay",
              "size": 10,
              "solidity": 0.2
             }
            },
            "type": "barpolar"
           }
          ],
          "carpet": [
           {
            "aaxis": {
             "endlinecolor": "#2a3f5f",
             "gridcolor": "white",
             "linecolor": "white",
             "minorgridcolor": "white",
             "startlinecolor": "#2a3f5f"
            },
            "baxis": {
             "endlinecolor": "#2a3f5f",
             "gridcolor": "white",
             "linecolor": "white",
             "minorgridcolor": "white",
             "startlinecolor": "#2a3f5f"
            },
            "type": "carpet"
           }
          ],
          "choropleth": [
           {
            "colorbar": {
             "outlinewidth": 0,
             "ticks": ""
            },
            "type": "choropleth"
           }
          ],
          "contour": [
           {
            "colorbar": {
             "outlinewidth": 0,
             "ticks": ""
            },
            "colorscale": [
             [
              0,
              "#0d0887"
             ],
             [
              0.1111111111111111,
              "#46039f"
             ],
             [
              0.2222222222222222,
              "#7201a8"
             ],
             [
              0.3333333333333333,
              "#9c179e"
             ],
             [
              0.4444444444444444,
              "#bd3786"
             ],
             [
              0.5555555555555556,
              "#d8576b"
             ],
             [
              0.6666666666666666,
              "#ed7953"
             ],
             [
              0.7777777777777778,
              "#fb9f3a"
             ],
             [
              0.8888888888888888,
              "#fdca26"
             ],
             [
              1,
              "#f0f921"
             ]
            ],
            "type": "contour"
           }
          ],
          "contourcarpet": [
           {
            "colorbar": {
             "outlinewidth": 0,
             "ticks": ""
            },
            "type": "contourcarpet"
           }
          ],
          "heatmap": [
           {
            "colorbar": {
             "outlinewidth": 0,
             "ticks": ""
            },
            "colorscale": [
             [
              0,
              "#0d0887"
             ],
             [
              0.1111111111111111,
              "#46039f"
             ],
             [
              0.2222222222222222,
              "#7201a8"
             ],
             [
              0.3333333333333333,
              "#9c179e"
             ],
             [
              0.4444444444444444,
              "#bd3786"
             ],
             [
              0.5555555555555556,
              "#d8576b"
             ],
             [
              0.6666666666666666,
              "#ed7953"
             ],
             [
              0.7777777777777778,
              "#fb9f3a"
             ],
             [
              0.8888888888888888,
              "#fdca26"
             ],
             [
              1,
              "#f0f921"
             ]
            ],
            "type": "heatmap"
           }
          ],
          "heatmapgl": [
           {
            "colorbar": {
             "outlinewidth": 0,
             "ticks": ""
            },
            "colorscale": [
             [
              0,
              "#0d0887"
             ],
             [
              0.1111111111111111,
              "#46039f"
             ],
             [
              0.2222222222222222,
              "#7201a8"
             ],
             [
              0.3333333333333333,
              "#9c179e"
             ],
             [
              0.4444444444444444,
              "#bd3786"
             ],
             [
              0.5555555555555556,
              "#d8576b"
             ],
             [
              0.6666666666666666,
              "#ed7953"
             ],
             [
              0.7777777777777778,
              "#fb9f3a"
             ],
             [
              0.8888888888888888,
              "#fdca26"
             ],
             [
              1,
              "#f0f921"
             ]
            ],
            "type": "heatmapgl"
           }
          ],
          "histogram": [
           {
            "marker": {
             "pattern": {
              "fillmode": "overlay",
              "size": 10,
              "solidity": 0.2
             }
            },
            "type": "histogram"
           }
          ],
          "histogram2d": [
           {
            "colorbar": {
             "outlinewidth": 0,
             "ticks": ""
            },
            "colorscale": [
             [
              0,
              "#0d0887"
             ],
             [
              0.1111111111111111,
              "#46039f"
             ],
             [
              0.2222222222222222,
              "#7201a8"
             ],
             [
              0.3333333333333333,
              "#9c179e"
             ],
             [
              0.4444444444444444,
              "#bd3786"
             ],
             [
              0.5555555555555556,
              "#d8576b"
             ],
             [
              0.6666666666666666,
              "#ed7953"
             ],
             [
              0.7777777777777778,
              "#fb9f3a"
             ],
             [
              0.8888888888888888,
              "#fdca26"
             ],
             [
              1,
              "#f0f921"
             ]
            ],
            "type": "histogram2d"
           }
          ],
          "histogram2dcontour": [
           {
            "colorbar": {
             "outlinewidth": 0,
             "ticks": ""
            },
            "colorscale": [
             [
              0,
              "#0d0887"
             ],
             [
              0.1111111111111111,
              "#46039f"
             ],
             [
              0.2222222222222222,
              "#7201a8"
             ],
             [
              0.3333333333333333,
              "#9c179e"
             ],
             [
              0.4444444444444444,
              "#bd3786"
             ],
             [
              0.5555555555555556,
              "#d8576b"
             ],
             [
              0.6666666666666666,
              "#ed7953"
             ],
             [
              0.7777777777777778,
              "#fb9f3a"
             ],
             [
              0.8888888888888888,
              "#fdca26"
             ],
             [
              1,
              "#f0f921"
             ]
            ],
            "type": "histogram2dcontour"
           }
          ],
          "mesh3d": [
           {
            "colorbar": {
             "outlinewidth": 0,
             "ticks": ""
            },
            "type": "mesh3d"
           }
          ],
          "parcoords": [
           {
            "line": {
             "colorbar": {
              "outlinewidth": 0,
              "ticks": ""
             }
            },
            "type": "parcoords"
           }
          ],
          "pie": [
           {
            "automargin": true,
            "type": "pie"
           }
          ],
          "scatter": [
           {
            "fillpattern": {
             "fillmode": "overlay",
             "size": 10,
             "solidity": 0.2
            },
            "type": "scatter"
           }
          ],
          "scatter3d": [
           {
            "line": {
             "colorbar": {
              "outlinewidth": 0,
              "ticks": ""
             }
            },
            "marker": {
             "colorbar": {
              "outlinewidth": 0,
              "ticks": ""
             }
            },
            "type": "scatter3d"
           }
          ],
          "scattercarpet": [
           {
            "marker": {
             "colorbar": {
              "outlinewidth": 0,
              "ticks": ""
             }
            },
            "type": "scattercarpet"
           }
          ],
          "scattergeo": [
           {
            "marker": {
             "colorbar": {
              "outlinewidth": 0,
              "ticks": ""
             }
            },
            "type": "scattergeo"
           }
          ],
          "scattergl": [
           {
            "marker": {
             "colorbar": {
              "outlinewidth": 0,
              "ticks": ""
             }
            },
            "type": "scattergl"
           }
          ],
          "scattermapbox": [
           {
            "marker": {
             "colorbar": {
              "outlinewidth": 0,
              "ticks": ""
             }
            },
            "type": "scattermapbox"
           }
          ],
          "scatterpolar": [
           {
            "marker": {
             "colorbar": {
              "outlinewidth": 0,
              "ticks": ""
             }
            },
            "type": "scatterpolar"
           }
          ],
          "scatterpolargl": [
           {
            "marker": {
             "colorbar": {
              "outlinewidth": 0,
              "ticks": ""
             }
            },
            "type": "scatterpolargl"
           }
          ],
          "scatterternary": [
           {
            "marker": {
             "colorbar": {
              "outlinewidth": 0,
              "ticks": ""
             }
            },
            "type": "scatterternary"
           }
          ],
          "surface": [
           {
            "colorbar": {
             "outlinewidth": 0,
             "ticks": ""
            },
            "colorscale": [
             [
              0,
              "#0d0887"
             ],
             [
              0.1111111111111111,
              "#46039f"
             ],
             [
              0.2222222222222222,
              "#7201a8"
             ],
             [
              0.3333333333333333,
              "#9c179e"
             ],
             [
              0.4444444444444444,
              "#bd3786"
             ],
             [
              0.5555555555555556,
              "#d8576b"
             ],
             [
              0.6666666666666666,
              "#ed7953"
             ],
             [
              0.7777777777777778,
              "#fb9f3a"
             ],
             [
              0.8888888888888888,
              "#fdca26"
             ],
             [
              1,
              "#f0f921"
             ]
            ],
            "type": "surface"
           }
          ],
          "table": [
           {
            "cells": {
             "fill": {
              "color": "#EBF0F8"
             },
             "line": {
              "color": "white"
             }
            },
            "header": {
             "fill": {
              "color": "#C8D4E3"
             },
             "line": {
              "color": "white"
             }
            },
            "type": "table"
           }
          ]
         },
         "layout": {
          "annotationdefaults": {
           "arrowcolor": "#2a3f5f",
           "arrowhead": 0,
           "arrowwidth": 1
          },
          "autotypenumbers": "strict",
          "coloraxis": {
           "colorbar": {
            "outlinewidth": 0,
            "ticks": ""
           }
          },
          "colorscale": {
           "diverging": [
            [
             0,
             "#8e0152"
            ],
            [
             0.1,
             "#c51b7d"
            ],
            [
             0.2,
             "#de77ae"
            ],
            [
             0.3,
             "#f1b6da"
            ],
            [
             0.4,
             "#fde0ef"
            ],
            [
             0.5,
             "#f7f7f7"
            ],
            [
             0.6,
             "#e6f5d0"
            ],
            [
             0.7,
             "#b8e186"
            ],
            [
             0.8,
             "#7fbc41"
            ],
            [
             0.9,
             "#4d9221"
            ],
            [
             1,
             "#276419"
            ]
           ],
           "sequential": [
            [
             0,
             "#0d0887"
            ],
            [
             0.1111111111111111,
             "#46039f"
            ],
            [
             0.2222222222222222,
             "#7201a8"
            ],
            [
             0.3333333333333333,
             "#9c179e"
            ],
            [
             0.4444444444444444,
             "#bd3786"
            ],
            [
             0.5555555555555556,
             "#d8576b"
            ],
            [
             0.6666666666666666,
             "#ed7953"
            ],
            [
             0.7777777777777778,
             "#fb9f3a"
            ],
            [
             0.8888888888888888,
             "#fdca26"
            ],
            [
             1,
             "#f0f921"
            ]
           ],
           "sequentialminus": [
            [
             0,
             "#0d0887"
            ],
            [
             0.1111111111111111,
             "#46039f"
            ],
            [
             0.2222222222222222,
             "#7201a8"
            ],
            [
             0.3333333333333333,
             "#9c179e"
            ],
            [
             0.4444444444444444,
             "#bd3786"
            ],
            [
             0.5555555555555556,
             "#d8576b"
            ],
            [
             0.6666666666666666,
             "#ed7953"
            ],
            [
             0.7777777777777778,
             "#fb9f3a"
            ],
            [
             0.8888888888888888,
             "#fdca26"
            ],
            [
             1,
             "#f0f921"
            ]
           ]
          },
          "colorway": [
           "#636efa",
           "#EF553B",
           "#00cc96",
           "#ab63fa",
           "#FFA15A",
           "#19d3f3",
           "#FF6692",
           "#B6E880",
           "#FF97FF",
           "#FECB52"
          ],
          "font": {
           "color": "#2a3f5f"
          },
          "geo": {
           "bgcolor": "white",
           "lakecolor": "white",
           "landcolor": "#E5ECF6",
           "showlakes": true,
           "showland": true,
           "subunitcolor": "white"
          },
          "hoverlabel": {
           "align": "left"
          },
          "hovermode": "closest",
          "mapbox": {
           "style": "light"
          },
          "paper_bgcolor": "white",
          "plot_bgcolor": "#E5ECF6",
          "polar": {
           "angularaxis": {
            "gridcolor": "white",
            "linecolor": "white",
            "ticks": ""
           },
           "bgcolor": "#E5ECF6",
           "radialaxis": {
            "gridcolor": "white",
            "linecolor": "white",
            "ticks": ""
           }
          },
          "scene": {
           "xaxis": {
            "backgroundcolor": "#E5ECF6",
            "gridcolor": "white",
            "gridwidth": 2,
            "linecolor": "white",
            "showbackground": true,
            "ticks": "",
            "zerolinecolor": "white"
           },
           "yaxis": {
            "backgroundcolor": "#E5ECF6",
            "gridcolor": "white",
            "gridwidth": 2,
            "linecolor": "white",
            "showbackground": true,
            "ticks": "",
            "zerolinecolor": "white"
           },
           "zaxis": {
            "backgroundcolor": "#E5ECF6",
            "gridcolor": "white",
            "gridwidth": 2,
            "linecolor": "white",
            "showbackground": true,
            "ticks": "",
            "zerolinecolor": "white"
           }
          },
          "shapedefaults": {
           "line": {
            "color": "#2a3f5f"
           }
          },
          "ternary": {
           "aaxis": {
            "gridcolor": "white",
            "linecolor": "white",
            "ticks": ""
           },
           "baxis": {
            "gridcolor": "white",
            "linecolor": "white",
            "ticks": ""
           },
           "bgcolor": "#E5ECF6",
           "caxis": {
            "gridcolor": "white",
            "linecolor": "white",
            "ticks": ""
           }
          },
          "title": {
           "x": 0.05
          },
          "xaxis": {
           "automargin": true,
           "gridcolor": "white",
           "linecolor": "white",
           "ticks": "",
           "title": {
            "standoff": 15
           },
           "zerolinecolor": "white",
           "zerolinewidth": 2
          },
          "yaxis": {
           "automargin": true,
           "gridcolor": "white",
           "linecolor": "white",
           "ticks": "",
           "title": {
            "standoff": 15
           },
           "zerolinecolor": "white",
           "zerolinewidth": 2
          }
         }
        },
        "title": {
         "text": "Hyperparameter Importances"
        },
        "xaxis": {
         "title": {
          "text": "Hyperparameter Importance"
         }
        },
        "yaxis": {
         "title": {
          "text": "Hyperparameter"
         }
        }
       }
      }
     },
     "metadata": {},
     "output_type": "display_data"
    }
   ],
   "source": [
    "# Plot parameter importances\n",
    "plot_param_importances(study)"
   ]
  },
  {
   "cell_type": "code",
   "execution_count": 45,
   "id": "e8f4d4d6",
   "metadata": {},
   "outputs": [
    {
     "name": "stdout",
     "output_type": "stream",
     "text": [
      "        n_estimators : 118\n",
      "       learning_rate : 0.4844716464995629\n",
      "           max_depth : 3\n",
      "           subsample : 0.28936081663569\n",
      "best objective value : 0.7300546382458467\n"
     ]
    }
   ],
   "source": [
    "hp = study.best_params\n",
    "\n",
    "for key, value in hp.items():\n",
    "    print(f\"{key:>20s} : {value}\")\n",
    "print(f\"{'best objective value':>20s} : {study.best_value}\")\n",
    "\n",
    "hp[\"verbosity\"] = 0\n",
    "hp[\"objective\"] = \"reg:squarederror\"\n",
    "hp[\"tree_method\"] = \"hist\"\n",
    "hp[\"seed\"] = RS\n",
    "hp[\"n_jobs\"] = N_JOBS"
   ]
  },
  {
   "cell_type": "code",
   "execution_count": 46,
   "id": "d1c07beb",
   "metadata": {},
   "outputs": [],
   "source": [
    "model = xgb.XGBRegressor(**hp, eval_metric=\"rmse\",early_stopping_rounds = EARLY_STOPPING_ROUNDS)\n",
    "rkf = RepeatedKFold(n_splits=N_SPLITS, n_repeats=N_REPEATS, random_state=RS)\n",
    "X_values = X_train.values\n",
    "y_values = y_train.values\n",
    "y_pred = np.zeros_like(y_test.values)\n",
    "for train_index, test_index in rkf.split(X_values):\n",
    "    X_A, X_B = X_values[train_index, :], X_values[test_index, :]\n",
    "    y_A, y_B = y_values[train_index], y_values[test_index]\n",
    "    model.fit(\n",
    "        X_A,\n",
    "        y_A,\n",
    "        eval_set=[(X_B, y_B)],\n",
    "        verbose=0,\n",
    "    )\n",
    "    y_pred += model.predict(X_test.values)\n",
    "y_pred /= N_REPEATS * N_SPLITS"
   ]
  },
  {
   "cell_type": "code",
   "execution_count": 47,
   "id": "0a3b1923",
   "metadata": {},
   "outputs": [],
   "source": [
    "score, mse = r2_score(y_true=y_test, y_pred=y_pred), mean_squared_error(y_true=y_test, y_pred=y_pred)"
   ]
  },
  {
   "cell_type": "code",
   "execution_count": 48,
   "id": "233330a8",
   "metadata": {},
   "outputs": [
    {
     "data": {
      "image/png": "[encoded data removed]",
      "text/plain": [
       "<Figure size 1044.62x1044.62 with 1 Axes>"
      ]
     },
     "metadata": {},
     "output_type": "display_data"
    }
   ],
   "source": [
    "from sklearn.metrics import PredictionErrorDisplay\n",
    "\n",
    "figsize= (15.5/2*cm, 15.5/2*cm)\n",
    "figsize=(15.92/3*cm, 15.92/3*cm)\n",
    "\n",
    "y_true = y_test\n",
    "y_pred = pd.DataFrame(y_pred)\n",
    "\n",
    "\n",
    "# Define plot structure\n",
    "fig, axs = plt.subplots(nrows=1, ncols=1, figsize=figsize, dpi=500)\n",
    "\n",
    "ped = PredictionErrorDisplay.from_predictions(y_true=y_true,\n",
    "                                            y_pred=y_pred,\n",
    "                                            kind=\"actual_vs_predicted\",\n",
    "                                            subsample=100000,\n",
    "                                            ax=axs,\n",
    "                                            random_state=0, \n",
    "                                            line_kwargs={\"color\": \"black\", \"linewidth\": 0.75, \"linestyle\": \"--\", \"alpha\": 1},)\n",
    "\n",
    "ped.ax_.set_xlabel(\"\")  # Set x label\n",
    "ped.ax_.set_ylabel(\"\")  # Set y label\n",
    "\n",
    "xlim, ylim = axis_limit[j][0], axis_limit[j][1]/2\n",
    "\n",
    "ped.ax_.set_xticks(np.arange(xlim, ylim+0.001, (ylim-xlim)/4))\n",
    "ped.ax_.set_yticks(np.arange(xlim, ylim+0.001, (ylim-xlim)/4))\n",
    "# ped.ax_.set_xlim(xlim+0.001, ylim-0.001)\n",
    "# ped.ax_.set_ylim(xlim+0.001, ylim-0.001)\n",
    "\n",
    "\n",
    "ped.ax_.grid(linewidth = 0.5, linestyle = 'dotted')\n",
    "\n",
    "scatter = ped.figure_.axes[0].collections[0]\n",
    "scatter.set_color('black')  \n",
    "scatter.set_sizes([5]) \n",
    "scatter.set_alpha([0.5]) \n",
    "\n",
    "# plt.title(f'{investigated_column_plot}: $R^2$ = {score:.2f}, $MSE$ = {mse:.2f}', x = 0.41, y=1.02)\n",
    "plt.title(f'{investigated_column_plot}: $R^2$ = {score:.2f}', x = 0.5, y=1.02)\n",
    "\n",
    "\n",
    "ax = ped.ax_\n",
    "ax.set_xticks(ax.get_xticks())\n",
    "ax.tick_params(axis='x', rotation=0)\n",
    "\n",
    "fig.text(0.55, 0.03, r'$\\leftarrow$     Predicted data     $\\rightarrow$', ha='center', va='center')\n",
    "fig.text(0.04, 0.5, r'$\\leftarrow$     Actual data     $\\rightarrow$', ha='center', va='center', rotation='vertical')\n",
    "\n",
    "plt.subplots_adjust(left=0.23, right=0.91, top=0.88, bottom=0.20, wspace=0.5, hspace=0.5)\n",
    "plt.savefig(save_path, dpi=1000)"
   ]
  },
  {
   "cell_type": "code",
   "execution_count": 49,
   "id": "76e33465",
   "metadata": {},
   "outputs": [
    {
     "data": {
      "text/plain": [
       "['3_M_prediction_xgb_model.joblib']"
      ]
     },
     "execution_count": 49,
     "metadata": {},
     "output_type": "execute_result"
    }
   ],
   "source": [
    "# Save the model using joblib or pickle\n",
    "import joblib\n",
    "\n",
    "# Fit the model on the entire dataset with the best hyperparameters\n",
    "final_model = xgb.XGBRegressor(**hp, eval_metric=\"rmse\", random_state=RS)\n",
    "\n",
    "# Fit the model on the entire dataset\n",
    "final_model.fit(X, y)\n",
    "\n",
    "name = save_path.split('\\\\')[-1].split('.')[0]\n",
    "joblib.dump(final_model, f'{name}_xgb_model.joblib')\n"
   ]
  }
 ],
 "metadata": {
  "kernelspec": {
   "display_name": "DataDriven",
   "language": "python",
   "name": "python3"
  },
  "language_info": {
   "codemirror_mode": {
    "name": "ipython",
    "version": 3
   },
   "file_extension": ".py",
   "mimetype": "text/x-python",
   "name": "python",
   "nbconvert_exporter": "python",
   "pygments_lexer": "ipython3",
   "version": "3.11.1"
  }
 },
 "nbformat": 4,
 "nbformat_minor": 5
}
