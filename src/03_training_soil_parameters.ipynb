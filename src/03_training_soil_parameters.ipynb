{
 "cells": [
  {
   "cell_type": "code",
   "execution_count": 1,
   "id": "a5eb73a0-65aa-4212-bdb2-e36662cd5cbe",
   "metadata": {},
   "outputs": [
    {
     "name": "stderr",
     "output_type": "stream",
     "text": [
      "c:\\Users\\haris\\Documents\\GitHub\\ISGSR25_DataDrivenSiteCharacterization\\DataDriven\\Lib\\site-packages\\tqdm\\auto.py:21: TqdmWarning: IProgress not found. Please update jupyter and ipywidgets. See https://ipywidgets.readthedocs.io/en/stable/user_install.html\n",
      "  from .autonotebook import tqdm as notebook_tqdm\n"
     ]
    }
   ],
   "source": [
    "#Import packages\n",
    "import pandas as pd\n",
    "import numpy as np\n",
    "import glob\n",
    "\n",
    "from functions import plotting_raw_data, remove_outliers, error_plot, plot_cpt_data, plot_cpt_data_ML_prediction, plot_cpt_data_NW_site\n",
    "\n",
    "import matplotlib.pyplot as plt\n",
    "from sklearn.model_selection import train_test_split\n",
    "from sklearn.metrics import r2_score, mean_squared_error\n",
    "from sklearn.model_selection import cross_val_score\n",
    "from sklearn.model_selection import train_test_split\n",
    "from sklearn.model_selection import RepeatedKFold\n",
    "from sklearn.metrics import r2_score\n",
    "import xgboost as xgb\n",
    "\n",
    "import optuna\n",
    "from optuna.samplers import TPESampler\n",
    "from optuna.visualization import plot_param_importances, plot_optimization_history"
   ]
  },
  {
   "cell_type": "code",
   "execution_count": 2,
   "id": "bd41e89e-74ac-41a5-94e1-1a64f2c713e4",
   "metadata": {},
   "outputs": [],
   "source": [
    "######################## Define the text size of each plot globally ###########\n",
    "SMALL_SIZE = 10\n",
    "BIGGER_SIZE = 10\n",
    "\n",
    "plt.rc('font', size=SMALL_SIZE)          # controls default text sizes\n",
    "plt.rc('axes', titlesize=SMALL_SIZE)     # fontsize of the axes title\n",
    "plt.rc('axes', labelsize=SMALL_SIZE)    # fontsize of the x and y labels\n",
    "plt.rc('xtick', labelsize=SMALL_SIZE)    # fontsize of the tick labels\n",
    "plt.rc('ytick', labelsize=SMALL_SIZE)    # fontsize of the tick labels\n",
    "plt.rc('legend', fontsize=SMALL_SIZE)    # legend fontsize\n",
    "plt.rc('figure', titlesize=BIGGER_SIZE)  # fontsize of the figure title\n",
    "\n",
    "plt.rcParams[\"font.family\"] = \"Times New Roman\"\n",
    "cm = 1/2.54  # centimeters in inches"
   ]
  },
  {
   "cell_type": "code",
   "execution_count": 3,
   "id": "583fdc51",
   "metadata": {},
   "outputs": [
    {
     "data": {
      "text/html": [
       "<div>\n",
       "<style scoped>\n",
       "    .dataframe tbody tr th:only-of-type {\n",
       "        vertical-align: middle;\n",
       "    }\n",
       "\n",
       "    .dataframe tbody tr th {\n",
       "        vertical-align: top;\n",
       "    }\n",
       "\n",
       "    .dataframe thead th {\n",
       "        text-align: right;\n",
       "    }\n",
       "</style>\n",
       "<table border=\"1\" class=\"dataframe\">\n",
       "  <thead>\n",
       "    <tr style=\"text-align: right;\">\n",
       "      <th></th>\n",
       "      <th>Depth (m)</th>\n",
       "      <th>qc (MPa)</th>\n",
       "      <th>fs (kPa)</th>\n",
       "      <th>Rf (%)</th>\n",
       "      <th>u2 (kPa)</th>\n",
       "      <th>gamma (kN/m3)</th>\n",
       "      <th>M (MN/m2)</th>\n",
       "      <th>OCR (-)</th>\n",
       "      <th>su (kPa)</th>\n",
       "      <th>sampling_name(-)</th>\n",
       "    </tr>\n",
       "  </thead>\n",
       "  <tbody>\n",
       "    <tr>\n",
       "      <th>0</th>\n",
       "      <td>0.79</td>\n",
       "      <td>0.153000</td>\n",
       "      <td>5.333333</td>\n",
       "      <td>3.485839</td>\n",
       "      <td>14.888889</td>\n",
       "      <td>16.410000</td>\n",
       "      <td>1.554000</td>\n",
       "      <td>4.123596</td>\n",
       "      <td>NaN</td>\n",
       "      <td>Ballina_Inclo 2</td>\n",
       "    </tr>\n",
       "    <tr>\n",
       "      <th>1</th>\n",
       "      <td>1.76</td>\n",
       "      <td>0.158000</td>\n",
       "      <td>8.111111</td>\n",
       "      <td>5.133615</td>\n",
       "      <td>45.777778</td>\n",
       "      <td>16.240000</td>\n",
       "      <td>NaN</td>\n",
       "      <td>NaN</td>\n",
       "      <td>9.4</td>\n",
       "      <td>Ballina_Inclo 2</td>\n",
       "    </tr>\n",
       "    <tr>\n",
       "      <th>2</th>\n",
       "      <td>1.86</td>\n",
       "      <td>0.159222</td>\n",
       "      <td>7.444444</td>\n",
       "      <td>4.675506</td>\n",
       "      <td>56.444444</td>\n",
       "      <td>16.420000</td>\n",
       "      <td>2.843000</td>\n",
       "      <td>3.264286</td>\n",
       "      <td>NaN</td>\n",
       "      <td>Ballina_Inclo 2</td>\n",
       "    </tr>\n",
       "    <tr>\n",
       "      <th>3</th>\n",
       "      <td>1.96</td>\n",
       "      <td>0.149333</td>\n",
       "      <td>7.111111</td>\n",
       "      <td>4.761905</td>\n",
       "      <td>82.222222</td>\n",
       "      <td>16.150000</td>\n",
       "      <td>NaN</td>\n",
       "      <td>NaN</td>\n",
       "      <td>12.3</td>\n",
       "      <td>Ballina_Inclo 2</td>\n",
       "    </tr>\n",
       "    <tr>\n",
       "      <th>4</th>\n",
       "      <td>2.27</td>\n",
       "      <td>0.176000</td>\n",
       "      <td>7.000000</td>\n",
       "      <td>3.977273</td>\n",
       "      <td>101.444444</td>\n",
       "      <td>15.800000</td>\n",
       "      <td>1.303000</td>\n",
       "      <td>2.182143</td>\n",
       "      <td>NaN</td>\n",
       "      <td>Ballina_Inclo 2</td>\n",
       "    </tr>\n",
       "    <tr>\n",
       "      <th>...</th>\n",
       "      <td>...</td>\n",
       "      <td>...</td>\n",
       "      <td>...</td>\n",
       "      <td>...</td>\n",
       "      <td>...</td>\n",
       "      <td>...</td>\n",
       "      <td>...</td>\n",
       "      <td>...</td>\n",
       "      <td>...</td>\n",
       "      <td>...</td>\n",
       "    </tr>\n",
       "    <tr>\n",
       "      <th>378</th>\n",
       "      <td>12.90</td>\n",
       "      <td>0.690000</td>\n",
       "      <td>9.500000</td>\n",
       "      <td>1.376812</td>\n",
       "      <td>372.500000</td>\n",
       "      <td>17.576633</td>\n",
       "      <td>3.342717</td>\n",
       "      <td>1.013250</td>\n",
       "      <td>NaN</td>\n",
       "      <td>PITS_Rhesi_KB02</td>\n",
       "    </tr>\n",
       "    <tr>\n",
       "      <th>379</th>\n",
       "      <td>12.90</td>\n",
       "      <td>0.690000</td>\n",
       "      <td>9.500000</td>\n",
       "      <td>1.376812</td>\n",
       "      <td>372.500000</td>\n",
       "      <td>17.924784</td>\n",
       "      <td>NaN</td>\n",
       "      <td>NaN</td>\n",
       "      <td>NaN</td>\n",
       "      <td>PITS_Rhesi_KB02</td>\n",
       "    </tr>\n",
       "    <tr>\n",
       "      <th>380</th>\n",
       "      <td>12.90</td>\n",
       "      <td>0.690000</td>\n",
       "      <td>9.500000</td>\n",
       "      <td>1.376812</td>\n",
       "      <td>372.500000</td>\n",
       "      <td>17.924784</td>\n",
       "      <td>4.504654</td>\n",
       "      <td>1.208106</td>\n",
       "      <td>NaN</td>\n",
       "      <td>PITS_Rhesi_KB02</td>\n",
       "    </tr>\n",
       "    <tr>\n",
       "      <th>381</th>\n",
       "      <td>4.80</td>\n",
       "      <td>0.480000</td>\n",
       "      <td>8.800000</td>\n",
       "      <td>1.833333</td>\n",
       "      <td>310.500000</td>\n",
       "      <td>17.924784</td>\n",
       "      <td>0.902065</td>\n",
       "      <td>NaN</td>\n",
       "      <td>NaN</td>\n",
       "      <td>PITS_Seekirchen_BS01</td>\n",
       "    </tr>\n",
       "    <tr>\n",
       "      <th>382</th>\n",
       "      <td>4.80</td>\n",
       "      <td>0.480000</td>\n",
       "      <td>8.800000</td>\n",
       "      <td>1.833333</td>\n",
       "      <td>310.500000</td>\n",
       "      <td>17.800000</td>\n",
       "      <td>NaN</td>\n",
       "      <td>NaN</td>\n",
       "      <td>NaN</td>\n",
       "      <td>PITS_Seekirchen_BS01</td>\n",
       "    </tr>\n",
       "  </tbody>\n",
       "</table>\n",
       "<p>383 rows × 10 columns</p>\n",
       "</div>"
      ],
      "text/plain": [
       "     Depth (m)  qc (MPa)  fs (kPa)    Rf (%)    u2 (kPa)  gamma (kN/m3)  \\\n",
       "0         0.79  0.153000  5.333333  3.485839   14.888889      16.410000   \n",
       "1         1.76  0.158000  8.111111  5.133615   45.777778      16.240000   \n",
       "2         1.86  0.159222  7.444444  4.675506   56.444444      16.420000   \n",
       "3         1.96  0.149333  7.111111  4.761905   82.222222      16.150000   \n",
       "4         2.27  0.176000  7.000000  3.977273  101.444444      15.800000   \n",
       "..         ...       ...       ...       ...         ...            ...   \n",
       "378      12.90  0.690000  9.500000  1.376812  372.500000      17.576633   \n",
       "379      12.90  0.690000  9.500000  1.376812  372.500000      17.924784   \n",
       "380      12.90  0.690000  9.500000  1.376812  372.500000      17.924784   \n",
       "381       4.80  0.480000  8.800000  1.833333  310.500000      17.924784   \n",
       "382       4.80  0.480000  8.800000  1.833333  310.500000      17.800000   \n",
       "\n",
       "     M (MN/m2)   OCR (-)  su (kPa)      sampling_name(-)  \n",
       "0     1.554000  4.123596       NaN       Ballina_Inclo 2  \n",
       "1          NaN       NaN       9.4       Ballina_Inclo 2  \n",
       "2     2.843000  3.264286       NaN       Ballina_Inclo 2  \n",
       "3          NaN       NaN      12.3       Ballina_Inclo 2  \n",
       "4     1.303000  2.182143       NaN       Ballina_Inclo 2  \n",
       "..         ...       ...       ...                   ...  \n",
       "378   3.342717  1.013250       NaN       PITS_Rhesi_KB02  \n",
       "379        NaN       NaN       NaN       PITS_Rhesi_KB02  \n",
       "380   4.504654  1.208106       NaN       PITS_Rhesi_KB02  \n",
       "381   0.902065       NaN       NaN  PITS_Seekirchen_BS01  \n",
       "382        NaN       NaN       NaN  PITS_Seekirchen_BS01  \n",
       "\n",
       "[383 rows x 10 columns]"
      ]
     },
     "execution_count": 3,
     "metadata": {},
     "output_type": "execute_result"
    }
   ],
   "source": [
    "data_ML = pd.read_csv('..\\data\\database_preprocessed.csv')\n",
    "data_ML"
   ]
  },
  {
   "cell_type": "code",
   "execution_count": 4,
   "id": "5a040bcd",
   "metadata": {},
   "outputs": [
    {
     "name": "stdout",
     "output_type": "stream",
     "text": [
      "M (MN/m2) is selected to predict, M (MN/m$^2$) is plotted, ..\\graphics\\\\3_M_prediction.png is saved, (0, 20) is the axis limit, 114 is the length of the data\n"
     ]
    }
   ],
   "source": [
    "prefix = r'..\\graphics\\\\'\n",
    "investigated_column =  ['gamma (kN/m3)', 'su (kPa)', 'M (MN/m2)', 'OCR (-)']\n",
    "investigated_column_plot =  ['$\\gamma$ (kN/m$^3$)', '$s_u$ (kPa)', 'M (MN/m$^2$)', 'OCR (-)']\n",
    "save_paths = [prefix + '1_gamma_prediction.png', prefix + '2_su_prediction.png', prefix + '3_M_prediction.png']\n",
    "axis_limit = [(13, 22), (0, 200), (0, 20), (0,20)]\n",
    "\n",
    "j = 2\n",
    "investigated_column_plot = investigated_column_plot[j]\n",
    "investigated_column = investigated_column[j]\n",
    "save_path = save_paths[j]\n",
    "\n",
    "data_ML = data_ML.dropna(subset=[investigated_column])\n",
    "print(f\"{investigated_column} is selected to predict, {investigated_column_plot} is plotted, {save_path} is saved, {axis_limit[j]} is the axis limit, {len(data_ML)} is the length of the data\")\n",
    "\n",
    "columns_x = ['Depth (m)','qc (MPa)', 'fs (kPa)','Rf (%)'] #for Machine learning features\n",
    "plot_columns_x_label = ['Depth (m)','$q_c$ (MPa)', '$f_s$ (kPa)','$R_f$ (%)'] #for plotting purpose\n",
    "\n",
    "X = data_ML.loc[:,columns_x]\n",
    "y = data_ML[investigated_column]\n",
    "\n",
    "X_train, X_test, y_train, y_test = train_test_split(X, y, test_size=0.20, random_state=42)"
   ]
  },
  {
   "cell_type": "code",
   "execution_count": 5,
   "id": "bcd50316",
   "metadata": {},
   "outputs": [
    {
     "data": {
      "text/html": [
       "<div>\n",
       "<style scoped>\n",
       "    .dataframe tbody tr th:only-of-type {\n",
       "        vertical-align: middle;\n",
       "    }\n",
       "\n",
       "    .dataframe tbody tr th {\n",
       "        vertical-align: top;\n",
       "    }\n",
       "\n",
       "    .dataframe thead th {\n",
       "        text-align: right;\n",
       "    }\n",
       "</style>\n",
       "<table border=\"1\" class=\"dataframe\">\n",
       "  <thead>\n",
       "    <tr style=\"text-align: right;\">\n",
       "      <th></th>\n",
       "      <th>Depth (m)</th>\n",
       "      <th>qc (MPa)</th>\n",
       "      <th>fs (kPa)</th>\n",
       "      <th>Rf (%)</th>\n",
       "      <th>u2 (kPa)</th>\n",
       "      <th>gamma (kN/m3)</th>\n",
       "      <th>M (MN/m2)</th>\n",
       "      <th>OCR (-)</th>\n",
       "      <th>su (kPa)</th>\n",
       "      <th>sampling_name(-)</th>\n",
       "    </tr>\n",
       "  </thead>\n",
       "  <tbody>\n",
       "    <tr>\n",
       "      <th>0</th>\n",
       "      <td>0.790</td>\n",
       "      <td>0.153000</td>\n",
       "      <td>5.333333</td>\n",
       "      <td>3.485839</td>\n",
       "      <td>14.888889</td>\n",
       "      <td>16.410000</td>\n",
       "      <td>1.554000</td>\n",
       "      <td>4.123596</td>\n",
       "      <td>NaN</td>\n",
       "      <td>Ballina_Inclo 2</td>\n",
       "    </tr>\n",
       "    <tr>\n",
       "      <th>2</th>\n",
       "      <td>1.860</td>\n",
       "      <td>0.159222</td>\n",
       "      <td>7.444444</td>\n",
       "      <td>4.675506</td>\n",
       "      <td>56.444444</td>\n",
       "      <td>16.420000</td>\n",
       "      <td>2.843000</td>\n",
       "      <td>3.264286</td>\n",
       "      <td>NaN</td>\n",
       "      <td>Ballina_Inclo 2</td>\n",
       "    </tr>\n",
       "    <tr>\n",
       "      <th>4</th>\n",
       "      <td>2.270</td>\n",
       "      <td>0.176000</td>\n",
       "      <td>7.000000</td>\n",
       "      <td>3.977273</td>\n",
       "      <td>101.444444</td>\n",
       "      <td>15.800000</td>\n",
       "      <td>1.303000</td>\n",
       "      <td>2.182143</td>\n",
       "      <td>NaN</td>\n",
       "      <td>Ballina_Inclo 2</td>\n",
       "    </tr>\n",
       "    <tr>\n",
       "      <th>10</th>\n",
       "      <td>3.140</td>\n",
       "      <td>0.186556</td>\n",
       "      <td>7.111111</td>\n",
       "      <td>3.811793</td>\n",
       "      <td>126.000000</td>\n",
       "      <td>14.830000</td>\n",
       "      <td>1.140000</td>\n",
       "      <td>1.772021</td>\n",
       "      <td>NaN</td>\n",
       "      <td>Ballina_Inclo 2</td>\n",
       "    </tr>\n",
       "    <tr>\n",
       "      <th>12</th>\n",
       "      <td>3.650</td>\n",
       "      <td>0.223444</td>\n",
       "      <td>9.222222</td>\n",
       "      <td>4.127300</td>\n",
       "      <td>92.888889</td>\n",
       "      <td>NaN</td>\n",
       "      <td>1.657000</td>\n",
       "      <td>1.860129</td>\n",
       "      <td>NaN</td>\n",
       "      <td>Ballina_Inclo 2</td>\n",
       "    </tr>\n",
       "    <tr>\n",
       "      <th>...</th>\n",
       "      <td>...</td>\n",
       "      <td>...</td>\n",
       "      <td>...</td>\n",
       "      <td>...</td>\n",
       "      <td>...</td>\n",
       "      <td>...</td>\n",
       "      <td>...</td>\n",
       "      <td>...</td>\n",
       "      <td>...</td>\n",
       "      <td>...</td>\n",
       "    </tr>\n",
       "    <tr>\n",
       "      <th>373</th>\n",
       "      <td>10.075</td>\n",
       "      <td>0.953000</td>\n",
       "      <td>20.512000</td>\n",
       "      <td>2.152361</td>\n",
       "      <td>205.587000</td>\n",
       "      <td>19.740000</td>\n",
       "      <td>8.700000</td>\n",
       "      <td>2.803738</td>\n",
       "      <td>NaN</td>\n",
       "      <td>NGTS_Silt_HALB06</td>\n",
       "    </tr>\n",
       "    <tr>\n",
       "      <th>377</th>\n",
       "      <td>13.065</td>\n",
       "      <td>0.946000</td>\n",
       "      <td>20.876000</td>\n",
       "      <td>2.206765</td>\n",
       "      <td>297.722000</td>\n",
       "      <td>19.920000</td>\n",
       "      <td>11.400000</td>\n",
       "      <td>1.619718</td>\n",
       "      <td>NaN</td>\n",
       "      <td>NGTS_Silt_HALB06</td>\n",
       "    </tr>\n",
       "    <tr>\n",
       "      <th>378</th>\n",
       "      <td>12.900</td>\n",
       "      <td>0.690000</td>\n",
       "      <td>9.500000</td>\n",
       "      <td>1.376812</td>\n",
       "      <td>372.500000</td>\n",
       "      <td>17.576633</td>\n",
       "      <td>3.342717</td>\n",
       "      <td>1.013250</td>\n",
       "      <td>NaN</td>\n",
       "      <td>PITS_Rhesi_KB02</td>\n",
       "    </tr>\n",
       "    <tr>\n",
       "      <th>380</th>\n",
       "      <td>12.900</td>\n",
       "      <td>0.690000</td>\n",
       "      <td>9.500000</td>\n",
       "      <td>1.376812</td>\n",
       "      <td>372.500000</td>\n",
       "      <td>17.924784</td>\n",
       "      <td>4.504654</td>\n",
       "      <td>1.208106</td>\n",
       "      <td>NaN</td>\n",
       "      <td>PITS_Rhesi_KB02</td>\n",
       "    </tr>\n",
       "    <tr>\n",
       "      <th>381</th>\n",
       "      <td>4.800</td>\n",
       "      <td>0.480000</td>\n",
       "      <td>8.800000</td>\n",
       "      <td>1.833333</td>\n",
       "      <td>310.500000</td>\n",
       "      <td>17.924784</td>\n",
       "      <td>0.902065</td>\n",
       "      <td>NaN</td>\n",
       "      <td>NaN</td>\n",
       "      <td>PITS_Seekirchen_BS01</td>\n",
       "    </tr>\n",
       "  </tbody>\n",
       "</table>\n",
       "<p>114 rows × 10 columns</p>\n",
       "</div>"
      ],
      "text/plain": [
       "     Depth (m)  qc (MPa)   fs (kPa)    Rf (%)    u2 (kPa)  gamma (kN/m3)  \\\n",
       "0        0.790  0.153000   5.333333  3.485839   14.888889      16.410000   \n",
       "2        1.860  0.159222   7.444444  4.675506   56.444444      16.420000   \n",
       "4        2.270  0.176000   7.000000  3.977273  101.444444      15.800000   \n",
       "10       3.140  0.186556   7.111111  3.811793  126.000000      14.830000   \n",
       "12       3.650  0.223444   9.222222  4.127300   92.888889            NaN   \n",
       "..         ...       ...        ...       ...         ...            ...   \n",
       "373     10.075  0.953000  20.512000  2.152361  205.587000      19.740000   \n",
       "377     13.065  0.946000  20.876000  2.206765  297.722000      19.920000   \n",
       "378     12.900  0.690000   9.500000  1.376812  372.500000      17.576633   \n",
       "380     12.900  0.690000   9.500000  1.376812  372.500000      17.924784   \n",
       "381      4.800  0.480000   8.800000  1.833333  310.500000      17.924784   \n",
       "\n",
       "     M (MN/m2)   OCR (-)  su (kPa)      sampling_name(-)  \n",
       "0     1.554000  4.123596       NaN       Ballina_Inclo 2  \n",
       "2     2.843000  3.264286       NaN       Ballina_Inclo 2  \n",
       "4     1.303000  2.182143       NaN       Ballina_Inclo 2  \n",
       "10    1.140000  1.772021       NaN       Ballina_Inclo 2  \n",
       "12    1.657000  1.860129       NaN       Ballina_Inclo 2  \n",
       "..         ...       ...       ...                   ...  \n",
       "373   8.700000  2.803738       NaN      NGTS_Silt_HALB06  \n",
       "377  11.400000  1.619718       NaN      NGTS_Silt_HALB06  \n",
       "378   3.342717  1.013250       NaN       PITS_Rhesi_KB02  \n",
       "380   4.504654  1.208106       NaN       PITS_Rhesi_KB02  \n",
       "381   0.902065       NaN       NaN  PITS_Seekirchen_BS01  \n",
       "\n",
       "[114 rows x 10 columns]"
      ]
     },
     "execution_count": 5,
     "metadata": {},
     "output_type": "execute_result"
    }
   ],
   "source": [
    "data_ML"
   ]
  },
  {
   "cell_type": "code",
   "execution_count": 17,
   "id": "cc344cd5",
   "metadata": {},
   "outputs": [
    {
     "data": {
      "image/png": "[encoded data removed]",
      "text/plain": [
       "<Figure size 1525.59x1574.8 with 4 Axes>"
      ]
     },
     "metadata": {},
     "output_type": "display_data"
    }
   ],
   "source": [
    "# Plotting training data \n",
    "s = 1  # Adjust the marker size as needed\n",
    "color = 'k'  # Adjust the marker color as needed\n",
    "alpha = 0.5\n",
    "\n",
    "columns_x.append(investigated_column_plot)\n",
    "\n",
    "#Plot scatter points: raw data points as\n",
    "fig, axes = plt.subplots(4, 1, figsize=(7.75*cm, 8*cm), dpi=500, sharex=True)\n",
    "plotting_raw_data(X,y, alpha, s, color, True, axes, columns_x, 'Raw data', False)\n",
    "\n",
    "#plotting_raw_data(X,y, alpha, s, 'r', 'Removed outliers', False, axes, plot_columns_x_label)\n",
    "# Adjust layout to prevent overlapping\n",
    "plt.subplots_adjust(left=0.18, right=0.99, top=0.97, bottom=0.15, wspace=0.15, hspace=0.2)\n",
    "plt.savefig(f\"{prefix}{j+1}_raw_data.png\", dpi = 1000)"
   ]
  },
  {
   "cell_type": "code",
   "execution_count": 7,
   "id": "f0452315",
   "metadata": {},
   "outputs": [],
   "source": [
    "# # Plotting training data\n",
    "# s = 1  # Adjust the marker size as needed\n",
    "# color = 'k'  # Adjust the marker color as needed\n",
    "# alpha = 0.5\n",
    "\n",
    "# columns_x.append(investigated_column)\n",
    "\n",
    "# # Plot scatter points: raw data points\n",
    "# fig, axes = plt.subplots(4, 1, figsize=(20*cm, 20*cm), dpi=500, sharex=True)\n",
    "# plotting_raw_data(X, y, alpha, s, color, True, axes, columns_x, 'Raw data', False)\n",
    "\n",
    "# xlim, ylim = axis_limit[j][0], axis_limit[j][1]\n",
    "\n",
    "# # Set ticks for each subplot\n",
    "# for ax in axes:\n",
    "#     ax.set_xticks(np.arange(xlim, ylim + 0.001, (ylim - xlim) / 4))\n",
    "\n",
    "# # Set sampling_name as the index and create separate DataFrames for each unique sampling_name\n",
    "# grouped_dfs = {name: group.set_index('sampling_name(-)') for name, group in data_ML.groupby('sampling_name(-)')}\n",
    "\n",
    "# color_list = ['b', 'r', 'm', 'green', 'brown', 'orange', 'brown', 'pink', 'grey', 'cyan']\n",
    "# k = 0\n",
    "# m = 0 \n",
    "# print(len(grouped_dfs.keys()))\n",
    "\n",
    "\n",
    "# # Iterate over each DataFrame for unique sampling names\n",
    "# for sampling_name in grouped_dfs.keys():\n",
    "#     df = grouped_dfs[sampling_name]\n",
    "#     with open(f\"{prefix}{j+1}_sampling_name.txt\", \"a\") as f:\n",
    "#         f.write(f\"Sampling name: {sampling_name}, Number of data points: {len(df)}\\n\")\n",
    "#     X1 = df.loc[:, columns_x]\n",
    "#     y1 = df[investigated_column]\n",
    "#     plotting_raw_data(X1, y1, alpha, 5, color_list[k], False, axes, columns_x, sampling_name, False)\n",
    "#     m += 1  \n",
    "#     if m == 3:\n",
    "#         k = 1\n",
    "#     elif m == 24:\n",
    "#         k = 2\n",
    "#     elif m == 27:\n",
    "#         k = 3\n",
    "#     elif m == 32:\n",
    "#         k = 4\n",
    "#     elif m == 35:\n",
    "#         k = 5\n",
    "#     elif m == 42:\n",
    "#         k = 6\n",
    "\n",
    "\n",
    "# # Add legend to the top of the first subplot with high zorder\n",
    "# legend = axes[-1].legend(loc='upper center', bbox_to_anchor=(0.8, 4.5))\n",
    "\n",
    "# # Add text and adjust layout\n",
    "# fig.text(0.02, 0.02, rf'{len(data_ML)} datapoints', ha='left', va='center', fontsize=10, color='black', alpha=0.5)\n",
    "# plt.subplots_adjust(left=0.20, right=0.93, top=0.97, bottom=0.15, wspace=0.15, hspace=0.2)\n",
    "# plt.savefig(f\"{prefix}{j+1}_raw_data.png\", dpi=1000)"
   ]
  },
  {
   "cell_type": "code",
   "execution_count": 8,
   "id": "39fe2002",
   "metadata": {},
   "outputs": [],
   "source": [
    "RS = 44  # random state\n",
    "N_JOBS = -1  # number of parallel threads\n",
    "\n",
    "# repeated K-folds\n",
    "N_SPLITS = 10\n",
    "N_REPEATS = 1\n",
    "\n",
    "# Optuna\n",
    "N_TRIALS = 200\n",
    "\n",
    "# XGBoost\n",
    "EARLY_STOPPING_ROUNDS = 10"
   ]
  },
  {
   "cell_type": "code",
   "execution_count": 9,
   "id": "f4f80d3a",
   "metadata": {},
   "outputs": [
    {
     "name": "stderr",
     "output_type": "stream",
     "text": [
      "[I 2024-10-31 09:24:12,675] A new study created in memory with name: no-name-9fce65c0-9d34-4859-8c99-638d2717c241\n",
      "[I 2024-10-31 09:24:14,592] Trial 1 finished with value: 0.7303581792837245 and parameters: {'n_estimators': 52, 'learning_rate': 0.42169519760153545, 'max_depth': 5, 'subsample': 0.055624965500480954}. Best is trial 1 with value: 0.7303581792837245.\n",
      "[I 2024-10-31 09:24:15,671] Trial 0 finished with value: 0.8056188529186201 and parameters: {'n_estimators': 102, 'learning_rate': 0.3547032897268067, 'max_depth': 6, 'subsample': 0.21578304981217805}. Best is trial 0 with value: 0.8056188529186201.\n",
      "[I 2024-10-31 09:24:15,758] Trial 7 finished with value: 0.8078656179129987 and parameters: {'n_estimators': 80, 'learning_rate': 0.31050698651697795, 'max_depth': 8, 'subsample': 0.17048407795551243}. Best is trial 7 with value: 0.8078656179129987.\n",
      "[I 2024-10-31 09:24:16,267] Trial 4 finished with value: 0.8476032165374447 and parameters: {'n_estimators': 98, 'learning_rate': 0.22970617021066564, 'max_depth': 8, 'subsample': 0.1657274276370949}. Best is trial 4 with value: 0.8476032165374447.\n",
      "[I 2024-10-31 09:24:16,558] Trial 5 finished with value: 0.8510573253169134 and parameters: {'n_estimators': 72, 'learning_rate': 0.19017384720371558, 'max_depth': 5, 'subsample': 0.14371106604063455}. Best is trial 5 with value: 0.8510573253169134.\n",
      "[I 2024-10-31 09:24:17,230] Trial 6 finished with value: 0.8498311939295615 and parameters: {'n_estimators': 94, 'learning_rate': 0.08527072461397685, 'max_depth': 5, 'subsample': 0.4237863792519473}. Best is trial 5 with value: 0.8510573253169134.\n",
      "[I 2024-10-31 09:24:17,344] Trial 2 finished with value: 0.8563302902056145 and parameters: {'n_estimators': 92, 'learning_rate': 0.09007295905519132, 'max_depth': 5, 'subsample': 0.36331062920632784}. Best is trial 2 with value: 0.8563302902056145.\n",
      "[I 2024-10-31 09:24:17,812] Trial 10 finished with value: 0.8372805271490535 and parameters: {'n_estimators': 58, 'learning_rate': 0.24030428569748347, 'max_depth': 5, 'subsample': 0.12876643357317422}. Best is trial 2 with value: 0.8563302902056145.\n",
      "[I 2024-10-31 09:24:18,065] Trial 9 finished with value: 0.6895988887966626 and parameters: {'n_estimators': 74, 'learning_rate': 0.07077404902901949, 'max_depth': 6, 'subsample': 0.06754171661333519}. Best is trial 2 with value: 0.8563302902056145.\n",
      "[I 2024-10-31 09:24:18,307] Trial 8 finished with value: 0.8585186756348374 and parameters: {'n_estimators': 118, 'learning_rate': 0.13623003618901688, 'max_depth': 7, 'subsample': 0.5593349040335444}. Best is trial 8 with value: 0.8585186756348374.\n",
      "[I 2024-10-31 09:24:21,338] Trial 14 finished with value: 0.8229947803335392 and parameters: {'n_estimators': 89, 'learning_rate': 0.2044855090990878, 'max_depth': 8, 'subsample': 0.09317781069713736}. Best is trial 8 with value: 0.8585186756348374.\n",
      "[I 2024-10-31 09:24:21,732] Trial 13 finished with value: 0.82939298969335 and parameters: {'n_estimators': 72, 'learning_rate': 0.266350107088888, 'max_depth': 7, 'subsample': 0.2507831041519105}. Best is trial 8 with value: 0.8585186756348374.\n",
      "[I 2024-10-31 09:24:21,899] Trial 12 finished with value: 0.8483101976121308 and parameters: {'n_estimators': 105, 'learning_rate': 0.08101645585026941, 'max_depth': 4, 'subsample': 0.5608633602423582}. Best is trial 8 with value: 0.8585186756348374.\n",
      "[I 2024-10-31 09:24:22,521] Trial 3 finished with value: 0.8375427998655589 and parameters: {'n_estimators': 116, 'learning_rate': 0.05322304962501404, 'max_depth': 6, 'subsample': 0.8922332940423066}. Best is trial 8 with value: 0.8585186756348374.\n",
      "[I 2024-10-31 09:24:23,205] Trial 16 finished with value: 0.8090662979968767 and parameters: {'n_estimators': 54, 'learning_rate': 0.05986489195425178, 'max_depth': 3, 'subsample': 0.29216887685717347}. Best is trial 8 with value: 0.8585186756348374.\n",
      "[I 2024-10-31 09:24:23,708] Trial 11 finished with value: 0.8098222534983315 and parameters: {'n_estimators': 99, 'learning_rate': 0.05592576838634337, 'max_depth': 6, 'subsample': 0.1743497506619838}. Best is trial 8 with value: 0.8585186756348374.\n",
      "[I 2024-10-31 09:24:23,808] Trial 15 finished with value: 0.8439951209634232 and parameters: {'n_estimators': 69, 'learning_rate': 0.19553824559405658, 'max_depth': 10, 'subsample': 0.3197342597459694}. Best is trial 8 with value: 0.8585186756348374.\n",
      "[I 2024-10-31 09:24:24,005] Trial 18 finished with value: 0.8404401435926867 and parameters: {'n_estimators': 118, 'learning_rate': 0.12039464117028895, 'max_depth': 3, 'subsample': 0.8748448536900193}. Best is trial 8 with value: 0.8585186756348374.\n",
      "[I 2024-10-31 09:24:24,303] Trial 19 finished with value: 0.8426068720686742 and parameters: {'n_estimators': 118, 'learning_rate': 0.11655596785742714, 'max_depth': 3, 'subsample': 0.8051597237100294}. Best is trial 8 with value: 0.8585186756348374.\n",
      "[I 2024-10-31 09:24:26,496] Trial 17 finished with value: 0.8505662386533861 and parameters: {'n_estimators': 120, 'learning_rate': 0.13414127174712945, 'max_depth': 10, 'subsample': 0.8625382200380826}. Best is trial 8 with value: 0.8585186756348374.\n",
      "[I 2024-10-31 09:24:26,705] Trial 21 finished with value: 0.8571701819499717 and parameters: {'n_estimators': 115, 'learning_rate': 0.1271279165609024, 'max_depth': 10, 'subsample': 0.38855175922359647}. Best is trial 8 with value: 0.8585186756348374.\n",
      "[I 2024-10-31 09:24:27,167] Trial 22 finished with value: 0.8566059243206358 and parameters: {'n_estimators': 120, 'learning_rate': 0.12369595903550368, 'max_depth': 10, 'subsample': 0.4859424603331612}. Best is trial 8 with value: 0.8585186756348374.\n",
      "[I 2024-10-31 09:24:27,536] Trial 23 finished with value: 0.8560130030824294 and parameters: {'n_estimators': 118, 'learning_rate': 0.1273487716861777, 'max_depth': 9, 'subsample': 0.4813346196174962}. Best is trial 8 with value: 0.8585186756348374.\n",
      "[I 2024-10-31 09:24:27,803] Trial 20 finished with value: 0.8532776529985795 and parameters: {'n_estimators': 117, 'learning_rate': 0.12546056308687056, 'max_depth': 10, 'subsample': 0.7025144179368535}. Best is trial 8 with value: 0.8585186756348374.\n",
      "[I 2024-10-31 09:24:28,126] Trial 25 finished with value: 0.8650882941063971 and parameters: {'n_estimators': 110, 'learning_rate': 0.12487292315470205, 'max_depth': 9, 'subsample': 0.5161835652618709}. Best is trial 25 with value: 0.8650882941063971.\n",
      "[I 2024-10-31 09:24:28,944] Trial 24 finished with value: 0.8629140754933082 and parameters: {'n_estimators': 119, 'learning_rate': 0.12223560163618735, 'max_depth': 10, 'subsample': 0.663530731000242}. Best is trial 25 with value: 0.8650882941063971.\n",
      "[I 2024-10-31 09:24:29,043] Trial 26 finished with value: 0.8699537941900298 and parameters: {'n_estimators': 110, 'learning_rate': 0.12568896915364217, 'max_depth': 10, 'subsample': 0.5134582351422102}. Best is trial 26 with value: 0.8699537941900298.\n",
      "[I 2024-10-31 09:24:30,521] Trial 27 finished with value: 0.8549943731772448 and parameters: {'n_estimators': 109, 'learning_rate': 0.09698435600047883, 'max_depth': 7, 'subsample': 0.5145498037567421}. Best is trial 26 with value: 0.8699537941900298.\n",
      "[I 2024-10-31 09:24:30,571] Trial 29 finished with value: 0.8611353391208322 and parameters: {'n_estimators': 110, 'learning_rate': 0.15057703037355616, 'max_depth': 9, 'subsample': 0.5266917969450426}. Best is trial 26 with value: 0.8699537941900298.\n",
      "[I 2024-10-31 09:24:31,501] Trial 30 finished with value: 0.8528504639679393 and parameters: {'n_estimators': 108, 'learning_rate': 0.1418998061379131, 'max_depth': 9, 'subsample': 0.588496078239835}. Best is trial 26 with value: 0.8699537941900298.\n",
      "[I 2024-10-31 09:24:31,630] Trial 28 finished with value: 0.8592381165690328 and parameters: {'n_estimators': 109, 'learning_rate': 0.09791664321723875, 'max_depth': 9, 'subsample': 0.5476602633135451}. Best is trial 26 with value: 0.8699537941900298.\n",
      "[I 2024-10-31 09:24:32,085] Trial 32 finished with value: 0.8638761347614631 and parameters: {'n_estimators': 110, 'learning_rate': 0.16073815638388594, 'max_depth': 9, 'subsample': 0.6665807449446283}. Best is trial 26 with value: 0.8699537941900298.\n",
      "[I 2024-10-31 09:24:32,725] Trial 31 finished with value: 0.854732129082366 and parameters: {'n_estimators': 109, 'learning_rate': 0.10239580043748496, 'max_depth': 9, 'subsample': 0.5984357969709837}. Best is trial 26 with value: 0.8699537941900298.\n",
      "[I 2024-10-31 09:24:32,833] Trial 34 finished with value: 0.8586253503993493 and parameters: {'n_estimators': 109, 'learning_rate': 0.15914787948898348, 'max_depth': 9, 'subsample': 0.6370117115034404}. Best is trial 26 with value: 0.8699537941900298.\n",
      "[I 2024-10-31 09:24:33,763] Trial 33 finished with value: 0.8567820526083625 and parameters: {'n_estimators': 110, 'learning_rate': 0.09768263311012025, 'max_depth': 9, 'subsample': 0.5980876997779184}. Best is trial 26 with value: 0.8699537941900298.\n",
      "[I 2024-10-31 09:24:33,962] Trial 36 finished with value: 0.8577858266830829 and parameters: {'n_estimators': 109, 'learning_rate': 0.1710600595246703, 'max_depth': 9, 'subsample': 0.6509428021356196}. Best is trial 26 with value: 0.8699537941900298.\n",
      "[I 2024-10-31 09:24:35,101] Trial 37 finished with value: 0.8600584691621711 and parameters: {'n_estimators': 101, 'learning_rate': 0.17069021234439147, 'max_depth': 9, 'subsample': 0.6635819520582905}. Best is trial 26 with value: 0.8699537941900298.\n",
      "[I 2024-10-31 09:24:35,150] Trial 35 finished with value: 0.8620408795136277 and parameters: {'n_estimators': 109, 'learning_rate': 0.16714632223595058, 'max_depth': 9, 'subsample': 0.6674013520790026}. Best is trial 26 with value: 0.8699537941900298.\n",
      "[I 2024-10-31 09:24:35,735] Trial 38 finished with value: 0.8518752577004469 and parameters: {'n_estimators': 112, 'learning_rate': 0.1636029721522695, 'max_depth': 9, 'subsample': 0.7099588722800553}. Best is trial 26 with value: 0.8699537941900298.\n",
      "[I 2024-10-31 09:24:36,066] Trial 41 finished with value: 0.8579611630656512 and parameters: {'n_estimators': 105, 'learning_rate': 0.16419758230933626, 'max_depth': 8, 'subsample': 0.6721421821454197}. Best is trial 26 with value: 0.8699537941900298.\n",
      "[I 2024-10-31 09:24:36,274] Trial 39 finished with value: 0.8588058935089607 and parameters: {'n_estimators': 102, 'learning_rate': 0.16654188033483427, 'max_depth': 9, 'subsample': 0.651287650677005}. Best is trial 26 with value: 0.8699537941900298.\n",
      "[I 2024-10-31 09:24:36,411] Trial 40 finished with value: 0.8556897336697847 and parameters: {'n_estimators': 103, 'learning_rate': 0.16329555876233423, 'max_depth': 8, 'subsample': 0.7004998738156138}. Best is trial 26 with value: 0.8699537941900298.\n",
      "[I 2024-10-31 09:24:37,017] Trial 42 finished with value: 0.8530067812240321 and parameters: {'n_estimators': 103, 'learning_rate': 0.17884628556437662, 'max_depth': 8, 'subsample': 0.3349679146811655}. Best is trial 26 with value: 0.8699537941900298.\n",
      "[I 2024-10-31 09:24:37,699] Trial 43 finished with value: 0.8589582999616685 and parameters: {'n_estimators': 102, 'learning_rate': 0.16710725471582963, 'max_depth': 8, 'subsample': 0.7314574614316732}. Best is trial 26 with value: 0.8699537941900298.\n",
      "[I 2024-10-31 09:24:37,777] Trial 46 finished with value: 0.8515161278399659 and parameters: {'n_estimators': 104, 'learning_rate': 0.39201450758189393, 'max_depth': 8, 'subsample': 0.3925927102490867}. Best is trial 26 with value: 0.8699537941900298.\n",
      "[I 2024-10-31 09:24:38,449] Trial 47 finished with value: 0.8498683450352295 and parameters: {'n_estimators': 96, 'learning_rate': 0.44706019959140797, 'max_depth': 10, 'subsample': 0.41984877370592455}. Best is trial 26 with value: 0.8699537941900298.\n",
      "[I 2024-10-31 09:24:39,197] Trial 44 finished with value: 0.8605535168796654 and parameters: {'n_estimators': 113, 'learning_rate': 0.10983717530139195, 'max_depth': 8, 'subsample': 0.44559696774854224}. Best is trial 26 with value: 0.8699537941900298.\n",
      "[I 2024-10-31 09:24:39,554] Trial 45 finished with value: 0.8596542814098748 and parameters: {'n_estimators': 114, 'learning_rate': 0.10788067144256665, 'max_depth': 8, 'subsample': 0.3480058790059799}. Best is trial 26 with value: 0.8699537941900298.\n",
      "[I 2024-10-31 09:24:40,430] Trial 48 finished with value: 0.8491951233334116 and parameters: {'n_estimators': 114, 'learning_rate': 0.10611686511805646, 'max_depth': 10, 'subsample': 0.4093984556339749}. Best is trial 26 with value: 0.8699537941900298.\n",
      "[I 2024-10-31 09:24:40,570] Trial 49 finished with value: 0.8615648331947395 and parameters: {'n_estimators': 94, 'learning_rate': 0.1088619495165576, 'max_depth': 10, 'subsample': 0.4310189073425289}. Best is trial 26 with value: 0.8699537941900298.\n",
      "[I 2024-10-31 09:24:41,189] Trial 50 finished with value: 0.856402801134595 and parameters: {'n_estimators': 96, 'learning_rate': 0.1085667289597419, 'max_depth': 10, 'subsample': 0.38214390688477123}. Best is trial 26 with value: 0.8699537941900298.\n",
      "[I 2024-10-31 09:24:41,402] Trial 54 finished with value: 0.8354317307076773 and parameters: {'n_estimators': 89, 'learning_rate': 0.21072204141946543, 'max_depth': 10, 'subsample': 0.2326935166165912}. Best is trial 26 with value: 0.8699537941900298.\n",
      "[I 2024-10-31 09:24:42,059] Trial 51 finished with value: 0.8541175771316503 and parameters: {'n_estimators': 96, 'learning_rate': 0.10774464466260088, 'max_depth': 10, 'subsample': 0.4166075652058872}. Best is trial 26 with value: 0.8699537941900298.\n",
      "[I 2024-10-31 09:24:42,111] Trial 52 finished with value: 0.8641892765319593 and parameters: {'n_estimators': 94, 'learning_rate': 0.11065609278054524, 'max_depth': 10, 'subsample': 0.4391216193810474}. Best is trial 26 with value: 0.8699537941900298.\n",
      "[I 2024-10-31 09:24:42,861] Trial 53 finished with value: 0.8566696879076879 and parameters: {'n_estimators': 114, 'learning_rate': 0.10938314911895869, 'max_depth': 10, 'subsample': 0.4664280503955053}. Best is trial 26 with value: 0.8699537941900298.\n",
      "[I 2024-10-31 09:24:43,119] Trial 56 finished with value: 0.825778893811729 and parameters: {'n_estimators': 92, 'learning_rate': 0.2146857382026006, 'max_depth': 10, 'subsample': 0.2196271323762541}. Best is trial 26 with value: 0.8699537941900298.\n",
      "[I 2024-10-31 09:24:43,433] Trial 57 finished with value: 0.8353808657789517 and parameters: {'n_estimators': 84, 'learning_rate': 0.2612387287811356, 'max_depth': 10, 'subsample': 0.2584900456075899}. Best is trial 26 with value: 0.8699537941900298.\n",
      "[I 2024-10-31 09:24:43,610] Trial 55 finished with value: 0.8315590465062362 and parameters: {'n_estimators': 85, 'learning_rate': 0.08690467581594911, 'max_depth': 10, 'subsample': 0.23198733324277798}. Best is trial 26 with value: 0.8699537941900298.\n",
      "[I 2024-10-31 09:24:45,600] Trial 58 finished with value: 0.837110833480882 and parameters: {'n_estimators': 79, 'learning_rate': 0.0795919207410738, 'max_depth': 10, 'subsample': 0.26097374263549133}. Best is trial 26 with value: 0.8699537941900298.\n",
      "[I 2024-10-31 09:24:46,152] Trial 59 finished with value: 0.845280662130119 and parameters: {'n_estimators': 80, 'learning_rate': 0.08004101889581669, 'max_depth': 10, 'subsample': 0.28017516368729}. Best is trial 26 with value: 0.8699537941900298.\n",
      "[I 2024-10-31 09:24:46,674] Trial 64 finished with value: 0.843790954810206 and parameters: {'n_estimators': 106, 'learning_rate': 0.08070550516012705, 'max_depth': 4, 'subsample': 0.7700814242207997}. Best is trial 26 with value: 0.8699537941900298.\n",
      "[I 2024-10-31 09:24:47,545] Trial 65 finished with value: 0.8429725205750226 and parameters: {'n_estimators': 106, 'learning_rate': 0.14415642920844382, 'max_depth': 7, 'subsample': 0.7887257373857843}. Best is trial 26 with value: 0.8699537941900298.\n",
      "[I 2024-10-31 09:24:48,031] Trial 62 finished with value: 0.8453813818964573 and parameters: {'n_estimators': 86, 'learning_rate': 0.07473264894258412, 'max_depth': 7, 'subsample': 0.7775137549628868}. Best is trial 26 with value: 0.8699537941900298.\n",
      "[I 2024-10-31 09:24:48,147] Trial 66 finished with value: 0.8441377142394887 and parameters: {'n_estimators': 106, 'learning_rate': 0.1396402464159441, 'max_depth': 4, 'subsample': 0.7687929847001659}. Best is trial 26 with value: 0.8699537941900298.\n",
      "[I 2024-10-31 09:24:48,303] Trial 61 finished with value: 0.8446004964405012 and parameters: {'n_estimators': 80, 'learning_rate': 0.08035513040305671, 'max_depth': 10, 'subsample': 0.7765679360629687}. Best is trial 26 with value: 0.8699537941900298.\n",
      "[I 2024-10-31 09:24:48,494] Trial 67 finished with value: 0.8362725620096534 and parameters: {'n_estimators': 67, 'learning_rate': 0.13972233048667013, 'max_depth': 4, 'subsample': 0.8181505191737104}. Best is trial 26 with value: 0.8699537941900298.\n",
      "[I 2024-10-31 09:24:48,544] Trial 60 finished with value: 0.8454526323308307 and parameters: {'n_estimators': 86, 'learning_rate': 0.07423790187963095, 'max_depth': 10, 'subsample': 0.7810534995284273}. Best is trial 26 with value: 0.8699537941900298.\n",
      "[I 2024-10-31 09:24:48,712] Trial 63 finished with value: 0.8423794302228167 and parameters: {'n_estimators': 81, 'learning_rate': 0.08727000796792424, 'max_depth': 9, 'subsample': 0.8136424696306551}. Best is trial 26 with value: 0.8699537941900298.\n",
      "[I 2024-10-31 09:24:50,453] Trial 69 finished with value: 0.8577130185067805 and parameters: {'n_estimators': 99, 'learning_rate': 0.18653552886654876, 'max_depth': 9, 'subsample': 0.5133160956646465}. Best is trial 26 with value: 0.8699537941900298.\n",
      "[I 2024-10-31 09:24:50,725] Trial 68 finished with value: 0.8467722027939784 and parameters: {'n_estimators': 100, 'learning_rate': 0.1469556014729958, 'max_depth': 9, 'subsample': 0.8285305331709046}. Best is trial 26 with value: 0.8699537941900298.\n",
      "[I 2024-10-31 09:24:51,043] Trial 72 finished with value: 0.8624291325718454 and parameters: {'n_estimators': 93, 'learning_rate': 0.184827091375344, 'max_depth': 9, 'subsample': 0.5182451197264093}. Best is trial 26 with value: 0.8699537941900298.\n",
      "[I 2024-10-31 09:24:51,864] Trial 70 finished with value: 0.8642516168922821 and parameters: {'n_estimators': 98, 'learning_rate': 0.13329729812284427, 'max_depth': 9, 'subsample': 0.49801131407578664}. Best is trial 26 with value: 0.8699537941900298.\n",
      "[I 2024-10-31 09:24:52,202] Trial 74 finished with value: 0.8588307286979431 and parameters: {'n_estimators': 112, 'learning_rate': 0.11665207109796152, 'max_depth': 9, 'subsample': 0.5105956529847768}. Best is trial 26 with value: 0.8699537941900298.\n",
      "[I 2024-10-31 09:24:52,840] Trial 75 finished with value: 0.8665390815343093 and parameters: {'n_estimators': 99, 'learning_rate': 0.11929156565725803, 'max_depth': 9, 'subsample': 0.5114586014917607}. Best is trial 26 with value: 0.8699537941900298.\n",
      "[I 2024-10-31 09:24:52,986] Trial 71 finished with value: 0.8544482104833219 and parameters: {'n_estimators': 98, 'learning_rate': 0.09247251443240796, 'max_depth': 9, 'subsample': 0.5168384305681752}. Best is trial 26 with value: 0.8699537941900298.\n",
      "[I 2024-10-31 09:24:53,176] Trial 73 finished with value: 0.8588916234969228 and parameters: {'n_estimators': 99, 'learning_rate': 0.09103393434291893, 'max_depth': 9, 'subsample': 0.4913423000012795}. Best is trial 26 with value: 0.8699537941900298.\n",
      "[I 2024-10-31 09:24:53,790] Trial 77 finished with value: 0.826454547570066 and parameters: {'n_estimators': 116, 'learning_rate': 0.1164656370118892, 'max_depth': 9, 'subsample': 0.11032279107312143}. Best is trial 26 with value: 0.8699537941900298.\n",
      "[I 2024-10-31 09:24:55,031] Trial 76 finished with value: 0.8599738622114621 and parameters: {'n_estimators': 116, 'learning_rate': 0.117098558984625, 'max_depth': 9, 'subsample': 0.5702749474495128}. Best is trial 26 with value: 0.8699537941900298.\n",
      "[I 2024-10-31 09:24:55,426] Trial 78 finished with value: 0.8571712654441292 and parameters: {'n_estimators': 92, 'learning_rate': 0.1173990825065722, 'max_depth': 9, 'subsample': 0.5622248376003187}. Best is trial 26 with value: 0.8699537941900298.\n",
      "[I 2024-10-31 09:24:56,261] Trial 79 finished with value: 0.8556188135588106 and parameters: {'n_estimators': 112, 'learning_rate': 0.11786256534624209, 'max_depth': 9, 'subsample': 0.5779013957130068}. Best is trial 26 with value: 0.8699537941900298.\n",
      "[I 2024-10-31 09:24:56,329] Trial 80 finished with value: 0.8566578071828559 and parameters: {'n_estimators': 116, 'learning_rate': 0.13129769145629053, 'max_depth': 9, 'subsample': 0.5705253214770359}. Best is trial 26 with value: 0.8699537941900298.\n",
      "[I 2024-10-31 09:24:56,515] Trial 85 finished with value: 0.6923482922442701 and parameters: {'n_estimators': 91, 'learning_rate': 0.13144931886920633, 'max_depth': 6, 'subsample': 0.05433053299515324}. Best is trial 26 with value: 0.8699537941900298.\n",
      "[I 2024-10-31 09:24:57,026] Trial 82 finished with value: 0.8552245158837526 and parameters: {'n_estimators': 90, 'learning_rate': 0.13295395031752602, 'max_depth': 9, 'subsample': 0.571975674659596}. Best is trial 26 with value: 0.8699537941900298.\n",
      "[I 2024-10-31 09:24:57,293] Trial 84 finished with value: 0.853695288727865 and parameters: {'n_estimators': 91, 'learning_rate': 0.13179802878103597, 'max_depth': 6, 'subsample': 0.57355694580815}. Best is trial 26 with value: 0.8699537941900298.\n",
      "[I 2024-10-31 09:24:57,474] Trial 81 finished with value: 0.8637603533516913 and parameters: {'n_estimators': 93, 'learning_rate': 0.13213477993836134, 'max_depth': 9, 'subsample': 0.5609444825043417}. Best is trial 26 with value: 0.8699537941900298.\n",
      "[I 2024-10-31 09:24:57,532] Trial 83 finished with value: 0.8563640645443953 and parameters: {'n_estimators': 90, 'learning_rate': 0.13042628492680206, 'max_depth': 9, 'subsample': 0.5687422507645343}. Best is trial 26 with value: 0.8699537941900298.\n",
      "[I 2024-10-31 09:24:58,739] Trial 86 finished with value: 0.851113797452604 and parameters: {'n_estimators': 89, 'learning_rate': 0.15419784798246647, 'max_depth': 8, 'subsample': 0.18382595043671535}. Best is trial 26 with value: 0.8699537941900298.\n",
      "[I 2024-10-31 09:25:00,341] Trial 87 finished with value: 0.8498406220776924 and parameters: {'n_estimators': 92, 'learning_rate': 0.1290284069790296, 'max_depth': 8, 'subsample': 0.45819114393956245}. Best is trial 26 with value: 0.8699537941900298.\n",
      "[I 2024-10-31 09:25:00,363] Trial 88 finished with value: 0.8522678720274377 and parameters: {'n_estimators': 120, 'learning_rate': 0.12869889313400032, 'max_depth': 8, 'subsample': 0.4590706782003834}. Best is trial 26 with value: 0.8699537941900298.\n",
      "[I 2024-10-31 09:25:00,476] Trial 90 finished with value: 0.8505936902975029 and parameters: {'n_estimators': 120, 'learning_rate': 0.15218392459987876, 'max_depth': 8, 'subsample': 0.460945345426018}. Best is trial 26 with value: 0.8699537941900298.\n",
      "[I 2024-10-31 09:25:00,803] Trial 89 finished with value: 0.85453632753368 and parameters: {'n_estimators': 119, 'learning_rate': 0.15176927519489095, 'max_depth': 8, 'subsample': 0.6318548378449222}. Best is trial 26 with value: 0.8699537941900298.\n",
      "[I 2024-10-31 09:25:00,966] Trial 93 finished with value: 0.8537507199620351 and parameters: {'n_estimators': 120, 'learning_rate': 0.15179086981783732, 'max_depth': 8, 'subsample': 0.4590072268837793}. Best is trial 26 with value: 0.8699537941900298.\n",
      "[I 2024-10-31 09:25:01,452] Trial 92 finished with value: 0.8549646190609426 and parameters: {'n_estimators': 94, 'learning_rate': 0.15485161164786443, 'max_depth': 8, 'subsample': 0.6256713680498823}. Best is trial 26 with value: 0.8699537941900298.\n",
      "[I 2024-10-31 09:25:01,718] Trial 91 finished with value: 0.8470501623816545 and parameters: {'n_estimators': 120, 'learning_rate': 0.14951239877289027, 'max_depth': 8, 'subsample': 0.8995164317931063}. Best is trial 26 with value: 0.8699537941900298.\n",
      "[I 2024-10-31 09:25:02,816] Trial 97 finished with value: 0.7380102472376522 and parameters: {'n_estimators': 95, 'learning_rate': 0.18298173543895746, 'max_depth': 10, 'subsample': 0.06695508032401258}. Best is trial 26 with value: 0.8699537941900298.\n",
      "[I 2024-10-31 09:25:02,870] Trial 94 finished with value: 0.854129529738243 and parameters: {'n_estimators': 94, 'learning_rate': 0.15403163585002136, 'max_depth': 8, 'subsample': 0.45690866673419106}. Best is trial 26 with value: 0.8699537941900298.\n",
      "[I 2024-10-31 09:25:03,208] Trial 98 finished with value: 0.7546470067743003 and parameters: {'n_estimators': 95, 'learning_rate': 0.17882857646233746, 'max_depth': 10, 'subsample': 0.0633823122955768}. Best is trial 26 with value: 0.8699537941900298.\n",
      "[I 2024-10-31 09:25:05,190] Trial 96 finished with value: 0.8614802903745424 and parameters: {'n_estimators': 95, 'learning_rate': 0.18845742678480285, 'max_depth': 10, 'subsample': 0.6213518644778364}. Best is trial 26 with value: 0.8699537941900298.\n",
      "[I 2024-10-31 09:25:05,675] Trial 99 finished with value: 0.8573958528350843 and parameters: {'n_estimators': 94, 'learning_rate': 0.18252820946470555, 'max_depth': 10, 'subsample': 0.6223005854614778}. Best is trial 26 with value: 0.8699537941900298.\n",
      "[I 2024-10-31 09:25:05,737] Trial 95 finished with value: 0.8630439263035983 and parameters: {'n_estimators': 94, 'learning_rate': 0.15391801634958446, 'max_depth': 10, 'subsample': 0.6372603283640044}. Best is trial 26 with value: 0.8699537941900298.\n",
      "[I 2024-10-31 09:25:06,447] Trial 100 finished with value: 0.8610068887874223 and parameters: {'n_estimators': 97, 'learning_rate': 0.17645420432515802, 'max_depth': 10, 'subsample': 0.6921427052905319}. Best is trial 26 with value: 0.8699537941900298.\n",
      "[I 2024-10-31 09:25:06,526] Trial 103 finished with value: 0.8524339669368725 and parameters: {'n_estimators': 111, 'learning_rate': 0.19582161448367297, 'max_depth': 9, 'subsample': 0.6767390123217987}. Best is trial 26 with value: 0.8699537941900298.\n",
      "[I 2024-10-31 09:25:06,640] Trial 101 finished with value: 0.8540823070966049 and parameters: {'n_estimators': 94, 'learning_rate': 0.17717766908530477, 'max_depth': 10, 'subsample': 0.7240639926256431}. Best is trial 26 with value: 0.8699537941900298.\n",
      "[I 2024-10-31 09:25:08,104] Trial 102 finished with value: 0.8593912247778384 and parameters: {'n_estimators': 107, 'learning_rate': 0.10183006130264174, 'max_depth': 9, 'subsample': 0.355602195649321}. Best is trial 26 with value: 0.8699537941900298.\n",
      "[I 2024-10-31 09:25:09,063] Trial 104 finished with value: 0.8568441606765506 and parameters: {'n_estimators': 107, 'learning_rate': 0.1010158760194772, 'max_depth': 9, 'subsample': 0.36356924040355404}. Best is trial 26 with value: 0.8699537941900298.\n",
      "[I 2024-10-31 09:25:09,712] Trial 105 finished with value: 0.8475042131018039 and parameters: {'n_estimators': 111, 'learning_rate': 0.19817462342696884, 'max_depth': 9, 'subsample': 0.3646635126251641}. Best is trial 26 with value: 0.8699537941900298.\n",
      "[I 2024-10-31 09:25:11,955] Trial 107 finished with value: 0.8511677486427847 and parameters: {'n_estimators': 97, 'learning_rate': 0.12284420628321369, 'max_depth': 10, 'subsample': 0.3756116511280228}. Best is trial 26 with value: 0.8699537941900298.\n",
      "[I 2024-10-31 09:25:12,164] Trial 106 finished with value: 0.8610895973198127 and parameters: {'n_estimators': 107, 'learning_rate': 0.10187385789882256, 'max_depth': 9, 'subsample': 0.3666672631699546}. Best is trial 26 with value: 0.8699537941900298.\n",
      "[I 2024-10-31 09:25:12,334] Trial 108 finished with value: 0.8533498532784577 and parameters: {'n_estimators': 107, 'learning_rate': 0.123116047254791, 'max_depth': 9, 'subsample': 0.3718206570907299}. Best is trial 26 with value: 0.8699537941900298.\n",
      "[I 2024-10-31 09:25:12,951] Trial 109 finished with value: 0.8597418527928525 and parameters: {'n_estimators': 107, 'learning_rate': 0.12220463675909098, 'max_depth': 10, 'subsample': 0.5339927060222155}. Best is trial 26 with value: 0.8699537941900298.\n",
      "[I 2024-10-31 09:25:13,246] Trial 110 finished with value: 0.8590530123412403 and parameters: {'n_estimators': 107, 'learning_rate': 0.10258301896623846, 'max_depth': 9, 'subsample': 0.3579965911171913}. Best is trial 26 with value: 0.8699537941900298.\n",
      "[I 2024-10-31 09:25:13,380] Trial 111 finished with value: 0.8629862526682913 and parameters: {'n_estimators': 102, 'learning_rate': 0.12205955498168516, 'max_depth': 9, 'subsample': 0.4960819946765122}. Best is trial 26 with value: 0.8699537941900298.\n",
      "[I 2024-10-31 09:25:13,871] Trial 112 finished with value: 0.862714360709514 and parameters: {'n_estimators': 101, 'learning_rate': 0.12174958016341629, 'max_depth': 10, 'subsample': 0.5362536168526152}. Best is trial 26 with value: 0.8699537941900298.\n",
      "[I 2024-10-31 09:25:13,916] Trial 113 finished with value: 0.8610961027953085 and parameters: {'n_estimators': 101, 'learning_rate': 0.12245203753079768, 'max_depth': 10, 'subsample': 0.5354121823179556}. Best is trial 26 with value: 0.8699537941900298.\n",
      "[I 2024-10-31 09:25:14,902] Trial 117 finished with value: 0.8654524601659179 and parameters: {'n_estimators': 88, 'learning_rate': 0.22769475251293636, 'max_depth': 10, 'subsample': 0.48905888494315924}. Best is trial 26 with value: 0.8699537941900298.\n",
      "[I 2024-10-31 09:25:14,986] Trial 115 finished with value: 0.8599019429618386 and parameters: {'n_estimators': 101, 'learning_rate': 0.14266566519742468, 'max_depth': 10, 'subsample': 0.542663146535773}. Best is trial 26 with value: 0.8699537941900298.\n",
      "[I 2024-10-31 09:25:15,143] Trial 114 finished with value: 0.860756072914989 and parameters: {'n_estimators': 101, 'learning_rate': 0.14102412586778632, 'max_depth': 10, 'subsample': 0.5303566401376014}. Best is trial 26 with value: 0.8699537941900298.\n",
      "[I 2024-10-31 09:25:15,531] Trial 119 finished with value: 0.8605246691309472 and parameters: {'n_estimators': 101, 'learning_rate': 0.2251955612005145, 'max_depth': 10, 'subsample': 0.4918046208939488}. Best is trial 26 with value: 0.8699537941900298.\n",
      "[I 2024-10-31 09:25:15,907] Trial 116 finished with value: 0.8620568966953323 and parameters: {'n_estimators': 101, 'learning_rate': 0.11181797991461087, 'max_depth': 10, 'subsample': 0.540014199172022}. Best is trial 26 with value: 0.8699537941900298.\n",
      "[I 2024-10-31 09:25:16,079] Trial 118 finished with value: 0.8588114467272824 and parameters: {'n_estimators': 101, 'learning_rate': 0.11302248465383684, 'max_depth': 10, 'subsample': 0.49314871923119974}. Best is trial 26 with value: 0.8699537941900298.\n",
      "[I 2024-10-31 09:25:16,503] Trial 120 finished with value: 0.8639180147660019 and parameters: {'n_estimators': 104, 'learning_rate': 0.1373884323517913, 'max_depth': 10, 'subsample': 0.5006216703476981}. Best is trial 26 with value: 0.8699537941900298.\n",
      "[I 2024-10-31 09:25:16,976] Trial 121 finished with value: 0.8664792702985576 and parameters: {'n_estimators': 104, 'learning_rate': 0.13872042717617256, 'max_depth': 10, 'subsample': 0.4864334171442418}. Best is trial 26 with value: 0.8699537941900298.\n",
      "[I 2024-10-31 09:25:17,341] Trial 124 finished with value: 0.8603624526025024 and parameters: {'n_estimators': 103, 'learning_rate': 0.23405284842311502, 'max_depth': 10, 'subsample': 0.49448542177203886}. Best is trial 26 with value: 0.8699537941900298.\n",
      "[I 2024-10-31 09:25:17,463] Trial 125 finished with value: 0.847240506342101 and parameters: {'n_estimators': 104, 'learning_rate': 0.2792102461605573, 'max_depth': 10, 'subsample': 0.48896169397160244}. Best is trial 26 with value: 0.8699537941900298.\n",
      "[I 2024-10-31 09:25:17,811] Trial 123 finished with value: 0.8495024173639223 and parameters: {'n_estimators': 104, 'learning_rate': 0.11151290866832478, 'max_depth': 10, 'subsample': 0.4031461155770805}. Best is trial 26 with value: 0.8699537941900298.\n",
      "[I 2024-10-31 09:25:17,905] Trial 126 finished with value: 0.852770591438559 and parameters: {'n_estimators': 103, 'learning_rate': 0.351547167525888, 'max_depth': 10, 'subsample': 0.4113295290604169}. Best is trial 26 with value: 0.8699537941900298.\n",
      "[I 2024-10-31 09:25:18,049] Trial 122 finished with value: 0.8535411567988347 and parameters: {'n_estimators': 103, 'learning_rate': 0.11267584166070214, 'max_depth': 10, 'subsample': 0.4133347974363395}. Best is trial 26 with value: 0.8699537941900298.\n",
      "[I 2024-10-31 09:25:18,425] Trial 127 finished with value: 0.8562564626153659 and parameters: {'n_estimators': 104, 'learning_rate': 0.2610607920883252, 'max_depth': 10, 'subsample': 0.42155311873807577}. Best is trial 26 with value: 0.8699537941900298.\n",
      "[I 2024-10-31 09:25:19,054] Trial 128 finished with value: 0.8488100116456113 and parameters: {'n_estimators': 104, 'learning_rate': 0.13485041610815754, 'max_depth': 10, 'subsample': 0.4188481988275144}. Best is trial 26 with value: 0.8699537941900298.\n",
      "[I 2024-10-31 09:25:19,078] Trial 129 finished with value: 0.8589048787164756 and parameters: {'n_estimators': 104, 'learning_rate': 0.32352046246803684, 'max_depth': 10, 'subsample': 0.4274570802073212}. Best is trial 26 with value: 0.8699537941900298.\n",
      "[I 2024-10-31 09:25:19,769] Trial 130 finished with value: 0.8503348720860717 and parameters: {'n_estimators': 104, 'learning_rate': 0.36192658547591455, 'max_depth': 10, 'subsample': 0.4078436402990974}. Best is trial 26 with value: 0.8699537941900298.\n",
      "[I 2024-10-31 09:25:20,309] Trial 132 finished with value: 0.8618960223965483 and parameters: {'n_estimators': 98, 'learning_rate': 0.3199700943306261, 'max_depth': 10, 'subsample': 0.42637885767504324}. Best is trial 26 with value: 0.8699537941900298.\n",
      "[I 2024-10-31 09:25:20,899] Trial 134 finished with value: 0.8524103996010848 and parameters: {'n_estimators': 98, 'learning_rate': 0.13910439691364768, 'max_depth': 9, 'subsample': 0.43263514618243776}. Best is trial 26 with value: 0.8699537941900298.\n",
      "[I 2024-10-31 09:25:21,126] Trial 131 finished with value: 0.8561770192611293 and parameters: {'n_estimators': 99, 'learning_rate': 0.13863833656358573, 'max_depth': 10, 'subsample': 0.40789773101406085}. Best is trial 26 with value: 0.8699537941900298.\n",
      "[I 2024-10-31 09:25:21,542] Trial 133 finished with value: 0.8464315506623452 and parameters: {'n_estimators': 98, 'learning_rate': 0.1358074681318361, 'max_depth': 10, 'subsample': 0.31477386011166575}. Best is trial 26 with value: 0.8699537941900298.\n",
      "[I 2024-10-31 09:25:21,840] Trial 135 finished with value: 0.8551914945577092 and parameters: {'n_estimators': 98, 'learning_rate': 0.1370209156458701, 'max_depth': 9, 'subsample': 0.4393415840228101}. Best is trial 26 with value: 0.8699537941900298.\n",
      "[I 2024-10-31 09:25:22,306] Trial 137 finished with value: 0.8525442792887226 and parameters: {'n_estimators': 87, 'learning_rate': 0.13733333423132663, 'max_depth': 9, 'subsample': 0.5934420355747625}. Best is trial 26 with value: 0.8699537941900298.\n",
      "[I 2024-10-31 09:25:22,826] Trial 138 finished with value: 0.8506943232734534 and parameters: {'n_estimators': 98, 'learning_rate': 0.13706193380010714, 'max_depth': 9, 'subsample': 0.5988035220468612}. Best is trial 26 with value: 0.8699537941900298.\n",
      "[I 2024-10-31 09:25:22,886] Trial 139 finished with value: 0.8478360480470045 and parameters: {'n_estimators': 88, 'learning_rate': 0.1382390347907137, 'max_depth': 9, 'subsample': 0.5981949743517826}. Best is trial 26 with value: 0.8699537941900298.\n",
      "[I 2024-10-31 09:25:22,941] Trial 136 finished with value: 0.8547086327203419 and parameters: {'n_estimators': 83, 'learning_rate': 0.09560289672040911, 'max_depth': 9, 'subsample': 0.6050426244624414}. Best is trial 26 with value: 0.8699537941900298.\n",
      "[I 2024-10-31 09:25:23,411] Trial 141 finished with value: 0.8525381131875105 and parameters: {'n_estimators': 88, 'learning_rate': 0.12571751464054812, 'max_depth': 9, 'subsample': 0.602806412257011}. Best is trial 26 with value: 0.8699537941900298.\n",
      "[I 2024-10-31 09:25:23,544] Trial 140 finished with value: 0.8533219232123084 and parameters: {'n_estimators': 87, 'learning_rate': 0.12754128776936358, 'max_depth': 9, 'subsample': 0.6060988066863432}. Best is trial 26 with value: 0.8699537941900298.\n",
      "[I 2024-10-31 09:25:23,590] Trial 143 finished with value: 0.8483866316065974 and parameters: {'n_estimators': 88, 'learning_rate': 0.1266507556811159, 'max_depth': 5, 'subsample': 0.5980517376422136}. Best is trial 26 with value: 0.8699537941900298.\n",
      "[I 2024-10-31 09:25:23,971] Trial 142 finished with value: 0.8557364151580524 and parameters: {'n_estimators': 83, 'learning_rate': 0.12673740086142427, 'max_depth': 9, 'subsample': 0.6057806207357419}. Best is trial 26 with value: 0.8699537941900298.\n",
      "[I 2024-10-31 09:25:24,389] Trial 144 finished with value: 0.8521479704368244 and parameters: {'n_estimators': 96, 'learning_rate': 0.1269358702986563, 'max_depth': 9, 'subsample': 0.6026390890371731}. Best is trial 26 with value: 0.8699537941900298.\n",
      "[I 2024-10-31 09:25:24,582] Trial 146 finished with value: 0.8454436851793653 and parameters: {'n_estimators': 110, 'learning_rate': 0.1274284221497318, 'max_depth': 5, 'subsample': 0.7269879827125119}. Best is trial 26 with value: 0.8699537941900298.\n",
      "[I 2024-10-31 09:25:25,459] Trial 150 finished with value: 0.8594393756344706 and parameters: {'n_estimators': 92, 'learning_rate': 0.16011981336639958, 'max_depth': 10, 'subsample': 0.4691314977789888}. Best is trial 26 with value: 0.8699537941900298.\n",
      "[I 2024-10-31 09:25:25,479] Trial 149 finished with value: 0.8571278073390607 and parameters: {'n_estimators': 92, 'learning_rate': 0.1624320294823792, 'max_depth': 10, 'subsample': 0.5148172294073594}. Best is trial 26 with value: 0.8699537941900298.\n",
      "[I 2024-10-31 09:25:25,538] Trial 148 finished with value: 0.8696885132360329 and parameters: {'n_estimators': 93, 'learning_rate': 0.1453450235220493, 'max_depth': 10, 'subsample': 0.5056682989157699}. Best is trial 26 with value: 0.8699537941900298.\n",
      "[I 2024-10-31 09:25:25,580] Trial 147 finished with value: 0.8517603451073705 and parameters: {'n_estimators': 109, 'learning_rate': 0.1268591988665135, 'max_depth': 10, 'subsample': 0.6528484992071322}. Best is trial 26 with value: 0.8699537941900298.\n",
      "[I 2024-10-31 09:25:25,765] Trial 145 finished with value: 0.8537183896172873 and parameters: {'n_estimators': 96, 'learning_rate': 0.0946366020934558, 'max_depth': 10, 'subsample': 0.6608308923299205}. Best is trial 26 with value: 0.8699537941900298.\n",
      "[I 2024-10-31 09:25:25,989] Trial 151 finished with value: 0.8640395590359491 and parameters: {'n_estimators': 93, 'learning_rate': 0.15744482660334397, 'max_depth': 10, 'subsample': 0.5191065605748006}. Best is trial 26 with value: 0.8699537941900298.\n",
      "[I 2024-10-31 09:25:26,277] Trial 152 finished with value: 0.8573163105107863 and parameters: {'n_estimators': 93, 'learning_rate': 0.162645095787763, 'max_depth': 10, 'subsample': 0.5095575580671512}. Best is trial 26 with value: 0.8699537941900298.\n",
      "[I 2024-10-31 09:25:26,455] Trial 153 finished with value: 0.8569164460112856 and parameters: {'n_estimators': 50, 'learning_rate': 0.11978292330528038, 'max_depth': 10, 'subsample': 0.5072977232327811}. Best is trial 26 with value: 0.8699537941900298.\n",
      "[I 2024-10-31 09:25:27,667] Trial 155 finished with value: 0.8402429041605449 and parameters: {'n_estimators': 50, 'learning_rate': 0.11553917156127987, 'max_depth': 10, 'subsample': 0.5521349121591704}. Best is trial 26 with value: 0.8699537941900298.\n",
      "[I 2024-10-31 09:25:27,751] Trial 156 finished with value: 0.8584074945303507 and parameters: {'n_estimators': 62, 'learning_rate': 0.14652653486916553, 'max_depth': 10, 'subsample': 0.552598892216154}. Best is trial 26 with value: 0.8699537941900298.\n",
      "[I 2024-10-31 09:25:27,939] Trial 158 finished with value: 0.8637420498312306 and parameters: {'n_estimators': 114, 'learning_rate': 0.14613015810680538, 'max_depth': 10, 'subsample': 0.5176608843571547}. Best is trial 26 with value: 0.8699537941900298.\n",
      "[I 2024-10-31 09:25:27,963] Trial 154 finished with value: 0.8608703645782303 and parameters: {'n_estimators': 113, 'learning_rate': 0.16468022472502533, 'max_depth': 10, 'subsample': 0.6602645225049907}. Best is trial 26 with value: 0.8699537941900298.\n",
      "[I 2024-10-31 09:25:28,219] Trial 157 finished with value: 0.8605326692206527 and parameters: {'n_estimators': 113, 'learning_rate': 0.11976323612466362, 'max_depth': 10, 'subsample': 0.5467447282185314}. Best is trial 26 with value: 0.8699537941900298.\n",
      "[I 2024-10-31 09:25:28,366] Trial 159 finished with value: 0.863083980240793 and parameters: {'n_estimators': 90, 'learning_rate': 0.14712806178694884, 'max_depth': 10, 'subsample': 0.5509281526824178}. Best is trial 26 with value: 0.8699537941900298.\n",
      "[I 2024-10-31 09:25:28,585] Trial 160 finished with value: 0.8641453011717192 and parameters: {'n_estimators': 113, 'learning_rate': 0.14688642941563068, 'max_depth': 10, 'subsample': 0.5495586544595291}. Best is trial 26 with value: 0.8699537941900298.\n",
      "[I 2024-10-31 09:25:28,628] Trial 161 finished with value: 0.8572541907218468 and parameters: {'n_estimators': 90, 'learning_rate': 0.11669016535903391, 'max_depth': 10, 'subsample': 0.4687064276505562}. Best is trial 26 with value: 0.8699537941900298.\n",
      "[I 2024-10-31 09:25:29,634] Trial 163 finished with value: 0.8574178041741966 and parameters: {'n_estimators': 90, 'learning_rate': 0.1471735091218401, 'max_depth': 10, 'subsample': 0.4669072366248117}. Best is trial 26 with value: 0.8699537941900298.\n",
      "[I 2024-10-31 09:25:29,768] Trial 165 finished with value: 0.8493977684376153 and parameters: {'n_estimators': 117, 'learning_rate': 0.14680614886851878, 'max_depth': 10, 'subsample': 0.46193528540904655}. Best is trial 26 with value: 0.8699537941900298.\n",
      "[I 2024-10-31 09:25:29,868] Trial 164 finished with value: 0.8589234427255392 and parameters: {'n_estimators': 112, 'learning_rate': 0.14559827467469577, 'max_depth': 10, 'subsample': 0.48141316540464424}. Best is trial 26 with value: 0.8699537941900298.\n",
      "[I 2024-10-31 09:25:29,896] Trial 162 finished with value: 0.8525825453153695 and parameters: {'n_estimators': 90, 'learning_rate': 0.12086333607859397, 'max_depth': 10, 'subsample': 0.46427007781048407}. Best is trial 26 with value: 0.8699537941900298.\n",
      "[I 2024-10-31 09:25:30,123] Trial 166 finished with value: 0.8498880014577089 and parameters: {'n_estimators': 117, 'learning_rate': 0.14502858778579697, 'max_depth': 10, 'subsample': 0.45652607346535623}. Best is trial 26 with value: 0.8699537941900298.\n",
      "[I 2024-10-31 09:25:30,255] Trial 167 finished with value: 0.8578499531406396 and parameters: {'n_estimators': 90, 'learning_rate': 0.1465334999516075, 'max_depth': 10, 'subsample': 0.47339216916427346}. Best is trial 26 with value: 0.8699537941900298.\n",
      "[I 2024-10-31 09:25:30,524] Trial 168 finished with value: 0.8559376888104324 and parameters: {'n_estimators': 115, 'learning_rate': 0.1465054296058851, 'max_depth': 10, 'subsample': 0.48286361951714246}. Best is trial 26 with value: 0.8699537941900298.\n",
      "[I 2024-10-31 09:25:30,593] Trial 169 finished with value: 0.862297081048488 and parameters: {'n_estimators': 114, 'learning_rate': 0.14703230055698457, 'max_depth': 10, 'subsample': 0.48080150908206726}. Best is trial 26 with value: 0.8699537941900298.\n",
      "[I 2024-10-31 09:25:31,135] Trial 171 finished with value: 0.8463604733145169 and parameters: {'n_estimators': 115, 'learning_rate': 0.48681035874800976, 'max_depth': 10, 'subsample': 0.49645196519759716}. Best is trial 26 with value: 0.8699537941900298.\n",
      "[I 2024-10-31 09:25:31,562] Trial 170 finished with value: 0.8550464641810821 and parameters: {'n_estimators': 114, 'learning_rate': 0.14607351321423742, 'max_depth': 10, 'subsample': 0.48731914797408}. Best is trial 26 with value: 0.8699537941900298.\n",
      "[I 2024-10-31 09:25:31,807] Trial 172 finished with value: 0.862835304060449 and parameters: {'n_estimators': 115, 'learning_rate': 0.15617974550169517, 'max_depth': 10, 'subsample': 0.497685030748354}. Best is trial 26 with value: 0.8699537941900298.\n",
      "[I 2024-10-31 09:25:31,957] Trial 173 finished with value: 0.8637013500010443 and parameters: {'n_estimators': 110, 'learning_rate': 0.15786906140773213, 'max_depth': 10, 'subsample': 0.5068230136160501}. Best is trial 26 with value: 0.8699537941900298.\n",
      "[I 2024-10-31 09:25:32,169] Trial 174 finished with value: 0.8599628204095947 and parameters: {'n_estimators': 93, 'learning_rate': 0.1552355897265208, 'max_depth': 10, 'subsample': 0.5094284052929526}. Best is trial 26 with value: 0.8699537941900298.\n",
      "[I 2024-10-31 09:25:32,352] Trial 175 finished with value: 0.8621107914632367 and parameters: {'n_estimators': 110, 'learning_rate': 0.17365836221324024, 'max_depth': 10, 'subsample': 0.510955853527887}. Best is trial 26 with value: 0.8699537941900298.\n",
      "[I 2024-10-31 09:25:32,532] Trial 176 finished with value: 0.8559171677213 and parameters: {'n_estimators': 110, 'learning_rate': 0.15923003727228324, 'max_depth': 10, 'subsample': 0.5136807646308669}. Best is trial 26 with value: 0.8699537941900298.\n",
      "[I 2024-10-31 09:25:32,626] Trial 177 finished with value: 0.8628599126066168 and parameters: {'n_estimators': 111, 'learning_rate': 0.15634327104258197, 'max_depth': 10, 'subsample': 0.5104734686220729}. Best is trial 26 with value: 0.8699537941900298.\n",
      "[I 2024-10-31 09:25:33,145] Trial 178 finished with value: 0.8555492018469489 and parameters: {'n_estimators': 110, 'learning_rate': 0.1587607413441918, 'max_depth': 10, 'subsample': 0.5221351203371317}. Best is trial 26 with value: 0.8699537941900298.\n",
      "[I 2024-10-31 09:25:33,511] Trial 179 finished with value: 0.8625108538618802 and parameters: {'n_estimators': 111, 'learning_rate': 0.1550967001418316, 'max_depth': 10, 'subsample': 0.5499280903939925}. Best is trial 26 with value: 0.8699537941900298.\n",
      "[I 2024-10-31 09:25:33,791] Trial 181 finished with value: 0.8554640370982616 and parameters: {'n_estimators': 109, 'learning_rate': 0.17355473433246846, 'max_depth': 9, 'subsample': 0.5673693571996894}. Best is trial 26 with value: 0.8699537941900298.\n",
      "[I 2024-10-31 09:25:33,863] Trial 180 finished with value: 0.8598499799118893 and parameters: {'n_estimators': 110, 'learning_rate': 0.1687959906624312, 'max_depth': 10, 'subsample': 0.5263492805988135}. Best is trial 26 with value: 0.8699537941900298.\n",
      "[I 2024-10-31 09:25:34,006] Trial 182 finished with value: 0.85618175699828 and parameters: {'n_estimators': 110, 'learning_rate': 0.174115090063629, 'max_depth': 9, 'subsample': 0.5630728411785239}. Best is trial 26 with value: 0.8699537941900298.\n",
      "[I 2024-10-31 09:25:34,297] Trial 183 finished with value: 0.8595729265843246 and parameters: {'n_estimators': 111, 'learning_rate': 0.1705234866375222, 'max_depth': 9, 'subsample': 0.5550260194431278}. Best is trial 26 with value: 0.8699537941900298.\n",
      "[I 2024-10-31 09:25:34,399] Trial 185 finished with value: 0.8487546356427956 and parameters: {'n_estimators': 95, 'learning_rate': 0.16898778794349917, 'max_depth': 9, 'subsample': 0.5700820625346438}. Best is trial 26 with value: 0.8699537941900298.\n",
      "[I 2024-10-31 09:25:34,755] Trial 184 finished with value: 0.8553465880775115 and parameters: {'n_estimators': 108, 'learning_rate': 0.1319485189671541, 'max_depth': 9, 'subsample': 0.5663868475277374}. Best is trial 26 with value: 0.8699537941900298.\n",
      "[I 2024-10-31 09:25:35,266] Trial 187 finished with value: 0.8531635495017611 and parameters: {'n_estimators': 95, 'learning_rate': 0.13134924585756055, 'max_depth': 9, 'subsample': 0.1585822821801433}. Best is trial 26 with value: 0.8699537941900298.\n",
      "[I 2024-10-31 09:25:35,337] Trial 186 finished with value: 0.8595058891657107 and parameters: {'n_estimators': 108, 'learning_rate': 0.13109414050153265, 'max_depth': 9, 'subsample': 0.552379635107463}. Best is trial 26 with value: 0.8699537941900298.\n",
      "[I 2024-10-31 09:25:35,625] Trial 188 finished with value: 0.839283852998816 and parameters: {'n_estimators': 95, 'learning_rate': 0.1326413623297961, 'max_depth': 10, 'subsample': 0.1397278407235006}. Best is trial 26 with value: 0.8699537941900298.\n",
      "[I 2024-10-31 09:25:35,754] Trial 190 finished with value: 0.8527292492083384 and parameters: {'n_estimators': 94, 'learning_rate': 0.13321481931759363, 'max_depth': 7, 'subsample': 0.4449027389497426}. Best is trial 26 with value: 0.8699537941900298.\n",
      "[I 2024-10-31 09:25:35,853] Trial 189 finished with value: 0.8558694710448885 and parameters: {'n_estimators': 95, 'learning_rate': 0.13244312549604448, 'max_depth': 7, 'subsample': 0.5519718010783722}. Best is trial 26 with value: 0.8699537941900298.\n",
      "[I 2024-10-31 09:25:35,914] Trial 191 finished with value: 0.7924401933413291 and parameters: {'n_estimators': 95, 'learning_rate': 0.13349365403945843, 'max_depth': 10, 'subsample': 0.0869755973097578}. Best is trial 26 with value: 0.8699537941900298.\n",
      "[I 2024-10-31 09:25:36,222] Trial 192 finished with value: 0.8514538414131031 and parameters: {'n_estimators': 118, 'learning_rate': 0.13250597716211632, 'max_depth': 10, 'subsample': 0.14921108696798993}. Best is trial 26 with value: 0.8699537941900298.\n",
      "[I 2024-10-31 09:25:37,599] Trial 195 finished with value: 0.856894518110167 and parameters: {'n_estimators': 93, 'learning_rate': 0.1053048452544348, 'max_depth': 10, 'subsample': 0.6303206242154137}. Best is trial 26 with value: 0.8699537941900298.\n",
      "[I 2024-10-31 09:25:37,662] Trial 199 finished with value: 0.8495247589532426 and parameters: {'n_estimators': 106, 'learning_rate': 0.14154486131983895, 'max_depth': 10, 'subsample': 0.7137805779907032}. Best is trial 26 with value: 0.8699537941900298.\n",
      "[I 2024-10-31 09:25:37,735] Trial 196 finished with value: 0.8596848113620494 and parameters: {'n_estimators': 106, 'learning_rate': 0.1409535910691034, 'max_depth': 10, 'subsample': 0.6380125559275707}. Best is trial 26 with value: 0.8699537941900298.\n",
      "[I 2024-10-31 09:25:37,761] Trial 197 finished with value: 0.8541143851277446 and parameters: {'n_estimators': 92, 'learning_rate': 0.10658742125603225, 'max_depth': 10, 'subsample': 0.6969719290790545}. Best is trial 26 with value: 0.8699537941900298.\n",
      "[I 2024-10-31 09:25:37,785] Trial 193 finished with value: 0.8469097510778123 and parameters: {'n_estimators': 94, 'learning_rate': 0.0587977795524389, 'max_depth': 10, 'subsample': 0.697082929200284}. Best is trial 26 with value: 0.8699537941900298.\n",
      "[I 2024-10-31 09:25:37,839] Trial 198 finished with value: 0.8577924518389409 and parameters: {'n_estimators': 112, 'learning_rate': 0.1075628483295386, 'max_depth': 10, 'subsample': 0.6966151082427507}. Best is trial 26 with value: 0.8699537941900298.\n",
      "[I 2024-10-31 09:25:37,973] Trial 194 finished with value: 0.8448965997748138 and parameters: {'n_estimators': 106, 'learning_rate': 0.05249658002831953, 'max_depth': 10, 'subsample': 0.6439318126834105}. Best is trial 26 with value: 0.8699537941900298.\n"
     ]
    }
   ],
   "source": [
    "def objective(trial,\n",
    "    X,\n",
    "    y,\n",
    "    random_state=22,\n",
    "    n_splits=3,\n",
    "    n_repeats=2,\n",
    "    n_jobs=-1,\n",
    "              ):\n",
    "    \n",
    "    param = {\n",
    "        \"objective\": \"reg:squarederror\",\n",
    "        \"tree_method\":'hist',\n",
    "        'n_estimators': trial.suggest_int('n_estimators', 50, 120),\n",
    "        \"verbosity\": 1,\n",
    "        \"learning_rate\": trial.suggest_float(\"learning_rate\", 0.05, 0.5, log=True),\n",
    "        \"max_depth\": trial.suggest_int(\"max_depth\", 3, 10),\n",
    "        \"subsample\": trial.suggest_float(\"subsample\", 0.05, 0.9,log=True),\n",
    "        \"n_jobs\": n_jobs,\n",
    "    }\n",
    "    \n",
    "    model = xgb.XGBRegressor(**param, eval_metric=\"rmse\",early_stopping_rounds = EARLY_STOPPING_ROUNDS)\n",
    "    rkf = RepeatedKFold(n_splits=n_splits, n_repeats=n_repeats, random_state=random_state)\n",
    "    X_values = X.values\n",
    "    y_values = y.values\n",
    "    y_pred = np.zeros_like(y_values)\n",
    "\n",
    "    for train_index, test_index in rkf.split(X_values):\n",
    "        X_A, X_B = X_values[train_index, :], X_values[test_index, :]\n",
    "        y_A, y_B = y_values[train_index], y_values[test_index]\n",
    "        model.fit(X_A, y_A, eval_set=[(X_B, y_B)], verbose=0,)\n",
    "        y_pred[test_index] += model.predict(X_B)\n",
    "    y_pred /= n_repeats\n",
    "    r2 = r2_score(y_true = y_train, y_pred = y_pred)\n",
    "    \n",
    "    return r2\n",
    "\n",
    "\n",
    "sampler = TPESampler(seed=10)  # Make the sampler behave in a deterministic way.\n",
    "study = optuna.create_study(sampler = sampler, direction='maximize')\n",
    "study.optimize(\n",
    "    lambda trial: objective(\n",
    "        trial,\n",
    "        X_train,\n",
    "        y_train,\n",
    "        random_state=RS,\n",
    "        n_splits=N_SPLITS,\n",
    "        n_repeats=N_REPEATS,\n",
    "        n_jobs=N_JOBS,\n",
    "    ),\n",
    "    n_trials=N_TRIALS,\n",
    "    n_jobs=N_JOBS,\n",
    ")"
   ]
  },
  {
   "cell_type": "code",
   "execution_count": 10,
   "id": "43040a6d",
   "metadata": {},
   "outputs": [
    {
     "data": {
      "application/vnd.plotly.v1+json": {
       "config": {
        "plotlyServerURL": "https://plot.ly"
       },
       "data": [
        {
         "mode": "markers",
         "name": "Objective Value",
         "type": "scatter",
         "x": [
          0,
          1,
          2,
          3,
          4,
          5,
          6,
          7,
          8,
          9,
          10,
          11,
          12,
          13,
          14,
          15,
          16,
          17,
          18,
          19,
          20,
          21,
          22,
          23,
          24,
          25,
          26,
          27,
          28,
          29,
          30,
          31,
          32,
          33,
          34,
          35,
          36,
          37,
          38,
          39,
          40,
          41,
          42,
          43,
          44,
          45,
          46,
          47,
          48,
          49,
          50,
          51,
          52,
          53,
          54,
          55,
          56,
          57,
          58,
          59,
          60,
          61,
          62,
          63,
          64,
          65,
          66,
          67,
          68,
          69,
          70,
          71,
          72,
          73,
          74,
          75,
          76,
          77,
          78,
          79,
          80,
          81,
          82,
          83,
          84,
          85,
          86,
          87,
          88,
          89,
          90,
          91,
          92,
          93,
          94,
          95,
          96,
          97,
          98,
          99,
          100,
          101,
          102,
          103,
          104,
          105,
          106,
          107,
          108,
          109,
          110,
          111,
          112,
          113,
          114,
          115,
          116,
          117,
          118,
          119,
          120,
          121,
          122,
          123,
          124,
          125,
          126,
          127,
          128,
          129,
          130,
          131,
          132,
          133,
          134,
          135,
          136,
          137,
          138,
          139,
          140,
          141,
          142,
          143,
          144,
          145,
          146,
          147,
          148,
          149,
          150,
          151,
          152,
          153,
          154,
          155,
          156,
          157,
          158,
          159,
          160,
          161,
          162,
          163,
          164,
          165,
          166,
          167,
          168,
          169,
          170,
          171,
          172,
          173,
          174,
          175,
          176,
          177,
          178,
          179,
          180,
          181,
          182,
          183,
          184,
          185,
          186,
          187,
          188,
          189,
          190,
          191,
          192,
          193,
          194,
          195,
          196,
          197,
          198,
          199
         ],
         "y": [
          0.8056188529186201,
          0.7303581792837245,
          0.8563302902056145,
          0.8375427998655589,
          0.8476032165374447,
          0.8510573253169134,
          0.8498311939295615,
          0.8078656179129987,
          0.8585186756348374,
          0.6895988887966626,
          0.8372805271490535,
          0.8098222534983315,
          0.8483101976121308,
          0.82939298969335,
          0.8229947803335392,
          0.8439951209634232,
          0.8090662979968767,
          0.8505662386533861,
          0.8404401435926867,
          0.8426068720686742,
          0.8532776529985795,
          0.8571701819499717,
          0.8566059243206358,
          0.8560130030824294,
          0.8629140754933082,
          0.8650882941063971,
          0.8699537941900298,
          0.8549943731772448,
          0.8592381165690328,
          0.8611353391208322,
          0.8528504639679393,
          0.854732129082366,
          0.8638761347614631,
          0.8567820526083625,
          0.8586253503993493,
          0.8620408795136277,
          0.8577858266830829,
          0.8600584691621711,
          0.8518752577004469,
          0.8588058935089607,
          0.8556897336697847,
          0.8579611630656512,
          0.8530067812240321,
          0.8589582999616685,
          0.8605535168796654,
          0.8596542814098748,
          0.8515161278399659,
          0.8498683450352295,
          0.8491951233334116,
          0.8615648331947395,
          0.856402801134595,
          0.8541175771316503,
          0.8641892765319593,
          0.8566696879076879,
          0.8354317307076773,
          0.8315590465062362,
          0.825778893811729,
          0.8353808657789517,
          0.837110833480882,
          0.845280662130119,
          0.8454526323308307,
          0.8446004964405012,
          0.8453813818964573,
          0.8423794302228167,
          0.843790954810206,
          0.8429725205750226,
          0.8441377142394887,
          0.8362725620096534,
          0.8467722027939784,
          0.8577130185067805,
          0.8642516168922821,
          0.8544482104833219,
          0.8624291325718454,
          0.8588916234969228,
          0.8588307286979431,
          0.8665390815343093,
          0.8599738622114621,
          0.826454547570066,
          0.8571712654441292,
          0.8556188135588106,
          0.8566578071828559,
          0.8637603533516913,
          0.8552245158837526,
          0.8563640645443953,
          0.853695288727865,
          0.6923482922442701,
          0.851113797452604,
          0.8498406220776924,
          0.8522678720274377,
          0.85453632753368,
          0.8505936902975029,
          0.8470501623816545,
          0.8549646190609426,
          0.8537507199620351,
          0.854129529738243,
          0.8630439263035983,
          0.8614802903745424,
          0.7380102472376522,
          0.7546470067743003,
          0.8573958528350843,
          0.8610068887874223,
          0.8540823070966049,
          0.8593912247778384,
          0.8524339669368725,
          0.8568441606765506,
          0.8475042131018039,
          0.8610895973198127,
          0.8511677486427847,
          0.8533498532784577,
          0.8597418527928525,
          0.8590530123412403,
          0.8629862526682913,
          0.862714360709514,
          0.8610961027953085,
          0.860756072914989,
          0.8599019429618386,
          0.8620568966953323,
          0.8654524601659179,
          0.8588114467272824,
          0.8605246691309472,
          0.8639180147660019,
          0.8664792702985576,
          0.8535411567988347,
          0.8495024173639223,
          0.8603624526025024,
          0.847240506342101,
          0.852770591438559,
          0.8562564626153659,
          0.8488100116456113,
          0.8589048787164756,
          0.8503348720860717,
          0.8561770192611293,
          0.8618960223965483,
          0.8464315506623452,
          0.8524103996010848,
          0.8551914945577092,
          0.8547086327203419,
          0.8525442792887226,
          0.8506943232734534,
          0.8478360480470045,
          0.8533219232123084,
          0.8525381131875105,
          0.8557364151580524,
          0.8483866316065974,
          0.8521479704368244,
          0.8537183896172873,
          0.8454436851793653,
          0.8517603451073705,
          0.8696885132360329,
          0.8571278073390607,
          0.8594393756344706,
          0.8640395590359491,
          0.8573163105107863,
          0.8569164460112856,
          0.8608703645782303,
          0.8402429041605449,
          0.8584074945303507,
          0.8605326692206527,
          0.8637420498312306,
          0.863083980240793,
          0.8641453011717192,
          0.8572541907218468,
          0.8525825453153695,
          0.8574178041741966,
          0.8589234427255392,
          0.8493977684376153,
          0.8498880014577089,
          0.8578499531406396,
          0.8559376888104324,
          0.862297081048488,
          0.8550464641810821,
          0.8463604733145169,
          0.862835304060449,
          0.8637013500010443,
          0.8599628204095947,
          0.8621107914632367,
          0.8559171677213,
          0.8628599126066168,
          0.8555492018469489,
          0.8625108538618802,
          0.8598499799118893,
          0.8554640370982616,
          0.85618175699828,
          0.8595729265843246,
          0.8553465880775115,
          0.8487546356427956,
          0.8595058891657107,
          0.8531635495017611,
          0.839283852998816,
          0.8558694710448885,
          0.8527292492083384,
          0.7924401933413291,
          0.8514538414131031,
          0.8469097510778123,
          0.8448965997748138,
          0.856894518110167,
          0.8596848113620494,
          0.8541143851277446,
          0.8577924518389409,
          0.8495247589532426
         ]
        },
        {
         "mode": "lines",
         "name": "Best Value",
         "type": "scatter",
         "x": [
          0,
          1,
          2,
          3,
          4,
          5,
          6,
          7,
          8,
          9,
          10,
          11,
          12,
          13,
          14,
          15,
          16,
          17,
          18,
          19,
          20,
          21,
          22,
          23,
          24,
          25,
          26,
          27,
          28,
          29,
          30,
          31,
          32,
          33,
          34,
          35,
          36,
          37,
          38,
          39,
          40,
          41,
          42,
          43,
          44,
          45,
          46,
          47,
          48,
          49,
          50,
          51,
          52,
          53,
          54,
          55,
          56,
          57,
          58,
          59,
          60,
          61,
          62,
          63,
          64,
          65,
          66,
          67,
          68,
          69,
          70,
          71,
          72,
          73,
          74,
          75,
          76,
          77,
          78,
          79,
          80,
          81,
          82,
          83,
          84,
          85,
          86,
          87,
          88,
          89,
          90,
          91,
          92,
          93,
          94,
          95,
          96,
          97,
          98,
          99,
          100,
          101,
          102,
          103,
          104,
          105,
          106,
          107,
          108,
          109,
          110,
          111,
          112,
          113,
          114,
          115,
          116,
          117,
          118,
          119,
          120,
          121,
          122,
          123,
          124,
          125,
          126,
          127,
          128,
          129,
          130,
          131,
          132,
          133,
          134,
          135,
          136,
          137,
          138,
          139,
          140,
          141,
          142,
          143,
          144,
          145,
          146,
          147,
          148,
          149,
          150,
          151,
          152,
          153,
          154,
          155,
          156,
          157,
          158,
          159,
          160,
          161,
          162,
          163,
          164,
          165,
          166,
          167,
          168,
          169,
          170,
          171,
          172,
          173,
          174,
          175,
          176,
          177,
          178,
          179,
          180,
          181,
          182,
          183,
          184,
          185,
          186,
          187,
          188,
          189,
          190,
          191,
          192,
          193,
          194,
          195,
          196,
          197,
          198,
          199
         ],
         "y": [
          0.8056188529186201,
          0.8056188529186201,
          0.8563302902056145,
          0.8563302902056145,
          0.8563302902056145,
          0.8563302902056145,
          0.8563302902056145,
          0.8563302902056145,
          0.8585186756348374,
          0.8585186756348374,
          0.8585186756348374,
          0.8585186756348374,
          0.8585186756348374,
          0.8585186756348374,
          0.8585186756348374,
          0.8585186756348374,
          0.8585186756348374,
          0.8585186756348374,
          0.8585186756348374,
          0.8585186756348374,
          0.8585186756348374,
          0.8585186756348374,
          0.8585186756348374,
          0.8585186756348374,
          0.8629140754933082,
          0.8650882941063971,
          0.8699537941900298,
          0.8699537941900298,
          0.8699537941900298,
          0.8699537941900298,
          0.8699537941900298,
          0.8699537941900298,
          0.8699537941900298,
          0.8699537941900298,
          0.8699537941900298,
          0.8699537941900298,
          0.8699537941900298,
          0.8699537941900298,
          0.8699537941900298,
          0.8699537941900298,
          0.8699537941900298,
          0.8699537941900298,
          0.8699537941900298,
          0.8699537941900298,
          0.8699537941900298,
          0.8699537941900298,
          0.8699537941900298,
          0.8699537941900298,
          0.8699537941900298,
          0.8699537941900298,
          0.8699537941900298,
          0.8699537941900298,
          0.8699537941900298,
          0.8699537941900298,
          0.8699537941900298,
          0.8699537941900298,
          0.8699537941900298,
          0.8699537941900298,
          0.8699537941900298,
          0.8699537941900298,
          0.8699537941900298,
          0.8699537941900298,
          0.8699537941900298,
          0.8699537941900298,
          0.8699537941900298,
          0.8699537941900298,
          0.8699537941900298,
          0.8699537941900298,
          0.8699537941900298,
          0.8699537941900298,
          0.8699537941900298,
          0.8699537941900298,
          0.8699537941900298,
          0.8699537941900298,
          0.8699537941900298,
          0.8699537941900298,
          0.8699537941900298,
          0.8699537941900298,
          0.8699537941900298,
          0.8699537941900298,
          0.8699537941900298,
          0.8699537941900298,
          0.8699537941900298,
          0.8699537941900298,
          0.8699537941900298,
          0.8699537941900298,
          0.8699537941900298,
          0.8699537941900298,
          0.8699537941900298,
          0.8699537941900298,
          0.8699537941900298,
          0.8699537941900298,
          0.8699537941900298,
          0.8699537941900298,
          0.8699537941900298,
          0.8699537941900298,
          0.8699537941900298,
          0.8699537941900298,
          0.8699537941900298,
          0.8699537941900298,
          0.8699537941900298,
          0.8699537941900298,
          0.8699537941900298,
          0.8699537941900298,
          0.8699537941900298,
          0.8699537941900298,
          0.8699537941900298,
          0.8699537941900298,
          0.8699537941900298,
          0.8699537941900298,
          0.8699537941900298,
          0.8699537941900298,
          0.8699537941900298,
          0.8699537941900298,
          0.8699537941900298,
          0.8699537941900298,
          0.8699537941900298,
          0.8699537941900298,
          0.8699537941900298,
          0.8699537941900298,
          0.8699537941900298,
          0.8699537941900298,
          0.8699537941900298,
          0.8699537941900298,
          0.8699537941900298,
          0.8699537941900298,
          0.8699537941900298,
          0.8699537941900298,
          0.8699537941900298,
          0.8699537941900298,
          0.8699537941900298,
          0.8699537941900298,
          0.8699537941900298,
          0.8699537941900298,
          0.8699537941900298,
          0.8699537941900298,
          0.8699537941900298,
          0.8699537941900298,
          0.8699537941900298,
          0.8699537941900298,
          0.8699537941900298,
          0.8699537941900298,
          0.8699537941900298,
          0.8699537941900298,
          0.8699537941900298,
          0.8699537941900298,
          0.8699537941900298,
          0.8699537941900298,
          0.8699537941900298,
          0.8699537941900298,
          0.8699537941900298,
          0.8699537941900298,
          0.8699537941900298,
          0.8699537941900298,
          0.8699537941900298,
          0.8699537941900298,
          0.8699537941900298,
          0.8699537941900298,
          0.8699537941900298,
          0.8699537941900298,
          0.8699537941900298,
          0.8699537941900298,
          0.8699537941900298,
          0.8699537941900298,
          0.8699537941900298,
          0.8699537941900298,
          0.8699537941900298,
          0.8699537941900298,
          0.8699537941900298,
          0.8699537941900298,
          0.8699537941900298,
          0.8699537941900298,
          0.8699537941900298,
          0.8699537941900298,
          0.8699537941900298,
          0.8699537941900298,
          0.8699537941900298,
          0.8699537941900298,
          0.8699537941900298,
          0.8699537941900298,
          0.8699537941900298,
          0.8699537941900298,
          0.8699537941900298,
          0.8699537941900298,
          0.8699537941900298,
          0.8699537941900298,
          0.8699537941900298,
          0.8699537941900298,
          0.8699537941900298,
          0.8699537941900298,
          0.8699537941900298,
          0.8699537941900298,
          0.8699537941900298,
          0.8699537941900298,
          0.8699537941900298,
          0.8699537941900298,
          0.8699537941900298,
          0.8699537941900298,
          0.8699537941900298,
          0.8699537941900298
         ]
        },
        {
         "marker": {
          "color": "#cccccc"
         },
         "mode": "markers",
         "name": "Infeasible Trial",
         "showlegend": false,
         "type": "scatter",
         "x": [],
         "y": []
        }
       ],
       "layout": {
        "template": {
         "data": {
          "bar": [
           {
            "error_x": {
             "color": "#2a3f5f"
            },
            "error_y": {
             "color": "#2a3f5f"
            },
            "marker": {
             "line": {
              "color": "#E5ECF6",
              "width": 0.5
             },
             "pattern": {
              "fillmode": "overlay",
              "size": 10,
              "solidity": 0.2
             }
            },
            "type": "bar"
           }
          ],
          "barpolar": [
           {
            "marker": {
             "line": {
              "color": "#E5ECF6",
              "width": 0.5
             },
             "pattern": {
              "fillmode": "overlay",
              "size": 10,
              "solidity": 0.2
             }
            },
            "type": "barpolar"
           }
          ],
          "carpet": [
           {
            "aaxis": {
             "endlinecolor": "#2a3f5f",
             "gridcolor": "white",
             "linecolor": "white",
             "minorgridcolor": "white",
             "startlinecolor": "#2a3f5f"
            },
            "baxis": {
             "endlinecolor": "#2a3f5f",
             "gridcolor": "white",
             "linecolor": "white",
             "minorgridcolor": "white",
             "startlinecolor": "#2a3f5f"
            },
            "type": "carpet"
           }
          ],
          "choropleth": [
           {
            "colorbar": {
             "outlinewidth": 0,
             "ticks": ""
            },
            "type": "choropleth"
           }
          ],
          "contour": [
           {
            "colorbar": {
             "outlinewidth": 0,
             "ticks": ""
            },
            "colorscale": [
             [
              0,
              "#0d0887"
             ],
             [
              0.1111111111111111,
              "#46039f"
             ],
             [
              0.2222222222222222,
              "#7201a8"
             ],
             [
              0.3333333333333333,
              "#9c179e"
             ],
             [
              0.4444444444444444,
              "#bd3786"
             ],
             [
              0.5555555555555556,
              "#d8576b"
             ],
             [
              0.6666666666666666,
              "#ed7953"
             ],
             [
              0.7777777777777778,
              "#fb9f3a"
             ],
             [
              0.8888888888888888,
              "#fdca26"
             ],
             [
              1,
              "#f0f921"
             ]
            ],
            "type": "contour"
           }
          ],
          "contourcarpet": [
           {
            "colorbar": {
             "outlinewidth": 0,
             "ticks": ""
            },
            "type": "contourcarpet"
           }
          ],
          "heatmap": [
           {
            "colorbar": {
             "outlinewidth": 0,
             "ticks": ""
            },
            "colorscale": [
             [
              0,
              "#0d0887"
             ],
             [
              0.1111111111111111,
              "#46039f"
             ],
             [
              0.2222222222222222,
              "#7201a8"
             ],
             [
              0.3333333333333333,
              "#9c179e"
             ],
             [
              0.4444444444444444,
              "#bd3786"
             ],
             [
              0.5555555555555556,
              "#d8576b"
             ],
             [
              0.6666666666666666,
              "#ed7953"
             ],
             [
              0.7777777777777778,
              "#fb9f3a"
             ],
             [
              0.8888888888888888,
              "#fdca26"
             ],
             [
              1,
              "#f0f921"
             ]
            ],
            "type": "heatmap"
           }
          ],
          "heatmapgl": [
           {
            "colorbar": {
             "outlinewidth": 0,
             "ticks": ""
            },
            "colorscale": [
             [
              0,
              "#0d0887"
             ],
             [
              0.1111111111111111,
              "#46039f"
             ],
             [
              0.2222222222222222,
              "#7201a8"
             ],
             [
              0.3333333333333333,
              "#9c179e"
             ],
             [
              0.4444444444444444,
              "#bd3786"
             ],
             [
              0.5555555555555556,
              "#d8576b"
             ],
             [
              0.6666666666666666,
              "#ed7953"
             ],
             [
              0.7777777777777778,
              "#fb9f3a"
             ],
             [
              0.8888888888888888,
              "#fdca26"
             ],
             [
              1,
              "#f0f921"
             ]
            ],
            "type": "heatmapgl"
           }
          ],
          "histogram": [
           {
            "marker": {
             "pattern": {
              "fillmode": "overlay",
              "size": 10,
              "solidity": 0.2
             }
            },
            "type": "histogram"
           }
          ],
          "histogram2d": [
           {
            "colorbar": {
             "outlinewidth": 0,
             "ticks": ""
            },
            "colorscale": [
             [
              0,
              "#0d0887"
             ],
             [
              0.1111111111111111,
              "#46039f"
             ],
             [
              0.2222222222222222,
              "#7201a8"
             ],
             [
              0.3333333333333333,
              "#9c179e"
             ],
             [
              0.4444444444444444,
              "#bd3786"
             ],
             [
              0.5555555555555556,
              "#d8576b"
             ],
             [
              0.6666666666666666,
              "#ed7953"
             ],
             [
              0.7777777777777778,
              "#fb9f3a"
             ],
             [
              0.8888888888888888,
              "#fdca26"
             ],
             [
              1,
              "#f0f921"
             ]
            ],
            "type": "histogram2d"
           }
          ],
          "histogram2dcontour": [
           {
            "colorbar": {
             "outlinewidth": 0,
             "ticks": ""
            },
            "colorscale": [
             [
              0,
              "#0d0887"
             ],
             [
              0.1111111111111111,
              "#46039f"
             ],
             [
              0.2222222222222222,
              "#7201a8"
             ],
             [
              0.3333333333333333,
              "#9c179e"
             ],
             [
              0.4444444444444444,
              "#bd3786"
             ],
             [
              0.5555555555555556,
              "#d8576b"
             ],
             [
              0.6666666666666666,
              "#ed7953"
             ],
             [
              0.7777777777777778,
              "#fb9f3a"
             ],
             [
              0.8888888888888888,
              "#fdca26"
             ],
             [
              1,
              "#f0f921"
             ]
            ],
            "type": "histogram2dcontour"
           }
          ],
          "mesh3d": [
           {
            "colorbar": {
             "outlinewidth": 0,
             "ticks": ""
            },
            "type": "mesh3d"
           }
          ],
          "parcoords": [
           {
            "line": {
             "colorbar": {
              "outlinewidth": 0,
              "ticks": ""
             }
            },
            "type": "parcoords"
           }
          ],
          "pie": [
           {
            "automargin": true,
            "type": "pie"
           }
          ],
          "scatter": [
           {
            "fillpattern": {
             "fillmode": "overlay",
             "size": 10,
             "solidity": 0.2
            },
            "type": "scatter"
           }
          ],
          "scatter3d": [
           {
            "line": {
             "colorbar": {
              "outlinewidth": 0,
              "ticks": ""
             }
            },
            "marker": {
             "colorbar": {
              "outlinewidth": 0,
              "ticks": ""
             }
            },
            "type": "scatter3d"
           }
          ],
          "scattercarpet": [
           {
            "marker": {
             "colorbar": {
              "outlinewidth": 0,
              "ticks": ""
             }
            },
            "type": "scattercarpet"
           }
          ],
          "scattergeo": [
           {
            "marker": {
             "colorbar": {
              "outlinewidth": 0,
              "ticks": ""
             }
            },
            "type": "scattergeo"
           }
          ],
          "scattergl": [
           {
            "marker": {
             "colorbar": {
              "outlinewidth": 0,
              "ticks": ""
             }
            },
            "type": "scattergl"
           }
          ],
          "scattermapbox": [
           {
            "marker": {
             "colorbar": {
              "outlinewidth": 0,
              "ticks": ""
             }
            },
            "type": "scattermapbox"
           }
          ],
          "scatterpolar": [
           {
            "marker": {
             "colorbar": {
              "outlinewidth": 0,
              "ticks": ""
             }
            },
            "type": "scatterpolar"
           }
          ],
          "scatterpolargl": [
           {
            "marker": {
             "colorbar": {
              "outlinewidth": 0,
              "ticks": ""
             }
            },
            "type": "scatterpolargl"
           }
          ],
          "scatterternary": [
           {
            "marker": {
             "colorbar": {
              "outlinewidth": 0,
              "ticks": ""
             }
            },
            "type": "scatterternary"
           }
          ],
          "surface": [
           {
            "colorbar": {
             "outlinewidth": 0,
             "ticks": ""
            },
            "colorscale": [
             [
              0,
              "#0d0887"
             ],
             [
              0.1111111111111111,
              "#46039f"
             ],
             [
              0.2222222222222222,
              "#7201a8"
             ],
             [
              0.3333333333333333,
              "#9c179e"
             ],
             [
              0.4444444444444444,
              "#bd3786"
             ],
             [
              0.5555555555555556,
              "#d8576b"
             ],
             [
              0.6666666666666666,
              "#ed7953"
             ],
             [
              0.7777777777777778,
              "#fb9f3a"
             ],
             [
              0.8888888888888888,
              "#fdca26"
             ],
             [
              1,
              "#f0f921"
             ]
            ],
            "type": "surface"
           }
          ],
          "table": [
           {
            "cells": {
             "fill": {
              "color": "#EBF0F8"
             },
             "line": {
              "color": "white"
             }
            },
            "header": {
             "fill": {
              "color": "#C8D4E3"
             },
             "line": {
              "color": "white"
             }
            },
            "type": "table"
           }
          ]
         },
         "layout": {
          "annotationdefaults": {
           "arrowcolor": "#2a3f5f",
           "arrowhead": 0,
           "arrowwidth": 1
          },
          "autotypenumbers": "strict",
          "coloraxis": {
           "colorbar": {
            "outlinewidth": 0,
            "ticks": ""
           }
          },
          "colorscale": {
           "diverging": [
            [
             0,
             "#8e0152"
            ],
            [
             0.1,
             "#c51b7d"
            ],
            [
             0.2,
             "#de77ae"
            ],
            [
             0.3,
             "#f1b6da"
            ],
            [
             0.4,
             "#fde0ef"
            ],
            [
             0.5,
             "#f7f7f7"
            ],
            [
             0.6,
             "#e6f5d0"
            ],
            [
             0.7,
             "#b8e186"
            ],
            [
             0.8,
             "#7fbc41"
            ],
            [
             0.9,
             "#4d9221"
            ],
            [
             1,
             "#276419"
            ]
           ],
           "sequential": [
            [
             0,
             "#0d0887"
            ],
            [
             0.1111111111111111,
             "#46039f"
            ],
            [
             0.2222222222222222,
             "#7201a8"
            ],
            [
             0.3333333333333333,
             "#9c179e"
            ],
            [
             0.4444444444444444,
             "#bd3786"
            ],
            [
             0.5555555555555556,
             "#d8576b"
            ],
            [
             0.6666666666666666,
             "#ed7953"
            ],
            [
             0.7777777777777778,
             "#fb9f3a"
            ],
            [
             0.8888888888888888,
             "#fdca26"
            ],
            [
             1,
             "#f0f921"
            ]
           ],
           "sequentialminus": [
            [
             0,
             "#0d0887"
            ],
            [
             0.1111111111111111,
             "#46039f"
            ],
            [
             0.2222222222222222,
             "#7201a8"
            ],
            [
             0.3333333333333333,
             "#9c179e"
            ],
            [
             0.4444444444444444,
             "#bd3786"
            ],
            [
             0.5555555555555556,
             "#d8576b"
            ],
            [
             0.6666666666666666,
             "#ed7953"
            ],
            [
             0.7777777777777778,
             "#fb9f3a"
            ],
            [
             0.8888888888888888,
             "#fdca26"
            ],
            [
             1,
             "#f0f921"
            ]
           ]
          },
          "colorway": [
           "#636efa",
           "#EF553B",
           "#00cc96",
           "#ab63fa",
           "#FFA15A",
           "#19d3f3",
           "#FF6692",
           "#B6E880",
           "#FF97FF",
           "#FECB52"
          ],
          "font": {
           "color": "#2a3f5f"
          },
          "geo": {
           "bgcolor": "white",
           "lakecolor": "white",
           "landcolor": "#E5ECF6",
           "showlakes": true,
           "showland": true,
           "subunitcolor": "white"
          },
          "hoverlabel": {
           "align": "left"
          },
          "hovermode": "closest",
          "mapbox": {
           "style": "light"
          },
          "paper_bgcolor": "white",
          "plot_bgcolor": "#E5ECF6",
          "polar": {
           "angularaxis": {
            "gridcolor": "white",
            "linecolor": "white",
            "ticks": ""
           },
           "bgcolor": "#E5ECF6",
           "radialaxis": {
            "gridcolor": "white",
            "linecolor": "white",
            "ticks": ""
           }
          },
          "scene": {
           "xaxis": {
            "backgroundcolor": "#E5ECF6",
            "gridcolor": "white",
            "gridwidth": 2,
            "linecolor": "white",
            "showbackground": true,
            "ticks": "",
            "zerolinecolor": "white"
           },
           "yaxis": {
            "backgroundcolor": "#E5ECF6",
            "gridcolor": "white",
            "gridwidth": 2,
            "linecolor": "white",
            "showbackground": true,
            "ticks": "",
            "zerolinecolor": "white"
           },
           "zaxis": {
            "backgroundcolor": "#E5ECF6",
            "gridcolor": "white",
            "gridwidth": 2,
            "linecolor": "white",
            "showbackground": true,
            "ticks": "",
            "zerolinecolor": "white"
           }
          },
          "shapedefaults": {
           "line": {
            "color": "#2a3f5f"
           }
          },
          "ternary": {
           "aaxis": {
            "gridcolor": "white",
            "linecolor": "white",
            "ticks": ""
           },
           "baxis": {
            "gridcolor": "white",
            "linecolor": "white",
            "ticks": ""
           },
           "bgcolor": "#E5ECF6",
           "caxis": {
            "gridcolor": "white",
            "linecolor": "white",
            "ticks": ""
           }
          },
          "title": {
           "x": 0.05
          },
          "xaxis": {
           "automargin": true,
           "gridcolor": "white",
           "linecolor": "white",
           "ticks": "",
           "title": {
            "standoff": 15
           },
           "zerolinecolor": "white",
           "zerolinewidth": 2
          },
          "yaxis": {
           "automargin": true,
           "gridcolor": "white",
           "linecolor": "white",
           "ticks": "",
           "title": {
            "standoff": 15
           },
           "zerolinecolor": "white",
           "zerolinewidth": 2
          }
         }
        },
        "title": {
         "text": "Optimization History Plot"
        },
        "xaxis": {
         "title": {
          "text": "Trial"
         }
        },
        "yaxis": {
         "title": {
          "text": "Objective Value"
         }
        }
       }
      }
     },
     "metadata": {},
     "output_type": "display_data"
    }
   ],
   "source": [
    "# Plot optimization history\n",
    "plot_optimization_history(study)"
   ]
  },
  {
   "cell_type": "code",
   "execution_count": 11,
   "id": "07037d73",
   "metadata": {},
   "outputs": [
    {
     "data": {
      "application/vnd.plotly.v1+json": {
       "config": {
        "plotlyServerURL": "https://plot.ly"
       },
       "data": [
        {
         "cliponaxis": false,
         "hovertemplate": [
          "n_estimators (IntDistribution): 0.00516751200464048<extra></extra>",
          "max_depth (IntDistribution): 0.006555706413953314<extra></extra>",
          "learning_rate (FloatDistribution): 0.018711839287938736<extra></extra>",
          "subsample (FloatDistribution): 0.9695649422934676<extra></extra>"
         ],
         "name": "Objective Value",
         "orientation": "h",
         "text": [
          "<0.01",
          "<0.01",
          "0.02",
          "0.97"
         ],
         "textposition": "outside",
         "type": "bar",
         "x": [
          0.00516751200464048,
          0.006555706413953314,
          0.018711839287938736,
          0.9695649422934676
         ],
         "y": [
          "n_estimators",
          "max_depth",
          "learning_rate",
          "subsample"
         ]
        }
       ],
       "layout": {
        "template": {
         "data": {
          "bar": [
           {
            "error_x": {
             "color": "#2a3f5f"
            },
            "error_y": {
             "color": "#2a3f5f"
            },
            "marker": {
             "line": {
              "color": "#E5ECF6",
              "width": 0.5
             },
             "pattern": {
              "fillmode": "overlay",
              "size": 10,
              "solidity": 0.2
             }
            },
            "type": "bar"
           }
          ],
          "barpolar": [
           {
            "marker": {
             "line": {
              "color": "#E5ECF6",
              "width": 0.5
             },
             "pattern": {
              "fillmode": "overlay",
              "size": 10,
              "solidity": 0.2
             }
            },
            "type": "barpolar"
           }
          ],
          "carpet": [
           {
            "aaxis": {
             "endlinecolor": "#2a3f5f",
             "gridcolor": "white",
             "linecolor": "white",
             "minorgridcolor": "white",
             "startlinecolor": "#2a3f5f"
            },
            "baxis": {
             "endlinecolor": "#2a3f5f",
             "gridcolor": "white",
             "linecolor": "white",
             "minorgridcolor": "white",
             "startlinecolor": "#2a3f5f"
            },
            "type": "carpet"
           }
          ],
          "choropleth": [
           {
            "colorbar": {
             "outlinewidth": 0,
             "ticks": ""
            },
            "type": "choropleth"
           }
          ],
          "contour": [
           {
            "colorbar": {
             "outlinewidth": 0,
             "ticks": ""
            },
            "colorscale": [
             [
              0,
              "#0d0887"
             ],
             [
              0.1111111111111111,
              "#46039f"
             ],
             [
              0.2222222222222222,
              "#7201a8"
             ],
             [
              0.3333333333333333,
              "#9c179e"
             ],
             [
              0.4444444444444444,
              "#bd3786"
             ],
             [
              0.5555555555555556,
              "#d8576b"
             ],
             [
              0.6666666666666666,
              "#ed7953"
             ],
             [
              0.7777777777777778,
              "#fb9f3a"
             ],
             [
              0.8888888888888888,
              "#fdca26"
             ],
             [
              1,
              "#f0f921"
             ]
            ],
            "type": "contour"
           }
          ],
          "contourcarpet": [
           {
            "colorbar": {
             "outlinewidth": 0,
             "ticks": ""
            },
            "type": "contourcarpet"
           }
          ],
          "heatmap": [
           {
            "colorbar": {
             "outlinewidth": 0,
             "ticks": ""
            },
            "colorscale": [
             [
              0,
              "#0d0887"
             ],
             [
              0.1111111111111111,
              "#46039f"
             ],
             [
              0.2222222222222222,
              "#7201a8"
             ],
             [
              0.3333333333333333,
              "#9c179e"
             ],
             [
              0.4444444444444444,
              "#bd3786"
             ],
             [
              0.5555555555555556,
              "#d8576b"
             ],
             [
              0.6666666666666666,
              "#ed7953"
             ],
             [
              0.7777777777777778,
              "#fb9f3a"
             ],
             [
              0.8888888888888888,
              "#fdca26"
             ],
             [
              1,
              "#f0f921"
             ]
            ],
            "type": "heatmap"
           }
          ],
          "heatmapgl": [
           {
            "colorbar": {
             "outlinewidth": 0,
             "ticks": ""
            },
            "colorscale": [
             [
              0,
              "#0d0887"
             ],
             [
              0.1111111111111111,
              "#46039f"
             ],
             [
              0.2222222222222222,
              "#7201a8"
             ],
             [
              0.3333333333333333,
              "#9c179e"
             ],
             [
              0.4444444444444444,
              "#bd3786"
             ],
             [
              0.5555555555555556,
              "#d8576b"
             ],
             [
              0.6666666666666666,
              "#ed7953"
             ],
             [
              0.7777777777777778,
              "#fb9f3a"
             ],
             [
              0.8888888888888888,
              "#fdca26"
             ],
             [
              1,
              "#f0f921"
             ]
            ],
            "type": "heatmapgl"
           }
          ],
          "histogram": [
           {
            "marker": {
             "pattern": {
              "fillmode": "overlay",
              "size": 10,
              "solidity": 0.2
             }
            },
            "type": "histogram"
           }
          ],
          "histogram2d": [
           {
            "colorbar": {
             "outlinewidth": 0,
             "ticks": ""
            },
            "colorscale": [
             [
              0,
              "#0d0887"
             ],
             [
              0.1111111111111111,
              "#46039f"
             ],
             [
              0.2222222222222222,
              "#7201a8"
             ],
             [
              0.3333333333333333,
              "#9c179e"
             ],
             [
              0.4444444444444444,
              "#bd3786"
             ],
             [
              0.5555555555555556,
              "#d8576b"
             ],
             [
              0.6666666666666666,
              "#ed7953"
             ],
             [
              0.7777777777777778,
              "#fb9f3a"
             ],
             [
              0.8888888888888888,
              "#fdca26"
             ],
             [
              1,
              "#f0f921"
             ]
            ],
            "type": "histogram2d"
           }
          ],
          "histogram2dcontour": [
           {
            "colorbar": {
             "outlinewidth": 0,
             "ticks": ""
            },
            "colorscale": [
             [
              0,
              "#0d0887"
             ],
             [
              0.1111111111111111,
              "#46039f"
             ],
             [
              0.2222222222222222,
              "#7201a8"
             ],
             [
              0.3333333333333333,
              "#9c179e"
             ],
             [
              0.4444444444444444,
              "#bd3786"
             ],
             [
              0.5555555555555556,
              "#d8576b"
             ],
             [
              0.6666666666666666,
              "#ed7953"
             ],
             [
              0.7777777777777778,
              "#fb9f3a"
             ],
             [
              0.8888888888888888,
              "#fdca26"
             ],
             [
              1,
              "#f0f921"
             ]
            ],
            "type": "histogram2dcontour"
           }
          ],
          "mesh3d": [
           {
            "colorbar": {
             "outlinewidth": 0,
             "ticks": ""
            },
            "type": "mesh3d"
           }
          ],
          "parcoords": [
           {
            "line": {
             "colorbar": {
              "outlinewidth": 0,
              "ticks": ""
             }
            },
            "type": "parcoords"
           }
          ],
          "pie": [
           {
            "automargin": true,
            "type": "pie"
           }
          ],
          "scatter": [
           {
            "fillpattern": {
             "fillmode": "overlay",
             "size": 10,
             "solidity": 0.2
            },
            "type": "scatter"
           }
          ],
          "scatter3d": [
           {
            "line": {
             "colorbar": {
              "outlinewidth": 0,
              "ticks": ""
             }
            },
            "marker": {
             "colorbar": {
              "outlinewidth": 0,
              "ticks": ""
             }
            },
            "type": "scatter3d"
           }
          ],
          "scattercarpet": [
           {
            "marker": {
             "colorbar": {
              "outlinewidth": 0,
              "ticks": ""
             }
            },
            "type": "scattercarpet"
           }
          ],
          "scattergeo": [
           {
            "marker": {
             "colorbar": {
              "outlinewidth": 0,
              "ticks": ""
             }
            },
            "type": "scattergeo"
           }
          ],
          "scattergl": [
           {
            "marker": {
             "colorbar": {
              "outlinewidth": 0,
              "ticks": ""
             }
            },
            "type": "scattergl"
           }
          ],
          "scattermapbox": [
           {
            "marker": {
             "colorbar": {
              "outlinewidth": 0,
              "ticks": ""
             }
            },
            "type": "scattermapbox"
           }
          ],
          "scatterpolar": [
           {
            "marker": {
             "colorbar": {
              "outlinewidth": 0,
              "ticks": ""
             }
            },
            "type": "scatterpolar"
           }
          ],
          "scatterpolargl": [
           {
            "marker": {
             "colorbar": {
              "outlinewidth": 0,
              "ticks": ""
             }
            },
            "type": "scatterpolargl"
           }
          ],
          "scatterternary": [
           {
            "marker": {
             "colorbar": {
              "outlinewidth": 0,
              "ticks": ""
             }
            },
            "type": "scatterternary"
           }
          ],
          "surface": [
           {
            "colorbar": {
             "outlinewidth": 0,
             "ticks": ""
            },
            "colorscale": [
             [
              0,
              "#0d0887"
             ],
             [
              0.1111111111111111,
              "#46039f"
             ],
             [
              0.2222222222222222,
              "#7201a8"
             ],
             [
              0.3333333333333333,
              "#9c179e"
             ],
             [
              0.4444444444444444,
              "#bd3786"
             ],
             [
              0.5555555555555556,
              "#d8576b"
             ],
             [
              0.6666666666666666,
              "#ed7953"
             ],
             [
              0.7777777777777778,
              "#fb9f3a"
             ],
             [
              0.8888888888888888,
              "#fdca26"
             ],
             [
              1,
              "#f0f921"
             ]
            ],
            "type": "surface"
           }
          ],
          "table": [
           {
            "cells": {
             "fill": {
              "color": "#EBF0F8"
             },
             "line": {
              "color": "white"
             }
            },
            "header": {
             "fill": {
              "color": "#C8D4E3"
             },
             "line": {
              "color": "white"
             }
            },
            "type": "table"
           }
          ]
         },
         "layout": {
          "annotationdefaults": {
           "arrowcolor": "#2a3f5f",
           "arrowhead": 0,
           "arrowwidth": 1
          },
          "autotypenumbers": "strict",
          "coloraxis": {
           "colorbar": {
            "outlinewidth": 0,
            "ticks": ""
           }
          },
          "colorscale": {
           "diverging": [
            [
             0,
             "#8e0152"
            ],
            [
             0.1,
             "#c51b7d"
            ],
            [
             0.2,
             "#de77ae"
            ],
            [
             0.3,
             "#f1b6da"
            ],
            [
             0.4,
             "#fde0ef"
            ],
            [
             0.5,
             "#f7f7f7"
            ],
            [
             0.6,
             "#e6f5d0"
            ],
            [
             0.7,
             "#b8e186"
            ],
            [
             0.8,
             "#7fbc41"
            ],
            [
             0.9,
             "#4d9221"
            ],
            [
             1,
             "#276419"
            ]
           ],
           "sequential": [
            [
             0,
             "#0d0887"
            ],
            [
             0.1111111111111111,
             "#46039f"
            ],
            [
             0.2222222222222222,
             "#7201a8"
            ],
            [
             0.3333333333333333,
             "#9c179e"
            ],
            [
             0.4444444444444444,
             "#bd3786"
            ],
            [
             0.5555555555555556,
             "#d8576b"
            ],
            [
             0.6666666666666666,
             "#ed7953"
            ],
            [
             0.7777777777777778,
             "#fb9f3a"
            ],
            [
             0.8888888888888888,
             "#fdca26"
            ],
            [
             1,
             "#f0f921"
            ]
           ],
           "sequentialminus": [
            [
             0,
             "#0d0887"
            ],
            [
             0.1111111111111111,
             "#46039f"
            ],
            [
             0.2222222222222222,
             "#7201a8"
            ],
            [
             0.3333333333333333,
             "#9c179e"
            ],
            [
             0.4444444444444444,
             "#bd3786"
            ],
            [
             0.5555555555555556,
             "#d8576b"
            ],
            [
             0.6666666666666666,
             "#ed7953"
            ],
            [
             0.7777777777777778,
             "#fb9f3a"
            ],
            [
             0.8888888888888888,
             "#fdca26"
            ],
            [
             1,
             "#f0f921"
            ]
           ]
          },
          "colorway": [
           "#636efa",
           "#EF553B",
           "#00cc96",
           "#ab63fa",
           "#FFA15A",
           "#19d3f3",
           "#FF6692",
           "#B6E880",
           "#FF97FF",
           "#FECB52"
          ],
          "font": {
           "color": "#2a3f5f"
          },
          "geo": {
           "bgcolor": "white",
           "lakecolor": "white",
           "landcolor": "#E5ECF6",
           "showlakes": true,
           "showland": true,
           "subunitcolor": "white"
          },
          "hoverlabel": {
           "align": "left"
          },
          "hovermode": "closest",
          "mapbox": {
           "style": "light"
          },
          "paper_bgcolor": "white",
          "plot_bgcolor": "#E5ECF6",
          "polar": {
           "angularaxis": {
            "gridcolor": "white",
            "linecolor": "white",
            "ticks": ""
           },
           "bgcolor": "#E5ECF6",
           "radialaxis": {
            "gridcolor": "white",
            "linecolor": "white",
            "ticks": ""
           }
          },
          "scene": {
           "xaxis": {
            "backgroundcolor": "#E5ECF6",
            "gridcolor": "white",
            "gridwidth": 2,
            "linecolor": "white",
            "showbackground": true,
            "ticks": "",
            "zerolinecolor": "white"
           },
           "yaxis": {
            "backgroundcolor": "#E5ECF6",
            "gridcolor": "white",
            "gridwidth": 2,
            "linecolor": "white",
            "showbackground": true,
            "ticks": "",
            "zerolinecolor": "white"
           },
           "zaxis": {
            "backgroundcolor": "#E5ECF6",
            "gridcolor": "white",
            "gridwidth": 2,
            "linecolor": "white",
            "showbackground": true,
            "ticks": "",
            "zerolinecolor": "white"
           }
          },
          "shapedefaults": {
           "line": {
            "color": "#2a3f5f"
           }
          },
          "ternary": {
           "aaxis": {
            "gridcolor": "white",
            "linecolor": "white",
            "ticks": ""
           },
           "baxis": {
            "gridcolor": "white",
            "linecolor": "white",
            "ticks": ""
           },
           "bgcolor": "#E5ECF6",
           "caxis": {
            "gridcolor": "white",
            "linecolor": "white",
            "ticks": ""
           }
          },
          "title": {
           "x": 0.05
          },
          "xaxis": {
           "automargin": true,
           "gridcolor": "white",
           "linecolor": "white",
           "ticks": "",
           "title": {
            "standoff": 15
           },
           "zerolinecolor": "white",
           "zerolinewidth": 2
          },
          "yaxis": {
           "automargin": true,
           "gridcolor": "white",
           "linecolor": "white",
           "ticks": "",
           "title": {
            "standoff": 15
           },
           "zerolinecolor": "white",
           "zerolinewidth": 2
          }
         }
        },
        "title": {
         "text": "Hyperparameter Importances"
        },
        "xaxis": {
         "title": {
          "text": "Hyperparameter Importance"
         }
        },
        "yaxis": {
         "title": {
          "text": "Hyperparameter"
         }
        }
       }
      }
     },
     "metadata": {},
     "output_type": "display_data"
    }
   ],
   "source": [
    "# Plot parameter importances\n",
    "plot_param_importances(study)"
   ]
  },
  {
   "cell_type": "code",
   "execution_count": 12,
   "id": "e8f4d4d6",
   "metadata": {},
   "outputs": [
    {
     "name": "stdout",
     "output_type": "stream",
     "text": [
      "        n_estimators : 110\n",
      "       learning_rate : 0.12568896915364217\n",
      "           max_depth : 10\n",
      "           subsample : 0.5134582351422102\n",
      "best objective value : 0.8699537941900298\n"
     ]
    }
   ],
   "source": [
    "hp = study.best_params\n",
    "\n",
    "for key, value in hp.items():\n",
    "    print(f\"{key:>20s} : {value}\")\n",
    "print(f\"{'best objective value':>20s} : {study.best_value}\")\n",
    "\n",
    "hp[\"verbosity\"] = 0\n",
    "hp[\"objective\"] = \"reg:squarederror\"\n",
    "hp[\"tree_method\"] = \"hist\"\n",
    "hp[\"seed\"] = RS\n",
    "hp[\"n_jobs\"] = N_JOBS"
   ]
  },
  {
   "cell_type": "code",
   "execution_count": 13,
   "id": "d1c07beb",
   "metadata": {},
   "outputs": [],
   "source": [
    "model = xgb.XGBRegressor(**hp, eval_metric=\"rmse\",early_stopping_rounds = EARLY_STOPPING_ROUNDS)\n",
    "rkf = RepeatedKFold(n_splits=N_SPLITS, n_repeats=N_REPEATS, random_state=RS)\n",
    "X_values = X_train.values\n",
    "y_values = y_train.values\n",
    "y_pred = np.zeros_like(y_test.values)\n",
    "for train_index, test_index in rkf.split(X_values):\n",
    "    X_A, X_B = X_values[train_index, :], X_values[test_index, :]\n",
    "    y_A, y_B = y_values[train_index], y_values[test_index]\n",
    "    model.fit(\n",
    "        X_A,\n",
    "        y_A,\n",
    "        eval_set=[(X_B, y_B)],\n",
    "        verbose=0,\n",
    "    )\n",
    "    y_pred += model.predict(X_test.values)\n",
    "y_pred /= N_REPEATS * N_SPLITS"
   ]
  },
  {
   "cell_type": "code",
   "execution_count": 14,
   "id": "0a3b1923",
   "metadata": {},
   "outputs": [],
   "source": [
    "score, mse = r2_score(y_true=y_test, y_pred=y_pred), mean_squared_error(y_true=y_test, y_pred=y_pred)"
   ]
  },
  {
   "cell_type": "code",
   "execution_count": 15,
   "id": "233330a8",
   "metadata": {},
   "outputs": [
    {
     "data": {
      "image/png": "[encoded data removed]",
      "text/plain": [
       "<Figure size 1525.59x1525.59 with 1 Axes>"
      ]
     },
     "metadata": {},
     "output_type": "display_data"
    }
   ],
   "source": [
    "from sklearn.metrics import PredictionErrorDisplay\n",
    "\n",
    "figsize= (15.5/2*cm, 15.5/2*cm)\n",
    "\n",
    "y_true = y_test\n",
    "y_pred = pd.DataFrame(y_pred)\n",
    "\n",
    "\n",
    "# Define plot structure\n",
    "fig, axs = plt.subplots(nrows=1, ncols=1, figsize=figsize, dpi=500)\n",
    "\n",
    "ped = PredictionErrorDisplay.from_predictions(y_true=y_true,\n",
    "                                            y_pred=y_pred,\n",
    "                                            kind=\"actual_vs_predicted\",\n",
    "                                            subsample=100000,\n",
    "                                            ax=axs,\n",
    "                                            random_state=0, \n",
    "                                            line_kwargs={\"color\": \"black\", \"linewidth\": 0.75, \"linestyle\": \"--\", \"alpha\": 1},)\n",
    "\n",
    "ped.ax_.set_xlabel(\"\")  # Set x label\n",
    "ped.ax_.set_ylabel(\"\")  # Set y label\n",
    "\n",
    "xlim, ylim = axis_limit[j][0], axis_limit[j][1]\n",
    "\n",
    "ped.ax_.set_xticks(np.arange(xlim, ylim+0.001, (ylim-xlim)/4))\n",
    "ped.ax_.set_yticks(np.arange(xlim, ylim+0.001, (ylim-xlim)/4))\n",
    "\n",
    "\n",
    "ped.ax_.grid(linewidth = 0.5, linestyle = 'dotted')\n",
    "\n",
    "scatter = ped.figure_.axes[0].collections[0]\n",
    "scatter.set_color('gray')  \n",
    "scatter.set_sizes([5]) \n",
    "scatter.set_alpha([0.5]) \n",
    "\n",
    "plt.title(f'{investigated_column_plot}: $R^2$ = {score:.4f}, $MSE$ = {mse:.4f}', x = 0.5, y=1.0)  \n",
    "\n",
    "ax = ped.ax_\n",
    "ax.set_xticks(ax.get_xticks())\n",
    "ax.tick_params(axis='x', rotation=0)\n",
    "\n",
    "fig.text(0.55, 0.03, r'$\\leftarrow$     Predicted data     $\\rightarrow$', ha='center', va='center')\n",
    "fig.text(0.03, 0.5, r'$\\leftarrow$     Actual data     $\\rightarrow$', ha='center', va='center', rotation='vertical')\n",
    "\n",
    "plt.subplots_adjust(left=0.19, right=0.95, top=0.91, bottom=0.15, wspace=0.5, hspace=0.5)\n",
    "plt.savefig(save_path, dpi=1000)"
   ]
  },
  {
   "cell_type": "code",
   "execution_count": 16,
   "id": "76e33465",
   "metadata": {},
   "outputs": [
    {
     "data": {
      "text/plain": [
       "['3_M_prediction_xgb_model.joblib']"
      ]
     },
     "execution_count": 16,
     "metadata": {},
     "output_type": "execute_result"
    }
   ],
   "source": [
    "# Save the model using joblib or pickle\n",
    "import joblib\n",
    "\n",
    "# Fit the model on the entire dataset with the best hyperparameters\n",
    "final_model = xgb.XGBRegressor(**hp, eval_metric=\"rmse\", random_state=RS)\n",
    "\n",
    "# Fit the model on the entire dataset\n",
    "final_model.fit(X, y)\n",
    "\n",
    "name = save_path.split('\\\\')[-1].split('.')[0]\n",
    "joblib.dump(final_model, f'{name}_xgb_model.joblib')\n"
   ]
  }
 ],
 "metadata": {
  "kernelspec": {
   "display_name": "DataDriven",
   "language": "python",
   "name": "python3"
  },
  "language_info": {
   "codemirror_mode": {
    "name": "ipython",
    "version": 3
   },
   "file_extension": ".py",
   "mimetype": "text/x-python",
   "name": "python",
   "nbconvert_exporter": "python",
   "pygments_lexer": "ipython3",
   "version": "3.11.1"
  }
 },
 "nbformat": 4,
 "nbformat_minor": 5
}
